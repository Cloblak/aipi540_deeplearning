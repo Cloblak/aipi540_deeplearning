{
  "nbformat": 4,
  "nbformat_minor": 0,
  "metadata": {
    "colab": {
      "name": "1D_CNN.ipynb",
      "provenance": [],
      "collapsed_sections": [],
      "background_execution": "on",
      "machine_shape": "hm",
      "include_colab_link": true
    },
    "kernelspec": {
      "name": "python3",
      "display_name": "Python 3"
    },
    "language_info": {
      "name": "python"
    },
    "accelerator": "GPU"
  },
  "cells": [
    {
      "cell_type": "markdown",
      "metadata": {
        "id": "view-in-github",
        "colab_type": "text"
      },
      "source": [
        "<a href=\"https://colab.research.google.com/github/Cloblak/aipi540_deeplearning/blob/main/1D_CNN_Attempts/CDT1D_LSTM_CNN_05MAR.ipynb\" target=\"_parent\"><img src=\"https://colab.research.google.com/assets/colab-badge.svg\" alt=\"Open In Colab\"/></a>"
      ]
    },
    {
      "cell_type": "code",
      "source": [
        "!pip install alpaca_trade_api"
      ],
      "metadata": {
        "id": "Xj0pR3efRVrc",
        "colab": {
          "base_uri": "https://localhost:8080/"
        },
        "outputId": "ca011226-cf6c-4489-d168-373254a3655c"
      },
      "execution_count": 123,
      "outputs": [
        {
          "output_type": "stream",
          "name": "stdout",
          "text": [
            "Requirement already satisfied: alpaca_trade_api in /usr/local/lib/python3.7/dist-packages (1.5.1)\n",
            "Requirement already satisfied: requests<3,>2 in /usr/local/lib/python3.7/dist-packages (from alpaca_trade_api) (2.23.0)\n",
            "Requirement already satisfied: websocket-client<2,>=0.56.0 in /usr/local/lib/python3.7/dist-packages (from alpaca_trade_api) (1.3.1)\n",
            "Requirement already satisfied: pandas>=0.18.1 in /usr/local/lib/python3.7/dist-packages (from alpaca_trade_api) (1.3.5)\n",
            "Requirement already satisfied: aiohttp==3.7.4 in /usr/local/lib/python3.7/dist-packages (from alpaca_trade_api) (3.7.4)\n",
            "Requirement already satisfied: PyYAML==6.0 in /usr/local/lib/python3.7/dist-packages (from alpaca_trade_api) (6.0)\n",
            "Requirement already satisfied: websockets<11,>=8.0 in /usr/local/lib/python3.7/dist-packages (from alpaca_trade_api) (10.2)\n",
            "Requirement already satisfied: deprecation==2.1.0 in /usr/local/lib/python3.7/dist-packages (from alpaca_trade_api) (2.1.0)\n",
            "Requirement already satisfied: urllib3<2,>1.24 in /usr/local/lib/python3.7/dist-packages (from alpaca_trade_api) (1.24.3)\n",
            "Requirement already satisfied: msgpack==1.0.2 in /usr/local/lib/python3.7/dist-packages (from alpaca_trade_api) (1.0.2)\n",
            "Requirement already satisfied: numpy>=1.11.1 in /usr/local/lib/python3.7/dist-packages (from alpaca_trade_api) (1.21.5)\n",
            "Requirement already satisfied: multidict<7.0,>=4.5 in /usr/local/lib/python3.7/dist-packages (from aiohttp==3.7.4->alpaca_trade_api) (6.0.2)\n",
            "Requirement already satisfied: typing-extensions>=3.6.5 in /usr/local/lib/python3.7/dist-packages (from aiohttp==3.7.4->alpaca_trade_api) (3.10.0.2)\n",
            "Requirement already satisfied: attrs>=17.3.0 in /usr/local/lib/python3.7/dist-packages (from aiohttp==3.7.4->alpaca_trade_api) (21.4.0)\n",
            "Requirement already satisfied: async-timeout<4.0,>=3.0 in /usr/local/lib/python3.7/dist-packages (from aiohttp==3.7.4->alpaca_trade_api) (3.0.1)\n",
            "Requirement already satisfied: chardet<4.0,>=2.0 in /usr/local/lib/python3.7/dist-packages (from aiohttp==3.7.4->alpaca_trade_api) (3.0.4)\n",
            "Requirement already satisfied: yarl<2.0,>=1.0 in /usr/local/lib/python3.7/dist-packages (from aiohttp==3.7.4->alpaca_trade_api) (1.7.2)\n",
            "Requirement already satisfied: packaging in /usr/local/lib/python3.7/dist-packages (from deprecation==2.1.0->alpaca_trade_api) (21.3)\n",
            "Requirement already satisfied: python-dateutil>=2.7.3 in /usr/local/lib/python3.7/dist-packages (from pandas>=0.18.1->alpaca_trade_api) (2.8.2)\n",
            "Requirement already satisfied: pytz>=2017.3 in /usr/local/lib/python3.7/dist-packages (from pandas>=0.18.1->alpaca_trade_api) (2018.9)\n",
            "Requirement already satisfied: six>=1.5 in /usr/local/lib/python3.7/dist-packages (from python-dateutil>=2.7.3->pandas>=0.18.1->alpaca_trade_api) (1.15.0)\n",
            "Requirement already satisfied: certifi>=2017.4.17 in /usr/local/lib/python3.7/dist-packages (from requests<3,>2->alpaca_trade_api) (2021.10.8)\n",
            "Requirement already satisfied: idna<3,>=2.5 in /usr/local/lib/python3.7/dist-packages (from requests<3,>2->alpaca_trade_api) (2.10)\n",
            "Requirement already satisfied: pyparsing!=3.0.5,>=2.0.2 in /usr/local/lib/python3.7/dist-packages (from packaging->deprecation==2.1.0->alpaca_trade_api) (3.0.7)\n"
          ]
        }
      ]
    },
    {
      "cell_type": "markdown",
      "source": [
        "Features To Consider\n",
        " - Targets are only predicting sell within market hours, i.e. at 1530, target is prediciting price for 1100 the next day.  Data from pre and post market is taken into consideration, and a sell or buy will be indicated if the price will flucuate after close."
      ],
      "metadata": {
        "id": "hdKRKIogGAu6"
      }
    },
    {
      "cell_type": "code",
      "source": [
        "# Import Dependencies\n",
        "import numpy as np\n",
        "import pandas as pd\n",
        "import torch\n",
        "from torch.utils.data import DataLoader, TensorDataset\n",
        "from torch.autograd import Variable\n",
        "from torch.nn import Linear, ReLU, CrossEntropyLoss, Sequential, Conv2d, MaxPool2d, Module, Softmax, BatchNorm2d, Dropout\n",
        "from torch.optim import Adam, SGD\n",
        "from torch.utils.data import DataLoader, TensorDataset\n",
        "from torch.utils.tensorboard import SummaryWriter\n",
        "from torchsummary import summary\n",
        "import torch.nn as nn\n",
        "import torch.nn.functional as F\n",
        "import torch.optim as optim\n",
        "from tqdm.notebook import tqdm\n",
        "import alpaca_trade_api as tradeapi\n",
        "from datetime import datetime, timedelta, tzinfo, timezone, time\n",
        "import os.path\n",
        "import ast\n",
        "import threading\n",
        "import math\n",
        "import seaborn as sns\n",
        "import matplotlib.pyplot as plt\n",
        "from sklearn.model_selection import train_test_split\n",
        "from sklearn.preprocessing import StandardScaler, MinMaxScaler\n",
        "import warnings"
      ],
      "metadata": {
        "id": "J1fWNRnTQZX-"
      },
      "execution_count": 124,
      "outputs": []
    },
    {
      "cell_type": "code",
      "source": [
        "random_seed = 182\n",
        "torch.manual_seed(random_seed)"
      ],
      "metadata": {
        "colab": {
          "base_uri": "https://localhost:8080/"
        },
        "id": "DrI_WR501Iis",
        "outputId": "ae281da8-4fac-426a-bdc6-6683563e31cb"
      },
      "execution_count": 125,
      "outputs": [
        {
          "output_type": "execute_result",
          "data": {
            "text/plain": [
              "<torch._C.Generator at 0x7f87491b55b0>"
            ]
          },
          "metadata": {},
          "execution_count": 125
        }
      ]
    },
    {
      "cell_type": "code",
      "source": [
        "PAPER_API_KEY = \"PKE39LILN9SL1FMJMFV7\"\n",
        "PAPER_SECRET_KEY = \"TkU7fXH6WhP15MewgWlSnQG5RUoHGOPQ7yqlD6xq\"\n",
        "PAPER_BASE_URL = 'https://paper-api.alpaca.markets'"
      ],
      "metadata": {
        "id": "IXnO8ykgRIuv"
      },
      "execution_count": 126,
      "outputs": []
    },
    {
      "cell_type": "code",
      "source": [
        "api = tradeapi.REST(PAPER_API_KEY, PAPER_SECRET_KEY, PAPER_BASE_URL, api_version='v2')"
      ],
      "metadata": {
        "id": "_3XShkLcRQMs"
      },
      "execution_count": 127,
      "outputs": []
    },
    {
      "cell_type": "code",
      "source": [
        "def prepost_train_test_validate_offset_data(api, ticker, interval, train_days=180, test_days=60, validate_days=30, offset_days = 0):\n",
        "    ticker_data_dict = None\n",
        "    ticker_data_dict = {}\n",
        "    monthly_data_dict = None\n",
        "    monthly_data_dict = {}\n",
        "    interval_loop_data = None\n",
        "    interval_loop_data = pd.DataFrame()\n",
        "    stock_data = None\n",
        "    \n",
        "    days_to_collect = train_days + test_days + validate_days + offset_days\n",
        "\n",
        "    TZ = 'US/Eastern'\n",
        "\n",
        "    start = pd.to_datetime((datetime.now() - timedelta(days=days_to_collect)).strftime(\"%Y-%m-%d %H:%M\"), utc=True)\n",
        "    end = pd.to_datetime(datetime.now().strftime(\"%Y-%m-%d %H:%M\"), utc=True)\n",
        "\n",
        "    stock_data = api.get_bars(ticker, interval, start = start.isoformat(), end=end.isoformat(), adjustment=\"raw\").df\n",
        "    \n",
        "    interval_loop_data = interval_loop_data.append(stock_data)\n",
        "    df_start_ref = interval_loop_data.index[0]\n",
        "    start_str_ref = pd.to_datetime(start, utc=True)\n",
        "\n",
        "    while start_str_ref.value < ( pd.to_datetime(df_start_ref, utc=True) - pd.Timedelta(days=2.5)).value:\n",
        "        end_new = pd.to_datetime(interval_loop_data.index[0].strftime(\"%Y-%m-%d %H:%M\"), utc=True).isoformat()\n",
        "        stock_data_new = None\n",
        "        stock_data_new = api.get_bars(ticker, interval, start=start, end=end_new, adjustment=\"raw\").df\n",
        "        #stock_data_new = stock_data_new.reset_index()\n",
        "        interval_loop_data = interval_loop_data.append(stock_data_new).sort_values(by=['index'], ascending=True)\n",
        "        df_start_ref = interval_loop_data.index[0]\n",
        "        \n",
        "    stock_yr_min_df = interval_loop_data.copy()\n",
        "    stock_yr_min_df[\"Open\"] = stock_yr_min_df['open']\n",
        "    stock_yr_min_df[\"High\"]= stock_yr_min_df[\"high\"]\n",
        "    stock_yr_min_df[\"Low\"] = stock_yr_min_df[\"low\"]\n",
        "    stock_yr_min_df[\"Close\"] = stock_yr_min_df[\"close\"]\n",
        "    stock_yr_min_df[\"Volume\"] = stock_yr_min_df[\"volume\"]\n",
        "    stock_yr_min_df[\"VolumeWeightedAvgPrice\"] = stock_yr_min_df[\"vwap\"]\n",
        "    stock_yr_min_df[\"Time\"] = stock_yr_min_df.index.tz_convert(TZ)\n",
        "    stock_yr_min_df.index = stock_yr_min_df.index.tz_convert(TZ)\n",
        "    final_df = stock_yr_min_df.filter([\"Time\", \"Open\", \"High\", \"Low\", \"Close\", \"Volume\", \"VolumeWeightedAvgPrice\"], axis = 1)\n",
        "    \n",
        "    first_day = final_df.index[0]\n",
        "    traintest_day = final_df.index[-1] - pd.Timedelta(days= test_days+validate_days+offset_days)\n",
        "    valtest_day = final_df.index[-1] - pd.Timedelta(days= test_days+offset_days)\n",
        "    last_day = final_df.index[-1] - pd.Timedelta(days= offset_days)\n",
        "    training_df =  final_df.loc[first_day:traintest_day] #(data_split - pd.Timedelta(days=1))]\n",
        "    validate_df = final_df.loc[traintest_day:valtest_day]\n",
        "    testing_df =  final_df.loc[valtest_day:last_day]\n",
        "    full_train = final_df.loc[first_day:last_day]\n",
        "    offset_df =  final_df.loc[last_day:]\n",
        "\n",
        "    return training_df, validate_df, testing_df, full_train, offset_df, final_df, traintest_day, valtest_day\n",
        "\n",
        "from datetime import date\n",
        "\n",
        "train_start = date(2017, 2, 18)\n",
        "train_end = date(2020, 3, 29)\n",
        "train_delta = train_end - train_start\n",
        "print(f'Number of days of Training Data {train_delta.days}')\n",
        "\n",
        "val_day_num = 400\n",
        "print(f'Number of days of Validation Data {val_day_num}')\n",
        "\n",
        "test_start = train_end + timedelta(val_day_num)\n",
        "test_end = date.today()\n",
        "test_delta = (test_end - test_start)\n",
        "print(f'Number of days of Holdout Test Data {test_delta.days}')\n",
        "\n",
        "ticker = \"TSN\" # Ticker Symbol to Test\n",
        "interval = \"5Min\" # Interval of bars\n",
        "train_day_int = train_delta.days # Size of training set (Jan 2010 - Oct 2017)\n",
        "val_day_int = val_day_num # Size of validation set\n",
        "test_day_int = test_delta.days # Size of test set\n",
        "offset_day_int = 60 # Number of days to off set the training data\n",
        "train_raw, val_raw, test_raw, full_raw, offset_raw, complete_raw, traintest_day, testval_day = prepost_train_test_validate_offset_data(api, ticker, \n",
        "                                                                                     interval, \n",
        "                                                                                     train_days=train_day_int, \n",
        "                                                                                     test_days=test_day_int, \n",
        "                                                                                     validate_days=val_day_int,\n",
        "                                                                                     offset_days = offset_day_int)\n",
        "\n",
        "def timeFilterAndBackfill(df):\n",
        "  \"\"\" \n",
        "  Prep df to be filled out for each trading day:\n",
        "    Time Frame: 0930-1930\n",
        "    Backfilling NaNs\n",
        "    Adjusting Volume to Zero if no Trading data is present\n",
        "      - Assumption is that there were no trades duing that time \n",
        "\n",
        "  We will build over lapping arrays by 30 min to give ourselfs more\n",
        "  oppurtunities to predict during a given trading day \n",
        "  \"\"\"\n",
        "  \n",
        "  df = df.between_time('07:29','17:29') # intial sorting of data\n",
        "\n",
        "  TZ = 'US/Eastern' # define the correct timezone\n",
        "\n",
        "  start_dateTime = pd.Timestamp(year = df.index[0].year, \n",
        "                                month = df.index[0].month, \n",
        "                                day = df.index[0].day, \n",
        "                                hour = 7, minute = 25, tz = TZ)\n",
        "\n",
        "  end_dateTime = pd.Timestamp(year = df.index[-1].year, \n",
        "                              month = df.index[-1].month, \n",
        "                              day = df.index[-1].day, \n",
        "                              hour = 17, minute = 35, tz = TZ)\n",
        "\n",
        "  # build blank index that has ever 5 min interval represented\n",
        "  dateTime_index = pd.date_range(start_dateTime,\n",
        "                                end_dateTime, \n",
        "                                freq='5min').tolist()\n",
        "\n",
        "  dateTime_index_df = pd.DataFrame()\n",
        "  dateTime_index_df[\"Time\"] = dateTime_index \n",
        "  filtered_df = pd.merge_asof(dateTime_index_df, df,  \n",
        "                              on='Time').set_index(\"Time\").between_time('09:29','17:29')\n",
        "\n",
        "  # create the close array by back filling NA, to represent no change in close\n",
        "  closeset_list = []\n",
        "  prev_c = None\n",
        "\n",
        "  for c in filtered_df[\"Close\"]:\n",
        "\n",
        "    if prev_c == None:\n",
        "      if math.isnan(c):\n",
        "        prev_c = 0\n",
        "        closeset_list.append(0)\n",
        "      else:\n",
        "        prev_c = c\n",
        "        closeset_list.append(c)\n",
        "    \n",
        "    elif prev_c != None:\n",
        "      if c == prev_c:\n",
        "        closeset_list.append(c)\n",
        "      elif math.isnan(c):\n",
        "        closeset_list.append(prev_c)\n",
        "      else:\n",
        "        closeset_list.append(c)\n",
        "        prev_c = c\n",
        "    \n",
        "  filtered_df[\"Close\"] = closeset_list\n",
        "\n",
        "  # create the volume\n",
        "  volumeset_list = []\n",
        "  prev_v = None\n",
        "\n",
        "  for v in filtered_df[\"Volume\"]:\n",
        "    \n",
        "    if prev_v == None:\n",
        "      if math.isnan(v):\n",
        "        prev_v = 0\n",
        "        volumeset_list.append(0)\n",
        "      else:\n",
        "        prev_v = v\n",
        "        volumeset_list.append(v)\n",
        "\n",
        "    elif prev_v != None:\n",
        "      if v == prev_v:\n",
        "        volumeset_list.append(0)\n",
        "        prev_v = v\n",
        "      elif math.isnan(v):\n",
        "        volumeset_list.append(0)\n",
        "        prev_v = 0\n",
        "      else:\n",
        "        volumeset_list.append(v)\n",
        "        prev_v = v\n",
        "\n",
        "  filtered_df[\"Volume\"] = volumeset_list\n",
        "  \n",
        "  adjvolumeset_list = []\n",
        "  prev_v = None\n",
        "\n",
        "  for v in filtered_df[\"VolumeWeightedAvgPrice\"]:\n",
        "    if prev_v == None:\n",
        "      if math.isnan(v):\n",
        "        prev_v = 0\n",
        "        adjvolumeset_list.append(0)\n",
        "      else:\n",
        "        prev_v = v\n",
        "        adjvolumeset_list.append(v)\n",
        "    elif prev_v != None:\n",
        "      if v == prev_v:\n",
        "        adjvolumeset_list.append(0)\n",
        "        prev_v = v\n",
        "      elif math.isnan(v):\n",
        "        adjvolumeset_list.append(0)\n",
        "        prev_v = 0\n",
        "      else:\n",
        "        adjvolumeset_list.append(v)\n",
        "        prev_v = v\n",
        "\n",
        "  filtered_df[\"VolumeWeightedAvgPrice\"] = adjvolumeset_list\n",
        "\n",
        "  preped_df = filtered_df.backfill()\n",
        "\n",
        "  return preped_df  "
      ],
      "metadata": {
        "id": "tINNlljbRaDs",
        "colab": {
          "base_uri": "https://localhost:8080/"
        },
        "outputId": "8b9caae2-f0af-4c77-d4ed-ea05afe321d7"
      },
      "execution_count": 128,
      "outputs": [
        {
          "output_type": "stream",
          "name": "stdout",
          "text": [
            "Number of days of Training Data 1135\n",
            "Number of days of Validation Data 400\n",
            "Number of days of Holdout Test Data 306\n"
          ]
        }
      ]
    },
    {
      "cell_type": "code",
      "source": [
        "train_raw[0:300]"
      ],
      "metadata": {
        "colab": {
          "base_uri": "https://localhost:8080/",
          "height": 455
        },
        "id": "J6Cw_PVrh2lJ",
        "outputId": "e3d87c87-feb5-4b04-ef20-973cebd85d92"
      },
      "execution_count": 129,
      "outputs": [
        {
          "output_type": "execute_result",
          "data": {
            "text/html": [
              "\n",
              "  <div id=\"df-b85a16c6-5f50-462c-87ab-dec36b7dfb46\">\n",
              "    <div class=\"colab-df-container\">\n",
              "      <div>\n",
              "<style scoped>\n",
              "    .dataframe tbody tr th:only-of-type {\n",
              "        vertical-align: middle;\n",
              "    }\n",
              "\n",
              "    .dataframe tbody tr th {\n",
              "        vertical-align: top;\n",
              "    }\n",
              "\n",
              "    .dataframe thead th {\n",
              "        text-align: right;\n",
              "    }\n",
              "</style>\n",
              "<table border=\"1\" class=\"dataframe\">\n",
              "  <thead>\n",
              "    <tr style=\"text-align: right;\">\n",
              "      <th></th>\n",
              "      <th>Time</th>\n",
              "      <th>Open</th>\n",
              "      <th>High</th>\n",
              "      <th>Low</th>\n",
              "      <th>Close</th>\n",
              "      <th>Volume</th>\n",
              "      <th>VolumeWeightedAvgPrice</th>\n",
              "    </tr>\n",
              "    <tr>\n",
              "      <th>timestamp</th>\n",
              "      <th></th>\n",
              "      <th></th>\n",
              "      <th></th>\n",
              "      <th></th>\n",
              "      <th></th>\n",
              "      <th></th>\n",
              "      <th></th>\n",
              "    </tr>\n",
              "  </thead>\n",
              "  <tbody>\n",
              "    <tr>\n",
              "      <th>2016-12-21 08:35:00-05:00</th>\n",
              "      <td>2016-12-21 08:35:00-05:00</td>\n",
              "      <td>63.990</td>\n",
              "      <td>63.9900</td>\n",
              "      <td>63.990</td>\n",
              "      <td>63.99</td>\n",
              "      <td>180</td>\n",
              "      <td>63.940889</td>\n",
              "    </tr>\n",
              "    <tr>\n",
              "      <th>2016-12-21 09:30:00-05:00</th>\n",
              "      <td>2016-12-21 09:30:00-05:00</td>\n",
              "      <td>61.700</td>\n",
              "      <td>62.4100</td>\n",
              "      <td>61.700</td>\n",
              "      <td>62.40</td>\n",
              "      <td>36971</td>\n",
              "      <td>62.011451</td>\n",
              "    </tr>\n",
              "    <tr>\n",
              "      <th>2016-12-21 09:35:00-05:00</th>\n",
              "      <td>2016-12-21 09:35:00-05:00</td>\n",
              "      <td>62.380</td>\n",
              "      <td>62.4400</td>\n",
              "      <td>62.160</td>\n",
              "      <td>62.26</td>\n",
              "      <td>24654</td>\n",
              "      <td>62.317383</td>\n",
              "    </tr>\n",
              "    <tr>\n",
              "      <th>2016-12-21 09:40:00-05:00</th>\n",
              "      <td>2016-12-21 09:40:00-05:00</td>\n",
              "      <td>62.265</td>\n",
              "      <td>62.2986</td>\n",
              "      <td>61.990</td>\n",
              "      <td>62.20</td>\n",
              "      <td>18652</td>\n",
              "      <td>62.125614</td>\n",
              "    </tr>\n",
              "    <tr>\n",
              "      <th>2016-12-21 09:45:00-05:00</th>\n",
              "      <td>2016-12-21 09:45:00-05:00</td>\n",
              "      <td>62.190</td>\n",
              "      <td>62.2300</td>\n",
              "      <td>62.000</td>\n",
              "      <td>62.22</td>\n",
              "      <td>25056</td>\n",
              "      <td>62.098738</td>\n",
              "    </tr>\n",
              "    <tr>\n",
              "      <th>...</th>\n",
              "      <td>...</td>\n",
              "      <td>...</td>\n",
              "      <td>...</td>\n",
              "      <td>...</td>\n",
              "      <td>...</td>\n",
              "      <td>...</td>\n",
              "      <td>...</td>\n",
              "    </tr>\n",
              "    <tr>\n",
              "      <th>2016-12-27 14:05:00-05:00</th>\n",
              "      <td>2016-12-27 14:05:00-05:00</td>\n",
              "      <td>62.360</td>\n",
              "      <td>62.3800</td>\n",
              "      <td>62.340</td>\n",
              "      <td>62.38</td>\n",
              "      <td>5377</td>\n",
              "      <td>62.357701</td>\n",
              "    </tr>\n",
              "    <tr>\n",
              "      <th>2016-12-27 14:10:00-05:00</th>\n",
              "      <td>2016-12-27 14:10:00-05:00</td>\n",
              "      <td>62.350</td>\n",
              "      <td>62.3800</td>\n",
              "      <td>62.330</td>\n",
              "      <td>62.36</td>\n",
              "      <td>12996</td>\n",
              "      <td>62.358020</td>\n",
              "    </tr>\n",
              "    <tr>\n",
              "      <th>2016-12-27 14:15:00-05:00</th>\n",
              "      <td>2016-12-27 14:15:00-05:00</td>\n",
              "      <td>62.360</td>\n",
              "      <td>62.4200</td>\n",
              "      <td>62.350</td>\n",
              "      <td>62.35</td>\n",
              "      <td>11428</td>\n",
              "      <td>62.375091</td>\n",
              "    </tr>\n",
              "    <tr>\n",
              "      <th>2016-12-27 14:20:00-05:00</th>\n",
              "      <td>2016-12-27 14:20:00-05:00</td>\n",
              "      <td>62.350</td>\n",
              "      <td>62.4400</td>\n",
              "      <td>62.345</td>\n",
              "      <td>62.43</td>\n",
              "      <td>16290</td>\n",
              "      <td>62.384860</td>\n",
              "    </tr>\n",
              "    <tr>\n",
              "      <th>2016-12-27 14:25:00-05:00</th>\n",
              "      <td>2016-12-27 14:25:00-05:00</td>\n",
              "      <td>62.440</td>\n",
              "      <td>62.4400</td>\n",
              "      <td>62.350</td>\n",
              "      <td>62.35</td>\n",
              "      <td>9730</td>\n",
              "      <td>62.394380</td>\n",
              "    </tr>\n",
              "  </tbody>\n",
              "</table>\n",
              "<p>300 rows × 7 columns</p>\n",
              "</div>\n",
              "      <button class=\"colab-df-convert\" onclick=\"convertToInteractive('df-b85a16c6-5f50-462c-87ab-dec36b7dfb46')\"\n",
              "              title=\"Convert this dataframe to an interactive table.\"\n",
              "              style=\"display:none;\">\n",
              "        \n",
              "  <svg xmlns=\"http://www.w3.org/2000/svg\" height=\"24px\"viewBox=\"0 0 24 24\"\n",
              "       width=\"24px\">\n",
              "    <path d=\"M0 0h24v24H0V0z\" fill=\"none\"/>\n",
              "    <path d=\"M18.56 5.44l.94 2.06.94-2.06 2.06-.94-2.06-.94-.94-2.06-.94 2.06-2.06.94zm-11 1L8.5 8.5l.94-2.06 2.06-.94-2.06-.94L8.5 2.5l-.94 2.06-2.06.94zm10 10l.94 2.06.94-2.06 2.06-.94-2.06-.94-.94-2.06-.94 2.06-2.06.94z\"/><path d=\"M17.41 7.96l-1.37-1.37c-.4-.4-.92-.59-1.43-.59-.52 0-1.04.2-1.43.59L10.3 9.45l-7.72 7.72c-.78.78-.78 2.05 0 2.83L4 21.41c.39.39.9.59 1.41.59.51 0 1.02-.2 1.41-.59l7.78-7.78 2.81-2.81c.8-.78.8-2.07 0-2.86zM5.41 20L4 18.59l7.72-7.72 1.47 1.35L5.41 20z\"/>\n",
              "  </svg>\n",
              "      </button>\n",
              "      \n",
              "  <style>\n",
              "    .colab-df-container {\n",
              "      display:flex;\n",
              "      flex-wrap:wrap;\n",
              "      gap: 12px;\n",
              "    }\n",
              "\n",
              "    .colab-df-convert {\n",
              "      background-color: #E8F0FE;\n",
              "      border: none;\n",
              "      border-radius: 50%;\n",
              "      cursor: pointer;\n",
              "      display: none;\n",
              "      fill: #1967D2;\n",
              "      height: 32px;\n",
              "      padding: 0 0 0 0;\n",
              "      width: 32px;\n",
              "    }\n",
              "\n",
              "    .colab-df-convert:hover {\n",
              "      background-color: #E2EBFA;\n",
              "      box-shadow: 0px 1px 2px rgba(60, 64, 67, 0.3), 0px 1px 3px 1px rgba(60, 64, 67, 0.15);\n",
              "      fill: #174EA6;\n",
              "    }\n",
              "\n",
              "    [theme=dark] .colab-df-convert {\n",
              "      background-color: #3B4455;\n",
              "      fill: #D2E3FC;\n",
              "    }\n",
              "\n",
              "    [theme=dark] .colab-df-convert:hover {\n",
              "      background-color: #434B5C;\n",
              "      box-shadow: 0px 1px 3px 1px rgba(0, 0, 0, 0.15);\n",
              "      filter: drop-shadow(0px 1px 2px rgba(0, 0, 0, 0.3));\n",
              "      fill: #FFFFFF;\n",
              "    }\n",
              "  </style>\n",
              "\n",
              "      <script>\n",
              "        const buttonEl =\n",
              "          document.querySelector('#df-b85a16c6-5f50-462c-87ab-dec36b7dfb46 button.colab-df-convert');\n",
              "        buttonEl.style.display =\n",
              "          google.colab.kernel.accessAllowed ? 'block' : 'none';\n",
              "\n",
              "        async function convertToInteractive(key) {\n",
              "          const element = document.querySelector('#df-b85a16c6-5f50-462c-87ab-dec36b7dfb46');\n",
              "          const dataTable =\n",
              "            await google.colab.kernel.invokeFunction('convertToInteractive',\n",
              "                                                     [key], {});\n",
              "          if (!dataTable) return;\n",
              "\n",
              "          const docLinkHtml = 'Like what you see? Visit the ' +\n",
              "            '<a target=\"_blank\" href=https://colab.research.google.com/notebooks/data_table.ipynb>data table notebook</a>'\n",
              "            + ' to learn more about interactive tables.';\n",
              "          element.innerHTML = '';\n",
              "          dataTable['output_type'] = 'display_data';\n",
              "          await google.colab.output.renderOutput(dataTable, element);\n",
              "          const docLink = document.createElement('div');\n",
              "          docLink.innerHTML = docLinkHtml;\n",
              "          element.appendChild(docLink);\n",
              "        }\n",
              "      </script>\n",
              "    </div>\n",
              "  </div>\n",
              "  "
            ],
            "text/plain": [
              "                                               Time    Open     High     Low  \\\n",
              "timestamp                                                                      \n",
              "2016-12-21 08:35:00-05:00 2016-12-21 08:35:00-05:00  63.990  63.9900  63.990   \n",
              "2016-12-21 09:30:00-05:00 2016-12-21 09:30:00-05:00  61.700  62.4100  61.700   \n",
              "2016-12-21 09:35:00-05:00 2016-12-21 09:35:00-05:00  62.380  62.4400  62.160   \n",
              "2016-12-21 09:40:00-05:00 2016-12-21 09:40:00-05:00  62.265  62.2986  61.990   \n",
              "2016-12-21 09:45:00-05:00 2016-12-21 09:45:00-05:00  62.190  62.2300  62.000   \n",
              "...                                             ...     ...      ...     ...   \n",
              "2016-12-27 14:05:00-05:00 2016-12-27 14:05:00-05:00  62.360  62.3800  62.340   \n",
              "2016-12-27 14:10:00-05:00 2016-12-27 14:10:00-05:00  62.350  62.3800  62.330   \n",
              "2016-12-27 14:15:00-05:00 2016-12-27 14:15:00-05:00  62.360  62.4200  62.350   \n",
              "2016-12-27 14:20:00-05:00 2016-12-27 14:20:00-05:00  62.350  62.4400  62.345   \n",
              "2016-12-27 14:25:00-05:00 2016-12-27 14:25:00-05:00  62.440  62.4400  62.350   \n",
              "\n",
              "                           Close  Volume  VolumeWeightedAvgPrice  \n",
              "timestamp                                                         \n",
              "2016-12-21 08:35:00-05:00  63.99     180               63.940889  \n",
              "2016-12-21 09:30:00-05:00  62.40   36971               62.011451  \n",
              "2016-12-21 09:35:00-05:00  62.26   24654               62.317383  \n",
              "2016-12-21 09:40:00-05:00  62.20   18652               62.125614  \n",
              "2016-12-21 09:45:00-05:00  62.22   25056               62.098738  \n",
              "...                          ...     ...                     ...  \n",
              "2016-12-27 14:05:00-05:00  62.38    5377               62.357701  \n",
              "2016-12-27 14:10:00-05:00  62.36   12996               62.358020  \n",
              "2016-12-27 14:15:00-05:00  62.35   11428               62.375091  \n",
              "2016-12-27 14:20:00-05:00  62.43   16290               62.384860  \n",
              "2016-12-27 14:25:00-05:00  62.35    9730               62.394380  \n",
              "\n",
              "[300 rows x 7 columns]"
            ]
          },
          "metadata": {},
          "execution_count": 129
        }
      ]
    },
    {
      "cell_type": "code",
      "source": [
        "def buildTargets_VolOnly(full_df = full_raw, train_observations = train_raw.shape[0], \n",
        "                         val_observations = val_raw.shape[0], \n",
        "                         test_observations = test_raw.shape[0], \n",
        "                         alph = .55, volity_int = 10):\n",
        "\n",
        "  \"\"\" \n",
        "  This function will take a complete set of train, val, and test data and return the targets.\n",
        "  Volitility will be calculated over the 252 5min incriments \n",
        "  The Target shift is looking at 2 hours shift from current time\n",
        "  \"\"\"\n",
        "\n",
        "  returns = np.log(full_df['Close']/(full_df['Close'].shift()))\n",
        "  returns.fillna(0, inplace=True)\n",
        "  volatility = returns.rolling(window=(volity_int)).std()*np.sqrt(volity_int)\n",
        "\n",
        "\n",
        "\n",
        "  return volatility\n",
        "  #return train_targets, val_targets, test_targets, full_targets\n",
        "\n",
        "volatility = buildTargets_VolOnly()\n",
        "\n",
        "fig = plt.figure(figsize=(15, 7))\n",
        "ax1 = fig.add_subplot(1, 1, 1)\n",
        "volatility.plot(ax=ax1, color = \"red\")\n",
        "ax1.set_xlabel('Date')\n",
        "ax1.set_ylabel('Volatility', color = \"red\")\n",
        "ax1.set_title(f'Annualized volatility for {ticker}')\n",
        "ax2 = ax1.twinx()\n",
        "full_raw.Close.plot(ax=ax2, color = \"blue\")\n",
        "ax2.set_ylabel('Close', color = \"blue\")\n",
        "ax2.axvline(x=full_raw.index[train_raw.shape[0]])\n",
        "ax2.axvline(x=full_raw.index[val_raw.shape[0]+train_raw.shape[0]])\n",
        "plt.show()"
      ],
      "metadata": {
        "id": "fWqLBPQPbjYZ",
        "outputId": "6fdd0515-3e7e-4eb9-c603-d9a4b1de1081",
        "colab": {
          "base_uri": "https://localhost:8080/",
          "height": 432
        }
      },
      "execution_count": 130,
      "outputs": [
        {
          "output_type": "display_data",
          "data": {
            "image/png": "[encoded data removed]",
            "text/plain": [
              "<Figure size 1080x504 with 2 Axes>"
            ]
          },
          "metadata": {
            "needs_background": "light"
          }
        }
      ]
    },
    {
      "cell_type": "code",
      "source": [
        "train = timeFilterAndBackfill(train_raw)\n",
        "val = timeFilterAndBackfill(val_raw)\n",
        "test = timeFilterAndBackfill(test_raw)\n",
        "\n",
        "train = train[train.index.dayofweek <= 4].copy()\n",
        "val = val[val.index.dayofweek <= 4].copy()\n",
        "test = test[test.index.dayofweek <= 4].copy()\n",
        "\n",
        "train[\"Open\"] = np.where((train[\"Volume\"] == 0), train[\"Close\"], train[\"Open\"])\n",
        "train[\"High\"] = np.where((train[\"Volume\"] == 0), train[\"Close\"], train[\"High\"])\n",
        "train[\"Low\"] = np.where((train[\"Volume\"] == 0), train[\"Close\"], train[\"Low\"])\n",
        "\n",
        "val[\"Open\"] = np.where((val[\"Volume\"] == 0), val[\"Close\"], val[\"Open\"])\n",
        "val[\"High\"] = np.where((val[\"Volume\"] == 0), val[\"Close\"], val[\"High\"])\n",
        "val[\"Low\"] = np.where((val[\"Volume\"] == 0), val[\"Close\"], val[\"Low\"])\n",
        "\n",
        "test[\"Open\"] = np.where((test[\"Volume\"] == 0), test[\"Close\"], test[\"Open\"])\n",
        "test[\"High\"] = np.where((test[\"Volume\"] == 0), test[\"Close\"], test[\"High\"])\n",
        "test[\"Low\"] = np.where((test[\"Volume\"] == 0), test[\"Close\"], test[\"Low\"])\n",
        "\n",
        "def strided_axis0(a, L, overlap=1):\n",
        "    if L==overlap:\n",
        "        raise Exception(\"Overlap arg must be smaller than length of windows\")\n",
        "    S = L - overlap\n",
        "    nd0 = ((len(a)-L)//S)+1\n",
        "    if nd0*S-S!=len(a)-L:\n",
        "        warnings.warn(\"Not all elements were covered\")\n",
        "    m,n = a.shape\n",
        "    s0,s1 = a.strides\n",
        "    return np.lib.stride_tricks.as_strided(a, shape=(nd0,L,n), strides=(S*s0,s0,s1))\n",
        "\n",
        "# OLDER CODE WITHOUT OVERLAP OF LABELING\n",
        "# def blockshaped(arr, nrows, ncols):\n",
        "#     \"\"\"\n",
        "#     Return an array of shape (n, nrows, ncols) where\n",
        "#     n * nrows * ncols = arr.size\n",
        "\n",
        "#     If arr is a 2D array, the returned array should look like n subblocks with\n",
        "#     each subblock preserving the \"physical\" layout of arr.\n",
        "#     \"\"\"\n",
        "#     h, w = arr.shape\n",
        "#     assert h % nrows == 0, f\"{h} rows is not evenly divisible by {nrows}\"\n",
        "#     assert w % ncols == 0, f\"{w} cols is not evenly divisible by {ncols}\"\n",
        "#     return np.flip(np.rot90((arr.reshape(h//nrows, nrows, -1, ncols)\n",
        "#                .swapaxes(1,2)\n",
        "#                .reshape(-1, nrows, ncols)), axes = (1, 2)), axis = 1)\n",
        "\n",
        "\n",
        "def blockshaped(arr, nrows, ncols, overlapping_5min_intervals = 12):\n",
        "    \"\"\"\n",
        "    Return an array of shape (n, nrows, ncols) where\n",
        "    n * nrows * ncols = arr.size\n",
        "\n",
        "    If arr is a 2D array, the returned array should look like n subblocks with\n",
        "    each subblock preserving the \"physical\" layout of arr.\n",
        "    \"\"\"\n",
        "\n",
        "    h, w = arr.shape\n",
        "    assert h % nrows == 0, f\"{h} rows is not evenly divisible by {nrows}\"\n",
        "    assert w % ncols == 0, f\"{w} cols is not evenly divisible by {ncols}\"\n",
        "\n",
        "    return np.flip(np.rot90((strided_axis0(arr, 24, overlap=overlapping_5min_intervals).reshape(-1, nrows, ncols)), axes = (1, 2)), axis = 1)\n",
        "\n",
        "train_tonp = train[[\"Open\", \"High\", \"Low\", \"Close\", \"Volume\"]]\n",
        "val_tonp = val[[\"Open\", \"High\", \"Low\", \"Close\", \"Volume\"]]\n",
        "test_tonp = test[[\"Open\", \"High\", \"Low\", \"Close\", \"Volume\"]]\n",
        "train_array = train_tonp.to_numpy()\n",
        "val_array = val_tonp.to_numpy()\n",
        "test_array = test_tonp.to_numpy()\n",
        "\n",
        "X_train_pre_final = blockshaped(train_array, 24, 5, overlapping_5min_intervals = 12)\n",
        "X_val_pre_final = blockshaped(val_array, 24, 5, overlapping_5min_intervals = 12)\n",
        "X_test_pre_final = blockshaped(test_array, 24, 5, overlapping_5min_intervals = 12)\n",
        "\n",
        "# X_train_pre_final = blockshaped(train_array, 24, 5)\n",
        "# X_val_pre_final = blockshaped(val_array, 24, 5)\n",
        "# X_test_pre_final = blockshaped(test_array, 24, 5)"
      ],
      "metadata": {
        "id": "0_yU14VEM37m"
      },
      "execution_count": 131,
      "outputs": []
    },
    {
      "cell_type": "code",
      "source": [
        "np.set_printoptions(edgeitems=10,linewidth=580)\n",
        "X_train_pre_final[0]"
      ],
      "metadata": {
        "colab": {
          "base_uri": "https://localhost:8080/"
        },
        "id": "V8KcE_XCidzo",
        "outputId": "f03e3a27-39b8-4c0e-adcd-0f6fed89843c"
      },
      "execution_count": 132,
      "outputs": [
        {
          "output_type": "execute_result",
          "data": {
            "text/plain": [
              "array([[6.17000e+01, 6.23800e+01, 6.22650e+01, 6.21900e+01, 6.21956e+01, 6.22800e+01, 6.24763e+01, 6.26710e+01, 6.27950e+01, 6.28300e+01, 6.28950e+01, 6.27400e+01, 6.28300e+01, 6.29850e+01, 6.29300e+01, 6.30900e+01, 6.27600e+01, 6.26100e+01, 6.25600e+01, 6.25500e+01, 6.25000e+01, 6.25200e+01, 6.25600e+01, 6.24100e+01],\n",
              "       [6.24100e+01, 6.24400e+01, 6.22986e+01, 6.22300e+01, 6.22900e+01, 6.24900e+01, 6.27200e+01, 6.28100e+01, 6.28800e+01, 6.29300e+01, 6.28950e+01, 6.28800e+01, 6.30300e+01, 6.30100e+01, 6.31000e+01, 6.31000e+01, 6.27600e+01, 6.26400e+01, 6.26500e+01, 6.25700e+01, 6.25300e+01, 6.26100e+01, 6.25800e+01, 6.24100e+01],\n",
              "       [6.17000e+01, 6.21600e+01, 6.19900e+01, 6.20000e+01, 6.21900e+01, 6.22800e+01, 6.24600e+01, 6.26700e+01, 6.27500e+01, 6.27800e+01, 6.27400e+01, 6.25600e+01, 6.28300e+01, 6.29300e+01, 6.29300e+01, 6.27700e+01, 6.26000e+01, 6.25350e+01, 6.25375e+01, 6.24400e+01, 6.24900e+01, 6.25200e+01, 6.24200e+01, 6.23300e+01],\n",
              "       [6.24000e+01, 6.22600e+01, 6.22000e+01, 6.22200e+01, 6.22900e+01, 6.24900e+01, 6.26850e+01, 6.28000e+01, 6.28300e+01, 6.28950e+01, 6.27400e+01, 6.28500e+01, 6.29800e+01, 6.29350e+01, 6.31000e+01, 6.27700e+01, 6.26010e+01, 6.25500e+01, 6.25500e+01, 6.24700e+01, 6.25100e+01, 6.25601e+01, 6.24200e+01, 6.23369e+01],\n",
              "       [3.69710e+04, 2.46540e+04, 1.86520e+04, 2.50560e+04, 3.36760e+04, 2.07930e+04, 5.94610e+04, 2.49270e+04, 2.68660e+04, 1.99270e+04, 3.50860e+04, 7.66470e+04, 7.81830e+04, 3.30450e+04, 2.89730e+04, 3.79170e+04, 6.21780e+04, 2.04170e+04, 3.11100e+04, 2.65200e+04, 1.20150e+04, 1.69610e+04, 1.93440e+04, 2.20910e+04]])"
            ]
          },
          "metadata": {},
          "execution_count": 132
        }
      ]
    },
    {
      "cell_type": "code",
      "source": [
        "train_tonp[0:24]"
      ],
      "metadata": {
        "colab": {
          "base_uri": "https://localhost:8080/",
          "height": 833
        },
        "id": "29LbU_ukUK8j",
        "outputId": "1799bc87-9359-4d9a-f75c-7413645e04c5"
      },
      "execution_count": 133,
      "outputs": [
        {
          "output_type": "execute_result",
          "data": {
            "text/html": [
              "\n",
              "  <div id=\"df-765fbb9e-e7f7-423b-b3d4-fdc141054682\">\n",
              "    <div class=\"colab-df-container\">\n",
              "      <div>\n",
              "<style scoped>\n",
              "    .dataframe tbody tr th:only-of-type {\n",
              "        vertical-align: middle;\n",
              "    }\n",
              "\n",
              "    .dataframe tbody tr th {\n",
              "        vertical-align: top;\n",
              "    }\n",
              "\n",
              "    .dataframe thead th {\n",
              "        text-align: right;\n",
              "    }\n",
              "</style>\n",
              "<table border=\"1\" class=\"dataframe\">\n",
              "  <thead>\n",
              "    <tr style=\"text-align: right;\">\n",
              "      <th></th>\n",
              "      <th>Open</th>\n",
              "      <th>High</th>\n",
              "      <th>Low</th>\n",
              "      <th>Close</th>\n",
              "      <th>Volume</th>\n",
              "    </tr>\n",
              "    <tr>\n",
              "      <th>Time</th>\n",
              "      <th></th>\n",
              "      <th></th>\n",
              "      <th></th>\n",
              "      <th></th>\n",
              "      <th></th>\n",
              "    </tr>\n",
              "  </thead>\n",
              "  <tbody>\n",
              "    <tr>\n",
              "      <th>2016-12-21 09:30:00-05:00</th>\n",
              "      <td>61.7000</td>\n",
              "      <td>62.4100</td>\n",
              "      <td>61.7000</td>\n",
              "      <td>62.4000</td>\n",
              "      <td>36971.0</td>\n",
              "    </tr>\n",
              "    <tr>\n",
              "      <th>2016-12-21 09:35:00-05:00</th>\n",
              "      <td>62.3800</td>\n",
              "      <td>62.4400</td>\n",
              "      <td>62.1600</td>\n",
              "      <td>62.2600</td>\n",
              "      <td>24654.0</td>\n",
              "    </tr>\n",
              "    <tr>\n",
              "      <th>2016-12-21 09:40:00-05:00</th>\n",
              "      <td>62.2650</td>\n",
              "      <td>62.2986</td>\n",
              "      <td>61.9900</td>\n",
              "      <td>62.2000</td>\n",
              "      <td>18652.0</td>\n",
              "    </tr>\n",
              "    <tr>\n",
              "      <th>2016-12-21 09:45:00-05:00</th>\n",
              "      <td>62.1900</td>\n",
              "      <td>62.2300</td>\n",
              "      <td>62.0000</td>\n",
              "      <td>62.2200</td>\n",
              "      <td>25056.0</td>\n",
              "    </tr>\n",
              "    <tr>\n",
              "      <th>2016-12-21 09:50:00-05:00</th>\n",
              "      <td>62.1956</td>\n",
              "      <td>62.2900</td>\n",
              "      <td>62.1900</td>\n",
              "      <td>62.2900</td>\n",
              "      <td>33676.0</td>\n",
              "    </tr>\n",
              "    <tr>\n",
              "      <th>2016-12-21 09:55:00-05:00</th>\n",
              "      <td>62.2800</td>\n",
              "      <td>62.4900</td>\n",
              "      <td>62.2800</td>\n",
              "      <td>62.4900</td>\n",
              "      <td>20793.0</td>\n",
              "    </tr>\n",
              "    <tr>\n",
              "      <th>2016-12-21 10:00:00-05:00</th>\n",
              "      <td>62.4763</td>\n",
              "      <td>62.7200</td>\n",
              "      <td>62.4600</td>\n",
              "      <td>62.6850</td>\n",
              "      <td>59461.0</td>\n",
              "    </tr>\n",
              "    <tr>\n",
              "      <th>2016-12-21 10:05:00-05:00</th>\n",
              "      <td>62.6710</td>\n",
              "      <td>62.8100</td>\n",
              "      <td>62.6700</td>\n",
              "      <td>62.8000</td>\n",
              "      <td>24927.0</td>\n",
              "    </tr>\n",
              "    <tr>\n",
              "      <th>2016-12-21 10:10:00-05:00</th>\n",
              "      <td>62.7950</td>\n",
              "      <td>62.8800</td>\n",
              "      <td>62.7500</td>\n",
              "      <td>62.8300</td>\n",
              "      <td>26866.0</td>\n",
              "    </tr>\n",
              "    <tr>\n",
              "      <th>2016-12-21 10:15:00-05:00</th>\n",
              "      <td>62.8300</td>\n",
              "      <td>62.9300</td>\n",
              "      <td>62.7800</td>\n",
              "      <td>62.8950</td>\n",
              "      <td>19927.0</td>\n",
              "    </tr>\n",
              "    <tr>\n",
              "      <th>2016-12-21 10:20:00-05:00</th>\n",
              "      <td>62.8950</td>\n",
              "      <td>62.8950</td>\n",
              "      <td>62.7400</td>\n",
              "      <td>62.7400</td>\n",
              "      <td>35086.0</td>\n",
              "    </tr>\n",
              "    <tr>\n",
              "      <th>2016-12-21 10:25:00-05:00</th>\n",
              "      <td>62.7400</td>\n",
              "      <td>62.8800</td>\n",
              "      <td>62.5600</td>\n",
              "      <td>62.8500</td>\n",
              "      <td>76647.0</td>\n",
              "    </tr>\n",
              "    <tr>\n",
              "      <th>2016-12-21 10:30:00-05:00</th>\n",
              "      <td>62.8300</td>\n",
              "      <td>63.0300</td>\n",
              "      <td>62.8300</td>\n",
              "      <td>62.9800</td>\n",
              "      <td>78183.0</td>\n",
              "    </tr>\n",
              "    <tr>\n",
              "      <th>2016-12-21 10:35:00-05:00</th>\n",
              "      <td>62.9850</td>\n",
              "      <td>63.0100</td>\n",
              "      <td>62.9300</td>\n",
              "      <td>62.9350</td>\n",
              "      <td>33045.0</td>\n",
              "    </tr>\n",
              "    <tr>\n",
              "      <th>2016-12-21 10:40:00-05:00</th>\n",
              "      <td>62.9300</td>\n",
              "      <td>63.1000</td>\n",
              "      <td>62.9300</td>\n",
              "      <td>63.1000</td>\n",
              "      <td>28973.0</td>\n",
              "    </tr>\n",
              "    <tr>\n",
              "      <th>2016-12-21 10:45:00-05:00</th>\n",
              "      <td>63.0900</td>\n",
              "      <td>63.1000</td>\n",
              "      <td>62.7700</td>\n",
              "      <td>62.7700</td>\n",
              "      <td>37917.0</td>\n",
              "    </tr>\n",
              "    <tr>\n",
              "      <th>2016-12-21 10:50:00-05:00</th>\n",
              "      <td>62.7600</td>\n",
              "      <td>62.7600</td>\n",
              "      <td>62.6000</td>\n",
              "      <td>62.6010</td>\n",
              "      <td>62178.0</td>\n",
              "    </tr>\n",
              "    <tr>\n",
              "      <th>2016-12-21 10:55:00-05:00</th>\n",
              "      <td>62.6100</td>\n",
              "      <td>62.6400</td>\n",
              "      <td>62.5350</td>\n",
              "      <td>62.5500</td>\n",
              "      <td>20417.0</td>\n",
              "    </tr>\n",
              "    <tr>\n",
              "      <th>2016-12-21 11:00:00-05:00</th>\n",
              "      <td>62.5600</td>\n",
              "      <td>62.6500</td>\n",
              "      <td>62.5375</td>\n",
              "      <td>62.5500</td>\n",
              "      <td>31110.0</td>\n",
              "    </tr>\n",
              "    <tr>\n",
              "      <th>2016-12-21 11:05:00-05:00</th>\n",
              "      <td>62.5500</td>\n",
              "      <td>62.5700</td>\n",
              "      <td>62.4400</td>\n",
              "      <td>62.4700</td>\n",
              "      <td>26520.0</td>\n",
              "    </tr>\n",
              "    <tr>\n",
              "      <th>2016-12-21 11:10:00-05:00</th>\n",
              "      <td>62.5000</td>\n",
              "      <td>62.5300</td>\n",
              "      <td>62.4900</td>\n",
              "      <td>62.5100</td>\n",
              "      <td>12015.0</td>\n",
              "    </tr>\n",
              "    <tr>\n",
              "      <th>2016-12-21 11:15:00-05:00</th>\n",
              "      <td>62.5200</td>\n",
              "      <td>62.6100</td>\n",
              "      <td>62.5200</td>\n",
              "      <td>62.5601</td>\n",
              "      <td>16961.0</td>\n",
              "    </tr>\n",
              "    <tr>\n",
              "      <th>2016-12-21 11:20:00-05:00</th>\n",
              "      <td>62.5600</td>\n",
              "      <td>62.5800</td>\n",
              "      <td>62.4200</td>\n",
              "      <td>62.4200</td>\n",
              "      <td>19344.0</td>\n",
              "    </tr>\n",
              "    <tr>\n",
              "      <th>2016-12-21 11:25:00-05:00</th>\n",
              "      <td>62.4100</td>\n",
              "      <td>62.4100</td>\n",
              "      <td>62.3300</td>\n",
              "      <td>62.3369</td>\n",
              "      <td>22091.0</td>\n",
              "    </tr>\n",
              "  </tbody>\n",
              "</table>\n",
              "</div>\n",
              "      <button class=\"colab-df-convert\" onclick=\"convertToInteractive('df-765fbb9e-e7f7-423b-b3d4-fdc141054682')\"\n",
              "              title=\"Convert this dataframe to an interactive table.\"\n",
              "              style=\"display:none;\">\n",
              "        \n",
              "  <svg xmlns=\"http://www.w3.org/2000/svg\" height=\"24px\"viewBox=\"0 0 24 24\"\n",
              "       width=\"24px\">\n",
              "    <path d=\"M0 0h24v24H0V0z\" fill=\"none\"/>\n",
              "    <path d=\"M18.56 5.44l.94 2.06.94-2.06 2.06-.94-2.06-.94-.94-2.06-.94 2.06-2.06.94zm-11 1L8.5 8.5l.94-2.06 2.06-.94-2.06-.94L8.5 2.5l-.94 2.06-2.06.94zm10 10l.94 2.06.94-2.06 2.06-.94-2.06-.94-.94-2.06-.94 2.06-2.06.94z\"/><path d=\"M17.41 7.96l-1.37-1.37c-.4-.4-.92-.59-1.43-.59-.52 0-1.04.2-1.43.59L10.3 9.45l-7.72 7.72c-.78.78-.78 2.05 0 2.83L4 21.41c.39.39.9.59 1.41.59.51 0 1.02-.2 1.41-.59l7.78-7.78 2.81-2.81c.8-.78.8-2.07 0-2.86zM5.41 20L4 18.59l7.72-7.72 1.47 1.35L5.41 20z\"/>\n",
              "  </svg>\n",
              "      </button>\n",
              "      \n",
              "  <style>\n",
              "    .colab-df-container {\n",
              "      display:flex;\n",
              "      flex-wrap:wrap;\n",
              "      gap: 12px;\n",
              "    }\n",
              "\n",
              "    .colab-df-convert {\n",
              "      background-color: #E8F0FE;\n",
              "      border: none;\n",
              "      border-radius: 50%;\n",
              "      cursor: pointer;\n",
              "      display: none;\n",
              "      fill: #1967D2;\n",
              "      height: 32px;\n",
              "      padding: 0 0 0 0;\n",
              "      width: 32px;\n",
              "    }\n",
              "\n",
              "    .colab-df-convert:hover {\n",
              "      background-color: #E2EBFA;\n",
              "      box-shadow: 0px 1px 2px rgba(60, 64, 67, 0.3), 0px 1px 3px 1px rgba(60, 64, 67, 0.15);\n",
              "      fill: #174EA6;\n",
              "    }\n",
              "\n",
              "    [theme=dark] .colab-df-convert {\n",
              "      background-color: #3B4455;\n",
              "      fill: #D2E3FC;\n",
              "    }\n",
              "\n",
              "    [theme=dark] .colab-df-convert:hover {\n",
              "      background-color: #434B5C;\n",
              "      box-shadow: 0px 1px 3px 1px rgba(0, 0, 0, 0.15);\n",
              "      filter: drop-shadow(0px 1px 2px rgba(0, 0, 0, 0.3));\n",
              "      fill: #FFFFFF;\n",
              "    }\n",
              "  </style>\n",
              "\n",
              "      <script>\n",
              "        const buttonEl =\n",
              "          document.querySelector('#df-765fbb9e-e7f7-423b-b3d4-fdc141054682 button.colab-df-convert');\n",
              "        buttonEl.style.display =\n",
              "          google.colab.kernel.accessAllowed ? 'block' : 'none';\n",
              "\n",
              "        async function convertToInteractive(key) {\n",
              "          const element = document.querySelector('#df-765fbb9e-e7f7-423b-b3d4-fdc141054682');\n",
              "          const dataTable =\n",
              "            await google.colab.kernel.invokeFunction('convertToInteractive',\n",
              "                                                     [key], {});\n",
              "          if (!dataTable) return;\n",
              "\n",
              "          const docLinkHtml = 'Like what you see? Visit the ' +\n",
              "            '<a target=\"_blank\" href=https://colab.research.google.com/notebooks/data_table.ipynb>data table notebook</a>'\n",
              "            + ' to learn more about interactive tables.';\n",
              "          element.innerHTML = '';\n",
              "          dataTable['output_type'] = 'display_data';\n",
              "          await google.colab.output.renderOutput(dataTable, element);\n",
              "          const docLink = document.createElement('div');\n",
              "          docLink.innerHTML = docLinkHtml;\n",
              "          element.appendChild(docLink);\n",
              "        }\n",
              "      </script>\n",
              "    </div>\n",
              "  </div>\n",
              "  "
            ],
            "text/plain": [
              "                              Open     High      Low    Close   Volume\n",
              "Time                                                                  \n",
              "2016-12-21 09:30:00-05:00  61.7000  62.4100  61.7000  62.4000  36971.0\n",
              "2016-12-21 09:35:00-05:00  62.3800  62.4400  62.1600  62.2600  24654.0\n",
              "2016-12-21 09:40:00-05:00  62.2650  62.2986  61.9900  62.2000  18652.0\n",
              "2016-12-21 09:45:00-05:00  62.1900  62.2300  62.0000  62.2200  25056.0\n",
              "2016-12-21 09:50:00-05:00  62.1956  62.2900  62.1900  62.2900  33676.0\n",
              "2016-12-21 09:55:00-05:00  62.2800  62.4900  62.2800  62.4900  20793.0\n",
              "2016-12-21 10:00:00-05:00  62.4763  62.7200  62.4600  62.6850  59461.0\n",
              "2016-12-21 10:05:00-05:00  62.6710  62.8100  62.6700  62.8000  24927.0\n",
              "2016-12-21 10:10:00-05:00  62.7950  62.8800  62.7500  62.8300  26866.0\n",
              "2016-12-21 10:15:00-05:00  62.8300  62.9300  62.7800  62.8950  19927.0\n",
              "2016-12-21 10:20:00-05:00  62.8950  62.8950  62.7400  62.7400  35086.0\n",
              "2016-12-21 10:25:00-05:00  62.7400  62.8800  62.5600  62.8500  76647.0\n",
              "2016-12-21 10:30:00-05:00  62.8300  63.0300  62.8300  62.9800  78183.0\n",
              "2016-12-21 10:35:00-05:00  62.9850  63.0100  62.9300  62.9350  33045.0\n",
              "2016-12-21 10:40:00-05:00  62.9300  63.1000  62.9300  63.1000  28973.0\n",
              "2016-12-21 10:45:00-05:00  63.0900  63.1000  62.7700  62.7700  37917.0\n",
              "2016-12-21 10:50:00-05:00  62.7600  62.7600  62.6000  62.6010  62178.0\n",
              "2016-12-21 10:55:00-05:00  62.6100  62.6400  62.5350  62.5500  20417.0\n",
              "2016-12-21 11:00:00-05:00  62.5600  62.6500  62.5375  62.5500  31110.0\n",
              "2016-12-21 11:05:00-05:00  62.5500  62.5700  62.4400  62.4700  26520.0\n",
              "2016-12-21 11:10:00-05:00  62.5000  62.5300  62.4900  62.5100  12015.0\n",
              "2016-12-21 11:15:00-05:00  62.5200  62.6100  62.5200  62.5601  16961.0\n",
              "2016-12-21 11:20:00-05:00  62.5600  62.5800  62.4200  62.4200  19344.0\n",
              "2016-12-21 11:25:00-05:00  62.4100  62.4100  62.3300  62.3369  22091.0"
            ]
          },
          "metadata": {},
          "execution_count": 133
        }
      ]
    },
    {
      "cell_type": "code",
      "source": [
        "X_train_pre_final[1]"
      ],
      "metadata": {
        "colab": {
          "base_uri": "https://localhost:8080/"
        },
        "id": "Y6w8fb_TU-Tx",
        "outputId": "2d1e2fb3-ad08-439a-ee85-9fbcf90f005b"
      },
      "execution_count": 134,
      "outputs": [
        {
          "output_type": "execute_result",
          "data": {
            "text/plain": [
              "array([[6.28300e+01, 6.29850e+01, 6.29300e+01, 6.30900e+01, 6.27600e+01, 6.26100e+01, 6.25600e+01, 6.25500e+01, 6.25000e+01, 6.25200e+01, 6.25600e+01, 6.24100e+01, 6.23500e+01, 6.24100e+01, 6.24300e+01, 6.23700e+01, 6.23650e+01, 6.22500e+01, 6.22800e+01, 6.23300e+01, 6.22450e+01, 6.22250e+01, 6.22100e+01, 6.21400e+01],\n",
              "       [6.30300e+01, 6.30100e+01, 6.31000e+01, 6.31000e+01, 6.27600e+01, 6.26400e+01, 6.26500e+01, 6.25700e+01, 6.25300e+01, 6.26100e+01, 6.25800e+01, 6.24100e+01, 6.24600e+01, 6.24500e+01, 6.24300e+01, 6.23900e+01, 6.23700e+01, 6.22850e+01, 6.23500e+01, 6.23300e+01, 6.22900e+01, 6.22500e+01, 6.22150e+01, 6.21900e+01],\n",
              "       [6.28300e+01, 6.29300e+01, 6.29300e+01, 6.27700e+01, 6.26000e+01, 6.25350e+01, 6.25375e+01, 6.24400e+01, 6.24900e+01, 6.25200e+01, 6.24200e+01, 6.23300e+01, 6.23400e+01, 6.24000e+01, 6.23600e+01, 6.23250e+01, 6.22700e+01, 6.22050e+01, 6.22800e+01, 6.22400e+01, 6.22200e+01, 6.22150e+01, 6.21400e+01, 6.21200e+01],\n",
              "       [6.29800e+01, 6.29350e+01, 6.31000e+01, 6.27700e+01, 6.26010e+01, 6.25500e+01, 6.25500e+01, 6.24700e+01, 6.25100e+01, 6.25601e+01, 6.24200e+01, 6.23369e+01, 6.24000e+01, 6.24300e+01, 6.23700e+01, 6.23700e+01, 6.22700e+01, 6.22700e+01, 6.23500e+01, 6.22400e+01, 6.22200e+01, 6.22200e+01, 6.21400e+01, 6.21300e+01],\n",
              "       [7.81830e+04, 3.30450e+04, 2.89730e+04, 3.79170e+04, 6.21780e+04, 2.04170e+04, 3.11100e+04, 2.65200e+04, 1.20150e+04, 1.69610e+04, 1.93440e+04, 2.20910e+04, 1.97390e+04, 1.32210e+04, 2.64260e+04, 1.78370e+04, 1.95790e+04, 1.29860e+04, 2.06950e+04, 1.24150e+04, 2.44340e+04, 1.24620e+04, 1.66210e+04, 1.33030e+04]])"
            ]
          },
          "metadata": {},
          "execution_count": 134
        }
      ]
    },
    {
      "cell_type": "code",
      "source": [
        "# create target from OHLC and Volume Data\n",
        "###### THIS IS FOR 3 CLASS FROM PAPER ########\n",
        "def buildTargets(obs_array,  \n",
        "                 alph = .55, \n",
        "                 volity_int = 10):\n",
        "\n",
        "  \"\"\" \n",
        "  This function will take a complete set of train, val, and test \n",
        "  data and return the targets. Volitility will be calculated over \n",
        "  the 24 5min incriments. The Target shift is looking at 2 hours \n",
        "  shift from current time\n",
        "\n",
        "  shift_2hour = The amount of time the data interval take to equal 2 hours \n",
        "                (i.e. 5 min data interval is equal to 24)\n",
        "  alph = The alpha value for calculating the shift in price\n",
        "  volity_int = the number of incriments used to calculate volitility \n",
        "  \"\"\"\n",
        "\n",
        "  target_close_list =[]\n",
        "\n",
        "  for arr in obs_array:\n",
        "    target_close_list.append(arr[3][-1])\n",
        "  \n",
        "  target_close_df = pd.DataFrame()\n",
        "  target_close_df[\"Close\"] = target_close_list\n",
        "\n",
        "  target_close_df[\"Volitility\"] = target_close_df[\"Close\"].rolling(volity_int).std()\n",
        "\n",
        "  # print(len(volatility), len(target_close_df[\"Close\"]))\n",
        "\n",
        "  \n",
        "  targets = [0] * len(target_close_df.Close)\n",
        "\n",
        "  targets = np.where(target_close_df.Close.shift(-1) >= (target_close_df.Close * (1 + alph * target_close_df[\"Volitility\"])), \n",
        "           2, targets)\n",
        "  \n",
        "  targets = np.where(target_close_df.Close.shift(-1) <= (target_close_df.Close * (1 - alph * target_close_df[\"Volitility\"])), \n",
        "           1, targets)\n",
        "\n",
        "  return targets\n",
        "\n",
        "\n",
        "#####DISREGUARD THE VOLITLITY######\n",
        "# def buildTargets(obs_array,  \n",
        "  #                alph = .55, \n",
        "  #                volity_int = 10):\n",
        "\n",
        "  # \"\"\" \n",
        "  # This function will take a complete set of train, val, and test \n",
        "  # data and return the targets. Volitility will be calculated over \n",
        "  # the 24 5min incriments. The Target shift is looking at 2 hours \n",
        "  # shift from current time\n",
        "\n",
        "  # shift_2hour = The amount of time the data interval take to equal 2 hours \n",
        "  #               (i.e. 5 min data interval is equal to 24)\n",
        "  # alph = The alpha value for calculating the shift in price\n",
        "  # volity_int = the number of incriments used to calculate volitility \n",
        "  # \"\"\"\n",
        "\n",
        "  # target_close_list =[]\n",
        "\n",
        "  # for arr in obs_array:\n",
        "  #   target_close_list.append(arr[3][-1])\n",
        "  \n",
        "  # target_close_df = pd.DataFrame()\n",
        "  # target_close_df[\"Close\"] = target_close_list\n",
        "\n",
        "  # target_close_df[\"Volitility\"] = target_close_df[\"Close\"].rolling(volity_int).std()\n",
        "  \n",
        "  # targets = [0] * len(target_close_df.Close)\n",
        "\n",
        "  # targets = np.where(target_close_df.Close.shift(-1) >= (target_close_df.Close * (1 + alph)), \n",
        "  #          2, targets)\n",
        "  \n",
        "  # targets = np.where(target_close_df.Close.shift(-1) <= (target_close_df.Close * (1 - alph)), \n",
        "  #          1, targets)\n",
        "\n",
        "  # return targets\n",
        "\n",
        "  #####Binary Class######\n",
        "# def buildTargets(obs_array,  \n",
        "#                  alph = .55, \n",
        "#                  volity_int = 10):\n",
        "\n",
        "#   \"\"\" \n",
        "#   This function will take a complete set of train, val, and test \n",
        "#   data and return the targets. Volitility will be calculated over \n",
        "#   the 24 5min incriments. The Target shift is looking at 2 hours \n",
        "#   shift from current time\n",
        "\n",
        "#   shift_2hour = The amount of time the data interval take to equal 2 hours \n",
        "#                 (i.e. 5 min data interval is equal to 24)\n",
        "#   alph = The alpha value for calculating the shift in price\n",
        "#   volity_int = the number of incriments used to calculate volitility \n",
        "#   \"\"\"\n",
        "\n",
        "#   target_close_list =[]\n",
        "\n",
        "#   for arr in obs_array:\n",
        "#     target_close_list.append(arr[3][-1])\n",
        "  \n",
        "#   target_close_df = pd.DataFrame()\n",
        "#   target_close_df[\"Close\"] = target_close_list\n",
        "\n",
        "#   target_close_df[\"Volitility\"] = target_close_df[\"Close\"].rolling(volity_int).std()\n",
        "\n",
        "#   # print(len(volatility), len(target_close_df[\"Close\"]))\n",
        "\n",
        "  \n",
        "#   targets = [0] * len(target_close_df.Close)\n",
        "\n",
        "#   targets = np.where(target_close_df.Close.shift(-1) >= (target_close_df.Close * (1 + alph)), \n",
        "#            1, targets)\n",
        "\n",
        "#   return targets"
      ],
      "metadata": {
        "id": "Pe89LdnsLltO"
      },
      "execution_count": 135,
      "outputs": []
    },
    {
      "cell_type": "code",
      "source": [
        "volity_val = 10\n",
        "alph = .0055\n",
        "y_train_pre_final = buildTargets(X_train_pre_final, alph=alph,  volity_int = volity_val)\n",
        "y_val_pre_final = buildTargets(X_val_pre_final, alph=alph, volity_int = volity_val)\n",
        "y_test_pre_final = buildTargets(X_test_pre_final, alph=alph, volity_int = volity_val)"
      ],
      "metadata": {
        "id": "4aYPOa7INyAl"
      },
      "execution_count": 136,
      "outputs": []
    },
    {
      "cell_type": "code",
      "source": [
        "def get_class_distribution(obj):\n",
        "    count_dict = {\n",
        "        \"up\": 0,\n",
        "        \"down\": 0,\n",
        "        \"flat\": 0,\n",
        "    }\n",
        "    \n",
        "    for i in obj:\n",
        "        if i == 2: \n",
        "            count_dict['up'] += 1\n",
        "        elif i == 1: \n",
        "            count_dict['down'] += 1\n",
        "        elif i == 0: \n",
        "            count_dict['flat'] += 1             \n",
        "        else:\n",
        "            print(\"Check classes.\")\n",
        "            \n",
        "    return count_dict"
      ],
      "metadata": {
        "id": "vWIY2rwEYCfM"
      },
      "execution_count": 137,
      "outputs": []
    },
    {
      "cell_type": "code",
      "source": [
        "bfig, axes = plt.subplots(nrows=1, ncols=3, figsize=(25,7))\n",
        "# Train\n",
        "sns.barplot(data = pd.DataFrame.from_dict([get_class_distribution(y_train_pre_final)]).melt(), x = \"variable\", y=\"value\", hue=\"variable\",  ax=axes[0]).set_title('Class Distribution in Train Set')\n",
        "# Validation\n",
        "sns.barplot(data = pd.DataFrame.from_dict([get_class_distribution(y_val_pre_final)]).melt(), x = \"variable\", y=\"value\", hue=\"variable\",  ax=axes[1]).set_title('Class Distribution in Val Set')\n",
        "# Test\n",
        "sns.barplot(data = pd.DataFrame.from_dict([get_class_distribution(y_test_pre_final)]).melt(), x = \"variable\", y=\"value\", hue=\"variable\",  ax=axes[2]).set_title('Class Distribution in Test Set')"
      ],
      "metadata": {
        "id": "-BsVCfr8YCiX",
        "outputId": "3a5504f1-b8c6-440b-add4-f38684e28c4d",
        "colab": {
          "base_uri": "https://localhost:8080/",
          "height": 361
        }
      },
      "execution_count": 138,
      "outputs": [
        {
          "output_type": "execute_result",
          "data": {
            "text/plain": [
              "Text(0.5, 1.0, 'Class Distribution in Test Set')"
            ]
          },
          "metadata": {},
          "execution_count": 138
        },
        {
          "output_type": "display_data",
          "data": {
            "image/png": "[encoded data removed]",
            "text/plain": [
              "<Figure size 1800x504 with 3 Axes>"
            ]
          },
          "metadata": {
            "needs_background": "light"
          }
        }
      ]
    },
    {
      "cell_type": "code",
      "source": [
        "def createFinalData_RemoveLateAfternoonData(arr, labels):\n",
        "\n",
        "  assert arr.shape[0] == len(labels), \"X data do not match length of y labels\"\n",
        "\n",
        "  step_count = 0\n",
        "  filtered_y_labels = []\n",
        "\n",
        "  for i in range(arr.shape[0]):\n",
        "\n",
        "    if i == 0:\n",
        "      final_arr = arr[i]\n",
        "      filtered_y_labels.append(labels[i])\n",
        "      #print(f'Appending index {i}, step_count: {step_count}')\n",
        "      step_count += 1\n",
        "\n",
        "    elif i == 1:\n",
        "\n",
        "      final_arr = np.stack((final_arr, arr[i]))\n",
        "      filtered_y_labels.append(labels[i])\n",
        "      step_count += 1\n",
        "\n",
        "    elif step_count == 0: \n",
        "      final_arr = np.vstack((final_arr, arr[i][None]))\n",
        "      filtered_y_labels.append(labels[i])\n",
        "      #print(f'Appending index {i}, step_count: {step_count}')\n",
        "      step_count += 1\n",
        "    \n",
        "    elif (step_count) % 5 == 0:\n",
        "      #print(f'skipping {i} array, step_count: {step_count}')\n",
        "      step_count += 1\n",
        "\n",
        "    elif (step_count) % 6 == 0:\n",
        "      #print(f'skipping {i} array, step_count: {step_count}')\n",
        "      step_count += 1\n",
        "\n",
        "    elif (step_count) % 7 == 0:\n",
        "      #print(f'skipping {i} array, step_count: {step_count}')\n",
        "      step_count = 0\n",
        "    \n",
        "    else:\n",
        "      final_arr = np.vstack((final_arr, arr[i][None]))\n",
        "      filtered_y_labels.append(labels[i])\n",
        "      #print(f'Appending index {i}, step_count: {step_count}')\n",
        "      step_count += 1\n",
        "  \n",
        "  return final_arr, filtered_y_labels\n",
        "\n",
        "X_train, y_train = createFinalData_RemoveLateAfternoonData(X_train_pre_final, y_train_pre_final)\n",
        "X_val, y_val = createFinalData_RemoveLateAfternoonData(X_val_pre_final, y_val_pre_final)\n",
        "X_test, y_test = createFinalData_RemoveLateAfternoonData(X_test_pre_final, y_test_pre_final)\n",
        "\n",
        "y_train = np.array(y_train)\n",
        "y_val = np.array(y_val)\n",
        "y_test = np.array(y_test)"
      ],
      "metadata": {
        "id": "1XdpMcVCo2_b"
      },
      "execution_count": 139,
      "outputs": []
    },
    {
      "cell_type": "code",
      "source": [
        "# Check it arrays are made correctly\n",
        "train[12:48]"
      ],
      "metadata": {
        "id": "ZyvritE4qPNR",
        "outputId": "c61be629-1bb5-414c-e037-140bc483df94",
        "colab": {
          "base_uri": "https://localhost:8080/",
          "height": 1000
        }
      },
      "execution_count": 140,
      "outputs": [
        {
          "output_type": "execute_result",
          "data": {
            "text/html": [
              "\n",
              "  <div id=\"df-69121f6c-d5be-408d-b591-aae9767cfd8d\">\n",
              "    <div class=\"colab-df-container\">\n",
              "      <div>\n",
              "<style scoped>\n",
              "    .dataframe tbody tr th:only-of-type {\n",
              "        vertical-align: middle;\n",
              "    }\n",
              "\n",
              "    .dataframe tbody tr th {\n",
              "        vertical-align: top;\n",
              "    }\n",
              "\n",
              "    .dataframe thead th {\n",
              "        text-align: right;\n",
              "    }\n",
              "</style>\n",
              "<table border=\"1\" class=\"dataframe\">\n",
              "  <thead>\n",
              "    <tr style=\"text-align: right;\">\n",
              "      <th></th>\n",
              "      <th>Open</th>\n",
              "      <th>High</th>\n",
              "      <th>Low</th>\n",
              "      <th>Close</th>\n",
              "      <th>Volume</th>\n",
              "      <th>VolumeWeightedAvgPrice</th>\n",
              "    </tr>\n",
              "    <tr>\n",
              "      <th>Time</th>\n",
              "      <th></th>\n",
              "      <th></th>\n",
              "      <th></th>\n",
              "      <th></th>\n",
              "      <th></th>\n",
              "      <th></th>\n",
              "    </tr>\n",
              "  </thead>\n",
              "  <tbody>\n",
              "    <tr>\n",
              "      <th>2016-12-21 10:30:00-05:00</th>\n",
              "      <td>62.830</td>\n",
              "      <td>63.0300</td>\n",
              "      <td>62.8300</td>\n",
              "      <td>62.9800</td>\n",
              "      <td>78183.0</td>\n",
              "      <td>62.921556</td>\n",
              "    </tr>\n",
              "    <tr>\n",
              "      <th>2016-12-21 10:35:00-05:00</th>\n",
              "      <td>62.985</td>\n",
              "      <td>63.0100</td>\n",
              "      <td>62.9300</td>\n",
              "      <td>62.9350</td>\n",
              "      <td>33045.0</td>\n",
              "      <td>62.974453</td>\n",
              "    </tr>\n",
              "    <tr>\n",
              "      <th>2016-12-21 10:40:00-05:00</th>\n",
              "      <td>62.930</td>\n",
              "      <td>63.1000</td>\n",
              "      <td>62.9300</td>\n",
              "      <td>63.1000</td>\n",
              "      <td>28973.0</td>\n",
              "      <td>63.027256</td>\n",
              "    </tr>\n",
              "    <tr>\n",
              "      <th>2016-12-21 10:45:00-05:00</th>\n",
              "      <td>63.090</td>\n",
              "      <td>63.1000</td>\n",
              "      <td>62.7700</td>\n",
              "      <td>62.7700</td>\n",
              "      <td>37917.0</td>\n",
              "      <td>62.952890</td>\n",
              "    </tr>\n",
              "    <tr>\n",
              "      <th>2016-12-21 10:50:00-05:00</th>\n",
              "      <td>62.760</td>\n",
              "      <td>62.7600</td>\n",
              "      <td>62.6000</td>\n",
              "      <td>62.6010</td>\n",
              "      <td>62178.0</td>\n",
              "      <td>62.738510</td>\n",
              "    </tr>\n",
              "    <tr>\n",
              "      <th>2016-12-21 10:55:00-05:00</th>\n",
              "      <td>62.610</td>\n",
              "      <td>62.6400</td>\n",
              "      <td>62.5350</td>\n",
              "      <td>62.5500</td>\n",
              "      <td>20417.0</td>\n",
              "      <td>62.581453</td>\n",
              "    </tr>\n",
              "    <tr>\n",
              "      <th>2016-12-21 11:00:00-05:00</th>\n",
              "      <td>62.560</td>\n",
              "      <td>62.6500</td>\n",
              "      <td>62.5375</td>\n",
              "      <td>62.5500</td>\n",
              "      <td>31110.0</td>\n",
              "      <td>62.589809</td>\n",
              "    </tr>\n",
              "    <tr>\n",
              "      <th>2016-12-21 11:05:00-05:00</th>\n",
              "      <td>62.550</td>\n",
              "      <td>62.5700</td>\n",
              "      <td>62.4400</td>\n",
              "      <td>62.4700</td>\n",
              "      <td>26520.0</td>\n",
              "      <td>62.495128</td>\n",
              "    </tr>\n",
              "    <tr>\n",
              "      <th>2016-12-21 11:10:00-05:00</th>\n",
              "      <td>62.500</td>\n",
              "      <td>62.5300</td>\n",
              "      <td>62.4900</td>\n",
              "      <td>62.5100</td>\n",
              "      <td>12015.0</td>\n",
              "      <td>62.506717</td>\n",
              "    </tr>\n",
              "    <tr>\n",
              "      <th>2016-12-21 11:15:00-05:00</th>\n",
              "      <td>62.520</td>\n",
              "      <td>62.6100</td>\n",
              "      <td>62.5200</td>\n",
              "      <td>62.5601</td>\n",
              "      <td>16961.0</td>\n",
              "      <td>62.572631</td>\n",
              "    </tr>\n",
              "    <tr>\n",
              "      <th>2016-12-21 11:20:00-05:00</th>\n",
              "      <td>62.560</td>\n",
              "      <td>62.5800</td>\n",
              "      <td>62.4200</td>\n",
              "      <td>62.4200</td>\n",
              "      <td>19344.0</td>\n",
              "      <td>62.526713</td>\n",
              "    </tr>\n",
              "    <tr>\n",
              "      <th>2016-12-21 11:25:00-05:00</th>\n",
              "      <td>62.410</td>\n",
              "      <td>62.4100</td>\n",
              "      <td>62.3300</td>\n",
              "      <td>62.3369</td>\n",
              "      <td>22091.0</td>\n",
              "      <td>62.381449</td>\n",
              "    </tr>\n",
              "    <tr>\n",
              "      <th>2016-12-21 11:30:00-05:00</th>\n",
              "      <td>62.350</td>\n",
              "      <td>62.4600</td>\n",
              "      <td>62.3400</td>\n",
              "      <td>62.4000</td>\n",
              "      <td>19739.0</td>\n",
              "      <td>62.384712</td>\n",
              "    </tr>\n",
              "    <tr>\n",
              "      <th>2016-12-21 11:35:00-05:00</th>\n",
              "      <td>62.410</td>\n",
              "      <td>62.4500</td>\n",
              "      <td>62.4000</td>\n",
              "      <td>62.4300</td>\n",
              "      <td>13221.0</td>\n",
              "      <td>62.423086</td>\n",
              "    </tr>\n",
              "    <tr>\n",
              "      <th>2016-12-21 11:40:00-05:00</th>\n",
              "      <td>62.430</td>\n",
              "      <td>62.4300</td>\n",
              "      <td>62.3600</td>\n",
              "      <td>62.3700</td>\n",
              "      <td>26426.0</td>\n",
              "      <td>62.393449</td>\n",
              "    </tr>\n",
              "    <tr>\n",
              "      <th>2016-12-21 11:45:00-05:00</th>\n",
              "      <td>62.370</td>\n",
              "      <td>62.3900</td>\n",
              "      <td>62.3250</td>\n",
              "      <td>62.3700</td>\n",
              "      <td>17837.0</td>\n",
              "      <td>62.362990</td>\n",
              "    </tr>\n",
              "    <tr>\n",
              "      <th>2016-12-21 11:50:00-05:00</th>\n",
              "      <td>62.365</td>\n",
              "      <td>62.3700</td>\n",
              "      <td>62.2700</td>\n",
              "      <td>62.2700</td>\n",
              "      <td>19579.0</td>\n",
              "      <td>62.324707</td>\n",
              "    </tr>\n",
              "    <tr>\n",
              "      <th>2016-12-21 11:55:00-05:00</th>\n",
              "      <td>62.250</td>\n",
              "      <td>62.2850</td>\n",
              "      <td>62.2050</td>\n",
              "      <td>62.2700</td>\n",
              "      <td>12986.0</td>\n",
              "      <td>62.237765</td>\n",
              "    </tr>\n",
              "    <tr>\n",
              "      <th>2016-12-21 12:00:00-05:00</th>\n",
              "      <td>62.280</td>\n",
              "      <td>62.3500</td>\n",
              "      <td>62.2800</td>\n",
              "      <td>62.3500</td>\n",
              "      <td>20695.0</td>\n",
              "      <td>62.321220</td>\n",
              "    </tr>\n",
              "    <tr>\n",
              "      <th>2016-12-21 12:05:00-05:00</th>\n",
              "      <td>62.330</td>\n",
              "      <td>62.3300</td>\n",
              "      <td>62.2400</td>\n",
              "      <td>62.2400</td>\n",
              "      <td>12415.0</td>\n",
              "      <td>62.274419</td>\n",
              "    </tr>\n",
              "    <tr>\n",
              "      <th>2016-12-21 12:10:00-05:00</th>\n",
              "      <td>62.245</td>\n",
              "      <td>62.2900</td>\n",
              "      <td>62.2200</td>\n",
              "      <td>62.2200</td>\n",
              "      <td>24434.0</td>\n",
              "      <td>62.266596</td>\n",
              "    </tr>\n",
              "    <tr>\n",
              "      <th>2016-12-21 12:15:00-05:00</th>\n",
              "      <td>62.225</td>\n",
              "      <td>62.2500</td>\n",
              "      <td>62.2150</td>\n",
              "      <td>62.2200</td>\n",
              "      <td>12462.0</td>\n",
              "      <td>62.236521</td>\n",
              "    </tr>\n",
              "    <tr>\n",
              "      <th>2016-12-21 12:20:00-05:00</th>\n",
              "      <td>62.210</td>\n",
              "      <td>62.2150</td>\n",
              "      <td>62.1400</td>\n",
              "      <td>62.1400</td>\n",
              "      <td>16621.0</td>\n",
              "      <td>62.167508</td>\n",
              "    </tr>\n",
              "    <tr>\n",
              "      <th>2016-12-21 12:25:00-05:00</th>\n",
              "      <td>62.140</td>\n",
              "      <td>62.1900</td>\n",
              "      <td>62.1200</td>\n",
              "      <td>62.1300</td>\n",
              "      <td>13303.0</td>\n",
              "      <td>62.154654</td>\n",
              "    </tr>\n",
              "    <tr>\n",
              "      <th>2016-12-21 12:30:00-05:00</th>\n",
              "      <td>62.110</td>\n",
              "      <td>62.1900</td>\n",
              "      <td>62.1100</td>\n",
              "      <td>62.1759</td>\n",
              "      <td>11859.0</td>\n",
              "      <td>62.153152</td>\n",
              "    </tr>\n",
              "    <tr>\n",
              "      <th>2016-12-21 12:35:00-05:00</th>\n",
              "      <td>62.170</td>\n",
              "      <td>62.1700</td>\n",
              "      <td>62.0175</td>\n",
              "      <td>62.0300</td>\n",
              "      <td>43836.0</td>\n",
              "      <td>62.058284</td>\n",
              "    </tr>\n",
              "    <tr>\n",
              "      <th>2016-12-21 12:40:00-05:00</th>\n",
              "      <td>62.030</td>\n",
              "      <td>62.0500</td>\n",
              "      <td>61.9700</td>\n",
              "      <td>61.9700</td>\n",
              "      <td>19925.0</td>\n",
              "      <td>62.008616</td>\n",
              "    </tr>\n",
              "    <tr>\n",
              "      <th>2016-12-21 12:45:00-05:00</th>\n",
              "      <td>61.980</td>\n",
              "      <td>62.0200</td>\n",
              "      <td>61.9300</td>\n",
              "      <td>61.9300</td>\n",
              "      <td>18027.0</td>\n",
              "      <td>61.974536</td>\n",
              "    </tr>\n",
              "    <tr>\n",
              "      <th>2016-12-21 12:50:00-05:00</th>\n",
              "      <td>61.930</td>\n",
              "      <td>61.9400</td>\n",
              "      <td>61.8800</td>\n",
              "      <td>61.9000</td>\n",
              "      <td>17418.0</td>\n",
              "      <td>61.907626</td>\n",
              "    </tr>\n",
              "    <tr>\n",
              "      <th>2016-12-21 12:55:00-05:00</th>\n",
              "      <td>61.895</td>\n",
              "      <td>61.9616</td>\n",
              "      <td>61.8900</td>\n",
              "      <td>61.9400</td>\n",
              "      <td>13656.0</td>\n",
              "      <td>61.925978</td>\n",
              "    </tr>\n",
              "    <tr>\n",
              "      <th>2016-12-21 13:00:00-05:00</th>\n",
              "      <td>61.950</td>\n",
              "      <td>62.0200</td>\n",
              "      <td>61.9500</td>\n",
              "      <td>61.9800</td>\n",
              "      <td>12756.0</td>\n",
              "      <td>61.980940</td>\n",
              "    </tr>\n",
              "    <tr>\n",
              "      <th>2016-12-21 13:05:00-05:00</th>\n",
              "      <td>61.980</td>\n",
              "      <td>62.0000</td>\n",
              "      <td>61.9700</td>\n",
              "      <td>61.9800</td>\n",
              "      <td>11989.0</td>\n",
              "      <td>61.985939</td>\n",
              "    </tr>\n",
              "    <tr>\n",
              "      <th>2016-12-21 13:10:00-05:00</th>\n",
              "      <td>61.985</td>\n",
              "      <td>62.0000</td>\n",
              "      <td>61.8950</td>\n",
              "      <td>61.9000</td>\n",
              "      <td>28609.0</td>\n",
              "      <td>61.980404</td>\n",
              "    </tr>\n",
              "    <tr>\n",
              "      <th>2016-12-21 13:15:00-05:00</th>\n",
              "      <td>61.880</td>\n",
              "      <td>61.9000</td>\n",
              "      <td>61.8550</td>\n",
              "      <td>61.8600</td>\n",
              "      <td>12603.0</td>\n",
              "      <td>61.870815</td>\n",
              "    </tr>\n",
              "    <tr>\n",
              "      <th>2016-12-21 13:20:00-05:00</th>\n",
              "      <td>61.860</td>\n",
              "      <td>61.9700</td>\n",
              "      <td>61.8450</td>\n",
              "      <td>61.9500</td>\n",
              "      <td>15333.0</td>\n",
              "      <td>61.904818</td>\n",
              "    </tr>\n",
              "    <tr>\n",
              "      <th>2016-12-21 13:25:00-05:00</th>\n",
              "      <td>61.950</td>\n",
              "      <td>61.9700</td>\n",
              "      <td>61.8910</td>\n",
              "      <td>61.9700</td>\n",
              "      <td>9987.0</td>\n",
              "      <td>61.924090</td>\n",
              "    </tr>\n",
              "  </tbody>\n",
              "</table>\n",
              "</div>\n",
              "      <button class=\"colab-df-convert\" onclick=\"convertToInteractive('df-69121f6c-d5be-408d-b591-aae9767cfd8d')\"\n",
              "              title=\"Convert this dataframe to an interactive table.\"\n",
              "              style=\"display:none;\">\n",
              "        \n",
              "  <svg xmlns=\"http://www.w3.org/2000/svg\" height=\"24px\"viewBox=\"0 0 24 24\"\n",
              "       width=\"24px\">\n",
              "    <path d=\"M0 0h24v24H0V0z\" fill=\"none\"/>\n",
              "    <path d=\"M18.56 5.44l.94 2.06.94-2.06 2.06-.94-2.06-.94-.94-2.06-.94 2.06-2.06.94zm-11 1L8.5 8.5l.94-2.06 2.06-.94-2.06-.94L8.5 2.5l-.94 2.06-2.06.94zm10 10l.94 2.06.94-2.06 2.06-.94-2.06-.94-.94-2.06-.94 2.06-2.06.94z\"/><path d=\"M17.41 7.96l-1.37-1.37c-.4-.4-.92-.59-1.43-.59-.52 0-1.04.2-1.43.59L10.3 9.45l-7.72 7.72c-.78.78-.78 2.05 0 2.83L4 21.41c.39.39.9.59 1.41.59.51 0 1.02-.2 1.41-.59l7.78-7.78 2.81-2.81c.8-.78.8-2.07 0-2.86zM5.41 20L4 18.59l7.72-7.72 1.47 1.35L5.41 20z\"/>\n",
              "  </svg>\n",
              "      </button>\n",
              "      \n",
              "  <style>\n",
              "    .colab-df-container {\n",
              "      display:flex;\n",
              "      flex-wrap:wrap;\n",
              "      gap: 12px;\n",
              "    }\n",
              "\n",
              "    .colab-df-convert {\n",
              "      background-color: #E8F0FE;\n",
              "      border: none;\n",
              "      border-radius: 50%;\n",
              "      cursor: pointer;\n",
              "      display: none;\n",
              "      fill: #1967D2;\n",
              "      height: 32px;\n",
              "      padding: 0 0 0 0;\n",
              "      width: 32px;\n",
              "    }\n",
              "\n",
              "    .colab-df-convert:hover {\n",
              "      background-color: #E2EBFA;\n",
              "      box-shadow: 0px 1px 2px rgba(60, 64, 67, 0.3), 0px 1px 3px 1px rgba(60, 64, 67, 0.15);\n",
              "      fill: #174EA6;\n",
              "    }\n",
              "\n",
              "    [theme=dark] .colab-df-convert {\n",
              "      background-color: #3B4455;\n",
              "      fill: #D2E3FC;\n",
              "    }\n",
              "\n",
              "    [theme=dark] .colab-df-convert:hover {\n",
              "      background-color: #434B5C;\n",
              "      box-shadow: 0px 1px 3px 1px rgba(0, 0, 0, 0.15);\n",
              "      filter: drop-shadow(0px 1px 2px rgba(0, 0, 0, 0.3));\n",
              "      fill: #FFFFFF;\n",
              "    }\n",
              "  </style>\n",
              "\n",
              "      <script>\n",
              "        const buttonEl =\n",
              "          document.querySelector('#df-69121f6c-d5be-408d-b591-aae9767cfd8d button.colab-df-convert');\n",
              "        buttonEl.style.display =\n",
              "          google.colab.kernel.accessAllowed ? 'block' : 'none';\n",
              "\n",
              "        async function convertToInteractive(key) {\n",
              "          const element = document.querySelector('#df-69121f6c-d5be-408d-b591-aae9767cfd8d');\n",
              "          const dataTable =\n",
              "            await google.colab.kernel.invokeFunction('convertToInteractive',\n",
              "                                                     [key], {});\n",
              "          if (!dataTable) return;\n",
              "\n",
              "          const docLinkHtml = 'Like what you see? Visit the ' +\n",
              "            '<a target=\"_blank\" href=https://colab.research.google.com/notebooks/data_table.ipynb>data table notebook</a>'\n",
              "            + ' to learn more about interactive tables.';\n",
              "          element.innerHTML = '';\n",
              "          dataTable['output_type'] = 'display_data';\n",
              "          await google.colab.output.renderOutput(dataTable, element);\n",
              "          const docLink = document.createElement('div');\n",
              "          docLink.innerHTML = docLinkHtml;\n",
              "          element.appendChild(docLink);\n",
              "        }\n",
              "      </script>\n",
              "    </div>\n",
              "  </div>\n",
              "  "
            ],
            "text/plain": [
              "                             Open     High      Low    Close   Volume  \\\n",
              "Time                                                                    \n",
              "2016-12-21 10:30:00-05:00  62.830  63.0300  62.8300  62.9800  78183.0   \n",
              "2016-12-21 10:35:00-05:00  62.985  63.0100  62.9300  62.9350  33045.0   \n",
              "2016-12-21 10:40:00-05:00  62.930  63.1000  62.9300  63.1000  28973.0   \n",
              "2016-12-21 10:45:00-05:00  63.090  63.1000  62.7700  62.7700  37917.0   \n",
              "2016-12-21 10:50:00-05:00  62.760  62.7600  62.6000  62.6010  62178.0   \n",
              "2016-12-21 10:55:00-05:00  62.610  62.6400  62.5350  62.5500  20417.0   \n",
              "2016-12-21 11:00:00-05:00  62.560  62.6500  62.5375  62.5500  31110.0   \n",
              "2016-12-21 11:05:00-05:00  62.550  62.5700  62.4400  62.4700  26520.0   \n",
              "2016-12-21 11:10:00-05:00  62.500  62.5300  62.4900  62.5100  12015.0   \n",
              "2016-12-21 11:15:00-05:00  62.520  62.6100  62.5200  62.5601  16961.0   \n",
              "2016-12-21 11:20:00-05:00  62.560  62.5800  62.4200  62.4200  19344.0   \n",
              "2016-12-21 11:25:00-05:00  62.410  62.4100  62.3300  62.3369  22091.0   \n",
              "2016-12-21 11:30:00-05:00  62.350  62.4600  62.3400  62.4000  19739.0   \n",
              "2016-12-21 11:35:00-05:00  62.410  62.4500  62.4000  62.4300  13221.0   \n",
              "2016-12-21 11:40:00-05:00  62.430  62.4300  62.3600  62.3700  26426.0   \n",
              "2016-12-21 11:45:00-05:00  62.370  62.3900  62.3250  62.3700  17837.0   \n",
              "2016-12-21 11:50:00-05:00  62.365  62.3700  62.2700  62.2700  19579.0   \n",
              "2016-12-21 11:55:00-05:00  62.250  62.2850  62.2050  62.2700  12986.0   \n",
              "2016-12-21 12:00:00-05:00  62.280  62.3500  62.2800  62.3500  20695.0   \n",
              "2016-12-21 12:05:00-05:00  62.330  62.3300  62.2400  62.2400  12415.0   \n",
              "2016-12-21 12:10:00-05:00  62.245  62.2900  62.2200  62.2200  24434.0   \n",
              "2016-12-21 12:15:00-05:00  62.225  62.2500  62.2150  62.2200  12462.0   \n",
              "2016-12-21 12:20:00-05:00  62.210  62.2150  62.1400  62.1400  16621.0   \n",
              "2016-12-21 12:25:00-05:00  62.140  62.1900  62.1200  62.1300  13303.0   \n",
              "2016-12-21 12:30:00-05:00  62.110  62.1900  62.1100  62.1759  11859.0   \n",
              "2016-12-21 12:35:00-05:00  62.170  62.1700  62.0175  62.0300  43836.0   \n",
              "2016-12-21 12:40:00-05:00  62.030  62.0500  61.9700  61.9700  19925.0   \n",
              "2016-12-21 12:45:00-05:00  61.980  62.0200  61.9300  61.9300  18027.0   \n",
              "2016-12-21 12:50:00-05:00  61.930  61.9400  61.8800  61.9000  17418.0   \n",
              "2016-12-21 12:55:00-05:00  61.895  61.9616  61.8900  61.9400  13656.0   \n",
              "2016-12-21 13:00:00-05:00  61.950  62.0200  61.9500  61.9800  12756.0   \n",
              "2016-12-21 13:05:00-05:00  61.980  62.0000  61.9700  61.9800  11989.0   \n",
              "2016-12-21 13:10:00-05:00  61.985  62.0000  61.8950  61.9000  28609.0   \n",
              "2016-12-21 13:15:00-05:00  61.880  61.9000  61.8550  61.8600  12603.0   \n",
              "2016-12-21 13:20:00-05:00  61.860  61.9700  61.8450  61.9500  15333.0   \n",
              "2016-12-21 13:25:00-05:00  61.950  61.9700  61.8910  61.9700   9987.0   \n",
              "\n",
              "                           VolumeWeightedAvgPrice  \n",
              "Time                                               \n",
              "2016-12-21 10:30:00-05:00               62.921556  \n",
              "2016-12-21 10:35:00-05:00               62.974453  \n",
              "2016-12-21 10:40:00-05:00               63.027256  \n",
              "2016-12-21 10:45:00-05:00               62.952890  \n",
              "2016-12-21 10:50:00-05:00               62.738510  \n",
              "2016-12-21 10:55:00-05:00               62.581453  \n",
              "2016-12-21 11:00:00-05:00               62.589809  \n",
              "2016-12-21 11:05:00-05:00               62.495128  \n",
              "2016-12-21 11:10:00-05:00               62.506717  \n",
              "2016-12-21 11:15:00-05:00               62.572631  \n",
              "2016-12-21 11:20:00-05:00               62.526713  \n",
              "2016-12-21 11:25:00-05:00               62.381449  \n",
              "2016-12-21 11:30:00-05:00               62.384712  \n",
              "2016-12-21 11:35:00-05:00               62.423086  \n",
              "2016-12-21 11:40:00-05:00               62.393449  \n",
              "2016-12-21 11:45:00-05:00               62.362990  \n",
              "2016-12-21 11:50:00-05:00               62.324707  \n",
              "2016-12-21 11:55:00-05:00               62.237765  \n",
              "2016-12-21 12:00:00-05:00               62.321220  \n",
              "2016-12-21 12:05:00-05:00               62.274419  \n",
              "2016-12-21 12:10:00-05:00               62.266596  \n",
              "2016-12-21 12:15:00-05:00               62.236521  \n",
              "2016-12-21 12:20:00-05:00               62.167508  \n",
              "2016-12-21 12:25:00-05:00               62.154654  \n",
              "2016-12-21 12:30:00-05:00               62.153152  \n",
              "2016-12-21 12:35:00-05:00               62.058284  \n",
              "2016-12-21 12:40:00-05:00               62.008616  \n",
              "2016-12-21 12:45:00-05:00               61.974536  \n",
              "2016-12-21 12:50:00-05:00               61.907626  \n",
              "2016-12-21 12:55:00-05:00               61.925978  \n",
              "2016-12-21 13:00:00-05:00               61.980940  \n",
              "2016-12-21 13:05:00-05:00               61.985939  \n",
              "2016-12-21 13:10:00-05:00               61.980404  \n",
              "2016-12-21 13:15:00-05:00               61.870815  \n",
              "2016-12-21 13:20:00-05:00               61.904818  \n",
              "2016-12-21 13:25:00-05:00               61.924090  "
            ]
          },
          "metadata": {},
          "execution_count": 140
        }
      ]
    },
    {
      "cell_type": "code",
      "source": [
        "np.set_printoptions(threshold=200)\n",
        "y_train_pre_final[50:75]"
      ],
      "metadata": {
        "id": "Bi-1VYrmn0Eb",
        "outputId": "09f7b295-163e-4fad-fafe-3efbaccb3674",
        "colab": {
          "base_uri": "https://localhost:8080/"
        }
      },
      "execution_count": 141,
      "outputs": [
        {
          "output_type": "execute_result",
          "data": {
            "text/plain": [
              "array([0, 0, 0, 0, 1, 1, 2, 0, 1, 0, 0, 0, 0, 0, 0, 0, 0, 0, 0, 0, 2, 1, 2, 0, 0])"
            ]
          },
          "metadata": {},
          "execution_count": 141
        }
      ]
    },
    {
      "cell_type": "code",
      "source": [
        "######\n",
        "# Code fro scaling at a later date\n",
        "######\n",
        "\n",
        "# from sklearn.preprocessing import MinMaxScaler\n",
        "\n",
        "from sklearn.preprocessing import MinMaxScaler\n",
        "\n",
        "scalers = {}\n",
        "for i in range(X_train.shape[1]):\n",
        "    scalers[i] = MinMaxScaler()\n",
        "    X_train[:, i, :] = scalers[i].fit_transform(X_train[:, i, :]) \n",
        "\n",
        "for i in range(X_val.shape[1]):\n",
        "    X_val[:, i, :] = scalers[i].transform(X_val[:, i, :]) \n",
        "\n",
        "for i in range(X_test.shape[1]):\n",
        "    X_test[:, i, :] = scalers[i].transform(X_test[:, i, :]) \n",
        "    "
      ],
      "metadata": {
        "id": "xPkrkhqV4Ef-"
      },
      "execution_count": 142,
      "outputs": []
    },
    {
      "cell_type": "code",
      "source": [
        "vbfig, axes = plt.subplots(nrows=1, ncols=3, figsize=(25,7))\n",
        "# Train\n",
        "sns.barplot(data = pd.DataFrame.from_dict([get_class_distribution(y_train)]).melt(), x = \"variable\", y=\"value\", hue=\"variable\",  ax=axes[0]).set_title('Class Distribution in Train Set')\n",
        "# Validation\n",
        "sns.barplot(data = pd.DataFrame.from_dict([get_class_distribution(y_val)]).melt(), x = \"variable\", y=\"value\", hue=\"variable\",  ax=axes[1]).set_title('Class Distribution in Val Set')\n",
        "# Test\n",
        "sns.barplot(data = pd.DataFrame.from_dict([get_class_distribution(y_test)]).melt(), x = \"variable\", y=\"value\", hue=\"variable\",  ax=axes[2]).set_title('Class Distribution in Test Set')"
      ],
      "metadata": {
        "outputId": "c0f9d307-dce4-4361-8b92-bec58331281c",
        "colab": {
          "base_uri": "https://localhost:8080/",
          "height": 361
        },
        "id": "qqTz9-J7LGft"
      },
      "execution_count": 143,
      "outputs": [
        {
          "output_type": "execute_result",
          "data": {
            "text/plain": [
              "Text(0.5, 1.0, 'Class Distribution in Test Set')"
            ]
          },
          "metadata": {},
          "execution_count": 143
        },
        {
          "output_type": "display_data",
          "data": {
            "image/png": "[encoded data removed]",
            "text/plain": [
              "<Figure size 1800x504 with 3 Axes>"
            ]
          },
          "metadata": {
            "needs_background": "light"
          }
        }
      ]
    },
    {
      "cell_type": "markdown",
      "source": [
        "# 2D LSTM"
      ],
      "metadata": {
        "id": "gUcbWMXAaxdh"
      }
    },
    {
      "cell_type": "code",
      "source": [
        "import tensorflow as tf\n",
        "from tensorflow import keras\n",
        "from tensorflow.keras import layers\n",
        "from keras.models import Sequential\n",
        "from keras.layers import Dense, BatchNormalization\n",
        "from keras.layers import Flatten\n",
        "from keras.layers import Dropout\n",
        "from keras.models import Input, Model\n",
        "from keras.layers.convolutional import Conv1D\n",
        "from keras.layers.convolutional import MaxPooling1D\n",
        "from tensorflow.keras.optimizers import Adam, Nadam"
      ],
      "metadata": {
        "id": "sNDocmcFba3b"
      },
      "execution_count": 164,
      "outputs": []
    },
    {
      "cell_type": "code",
      "source": [
        "###### ONLY EXECUTE FOR KERAS 2D CNN #####\n",
        "\n",
        "X_train_2d = X_train.reshape(X_train.shape[0], \n",
        "                             1,\n",
        "                          X_train.shape[1], \n",
        "                          X_train.shape[2],\n",
        "                          1\n",
        "                          )\n",
        "X_val_2d = X_val.reshape(X_val.shape[0],\n",
        "                         1,\n",
        "                          X_val.shape[1], \n",
        "                          X_val.shape[2],\n",
        "                         1\n",
        "                          )\n",
        "X_test_2d = X_test.reshape(X_test.shape[0],\n",
        "                           1,\n",
        "                          X_test.shape[1], \n",
        "                          X_test.shape[2],\n",
        "                           1\n",
        "                          )\n",
        "\n",
        "from tensorflow.keras.utils import to_categorical\n",
        "\n",
        "y_train_final = to_categorical(y_train, 3)\n",
        "y_val_final = to_categorical(y_val, 3)\n",
        "y_test_final = to_categorical(y_test, 3)\n",
        "\n",
        "print(f'X Train Length {X_train_1d.shape}, y Train Label Length {y_train_final.shape}')\n",
        "print(f'X Val Length {X_val_1d.shape}, y Val Label Length {y_val_final.shape}')\n",
        "print(f'X Test Length {X_test_1d.shape}, y Test Label Length {y_test_final.shape}')"
      ],
      "metadata": {
        "colab": {
          "base_uri": "https://localhost:8080/"
        },
        "id": "eKEjLzl2bCnX",
        "outputId": "9a292b2d-3d66-4108-a250-11025771e976"
      },
      "execution_count": 159,
      "outputs": [
        {
          "output_type": "stream",
          "name": "stdout",
          "text": [
            "X Train Length (4050, 5, 24, 1), y Train Label Length (4050, 3)\n",
            "X Val Length (1435, 5, 24, 1), y Val Label Length (1435, 3)\n",
            "X Test Length (1095, 5, 24, 1), y Test Label Length (1095, 3)\n"
          ]
        }
      ]
    },
    {
      "cell_type": "code",
      "source": [
        "# Construct the input layer with no definite frame size.\n",
        "inp = layers.Input(shape=(X_train_2d.shape[1:]))\n",
        "\n",
        "# We will construct 3 `ConvLSTM2D` layers with batch normalization,\n",
        "# followed by a `Conv3D` layer for the spatiotemporal outputs.\n",
        "x = layers.ConvLSTM2D(\n",
        "    filters=32,\n",
        "    kernel_size=(1, 4),\n",
        "    strides=(1, 4),\n",
        "    padding=\"same\",\n",
        "    return_sequences=True,\n",
        "    activation=\"relu\",\n",
        ")(inp)\n",
        "x = layers.BatchNormalization()(x)\n",
        "x = layers.ConvLSTM2D(\n",
        "    filters=64,\n",
        "    kernel_size=(1, 3),\n",
        "    strides=(1, 3),\n",
        "    padding=\"same\",\n",
        "    return_sequences=True,\n",
        "    activation=\"relu\",\n",
        ")(x)\n",
        "x = layers.BatchNormalization()(x)\n",
        "x = layers.ConvLSTM2D(\n",
        "    filters=64,\n",
        "    kernel_size=(1, 2),\n",
        "    strides=(1, 2),\n",
        "    padding=\"same\",\n",
        "    return_sequences=True,\n",
        "    activation=\"relu\",\n",
        ")(x)\n",
        "x = layers.Conv2D(\n",
        "    filters=1, kernel_size=(1, 3), strides=(1, 1), activation=\"sigmoid\", padding=\"same\"\n",
        ")(x)\n",
        "x = layers.Flatten()(x)\n",
        "x = layers.Dense(1000,activation=\"relu\")(x)\n",
        "x = layers.Dense(500,activation=\"relu\")(x)\n",
        "x = layers.Dense(3,activation=\"softmax\")(x)\n",
        "\n",
        "# Next, we will build the complete model and compile it.\n",
        "model = keras.models.Model(inp, x)\n",
        "\n",
        "model.summary()\n",
        "\n",
        "model.compile(\n",
        "    loss=keras.losses.binary_crossentropy, optimizer=keras.optimizers.Adam(),\n",
        ")"
      ],
      "metadata": {
        "colab": {
          "base_uri": "https://localhost:8080/"
        },
        "id": "QA368lhLa1Hz",
        "outputId": "c0ea81fd-0679-470a-9644-0db2e7483d57"
      },
      "execution_count": 177,
      "outputs": [
        {
          "output_type": "stream",
          "name": "stdout",
          "text": [
            "Model: \"model_16\"\n",
            "_________________________________________________________________\n",
            " Layer (type)                Output Shape              Param #   \n",
            "=================================================================\n",
            " input_20 (InputLayer)       [(None, 1, 5, 24, 1)]     0         \n",
            "                                                                 \n",
            " conv_lstm2d_51 (ConvLSTM2D)  (None, 1, 5, 6, 32)      17024     \n",
            "                                                                 \n",
            " batch_normalization_32 (Bat  (None, 1, 5, 6, 32)      128       \n",
            " chNormalization)                                                \n",
            "                                                                 \n",
            " conv_lstm2d_52 (ConvLSTM2D)  (None, 1, 5, 2, 64)      73984     \n",
            "                                                                 \n",
            " batch_normalization_33 (Bat  (None, 1, 5, 2, 64)      256       \n",
            " chNormalization)                                                \n",
            "                                                                 \n",
            " conv_lstm2d_53 (ConvLSTM2D)  (None, 1, 5, 1, 64)      65792     \n",
            "                                                                 \n",
            " conv2d_12 (Conv2D)          (None, 1, 5, 1, 1)        193       \n",
            "                                                                 \n",
            " flatten_9 (Flatten)         (None, 5)                 0         \n",
            "                                                                 \n",
            " dense_28 (Dense)            (None, 1000)              6000      \n",
            "                                                                 \n",
            " dense_29 (Dense)            (None, 500)               500500    \n",
            "                                                                 \n",
            " dense_30 (Dense)            (None, 3)                 1503      \n",
            "                                                                 \n",
            "=================================================================\n",
            "Total params: 665,380\n",
            "Trainable params: 665,188\n",
            "Non-trainable params: 192\n",
            "_________________________________________________________________\n"
          ]
        }
      ]
    },
    {
      "cell_type": "code",
      "source": [
        "early_stopping = keras.callbacks.EarlyStopping(monitor=\"val_loss\", patience=10)\n",
        "reduce_lr = keras.callbacks.ReduceLROnPlateau(monitor=\"val_loss\", patience=5)\n",
        "\n",
        "# Define modifiable training hyperparameters.\n",
        "epochs = 20\n",
        "batch_size = 15\n",
        "\n",
        "# Fit the model to the training data.\n",
        "model.fit(\n",
        "    X_train_2d,\n",
        "    y_train_final,\n",
        "    batch_size=batch_size,\n",
        "    epochs=epochs,\n",
        "    validation_data=(X_val_2d, y_val_final),\n",
        "    callbacks=[early_stopping, reduce_lr],\n",
        ")"
      ],
      "metadata": {
        "colab": {
          "base_uri": "https://localhost:8080/"
        },
        "id": "v31WV3A5a1Rb",
        "outputId": "4ef3cfbc-6804-4efa-eb7c-405e46ea9ce2"
      },
      "execution_count": 178,
      "outputs": [
        {
          "output_type": "stream",
          "name": "stdout",
          "text": [
            "Epoch 1/20\n",
            "270/270 [==============================] - 10s 17ms/step - loss: 0.6084 - val_loss: 0.6138 - lr: 0.0010\n",
            "Epoch 2/20\n",
            "270/270 [==============================] - 4s 14ms/step - loss: 0.6057 - val_loss: 0.6128 - lr: 0.0010\n",
            "Epoch 3/20\n",
            "270/270 [==============================] - 4s 14ms/step - loss: 0.6017 - val_loss: 0.6197 - lr: 0.0010\n",
            "Epoch 4/20\n",
            "270/270 [==============================] - 4s 14ms/step - loss: 0.6047 - val_loss: 0.6121 - lr: 0.0010\n",
            "Epoch 5/20\n",
            "270/270 [==============================] - 4s 14ms/step - loss: 0.6037 - val_loss: 0.6110 - lr: 0.0010\n",
            "Epoch 6/20\n",
            "270/270 [==============================] - 4s 14ms/step - loss: 0.6035 - val_loss: 0.6120 - lr: 0.0010\n",
            "Epoch 7/20\n",
            "270/270 [==============================] - 4s 14ms/step - loss: 0.6032 - val_loss: 0.6107 - lr: 0.0010\n",
            "Epoch 8/20\n",
            "270/270 [==============================] - 4s 14ms/step - loss: 0.6023 - val_loss: 0.6108 - lr: 0.0010\n",
            "Epoch 9/20\n",
            "270/270 [==============================] - 4s 14ms/step - loss: 0.6024 - val_loss: 0.6151 - lr: 0.0010\n",
            "Epoch 10/20\n",
            "270/270 [==============================] - 4s 14ms/step - loss: 0.6021 - val_loss: 0.6138 - lr: 0.0010\n",
            "Epoch 11/20\n",
            "270/270 [==============================] - 4s 14ms/step - loss: 0.6016 - val_loss: 0.6130 - lr: 0.0010\n",
            "Epoch 12/20\n",
            "270/270 [==============================] - 4s 14ms/step - loss: 0.6019 - val_loss: 0.6148 - lr: 0.0010\n",
            "Epoch 13/20\n",
            "270/270 [==============================] - 4s 14ms/step - loss: 0.6003 - val_loss: 0.6149 - lr: 1.0000e-04\n",
            "Epoch 14/20\n",
            "270/270 [==============================] - 4s 14ms/step - loss: 0.6000 - val_loss: 0.6166 - lr: 1.0000e-04\n",
            "Epoch 15/20\n",
            "270/270 [==============================] - 4s 14ms/step - loss: 0.6000 - val_loss: 0.6187 - lr: 1.0000e-04\n",
            "Epoch 16/20\n",
            "270/270 [==============================] - 4s 15ms/step - loss: 0.5996 - val_loss: 0.6193 - lr: 1.0000e-04\n",
            "Epoch 17/20\n",
            "270/270 [==============================] - 4s 15ms/step - loss: 0.5997 - val_loss: 0.6176 - lr: 1.0000e-04\n"
          ]
        },
        {
          "output_type": "execute_result",
          "data": {
            "text/plain": [
              "<keras.callbacks.History at 0x7f874273a110>"
            ]
          },
          "metadata": {},
          "execution_count": 178
        }
      ]
    },
    {
      "cell_type": "code",
      "source": [
        "plt.plot(hist.history['loss'], label='train loss')\n",
        "plt.plot(hist.history['val_loss'], label='val loss')\n",
        "plt.legend()\n",
        "plt.show()\n",
        "plt.savefig('LossVal_loss')"
      ],
      "metadata": {
        "colab": {
          "base_uri": "https://localhost:8080/",
          "height": 285
        },
        "id": "Z8oNnSOkWil-",
        "outputId": "016a3b46-e7a1-40f7-e909-21f6c29cf5c6"
      },
      "execution_count": null,
      "outputs": [
        {
          "output_type": "display_data",
          "data": {
            "image/png": "[encoded data removed]",
            "text/plain": [
              "<Figure size 432x288 with 1 Axes>"
            ]
          },
          "metadata": {
            "needs_background": "light"
          }
        },
        {
          "output_type": "display_data",
          "data": {
            "text/plain": [
              "<Figure size 432x288 with 0 Axes>"
            ]
          },
          "metadata": {}
        }
      ]
    },
    {
      "cell_type": "code",
      "source": [
        "plt.plot(hist.history['accuracy'], label='train acc')\n",
        "plt.plot(hist.history['val_accuracy'], label='val acc')\n",
        "plt.legend()\n",
        "plt.show()\n",
        "plt.savefig('AccVal_acc')"
      ],
      "metadata": {
        "colab": {
          "base_uri": "https://localhost:8080/",
          "height": 282
        },
        "id": "HFKPV65gW-z7",
        "outputId": "ef609e32-3270-4aad-fb6e-9afef9399a34"
      },
      "execution_count": null,
      "outputs": [
        {
          "output_type": "display_data",
          "data": {
            "image/png": "[encoded data removed]",
            "text/plain": [
              "<Figure size 432x288 with 1 Axes>"
            ]
          },
          "metadata": {
            "needs_background": "light"
          }
        },
        {
          "output_type": "display_data",
          "data": {
            "text/plain": [
              "<Figure size 432x288 with 0 Axes>"
            ]
          },
          "metadata": {}
        }
      ]
    },
    {
      "cell_type": "code",
      "source": [
        "y_val_pred = m.predict(X_test_1d)"
      ],
      "metadata": {
        "id": "YDZPZcyMXBNA"
      },
      "execution_count": null,
      "outputs": []
    },
    {
      "cell_type": "code",
      "source": [
        "# Calculate the accuracy\n",
        "test_preds = np.argmax(y_val_pred, axis=1)\n",
        "y_true = np.argmax(y_test_final, axis=1)\n",
        "test_acc = np.sum(test_preds == y_true)/y_true.shape[0]\n",
        "\n",
        "# Recall for each class\n",
        "recall_vals = []\n",
        "for i in range(3):\n",
        "    class_idx = np.argwhere(y_true==i)\n",
        "    total = len(class_idx)\n",
        "    correct = np.sum(test_preds[class_idx]==i)\n",
        "    recall = correct / total\n",
        "    recall_vals.append(recall)\n",
        "\n",
        "classes = [0, 1, 2]\n",
        "# Calculate the test set accuracy and recall for each class\n",
        "print('Test set accuracy is {:.3f}'.format(test_acc))\n",
        "for i in range(3):\n",
        "    print('For class {}, recall is {:.3f}'.format(classes[i],recall_vals[i]))\n",
        "\n",
        "print(\"Accuracy is {:.3f}\".format(test_acc))\n",
        "# print(\"Weighted F score is {:.3f}\".format(calculate_weighted_f_score(y_true, y_pred)))"
      ],
      "metadata": {
        "colab": {
          "base_uri": "https://localhost:8080/"
        },
        "id": "EO2oGmbHXBKU",
        "outputId": "70e0c4cc-7b18-4970-f50c-eadb0aa6e160"
      },
      "execution_count": null,
      "outputs": [
        {
          "output_type": "stream",
          "name": "stdout",
          "text": [
            "Test set accuracy is 0.517\n",
            "For class 0, recall is 0.904\n",
            "For class 1, recall is 0.108\n",
            "For class 2, recall is 0.016\n",
            "Accuracy is 0.517\n"
          ]
        }
      ]
    },
    {
      "cell_type": "code",
      "source": [
        "from sklearn.metrics import confusion_matrix\n",
        "\n",
        "def plot_confusion_matrix(cm,\n",
        "                          target_names,\n",
        "                          title='Confusion matrix',\n",
        "                          cmap=None,\n",
        "                          normalize=True):\n",
        "    \"\"\"\n",
        "    given a sklearn confusion matrix (cm), make a nice plot\n",
        "\n",
        "    Arguments\n",
        "    ---------\n",
        "    cm:           confusion matrix from sklearn.metrics.confusion_matrix\n",
        "\n",
        "    target_names: given classification classes such as [0, 1, 2]\n",
        "                  the class names, for example: ['high', 'medium', 'low']\n",
        "\n",
        "    title:        the text to display at the top of the matrix\n",
        "\n",
        "    cmap:         the gradient of the values displayed from matplotlib.pyplot.cm\n",
        "                  see http://matplotlib.org/examples/color/colormaps_reference.html\n",
        "                  plt.get_cmap('jet') or plt.cm.Blues\n",
        "\n",
        "    normalize:    If False, plot the raw numbers\n",
        "                  If True, plot the proportions\n",
        "\n",
        "    Usage\n",
        "    -----\n",
        "    plot_confusion_matrix(cm           = cm,                  # confusion matrix created by\n",
        "                                                              # sklearn.metrics.confusion_matrix\n",
        "                          normalize    = True,                # show proportions\n",
        "                          target_names = y_labels_vals,       # list of names of the classes\n",
        "                          title        = best_estimator_name) # title of graph\n",
        "\n",
        "    Citiation\n",
        "    ---------\n",
        "    http://scikit-learn.org/stable/auto_examples/model_selection/plot_confusion_matrix.html\n",
        "\n",
        "    \"\"\"\n",
        "    import matplotlib.pyplot as plt\n",
        "    import numpy as np\n",
        "    import itertools\n",
        "\n",
        "    accuracy = np.trace(cm) / np.sum(cm).astype('float')\n",
        "    misclass = 1 - accuracy\n",
        "\n",
        "    if cmap is None:\n",
        "        cmap = plt.get_cmap('Blues')\n",
        "\n",
        "    plt.figure(figsize=(8, 6))\n",
        "    plt.imshow(cm, interpolation='nearest', cmap=cmap)\n",
        "    plt.title(title)\n",
        "    plt.colorbar()\n",
        "\n",
        "    if target_names is not None:\n",
        "        tick_marks = np.arange(len(target_names))\n",
        "        plt.xticks(tick_marks, target_names, rotation=45)\n",
        "        plt.yticks(tick_marks, target_names)\n",
        "\n",
        "    if normalize:\n",
        "        cm = cm.astype('float') / cm.sum(axis=1)[:, np.newaxis]\n",
        "\n",
        "\n",
        "    thresh = cm.max() / 1.5 if normalize else cm.max() / 2\n",
        "    for i, j in itertools.product(range(cm.shape[0]), range(cm.shape[1])):\n",
        "        if normalize:\n",
        "            plt.text(j, i, \"{:0.4f}\".format(cm[i, j]),\n",
        "                     horizontalalignment=\"center\",\n",
        "                     color=\"white\" if cm[i, j] > thresh else \"black\")\n",
        "        else:\n",
        "            plt.text(j, i, \"{:,}\".format(cm[i, j]),\n",
        "                     horizontalalignment=\"center\",\n",
        "                     color=\"white\" if cm[i, j] > thresh else \"black\")\n",
        "\n",
        "\n",
        "    plt.tight_layout()\n",
        "    plt.ylabel('True label')\n",
        "    plt.xlabel('Predicted label\\naccuracy={:0.4f}; misclass={:0.4f}'.format(accuracy, misclass))\n",
        "    plt.show()\n",
        "\n",
        "nb_classes = 3\n",
        "\n",
        "# Confusion matrix\n",
        "conf_mat=confusion_matrix(y_true, np.argmax(y_val_pred, axis=-1))\n",
        "plot_confusion_matrix(conf_mat, [0,1,2])\n",
        "\n",
        "from sklearn.metrics import precision_score\n",
        "\n",
        "precision_score(y_true, np.argmax(y_val_pred, axis=-1), average='weighted')\n",
        "\n",
        "from sklearn.metrics import classification_report\n",
        "\n",
        "print(classification_report(y_true, np.argmax(y_val_pred, axis=-1), target_names=[\"flat\", \"down\", \"up\"], digits=4))"
      ],
      "metadata": {
        "colab": {
          "base_uri": "https://localhost:8080/",
          "height": 641
        },
        "id": "TYW7cFkTXBHL",
        "outputId": "d3579e4f-6013-41a7-e2f2-1c906eca9e40"
      },
      "execution_count": null,
      "outputs": [
        {
          "output_type": "display_data",
          "data": {
            "image/png": "[encoded data removed]",
            "text/plain": [
              "<Figure size 576x432 with 2 Axes>"
            ]
          },
          "metadata": {
            "needs_background": "light"
          }
        },
        {
          "output_type": "stream",
          "name": "stdout",
          "text": [
            "              precision    recall  f1-score   support\n",
            "\n",
            "        flat     0.5511    0.9036    0.6846       591\n",
            "        down     0.2917    0.1081    0.1577       259\n",
            "          up     0.1333    0.0163    0.0291       245\n",
            "\n",
            "    accuracy                         0.5169      1095\n",
            "   macro avg     0.3254    0.3427    0.2905      1095\n",
            "weighted avg     0.3963    0.5169    0.4133      1095\n",
            "\n"
          ]
        }
      ]
    },
    {
      "cell_type": "code",
      "source": [
        "def calculate_weighted_f_score(y_true, y_pred):\n",
        "  test_preds = np.argmax(y_pred, axis=-1)\n",
        "  Ntu = sum((test_preds == 2) & (y_true == 2))\n",
        "  Ntd = sum((test_preds == 1) & (y_true == 1))\n",
        "  Ntf = sum((test_preds == 0) & (y_true == 0))\n",
        "  Ewutd = sum((test_preds == 2) & (y_true == 1))\n",
        "  Ewdtu = sum((test_preds == 1) & (y_true == 2))\n",
        "  Ewutf = sum((test_preds == 2) & (y_true == 0))\n",
        "  Ewdtf = sum((test_preds == 1) & (y_true == 0))\n",
        "  Ewftu = sum((test_preds == 0) & (y_true == 2))\n",
        "  Ewftd = sum((test_preds == 0) & (y_true == 1))\n",
        "\n",
        "  beta_1 = 0.5\n",
        "  beta_2 = 0.125\n",
        "  beta_3 = 0.125\n",
        "\n",
        "  Ntp = Ntu + Ntd + beta_3**2 * Ntf\n",
        "  E1 = Ewutd + Ewdtu\n",
        "  E2 = Ewutf + Ewdtf\n",
        "  E3 = Ewftu + Ewftd\n",
        "\n",
        "  F = (1 + beta_1**2 + beta_2**2) * Ntp / ((1+beta_1**2+beta_2**2) * Ntp + E1 + beta_1**2 * E2 + beta_2**2 * E3)\n",
        "  return  F\n",
        "\n",
        "print(f'Weight CDT F Score: {calculate_weighted_f_score(y_true, y_val_pred)}')"
      ],
      "metadata": {
        "colab": {
          "base_uri": "https://localhost:8080/"
        },
        "id": "mTflymqSXBEb",
        "outputId": "fc68c033-c735-46d9-c189-82cdc62911b5"
      },
      "execution_count": null,
      "outputs": [
        {
          "output_type": "stream",
          "name": "stdout",
          "text": [
            "Weight CDT F Score: 0.4877044288636597\n"
          ]
        }
      ]
    },
    {
      "cell_type": "code",
      "source": [
        ""
      ],
      "metadata": {
        "id": "cxIojFVqa0vQ"
      },
      "execution_count": null,
      "outputs": []
    },
    {
      "cell_type": "markdown",
      "source": [
        "# LSTM Prediction"
      ],
      "metadata": {
        "id": "5tXPYV5lcRBx"
      }
    },
    {
      "cell_type": "code",
      "source": [
        "import torch #pytorch\n",
        "import torch.nn as nn\n",
        "from torch.autograd import Variable "
      ],
      "metadata": {
        "id": "BaUT5J7bcQHe"
      },
      "execution_count": 102,
      "outputs": []
    },
    {
      "cell_type": "code",
      "source": [
        "###### ONLY EXECUTE FOR KERAS 2D CNN #####\n",
        "\n",
        "X_train_1d = X_train.reshape(X_train.shape[0], \n",
        "                          X_train.shape[1], \n",
        "                          X_train.shape[2],\n",
        "                          )\n",
        "X_val_1d = X_val.reshape(X_val.shape[0],\n",
        "                          X_val.shape[1], \n",
        "                          X_val.shape[2],\n",
        "                          )\n",
        "X_test_1d = X_test.reshape(X_test.shape[0],\n",
        "                          X_test.shape[1], \n",
        "                          X_test.shape[2],\n",
        "                          )\n",
        "\n",
        "from tensorflow.keras.utils import to_categorical\n",
        "\n",
        "y_train_final = to_categorical(y_train, 3)\n",
        "y_val_final = to_categorical(y_val, 3)\n",
        "y_test_final = to_categorical(y_test, 3)\n",
        "\n",
        "print(f'X Train Length {X_train_1d.shape}, y Train Label Length {y_train_final.shape}')\n",
        "print(f'X Val Length {X_val_1d.shape}, y Val Label Length {y_val_final.shape}')\n",
        "print(f'X Test Length {X_test_1d.shape}, y Test Label Length {y_test_final.shape}')"
      ],
      "metadata": {
        "id": "aaX4It05cei9"
      },
      "execution_count": 103,
      "outputs": []
    },
    {
      "cell_type": "code",
      "source": [
        "X_train_tensors = Variable(torch.Tensor(X_train_1d))\n",
        "X_val_tensors = Variable(torch.Tensor(X_val_1d))\n",
        "\n",
        "y_train_tensors = Variable(torch.Tensor(y_train_final))\n",
        "y_val_tensors = Variable(torch.Tensor(y_val_final)) "
      ],
      "metadata": {
        "id": "uOQkkyxYcnlG"
      },
      "execution_count": 105,
      "outputs": []
    },
    {
      "cell_type": "code",
      "source": [
        "X_train_tensors_final = torch.reshape(X_train_tensors,   (X_train_tensors.shape[0], X_train_tensors.shape[1], X_train_tensors.shape[2]))\n",
        "X_val_tensors_final = torch.reshape(X_val_tensors,  (X_test_tensors.shape[0], X_train_tensors.shape[1], X_test_tensors.shape[2])) "
      ],
      "metadata": {
        "id": "c0l3ieVmcxFm"
      },
      "execution_count": 106,
      "outputs": []
    },
    {
      "cell_type": "code",
      "source": [
        "class LSTM1(nn.Module):\n",
        "    def __init__(self, num_classes, input_size, hidden_size, num_layers, seq_length):\n",
        "        super(LSTM1, self).__init__()\n",
        "        self.num_classes = num_classes #number of classes\n",
        "        self.num_layers = num_layers #number of layers\n",
        "        self.input_size = input_size #input size\n",
        "        self.hidden_size = hidden_size #hidden state\n",
        "        self.seq_length = seq_length #sequence length\n",
        "\n",
        "        self.lstm = nn.LSTM(input_size=input_size, hidden_size=hidden_size,\n",
        "                          num_layers=num_layers, batch_first=True) #lstm\n",
        "        self.fc_1 =  nn.Linear(hidden_size, 128) #fully connected 1\n",
        "        self.fc = nn.Linear(128, num_classes) #fully connected last layer\n",
        "\n",
        "        self.relu = nn.ReLU()\n",
        "    \n",
        "    def forward(self,x):\n",
        "        h_0 = Variable(torch.zeros(self.num_layers, x.size(0), self.hidden_size)) #hidden state\n",
        "        c_0 = Variable(torch.zeros(self.num_layers, x.size(0), self.hidden_size)) #internal state\n",
        "        # Propagate input through LSTM\n",
        "        output, (hn, cn) = self.lstm(x, (h_0, c_0)) #lstm with input, hidden, and internal state\n",
        "        hn = hn.view(-1, self.hidden_size) #reshaping the data for Dense layer next\n",
        "        out = self.relu(hn)\n",
        "        out = self.fc_1(out) #first Dense\n",
        "        out = self.relu(out) #relu\n",
        "        out = self.fc(out) #Final Output\n",
        "        return out"
      ],
      "metadata": {
        "id": "3j-HX3ZBdCgm"
      },
      "execution_count": 107,
      "outputs": []
    },
    {
      "cell_type": "code",
      "source": [
        "num_epochs = 1000 #1000 epochs\n",
        "learning_rate = 0.001 #0.001 lr\n",
        "\n",
        "input_size = 24 #number of features\n",
        "hidden_size = 2 #number of features in hidden state\n",
        "num_layers = 24 #number of stacked lstm layers\n",
        "\n",
        "num_classes = 3 #number of output classes "
      ],
      "metadata": {
        "id": "RbTwd0mhdLcS"
      },
      "execution_count": 116,
      "outputs": []
    },
    {
      "cell_type": "code",
      "source": [
        "lstm1 = LSTM1(num_classes, input_size, hidden_size, num_layers, X_train_tensors_final.shape[2]) #our lstm class"
      ],
      "metadata": {
        "id": "PonlU4aLgcsm"
      },
      "execution_count": 120,
      "outputs": []
    },
    {
      "cell_type": "code",
      "source": [
        "criterion = torch.nn.MSELoss()    # mean-squared error for regression\n",
        "optimizer = torch.optim.Adam(lstm1.parameters(), lr=learning_rate) "
      ],
      "metadata": {
        "id": "eTjKvnq2gfbJ"
      },
      "execution_count": 121,
      "outputs": []
    },
    {
      "cell_type": "code",
      "source": [
        "for epoch in range(num_epochs):\n",
        "  outputs = lstm1.forward(X_train_tensors_final) #forward pass\n",
        "  optimizer.zero_grad() #caluclate the gradient, manually setting to 0\n",
        " \n",
        "  # obtain the loss function\n",
        "  loss = criterion(outputs, y_train_tensors)\n",
        " \n",
        "  loss.backward() #calculates the loss of the loss function\n",
        " \n",
        "  optimizer.step() #improve from loss, i.e backprop\n",
        "  if epoch % 100 == 0:\n",
        "    print(\"Epoch: %d, loss: %1.5f\" % (epoch, loss.item())) "
      ],
      "metadata": {
        "colab": {
          "base_uri": "https://localhost:8080/",
          "height": 435
        },
        "id": "pYzJzIG9ggdL",
        "outputId": "137e87e5-ae81-448c-ae6c-443d7ceea560"
      },
      "execution_count": 122,
      "outputs": [
        {
          "output_type": "stream",
          "name": "stderr",
          "text": [
            "/usr/local/lib/python3.7/dist-packages/torch/nn/modules/loss.py:520: UserWarning: Using a target size (torch.Size([4055, 3])) that is different to the input size (torch.Size([97320, 3])). This will likely lead to incorrect results due to broadcasting. Please ensure they have the same size.\n",
            "  return F.mse_loss(input, target, reduction=self.reduction)\n"
          ]
        },
        {
          "output_type": "error",
          "ename": "RuntimeError",
          "evalue": "ignored",
          "traceback": [
            "\u001b[0;31m---------------------------------------------------------------------------\u001b[0m",
            "\u001b[0;31mRuntimeError\u001b[0m                              Traceback (most recent call last)",
            "\u001b[0;32m<ipython-input-122-0224f37b8a9a>\u001b[0m in \u001b[0;36m<module>\u001b[0;34m()\u001b[0m\n\u001b[1;32m      4\u001b[0m \u001b[0;34m\u001b[0m\u001b[0m\n\u001b[1;32m      5\u001b[0m   \u001b[0;31m# obtain the loss function\u001b[0m\u001b[0;34m\u001b[0m\u001b[0;34m\u001b[0m\u001b[0;34m\u001b[0m\u001b[0m\n\u001b[0;32m----> 6\u001b[0;31m   \u001b[0mloss\u001b[0m \u001b[0;34m=\u001b[0m \u001b[0mcriterion\u001b[0m\u001b[0;34m(\u001b[0m\u001b[0moutputs\u001b[0m\u001b[0;34m,\u001b[0m \u001b[0my_train_tensors\u001b[0m\u001b[0;34m)\u001b[0m\u001b[0;34m\u001b[0m\u001b[0;34m\u001b[0m\u001b[0m\n\u001b[0m\u001b[1;32m      7\u001b[0m \u001b[0;34m\u001b[0m\u001b[0m\n\u001b[1;32m      8\u001b[0m   \u001b[0mloss\u001b[0m\u001b[0;34m.\u001b[0m\u001b[0mbackward\u001b[0m\u001b[0;34m(\u001b[0m\u001b[0;34m)\u001b[0m \u001b[0;31m#calculates the loss of the loss function\u001b[0m\u001b[0;34m\u001b[0m\u001b[0;34m\u001b[0m\u001b[0m\n",
            "\u001b[0;32m/usr/local/lib/python3.7/dist-packages/torch/nn/modules/module.py\u001b[0m in \u001b[0;36m_call_impl\u001b[0;34m(self, *input, **kwargs)\u001b[0m\n\u001b[1;32m   1100\u001b[0m         if not (self._backward_hooks or self._forward_hooks or self._forward_pre_hooks or _global_backward_hooks\n\u001b[1;32m   1101\u001b[0m                 or _global_forward_hooks or _global_forward_pre_hooks):\n\u001b[0;32m-> 1102\u001b[0;31m             \u001b[0;32mreturn\u001b[0m \u001b[0mforward_call\u001b[0m\u001b[0;34m(\u001b[0m\u001b[0;34m*\u001b[0m\u001b[0minput\u001b[0m\u001b[0;34m,\u001b[0m \u001b[0;34m**\u001b[0m\u001b[0mkwargs\u001b[0m\u001b[0;34m)\u001b[0m\u001b[0;34m\u001b[0m\u001b[0;34m\u001b[0m\u001b[0m\n\u001b[0m\u001b[1;32m   1103\u001b[0m         \u001b[0;31m# Do not call functions when jit is used\u001b[0m\u001b[0;34m\u001b[0m\u001b[0;34m\u001b[0m\u001b[0;34m\u001b[0m\u001b[0m\n\u001b[1;32m   1104\u001b[0m         \u001b[0mfull_backward_hooks\u001b[0m\u001b[0;34m,\u001b[0m \u001b[0mnon_full_backward_hooks\u001b[0m \u001b[0;34m=\u001b[0m \u001b[0;34m[\u001b[0m\u001b[0;34m]\u001b[0m\u001b[0;34m,\u001b[0m \u001b[0;34m[\u001b[0m\u001b[0;34m]\u001b[0m\u001b[0;34m\u001b[0m\u001b[0;34m\u001b[0m\u001b[0m\n",
            "\u001b[0;32m/usr/local/lib/python3.7/dist-packages/torch/nn/modules/loss.py\u001b[0m in \u001b[0;36mforward\u001b[0;34m(self, input, target)\u001b[0m\n\u001b[1;32m    518\u001b[0m \u001b[0;34m\u001b[0m\u001b[0m\n\u001b[1;32m    519\u001b[0m     \u001b[0;32mdef\u001b[0m \u001b[0mforward\u001b[0m\u001b[0;34m(\u001b[0m\u001b[0mself\u001b[0m\u001b[0;34m,\u001b[0m \u001b[0minput\u001b[0m\u001b[0;34m:\u001b[0m \u001b[0mTensor\u001b[0m\u001b[0;34m,\u001b[0m \u001b[0mtarget\u001b[0m\u001b[0;34m:\u001b[0m \u001b[0mTensor\u001b[0m\u001b[0;34m)\u001b[0m \u001b[0;34m->\u001b[0m \u001b[0mTensor\u001b[0m\u001b[0;34m:\u001b[0m\u001b[0;34m\u001b[0m\u001b[0;34m\u001b[0m\u001b[0m\n\u001b[0;32m--> 520\u001b[0;31m         \u001b[0;32mreturn\u001b[0m \u001b[0mF\u001b[0m\u001b[0;34m.\u001b[0m\u001b[0mmse_loss\u001b[0m\u001b[0;34m(\u001b[0m\u001b[0minput\u001b[0m\u001b[0;34m,\u001b[0m \u001b[0mtarget\u001b[0m\u001b[0;34m,\u001b[0m \u001b[0mreduction\u001b[0m\u001b[0;34m=\u001b[0m\u001b[0mself\u001b[0m\u001b[0;34m.\u001b[0m\u001b[0mreduction\u001b[0m\u001b[0;34m)\u001b[0m\u001b[0;34m\u001b[0m\u001b[0;34m\u001b[0m\u001b[0m\n\u001b[0m\u001b[1;32m    521\u001b[0m \u001b[0;34m\u001b[0m\u001b[0m\n\u001b[1;32m    522\u001b[0m \u001b[0;34m\u001b[0m\u001b[0m\n",
            "\u001b[0;32m/usr/local/lib/python3.7/dist-packages/torch/nn/functional.py\u001b[0m in \u001b[0;36mmse_loss\u001b[0;34m(input, target, size_average, reduce, reduction)\u001b[0m\n\u001b[1;32m   3109\u001b[0m         \u001b[0mreduction\u001b[0m \u001b[0;34m=\u001b[0m \u001b[0m_Reduction\u001b[0m\u001b[0;34m.\u001b[0m\u001b[0mlegacy_get_string\u001b[0m\u001b[0;34m(\u001b[0m\u001b[0msize_average\u001b[0m\u001b[0;34m,\u001b[0m \u001b[0mreduce\u001b[0m\u001b[0;34m)\u001b[0m\u001b[0;34m\u001b[0m\u001b[0;34m\u001b[0m\u001b[0m\n\u001b[1;32m   3110\u001b[0m \u001b[0;34m\u001b[0m\u001b[0m\n\u001b[0;32m-> 3111\u001b[0;31m     \u001b[0mexpanded_input\u001b[0m\u001b[0;34m,\u001b[0m \u001b[0mexpanded_target\u001b[0m \u001b[0;34m=\u001b[0m \u001b[0mtorch\u001b[0m\u001b[0;34m.\u001b[0m\u001b[0mbroadcast_tensors\u001b[0m\u001b[0;34m(\u001b[0m\u001b[0minput\u001b[0m\u001b[0;34m,\u001b[0m \u001b[0mtarget\u001b[0m\u001b[0;34m)\u001b[0m\u001b[0;34m\u001b[0m\u001b[0;34m\u001b[0m\u001b[0m\n\u001b[0m\u001b[1;32m   3112\u001b[0m     \u001b[0;32mreturn\u001b[0m \u001b[0mtorch\u001b[0m\u001b[0;34m.\u001b[0m\u001b[0m_C\u001b[0m\u001b[0;34m.\u001b[0m\u001b[0m_nn\u001b[0m\u001b[0;34m.\u001b[0m\u001b[0mmse_loss\u001b[0m\u001b[0;34m(\u001b[0m\u001b[0mexpanded_input\u001b[0m\u001b[0;34m,\u001b[0m \u001b[0mexpanded_target\u001b[0m\u001b[0;34m,\u001b[0m \u001b[0m_Reduction\u001b[0m\u001b[0;34m.\u001b[0m\u001b[0mget_enum\u001b[0m\u001b[0;34m(\u001b[0m\u001b[0mreduction\u001b[0m\u001b[0;34m)\u001b[0m\u001b[0;34m)\u001b[0m\u001b[0;34m\u001b[0m\u001b[0;34m\u001b[0m\u001b[0m\n\u001b[1;32m   3113\u001b[0m \u001b[0;34m\u001b[0m\u001b[0m\n",
            "\u001b[0;32m/usr/local/lib/python3.7/dist-packages/torch/functional.py\u001b[0m in \u001b[0;36mbroadcast_tensors\u001b[0;34m(*tensors)\u001b[0m\n\u001b[1;32m     70\u001b[0m     \u001b[0;32mif\u001b[0m \u001b[0mhas_torch_function\u001b[0m\u001b[0;34m(\u001b[0m\u001b[0mtensors\u001b[0m\u001b[0;34m)\u001b[0m\u001b[0;34m:\u001b[0m\u001b[0;34m\u001b[0m\u001b[0;34m\u001b[0m\u001b[0m\n\u001b[1;32m     71\u001b[0m         \u001b[0;32mreturn\u001b[0m \u001b[0mhandle_torch_function\u001b[0m\u001b[0;34m(\u001b[0m\u001b[0mbroadcast_tensors\u001b[0m\u001b[0;34m,\u001b[0m \u001b[0mtensors\u001b[0m\u001b[0;34m,\u001b[0m \u001b[0;34m*\u001b[0m\u001b[0mtensors\u001b[0m\u001b[0;34m)\u001b[0m\u001b[0;34m\u001b[0m\u001b[0;34m\u001b[0m\u001b[0m\n\u001b[0;32m---> 72\u001b[0;31m     \u001b[0;32mreturn\u001b[0m \u001b[0m_VF\u001b[0m\u001b[0;34m.\u001b[0m\u001b[0mbroadcast_tensors\u001b[0m\u001b[0;34m(\u001b[0m\u001b[0mtensors\u001b[0m\u001b[0;34m)\u001b[0m  \u001b[0;31m# type: ignore[attr-defined]\u001b[0m\u001b[0;34m\u001b[0m\u001b[0;34m\u001b[0m\u001b[0m\n\u001b[0m\u001b[1;32m     73\u001b[0m \u001b[0;34m\u001b[0m\u001b[0m\n\u001b[1;32m     74\u001b[0m \u001b[0;34m\u001b[0m\u001b[0m\n",
            "\u001b[0;31mRuntimeError\u001b[0m: The size of tensor a (97320) must match the size of tensor b (4055) at non-singleton dimension 0"
          ]
        }
      ]
    },
    {
      "cell_type": "markdown",
      "source": [
        "# KERAS 1D Model"
      ],
      "metadata": {
        "id": "qtbdKWSK7l7o"
      }
    },
    {
      "cell_type": "code",
      "source": [
        "from typing import List, Tuple\n",
        "\n",
        "import keras.backend as K\n",
        "import keras.layers\n",
        "from keras import optimizers\n",
        "from tensorflow.keras.layers import Layer, Input\n",
        "from keras.layers import Activation, Lambda\n",
        "from keras.layers import Conv1D, SpatialDropout1D\n",
        "from keras.layers import Convolution1D, Dense\n",
        "from keras.models import Input, Model\n",
        "\n",
        "\n",
        "def residual_block(x, dilation_rate, nb_filters, kernel_size, padding, activation='relu', dropout_rate=0):\n",
        "    # type: (Layer, int, int, int, str, str, float) -> Tuple[Layer, Layer]\n",
        "    \"\"\"Defines the residual block for the WaveNet TCN\n",
        "    Args:\n",
        "        x: The previous layer in the model\n",
        "        dilation_rate: The dilation power of 2 we are using for this residual block\n",
        "        nb_filters: The number of convolutional filters to use in this block\n",
        "        kernel_size: The size of the convolutional kernel\n",
        "        padding: The padding used in the convolutional layers, 'same' or 'causal'.\n",
        "        activation: The final activation used in o = Activation(x + F(x))\n",
        "        dropout_rate: Float between 0 and 1. Fraction of the input units to drop.\n",
        "    Returns:\n",
        "        A tuple where the first element is the residual model layer, and the second\n",
        "        is the skip connection.\n",
        "    \"\"\"\n",
        "    prev_x = x\n",
        "    for k in range(2):\n",
        "        x = Conv1D(filters=nb_filters,\n",
        "                   kernel_size=kernel_size,\n",
        "                   dilation_rate=dilation_rate,\n",
        "                   padding=padding)(x)\n",
        "        # x = BatchNormalization()(x)  # TODO should be WeightNorm here.\n",
        "        x = Activation('relu')(x)\n",
        "        x = SpatialDropout1D(rate=dropout_rate)(x)\n",
        "\n",
        "    # 1x1 conv to match the shapes (channel dimension).\n",
        "    prev_x = Conv1D(nb_filters, 1, padding='same')(prev_x)\n",
        "    res_x = keras.layers.add([prev_x, x])\n",
        "    res_x = Activation(activation)(res_x)\n",
        "    return res_x, x\n",
        "\n",
        "\n",
        "def process_dilations(dilations):\n",
        "    def is_power_of_two(num):\n",
        "        return num != 0 and ((num & (num - 1)) == 0)\n",
        "\n",
        "    if all([is_power_of_two(i) for i in dilations]):\n",
        "        return dilations\n",
        "\n",
        "    else:\n",
        "        new_dilations = [2 ** i for i in dilations]\n",
        "        return new_dilations\n",
        "\n",
        "\n",
        "class TCN_2D(Layer):\n",
        "    \"\"\"Creates a TCN layer.\n",
        "        Input shape:\n",
        "            A tensor of shape (batch_size, timesteps, input_dim).\n",
        "        Args:\n",
        "            nb_filters: The number of filters to use in the convolutional layers.\n",
        "            kernel_size: The size of the kernel to use in each convolutional layer.\n",
        "            dilations: The list of the dilations. Example is: [1, 2, 4, 8, 16, 32, 64].\n",
        "            nb_stacks : The number of stacks of residual blocks to use.\n",
        "            padding: The padding to use in the convolutional layers, 'causal' or 'same'.\n",
        "            use_skip_connections: Boolean. If we want to add skip connections from input to each residual block.\n",
        "            return_sequences: Boolean. Whether to return the last output in the output sequence, or the full sequence.\n",
        "            activation: The activation used in the residual blocks o = Activation(x + F(x)).\n",
        "            dropout_rate: Float between 0 and 1. Fraction of the input units to drop.\n",
        "            name: Name of the model. Useful when having multiple TCN.\n",
        "        Returns:\n",
        "            A TCN layer.\n",
        "        \"\"\"\n",
        "\n",
        "    def __init__(self,\n",
        "                 nb_filters=64,\n",
        "                 kernel_size=2,\n",
        "                 nb_stacks=1,\n",
        "                 dilations=[1, 2, 4, 8, 16, 32],\n",
        "                 padding='causal',\n",
        "                 use_skip_connections=True,\n",
        "                 dropout_rate=0.0,\n",
        "                 return_sequences=False,\n",
        "                 activation='linear',\n",
        "                 name = \"\"\n",
        "                 ):\n",
        "        self.name = name\n",
        "        self.return_sequences = return_sequences\n",
        "        self.dropout_rate = dropout_rate\n",
        "        self.use_skip_connections = use_skip_connections\n",
        "        self.dilations = dilations\n",
        "        self.nb_stacks = nb_stacks\n",
        "        self.kernel_size = kernel_size\n",
        "        self.nb_filters = nb_filters\n",
        "        self.activation = activation\n",
        "        self.padding = padding\n",
        "\n",
        "        if padding != 'causal' and padding != 'same':\n",
        "            raise ValueError(\"Only 'causal' or 'same' padding are compatible for this layer.\")\n",
        "\n",
        "        if not isinstance(nb_filters, int):\n",
        "            print('An interface change occurred after the version 2.1.2.')\n",
        "            print('Before: tcn.TCN(x, return_sequences=False, ...)')\n",
        "            print('Now should be: tcn.TCN(return_sequences=False, ...)(x)')\n",
        "            print('The alternative is to downgrade to 2.1.2 (pip install keras-tcn==2.1.2).')\n",
        "            raise Exception()\n",
        "\n",
        "    def __call__(self, inputs):\n",
        "        x = inputs\n",
        "        # 1D FCN.\n",
        "        x = Convolution1D(self.nb_filters, 1, padding=self.padding)(x)\n",
        "        skip_connections = []\n",
        "        for s in range(self.nb_stacks):\n",
        "            for d in self.dilations:\n",
        "                x, skip_out = residual_block(x,\n",
        "                                             dilation_rate=d,\n",
        "                                             nb_filters=self.nb_filters,\n",
        "                                             kernel_size=self.kernel_size,\n",
        "                                             padding=self.padding,\n",
        "                                             activation=self.activation,\n",
        "                                             dropout_rate=self.dropout_rate)\n",
        "                skip_connections.append(skip_out)\n",
        "        if self.use_skip_connections:\n",
        "            x = keras.layers.add(skip_connections)\n",
        "        if not self.return_sequences:\n",
        "            x = Lambda(lambda tt: tt[:, -1, :])(x)\n",
        "        return x"
      ],
      "metadata": {
        "id": "Ds8jn0H4BxNU"
      },
      "execution_count": 62,
      "outputs": []
    },
    {
      "cell_type": "code",
      "source": [
        "###### ONLY EXECUTE FOR KERAS 2D CNN #####\n",
        "\n",
        "X_train_1d = X_train.reshape(X_train.shape[0], \n",
        "                          X_train.shape[1], \n",
        "                          X_train.shape[2],\n",
        "                          )\n",
        "X_val_1d = X_val.reshape(X_val.shape[0],\n",
        "                          X_val.shape[1], \n",
        "                          X_val.shape[2],\n",
        "                          )\n",
        "X_test_1d = X_test.reshape(X_test.shape[0],\n",
        "                          X_test.shape[1], \n",
        "                          X_test.shape[2],\n",
        "                          )\n",
        "\n",
        "from tensorflow.keras.utils import to_categorical\n",
        "\n",
        "y_train_final = to_categorical(y_train, 3)\n",
        "y_val_final = to_categorical(y_val, 3)\n",
        "y_test_final = to_categorical(y_test, 3)\n"
      ],
      "metadata": {
        "id": "lNIh0H7JVnF5"
      },
      "execution_count": 74,
      "outputs": []
    },
    {
      "cell_type": "code",
      "source": [
        "print(f'X Train Length {X_train_1d.shape}, y Train Label Length {y_train_final.shape}')\n",
        "print(f'X Val Length {X_val_1d.shape}, y Val Label Length {y_val_final.shape}')\n",
        "print(f'X Test Length {X_test_1d.shape}, y Test Label Length {y_test_final.shape}')"
      ],
      "metadata": {
        "colab": {
          "base_uri": "https://localhost:8080/"
        },
        "outputId": "4b29d5e1-14f0-4fa2-a87c-274038286844",
        "id": "xUtWCihJoI1e"
      },
      "execution_count": 75,
      "outputs": [
        {
          "output_type": "stream",
          "name": "stdout",
          "text": [
            "X Train Length (4055, 5, 24), y Train Label Length (4055, 3)\n",
            "X Val Length (1435, 5, 24), y Val Label Length (1435, 3)\n",
            "X Test Length (1095, 5, 24), y Test Label Length (1095, 3)\n"
          ]
        }
      ]
    },
    {
      "cell_type": "code",
      "source": [
        "!pip install keras-tcn"
      ],
      "metadata": {
        "colab": {
          "base_uri": "https://localhost:8080/"
        },
        "id": "ppjXiMlXTpzi",
        "outputId": "38fad479-b6a7-4bf5-fd4a-8c0e66f018b8"
      },
      "execution_count": 76,
      "outputs": [
        {
          "output_type": "stream",
          "name": "stdout",
          "text": [
            "Requirement already satisfied: keras-tcn in /usr/local/lib/python3.7/dist-packages (3.4.2)\n",
            "Requirement already satisfied: numpy in /usr/local/lib/python3.7/dist-packages (from keras-tcn) (1.21.5)\n",
            "Requirement already satisfied: tensorflow in /usr/local/lib/python3.7/dist-packages (from keras-tcn) (2.8.0)\n",
            "Requirement already satisfied: tensorflow-addons in /usr/local/lib/python3.7/dist-packages (from keras-tcn) (0.16.1)\n",
            "Requirement already satisfied: keras<2.9,>=2.8.0rc0 in /usr/local/lib/python3.7/dist-packages (from tensorflow->keras-tcn) (2.8.0)\n",
            "Requirement already satisfied: tf-estimator-nightly==2.8.0.dev2021122109 in /usr/local/lib/python3.7/dist-packages (from tensorflow->keras-tcn) (2.8.0.dev2021122109)\n",
            "Requirement already satisfied: google-pasta>=0.1.1 in /usr/local/lib/python3.7/dist-packages (from tensorflow->keras-tcn) (0.2.0)\n",
            "Requirement already satisfied: typing-extensions>=3.6.6 in /usr/local/lib/python3.7/dist-packages (from tensorflow->keras-tcn) (3.10.0.2)\n",
            "Requirement already satisfied: opt-einsum>=2.3.2 in /usr/local/lib/python3.7/dist-packages (from tensorflow->keras-tcn) (3.3.0)\n",
            "Requirement already satisfied: flatbuffers>=1.12 in /usr/local/lib/python3.7/dist-packages (from tensorflow->keras-tcn) (2.0)\n",
            "Requirement already satisfied: h5py>=2.9.0 in /usr/local/lib/python3.7/dist-packages (from tensorflow->keras-tcn) (3.1.0)\n",
            "Requirement already satisfied: grpcio<2.0,>=1.24.3 in /usr/local/lib/python3.7/dist-packages (from tensorflow->keras-tcn) (1.44.0)\n",
            "Requirement already satisfied: six>=1.12.0 in /usr/local/lib/python3.7/dist-packages (from tensorflow->keras-tcn) (1.15.0)\n",
            "Requirement already satisfied: keras-preprocessing>=1.1.1 in /usr/local/lib/python3.7/dist-packages (from tensorflow->keras-tcn) (1.1.2)\n",
            "Requirement already satisfied: tensorflow-io-gcs-filesystem>=0.23.1 in /usr/local/lib/python3.7/dist-packages (from tensorflow->keras-tcn) (0.24.0)\n",
            "Requirement already satisfied: libclang>=9.0.1 in /usr/local/lib/python3.7/dist-packages (from tensorflow->keras-tcn) (13.0.0)\n",
            "Requirement already satisfied: absl-py>=0.4.0 in /usr/local/lib/python3.7/dist-packages (from tensorflow->keras-tcn) (1.0.0)\n",
            "Requirement already satisfied: setuptools in /usr/local/lib/python3.7/dist-packages (from tensorflow->keras-tcn) (57.4.0)\n",
            "Requirement already satisfied: astunparse>=1.6.0 in /usr/local/lib/python3.7/dist-packages (from tensorflow->keras-tcn) (1.6.3)\n",
            "Requirement already satisfied: wrapt>=1.11.0 in /usr/local/lib/python3.7/dist-packages (from tensorflow->keras-tcn) (1.13.3)\n",
            "Requirement already satisfied: gast>=0.2.1 in /usr/local/lib/python3.7/dist-packages (from tensorflow->keras-tcn) (0.5.3)\n",
            "Requirement already satisfied: tensorboard<2.9,>=2.8 in /usr/local/lib/python3.7/dist-packages (from tensorflow->keras-tcn) (2.8.0)\n",
            "Requirement already satisfied: termcolor>=1.1.0 in /usr/local/lib/python3.7/dist-packages (from tensorflow->keras-tcn) (1.1.0)\n",
            "Requirement already satisfied: protobuf>=3.9.2 in /usr/local/lib/python3.7/dist-packages (from tensorflow->keras-tcn) (3.17.3)\n",
            "Requirement already satisfied: wheel<1.0,>=0.23.0 in /usr/local/lib/python3.7/dist-packages (from astunparse>=1.6.0->tensorflow->keras-tcn) (0.37.1)\n",
            "Requirement already satisfied: cached-property in /usr/local/lib/python3.7/dist-packages (from h5py>=2.9.0->tensorflow->keras-tcn) (1.5.2)\n",
            "Requirement already satisfied: requests<3,>=2.21.0 in /usr/local/lib/python3.7/dist-packages (from tensorboard<2.9,>=2.8->tensorflow->keras-tcn) (2.23.0)\n",
            "Requirement already satisfied: google-auth-oauthlib<0.5,>=0.4.1 in /usr/local/lib/python3.7/dist-packages (from tensorboard<2.9,>=2.8->tensorflow->keras-tcn) (0.4.6)\n",
            "Requirement already satisfied: google-auth<3,>=1.6.3 in /usr/local/lib/python3.7/dist-packages (from tensorboard<2.9,>=2.8->tensorflow->keras-tcn) (1.35.0)\n",
            "Requirement already satisfied: werkzeug>=0.11.15 in /usr/local/lib/python3.7/dist-packages (from tensorboard<2.9,>=2.8->tensorflow->keras-tcn) (1.0.1)\n",
            "Requirement already satisfied: markdown>=2.6.8 in /usr/local/lib/python3.7/dist-packages (from tensorboard<2.9,>=2.8->tensorflow->keras-tcn) (3.3.6)\n",
            "Requirement already satisfied: tensorboard-plugin-wit>=1.6.0 in /usr/local/lib/python3.7/dist-packages (from tensorboard<2.9,>=2.8->tensorflow->keras-tcn) (1.8.1)\n",
            "Requirement already satisfied: tensorboard-data-server<0.7.0,>=0.6.0 in /usr/local/lib/python3.7/dist-packages (from tensorboard<2.9,>=2.8->tensorflow->keras-tcn) (0.6.1)\n",
            "Requirement already satisfied: pyasn1-modules>=0.2.1 in /usr/local/lib/python3.7/dist-packages (from google-auth<3,>=1.6.3->tensorboard<2.9,>=2.8->tensorflow->keras-tcn) (0.2.8)\n",
            "Requirement already satisfied: cachetools<5.0,>=2.0.0 in /usr/local/lib/python3.7/dist-packages (from google-auth<3,>=1.6.3->tensorboard<2.9,>=2.8->tensorflow->keras-tcn) (4.2.4)\n",
            "Requirement already satisfied: rsa<5,>=3.1.4 in /usr/local/lib/python3.7/dist-packages (from google-auth<3,>=1.6.3->tensorboard<2.9,>=2.8->tensorflow->keras-tcn) (4.8)\n",
            "Requirement already satisfied: requests-oauthlib>=0.7.0 in /usr/local/lib/python3.7/dist-packages (from google-auth-oauthlib<0.5,>=0.4.1->tensorboard<2.9,>=2.8->tensorflow->keras-tcn) (1.3.1)\n",
            "Requirement already satisfied: importlib-metadata>=4.4 in /usr/local/lib/python3.7/dist-packages (from markdown>=2.6.8->tensorboard<2.9,>=2.8->tensorflow->keras-tcn) (4.11.2)\n",
            "Requirement already satisfied: zipp>=0.5 in /usr/local/lib/python3.7/dist-packages (from importlib-metadata>=4.4->markdown>=2.6.8->tensorboard<2.9,>=2.8->tensorflow->keras-tcn) (3.7.0)\n",
            "Requirement already satisfied: pyasn1<0.5.0,>=0.4.6 in /usr/local/lib/python3.7/dist-packages (from pyasn1-modules>=0.2.1->google-auth<3,>=1.6.3->tensorboard<2.9,>=2.8->tensorflow->keras-tcn) (0.4.8)\n",
            "Requirement already satisfied: chardet<4,>=3.0.2 in /usr/local/lib/python3.7/dist-packages (from requests<3,>=2.21.0->tensorboard<2.9,>=2.8->tensorflow->keras-tcn) (3.0.4)\n",
            "Requirement already satisfied: idna<3,>=2.5 in /usr/local/lib/python3.7/dist-packages (from requests<3,>=2.21.0->tensorboard<2.9,>=2.8->tensorflow->keras-tcn) (2.10)\n",
            "Requirement already satisfied: certifi>=2017.4.17 in /usr/local/lib/python3.7/dist-packages (from requests<3,>=2.21.0->tensorboard<2.9,>=2.8->tensorflow->keras-tcn) (2021.10.8)\n",
            "Requirement already satisfied: urllib3!=1.25.0,!=1.25.1,<1.26,>=1.21.1 in /usr/local/lib/python3.7/dist-packages (from requests<3,>=2.21.0->tensorboard<2.9,>=2.8->tensorflow->keras-tcn) (1.24.3)\n",
            "Requirement already satisfied: oauthlib>=3.0.0 in /usr/local/lib/python3.7/dist-packages (from requests-oauthlib>=0.7.0->google-auth-oauthlib<0.5,>=0.4.1->tensorboard<2.9,>=2.8->tensorflow->keras-tcn) (3.2.0)\n",
            "Requirement already satisfied: typeguard>=2.7 in /usr/local/lib/python3.7/dist-packages (from tensorflow-addons->keras-tcn) (2.7.1)\n"
          ]
        }
      ]
    },
    {
      "cell_type": "code",
      "source": [
        "import tensorflow as tf\n",
        "import keras.backend as K\n",
        "from keras.callbacks import EarlyStopping, Callback\n",
        "from keras.models import Sequential\n",
        "from keras.layers import Dense, BatchNormalization\n",
        "from keras.layers import Flatten\n",
        "from keras.layers import Dropout\n",
        "from keras.models import Input, Model\n",
        "from keras.layers.convolutional import Conv1D\n",
        "from keras.layers.convolutional import MaxPooling1D\n",
        "from tensorflow.keras.optimizers import Adam, Nadam\n",
        "\n",
        "from tcn import TCN, tcn_full_summary"
      ],
      "metadata": {
        "id": "MUE5rS-l7z9B"
      },
      "execution_count": 77,
      "outputs": []
    },
    {
      "cell_type": "code",
      "source": [
        "tcn_layer = TCN(input_shape=(X_train.shape[1],X_train.shape[2]),  kernel_size = 3, return_sequences=True)\n",
        "# The receptive field tells you how far the model can see in terms of timesteps.\n",
        "print('Receptive field size =', tcn_layer.receptive_field)\n",
        "\n",
        "m = Sequential([\n",
        "    tcn_layer,\n",
        "    Dense(3)\n",
        "])\n",
        "\n",
        "m.compile(optimizer='adam', loss='mse', metrics=['accuracy'])\n",
        "\n",
        "\n",
        "hist = m.fit(X_train_1d, y_train_final, epochs=100, validation_split=0.2)"
      ],
      "metadata": {
        "colab": {
          "base_uri": "https://localhost:8080/",
          "height": 797
        },
        "id": "NTLWsPmBVl4J",
        "outputId": "cd2cee93-0fb7-41ab-9d8c-31a6cf419c21"
      },
      "execution_count": 101,
      "outputs": [
        {
          "output_type": "stream",
          "name": "stdout",
          "text": [
            "Receptive field size = 253\n",
            "Epoch 1/100\n"
          ]
        },
        {
          "output_type": "error",
          "ename": "ValueError",
          "evalue": "ignored",
          "traceback": [
            "\u001b[0;31m---------------------------------------------------------------------------\u001b[0m",
            "\u001b[0;31mValueError\u001b[0m                                Traceback (most recent call last)",
            "\u001b[0;32m<ipython-input-101-69628173bf58>\u001b[0m in \u001b[0;36m<module>\u001b[0;34m()\u001b[0m\n\u001b[1;32m     11\u001b[0m \u001b[0;34m\u001b[0m\u001b[0m\n\u001b[1;32m     12\u001b[0m \u001b[0;34m\u001b[0m\u001b[0m\n\u001b[0;32m---> 13\u001b[0;31m \u001b[0mhist\u001b[0m \u001b[0;34m=\u001b[0m \u001b[0mm\u001b[0m\u001b[0;34m.\u001b[0m\u001b[0mfit\u001b[0m\u001b[0;34m(\u001b[0m\u001b[0mX_train_1d\u001b[0m\u001b[0;34m,\u001b[0m \u001b[0my_train_final\u001b[0m\u001b[0;34m,\u001b[0m \u001b[0mepochs\u001b[0m\u001b[0;34m=\u001b[0m\u001b[0;36m100\u001b[0m\u001b[0;34m,\u001b[0m \u001b[0mvalidation_split\u001b[0m\u001b[0;34m=\u001b[0m\u001b[0;36m0.2\u001b[0m\u001b[0;34m)\u001b[0m\u001b[0;34m\u001b[0m\u001b[0;34m\u001b[0m\u001b[0m\n\u001b[0m",
            "\u001b[0;32m/usr/local/lib/python3.7/dist-packages/keras/utils/traceback_utils.py\u001b[0m in \u001b[0;36merror_handler\u001b[0;34m(*args, **kwargs)\u001b[0m\n\u001b[1;32m     65\u001b[0m     \u001b[0;32mexcept\u001b[0m \u001b[0mException\u001b[0m \u001b[0;32mas\u001b[0m \u001b[0me\u001b[0m\u001b[0;34m:\u001b[0m  \u001b[0;31m# pylint: disable=broad-except\u001b[0m\u001b[0;34m\u001b[0m\u001b[0;34m\u001b[0m\u001b[0m\n\u001b[1;32m     66\u001b[0m       \u001b[0mfiltered_tb\u001b[0m \u001b[0;34m=\u001b[0m \u001b[0m_process_traceback_frames\u001b[0m\u001b[0;34m(\u001b[0m\u001b[0me\u001b[0m\u001b[0;34m.\u001b[0m\u001b[0m__traceback__\u001b[0m\u001b[0;34m)\u001b[0m\u001b[0;34m\u001b[0m\u001b[0;34m\u001b[0m\u001b[0m\n\u001b[0;32m---> 67\u001b[0;31m       \u001b[0;32mraise\u001b[0m \u001b[0me\u001b[0m\u001b[0;34m.\u001b[0m\u001b[0mwith_traceback\u001b[0m\u001b[0;34m(\u001b[0m\u001b[0mfiltered_tb\u001b[0m\u001b[0;34m)\u001b[0m \u001b[0;32mfrom\u001b[0m \u001b[0;32mNone\u001b[0m\u001b[0;34m\u001b[0m\u001b[0;34m\u001b[0m\u001b[0m\n\u001b[0m\u001b[1;32m     68\u001b[0m     \u001b[0;32mfinally\u001b[0m\u001b[0;34m:\u001b[0m\u001b[0;34m\u001b[0m\u001b[0;34m\u001b[0m\u001b[0m\n\u001b[1;32m     69\u001b[0m       \u001b[0;32mdel\u001b[0m \u001b[0mfiltered_tb\u001b[0m\u001b[0;34m\u001b[0m\u001b[0;34m\u001b[0m\u001b[0m\n",
            "\u001b[0;32m/usr/local/lib/python3.7/dist-packages/tensorflow/python/framework/func_graph.py\u001b[0m in \u001b[0;36mautograph_handler\u001b[0;34m(*args, **kwargs)\u001b[0m\n\u001b[1;32m   1145\u001b[0m           \u001b[0;32mexcept\u001b[0m \u001b[0mException\u001b[0m \u001b[0;32mas\u001b[0m \u001b[0me\u001b[0m\u001b[0;34m:\u001b[0m  \u001b[0;31m# pylint:disable=broad-except\u001b[0m\u001b[0;34m\u001b[0m\u001b[0;34m\u001b[0m\u001b[0m\n\u001b[1;32m   1146\u001b[0m             \u001b[0;32mif\u001b[0m \u001b[0mhasattr\u001b[0m\u001b[0;34m(\u001b[0m\u001b[0me\u001b[0m\u001b[0;34m,\u001b[0m \u001b[0;34m\"ag_error_metadata\"\u001b[0m\u001b[0;34m)\u001b[0m\u001b[0;34m:\u001b[0m\u001b[0;34m\u001b[0m\u001b[0;34m\u001b[0m\u001b[0m\n\u001b[0;32m-> 1147\u001b[0;31m               \u001b[0;32mraise\u001b[0m \u001b[0me\u001b[0m\u001b[0;34m.\u001b[0m\u001b[0mag_error_metadata\u001b[0m\u001b[0;34m.\u001b[0m\u001b[0mto_exception\u001b[0m\u001b[0;34m(\u001b[0m\u001b[0me\u001b[0m\u001b[0;34m)\u001b[0m\u001b[0;34m\u001b[0m\u001b[0;34m\u001b[0m\u001b[0m\n\u001b[0m\u001b[1;32m   1148\u001b[0m             \u001b[0;32melse\u001b[0m\u001b[0;34m:\u001b[0m\u001b[0;34m\u001b[0m\u001b[0;34m\u001b[0m\u001b[0m\n\u001b[1;32m   1149\u001b[0m               \u001b[0;32mraise\u001b[0m\u001b[0;34m\u001b[0m\u001b[0;34m\u001b[0m\u001b[0m\n",
            "\u001b[0;31mValueError\u001b[0m: in user code:\n\n    File \"/usr/local/lib/python3.7/dist-packages/keras/engine/training.py\", line 1021, in train_function  *\n        return step_function(self, iterator)\n    File \"/usr/local/lib/python3.7/dist-packages/keras/engine/training.py\", line 1010, in step_function  **\n        outputs = model.distribute_strategy.run(run_step, args=(data,))\n    File \"/usr/local/lib/python3.7/dist-packages/keras/engine/training.py\", line 1000, in run_step  **\n        outputs = model.train_step(data)\n    File \"/usr/local/lib/python3.7/dist-packages/keras/engine/training.py\", line 864, in train_step\n        return self.compute_metrics(x, y, y_pred, sample_weight)\n    File \"/usr/local/lib/python3.7/dist-packages/keras/engine/training.py\", line 957, in compute_metrics\n        self.compiled_metrics.update_state(y, y_pred, sample_weight)\n    File \"/usr/local/lib/python3.7/dist-packages/keras/engine/compile_utils.py\", line 459, in update_state\n        metric_obj.update_state(y_t, y_p, sample_weight=mask)\n    File \"/usr/local/lib/python3.7/dist-packages/keras/utils/metrics_utils.py\", line 70, in decorated\n        update_op = update_state_fn(*args, **kwargs)\n    File \"/usr/local/lib/python3.7/dist-packages/keras/metrics.py\", line 178, in update_state_fn\n        return ag_update_state(*args, **kwargs)\n    File \"/usr/local/lib/python3.7/dist-packages/keras/metrics.py\", line 729, in update_state  **\n        matches = ag_fn(y_true, y_pred, **self._fn_kwargs)\n    File \"/usr/local/lib/python3.7/dist-packages/keras/metrics.py\", line 4086, in sparse_categorical_accuracy\n        return tf.cast(tf.equal(y_true, y_pred), backend.floatx())\n\n    ValueError: Dimensions must be equal, but are 3 and 5 for '{{node Equal}} = Equal[T=DT_FLOAT, incompatible_shape_error=true](IteratorGetNext:1, Cast_1)' with input shapes: [?,3], [?,5].\n"
          ]
        }
      ]
    },
    {
      "cell_type": "code",
      "source": [
        ""
      ],
      "metadata": {
        "id": "Ov5vdiMYXA9Z"
      },
      "execution_count": null,
      "outputs": []
    },
    {
      "cell_type": "code",
      "source": [
        "# Simple Model\n",
        "model = Sequential()\n",
        "model.name = \"My_Model\"\n",
        "model.add(Input(shape=(X_train.shape[1],X_train.shape[2])))\n",
        "model.add(TCN(return_sequences=False))\n",
        "# model.add(TCN(return_sequences=True, nb_filters=34, kernel_size=3))\n",
        "# model.add(TCN_2D(return_sequences=False, nb_filters=64, kernel_size=3,name=\"tcn2d_2\"))\n",
        "# model.add(Conv1D(filters=32, kernel_size=3, padding='same', activation='relu', input_shape=(X_train.shape[1],X_train.shape[2])))\n",
        "# model.add(MaxPooling1D(pool_size=3, strides=4, padding='same'))\n",
        "# model.add(Dropout(0.7))\n",
        "# model.add(Conv1D(filters=64, kernel_size=3, padding='same', activation='relu'))\n",
        "# model.add(MaxPooling1D(pool_size=3, strides=3, padding='same'))\n",
        "# model.add(Dropout(0.7))\n",
        "# model.add(Conv1D(filters=128, kernel_size=3, padding='same', activation='relu'))\n",
        "# model.add(MaxPooling1D(pool_size=3, strides=2, padding='same'))\n",
        "# model.add(Dropout(0.7))\n",
        "model.add(Flatten())\n",
        "model.add(Dense(1000,activation=\"relu\"))\n",
        "model.add(Dense(500,activation=\"relu\"))\n",
        "model.add(Dense(3,activation=\"softmax\"))\n",
        "model.summary()"
      ],
      "metadata": {
        "colab": {
          "base_uri": "https://localhost:8080/",
          "height": 450
        },
        "id": "zYwZW6eJ2HBu",
        "outputId": "c12e94f8-4a08-461a-d8f0-87ec3afa6bbf"
      },
      "execution_count": 70,
      "outputs": [
        {
          "output_type": "error",
          "ename": "AttributeError",
          "evalue": "ignored",
          "traceback": [
            "\u001b[0;31m---------------------------------------------------------------------------\u001b[0m",
            "\u001b[0;31mAttributeError\u001b[0m                            Traceback (most recent call last)",
            "\u001b[0;32m/usr/local/lib/python3.7/dist-packages/keras/engine/base_layer.py\u001b[0m in \u001b[0;36m__setattr__\u001b[0;34m(self, name, value)\u001b[0m\n\u001b[1;32m   2859\u001b[0m       \u001b[0;32mtry\u001b[0m\u001b[0;34m:\u001b[0m\u001b[0;34m\u001b[0m\u001b[0;34m\u001b[0m\u001b[0m\n\u001b[0;32m-> 2860\u001b[0;31m         \u001b[0msuper\u001b[0m\u001b[0;34m(\u001b[0m\u001b[0mtf\u001b[0m\u001b[0;34m.\u001b[0m\u001b[0m__internal__\u001b[0m\u001b[0;34m.\u001b[0m\u001b[0mtracking\u001b[0m\u001b[0;34m.\u001b[0m\u001b[0mAutoTrackable\u001b[0m\u001b[0;34m,\u001b[0m \u001b[0mself\u001b[0m\u001b[0;34m)\u001b[0m\u001b[0;34m.\u001b[0m\u001b[0m__setattr__\u001b[0m\u001b[0;34m(\u001b[0m\u001b[0mname\u001b[0m\u001b[0;34m,\u001b[0m \u001b[0mvalue\u001b[0m\u001b[0;34m)\u001b[0m  \u001b[0;31m# pylint: disable=bad-super-call\u001b[0m\u001b[0;34m\u001b[0m\u001b[0;34m\u001b[0m\u001b[0m\n\u001b[0m\u001b[1;32m   2861\u001b[0m       \u001b[0;32mexcept\u001b[0m \u001b[0mAttributeError\u001b[0m\u001b[0;34m:\u001b[0m\u001b[0;34m\u001b[0m\u001b[0;34m\u001b[0m\u001b[0m\n",
            "\u001b[0;31mAttributeError\u001b[0m: can't set attribute",
            "\nDuring handling of the above exception, another exception occurred:\n",
            "\u001b[0;31mAttributeError\u001b[0m                            Traceback (most recent call last)",
            "\u001b[0;32m<ipython-input-70-fe753e2626f0>\u001b[0m in \u001b[0;36m<module>\u001b[0;34m()\u001b[0m\n\u001b[1;32m      1\u001b[0m \u001b[0;31m# Simple Model\u001b[0m\u001b[0;34m\u001b[0m\u001b[0;34m\u001b[0m\u001b[0;34m\u001b[0m\u001b[0m\n\u001b[1;32m      2\u001b[0m \u001b[0mmodel\u001b[0m \u001b[0;34m=\u001b[0m \u001b[0mSequential\u001b[0m\u001b[0;34m(\u001b[0m\u001b[0;34m)\u001b[0m\u001b[0;34m\u001b[0m\u001b[0;34m\u001b[0m\u001b[0m\n\u001b[0;32m----> 3\u001b[0;31m \u001b[0mmodel\u001b[0m\u001b[0;34m.\u001b[0m\u001b[0mname\u001b[0m \u001b[0;34m=\u001b[0m \u001b[0;34m\"My_Model\"\u001b[0m\u001b[0;34m\u001b[0m\u001b[0;34m\u001b[0m\u001b[0m\n\u001b[0m\u001b[1;32m      4\u001b[0m \u001b[0mmodel\u001b[0m\u001b[0;34m.\u001b[0m\u001b[0madd\u001b[0m\u001b[0;34m(\u001b[0m\u001b[0mInput\u001b[0m\u001b[0;34m(\u001b[0m\u001b[0mshape\u001b[0m\u001b[0;34m=\u001b[0m\u001b[0;34m(\u001b[0m\u001b[0mX_train\u001b[0m\u001b[0;34m.\u001b[0m\u001b[0mshape\u001b[0m\u001b[0;34m[\u001b[0m\u001b[0;36m1\u001b[0m\u001b[0;34m]\u001b[0m\u001b[0;34m,\u001b[0m\u001b[0mX_train\u001b[0m\u001b[0;34m.\u001b[0m\u001b[0mshape\u001b[0m\u001b[0;34m[\u001b[0m\u001b[0;36m2\u001b[0m\u001b[0;34m]\u001b[0m\u001b[0;34m)\u001b[0m\u001b[0;34m)\u001b[0m\u001b[0;34m)\u001b[0m\u001b[0;34m\u001b[0m\u001b[0;34m\u001b[0m\u001b[0m\n\u001b[1;32m      5\u001b[0m \u001b[0mmodel\u001b[0m\u001b[0;34m.\u001b[0m\u001b[0madd\u001b[0m\u001b[0;34m(\u001b[0m\u001b[0mTCN\u001b[0m\u001b[0;34m(\u001b[0m\u001b[0mreturn_sequences\u001b[0m\u001b[0;34m=\u001b[0m\u001b[0;32mFalse\u001b[0m\u001b[0;34m)\u001b[0m\u001b[0;34m)\u001b[0m\u001b[0;34m\u001b[0m\u001b[0;34m\u001b[0m\u001b[0m\n",
            "\u001b[0;32m/usr/local/lib/python3.7/dist-packages/keras/engine/training.py\u001b[0m in \u001b[0;36m__setattr__\u001b[0;34m(self, name, value)\u001b[0m\n\u001b[1;32m    308\u001b[0m             ' Always start with this line.')\n\u001b[1;32m    309\u001b[0m \u001b[0;34m\u001b[0m\u001b[0m\n\u001b[0;32m--> 310\u001b[0;31m     \u001b[0msuper\u001b[0m\u001b[0;34m(\u001b[0m\u001b[0mModel\u001b[0m\u001b[0;34m,\u001b[0m \u001b[0mself\u001b[0m\u001b[0;34m)\u001b[0m\u001b[0;34m.\u001b[0m\u001b[0m__setattr__\u001b[0m\u001b[0;34m(\u001b[0m\u001b[0mname\u001b[0m\u001b[0;34m,\u001b[0m \u001b[0mvalue\u001b[0m\u001b[0;34m)\u001b[0m\u001b[0;34m\u001b[0m\u001b[0;34m\u001b[0m\u001b[0m\n\u001b[0m\u001b[1;32m    311\u001b[0m \u001b[0;34m\u001b[0m\u001b[0m\n\u001b[1;32m    312\u001b[0m   \u001b[0;32mdef\u001b[0m \u001b[0m__reduce__\u001b[0m\u001b[0;34m(\u001b[0m\u001b[0mself\u001b[0m\u001b[0;34m)\u001b[0m\u001b[0;34m:\u001b[0m\u001b[0;34m\u001b[0m\u001b[0;34m\u001b[0m\u001b[0m\n",
            "\u001b[0;32m/usr/local/lib/python3.7/dist-packages/keras/engine/base_layer.py\u001b[0m in \u001b[0;36m__setattr__\u001b[0;34m(self, name, value)\u001b[0m\n\u001b[1;32m   2863\u001b[0m             ('Can\\'t set the attribute \"{}\", likely because it conflicts with '\n\u001b[1;32m   2864\u001b[0m              \u001b[0;34m'an existing read-only @property of the object. Please choose a '\u001b[0m\u001b[0;34m\u001b[0m\u001b[0;34m\u001b[0m\u001b[0m\n\u001b[0;32m-> 2865\u001b[0;31m              'different name.').format(name))\n\u001b[0m\u001b[1;32m   2866\u001b[0m       \u001b[0;32mreturn\u001b[0m\u001b[0;34m\u001b[0m\u001b[0;34m\u001b[0m\u001b[0m\n\u001b[1;32m   2867\u001b[0m \u001b[0;34m\u001b[0m\u001b[0m\n",
            "\u001b[0;31mAttributeError\u001b[0m: Can't set the attribute \"name\", likely because it conflicts with an existing read-only @property of the object. Please choose a different name."
          ]
        }
      ]
    },
    {
      "cell_type": "code",
      "source": [
        "adam = Adam(learning_rate=0.001, decay=0.0001)\n",
        "nadam = Nadam(learning_rate=0.002, beta_1=0.9, beta_2=0.999, epsilon=1e-08, schedule_decay=0.004)\n",
        "\n",
        "model.compile(loss='binary_crossentropy', optimizer=adam, metrics=[\"accuracy\"]) "
      ],
      "metadata": {
        "id": "SOmAeEzs2HGb"
      },
      "execution_count": null,
      "outputs": []
    },
    {
      "cell_type": "code",
      "source": [
        "from keras.callbacks import EarlyStopping, Callback\n",
        "\n",
        "callback = EarlyStopping(monitor='loss', patience=5, min_delta=0.0001)\n",
        "\n",
        "batch_size = 12\n",
        "hist = model.fit(X_train_1d, y_train_final, batch_size=batch_size, epochs=15, callbacks=[callback], validation_data=(X_val_1d, y_val_final)) #, class_weight={0:1, 1:1.5})"
      ],
      "metadata": {
        "colab": {
          "base_uri": "https://localhost:8080/"
        },
        "id": "ux9JsTrE2HJz",
        "outputId": "ad468c76-dd09-4a80-a823-035fe7d5ecfa"
      },
      "execution_count": null,
      "outputs": [
        {
          "output_type": "stream",
          "name": "stdout",
          "text": [
            "Epoch 1/15\n",
            "339/339 [==============================] - 3s 9ms/step - loss: 0.0584 - accuracy: 0.9685 - val_loss: 2.9691 - val_accuracy: 0.4021\n",
            "Epoch 2/15\n",
            "339/339 [==============================] - 3s 9ms/step - loss: 0.0335 - accuracy: 0.9830 - val_loss: 3.4359 - val_accuracy: 0.4084\n",
            "Epoch 3/15\n",
            "339/339 [==============================] - 3s 9ms/step - loss: 0.0333 - accuracy: 0.9833 - val_loss: 3.3933 - val_accuracy: 0.4077\n",
            "Epoch 4/15\n",
            "339/339 [==============================] - 3s 9ms/step - loss: 0.0336 - accuracy: 0.9850 - val_loss: 3.5158 - val_accuracy: 0.4049\n",
            "Epoch 5/15\n",
            "339/339 [==============================] - 3s 9ms/step - loss: 0.0362 - accuracy: 0.9820 - val_loss: 3.5571 - val_accuracy: 0.4021\n",
            "Epoch 6/15\n",
            "339/339 [==============================] - 3s 10ms/step - loss: 0.0427 - accuracy: 0.9800 - val_loss: 3.5612 - val_accuracy: 0.3986\n",
            "Epoch 7/15\n",
            "339/339 [==============================] - 3s 9ms/step - loss: 0.0255 - accuracy: 0.9884 - val_loss: 3.6794 - val_accuracy: 0.4070\n",
            "Epoch 8/15\n",
            "339/339 [==============================] - 3s 9ms/step - loss: 0.0181 - accuracy: 0.9906 - val_loss: 3.9314 - val_accuracy: 0.3965\n",
            "Epoch 9/15\n",
            "339/339 [==============================] - 3s 9ms/step - loss: 0.0142 - accuracy: 0.9943 - val_loss: 4.0636 - val_accuracy: 0.3951\n",
            "Epoch 10/15\n",
            "339/339 [==============================] - 3s 10ms/step - loss: 0.0136 - accuracy: 0.9929 - val_loss: 4.0893 - val_accuracy: 0.3889\n",
            "Epoch 11/15\n",
            "339/339 [==============================] - 3s 10ms/step - loss: 0.0275 - accuracy: 0.9867 - val_loss: 4.0240 - val_accuracy: 0.3770\n",
            "Epoch 12/15\n",
            "339/339 [==============================] - 3s 10ms/step - loss: 0.0427 - accuracy: 0.9810 - val_loss: 3.5709 - val_accuracy: 0.4132\n",
            "Epoch 13/15\n",
            "339/339 [==============================] - 3s 10ms/step - loss: 0.0140 - accuracy: 0.9956 - val_loss: 4.0278 - val_accuracy: 0.3930\n",
            "Epoch 14/15\n",
            "339/339 [==============================] - 3s 10ms/step - loss: 0.0199 - accuracy: 0.9924 - val_loss: 3.7425 - val_accuracy: 0.4070\n",
            "Epoch 15/15\n",
            "339/339 [==============================] - 3s 9ms/step - loss: 0.0223 - accuracy: 0.9879 - val_loss: 4.1506 - val_accuracy: 0.3958\n"
          ]
        }
      ]
    },
    {
      "cell_type": "code",
      "source": [
        "plt.plot(hist.history['loss'], label='train loss')\n",
        "plt.plot(hist.history['val_loss'], label='val loss')\n",
        "plt.legend()\n",
        "plt.show()\n",
        "plt.savefig('LossVal_loss')"
      ],
      "metadata": {
        "id": "CMsqd9n02HMv",
        "colab": {
          "base_uri": "https://localhost:8080/",
          "height": 282
        },
        "outputId": "af442d0d-1962-460c-f70d-d8ff16220035"
      },
      "execution_count": null,
      "outputs": [
        {
          "output_type": "display_data",
          "data": {
            "image/png": "[encoded data removed]",
            "text/plain": [
              "<Figure size 432x288 with 1 Axes>"
            ]
          },
          "metadata": {
            "needs_background": "light"
          }
        },
        {
          "output_type": "display_data",
          "data": {
            "text/plain": [
              "<Figure size 432x288 with 0 Axes>"
            ]
          },
          "metadata": {}
        }
      ]
    },
    {
      "cell_type": "code",
      "source": [
        "plt.plot(hist.history['accuracy'], label='train acc')\n",
        "plt.plot(hist.history['val_accuracy'], label='val acc')\n",
        "plt.legend()\n",
        "plt.show()\n",
        "plt.savefig('AccVal_acc')"
      ],
      "metadata": {
        "id": "M_S_jaA_2ubl",
        "colab": {
          "base_uri": "https://localhost:8080/",
          "height": 282
        },
        "outputId": "1541382e-e47e-46fd-d29b-6830bfbb348b"
      },
      "execution_count": null,
      "outputs": [
        {
          "output_type": "display_data",
          "data": {
            "image/png": "[encoded data removed]",
            "text/plain": [
              "<Figure size 432x288 with 1 Axes>"
            ]
          },
          "metadata": {
            "needs_background": "light"
          }
        },
        {
          "output_type": "display_data",
          "data": {
            "text/plain": [
              "<Figure size 432x288 with 0 Axes>"
            ]
          },
          "metadata": {}
        }
      ]
    },
    {
      "cell_type": "code",
      "source": [
        "y_pred = model.predict(X_test_1d)"
      ],
      "metadata": {
        "id": "Gct8IuVa25GW"
      },
      "execution_count": null,
      "outputs": []
    },
    {
      "cell_type": "code",
      "source": [
        "# Calculate the accuracy\n",
        "test_preds = np.argmax(y_pred, axis=1)\n",
        "y_true = np.argmax(y_test_final, axis=1)\n",
        "test_acc = np.sum(test_preds == y_true)/y_true.shape[0]\n",
        "\n",
        "# Recall for each class\n",
        "recall_vals = []\n",
        "for i in range(3):\n",
        "    class_idx = np.argwhere(y_true==i)\n",
        "    total = len(class_idx)\n",
        "    correct = np.sum(test_preds[class_idx]==i)\n",
        "    recall = correct / total\n",
        "    recall_vals.append(recall)\n",
        "\n",
        "classes = [0,1, 2]\n",
        "# Calculate the test set accuracy and recall for each class\n",
        "print('Test set accuracy is {:.3f}'.format(test_acc))\n",
        "for i in range(3):\n",
        "    print('For class {}, recall is {:.3f}'.format(classes[i],recall_vals[i]))\n",
        "\n",
        "print(\"Accuracy is {:.3f}\".format(test_acc))\n",
        "# print(\"Weighted F score is {:.3f}\".format(calculate_weighted_f_score(y_true, y_pred)))"
      ],
      "metadata": {
        "id": "rk2qkycw25Gc",
        "colab": {
          "base_uri": "https://localhost:8080/"
        },
        "outputId": "68c84c53-c28b-4fa9-995e-795b66ff0981"
      },
      "execution_count": null,
      "outputs": [
        {
          "output_type": "stream",
          "name": "stdout",
          "text": [
            "Test set accuracy is 0.424\n",
            "For class 0, recall is 0.603\n",
            "For class 1, recall is 0.198\n",
            "For class 2, recall is 0.227\n",
            "Accuracy is 0.424\n"
          ]
        }
      ]
    },
    {
      "cell_type": "code",
      "source": [
        "from sklearn.metrics import confusion_matrix\n",
        "\n",
        "def plot_confusion_matrix(cm,\n",
        "                          target_names,\n",
        "                          title='Confusion matrix',\n",
        "                          cmap=None,\n",
        "                          normalize=True):\n",
        "    \"\"\"\n",
        "    given a sklearn confusion matrix (cm), make a nice plot\n",
        "\n",
        "    Arguments\n",
        "    ---------\n",
        "    cm:           confusion matrix from sklearn.metrics.confusion_matrix\n",
        "\n",
        "    target_names: given classification classes such as [0, 1, 2]\n",
        "                  the class names, for example: ['high', 'medium', 'low']\n",
        "\n",
        "    title:        the text to display at the top of the matrix\n",
        "\n",
        "    cmap:         the gradient of the values displayed from matplotlib.pyplot.cm\n",
        "                  see http://matplotlib.org/examples/color/colormaps_reference.html\n",
        "                  plt.get_cmap('jet') or plt.cm.Blues\n",
        "\n",
        "    normalize:    If False, plot the raw numbers\n",
        "                  If True, plot the proportions\n",
        "\n",
        "    Usage\n",
        "    -----\n",
        "    plot_confusion_matrix(cm           = cm,                  # confusion matrix created by\n",
        "                                                              # sklearn.metrics.confusion_matrix\n",
        "                          normalize    = True,                # show proportions\n",
        "                          target_names = y_labels_vals,       # list of names of the classes\n",
        "                          title        = best_estimator_name) # title of graph\n",
        "\n",
        "    Citiation\n",
        "    ---------\n",
        "    http://scikit-learn.org/stable/auto_examples/model_selection/plot_confusion_matrix.html\n",
        "\n",
        "    \"\"\"\n",
        "    import matplotlib.pyplot as plt\n",
        "    import numpy as np\n",
        "    import itertools\n",
        "\n",
        "    accuracy = np.trace(cm) / np.sum(cm).astype('float')\n",
        "    misclass = 1 - accuracy\n",
        "\n",
        "    if cmap is None:\n",
        "        cmap = plt.get_cmap('Blues')\n",
        "\n",
        "    plt.figure(figsize=(8, 6))\n",
        "    plt.imshow(cm, interpolation='nearest', cmap=cmap)\n",
        "    plt.title(title)\n",
        "    plt.colorbar()\n",
        "\n",
        "    if target_names is not None:\n",
        "        tick_marks = np.arange(len(target_names))\n",
        "        plt.xticks(tick_marks, target_names, rotation=45)\n",
        "        plt.yticks(tick_marks, target_names)\n",
        "\n",
        "    if normalize:\n",
        "        cm = cm.astype('float') / cm.sum(axis=1)[:, np.newaxis]\n",
        "\n",
        "\n",
        "    thresh = cm.max() / 1.5 if normalize else cm.max() / 2\n",
        "    for i, j in itertools.product(range(cm.shape[0]), range(cm.shape[1])):\n",
        "        if normalize:\n",
        "            plt.text(j, i, \"{:0.4f}\".format(cm[i, j]),\n",
        "                     horizontalalignment=\"center\",\n",
        "                     color=\"white\" if cm[i, j] > thresh else \"black\")\n",
        "        else:\n",
        "            plt.text(j, i, \"{:,}\".format(cm[i, j]),\n",
        "                     horizontalalignment=\"center\",\n",
        "                     color=\"white\" if cm[i, j] > thresh else \"black\")\n",
        "\n",
        "\n",
        "    plt.tight_layout()\n",
        "    plt.ylabel('True label')\n",
        "    plt.xlabel('Predicted label\\naccuracy={:0.4f}; misclass={:0.4f}'.format(accuracy, misclass))\n",
        "    plt.show()\n",
        "\n",
        "nb_classes = 3\n",
        "\n",
        "# Confusion matrix\n",
        "conf_mat=confusion_matrix(y_true, np.argmax(y_pred, axis=-1))\n",
        "plot_confusion_matrix(conf_mat, [0,1,2])\n",
        "\n",
        "from sklearn.metrics import precision_score\n",
        "\n",
        "precision_score(y_true, np.argmax(y_pred, axis=-1), average='weighted')\n",
        "\n",
        "from sklearn.metrics import classification_report\n",
        "\n",
        "print(classification_report(y_true, np.argmax(y_pred, axis=-1), target_names=[\"flat\", \"down\", \"up\"], digits=4))"
      ],
      "metadata": {
        "id": "coQSJfRo2uoe",
        "colab": {
          "base_uri": "https://localhost:8080/",
          "height": 641
        },
        "outputId": "7e3e6154-e6db-4cb6-aee6-bc7c006fe54f"
      },
      "execution_count": null,
      "outputs": [
        {
          "output_type": "display_data",
          "data": {
            "image/png": "[encoded data removed]",
            "text/plain": [
              "<Figure size 576x432 with 2 Axes>"
            ]
          },
          "metadata": {
            "needs_background": "light"
          }
        },
        {
          "output_type": "stream",
          "name": "stdout",
          "text": [
            "              precision    recall  f1-score   support\n",
            "\n",
            "        flat     0.5477    0.6034    0.5742       590\n",
            "        down     0.2525    0.1977    0.2217       258\n",
            "          up     0.2311    0.2273    0.2292       242\n",
            "\n",
            "    accuracy                         0.4239      1090\n",
            "   macro avg     0.3438    0.3428    0.3417      1090\n",
            "weighted avg     0.4075    0.4239    0.4142      1090\n",
            "\n"
          ]
        }
      ]
    },
    {
      "cell_type": "code",
      "source": [
        "def calculate_weighted_f_score(y_true, y_pred):\n",
        "  test_preds = np.argmax(y_pred, axis=-1)\n",
        "  Ntu = sum((test_preds == 2) & (y_true == 2))\n",
        "  Ntd = sum((test_preds == 1) & (y_true == 1))\n",
        "  Ntf = sum((test_preds == 0) & (y_true == 0))\n",
        "  Ewutd = sum((test_preds == 2) & (y_true == 1))\n",
        "  Ewdtu = sum((test_preds == 1) & (y_true == 2))\n",
        "  Ewutf = sum((test_preds == 2) & (y_true == 0))\n",
        "  Ewdtf = sum((test_preds == 1) & (y_true == 0))\n",
        "  Ewftu = sum((test_preds == 0) & (y_true == 2))\n",
        "  Ewftd = sum((test_preds == 0) & (y_true == 1))\n",
        "\n",
        "  beta_1 = 0.5\n",
        "  beta_2 = 0.125\n",
        "  beta_3 = 0.125\n",
        "\n",
        "  Ntp = Ntu + Ntd + beta_3**2 * Ntf\n",
        "  E1 = Ewutd + Ewdtu\n",
        "  E2 = Ewutf + Ewdtf\n",
        "  E3 = Ewftu + Ewftd\n",
        "\n",
        "  F = (1 + beta_1**2 + beta_2**2) * Ntp / ((1+beta_1**2+beta_2**2) * Ntp + E1 + beta_1**2 * E2 + beta_2**2 * E3)\n",
        "  return  F\n",
        "\n",
        "print(f'Weight CDT F Score: {calculate_weighted_f_score(y_true, y_pred)}')"
      ],
      "metadata": {
        "id": "F7n6lPZp2uvK",
        "colab": {
          "base_uri": "https://localhost:8080/"
        },
        "outputId": "cf31d9f7-6f72-48dc-d5df-b42e9cec5cb4"
      },
      "execution_count": null,
      "outputs": [
        {
          "output_type": "stream",
          "name": "stdout",
          "text": [
            "Weight CDT F Score: 0.4640187680724535\n"
          ]
        }
      ]
    },
    {
      "cell_type": "code",
      "source": [
        ""
      ],
      "metadata": {
        "id": "7v0QHbxx2uyQ"
      },
      "execution_count": null,
      "outputs": []
    },
    {
      "cell_type": "code",
      "source": [
        "print(X_train.shape[1],X_train.shape[2])"
      ],
      "metadata": {
        "colab": {
          "base_uri": "https://localhost:8080/"
        },
        "id": "9ytUuvub8xcJ",
        "outputId": "d7408444-1252-4153-95d4-1d7e14e813f6"
      },
      "execution_count": null,
      "outputs": [
        {
          "output_type": "stream",
          "name": "stdout",
          "text": [
            "5 24\n"
          ]
        }
      ]
    },
    {
      "cell_type": "code",
      "source": [
        "model = Sequential()\n",
        "model.add(Conv1D(filters=32, kernel_size=3, padding='same', activation='relu', input_shape=(X_train.shape[1],X_train.shape[2])))\n",
        "model.add(MaxPooling1D(pool_size=3, strides=4, padding='same'))\n",
        "model.add(Dropout(0.7))\n",
        "model.add(Conv1D(filters=64, kernel_size=3, padding='same', activation='relu'))\n",
        "model.add(MaxPooling1D(pool_size=3, strides=3, padding='same'))\n",
        "model.add(Dropout(0.7))\n",
        "model.add(Conv1D(filters=128, kernel_size=3, padding='same', activation='relu'))\n",
        "model.add(MaxPooling1D(pool_size=3, strides=2, padding='same'))\n",
        "model.add(Dropout(0.7))\n",
        "model.add(Flatten())\n",
        "model.add(Dense(1000,activation=\"relu\"))\n",
        "model.add(Dense(500,activation=\"relu\"))\n",
        "model.add(Dense(2,activation=\"softmax\"))\n",
        "model.summary()"
      ],
      "metadata": {
        "colab": {
          "base_uri": "https://localhost:8080/"
        },
        "id": "q50kVGG076-F",
        "outputId": "99b837fa-103d-4eee-dc58-98a42a0fdee3"
      },
      "execution_count": null,
      "outputs": [
        {
          "output_type": "stream",
          "name": "stdout",
          "text": [
            "Model: \"sequential_6\"\n",
            "_________________________________________________________________\n",
            " Layer (type)                Output Shape              Param #   \n",
            "=================================================================\n",
            " conv1d_18 (Conv1D)          (None, 5, 32)             2336      \n",
            "                                                                 \n",
            " max_pooling1d_18 (MaxPoolin  (None, 2, 32)            0         \n",
            " g1D)                                                            \n",
            "                                                                 \n",
            " dropout_18 (Dropout)        (None, 2, 32)             0         \n",
            "                                                                 \n",
            " conv1d_19 (Conv1D)          (None, 2, 64)             6208      \n",
            "                                                                 \n",
            " max_pooling1d_19 (MaxPoolin  (None, 1, 64)            0         \n",
            " g1D)                                                            \n",
            "                                                                 \n",
            " dropout_19 (Dropout)        (None, 1, 64)             0         \n",
            "                                                                 \n",
            " conv1d_20 (Conv1D)          (None, 1, 128)            24704     \n",
            "                                                                 \n",
            " max_pooling1d_20 (MaxPoolin  (None, 1, 128)           0         \n",
            " g1D)                                                            \n",
            "                                                                 \n",
            " dropout_20 (Dropout)        (None, 1, 128)            0         \n",
            "                                                                 \n",
            " flatten_6 (Flatten)         (None, 128)               0         \n",
            "                                                                 \n",
            " dense_16 (Dense)            (None, 1000)              129000    \n",
            "                                                                 \n",
            " dense_17 (Dense)            (None, 500)               500500    \n",
            "                                                                 \n",
            " dense_18 (Dense)            (None, 2)                 1002      \n",
            "                                                                 \n",
            "=================================================================\n",
            "Total params: 663,750\n",
            "Trainable params: 663,750\n",
            "Non-trainable params: 0\n",
            "_________________________________________________________________\n"
          ]
        }
      ]
    },
    {
      "cell_type": "code",
      "source": [
        "adam = Adam(learning_rate=0.001, decay=0.0001)\n",
        "nadam = Nadam(learning_rate=0.002, beta_1=0.9, beta_2=0.999, epsilon=1e-08, schedule_decay=0.004)\n",
        "\n",
        "def custom_loss_function(y_true, y_pred):\n",
        "   squared_difference = tf.square(y_true - y_pred)\n",
        "   return tf.reduce_mean(squared_difference, axis=-1)\n",
        "\n",
        "def calculate_weighted_f_score(y_true, y_pred):\n",
        "  test_preds = np.argmax(y_pred, axis=-1)\n",
        "  print(test_preds)\n",
        "  Ntu = sum((test_preds == 1) & (y_true == 1))\n",
        "  Ntd = sum((test_preds == 0) & (y_true == 0))\n",
        "  Ntf = sum((test_preds == 2) & (y_true == 2))\n",
        "  Ewutd = sum((test_preds == 1) & (y_true == 0))\n",
        "  Ewdtu = sum((test_preds == 0) & (y_true == 1))\n",
        "  Ewutf = sum((test_preds == 1) & (y_true == 2))\n",
        "  Ewdtf = sum((test_preds == 0) & (y_true == 2))\n",
        "  Ewftu = sum((test_preds == 2) & (y_true == 1))\n",
        "  Ewftd = sum((test_preds == 2) & (y_true == 0))\n",
        "\n",
        "  beta_1 = 0.5\n",
        "  beta_2 = 0.125\n",
        "  beta_3 = 0.125\n",
        "\n",
        "  Ntp = Ntu + Ntd + beta_3**2 * Ntf\n",
        "  E1 = Ewutd + Ewdtu\n",
        "  E2 = Ewutf + Ewdtf\n",
        "  E3 = Ewftu + Ewftd\n",
        "\n",
        "  F = (1 + beta_1**2 + beta_2**2) * Ntp / ((1+beta_1**2+beta_2**2) * Ntp + E1 + beta_1**2 * E2 + beta_2**2 * E3)\n",
        "  return  F\n",
        "\n",
        "prec = tf.keras.metrics.Precision()\n",
        "\n",
        "model.compile(loss='binary_crossentropy', optimizer=adam, metrics=[prec]) "
      ],
      "metadata": {
        "id": "vKDmE-h59Lv9"
      },
      "execution_count": null,
      "outputs": []
    },
    {
      "cell_type": "code",
      "source": [
        "batch_size = 12\n",
        "hist = model.fit(X_train, y_train, batch_size=batch_size, epochs=50, validation_data=(X_val, y_val)) #, class_weight={0:2, 1:3, 2:1})"
      ],
      "metadata": {
        "colab": {
          "base_uri": "https://localhost:8080/"
        },
        "id": "qK4V5UIa9ORe",
        "outputId": "8b6e9317-44ba-438e-aab9-e9ed3113f482"
      },
      "execution_count": null,
      "outputs": [
        {
          "output_type": "stream",
          "name": "stdout",
          "text": [
            "Epoch 1/50\n",
            "352/352 [==============================] - 3s 6ms/step - loss: 0.6739 - precision_7: 0.6014 - val_loss: 0.6729 - val_precision_7: 0.6007\n",
            "Epoch 2/50\n",
            "352/352 [==============================] - 2s 5ms/step - loss: 0.6746 - precision_7: 0.6019 - val_loss: 0.6747 - val_precision_7: 0.6007\n",
            "Epoch 3/50\n",
            "352/352 [==============================] - 2s 5ms/step - loss: 0.6734 - precision_7: 0.6019 - val_loss: 0.6727 - val_precision_7: 0.6007\n",
            "Epoch 4/50\n",
            "352/352 [==============================] - 2s 5ms/step - loss: 0.6727 - precision_7: 0.6019 - val_loss: 0.6751 - val_precision_7: 0.6007\n",
            "Epoch 5/50\n",
            "352/352 [==============================] - 2s 5ms/step - loss: 0.6733 - precision_7: 0.6019 - val_loss: 0.6727 - val_precision_7: 0.6007\n",
            "Epoch 6/50\n",
            "352/352 [==============================] - 2s 5ms/step - loss: 0.6730 - precision_7: 0.6019 - val_loss: 0.6728 - val_precision_7: 0.6007\n",
            "Epoch 7/50\n",
            "352/352 [==============================] - 2s 5ms/step - loss: 0.6728 - precision_7: 0.6019 - val_loss: 0.6728 - val_precision_7: 0.6007\n",
            "Epoch 8/50\n",
            "352/352 [==============================] - 2s 5ms/step - loss: 0.6726 - precision_7: 0.6019 - val_loss: 0.6737 - val_precision_7: 0.6007\n",
            "Epoch 9/50\n",
            "352/352 [==============================] - 2s 5ms/step - loss: 0.6728 - precision_7: 0.6019 - val_loss: 0.6728 - val_precision_7: 0.6007\n",
            "Epoch 10/50\n",
            "352/352 [==============================] - 2s 5ms/step - loss: 0.6729 - precision_7: 0.6019 - val_loss: 0.6728 - val_precision_7: 0.6007\n",
            "Epoch 11/50\n",
            "352/352 [==============================] - 2s 5ms/step - loss: 0.6732 - precision_7: 0.6019 - val_loss: 0.6734 - val_precision_7: 0.6007\n",
            "Epoch 12/50\n",
            "352/352 [==============================] - 2s 5ms/step - loss: 0.6726 - precision_7: 0.6019 - val_loss: 0.6728 - val_precision_7: 0.6007\n",
            "Epoch 13/50\n",
            "352/352 [==============================] - 2s 5ms/step - loss: 0.6725 - precision_7: 0.6019 - val_loss: 0.6729 - val_precision_7: 0.6007\n",
            "Epoch 14/50\n",
            "352/352 [==============================] - 2s 5ms/step - loss: 0.6726 - precision_7: 0.6019 - val_loss: 0.6730 - val_precision_7: 0.6007\n",
            "Epoch 15/50\n",
            "352/352 [==============================] - 2s 5ms/step - loss: 0.6725 - precision_7: 0.6019 - val_loss: 0.6730 - val_precision_7: 0.6007\n",
            "Epoch 16/50\n",
            "352/352 [==============================] - 2s 5ms/step - loss: 0.6726 - precision_7: 0.6019 - val_loss: 0.6727 - val_precision_7: 0.6007\n",
            "Epoch 17/50\n",
            "352/352 [==============================] - 2s 5ms/step - loss: 0.6728 - precision_7: 0.6019 - val_loss: 0.6727 - val_precision_7: 0.6007\n",
            "Epoch 18/50\n",
            "352/352 [==============================] - 2s 5ms/step - loss: 0.6726 - precision_7: 0.6019 - val_loss: 0.6727 - val_precision_7: 0.6007\n",
            "Epoch 19/50\n",
            "352/352 [==============================] - 2s 5ms/step - loss: 0.6725 - precision_7: 0.6017 - val_loss: 0.6731 - val_precision_7: 0.6007\n",
            "Epoch 20/50\n",
            "352/352 [==============================] - 2s 5ms/step - loss: 0.6726 - precision_7: 0.6019 - val_loss: 0.6730 - val_precision_7: 0.6007\n",
            "Epoch 21/50\n",
            "352/352 [==============================] - 2s 5ms/step - loss: 0.6727 - precision_7: 0.6019 - val_loss: 0.6730 - val_precision_7: 0.6007\n",
            "Epoch 22/50\n",
            "352/352 [==============================] - 2s 5ms/step - loss: 0.6727 - precision_7: 0.6019 - val_loss: 0.6728 - val_precision_7: 0.6007\n",
            "Epoch 23/50\n",
            "352/352 [==============================] - 2s 5ms/step - loss: 0.6726 - precision_7: 0.6019 - val_loss: 0.6728 - val_precision_7: 0.6007\n",
            "Epoch 24/50\n",
            "352/352 [==============================] - 2s 6ms/step - loss: 0.6726 - precision_7: 0.6019 - val_loss: 0.6729 - val_precision_7: 0.6007\n",
            "Epoch 25/50\n",
            "352/352 [==============================] - 2s 5ms/step - loss: 0.6725 - precision_7: 0.6019 - val_loss: 0.6730 - val_precision_7: 0.6007\n",
            "Epoch 26/50\n",
            "352/352 [==============================] - 2s 5ms/step - loss: 0.6726 - precision_7: 0.6019 - val_loss: 0.6728 - val_precision_7: 0.6007\n",
            "Epoch 27/50\n",
            "352/352 [==============================] - 2s 5ms/step - loss: 0.6726 - precision_7: 0.6019 - val_loss: 0.6729 - val_precision_7: 0.6007\n",
            "Epoch 28/50\n",
            "352/352 [==============================] - 2s 5ms/step - loss: 0.6725 - precision_7: 0.6019 - val_loss: 0.6727 - val_precision_7: 0.6007\n",
            "Epoch 29/50\n",
            "352/352 [==============================] - 2s 5ms/step - loss: 0.6725 - precision_7: 0.6019 - val_loss: 0.6727 - val_precision_7: 0.6007\n",
            "Epoch 30/50\n",
            "352/352 [==============================] - 2s 5ms/step - loss: 0.6725 - precision_7: 0.6019 - val_loss: 0.6728 - val_precision_7: 0.6007\n",
            "Epoch 31/50\n",
            "352/352 [==============================] - 2s 5ms/step - loss: 0.6725 - precision_7: 0.6019 - val_loss: 0.6728 - val_precision_7: 0.6007\n",
            "Epoch 32/50\n",
            "352/352 [==============================] - 2s 5ms/step - loss: 0.6723 - precision_7: 0.6019 - val_loss: 0.6729 - val_precision_7: 0.6007\n",
            "Epoch 33/50\n",
            "352/352 [==============================] - 2s 5ms/step - loss: 0.6724 - precision_7: 0.6026 - val_loss: 0.6727 - val_precision_7: 0.6007\n",
            "Epoch 34/50\n",
            "352/352 [==============================] - 2s 5ms/step - loss: 0.6725 - precision_7: 0.6017 - val_loss: 0.6728 - val_precision_7: 0.6007\n",
            "Epoch 35/50\n",
            "352/352 [==============================] - 2s 5ms/step - loss: 0.6724 - precision_7: 0.6019 - val_loss: 0.6729 - val_precision_7: 0.6007\n",
            "Epoch 36/50\n",
            "352/352 [==============================] - 2s 5ms/step - loss: 0.6724 - precision_7: 0.6019 - val_loss: 0.6728 - val_precision_7: 0.6007\n",
            "Epoch 37/50\n",
            "352/352 [==============================] - 2s 5ms/step - loss: 0.6727 - precision_7: 0.6019 - val_loss: 0.6727 - val_precision_7: 0.6007\n",
            "Epoch 38/50\n",
            "352/352 [==============================] - 2s 5ms/step - loss: 0.6725 - precision_7: 0.6019 - val_loss: 0.6727 - val_precision_7: 0.6007\n",
            "Epoch 39/50\n",
            "352/352 [==============================] - 2s 5ms/step - loss: 0.6725 - precision_7: 0.6019 - val_loss: 0.6727 - val_precision_7: 0.6007\n",
            "Epoch 40/50\n",
            "352/352 [==============================] - 2s 5ms/step - loss: 0.6724 - precision_7: 0.6019 - val_loss: 0.6728 - val_precision_7: 0.6007\n",
            "Epoch 41/50\n",
            "352/352 [==============================] - 2s 5ms/step - loss: 0.6725 - precision_7: 0.6019 - val_loss: 0.6728 - val_precision_7: 0.6007\n",
            "Epoch 42/50\n",
            "352/352 [==============================] - 2s 5ms/step - loss: 0.6725 - precision_7: 0.6019 - val_loss: 0.6727 - val_precision_7: 0.6007\n",
            "Epoch 43/50\n",
            "352/352 [==============================] - 2s 5ms/step - loss: 0.6724 - precision_7: 0.6019 - val_loss: 0.6728 - val_precision_7: 0.6007\n",
            "Epoch 44/50\n",
            "352/352 [==============================] - 2s 5ms/step - loss: 0.6724 - precision_7: 0.6019 - val_loss: 0.6727 - val_precision_7: 0.6007\n",
            "Epoch 45/50\n",
            "352/352 [==============================] - 2s 5ms/step - loss: 0.6727 - precision_7: 0.6014 - val_loss: 0.6728 - val_precision_7: 0.6007\n",
            "Epoch 46/50\n",
            "352/352 [==============================] - 2s 5ms/step - loss: 0.6722 - precision_7: 0.6019 - val_loss: 0.6728 - val_precision_7: 0.6007\n",
            "Epoch 47/50\n",
            "352/352 [==============================] - 2s 5ms/step - loss: 0.6724 - precision_7: 0.6017 - val_loss: 0.6727 - val_precision_7: 0.6007\n",
            "Epoch 48/50\n",
            "352/352 [==============================] - 2s 5ms/step - loss: 0.6725 - precision_7: 0.6019 - val_loss: 0.6728 - val_precision_7: 0.6007\n",
            "Epoch 49/50\n",
            "352/352 [==============================] - 2s 5ms/step - loss: 0.6724 - precision_7: 0.6017 - val_loss: 0.6727 - val_precision_7: 0.6007\n",
            "Epoch 50/50\n",
            "352/352 [==============================] - 2s 5ms/step - loss: 0.6724 - precision_7: 0.6009 - val_loss: 0.6738 - val_precision_7: 0.6007\n"
          ]
        }
      ]
    },
    {
      "cell_type": "code",
      "source": [
        "hist.history"
      ],
      "metadata": {
        "colab": {
          "base_uri": "https://localhost:8080/"
        },
        "id": "Nj9-LfyGhwZz",
        "outputId": "b3e8eb0b-0d48-4d9b-91af-3f1dc7360708"
      },
      "execution_count": null,
      "outputs": [
        {
          "output_type": "execute_result",
          "data": {
            "text/plain": [
              "{'loss': [0.6739199161529541,\n",
              "  0.6745873689651489,\n",
              "  0.673353374004364,\n",
              "  0.6727477312088013,\n",
              "  0.6732865571975708,\n",
              "  0.6729598045349121,\n",
              "  0.6728412508964539,\n",
              "  0.6726021766662598,\n",
              "  0.6728477478027344,\n",
              "  0.6728655695915222,\n",
              "  0.6732037663459778,\n",
              "  0.6726383566856384,\n",
              "  0.6725048422813416,\n",
              "  0.6726340055465698,\n",
              "  0.6724653244018555,\n",
              "  0.6726179718971252,\n",
              "  0.6727598905563354,\n",
              "  0.6725648641586304,\n",
              "  0.6725471615791321,\n",
              "  0.6725770235061646,\n",
              "  0.6726747155189514,\n",
              "  0.6726670861244202,\n",
              "  0.6725931167602539,\n",
              "  0.6725555658340454,\n",
              "  0.6725409030914307,\n",
              "  0.6725565195083618,\n",
              "  0.6725572943687439,\n",
              "  0.6725035905838013,\n",
              "  0.6724714040756226,\n",
              "  0.6725125908851624,\n",
              "  0.672520101070404,\n",
              "  0.6723334193229675,\n",
              "  0.6723588705062866,\n",
              "  0.6725103259086609,\n",
              "  0.6724315285682678,\n",
              "  0.6723941564559937,\n",
              "  0.672657310962677,\n",
              "  0.6724977493286133,\n",
              "  0.6724774241447449,\n",
              "  0.6724062561988831,\n",
              "  0.6724578142166138,\n",
              "  0.6725069880485535,\n",
              "  0.6724458336830139,\n",
              "  0.672408938407898,\n",
              "  0.672699511051178,\n",
              "  0.6722479462623596,\n",
              "  0.6723613739013672,\n",
              "  0.6724828481674194,\n",
              "  0.6723563075065613,\n",
              "  0.672439694404602],\n",
              " 'precision_7': [0.6014217734336853,\n",
              "  0.6018957495689392,\n",
              "  0.6018957495689392,\n",
              "  0.6018957495689392,\n",
              "  0.6018957495689392,\n",
              "  0.6018957495689392,\n",
              "  0.6018957495689392,\n",
              "  0.6018957495689392,\n",
              "  0.6018957495689392,\n",
              "  0.6018957495689392,\n",
              "  0.6018957495689392,\n",
              "  0.6018957495689392,\n",
              "  0.6018957495689392,\n",
              "  0.6018957495689392,\n",
              "  0.6018957495689392,\n",
              "  0.6018957495689392,\n",
              "  0.6018957495689392,\n",
              "  0.6018957495689392,\n",
              "  0.6016587615013123,\n",
              "  0.6018957495689392,\n",
              "  0.6018957495689392,\n",
              "  0.6018957495689392,\n",
              "  0.6018957495689392,\n",
              "  0.6018957495689392,\n",
              "  0.6018957495689392,\n",
              "  0.6018957495689392,\n",
              "  0.6018957495689392,\n",
              "  0.6018957495689392,\n",
              "  0.6018957495689392,\n",
              "  0.6018957495689392,\n",
              "  0.6018957495689392,\n",
              "  0.6018957495689392,\n",
              "  0.6026066541671753,\n",
              "  0.6016587615013123,\n",
              "  0.6018957495689392,\n",
              "  0.6018957495689392,\n",
              "  0.6018957495689392,\n",
              "  0.6018957495689392,\n",
              "  0.6018957495689392,\n",
              "  0.6018957495689392,\n",
              "  0.6018957495689392,\n",
              "  0.6018957495689392,\n",
              "  0.6018957495689392,\n",
              "  0.6018957495689392,\n",
              "  0.6014217734336853,\n",
              "  0.6018957495689392,\n",
              "  0.6016587615013123,\n",
              "  0.6018957495689392,\n",
              "  0.6016587615013123,\n",
              "  0.6009478569030762],\n",
              " 'val_loss': [0.6729004979133606,\n",
              "  0.6747092604637146,\n",
              "  0.6727417707443237,\n",
              "  0.6751312613487244,\n",
              "  0.6727463006973267,\n",
              "  0.672755241394043,\n",
              "  0.6727584600448608,\n",
              "  0.6737393736839294,\n",
              "  0.6728079319000244,\n",
              "  0.6728230714797974,\n",
              "  0.6733888387680054,\n",
              "  0.6727582812309265,\n",
              "  0.6729012131690979,\n",
              "  0.672968327999115,\n",
              "  0.6730093359947205,\n",
              "  0.6727268695831299,\n",
              "  0.6727235913276672,\n",
              "  0.672727644443512,\n",
              "  0.6730960011482239,\n",
              "  0.6729731559753418,\n",
              "  0.6729639172554016,\n",
              "  0.6727637052536011,\n",
              "  0.6727550029754639,\n",
              "  0.6728544235229492,\n",
              "  0.6729679107666016,\n",
              "  0.6727513670921326,\n",
              "  0.6728929877281189,\n",
              "  0.6727278828620911,\n",
              "  0.672716498374939,\n",
              "  0.672760546207428,\n",
              "  0.6728389263153076,\n",
              "  0.6729355454444885,\n",
              "  0.6727286577224731,\n",
              "  0.6727634072303772,\n",
              "  0.6728515028953552,\n",
              "  0.67275470495224,\n",
              "  0.6727381944656372,\n",
              "  0.6727297306060791,\n",
              "  0.6727380156517029,\n",
              "  0.672787606716156,\n",
              "  0.6727962493896484,\n",
              "  0.6727461218833923,\n",
              "  0.6727689504623413,\n",
              "  0.6727339029312134,\n",
              "  0.6727678775787354,\n",
              "  0.6728211045265198,\n",
              "  0.6727349162101746,\n",
              "  0.6727569699287415,\n",
              "  0.6727298498153687,\n",
              "  0.6737827062606812],\n",
              " 'val_precision_7': [0.6006993055343628,\n",
              "  0.6006993055343628,\n",
              "  0.6006993055343628,\n",
              "  0.6006993055343628,\n",
              "  0.6006993055343628,\n",
              "  0.6006993055343628,\n",
              "  0.6006993055343628,\n",
              "  0.6006993055343628,\n",
              "  0.6006993055343628,\n",
              "  0.6006993055343628,\n",
              "  0.6006993055343628,\n",
              "  0.6006993055343628,\n",
              "  0.6006993055343628,\n",
              "  0.6006993055343628,\n",
              "  0.6006993055343628,\n",
              "  0.6006993055343628,\n",
              "  0.6006993055343628,\n",
              "  0.6006993055343628,\n",
              "  0.6006993055343628,\n",
              "  0.6006993055343628,\n",
              "  0.6006993055343628,\n",
              "  0.6006993055343628,\n",
              "  0.6006993055343628,\n",
              "  0.6006993055343628,\n",
              "  0.6006993055343628,\n",
              "  0.6006993055343628,\n",
              "  0.6006993055343628,\n",
              "  0.6006993055343628,\n",
              "  0.6006993055343628,\n",
              "  0.6006993055343628,\n",
              "  0.6006993055343628,\n",
              "  0.6006993055343628,\n",
              "  0.6006993055343628,\n",
              "  0.6006993055343628,\n",
              "  0.6006993055343628,\n",
              "  0.6006993055343628,\n",
              "  0.6006993055343628,\n",
              "  0.6006993055343628,\n",
              "  0.6006993055343628,\n",
              "  0.6006993055343628,\n",
              "  0.6006993055343628,\n",
              "  0.6006993055343628,\n",
              "  0.6006993055343628,\n",
              "  0.6006993055343628,\n",
              "  0.6006993055343628,\n",
              "  0.6006993055343628,\n",
              "  0.6006993055343628,\n",
              "  0.6006993055343628,\n",
              "  0.6006993055343628,\n",
              "  0.6006993055343628]}"
            ]
          },
          "metadata": {},
          "execution_count": 207
        }
      ]
    },
    {
      "cell_type": "code",
      "source": [
        "plt.plot(hist.history['loss'], label='train loss')\n",
        "plt.plot(hist.history['val_loss'], label='val loss')\n",
        "plt.legend()\n",
        "plt.show()\n",
        "plt.savefig('LossVal_loss')"
      ],
      "metadata": {
        "colab": {
          "base_uri": "https://localhost:8080/",
          "height": 282
        },
        "id": "PP75W71D9ij8",
        "outputId": "93ecd498-1356-42bf-bd10-6db42c5d3c63"
      },
      "execution_count": null,
      "outputs": [
        {
          "output_type": "display_data",
          "data": {
            "image/png": "[encoded data removed]",
            "text/plain": [
              "<Figure size 432x288 with 1 Axes>"
            ]
          },
          "metadata": {
            "needs_background": "light"
          }
        },
        {
          "output_type": "display_data",
          "data": {
            "text/plain": [
              "<Figure size 432x288 with 0 Axes>"
            ]
          },
          "metadata": {}
        }
      ]
    },
    {
      "cell_type": "code",
      "source": [
        "plt.plot(hist.history['precision_7'], label='train acc')\n",
        "plt.plot(hist.history['val_precision_7'], label='val acc')\n",
        "plt.legend()\n",
        "plt.show()\n",
        "plt.savefig('AccVal_acc')"
      ],
      "metadata": {
        "colab": {
          "base_uri": "https://localhost:8080/",
          "height": 282
        },
        "id": "esQzOZTb9p48",
        "outputId": "8ac28837-c403-4d2a-ed6b-58803bd453b0"
      },
      "execution_count": null,
      "outputs": [
        {
          "output_type": "display_data",
          "data": {
            "image/png": "[encoded data removed]",
            "text/plain": [
              "<Figure size 432x288 with 1 Axes>"
            ]
          },
          "metadata": {
            "needs_background": "light"
          }
        },
        {
          "output_type": "display_data",
          "data": {
            "text/plain": [
              "<Figure size 432x288 with 0 Axes>"
            ]
          },
          "metadata": {}
        }
      ]
    },
    {
      "cell_type": "code",
      "source": [
        "y_pred = model.predict(X_test)"
      ],
      "metadata": {
        "id": "MNh51nKK9u15"
      },
      "execution_count": null,
      "outputs": []
    },
    {
      "cell_type": "code",
      "source": [
        "# Calculate the accuracy\n",
        "test_preds = np.argmax(y_pred, axis=1)\n",
        "y_true = np.argmax(y_test, axis=1)\n",
        "test_acc = np.sum(test_preds == y_true)/y_true.shape[0]\n",
        "\n",
        "# Recall for each class\n",
        "recall_vals = []\n",
        "for i in range(3):\n",
        "    class_idx = np.argwhere(y_true==i)\n",
        "    total = len(class_idx)\n",
        "    correct = np.sum(test_preds[class_idx]==i)\n",
        "    recall = correct / total\n",
        "    recall_vals.append(recall)\n",
        "\n",
        "classes = [0,1]\n",
        "# Calculate the test set accuracy and recall for each class\n",
        "print('Test set accuracy is {:.3f}'.format(test_acc))\n",
        "for i in range(2):\n",
        "    print('For class {}, recall is {:.3f}'.format(classes[i],recall_vals[i]))\n",
        "\n",
        "print(\"Weighted F score is {:.3f}\".format(test_acc))\n",
        "# print(\"Weighted F score is {:.3f}\".format(calculate_weighted_f_score(y_true, y_pred)))"
      ],
      "metadata": {
        "colab": {
          "base_uri": "https://localhost:8080/"
        },
        "id": "IuLzuden9xuZ",
        "outputId": "440cf5f8-14b0-4d88-ecc1-12a09fae9cb1"
      },
      "execution_count": null,
      "outputs": [
        {
          "output_type": "stream",
          "name": "stdout",
          "text": [
            "Test set accuracy is 0.608\n",
            "For class 0, recall is 1.000\n",
            "For class 1, recall is 0.000\n",
            "Weighted F score is 0.608\n"
          ]
        },
        {
          "output_type": "stream",
          "name": "stderr",
          "text": [
            "/usr/local/lib/python3.7/dist-packages/ipykernel_launcher.py:12: RuntimeWarning: invalid value encountered in long_scalars\n",
            "  if sys.path[0] == '':\n"
          ]
        }
      ]
    },
    {
      "cell_type": "markdown",
      "source": [
        "#Keras Model TCN Conv2D"
      ],
      "metadata": {
        "id": "L5x9jWH_L6nz"
      }
    },
    {
      "cell_type": "code",
      "source": [
        "from keras.models import Sequential\n",
        "from keras.layers.convolutional import Convolution2D\n",
        "from keras.layers.convolutional import MaxPooling2D\n",
        "from keras.layers.core import Flatten, Dense, Activation\n",
        "from keras.utils import np_utils\n",
        "from tensorflow.keras.layers import Conv2D, Flatten, MaxPooling2D, Dropout\n",
        "from tensorflow.keras.optimizers import Adam, Nadam\n"
      ],
      "metadata": {
        "id": "26CyV_XvOgVA"
      },
      "execution_count": null,
      "outputs": []
    },
    {
      "cell_type": "code",
      "source": [
        "#pip install keras-tcn\n",
        "from tcn import TCN"
      ],
      "metadata": {
        "id": "IVHy7Rav4JTl"
      },
      "execution_count": null,
      "outputs": []
    },
    {
      "cell_type": "code",
      "source": [
        "###### ONLY EXECUTE FOR KERAS 2D CNN #####\n",
        "\n",
        "X_train_2d = X_train.reshape(X_train.shape[0], \n",
        "                          X_train.shape[1], \n",
        "                          X_train.shape[2],\n",
        "                          1\n",
        "                          )\n",
        "X_val_2d = X_val.reshape(X_val.shape[0],\n",
        "                          X_val.shape[1], \n",
        "                          X_val.shape[2],\n",
        "                          1\n",
        "                          )\n",
        "X_test_2d = X_test.reshape(X_test.shape[0],\n",
        "                          X_test.shape[1], \n",
        "                          X_test.shape[2],\n",
        "                          1\n",
        "                          )"
      ],
      "metadata": {
        "id": "Hc2wmJbsL-lw"
      },
      "execution_count": null,
      "outputs": []
    },
    {
      "cell_type": "code",
      "source": [
        "from tensorflow.keras.utils import to_categorical\n",
        "\n",
        "y_train = to_categorical(y_train, 2)\n",
        "y_val = to_categorical(y_val, 2)\n",
        "y_test = to_categorical(y_test, 2)"
      ],
      "metadata": {
        "id": "DCG85tZ1L-xN"
      },
      "execution_count": null,
      "outputs": []
    },
    {
      "cell_type": "code",
      "source": [
        "print(f'X Train Length {X_train_2d.shape}, y Train Label Length {y_train.shape}')\n",
        "print(f'X Val Length {X_val_2d.shape}, y Val Label Length {y_val.shape}')\n",
        "print(f'X Test Length {X_test_2d.shape}, y Test Label Length {y_test.shape}')"
      ],
      "metadata": {
        "colab": {
          "base_uri": "https://localhost:8080/"
        },
        "id": "UeoTjcx5L-s5",
        "outputId": "91c0853e-e2ba-4ef9-86d6-96423f6e6ce0"
      },
      "execution_count": null,
      "outputs": [
        {
          "output_type": "stream",
          "name": "stdout",
          "text": [
            "X Train Length (4060, 5, 24, 1), y Train Label Length (4060, 2)\n",
            "X Val Length (1435, 5, 24, 1), y Val Label Length (1435, 2)\n",
            "X Test Length (1090, 5, 24, 1), y Test Label Length (1090, 2)\n"
          ]
        }
      ]
    },
    {
      "cell_type": "code",
      "source": [
        "# data_format='channels_first'\n",
        "#Create model\n",
        "model = Sequential()\n",
        "model.add(Convolution2D(filters=32, kernel_size=(1, 4), padding='same', activation='relu', input_shape=(X_train_2d.shape[1],X_train_2d.shape[2],X_train_2d.shape[3])))\n",
        "model.add(MaxPooling2D(pool_size=(1,4), strides=(1, 4), padding='same'))\n",
        "model.add(Dropout(0.7))\n",
        "model.add(TCN(return_sequences=False))\n",
        "# model.add(Convolution2D(filters=64, kernel_size=(1,3), padding='same', activation='relu'))\n",
        "# model.add(MaxPooling2D(pool_size=(1,3), strides=(1, 3), padding='same'))\n",
        "# model.add(Dropout(0.7))\n",
        "# model.add(Convolution2D(filters=128, kernel_size=(1,2), padding='same', activation='relu'))\n",
        "# model.add(MaxPooling2D(pool_size=(1,2), strides=(1,2), padding='same'))\n",
        "# model.add(Dropout(0.7))\n",
        "# model.add(Flatten())\n",
        "model.add(Dense(1000,activation=\"relu\"))\n",
        "model.add(Dense(500,activation=\"relu\"))\n",
        "model.add(Dense(3,activation=\"softmax\"))\n",
        "model.summary()"
      ],
      "metadata": {
        "colab": {
          "base_uri": "https://localhost:8080/",
          "height": 953
        },
        "id": "3-fjU2wxL-1j",
        "outputId": "89a28257-4ceb-4c6d-db4b-8ff4f2189eea"
      },
      "execution_count": null,
      "outputs": [
        {
          "output_type": "error",
          "ename": "ValueError",
          "evalue": "ignored",
          "traceback": [
            "\u001b[0;31m---------------------------------------------------------------------------\u001b[0m",
            "\u001b[0;31mValueError\u001b[0m                                Traceback (most recent call last)",
            "\u001b[0;32m<ipython-input-33-4363170dd088>\u001b[0m in \u001b[0;36m<module>\u001b[0;34m()\u001b[0m\n\u001b[1;32m      5\u001b[0m \u001b[0mmodel\u001b[0m\u001b[0;34m.\u001b[0m\u001b[0madd\u001b[0m\u001b[0;34m(\u001b[0m\u001b[0mMaxPooling2D\u001b[0m\u001b[0;34m(\u001b[0m\u001b[0mpool_size\u001b[0m\u001b[0;34m=\u001b[0m\u001b[0;34m(\u001b[0m\u001b[0;36m1\u001b[0m\u001b[0;34m,\u001b[0m\u001b[0;36m4\u001b[0m\u001b[0;34m)\u001b[0m\u001b[0;34m,\u001b[0m \u001b[0mstrides\u001b[0m\u001b[0;34m=\u001b[0m\u001b[0;34m(\u001b[0m\u001b[0;36m1\u001b[0m\u001b[0;34m,\u001b[0m \u001b[0;36m4\u001b[0m\u001b[0;34m)\u001b[0m\u001b[0;34m,\u001b[0m \u001b[0mpadding\u001b[0m\u001b[0;34m=\u001b[0m\u001b[0;34m'same'\u001b[0m\u001b[0;34m)\u001b[0m\u001b[0;34m)\u001b[0m\u001b[0;34m\u001b[0m\u001b[0;34m\u001b[0m\u001b[0m\n\u001b[1;32m      6\u001b[0m \u001b[0mmodel\u001b[0m\u001b[0;34m.\u001b[0m\u001b[0madd\u001b[0m\u001b[0;34m(\u001b[0m\u001b[0mDropout\u001b[0m\u001b[0;34m(\u001b[0m\u001b[0;36m0.7\u001b[0m\u001b[0;34m)\u001b[0m\u001b[0;34m)\u001b[0m\u001b[0;34m\u001b[0m\u001b[0;34m\u001b[0m\u001b[0m\n\u001b[0;32m----> 7\u001b[0;31m \u001b[0mmodel\u001b[0m\u001b[0;34m.\u001b[0m\u001b[0madd\u001b[0m\u001b[0;34m(\u001b[0m\u001b[0mTCN\u001b[0m\u001b[0;34m(\u001b[0m\u001b[0mreturn_sequences\u001b[0m\u001b[0;34m=\u001b[0m\u001b[0;32mFalse\u001b[0m\u001b[0;34m)\u001b[0m\u001b[0;34m)\u001b[0m\u001b[0;34m\u001b[0m\u001b[0;34m\u001b[0m\u001b[0m\n\u001b[0m\u001b[1;32m      8\u001b[0m \u001b[0;31m# model.add(Convolution2D(filters=64, kernel_size=(1,3), padding='same', activation='relu'))\u001b[0m\u001b[0;34m\u001b[0m\u001b[0;34m\u001b[0m\u001b[0;34m\u001b[0m\u001b[0m\n\u001b[1;32m      9\u001b[0m \u001b[0;31m# model.add(MaxPooling2D(pool_size=(1,3), strides=(1, 3), padding='same'))\u001b[0m\u001b[0;34m\u001b[0m\u001b[0;34m\u001b[0m\u001b[0;34m\u001b[0m\u001b[0m\n",
            "\u001b[0;32m/usr/local/lib/python3.7/dist-packages/tensorflow/python/training/tracking/base.py\u001b[0m in \u001b[0;36m_method_wrapper\u001b[0;34m(self, *args, **kwargs)\u001b[0m\n\u001b[1;32m    627\u001b[0m     \u001b[0mself\u001b[0m\u001b[0;34m.\u001b[0m\u001b[0m_self_setattr_tracking\u001b[0m \u001b[0;34m=\u001b[0m \u001b[0;32mFalse\u001b[0m  \u001b[0;31m# pylint: disable=protected-access\u001b[0m\u001b[0;34m\u001b[0m\u001b[0;34m\u001b[0m\u001b[0m\n\u001b[1;32m    628\u001b[0m     \u001b[0;32mtry\u001b[0m\u001b[0;34m:\u001b[0m\u001b[0;34m\u001b[0m\u001b[0;34m\u001b[0m\u001b[0m\n\u001b[0;32m--> 629\u001b[0;31m       \u001b[0mresult\u001b[0m \u001b[0;34m=\u001b[0m \u001b[0mmethod\u001b[0m\u001b[0;34m(\u001b[0m\u001b[0mself\u001b[0m\u001b[0;34m,\u001b[0m \u001b[0;34m*\u001b[0m\u001b[0margs\u001b[0m\u001b[0;34m,\u001b[0m \u001b[0;34m**\u001b[0m\u001b[0mkwargs\u001b[0m\u001b[0;34m)\u001b[0m\u001b[0;34m\u001b[0m\u001b[0;34m\u001b[0m\u001b[0m\n\u001b[0m\u001b[1;32m    630\u001b[0m     \u001b[0;32mfinally\u001b[0m\u001b[0;34m:\u001b[0m\u001b[0;34m\u001b[0m\u001b[0;34m\u001b[0m\u001b[0m\n\u001b[1;32m    631\u001b[0m       \u001b[0mself\u001b[0m\u001b[0;34m.\u001b[0m\u001b[0m_self_setattr_tracking\u001b[0m \u001b[0;34m=\u001b[0m \u001b[0mprevious_value\u001b[0m  \u001b[0;31m# pylint: disable=protected-access\u001b[0m\u001b[0;34m\u001b[0m\u001b[0;34m\u001b[0m\u001b[0m\n",
            "\u001b[0;32m/usr/local/lib/python3.7/dist-packages/keras/utils/traceback_utils.py\u001b[0m in \u001b[0;36merror_handler\u001b[0;34m(*args, **kwargs)\u001b[0m\n\u001b[1;32m     65\u001b[0m     \u001b[0;32mexcept\u001b[0m \u001b[0mException\u001b[0m \u001b[0;32mas\u001b[0m \u001b[0me\u001b[0m\u001b[0;34m:\u001b[0m  \u001b[0;31m# pylint: disable=broad-except\u001b[0m\u001b[0;34m\u001b[0m\u001b[0;34m\u001b[0m\u001b[0m\n\u001b[1;32m     66\u001b[0m       \u001b[0mfiltered_tb\u001b[0m \u001b[0;34m=\u001b[0m \u001b[0m_process_traceback_frames\u001b[0m\u001b[0;34m(\u001b[0m\u001b[0me\u001b[0m\u001b[0;34m.\u001b[0m\u001b[0m__traceback__\u001b[0m\u001b[0;34m)\u001b[0m\u001b[0;34m\u001b[0m\u001b[0;34m\u001b[0m\u001b[0m\n\u001b[0;32m---> 67\u001b[0;31m       \u001b[0;32mraise\u001b[0m \u001b[0me\u001b[0m\u001b[0;34m.\u001b[0m\u001b[0mwith_traceback\u001b[0m\u001b[0;34m(\u001b[0m\u001b[0mfiltered_tb\u001b[0m\u001b[0;34m)\u001b[0m \u001b[0;32mfrom\u001b[0m \u001b[0;32mNone\u001b[0m\u001b[0;34m\u001b[0m\u001b[0;34m\u001b[0m\u001b[0m\n\u001b[0m\u001b[1;32m     68\u001b[0m     \u001b[0;32mfinally\u001b[0m\u001b[0;34m:\u001b[0m\u001b[0;34m\u001b[0m\u001b[0;34m\u001b[0m\u001b[0m\n\u001b[1;32m     69\u001b[0m       \u001b[0;32mdel\u001b[0m \u001b[0mfiltered_tb\u001b[0m\u001b[0;34m\u001b[0m\u001b[0;34m\u001b[0m\u001b[0m\n",
            "\u001b[0;32m/usr/local/lib/python3.7/dist-packages/tensorflow/python/autograph/impl/api.py\u001b[0m in \u001b[0;36mwrapper\u001b[0;34m(*args, **kwargs)\u001b[0m\n\u001b[1;32m    690\u001b[0m       \u001b[0;32mexcept\u001b[0m \u001b[0mException\u001b[0m \u001b[0;32mas\u001b[0m \u001b[0me\u001b[0m\u001b[0;34m:\u001b[0m  \u001b[0;31m# pylint:disable=broad-except\u001b[0m\u001b[0;34m\u001b[0m\u001b[0;34m\u001b[0m\u001b[0m\n\u001b[1;32m    691\u001b[0m         \u001b[0;32mif\u001b[0m \u001b[0mhasattr\u001b[0m\u001b[0;34m(\u001b[0m\u001b[0me\u001b[0m\u001b[0;34m,\u001b[0m \u001b[0;34m'ag_error_metadata'\u001b[0m\u001b[0;34m)\u001b[0m\u001b[0;34m:\u001b[0m\u001b[0;34m\u001b[0m\u001b[0;34m\u001b[0m\u001b[0m\n\u001b[0;32m--> 692\u001b[0;31m           \u001b[0;32mraise\u001b[0m \u001b[0me\u001b[0m\u001b[0;34m.\u001b[0m\u001b[0mag_error_metadata\u001b[0m\u001b[0;34m.\u001b[0m\u001b[0mto_exception\u001b[0m\u001b[0;34m(\u001b[0m\u001b[0me\u001b[0m\u001b[0;34m)\u001b[0m\u001b[0;34m\u001b[0m\u001b[0;34m\u001b[0m\u001b[0m\n\u001b[0m\u001b[1;32m    693\u001b[0m         \u001b[0;32melse\u001b[0m\u001b[0;34m:\u001b[0m\u001b[0;34m\u001b[0m\u001b[0;34m\u001b[0m\u001b[0m\n\u001b[1;32m    694\u001b[0m           \u001b[0;32mraise\u001b[0m\u001b[0;34m\u001b[0m\u001b[0;34m\u001b[0m\u001b[0m\n",
            "\u001b[0;31mValueError\u001b[0m: Exception encountered when calling layer \"tcn\" (type TCN).\n\nin user code:\n\n    File \"/usr/local/lib/python3.7/dist-packages/tcn/tcn.py\", line 333, in call  *\n        x, skip_out = res_block(x, training=training)\n    File \"/usr/local/lib/python3.7/dist-packages/keras/utils/traceback_utils.py\", line 67, in error_handler  **\n        raise e.with_traceback(filtered_tb) from None\n\n    ValueError: Exception encountered when calling layer \"residual_block_0\" (type ResidualBlock).\n    \n    in user code:\n    \n        File \"/usr/local/lib/python3.7/dist-packages/tcn/tcn.py\", line 173, in call  *\n            x1 = layer(x1, training=training) if training_flag else layer(x1)\n        File \"/usr/local/lib/python3.7/dist-packages/keras/utils/traceback_utils.py\", line 67, in error_handler  **\n            raise e.with_traceback(filtered_tb) from None\n        File \"/usr/local/lib/python3.7/dist-packages/keras/engine/input_spec.py\", line 214, in assert_input_compatibility\n            raise ValueError(f'Input {input_index} of layer \"{layer_name}\" '\n    \n        ValueError: Input 0 of layer \"SDropout_0\" is incompatible with the layer: expected ndim=3, found ndim=4. Full shape received: (None, 5, 6, 64)\n    \n    \n    Call arguments received:\n      • inputs=tf.Tensor(shape=(None, 5, 6, 32), dtype=float32)\n      • training=False\n      • kwargs=<class 'inspect._empty'>\n\n\nCall arguments received:\n  • inputs=tf.Tensor(shape=(None, 5, 6, 32), dtype=float32)\n  • training=False\n  • kwargs=<class 'inspect._empty'>"
          ]
        }
      ]
    },
    {
      "cell_type": "code",
      "source": [
        "adam = Adam(learning_rate=0.001, decay=0.0001)\n",
        "nadam = Nadam(learning_rate=0.002, schedule_decay=0.004)\n",
        "\n",
        "model.compile(loss='categorical_crossentropy', optimizer=adam, metrics=[\"accuracy\"]) "
      ],
      "metadata": {
        "id": "I7rjbRGgQqKV"
      },
      "execution_count": null,
      "outputs": []
    },
    {
      "cell_type": "code",
      "source": [
        "batch_size = 12\n",
        "hist = model.fit(X_train_2d, y_train, batch_size=batch_size, epochs=350, validation_data=(X_val_2d, y_val)) #, class_weight={0:1, 1:1.5})"
      ],
      "metadata": {
        "colab": {
          "base_uri": "https://localhost:8080/"
        },
        "outputId": "1e3d2512-b612-4080-bb81-107e458dfa5e",
        "id": "nKnSxLyGQqKm"
      },
      "execution_count": null,
      "outputs": [
        {
          "output_type": "stream",
          "name": "stdout",
          "text": [
            "Epoch 1/350\n",
            "338/338 [==============================] - 9s 21ms/step - loss: 1.1181 - accuracy: 0.3988 - val_loss: 1.0789 - val_accuracy: 0.4210\n",
            "Epoch 2/350\n",
            "338/338 [==============================] - 7s 20ms/step - loss: 1.0796 - accuracy: 0.4197 - val_loss: 1.0738 - val_accuracy: 0.4189\n",
            "Epoch 3/350\n",
            "338/338 [==============================] - 7s 20ms/step - loss: 1.0775 - accuracy: 0.4229 - val_loss: 1.0732 - val_accuracy: 0.4182\n",
            "Epoch 4/350\n",
            "338/338 [==============================] - 7s 21ms/step - loss: 1.0739 - accuracy: 0.4266 - val_loss: 1.0721 - val_accuracy: 0.4189\n",
            "Epoch 5/350\n",
            "338/338 [==============================] - 8s 25ms/step - loss: 1.0715 - accuracy: 0.4252 - val_loss: 1.0666 - val_accuracy: 0.4175\n",
            "Epoch 6/350\n",
            "338/338 [==============================] - 7s 21ms/step - loss: 1.0744 - accuracy: 0.4192 - val_loss: 1.0659 - val_accuracy: 0.4203\n",
            "Epoch 7/350\n",
            " 39/338 [==>...........................] - ETA: 5s - loss: 1.0857 - accuracy: 0.4060"
          ]
        }
      ]
    },
    {
      "cell_type": "code",
      "source": [
        "plt.plot(hist.history['loss'], label='train loss')\n",
        "plt.plot(hist.history['val_loss'], label='val loss')\n",
        "plt.legend()\n",
        "plt.show()\n",
        "plt.savefig('LossVal_loss')"
      ],
      "metadata": {
        "id": "HaiFRJBaRXAV"
      },
      "execution_count": null,
      "outputs": []
    },
    {
      "cell_type": "code",
      "source": [
        "plt.plot(hist.history['accuracy'], label='train acc')\n",
        "plt.plot(hist.history['val_accuracy'], label='val acc')\n",
        "plt.legend()\n",
        "plt.show()\n",
        "plt.savefig('AccVal_acc')"
      ],
      "metadata": {
        "id": "2S1lgtOARXAW"
      },
      "execution_count": null,
      "outputs": []
    },
    {
      "cell_type": "code",
      "source": [
        "y_pred = model.predict(X_test_2d)"
      ],
      "metadata": {
        "id": "ylr2HaMKRXAX"
      },
      "execution_count": null,
      "outputs": []
    },
    {
      "cell_type": "code",
      "source": [
        "y_pred"
      ],
      "metadata": {
        "id": "FkTepZ32Ui5_"
      },
      "execution_count": null,
      "outputs": []
    },
    {
      "cell_type": "code",
      "source": [
        "# Calculate the accuracy\n",
        "test_preds = np.argmax(y_pred, axis=1)\n",
        "y_true = np.argmax(y_test, axis=1)\n",
        "test_acc = np.sum(test_preds == y_true)/y_true.shape[0]\n",
        "\n",
        "# Recall for each class\n",
        "recall_vals = []\n",
        "for i in range(3):\n",
        "    class_idx = np.argwhere(y_true==i)\n",
        "    total = len(class_idx)\n",
        "    correct = np.sum(test_preds[class_idx]==i)\n",
        "    recall = correct / total\n",
        "    recall_vals.append(recall)\n",
        "\n",
        "classes = [0,1,2]\n",
        "# Calculate the test set accuracy and recall for each class\n",
        "print('Test set accuracy is {:.3f}'.format(test_acc))\n",
        "for i in range(3):\n",
        "    print('For class {}, recall is {:.3f}'.format(classes[i],recall_vals[i]))\n",
        "\n",
        "print(\"Accuracy is {:.3f}\".format(test_acc))\n",
        "# print(\"Weighted F score is {:.3f}\".format(calculate_weighted_f_score(y_true, y_pred)))"
      ],
      "metadata": {
        "id": "84_JU0KURXAX"
      },
      "execution_count": null,
      "outputs": []
    },
    {
      "cell_type": "code",
      "source": [
        "from sklearn.metrics import confusion_matrix\n",
        "\n",
        "def plot_confusion_matrix(cm,\n",
        "                          target_names,\n",
        "                          title='Confusion matrix',\n",
        "                          cmap=None,\n",
        "                          normalize=True):\n",
        "    \"\"\"\n",
        "    given a sklearn confusion matrix (cm), make a nice plot\n",
        "\n",
        "    Arguments\n",
        "    ---------\n",
        "    cm:           confusion matrix from sklearn.metrics.confusion_matrix\n",
        "\n",
        "    target_names: given classification classes such as [0, 1, 2]\n",
        "                  the class names, for example: ['high', 'medium', 'low']\n",
        "\n",
        "    title:        the text to display at the top of the matrix\n",
        "\n",
        "    cmap:         the gradient of the values displayed from matplotlib.pyplot.cm\n",
        "                  see http://matplotlib.org/examples/color/colormaps_reference.html\n",
        "                  plt.get_cmap('jet') or plt.cm.Blues\n",
        "\n",
        "    normalize:    If False, plot the raw numbers\n",
        "                  If True, plot the proportions\n",
        "\n",
        "    Usage\n",
        "    -----\n",
        "    plot_confusion_matrix(cm           = cm,                  # confusion matrix created by\n",
        "                                                              # sklearn.metrics.confusion_matrix\n",
        "                          normalize    = True,                # show proportions\n",
        "                          target_names = y_labels_vals,       # list of names of the classes\n",
        "                          title        = best_estimator_name) # title of graph\n",
        "\n",
        "    Citiation\n",
        "    ---------\n",
        "    http://scikit-learn.org/stable/auto_examples/model_selection/plot_confusion_matrix.html\n",
        "\n",
        "    \"\"\"\n",
        "    import matplotlib.pyplot as plt\n",
        "    import numpy as np\n",
        "    import itertools\n",
        "\n",
        "    accuracy = np.trace(cm) / np.sum(cm).astype('float')\n",
        "    misclass = 1 - accuracy\n",
        "\n",
        "    if cmap is None:\n",
        "        cmap = plt.get_cmap('Blues')\n",
        "\n",
        "    plt.figure(figsize=(8, 6))\n",
        "    plt.imshow(cm, interpolation='nearest', cmap=cmap)\n",
        "    plt.title(title)\n",
        "    plt.colorbar()\n",
        "\n",
        "    if target_names is not None:\n",
        "        tick_marks = np.arange(len(target_names))\n",
        "        plt.xticks(tick_marks, target_names, rotation=45)\n",
        "        plt.yticks(tick_marks, target_names)\n",
        "\n",
        "    if normalize:\n",
        "        cm = cm.astype('float') / cm.sum(axis=1)[:, np.newaxis]\n",
        "\n",
        "\n",
        "    thresh = cm.max() / 1.5 if normalize else cm.max() / 2\n",
        "    for i, j in itertools.product(range(cm.shape[0]), range(cm.shape[1])):\n",
        "        if normalize:\n",
        "            plt.text(j, i, \"{:0.4f}\".format(cm[i, j]),\n",
        "                     horizontalalignment=\"center\",\n",
        "                     color=\"white\" if cm[i, j] > thresh else \"black\")\n",
        "        else:\n",
        "            plt.text(j, i, \"{:,}\".format(cm[i, j]),\n",
        "                     horizontalalignment=\"center\",\n",
        "                     color=\"white\" if cm[i, j] > thresh else \"black\")\n",
        "\n",
        "\n",
        "    plt.tight_layout()\n",
        "    plt.ylabel('True label')\n",
        "    plt.xlabel('Predicted label\\naccuracy={:0.4f}; misclass={:0.4f}'.format(accuracy, misclass))\n",
        "    plt.show()\n",
        "\n",
        "nb_classes = 3\n",
        "\n",
        "# Confusion matrix\n",
        "conf_mat=confusion_matrix(y_true, np.argmax(y_pred, axis=-1))\n",
        "plot_confusion_matrix(conf_mat, [\"flat\",\"down\",\"up\"])\n",
        "\n",
        "from sklearn.metrics import precision_score\n",
        "\n",
        "precision_score(y_true, np.argmax(y_pred, axis=-1), average='weighted')\n",
        "\n",
        "from sklearn.metrics import classification_report\n",
        "\n",
        "print(classification_report(y_true, np.argmax(y_pred, axis=-1), target_names=[\"flat\",\"down\", \"up\"], digits=4))"
      ],
      "metadata": {
        "id": "3SjFsSeFRXAX"
      },
      "execution_count": null,
      "outputs": []
    },
    {
      "cell_type": "code",
      "source": [
        "def calculate_weighted_f_score(y_true, y_pred):\n",
        "  test_preds = np.argmax(y_pred, axis=-1)\n",
        "  Ntu = sum((test_preds == 2) & (y_true == 2))\n",
        "  Ntd = sum((test_preds == 1) & (y_true == 1))\n",
        "  Ntf = sum((test_preds == 0) & (y_true == 0))\n",
        "  Ewutd = sum((test_preds == 2) & (y_true == 1))\n",
        "  Ewdtu = sum((test_preds == 1) & (y_true == 2))\n",
        "  Ewutf = sum((test_preds == 2) & (y_true == 0))\n",
        "  Ewdtf = sum((test_preds == 1) & (y_true == 0))\n",
        "  Ewftu = sum((test_preds == 0) & (y_true == 2))\n",
        "  Ewftd = sum((test_preds == 0) & (y_true == 1))\n",
        "\n",
        "  beta_1 = 0.5\n",
        "  beta_2 = 0.125\n",
        "  beta_3 = 0.125\n",
        "\n",
        "  Ntp = Ntu + Ntd + beta_3**2 * Ntf\n",
        "  E1 = Ewutd + Ewdtu\n",
        "  E2 = Ewutf + Ewdtf\n",
        "  E3 = Ewftu + Ewftd\n",
        "\n",
        "  F = (1 + beta_1**2 + beta_2**2) * Ntp / ((1+beta_1**2+beta_2**2) * Ntp + E1 + beta_1**2 * E2 + beta_2**2 * E3)\n",
        "  return  F\n",
        "\n",
        "print(f'Weight CDT F Score: {calculate_weighted_f_score(y_true, y_pred)}')"
      ],
      "metadata": {
        "id": "AIqC-zeNRXAY"
      },
      "execution_count": null,
      "outputs": []
    },
    {
      "cell_type": "markdown",
      "source": [
        "# Completely New Model Build"
      ],
      "metadata": {
        "id": "KHDKw2Fj3Q9Z"
      }
    },
    {
      "cell_type": "code",
      "source": [
        "from keras.models import Sequential\n",
        "from keras.layers import Dense\n",
        "from keras.layers import Flatten\n",
        "from keras.layers import Dropout\n",
        "from keras.layers.convolutional import Conv2D\n",
        "from keras.layers.convolutional import MaxPooling2D"
      ],
      "metadata": {
        "id": "uBUl4s7dF9ni"
      },
      "execution_count": null,
      "outputs": []
    },
    {
      "cell_type": "code",
      "source": [
        "model = Sequential()\n",
        "model.add(Conv2D(32, (1, 3), activation='relu', padding='same', input_shape=(X_train.shape[1], X_train.shape[2], X_train.shape[3])))\n",
        "model.add(MaxPooling2D((1, 4), strides=4))\n",
        "model.add(Dropout(0.7))\n",
        "model.add(Conv2D(64, (1, 3), activation='relu', padding='same',))\n",
        "model.add(MaxPooling2D((1, 3), strides=3))\n",
        "model.add(Dropout(0.7))\n",
        "model.add(Conv2D(128, (1, 3), activation='relu', padding='same',))\n",
        "model.add(MaxPooling2D((1, 2), strides=2))\n",
        "model.add(Dropout(0.7))\n",
        "\n",
        "model.add(Flatten())\n",
        "model.add(Dense(1000,activation=\"relu\"))\n",
        "model.add(Dense(500,activation=\"relu\"))\n",
        "model.add(Dense(3,activation=\"softmax\"))"
      ],
      "metadata": {
        "id": "hFN0cl_cSjwq"
      },
      "execution_count": null,
      "outputs": []
    },
    {
      "cell_type": "code",
      "source": [
        "model.summary()"
      ],
      "metadata": {
        "colab": {
          "base_uri": "https://localhost:8080/"
        },
        "id": "-KKO5LSUTB1v",
        "outputId": "f16f4296-8e3b-4f7b-b141-9a6623e31a22"
      },
      "execution_count": null,
      "outputs": [
        {
          "output_type": "stream",
          "name": "stdout",
          "text": [
            "Model: \"sequential_9\"\n",
            "_________________________________________________________________\n",
            " Layer (type)                Output Shape              Param #   \n",
            "=================================================================\n",
            " conv2d_22 (Conv2D)          (None, 5, 24, 32)         128       \n",
            "                                                                 \n",
            " max_pooling2d_22 (MaxPoolin  (None, 2, 6, 32)         0         \n",
            " g2D)                                                            \n",
            "                                                                 \n",
            " dropout_14 (Dropout)        (None, 2, 6, 32)          0         \n",
            "                                                                 \n",
            " conv2d_23 (Conv2D)          (None, 2, 6, 64)          6208      \n",
            "                                                                 \n",
            " max_pooling2d_23 (MaxPoolin  (None, 1, 2, 64)         0         \n",
            " g2D)                                                            \n",
            "                                                                 \n",
            " dropout_15 (Dropout)        (None, 1, 2, 64)          0         \n",
            "                                                                 \n",
            " conv2d_24 (Conv2D)          (None, 1, 2, 128)         24704     \n",
            "                                                                 \n",
            " max_pooling2d_24 (MaxPoolin  (None, 1, 1, 128)        0         \n",
            " g2D)                                                            \n",
            "                                                                 \n",
            " dropout_16 (Dropout)        (None, 1, 1, 128)         0         \n",
            "                                                                 \n",
            " flatten_3 (Flatten)         (None, 128)               0         \n",
            "                                                                 \n",
            " dense_8 (Dense)             (None, 1000)              129000    \n",
            "                                                                 \n",
            " dense_9 (Dense)             (None, 500)               500500    \n",
            "                                                                 \n",
            " dense_10 (Dense)            (None, 3)                 1503      \n",
            "                                                                 \n",
            "=================================================================\n",
            "Total params: 662,043\n",
            "Trainable params: 662,043\n",
            "Non-trainable params: 0\n",
            "_________________________________________________________________\n"
          ]
        }
      ]
    },
    {
      "cell_type": "code",
      "source": [
        "model.compile(loss='categorical_crossentropy',optimizer='adam',metrics=['accuracy']) "
      ],
      "metadata": {
        "id": "NRIZjV2-THkm"
      },
      "execution_count": null,
      "outputs": []
    },
    {
      "cell_type": "code",
      "source": [
        "batch_size = 12\n",
        "hist = model.fit(X_train, y_train, batch_size=batch_size, epochs=50, validation_data=(X_val, y_val))\n",
        "\n",
        "##### LABLES NEED TO BY 1x3 ARRAY"
      ],
      "metadata": {
        "colab": {
          "base_uri": "https://localhost:8080/"
        },
        "id": "2EDJJqlJUMHb",
        "outputId": "a214b6fc-c9d2-435d-9a02-b8a3db3829cf"
      },
      "execution_count": null,
      "outputs": [
        {
          "output_type": "stream",
          "name": "stdout",
          "text": [
            "Epoch 1/50\n",
            "352/352 [==============================] - 10s 5ms/step - loss: 1.1026 - accuracy: 0.3635 - val_loss: 1.0981 - val_accuracy: 0.3671\n",
            "Epoch 2/50\n",
            "352/352 [==============================] - 2s 5ms/step - loss: 1.0940 - accuracy: 0.3780 - val_loss: 1.0986 - val_accuracy: 0.3671\n",
            "Epoch 3/50\n",
            "352/352 [==============================] - 2s 5ms/step - loss: 1.0958 - accuracy: 0.3765 - val_loss: 1.0988 - val_accuracy: 0.3671\n",
            "Epoch 4/50\n",
            "352/352 [==============================] - 2s 5ms/step - loss: 1.0938 - accuracy: 0.3770 - val_loss: 1.0990 - val_accuracy: 0.3671\n"
          ]
        }
      ]
    },
    {
      "cell_type": "code",
      "source": [
        ""
      ],
      "metadata": {
        "id": "5S0IDmg7URVU"
      },
      "execution_count": null,
      "outputs": []
    }
  ]
}