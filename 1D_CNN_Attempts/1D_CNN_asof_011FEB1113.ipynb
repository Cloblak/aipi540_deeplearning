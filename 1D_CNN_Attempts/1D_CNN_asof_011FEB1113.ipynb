{
  "nbformat": 4,
  "nbformat_minor": 0,
  "metadata": {
    "colab": {
      "name": "1D_CNN.ipynb",
      "provenance": [],
      "collapsed_sections": [],
      "include_colab_link": true
    },
    "kernelspec": {
      "name": "python3",
      "display_name": "Python 3"
    },
    "language_info": {
      "name": "python"
    }
  },
  "cells": [
    {
      "cell_type": "markdown",
      "metadata": {
        "id": "view-in-github",
        "colab_type": "text"
      },
      "source": [
        "<a href=\"https://colab.research.google.com/github/Cloblak/aipi540_deeplearning/blob/main/1D_CNN_Attempts/1D_CNN_asof_011FEB1113.ipynb\" target=\"_parent\"><img src=\"https://colab.research.google.com/assets/colab-badge.svg\" alt=\"Open In Colab\"/></a>"
      ]
    },
    {
      "cell_type": "code",
      "source": [
        "!pip install alpaca_trade_api"
      ],
      "metadata": {
        "id": "Xj0pR3efRVrc",
        "colab": {
          "base_uri": "https://localhost:8080/"
        },
        "outputId": "808301ce-b888-450c-9f1c-152ce96bb152"
      },
      "execution_count": 2,
      "outputs": [
        {
          "output_type": "stream",
          "name": "stdout",
          "text": [
            "Collecting alpaca_trade_api\n",
            "  Downloading alpaca_trade_api-1.5.0-py3-none-any.whl (45 kB)\n",
            "\u001b[K     |████████████████████████████████| 45 kB 2.9 MB/s \n",
            "\u001b[?25hCollecting aiohttp==3.7.4\n",
            "  Downloading aiohttp-3.7.4-cp37-cp37m-manylinux2014_x86_64.whl (1.3 MB)\n",
            "\u001b[K     |████████████████████████████████| 1.3 MB 28.6 MB/s \n",
            "\u001b[?25hRequirement already satisfied: numpy>=1.11.1 in /usr/local/lib/python3.7/dist-packages (from alpaca_trade_api) (1.19.5)\n",
            "Requirement already satisfied: urllib3<2,>1.24 in /usr/local/lib/python3.7/dist-packages (from alpaca_trade_api) (1.24.3)\n",
            "Collecting deprecation==2.1.0\n",
            "  Downloading deprecation-2.1.0-py2.py3-none-any.whl (11 kB)\n",
            "Collecting msgpack==1.0.2\n",
            "  Downloading msgpack-1.0.2-cp37-cp37m-manylinux1_x86_64.whl (273 kB)\n",
            "\u001b[K     |████████████████████████████████| 273 kB 53.6 MB/s \n",
            "\u001b[?25hRequirement already satisfied: requests<3,>2 in /usr/local/lib/python3.7/dist-packages (from alpaca_trade_api) (2.23.0)\n",
            "Collecting websockets<10,>=8.0\n",
            "  Downloading websockets-9.1-cp37-cp37m-manylinux2010_x86_64.whl (103 kB)\n",
            "\u001b[K     |████████████████████████████████| 103 kB 53.9 MB/s \n",
            "\u001b[?25hCollecting PyYAML==5.4.1\n",
            "  Downloading PyYAML-5.4.1-cp37-cp37m-manylinux1_x86_64.whl (636 kB)\n",
            "\u001b[K     |████████████████████████████████| 636 kB 20.5 MB/s \n",
            "\u001b[?25hRequirement already satisfied: pandas>=0.18.1 in /usr/local/lib/python3.7/dist-packages (from alpaca_trade_api) (1.3.5)\n",
            "Collecting websocket-client<2,>=0.56.0\n",
            "  Downloading websocket_client-1.2.3-py3-none-any.whl (53 kB)\n",
            "\u001b[K     |████████████████████████████████| 53 kB 1.8 MB/s \n",
            "\u001b[?25hRequirement already satisfied: attrs>=17.3.0 in /usr/local/lib/python3.7/dist-packages (from aiohttp==3.7.4->alpaca_trade_api) (21.4.0)\n",
            "Collecting yarl<2.0,>=1.0\n",
            "  Downloading yarl-1.7.2-cp37-cp37m-manylinux_2_5_x86_64.manylinux1_x86_64.manylinux_2_12_x86_64.manylinux2010_x86_64.whl (271 kB)\n",
            "\u001b[K     |████████████████████████████████| 271 kB 47.2 MB/s \n",
            "\u001b[?25hCollecting async-timeout<4.0,>=3.0\n",
            "  Downloading async_timeout-3.0.1-py3-none-any.whl (8.2 kB)\n",
            "Requirement already satisfied: typing-extensions>=3.6.5 in /usr/local/lib/python3.7/dist-packages (from aiohttp==3.7.4->alpaca_trade_api) (3.10.0.2)\n",
            "Collecting multidict<7.0,>=4.5\n",
            "  Downloading multidict-6.0.2-cp37-cp37m-manylinux_2_17_x86_64.manylinux2014_x86_64.whl (94 kB)\n",
            "\u001b[K     |████████████████████████████████| 94 kB 3.0 MB/s \n",
            "\u001b[?25hRequirement already satisfied: chardet<4.0,>=2.0 in /usr/local/lib/python3.7/dist-packages (from aiohttp==3.7.4->alpaca_trade_api) (3.0.4)\n",
            "Requirement already satisfied: packaging in /usr/local/lib/python3.7/dist-packages (from deprecation==2.1.0->alpaca_trade_api) (21.3)\n",
            "Requirement already satisfied: python-dateutil>=2.7.3 in /usr/local/lib/python3.7/dist-packages (from pandas>=0.18.1->alpaca_trade_api) (2.8.2)\n",
            "Requirement already satisfied: pytz>=2017.3 in /usr/local/lib/python3.7/dist-packages (from pandas>=0.18.1->alpaca_trade_api) (2018.9)\n",
            "Requirement already satisfied: six>=1.5 in /usr/local/lib/python3.7/dist-packages (from python-dateutil>=2.7.3->pandas>=0.18.1->alpaca_trade_api) (1.15.0)\n",
            "Requirement already satisfied: certifi>=2017.4.17 in /usr/local/lib/python3.7/dist-packages (from requests<3,>2->alpaca_trade_api) (2021.10.8)\n",
            "Requirement already satisfied: idna<3,>=2.5 in /usr/local/lib/python3.7/dist-packages (from requests<3,>2->alpaca_trade_api) (2.10)\n",
            "Requirement already satisfied: pyparsing!=3.0.5,>=2.0.2 in /usr/local/lib/python3.7/dist-packages (from packaging->deprecation==2.1.0->alpaca_trade_api) (3.0.7)\n",
            "Installing collected packages: multidict, yarl, async-timeout, websockets, websocket-client, PyYAML, msgpack, deprecation, aiohttp, alpaca-trade-api\n",
            "  Attempting uninstall: PyYAML\n",
            "    Found existing installation: PyYAML 3.13\n",
            "    Uninstalling PyYAML-3.13:\n",
            "      Successfully uninstalled PyYAML-3.13\n",
            "  Attempting uninstall: msgpack\n",
            "    Found existing installation: msgpack 1.0.3\n",
            "    Uninstalling msgpack-1.0.3:\n",
            "      Successfully uninstalled msgpack-1.0.3\n",
            "Successfully installed PyYAML-5.4.1 aiohttp-3.7.4 alpaca-trade-api-1.5.0 async-timeout-3.0.1 deprecation-2.1.0 msgpack-1.0.2 multidict-6.0.2 websocket-client-1.2.3 websockets-9.1 yarl-1.7.2\n"
          ]
        }
      ]
    },
    {
      "cell_type": "markdown",
      "source": [
        "Features To Consider\n",
        " - Targets are only predicting sell within market hours, i.e. at 1530, target is prediciting price for 1100 the next day.  Data from pre and post market is taken into consideration, and a sell or buy will be indicated if the price will flucuate after close."
      ],
      "metadata": {
        "id": "hdKRKIogGAu6"
      }
    },
    {
      "cell_type": "code",
      "source": [
        "# Import Dependencies\n",
        "import numpy as np\n",
        "import pandas as pd\n",
        "import torch\n",
        "from torch.utils.data import DataLoader, TensorDataset\n",
        "from torch.autograd import Variable\n",
        "from torch.nn import Linear, ReLU, CrossEntropyLoss, Sequential, Conv2d, MaxPool2d, Module, Softmax, BatchNorm2d, Dropout\n",
        "from torch.optim import Adam, SGD\n",
        "from torch.utils.data import DataLoader, TensorDataset\n",
        "from torch.utils.tensorboard import SummaryWriter\n",
        "from torchsummary import summary\n",
        "import torch.nn as nn\n",
        "import torch.nn.functional as F\n",
        "import torch.optim as optim\n",
        "from tqdm.notebook import tqdm\n",
        "import alpaca_trade_api as tradeapi\n",
        "from datetime import datetime, timedelta, tzinfo, timezone, time\n",
        "import os.path\n",
        "import ast\n",
        "import threading\n",
        "import math\n",
        "import seaborn as sns\n",
        "import matplotlib.pyplot as plt\n",
        "from sklearn.model_selection import train_test_split\n",
        "from sklearn.preprocessing import StandardScaler, MinMaxScaler\n",
        "import warnings"
      ],
      "metadata": {
        "id": "J1fWNRnTQZX-"
      },
      "execution_count": 3,
      "outputs": []
    },
    {
      "cell_type": "code",
      "source": [
        "random_seed = 182\n",
        "torch.manual_seed(random_seed)"
      ],
      "metadata": {
        "colab": {
          "base_uri": "https://localhost:8080/"
        },
        "id": "DrI_WR501Iis",
        "outputId": "6006b796-6754-4700-bdf2-00c4b545d4bb"
      },
      "execution_count": 4,
      "outputs": [
        {
          "output_type": "execute_result",
          "data": {
            "text/plain": [
              "<torch._C.Generator at 0x7f3ed770ef10>"
            ]
          },
          "metadata": {},
          "execution_count": 4
        }
      ]
    },
    {
      "cell_type": "code",
      "source": [
        "PAPER_API_KEY = \"PKE39LILN9SL1FMJMFV7\"\n",
        "PAPER_SECRET_KEY = \"TkU7fXH6WhP15MewgWlSnQG5RUoHGOPQ7yqlD6xq\"\n",
        "PAPER_BASE_URL = 'https://paper-api.alpaca.markets'"
      ],
      "metadata": {
        "id": "IXnO8ykgRIuv"
      },
      "execution_count": 5,
      "outputs": []
    },
    {
      "cell_type": "code",
      "source": [
        "api = tradeapi.REST(PAPER_API_KEY, PAPER_SECRET_KEY, PAPER_BASE_URL, api_version='v2')"
      ],
      "metadata": {
        "id": "_3XShkLcRQMs"
      },
      "execution_count": 6,
      "outputs": []
    },
    {
      "cell_type": "code",
      "source": [
        "def prepost_train_test_validate_offset_data(api, ticker, interval, train_days=180, test_days=60, validate_days=30, offset_days = 0):\n",
        "    ticker_data_dict = None\n",
        "    ticker_data_dict = {}\n",
        "    monthly_data_dict = None\n",
        "    monthly_data_dict = {}\n",
        "    interval_loop_data = None\n",
        "    interval_loop_data = pd.DataFrame()\n",
        "    stock_data = None\n",
        "    \n",
        "    days_to_collect = train_days + test_days + validate_days + offset_days\n",
        "\n",
        "    TZ = 'US/Eastern'\n",
        "\n",
        "    start = pd.to_datetime((datetime.now() - timedelta(days=days_to_collect)).strftime(\"%Y-%m-%d %H:%M\"), utc=True)\n",
        "    end = pd.to_datetime(datetime.now().strftime(\"%Y-%m-%d %H:%M\"), utc=True)\n",
        "\n",
        "    stock_data = api.get_bars(ticker, interval, start = start.isoformat(), end=end.isoformat(), adjustment=\"raw\").df\n",
        "    \n",
        "    interval_loop_data = interval_loop_data.append(stock_data)\n",
        "    df_start_ref = interval_loop_data.index[0]\n",
        "    start_str_ref = pd.to_datetime(start, utc=True)\n",
        "\n",
        "    while start_str_ref.value < ( pd.to_datetime(df_start_ref, utc=True) - pd.Timedelta(days=2.5)).value:\n",
        "        end_new = pd.to_datetime(interval_loop_data.index[0].strftime(\"%Y-%m-%d %H:%M\"), utc=True).isoformat()\n",
        "        stock_data_new = None\n",
        "        stock_data_new = api.get_bars(ticker, interval, start=start, end=end_new, adjustment=\"raw\").df\n",
        "        #stock_data_new = stock_data_new.reset_index()\n",
        "        interval_loop_data = interval_loop_data.append(stock_data_new).sort_values(by=['index'], ascending=True)\n",
        "        df_start_ref = interval_loop_data.index[0]\n",
        "        \n",
        "    stock_yr_min_df = interval_loop_data.copy()\n",
        "    stock_yr_min_df[\"Open\"] = stock_yr_min_df['open']\n",
        "    stock_yr_min_df[\"High\"]= stock_yr_min_df[\"high\"]\n",
        "    stock_yr_min_df[\"Low\"] = stock_yr_min_df[\"low\"]\n",
        "    stock_yr_min_df[\"Close\"] = stock_yr_min_df[\"close\"]\n",
        "    stock_yr_min_df[\"Volume\"] = stock_yr_min_df[\"volume\"]\n",
        "    stock_yr_min_df[\"VolumeWeightedAvgPrice\"] = stock_yr_min_df[\"vwap\"]\n",
        "    stock_yr_min_df[\"Time\"] = stock_yr_min_df.index.tz_convert(TZ)\n",
        "    stock_yr_min_df.index = stock_yr_min_df.index.tz_convert(TZ)\n",
        "    final_df = stock_yr_min_df.filter([\"Time\", \"Open\", \"High\", \"Low\", \"Close\", \"Volume\", \"VolumeWeightedAvgPrice\"], axis = 1)\n",
        "    \n",
        "    first_day = final_df.index[0]\n",
        "    traintest_day = final_df.index[-1] - pd.Timedelta(days= test_days+validate_days+offset_days)\n",
        "    valtest_day = final_df.index[-1] - pd.Timedelta(days= test_days+offset_days)\n",
        "    last_day = final_df.index[-1] - pd.Timedelta(days= offset_days)\n",
        "    training_df =  final_df.loc[first_day:traintest_day] #(data_split - pd.Timedelta(days=1))]\n",
        "    validate_df = final_df.loc[traintest_day:valtest_day]\n",
        "    testing_df =  final_df.loc[valtest_day:last_day]\n",
        "    full_train = final_df.loc[first_day:last_day]\n",
        "    offset_df =  final_df.loc[last_day:]\n",
        "\n",
        "    return training_df, validate_df, testing_df, full_train, offset_df, final_df, traintest_day, valtest_day\n",
        "\n",
        "from datetime import date\n",
        "\n",
        "train_start = date(2017, 1, 1)\n",
        "train_end = date(2019, 10, 31)\n",
        "train_delta = train_end - train_start\n",
        "print(f'Number of days of Training Data {train_delta.days}')\n",
        "\n",
        "val_day_num = 730\n",
        "print(f'Number of days of Validation Data {val_day_num}')\n",
        "\n",
        "test_start = train_end + timedelta(val_day_num)\n",
        "test_end = date.today()\n",
        "test_delta = (test_end - test_start)\n",
        "print(f'Number of days of Holdout Test Data {test_delta.days}')\n",
        "\n",
        "ticker = \"WMT\" # Ticker Symbol to Test\n",
        "interval = \"5Min\" # Interval of bars\n",
        "train_day_int = train_delta.days # Size of training set (Jan 2010 - Oct 2017)\n",
        "val_day_int = val_day_num # Size of validation set\n",
        "test_day_int = test_delta.days # Size of test set\n",
        "offset_day_int = 0 # Number of days to off set the training data\n",
        "train_raw, val_raw, test_raw, full_raw, offset_raw, complete_raw, traintest_day, testval_day = prepost_train_test_validate_offset_data(api, ticker, \n",
        "                                                                                     interval, \n",
        "                                                                                     train_days=train_day_int, \n",
        "                                                                                     test_days=test_day_int, \n",
        "                                                                                     validate_days=val_day_int,\n",
        "                                                                                     offset_days = offset_day_int)\n",
        "\n",
        "def timeFilterAndBackfill(df):\n",
        "  \"\"\" \n",
        "  Prep df to be filled out for each trading day:\n",
        "    Time Frame: 0930-1930\n",
        "    Backfilling NaNs\n",
        "    Adjusting Volume to Zero if no Trading data is present\n",
        "      - Assumption is that there were no trades duing that time \n",
        "\n",
        "  We will build over lapping arrays by 30 min to give ourselfs more\n",
        "  oppurtunities to predict during a given trading day \n",
        "  \"\"\"\n",
        "  \n",
        "  df = df.between_time('07:29','17:29') # intial sorting of data\n",
        "\n",
        "  TZ = 'US/Eastern' # define the correct timezone\n",
        "\n",
        "  start_dateTime = pd.Timestamp(year = df.index[0].year, \n",
        "                                month = df.index[0].month, \n",
        "                                day = df.index[0].day, \n",
        "                                hour = 7, minute = 25, tz = TZ)\n",
        "\n",
        "  end_dateTime = pd.Timestamp(year = df.index[-1].year, \n",
        "                              month = df.index[-1].month, \n",
        "                              day = df.index[-1].day, \n",
        "                              hour = 17, minute = 35, tz = TZ)\n",
        "\n",
        "  # build blank index that has ever 5 min interval represented\n",
        "  dateTime_index = pd.date_range(start_dateTime,\n",
        "                                end_dateTime, \n",
        "                                freq='5min').tolist()\n",
        "\n",
        "  dateTime_index_df = pd.DataFrame()\n",
        "  dateTime_index_df[\"Time\"] = dateTime_index \n",
        "  filtered_df = pd.merge_asof(dateTime_index_df, df,  \n",
        "                              on='Time').set_index(\"Time\").between_time('09:29','17:29')\n",
        "\n",
        "  # create the close array by back filling NA, to represent no change in close\n",
        "  closeset_list = []\n",
        "  prev_c = None\n",
        "\n",
        "  for c in filtered_df[\"Close\"]:\n",
        "\n",
        "    if prev_c == None:\n",
        "      if math.isnan(c):\n",
        "        prev_c = 0\n",
        "        closeset_list.append(0)\n",
        "      else:\n",
        "        prev_c = c\n",
        "        closeset_list.append(c)\n",
        "    \n",
        "    elif prev_c != None:\n",
        "      if c == prev_c:\n",
        "        closeset_list.append(c)\n",
        "      elif math.isnan(c):\n",
        "        closeset_list.append(prev_c)\n",
        "      else:\n",
        "        closeset_list.append(c)\n",
        "        prev_c = c\n",
        "    \n",
        "  filtered_df[\"Close\"] = closeset_list\n",
        "\n",
        "  # create the volume\n",
        "  volumeset_list = []\n",
        "  prev_v = None\n",
        "\n",
        "  for v in filtered_df[\"Volume\"]:\n",
        "    \n",
        "    if prev_v == None:\n",
        "      if math.isnan(v):\n",
        "        prev_v = 0\n",
        "        volumeset_list.append(0)\n",
        "      else:\n",
        "        prev_v = v\n",
        "        volumeset_list.append(v)\n",
        "\n",
        "    elif prev_v != None:\n",
        "      if v == prev_v:\n",
        "        volumeset_list.append(0)\n",
        "        prev_v = v\n",
        "      elif math.isnan(v):\n",
        "        volumeset_list.append(0)\n",
        "        prev_v = 0\n",
        "      else:\n",
        "        volumeset_list.append(v)\n",
        "        prev_v = v\n",
        "\n",
        "  filtered_df[\"Volume\"] = volumeset_list\n",
        "  \n",
        "  adjvolumeset_list = []\n",
        "  prev_v = None\n",
        "\n",
        "  for v in filtered_df[\"VolumeWeightedAvgPrice\"]:\n",
        "    if prev_v == None:\n",
        "      if math.isnan(v):\n",
        "        prev_v = 0\n",
        "        adjvolumeset_list.append(0)\n",
        "      else:\n",
        "        prev_v = v\n",
        "        adjvolumeset_list.append(v)\n",
        "    elif prev_v != None:\n",
        "      if v == prev_v:\n",
        "        adjvolumeset_list.append(0)\n",
        "        prev_v = v\n",
        "      elif math.isnan(v):\n",
        "        adjvolumeset_list.append(0)\n",
        "        prev_v = 0\n",
        "      else:\n",
        "        adjvolumeset_list.append(v)\n",
        "        prev_v = v\n",
        "\n",
        "  filtered_df[\"VolumeWeightedAvgPrice\"] = adjvolumeset_list\n",
        "\n",
        "  preped_df = filtered_df.backfill()\n",
        "\n",
        "  return preped_df  "
      ],
      "metadata": {
        "id": "tINNlljbRaDs",
        "colab": {
          "base_uri": "https://localhost:8080/"
        },
        "outputId": "f710938f-3027-4fb4-8c6d-3659d5c5e8f4"
      },
      "execution_count": 7,
      "outputs": [
        {
          "output_type": "stream",
          "name": "stdout",
          "text": [
            "Number of days of Training Data 1033\n",
            "Number of days of Validation Data 730\n",
            "Number of days of Holdout Test Data 104\n"
          ]
        }
      ]
    },
    {
      "cell_type": "code",
      "source": [
        "train_raw[275:300]"
      ],
      "metadata": {
        "id": "J6Cw_PVrh2lJ",
        "outputId": "122d17fa-22a7-44ff-89ed-edb21e03a6bc",
        "colab": {
          "base_uri": "https://localhost:8080/",
          "height": 865
        }
      },
      "execution_count": 12,
      "outputs": [
        {
          "output_type": "execute_result",
          "data": {
            "text/html": [
              "\n",
              "  <div id=\"df-7e69d028-f5a3-4172-9263-4060024bc2dc\">\n",
              "    <div class=\"colab-df-container\">\n",
              "      <div>\n",
              "<style scoped>\n",
              "    .dataframe tbody tr th:only-of-type {\n",
              "        vertical-align: middle;\n",
              "    }\n",
              "\n",
              "    .dataframe tbody tr th {\n",
              "        vertical-align: top;\n",
              "    }\n",
              "\n",
              "    .dataframe thead th {\n",
              "        text-align: right;\n",
              "    }\n",
              "</style>\n",
              "<table border=\"1\" class=\"dataframe\">\n",
              "  <thead>\n",
              "    <tr style=\"text-align: right;\">\n",
              "      <th></th>\n",
              "      <th>Time</th>\n",
              "      <th>Open</th>\n",
              "      <th>High</th>\n",
              "      <th>Low</th>\n",
              "      <th>Close</th>\n",
              "      <th>Volume</th>\n",
              "      <th>VolumeWeightedAvgPrice</th>\n",
              "    </tr>\n",
              "    <tr>\n",
              "      <th>timestamp</th>\n",
              "      <th></th>\n",
              "      <th></th>\n",
              "      <th></th>\n",
              "      <th></th>\n",
              "      <th></th>\n",
              "      <th></th>\n",
              "      <th></th>\n",
              "    </tr>\n",
              "  </thead>\n",
              "  <tbody>\n",
              "    <tr>\n",
              "      <th>2017-01-05 14:55:00-05:00</th>\n",
              "      <td>2017-01-05 14:55:00-05:00</td>\n",
              "      <td>69.155</td>\n",
              "      <td>69.19</td>\n",
              "      <td>69.1300</td>\n",
              "      <td>69.135</td>\n",
              "      <td>47281</td>\n",
              "      <td>69.162417</td>\n",
              "    </tr>\n",
              "    <tr>\n",
              "      <th>2017-01-05 15:00:00-05:00</th>\n",
              "      <td>2017-01-05 15:00:00-05:00</td>\n",
              "      <td>69.135</td>\n",
              "      <td>69.17</td>\n",
              "      <td>69.1347</td>\n",
              "      <td>69.150</td>\n",
              "      <td>56174</td>\n",
              "      <td>69.154908</td>\n",
              "    </tr>\n",
              "    <tr>\n",
              "      <th>2017-01-05 15:05:00-05:00</th>\n",
              "      <td>2017-01-05 15:05:00-05:00</td>\n",
              "      <td>69.150</td>\n",
              "      <td>69.19</td>\n",
              "      <td>69.1500</td>\n",
              "      <td>69.180</td>\n",
              "      <td>59639</td>\n",
              "      <td>69.172701</td>\n",
              "    </tr>\n",
              "    <tr>\n",
              "      <th>2017-01-05 15:10:00-05:00</th>\n",
              "      <td>2017-01-05 15:10:00-05:00</td>\n",
              "      <td>69.180</td>\n",
              "      <td>69.21</td>\n",
              "      <td>69.1800</td>\n",
              "      <td>69.205</td>\n",
              "      <td>33695</td>\n",
              "      <td>69.198801</td>\n",
              "    </tr>\n",
              "    <tr>\n",
              "      <th>2017-01-05 15:15:00-05:00</th>\n",
              "      <td>2017-01-05 15:15:00-05:00</td>\n",
              "      <td>69.205</td>\n",
              "      <td>69.25</td>\n",
              "      <td>69.2000</td>\n",
              "      <td>69.220</td>\n",
              "      <td>67612</td>\n",
              "      <td>69.229651</td>\n",
              "    </tr>\n",
              "    <tr>\n",
              "      <th>2017-01-05 15:20:00-05:00</th>\n",
              "      <td>2017-01-05 15:20:00-05:00</td>\n",
              "      <td>69.220</td>\n",
              "      <td>69.24</td>\n",
              "      <td>69.2000</td>\n",
              "      <td>69.235</td>\n",
              "      <td>54316</td>\n",
              "      <td>69.217230</td>\n",
              "    </tr>\n",
              "    <tr>\n",
              "      <th>2017-01-05 15:25:00-05:00</th>\n",
              "      <td>2017-01-05 15:25:00-05:00</td>\n",
              "      <td>69.240</td>\n",
              "      <td>69.28</td>\n",
              "      <td>69.2300</td>\n",
              "      <td>69.280</td>\n",
              "      <td>97848</td>\n",
              "      <td>69.249674</td>\n",
              "    </tr>\n",
              "    <tr>\n",
              "      <th>2017-01-05 15:30:00-05:00</th>\n",
              "      <td>2017-01-05 15:30:00-05:00</td>\n",
              "      <td>69.280</td>\n",
              "      <td>69.30</td>\n",
              "      <td>69.2700</td>\n",
              "      <td>69.290</td>\n",
              "      <td>56744</td>\n",
              "      <td>69.282175</td>\n",
              "    </tr>\n",
              "    <tr>\n",
              "      <th>2017-01-05 15:35:00-05:00</th>\n",
              "      <td>2017-01-05 15:35:00-05:00</td>\n",
              "      <td>69.300</td>\n",
              "      <td>69.32</td>\n",
              "      <td>69.2900</td>\n",
              "      <td>69.300</td>\n",
              "      <td>94928</td>\n",
              "      <td>69.302853</td>\n",
              "    </tr>\n",
              "    <tr>\n",
              "      <th>2017-01-05 15:40:00-05:00</th>\n",
              "      <td>2017-01-05 15:40:00-05:00</td>\n",
              "      <td>69.300</td>\n",
              "      <td>69.31</td>\n",
              "      <td>69.2600</td>\n",
              "      <td>69.265</td>\n",
              "      <td>87909</td>\n",
              "      <td>69.291472</td>\n",
              "    </tr>\n",
              "    <tr>\n",
              "      <th>2017-01-05 15:45:00-05:00</th>\n",
              "      <td>2017-01-05 15:45:00-05:00</td>\n",
              "      <td>69.270</td>\n",
              "      <td>69.32</td>\n",
              "      <td>69.2700</td>\n",
              "      <td>69.299</td>\n",
              "      <td>127773</td>\n",
              "      <td>69.296881</td>\n",
              "    </tr>\n",
              "    <tr>\n",
              "      <th>2017-01-05 15:50:00-05:00</th>\n",
              "      <td>2017-01-05 15:50:00-05:00</td>\n",
              "      <td>69.295</td>\n",
              "      <td>69.31</td>\n",
              "      <td>69.2800</td>\n",
              "      <td>69.300</td>\n",
              "      <td>147650</td>\n",
              "      <td>69.294821</td>\n",
              "    </tr>\n",
              "    <tr>\n",
              "      <th>2017-01-05 15:55:00-05:00</th>\n",
              "      <td>2017-01-05 15:55:00-05:00</td>\n",
              "      <td>69.310</td>\n",
              "      <td>69.31</td>\n",
              "      <td>69.1850</td>\n",
              "      <td>69.210</td>\n",
              "      <td>375093</td>\n",
              "      <td>69.223726</td>\n",
              "    </tr>\n",
              "    <tr>\n",
              "      <th>2017-01-05 16:00:00-05:00</th>\n",
              "      <td>2017-01-05 16:00:00-05:00</td>\n",
              "      <td>69.210</td>\n",
              "      <td>69.21</td>\n",
              "      <td>69.2100</td>\n",
              "      <td>69.210</td>\n",
              "      <td>588345</td>\n",
              "      <td>69.210000</td>\n",
              "    </tr>\n",
              "    <tr>\n",
              "      <th>2017-01-05 16:05:00-05:00</th>\n",
              "      <td>2017-01-05 16:05:00-05:00</td>\n",
              "      <td>69.200</td>\n",
              "      <td>69.20</td>\n",
              "      <td>69.2000</td>\n",
              "      <td>69.200</td>\n",
              "      <td>600</td>\n",
              "      <td>69.200000</td>\n",
              "    </tr>\n",
              "    <tr>\n",
              "      <th>2017-01-05 16:10:00-05:00</th>\n",
              "      <td>2017-01-05 16:10:00-05:00</td>\n",
              "      <td>69.210</td>\n",
              "      <td>69.21</td>\n",
              "      <td>69.1600</td>\n",
              "      <td>69.160</td>\n",
              "      <td>38249</td>\n",
              "      <td>69.209503</td>\n",
              "    </tr>\n",
              "    <tr>\n",
              "      <th>2017-01-05 16:25:00-05:00</th>\n",
              "      <td>2017-01-05 16:25:00-05:00</td>\n",
              "      <td>69.210</td>\n",
              "      <td>69.21</td>\n",
              "      <td>69.2100</td>\n",
              "      <td>69.210</td>\n",
              "      <td>6045</td>\n",
              "      <td>69.210000</td>\n",
              "    </tr>\n",
              "    <tr>\n",
              "      <th>2017-01-05 17:00:00-05:00</th>\n",
              "      <td>2017-01-05 17:00:00-05:00</td>\n",
              "      <td>69.210</td>\n",
              "      <td>69.21</td>\n",
              "      <td>69.2100</td>\n",
              "      <td>69.210</td>\n",
              "      <td>8200</td>\n",
              "      <td>69.210000</td>\n",
              "    </tr>\n",
              "    <tr>\n",
              "      <th>2017-01-05 17:45:00-05:00</th>\n",
              "      <td>2017-01-05 17:45:00-05:00</td>\n",
              "      <td>69.250</td>\n",
              "      <td>69.25</td>\n",
              "      <td>69.2500</td>\n",
              "      <td>69.250</td>\n",
              "      <td>100</td>\n",
              "      <td>69.250000</td>\n",
              "    </tr>\n",
              "    <tr>\n",
              "      <th>2017-01-06 07:15:00-05:00</th>\n",
              "      <td>2017-01-06 07:15:00-05:00</td>\n",
              "      <td>69.000</td>\n",
              "      <td>69.00</td>\n",
              "      <td>69.0000</td>\n",
              "      <td>69.000</td>\n",
              "      <td>850</td>\n",
              "      <td>69.000000</td>\n",
              "    </tr>\n",
              "    <tr>\n",
              "      <th>2017-01-06 07:20:00-05:00</th>\n",
              "      <td>2017-01-06 07:20:00-05:00</td>\n",
              "      <td>69.000</td>\n",
              "      <td>69.00</td>\n",
              "      <td>69.0000</td>\n",
              "      <td>69.000</td>\n",
              "      <td>2500</td>\n",
              "      <td>69.000000</td>\n",
              "    </tr>\n",
              "    <tr>\n",
              "      <th>2017-01-06 07:40:00-05:00</th>\n",
              "      <td>2017-01-06 07:40:00-05:00</td>\n",
              "      <td>68.950</td>\n",
              "      <td>68.95</td>\n",
              "      <td>68.9500</td>\n",
              "      <td>68.950</td>\n",
              "      <td>100</td>\n",
              "      <td>68.950000</td>\n",
              "    </tr>\n",
              "    <tr>\n",
              "      <th>2017-01-06 08:00:00-05:00</th>\n",
              "      <td>2017-01-06 08:00:00-05:00</td>\n",
              "      <td>69.000</td>\n",
              "      <td>69.00</td>\n",
              "      <td>69.0000</td>\n",
              "      <td>69.000</td>\n",
              "      <td>140</td>\n",
              "      <td>68.957143</td>\n",
              "    </tr>\n",
              "    <tr>\n",
              "      <th>2017-01-06 08:25:00-05:00</th>\n",
              "      <td>2017-01-06 08:25:00-05:00</td>\n",
              "      <td>68.820</td>\n",
              "      <td>68.85</td>\n",
              "      <td>68.8200</td>\n",
              "      <td>68.850</td>\n",
              "      <td>3333</td>\n",
              "      <td>68.840999</td>\n",
              "    </tr>\n",
              "    <tr>\n",
              "      <th>2017-01-06 08:30:00-05:00</th>\n",
              "      <td>2017-01-06 08:30:00-05:00</td>\n",
              "      <td>68.850</td>\n",
              "      <td>68.85</td>\n",
              "      <td>68.8500</td>\n",
              "      <td>68.850</td>\n",
              "      <td>250</td>\n",
              "      <td>68.850000</td>\n",
              "    </tr>\n",
              "  </tbody>\n",
              "</table>\n",
              "</div>\n",
              "      <button class=\"colab-df-convert\" onclick=\"convertToInteractive('df-7e69d028-f5a3-4172-9263-4060024bc2dc')\"\n",
              "              title=\"Convert this dataframe to an interactive table.\"\n",
              "              style=\"display:none;\">\n",
              "        \n",
              "  <svg xmlns=\"http://www.w3.org/2000/svg\" height=\"24px\"viewBox=\"0 0 24 24\"\n",
              "       width=\"24px\">\n",
              "    <path d=\"M0 0h24v24H0V0z\" fill=\"none\"/>\n",
              "    <path d=\"M18.56 5.44l.94 2.06.94-2.06 2.06-.94-2.06-.94-.94-2.06-.94 2.06-2.06.94zm-11 1L8.5 8.5l.94-2.06 2.06-.94-2.06-.94L8.5 2.5l-.94 2.06-2.06.94zm10 10l.94 2.06.94-2.06 2.06-.94-2.06-.94-.94-2.06-.94 2.06-2.06.94z\"/><path d=\"M17.41 7.96l-1.37-1.37c-.4-.4-.92-.59-1.43-.59-.52 0-1.04.2-1.43.59L10.3 9.45l-7.72 7.72c-.78.78-.78 2.05 0 2.83L4 21.41c.39.39.9.59 1.41.59.51 0 1.02-.2 1.41-.59l7.78-7.78 2.81-2.81c.8-.78.8-2.07 0-2.86zM5.41 20L4 18.59l7.72-7.72 1.47 1.35L5.41 20z\"/>\n",
              "  </svg>\n",
              "      </button>\n",
              "      \n",
              "  <style>\n",
              "    .colab-df-container {\n",
              "      display:flex;\n",
              "      flex-wrap:wrap;\n",
              "      gap: 12px;\n",
              "    }\n",
              "\n",
              "    .colab-df-convert {\n",
              "      background-color: #E8F0FE;\n",
              "      border: none;\n",
              "      border-radius: 50%;\n",
              "      cursor: pointer;\n",
              "      display: none;\n",
              "      fill: #1967D2;\n",
              "      height: 32px;\n",
              "      padding: 0 0 0 0;\n",
              "      width: 32px;\n",
              "    }\n",
              "\n",
              "    .colab-df-convert:hover {\n",
              "      background-color: #E2EBFA;\n",
              "      box-shadow: 0px 1px 2px rgba(60, 64, 67, 0.3), 0px 1px 3px 1px rgba(60, 64, 67, 0.15);\n",
              "      fill: #174EA6;\n",
              "    }\n",
              "\n",
              "    [theme=dark] .colab-df-convert {\n",
              "      background-color: #3B4455;\n",
              "      fill: #D2E3FC;\n",
              "    }\n",
              "\n",
              "    [theme=dark] .colab-df-convert:hover {\n",
              "      background-color: #434B5C;\n",
              "      box-shadow: 0px 1px 3px 1px rgba(0, 0, 0, 0.15);\n",
              "      filter: drop-shadow(0px 1px 2px rgba(0, 0, 0, 0.3));\n",
              "      fill: #FFFFFF;\n",
              "    }\n",
              "  </style>\n",
              "\n",
              "      <script>\n",
              "        const buttonEl =\n",
              "          document.querySelector('#df-7e69d028-f5a3-4172-9263-4060024bc2dc button.colab-df-convert');\n",
              "        buttonEl.style.display =\n",
              "          google.colab.kernel.accessAllowed ? 'block' : 'none';\n",
              "\n",
              "        async function convertToInteractive(key) {\n",
              "          const element = document.querySelector('#df-7e69d028-f5a3-4172-9263-4060024bc2dc');\n",
              "          const dataTable =\n",
              "            await google.colab.kernel.invokeFunction('convertToInteractive',\n",
              "                                                     [key], {});\n",
              "          if (!dataTable) return;\n",
              "\n",
              "          const docLinkHtml = 'Like what you see? Visit the ' +\n",
              "            '<a target=\"_blank\" href=https://colab.research.google.com/notebooks/data_table.ipynb>data table notebook</a>'\n",
              "            + ' to learn more about interactive tables.';\n",
              "          element.innerHTML = '';\n",
              "          dataTable['output_type'] = 'display_data';\n",
              "          await google.colab.output.renderOutput(dataTable, element);\n",
              "          const docLink = document.createElement('div');\n",
              "          docLink.innerHTML = docLinkHtml;\n",
              "          element.appendChild(docLink);\n",
              "        }\n",
              "      </script>\n",
              "    </div>\n",
              "  </div>\n",
              "  "
            ],
            "text/plain": [
              "                                               Time  ...  VolumeWeightedAvgPrice\n",
              "timestamp                                            ...                        \n",
              "2017-01-05 14:55:00-05:00 2017-01-05 14:55:00-05:00  ...               69.162417\n",
              "2017-01-05 15:00:00-05:00 2017-01-05 15:00:00-05:00  ...               69.154908\n",
              "2017-01-05 15:05:00-05:00 2017-01-05 15:05:00-05:00  ...               69.172701\n",
              "2017-01-05 15:10:00-05:00 2017-01-05 15:10:00-05:00  ...               69.198801\n",
              "2017-01-05 15:15:00-05:00 2017-01-05 15:15:00-05:00  ...               69.229651\n",
              "2017-01-05 15:20:00-05:00 2017-01-05 15:20:00-05:00  ...               69.217230\n",
              "2017-01-05 15:25:00-05:00 2017-01-05 15:25:00-05:00  ...               69.249674\n",
              "2017-01-05 15:30:00-05:00 2017-01-05 15:30:00-05:00  ...               69.282175\n",
              "2017-01-05 15:35:00-05:00 2017-01-05 15:35:00-05:00  ...               69.302853\n",
              "2017-01-05 15:40:00-05:00 2017-01-05 15:40:00-05:00  ...               69.291472\n",
              "2017-01-05 15:45:00-05:00 2017-01-05 15:45:00-05:00  ...               69.296881\n",
              "2017-01-05 15:50:00-05:00 2017-01-05 15:50:00-05:00  ...               69.294821\n",
              "2017-01-05 15:55:00-05:00 2017-01-05 15:55:00-05:00  ...               69.223726\n",
              "2017-01-05 16:00:00-05:00 2017-01-05 16:00:00-05:00  ...               69.210000\n",
              "2017-01-05 16:05:00-05:00 2017-01-05 16:05:00-05:00  ...               69.200000\n",
              "2017-01-05 16:10:00-05:00 2017-01-05 16:10:00-05:00  ...               69.209503\n",
              "2017-01-05 16:25:00-05:00 2017-01-05 16:25:00-05:00  ...               69.210000\n",
              "2017-01-05 17:00:00-05:00 2017-01-05 17:00:00-05:00  ...               69.210000\n",
              "2017-01-05 17:45:00-05:00 2017-01-05 17:45:00-05:00  ...               69.250000\n",
              "2017-01-06 07:15:00-05:00 2017-01-06 07:15:00-05:00  ...               69.000000\n",
              "2017-01-06 07:20:00-05:00 2017-01-06 07:20:00-05:00  ...               69.000000\n",
              "2017-01-06 07:40:00-05:00 2017-01-06 07:40:00-05:00  ...               68.950000\n",
              "2017-01-06 08:00:00-05:00 2017-01-06 08:00:00-05:00  ...               68.957143\n",
              "2017-01-06 08:25:00-05:00 2017-01-06 08:25:00-05:00  ...               68.840999\n",
              "2017-01-06 08:30:00-05:00 2017-01-06 08:30:00-05:00  ...               68.850000\n",
              "\n",
              "[25 rows x 7 columns]"
            ]
          },
          "metadata": {},
          "execution_count": 12
        }
      ]
    },
    {
      "cell_type": "code",
      "source": [
        "def buildTargets_VolOnly(full_df = full_raw, train_observations = train_raw.shape[0], \n",
        "                         val_observations = val_raw.shape[0], \n",
        "                         test_observations = test_raw.shape[0], \n",
        "                         alph = .55, volity_int = 10):\n",
        "\n",
        "  \"\"\" \n",
        "  This function will take a complete set of train, val, and test data and return the targets.\n",
        "  Volitility will be calculated over the 252 5min incriments \n",
        "  The Target shift is looking at 2 hours shift from current time\n",
        "  \"\"\"\n",
        "\n",
        "  returns = np.log(full_df['Close']/(full_df['Close'].shift()))\n",
        "  returns.fillna(0, inplace=True)\n",
        "  volatility = returns.rolling(window=(volity_int)).std()*np.sqrt(volity_int)\n",
        "\n",
        "\n",
        "\n",
        "  return volatility\n",
        "  #return train_targets, val_targets, test_targets, full_targets\n",
        "\n",
        "volatility = buildTargets_VolOnly()\n",
        "\n",
        "fig = plt.figure(figsize=(15, 7))\n",
        "ax1 = fig.add_subplot(1, 1, 1)\n",
        "volatility.plot(ax=ax1, color = \"red\")\n",
        "ax1.set_xlabel('Date')\n",
        "ax1.set_ylabel('Volatility', color = \"red\")\n",
        "ax1.set_title(f'Annualized volatility for {ticker}')\n",
        "ax2 = ax1.twinx()\n",
        "full_raw.Close.plot(ax=ax2, color = \"blue\")\n",
        "ax2.set_ylabel('Close', color = \"blue\")\n",
        "ax2.axvline(x=full_raw.index[train_raw.shape[0]])\n",
        "ax2.axvline(x=full_raw.index[val_raw.shape[0]+train_raw.shape[0]])\n",
        "plt.show()"
      ],
      "metadata": {
        "id": "fWqLBPQPbjYZ",
        "outputId": "6eb85766-3169-4c8d-fb39-a9365fe5797a",
        "colab": {
          "base_uri": "https://localhost:8080/",
          "height": 432
        }
      },
      "execution_count": 9,
      "outputs": [
        {
          "output_type": "display_data",
          "data": {
            "image/png": "[encoded data removed]",
            "text/plain": [
              "<Figure size 1080x504 with 2 Axes>"
            ]
          },
          "metadata": {
            "needs_background": "light"
          }
        }
      ]
    },
    {
      "cell_type": "code",
      "source": [
        "train = timeFilterAndBackfill(train_raw)\n",
        "val = timeFilterAndBackfill(val_raw)\n",
        "test = timeFilterAndBackfill(test_raw)\n",
        "\n",
        "train = train[train.index.dayofweek <= 4].copy()\n",
        "val = val[val.index.dayofweek <= 4].copy()\n",
        "test = test[test.index.dayofweek <= 4].copy()\n",
        "\n",
        "train[\"Open\"] = np.where((train[\"Volume\"] == 0), train[\"Close\"], train[\"Open\"])\n",
        "train[\"High\"] = np.where((train[\"Volume\"] == 0), train[\"Close\"], train[\"High\"])\n",
        "train[\"Low\"] = np.where((train[\"Volume\"] == 0), train[\"Close\"], train[\"Low\"])\n",
        "\n",
        "val[\"Open\"] = np.where((val[\"Volume\"] == 0), val[\"Close\"], val[\"Open\"])\n",
        "val[\"High\"] = np.where((val[\"Volume\"] == 0), val[\"Close\"], val[\"High\"])\n",
        "val[\"Low\"] = np.where((val[\"Volume\"] == 0), val[\"Close\"], val[\"Low\"])\n",
        "\n",
        "test[\"Open\"] = np.where((test[\"Volume\"] == 0), test[\"Close\"], test[\"Open\"])\n",
        "test[\"High\"] = np.where((test[\"Volume\"] == 0), test[\"Close\"], test[\"High\"])\n",
        "test[\"Low\"] = np.where((test[\"Volume\"] == 0), test[\"Close\"], test[\"Low\"])\n",
        "\n",
        "def strided_axis0(a, L, overlap=1):\n",
        "    if L==overlap:\n",
        "        raise Exception(\"Overlap arg must be smaller than length of windows\")\n",
        "    S = L - overlap\n",
        "    nd0 = ((len(a)-L)//S)+1\n",
        "    if nd0*S-S!=len(a)-L:\n",
        "        warnings.warn(\"Not all elements were covered\")\n",
        "    m,n = a.shape\n",
        "    s0,s1 = a.strides\n",
        "    return np.lib.stride_tricks.as_strided(a, shape=(nd0,L,n), strides=(S*s0,s0,s1))\n",
        "\n",
        "def blockshaped(arr, nrows, ncols, overlapping_5min_intervals = 12):\n",
        "    \"\"\"\n",
        "    Return an array of shape (n, nrows, ncols) where\n",
        "    n * nrows * ncols = arr.size\n",
        "\n",
        "    If arr is a 2D array, the returned array should look like n subblocks with\n",
        "    each subblock preserving the \"physical\" layout of arr.\n",
        "    \"\"\"\n",
        "\n",
        "    h, w = arr.shape\n",
        "    assert h % nrows == 0, f\"{h} rows is not evenly divisible by {nrows}\"\n",
        "    assert w % ncols == 0, f\"{w} cols is not evenly divisible by {ncols}\"\n",
        "\n",
        "    return np.flip(np.rot90((strided_axis0(arr, 24, overlap=overlapping_5min_intervals).reshape(-1, nrows, ncols)), axes = (1, 2)), axis = 1)\n",
        "\n",
        "train_tonp = train[[\"Open\", \"High\", \"Low\", \"Close\", \"Volume\"]]\n",
        "val_tonp = val[[\"Open\", \"High\", \"Low\", \"Close\", \"Volume\"]]\n",
        "test_tonp = test[[\"Open\", \"High\", \"Low\", \"Close\", \"Volume\"]]\n",
        "train_array = train_tonp.to_numpy()\n",
        "val_array = val_tonp.to_numpy()\n",
        "test_array = test_tonp.to_numpy()\n",
        "\n",
        "X_train_pre_final = blockshaped(train_array, 24, 5, overlapping_5min_intervals = 12)\n",
        "X_val_pre_final = blockshaped(val_array, 24, 5, overlapping_5min_intervals = 12)\n",
        "X_test_pre_final = blockshaped(test_array, 24, 5, overlapping_5min_intervals = 12)"
      ],
      "metadata": {
        "id": "0_yU14VEM37m"
      },
      "execution_count": 13,
      "outputs": []
    },
    {
      "cell_type": "code",
      "source": [
        ""
      ],
      "metadata": {
        "id": "V8KcE_XCidzo"
      },
      "execution_count": null,
      "outputs": []
    },
    {
      "cell_type": "code",
      "source": [
        "# create target from OHLC and Volume Data\n",
        "def buildTargets(obs_array,  \n",
        "                 alph = .55, \n",
        "                 volity_int = 10):\n",
        "\n",
        "  \"\"\" \n",
        "  This function will take a complete set of train, val, and test \n",
        "  data and return the targets. Volitility will be calculated over \n",
        "  the 24 5min incriments. The Target shift is looking at 2 hours \n",
        "  shift from current time\n",
        "\n",
        "  shift_2hour = The amount of time the data interval take to equal 2 hours \n",
        "                (i.e. 5 min data interval is equal to 24)\n",
        "  alph = The alpha value for calculating the shift in price\n",
        "  volity_int = the number of incriments used to calculate volitility \n",
        "  \"\"\"\n",
        "\n",
        "  target_close_list =[]\n",
        "\n",
        "  for arr in obs_array:\n",
        "    target_close_list.append(arr[3][-1])\n",
        "  \n",
        "  target_close_df = pd.DataFrame()\n",
        "  target_close_df[\"Close\"] = target_close_list\n",
        "\n",
        "  returns = np.log(target_close_df['Close']/(target_close_df['Close'].shift()))\n",
        "  returns.fillna(0, inplace=True)\n",
        "  volatility = returns.rolling(window=(volity_int)).std()*np.sqrt(volity_int)\n",
        "  \n",
        "  targets = [2] * len(target_close_df.Close)\n",
        "\n",
        "  targets = np.where(target_close_df.Close.shift(-1) >= (target_close_df.Close * (1 + alph * volatility)), \n",
        "           1, targets)\n",
        "  \n",
        "  targets = np.where(target_close_df.Close.shift(-1) <= (target_close_df.Close * (1 - alph * volatility)), \n",
        "           0, targets)\n",
        "\n",
        "  return targets"
      ],
      "metadata": {
        "id": "Pe89LdnsLltO"
      },
      "execution_count": 14,
      "outputs": []
    },
    {
      "cell_type": "code",
      "source": [
        "volity_val = 5\n",
        "alph = .15\n",
        "y_train_pre_final = buildTargets(X_train_pre_final, alph=alph,  volity_int = volity_val)\n",
        "y_val_pre_final = buildTargets(X_val_pre_final, alph=alph, volity_int = volity_val)\n",
        "y_test_pre_final = buildTargets(X_test_pre_final, alph=alph, volity_int = volity_val)"
      ],
      "metadata": {
        "id": "4aYPOa7INyAl"
      },
      "execution_count": null,
      "outputs": []
    },
    {
      "cell_type": "code",
      "source": [
        "def get_class_distribution(obj):\n",
        "    count_dict = {\n",
        "        \"up\": 0,\n",
        "        \"flat\": 0,\n",
        "        \"down\": 0,\n",
        "    }\n",
        "    \n",
        "    for i in obj:\n",
        "        if i == 1: \n",
        "            count_dict['up'] += 1\n",
        "        elif i == 0: \n",
        "            count_dict['down'] += 1\n",
        "        elif i == 2: \n",
        "            count_dict['flat'] += 1             \n",
        "        else:\n",
        "            print(\"Check classes.\")\n",
        "            \n",
        "    return count_dict"
      ],
      "metadata": {
        "id": "vWIY2rwEYCfM"
      },
      "execution_count": null,
      "outputs": []
    },
    {
      "cell_type": "code",
      "source": [
        "bfig, axes = plt.subplots(nrows=1, ncols=3, figsize=(25,7))\n",
        "# Train\n",
        "sns.barplot(data = pd.DataFrame.from_dict([get_class_distribution(y_train_pre_final)]).melt(), x = \"variable\", y=\"value\", hue=\"variable\",  ax=axes[0]).set_title('Class Distribution in Train Set')\n",
        "# Validation\n",
        "sns.barplot(data = pd.DataFrame.from_dict([get_class_distribution(y_val_pre_final)]).melt(), x = \"variable\", y=\"value\", hue=\"variable\",  ax=axes[1]).set_title('Class Distribution in Val Set')\n",
        "# Test\n",
        "sns.barplot(data = pd.DataFrame.from_dict([get_class_distribution(y_test_pre_final)]).melt(), x = \"variable\", y=\"value\", hue=\"variable\",  ax=axes[2]).set_title('Class Distribution in Test Set')"
      ],
      "metadata": {
        "id": "-BsVCfr8YCiX",
        "outputId": "2726862d-f2ab-4fea-e9f9-6644cfc965d0",
        "colab": {
          "base_uri": "https://localhost:8080/",
          "height": 475
        }
      },
      "execution_count": null,
      "outputs": [
        {
          "output_type": "execute_result",
          "data": {
            "text/plain": [
              "Text(0.5, 1.0, 'Class Distribution in Test Set')"
            ]
          },
          "metadata": {},
          "execution_count": 12
        },
        {
          "output_type": "display_data",
          "data": {
            "image/png": "[encoded data removed]",
            "text/plain": [
              "<Figure size 1800x504 with 3 Axes>"
            ]
          },
          "metadata": {
            "needs_background": "light"
          }
        }
      ]
    },
    {
      "cell_type": "code",
      "source": [
        "def createFinalData_RemoveLateAfternoonData(arr, labels):\n",
        "\n",
        "  assert arr.shape[0] == len(labels), \"X data do not match length of y labels\"\n",
        "\n",
        "  step_count = 0\n",
        "  filtered_y_labels = []\n",
        "\n",
        "  for i in range(arr.shape[0]):\n",
        "\n",
        "    if i == 0:\n",
        "      final_arr = arr[i]\n",
        "      filtered_y_labels.append(labels[i])\n",
        "      #print(f'Appending index {i}, step_count: {step_count}')\n",
        "      step_count += 1\n",
        "\n",
        "    elif i == 1:\n",
        "\n",
        "      final_arr = np.stack((final_arr, arr[i]))\n",
        "      filtered_y_labels.append(labels[i])\n",
        "      step_count += 1\n",
        "\n",
        "    elif step_count == 0: \n",
        "      final_arr = np.vstack((final_arr, arr[i][None]))\n",
        "      filtered_y_labels.append(labels[i])\n",
        "      #print(f'Appending index {i}, step_count: {step_count}')\n",
        "      step_count += 1\n",
        "    \n",
        "    elif (step_count) % 5 == 0:\n",
        "      #print(f'skipping {i} array, step_count: {step_count}')\n",
        "      step_count += 1\n",
        "\n",
        "    elif (step_count) % 6 == 0:\n",
        "      #print(f'skipping {i} array, step_count: {step_count}')\n",
        "      step_count += 1\n",
        "\n",
        "    elif (step_count) % 7 == 0:\n",
        "      #print(f'skipping {i} array, step_count: {step_count}')\n",
        "      step_count = 0\n",
        "    \n",
        "    else:\n",
        "      final_arr = np.vstack((final_arr, arr[i][None]))\n",
        "      filtered_y_labels.append(labels[i])\n",
        "      #print(f'Appending index {i}, step_count: {step_count}')\n",
        "      step_count += 1\n",
        "  \n",
        "  return final_arr, filtered_y_labels\n",
        "\n",
        "X_train, y_train = createFinalData_RemoveLateAfternoonData(X_train_pre_final, y_train_pre_final)\n",
        "X_val, y_val = createFinalData_RemoveLateAfternoonData(X_val_pre_final, y_val_pre_final)\n",
        "X_test, y_test = createFinalData_RemoveLateAfternoonData(X_test_pre_final, y_test_pre_final)\n",
        "\n",
        "y_train = np.array(y_train)\n",
        "y_val = np.array(y_val)\n",
        "y_test = np.array(y_test)"
      ],
      "metadata": {
        "id": "1XdpMcVCo2_b"
      },
      "execution_count": null,
      "outputs": []
    },
    {
      "cell_type": "code",
      "source": [
        "######\n",
        "# Code fro scaling at a later date\n",
        "######\n",
        "\n",
        "# from sklearn.preprocessing import MinMaxScaler\n",
        "\n",
        "# scalers = {}\n",
        "# for i in range(X_train.shape[1]):\n",
        "#     scalers[i] = MinMaxScaler()\n",
        "#     X_train[:, i, :] = scalers[i].fit_transform(X_train[:, i, :]) \n",
        "\n",
        "# for i in range(X_val.shape[1]):\n",
        "#     X_val[:, i, :] = scalers[i].transform(X_val[:, i, :]) \n",
        "\n",
        "# for i in range(X_test.shape[1]):\n",
        "#     X_test[:, i, :] = scalers[i].transform(X_test[:, i, :]) \n",
        "    "
      ],
      "metadata": {
        "id": "xPkrkhqV4Ef-"
      },
      "execution_count": null,
      "outputs": []
    },
    {
      "cell_type": "code",
      "source": [
        "def get_class_distribution(obj):\n",
        "    count_dict = {\n",
        "        \"up\": 0,\n",
        "        \"flat\": 0,\n",
        "        \"down\": 0,\n",
        "    }\n",
        "    \n",
        "    for i in obj:\n",
        "        if i == 1: \n",
        "            count_dict['up'] += 1\n",
        "        elif i == 0: \n",
        "            count_dict['down'] += 1\n",
        "        elif i == 2: \n",
        "            count_dict['flat'] += 1             \n",
        "        else:\n",
        "            print(\"Check classes.\")\n",
        "            \n",
        "    return count_dict"
      ],
      "metadata": {
        "id": "kNH38ORXLGfn"
      },
      "execution_count": null,
      "outputs": []
    },
    {
      "cell_type": "code",
      "source": [
        "bfig, axes = plt.subplots(nrows=1, ncols=3, figsize=(25,7))\n",
        "# Train\n",
        "sns.barplot(data = pd.DataFrame.from_dict([get_class_distribution(y_train)]).melt(), x = \"variable\", y=\"value\", hue=\"variable\",  ax=axes[0]).set_title('Class Distribution in Train Set')\n",
        "# Validation\n",
        "sns.barplot(data = pd.DataFrame.from_dict([get_class_distribution(y_val)]).melt(), x = \"variable\", y=\"value\", hue=\"variable\",  ax=axes[1]).set_title('Class Distribution in Val Set')\n",
        "# Test\n",
        "sns.barplot(data = pd.DataFrame.from_dict([get_class_distribution(y_test)]).melt(), x = \"variable\", y=\"value\", hue=\"variable\",  ax=axes[2]).set_title('Class Distribution in Test Set')"
      ],
      "metadata": {
        "outputId": "8e996697-a2e7-437d-e178-293d78dd4ece",
        "colab": {
          "base_uri": "https://localhost:8080/",
          "height": 475
        },
        "id": "qqTz9-J7LGft"
      },
      "execution_count": null,
      "outputs": [
        {
          "output_type": "execute_result",
          "data": {
            "text/plain": [
              "Text(0.5, 1.0, 'Class Distribution in Test Set')"
            ]
          },
          "metadata": {},
          "execution_count": 200
        },
        {
          "output_type": "display_data",
          "data": {
            "image/png": "[encoded data removed]",
            "text/plain": [
              "<Figure size 1800x504 with 3 Axes>"
            ]
          },
          "metadata": {
            "needs_background": "light"
          }
        }
      ]
    },
    {
      "cell_type": "code",
      "source": [
        "###### ONLY EXECUTE FOR 2D CNN #####\n",
        "\n",
        "X_train = X_train.reshape(X_train.shape[0], 1,\n",
        "                          X_train.shape[1], \n",
        "                          X_train.shape[2])\n",
        "X_val = X_val.reshape(X_val.shape[0], 1,\n",
        "                          X_val.shape[1], \n",
        "                          X_val.shape[2])\n",
        "X_test = X_test.reshape(X_test.shape[0], 1,\n",
        "                          X_test.shape[1], \n",
        "                          X_test.shape[2])"
      ],
      "metadata": {
        "id": "tdeD0Rsc4rqJ"
      },
      "execution_count": null,
      "outputs": []
    },
    {
      "cell_type": "code",
      "source": [
        "print(f'X Train Length {X_train.shape}, y Train Label Length {y_train.shape}')\n",
        "print(f'X Val Length {X_val.shape}, y Val Label Length {y_val.shape}')\n",
        "print(f'X Test Length {X_test.shape}, y Test Label Length {y_test.shape}')"
      ],
      "metadata": {
        "colab": {
          "base_uri": "https://localhost:8080/"
        },
        "id": "QLv4oER44svp",
        "outputId": "470569a4-93f1-4e97-f11e-3274d26a4cbd"
      },
      "execution_count": null,
      "outputs": [
        {
          "output_type": "stream",
          "name": "stdout",
          "text": [
            "X Train Length (3690, 1, 5, 24), y Train Label Length (3690,)\n",
            "X Val Length (2610, 1, 5, 24), y Val Label Length (2610,)\n",
            "X Test Length (355, 1, 5, 24), y Test Label Length (355,)\n"
          ]
        }
      ]
    },
    {
      "cell_type": "markdown",
      "source": [
        "# 2D CNN Build Model"
      ],
      "metadata": {
        "id": "KHDKw2Fj3Q9Z"
      }
    },
    {
      "cell_type": "code",
      "source": [
        "trainset = TensorDataset(torch.from_numpy(X_train).float(), \n",
        "                         torch.from_numpy(y_train).long())\n",
        "valset = TensorDataset(torch.from_numpy(X_val).float(), \n",
        "                        torch.from_numpy(y_val).long())\n",
        "testset = TensorDataset(torch.from_numpy(X_test).float(), \n",
        "                        torch.from_numpy(y_test).long())"
      ],
      "metadata": {
        "id": "-s53Ic5bo3vy"
      },
      "execution_count": null,
      "outputs": []
    },
    {
      "cell_type": "code",
      "source": [
        "batch_size = 12\n",
        "\n",
        "# train_data = []\n",
        "# for i in range(len(X_train)):\n",
        "#    train_data.append([X_train[i].astype('float'), y_train[i]])\n",
        "\n",
        "train_loader = torch.utils.data.DataLoader(trainset, batch_size=batch_size, shuffle=False)\n",
        "i1, l1 = next(iter(train_loader))\n",
        "print(i1.shape)\n",
        "\n",
        "# val_data = []\n",
        "# for i in range(len(X_val)):\n",
        "#    val_data.append([X_val[i].astype('float'), y_val[i]])\n",
        "\n",
        "val_loader = torch.utils.data.DataLoader(valset, batch_size=batch_size, shuffle=True)\n",
        "i1, l1 = next(iter(val_loader))\n",
        "print(i1.shape)\n",
        "\n",
        "test_loader = torch.utils.data.DataLoader(testset, batch_size=batch_size, shuffle=False)\n",
        "i1, l1 = next(iter(test_loader))\n",
        "print(i1.shape)"
      ],
      "metadata": {
        "colab": {
          "base_uri": "https://localhost:8080/"
        },
        "id": "DOj73NY0o3yx",
        "outputId": "36aedf6c-a655-4879-bc20-6482e59050af"
      },
      "execution_count": null,
      "outputs": [
        {
          "output_type": "stream",
          "name": "stdout",
          "text": [
            "torch.Size([12, 1, 5, 24])\n",
            "torch.Size([12, 1, 5, 24])\n",
            "torch.Size([12, 1, 5, 24])\n"
          ]
        }
      ]
    },
    {
      "cell_type": "code",
      "source": [
        "# Get next batch of training images\n",
        "windows, labels = iter(train_loader).next()\n",
        "print(windows)\n",
        "windows = windows.numpy()\n",
        "\n",
        "# plot the windows in the batch, along with the corresponding labels\n",
        "for idx in range(batch_size):\n",
        "    print(labels[idx])"
      ],
      "metadata": {
        "colab": {
          "base_uri": "https://localhost:8080/"
        },
        "id": "atpanhjQ1reK",
        "outputId": "d69c7086-2d9b-426c-cac6-a4a58af754a3"
      },
      "execution_count": null,
      "outputs": [
        {
          "output_type": "stream",
          "name": "stdout",
          "text": [
            "tensor([[[[6.9240e+01, 6.8820e+01, 6.8310e+01,  ..., 6.8510e+01,\n",
            "           6.8529e+01, 6.8440e+01],\n",
            "          [6.9240e+01, 6.8840e+01, 6.8410e+01,  ..., 6.8520e+01,\n",
            "           6.8550e+01, 6.8450e+01],\n",
            "          [6.8591e+01, 6.8290e+01, 6.8130e+01,  ..., 6.8480e+01,\n",
            "           6.8440e+01, 6.8380e+01],\n",
            "          [6.8860e+01, 6.8300e+01, 6.8400e+01,  ..., 6.8520e+01,\n",
            "           6.8440e+01, 6.8385e+01],\n",
            "          [4.2199e+05, 2.9660e+05, 2.1491e+05,  ..., 7.6920e+04,\n",
            "           1.1845e+05, 8.3425e+04]]],\n",
            "\n",
            "\n",
            "        [[[6.8395e+01, 6.8440e+01, 6.8440e+01,  ..., 6.8500e+01,\n",
            "           6.8490e+01, 6.8405e+01],\n",
            "          [6.8470e+01, 6.8470e+01, 6.8560e+01,  ..., 6.8500e+01,\n",
            "           6.8490e+01, 6.8430e+01],\n",
            "          [6.8320e+01, 6.8410e+01, 6.8435e+01,  ..., 6.8480e+01,\n",
            "           6.8350e+01, 6.8370e+01],\n",
            "          [6.8440e+01, 6.8430e+01, 6.8541e+01,  ..., 6.8485e+01,\n",
            "           6.8410e+01, 6.8370e+01],\n",
            "          [1.7433e+05, 1.3218e+05, 1.3790e+05,  ..., 4.6596e+04,\n",
            "           1.5244e+05, 6.2310e+04]]],\n",
            "\n",
            "\n",
            "        [[[6.8385e+01, 6.8480e+01, 6.8470e+01,  ..., 6.8240e+01,\n",
            "           6.8230e+01, 6.8240e+01],\n",
            "          [6.8485e+01, 6.8520e+01, 6.8500e+01,  ..., 6.8270e+01,\n",
            "           6.8280e+01, 6.8240e+01],\n",
            "          [6.8384e+01, 6.8450e+01, 6.8440e+01,  ..., 6.8220e+01,\n",
            "           6.8220e+01, 6.8220e+01],\n",
            "          [6.8480e+01, 6.8470e+01, 6.8460e+01,  ..., 6.8220e+01,\n",
            "           6.8240e+01, 6.8235e+01],\n",
            "          [8.4324e+04, 1.1464e+05, 8.1307e+04,  ..., 5.3248e+04,\n",
            "           8.5671e+04, 4.0409e+04]]],\n",
            "\n",
            "\n",
            "        ...,\n",
            "\n",
            "\n",
            "        [[[6.9380e+01, 6.9350e+01, 6.9340e+01,  ..., 6.9165e+01,\n",
            "           6.9180e+01, 6.9155e+01],\n",
            "          [6.9386e+01, 6.9360e+01, 6.9360e+01,  ..., 6.9190e+01,\n",
            "           6.9190e+01, 6.9230e+01],\n",
            "          [6.9350e+01, 6.9320e+01, 6.9330e+01,  ..., 6.9160e+01,\n",
            "           6.9150e+01, 6.9150e+01],\n",
            "          [6.9350e+01, 6.9340e+01, 6.9360e+01,  ..., 6.9185e+01,\n",
            "           6.9155e+01, 6.9230e+01],\n",
            "          [5.8015e+04, 4.7974e+04, 4.1662e+04,  ..., 7.4423e+04,\n",
            "           1.0304e+05, 8.4397e+04]]],\n",
            "\n",
            "\n",
            "        [[[6.8430e+01, 6.8290e+01, 6.8360e+01,  ..., 6.9170e+01,\n",
            "           6.9180e+01, 6.9225e+01],\n",
            "          [6.8570e+01, 6.8450e+01, 6.8570e+01,  ..., 6.9190e+01,\n",
            "           6.9230e+01, 6.9330e+01],\n",
            "          [6.8120e+01, 6.8230e+01, 6.8358e+01,  ..., 6.9120e+01,\n",
            "           6.9140e+01, 6.9215e+01],\n",
            "          [6.8290e+01, 6.8350e+01, 6.8520e+01,  ..., 6.9175e+01,\n",
            "           6.9230e+01, 6.9310e+01],\n",
            "          [4.3938e+05, 1.4294e+05, 2.2545e+05,  ..., 8.4148e+04,\n",
            "           1.0022e+05, 1.1220e+05]]],\n",
            "\n",
            "\n",
            "        [[[6.8945e+01, 6.8930e+01, 6.9015e+01,  ..., 6.9300e+01,\n",
            "           6.9290e+01, 6.9230e+01],\n",
            "          [6.8990e+01, 6.9030e+01, 6.9050e+01,  ..., 6.9310e+01,\n",
            "           6.9300e+01, 6.9230e+01],\n",
            "          [6.8890e+01, 6.8921e+01, 6.8990e+01,  ..., 6.9250e+01,\n",
            "           6.9220e+01, 6.9155e+01],\n",
            "          [6.8924e+01, 6.9010e+01, 6.9000e+01,  ..., 6.9290e+01,\n",
            "           6.9225e+01, 6.9200e+01],\n",
            "          [8.9675e+04, 6.1037e+04, 6.0934e+04,  ..., 4.8140e+04,\n",
            "           5.2350e+04, 6.6643e+04]]]])\n",
            "tensor(0)\n",
            "tensor(0)\n",
            "tensor(0)\n",
            "tensor(0)\n",
            "tensor(1)\n",
            "tensor(0)\n",
            "tensor(0)\n",
            "tensor(0)\n",
            "tensor(0)\n",
            "tensor(0)\n",
            "tensor(0)\n",
            "tensor(0)\n"
          ]
        }
      ]
    },
    {
      "cell_type": "code",
      "source": [
        "# Set up dict for dataloaders\n",
        "dataloaders = {'train':train_loader,'val':val_loader}\n",
        "# Store size of training and validation sets\n",
        "dataset_sizes = {'train':len(trainset),'val':len(valset)}\n",
        "# Get class names associated with labels\n",
        "classes = [0,1]"
      ],
      "metadata": {
        "id": "O94NjECN1rjZ"
      },
      "execution_count": null,
      "outputs": []
    },
    {
      "cell_type": "code",
      "source": [
        "class StockShiftClassification(nn.Module):\n",
        "  def __init__(self):\n",
        "    super(StockShiftClassification, self).__init__()\n",
        "\n",
        "    self.conv1 = nn.Conv2d(1, 32, kernel_size = (1,4), stride=1, padding = 1)\n",
        "    self.pool1 = nn.MaxPool2d(4,4)\n",
        "    self.batchNorm1 = nn.BatchNorm2d(32)\n",
        "\n",
        "    self.conv2 = nn.Conv2d(32, 64, kernel_size = (1,3), stride=1, padding = 1)\n",
        "    self.pool2 = nn.MaxPool2d(3,3) \n",
        "    self.batchNorm2 = nn.BatchNorm2d(64) \n",
        "\n",
        "    self.conv3 = nn.Conv2d(64, 128, kernel_size = (1,2), stride=1, padding = 1)\n",
        "    self.pool3 = nn.MaxPool2d(2,2)\n",
        "    self.batchNorm3 = nn.BatchNorm2d(128)\n",
        "\n",
        "    self.fc1 = nn.Linear(128,1000) #calculate this\n",
        "    self.fc2 = nn.Linear(1000, 500)\n",
        "    self.fc3 = nn.Linear(500, 2)\n",
        "\n",
        "    self.dropout = nn.Dropout(0.25)\n",
        "\n",
        "  def forward(self, x):\n",
        "\n",
        "    x = F.relu(self.dropout(self.conv1(x)))\n",
        "    x = self.pool1(x)\n",
        "    x = self.batchNorm1(x)\n",
        "    x = F.relu(self.dropout(self.conv2(x)))\n",
        "    x = self.pool2(x)\n",
        "    #x = self.batchNorm2(x)\n",
        "    x = F.relu(self.dropout(self.conv3(x)))\n",
        "    x = self.pool3(x)\n",
        "    #x = self.batchNorm3(x)\n",
        "\n",
        "    x = x.view(x.size(0), -1)\n",
        "\n",
        "    # Linear layer\n",
        "    x = self.fc1(x)\n",
        "    x = self.fc2(x)\n",
        "    x = self.fc3(x)\n",
        "    #x = self.fc4(x)\n",
        "\n",
        "    output = x # F.softmax(x)\n",
        "\n",
        "    return output\n"
      ],
      "metadata": {
        "id": "vXEmYChM1rm6"
      },
      "execution_count": null,
      "outputs": []
    },
    {
      "cell_type": "code",
      "source": [
        "# Instantiate the model\n",
        "net = StockShiftClassification().float()\n",
        "\n",
        "# Display a summary of the layers of the model and output shape after each layer\n",
        "summary(net,(windows.shape[1:]),batch_size=batch_size,device=\"cpu\")"
      ],
      "metadata": {
        "colab": {
          "base_uri": "https://localhost:8080/"
        },
        "id": "54Ia_q7D1rp5",
        "outputId": "dc51b4f6-3281-4e86-d12c-9c0f2fd9042a"
      },
      "execution_count": null,
      "outputs": [
        {
          "output_type": "stream",
          "name": "stdout",
          "text": [
            "----------------------------------------------------------------\n",
            "        Layer (type)               Output Shape         Param #\n",
            "================================================================\n",
            "            Conv2d-1            [12, 32, 7, 23]             160\n",
            "           Dropout-2            [12, 32, 7, 23]               0\n",
            "         MaxPool2d-3             [12, 32, 1, 5]               0\n",
            "       BatchNorm2d-4             [12, 32, 1, 5]              64\n",
            "            Conv2d-5             [12, 64, 3, 5]           6,208\n",
            "           Dropout-6             [12, 64, 3, 5]               0\n",
            "         MaxPool2d-7             [12, 64, 1, 1]               0\n",
            "            Conv2d-8            [12, 128, 3, 2]          16,512\n",
            "           Dropout-9            [12, 128, 3, 2]               0\n",
            "        MaxPool2d-10            [12, 128, 1, 1]               0\n",
            "           Linear-11                 [12, 1000]         129,000\n",
            "           Linear-12                  [12, 500]         500,500\n",
            "           Linear-13                    [12, 2]           1,002\n",
            "================================================================\n",
            "Total params: 653,446\n",
            "Trainable params: 653,446\n",
            "Non-trainable params: 0\n",
            "----------------------------------------------------------------\n",
            "Input size (MB): 0.01\n",
            "Forward/backward pass size (MB): 1.44\n",
            "Params size (MB): 2.49\n",
            "Estimated Total Size (MB): 3.94\n",
            "----------------------------------------------------------------\n"
          ]
        }
      ]
    },
    {
      "cell_type": "code",
      "source": [
        "device = torch.device(\"cuda\" if torch.cuda.is_available() else \"cpu\")\n",
        "model = net.to(device)\n",
        "\n",
        "criterion = nn.CrossEntropyLoss() \n",
        "# weights = torch.tensor([y_down_weight, y_up_weight, 1.]).to(device)\n",
        "# criterion_weighted = nn.CrossEntropyLoss(weight=weights)\n",
        "\n",
        "optimizer = torch.optim.Adam(model.parameters(), lr = 0.001, weight_decay=0.00001)\n",
        "# enumerate epochs\n",
        "for epoch in range(10):\n",
        "    # enumerate mini batches\n",
        "    for i, (inputs, targets) in enumerate(train_loader):\n",
        "        # clear the gradients\n",
        "        optimizer.zero_grad()\n",
        "        # compute the model output\n",
        "        yhat = model(inputs.to(device))\n",
        "        print(yhat)\n",
        "        # calculate loss\n",
        "        loss = criterion(yhat, targets.to(device))\n",
        "        # credit assignment\n",
        "        loss.backward()\n",
        "        # update model weights\n",
        "        optimizer.step()"
      ],
      "metadata": {
        "id": "7HicDIS9Gvkg"
      },
      "execution_count": null,
      "outputs": []
    },
    {
      "cell_type": "code",
      "source": [
        "def test_model(model,val_loader,device):\n",
        "    # Turn autograd off\n",
        "    with torch.no_grad():\n",
        "\n",
        "        # Set the model to evaluation mode\n",
        "        model.eval()\n",
        "\n",
        "        # Set up lists to store true and predicted values\n",
        "        y_true = []\n",
        "        test_preds = []\n",
        "\n",
        "        # Calculate the predictions on the test set and add to list\n",
        "        for data in val_loader:\n",
        " \n",
        "            inputs, labels = data[0].to(device), data[1].to(device)\n",
        "            # Feed inputs through model to get raw scores\n",
        "            logits = model.forward(inputs)\n",
        "\n",
        "            #print(f'Logits: {logits}')\n",
        "\n",
        "            # Convert raw scores to probabilities (not necessary since we just care about discrete probs in this case)\n",
        "            probs = F.softmax(logits, dim=-2)\n",
        "            # print(f'Probs after LogSoft: {probs}')\n",
        "\n",
        "            # Get discrete predictions using argmax\n",
        "            preds = np.argmax(probs.cpu().numpy(),axis=1)\n",
        "            # Add predictions and actuals to lists\n",
        "            test_preds.extend(preds)\n",
        "            y_true.extend(labels)\n",
        "\n",
        "        # Calculate the accuracy\n",
        "        test_preds = np.array(test_preds)\n",
        "        y_true = np.array(y_true)\n",
        "        test_acc = np.sum(test_preds == y_true)/y_true.shape[0]\n",
        "        \n",
        "        # Recall for each class\n",
        "        recall_vals = []\n",
        "        for i in range(2):\n",
        "            class_idx = np.argwhere(y_true==i)\n",
        "            total = len(class_idx)\n",
        "            correct = np.sum(test_preds[class_idx]==i)\n",
        "            recall = correct / total\n",
        "            recall_vals.append(recall)\n",
        "\n",
        "    \n",
        "    return test_acc, recall_vals"
      ],
      "metadata": {
        "id": "P5TjVx1_GvyB"
      },
      "execution_count": null,
      "outputs": []
    },
    {
      "cell_type": "code",
      "source": [
        "# Calculate the test set accuracy and recall for each class\n",
        "acc,recall_vals = test_model(model,test_loader,device)\n",
        "print('Test set accuracy is {:.3f}'.format(acc))\n",
        "for i in range(2):\n",
        "    print('For class {}, recall is {}'.format(classes[i],recall_vals[i]))"
      ],
      "metadata": {
        "id": "ZD3M-mxzGv22",
        "outputId": "0b5d5186-60c4-44c6-ec5d-5eb62064ce42",
        "colab": {
          "base_uri": "https://localhost:8080/"
        }
      },
      "execution_count": null,
      "outputs": [
        {
          "output_type": "stream",
          "name": "stdout",
          "text": [
            "Test set accuracy is 0.521\n",
            "For class 0, recall is 0.5148936170212766\n",
            "For class 1, recall is 0.5333333333333333\n"
          ]
        }
      ]
    },
    {
      "cell_type": "code",
      "source": [
        ""
      ],
      "metadata": {
        "id": "KatHomsPGv6w"
      },
      "execution_count": null,
      "outputs": []
    },
    {
      "cell_type": "code",
      "source": [
        ""
      ],
      "metadata": {
        "id": "9toj4OljGv99"
      },
      "execution_count": null,
      "outputs": []
    },
    {
      "cell_type": "code",
      "source": [
        "import time\n",
        "\n",
        "def train(model, optimizer, loss_fn, train_dl, val_dl, epochs=100, device='cpu'):\n",
        "\n",
        "    print('train() called: model=%s, opt=%s(lr=%f), epochs=%d, device=%s\\n' % \\\n",
        "          (type(model).__name__, type(optimizer).__name__,\n",
        "           optimizer.param_groups[0]['lr'], epochs, device))\n",
        "\n",
        "    history = {} # Collects per-epoch loss and acc like Keras' fit().\n",
        "    history['loss'] = []\n",
        "    history['val_loss'] = []\n",
        "    history['acc'] = []\n",
        "    history['val_acc'] = []\n",
        "\n",
        "    start_time_sec = time.time()\n",
        "\n",
        "    for epoch in range(1, epochs+1):\n",
        "\n",
        "        # --- TRAIN AND EVALUATE ON TRAINING SET -----------------------------\n",
        "        model.train()\n",
        "        train_loss         = 0.0\n",
        "        num_train_correct  = 0\n",
        "        num_train_examples = 0\n",
        "\n",
        "        for batch in train_dl:\n",
        "\n",
        "            optimizer.zero_grad()\n",
        "\n",
        "            x    = batch[0].to(device)\n",
        "            y    = batch[1].to(device)\n",
        "            yhat = model(x)\n",
        "            loss = loss_fn(yhat, y)\n",
        "\n",
        "            loss.backward()\n",
        "            optimizer.step()\n",
        "\n",
        "            train_loss         += loss.data.item() * x.size(0)\n",
        "            num_train_correct  += (torch.max(yhat, 1)[1] == y).sum().item()\n",
        "            num_train_examples += x.shape[0]\n",
        "\n",
        "        train_acc   = num_train_correct / num_train_examples\n",
        "        train_loss  = train_loss / len(train_dl.dataset)\n",
        "\n",
        "\n",
        "        # --- EVALUATE ON VALIDATION SET -------------------------------------\n",
        "        model.eval()\n",
        "        val_loss       = 0.0\n",
        "        num_val_correct  = 0\n",
        "        num_val_examples = 0\n",
        "\n",
        "        for batch in val_dl:\n",
        "\n",
        "            x    = batch[0].to(device)\n",
        "            y    = batch[1].to(device)\n",
        "            yhat = model(x)\n",
        "            loss = loss_fn(yhat, y)\n",
        "\n",
        "            val_loss         += loss.data.item() * x.size(0)\n",
        "            num_val_correct  += (torch.max(yhat, 1)[1] == y).sum().item()\n",
        "            num_val_examples += y.shape[0]\n",
        "\n",
        "        val_acc  = num_val_correct / num_val_examples\n",
        "        val_loss = val_loss / len(val_dl.dataset)\n",
        "\n",
        "\n",
        "        if epoch == 1 or epoch % 10 == 0:\n",
        "          print('Epoch %3d/%3d, train loss: %5.2f, train acc: %5.2f, val loss: %5.2f, val acc: %5.2f' % \\\n",
        "                (epoch, epochs, train_loss, train_acc, val_loss, val_acc))\n",
        "\n",
        "        history['loss'].append(train_loss)\n",
        "        history['val_loss'].append(val_loss)\n",
        "        history['acc'].append(train_acc)\n",
        "        history['val_acc'].append(val_acc)\n",
        "\n",
        "    # END OF TRAINING LOOP\n",
        "\n",
        "\n",
        "    end_time_sec       = time.time()\n",
        "    total_time_sec     = end_time_sec - start_time_sec\n",
        "    time_per_epoch_sec = total_time_sec / epochs\n",
        "    print()\n",
        "    print('Time total:     %5.2f sec' % (total_time_sec))\n",
        "    print('Time per epoch: %5.2f sec' % (time_per_epoch_sec))\n",
        "\n",
        "    return history"
      ],
      "metadata": {
        "id": "l67afvmlC1Xo"
      },
      "execution_count": null,
      "outputs": []
    },
    {
      "cell_type": "code",
      "source": [
        "y_flat_num = y_train[np.where(y_train == 2)].size\n",
        "y_down_weight = round((y_flat_num / y_train[np.where(y_train == 0)].size) * 1.2, 3) \n",
        "y_up_weight = round((y_flat_num / y_train[np.where(y_train == 1)].size) * 1.5, 3)\n",
        "\n",
        "print(y_down_weight, y_up_weight, 1)"
      ],
      "metadata": {
        "id": "pUFXzc6iLEi_",
        "outputId": "16353600-576c-4d78-8471-b3662c5efade",
        "colab": {
          "base_uri": "https://localhost:8080/"
        }
      },
      "execution_count": null,
      "outputs": [
        {
          "output_type": "stream",
          "name": "stdout",
          "text": [
            "0.0 0.0 1\n"
          ]
        }
      ]
    },
    {
      "cell_type": "code",
      "source": [
        "device = torch.device(\"cuda\" if torch.cuda.is_available() else \"cpu\")\n",
        "model = net.to(device)\n",
        "\n",
        "criterion = nn.CrossEntropyLoss() \n",
        "# weights = torch.tensor([y_down_weight, y_up_weight, 1.]).to(device)\n",
        "# criterion_weighted = nn.CrossEntropyLoss(weight=weights)\n",
        "\n",
        "optimizer = torch.optim.Adam(net.parameters(), lr = 0.001, weight_decay=0.00001)\n",
        "epochs = 20\n",
        "\n",
        "history = train(\n",
        "    model = model,\n",
        "    optimizer = optimizer,\n",
        "    loss_fn = criterion,\n",
        "    train_dl = train_loader,\n",
        "    val_dl = test_loader,\n",
        "    epochs=epochs,\n",
        "    device=device)"
      ],
      "metadata": {
        "id": "oRVWOhjhC1ig",
        "outputId": "d2e3bb3f-b21a-4c76-817f-d15541feeeee",
        "colab": {
          "base_uri": "https://localhost:8080/"
        }
      },
      "execution_count": null,
      "outputs": [
        {
          "output_type": "stream",
          "name": "stdout",
          "text": [
            "train() called: model=StockShiftClassification, opt=Adam(lr=0.001000), epochs=20, device=cuda\n",
            "\n",
            "Epoch   1/ 20, train loss:  1.02, train acc:  0.68, val loss:  0.64, val acc:  0.66\n",
            "Epoch  10/ 20, train loss:  0.61, train acc:  0.71, val loss:  0.65, val acc:  0.66\n",
            "Epoch  20/ 20, train loss:  0.61, train acc:  0.71, val loss:  0.64, val acc:  0.66\n",
            "\n",
            "Time total:     26.97 sec\n",
            "Time per epoch:  1.35 sec\n"
          ]
        }
      ]
    },
    {
      "cell_type": "code",
      "source": [
        "import matplotlib.pyplot as plt\n",
        "\n",
        "acc = history['acc']\n",
        "val_acc = history['val_acc']\n",
        "loss = history['loss']\n",
        "val_loss = history['val_loss']\n",
        "epochs = range(1, len(acc) + 1)\n",
        "\n",
        "plt.plot(epochs, acc, 'b', label='Training acc')\n",
        "plt.plot(epochs, val_acc, 'r', label='Validation acc')\n",
        "plt.title('Training and validation accuracy')\n",
        "plt.legend()\n",
        "plt.figure()\n",
        "plt.plot(epochs, loss, 'b', label='Training loss')\n",
        "plt.plot(epochs, val_loss, 'r', label='Validation loss')\n",
        "plt.title('Training and validation loss')\n",
        "plt.legend()\n",
        "plt.show()"
      ],
      "metadata": {
        "id": "NMYpeHE_C1nP",
        "outputId": "1ef24f09-3226-454c-e134-5cf9e61140c6",
        "colab": {
          "base_uri": "https://localhost:8080/",
          "height": 545
        }
      },
      "execution_count": null,
      "outputs": [
        {
          "output_type": "display_data",
          "data": {
            "image/png": "[encoded data removed]",
            "text/plain": [
              "<Figure size 432x288 with 1 Axes>"
            ]
          },
          "metadata": {
            "needs_background": "light"
          }
        },
        {
          "output_type": "display_data",
          "data": {
            "image/png": "[encoded data removed]",
            "text/plain": [
              "<Figure size 432x288 with 1 Axes>"
            ]
          },
          "metadata": {
            "needs_background": "light"
          }
        }
      ]
    },
    {
      "cell_type": "code",
      "source": [
        "def test_model(model,val_loader,device):\n",
        "    # Turn autograd off\n",
        "    with torch.no_grad():\n",
        "\n",
        "        # Set the model to evaluation mode\n",
        "        model = model.to(device)\n",
        "        model.eval()\n",
        "\n",
        "        # Set up lists to store true and predicted values\n",
        "        y_true = []\n",
        "        test_preds = []\n",
        "\n",
        "        # Calculate the predictions on the test set and add to list\n",
        "        for data in val_loader:\n",
        " \n",
        "            inputs, labels = data[0].to(device), data[1].to(device)\n",
        "            # Feed inputs through model to get raw scores\n",
        "            logits = model.forward(inputs)\n",
        "\n",
        "            #print(f'Logits: {logits}')\n",
        "\n",
        "            # Convert raw scores to probabilities (not necessary since we just care about discrete probs in this case)\n",
        "            probs = F.softmax(logits)\n",
        "            # print(f'Probs after LogSoft: {probs}')\n",
        "\n",
        "            # Get discrete predictions using argmax\n",
        "            preds = np.argmax(probs.cpu().numpy(),axis=1)\n",
        "            # Add predictions and actuals to lists\n",
        "            test_preds.extend(preds)\n",
        "            y_true.extend(labels)\n",
        "\n",
        "        # Calculate the accuracy\n",
        "        test_preds = np.array(test_preds)\n",
        "        y_true = np.array(y_true)\n",
        "        test_acc = np.sum(test_preds == y_true)/y_true.shape[0]\n",
        "        \n",
        "        # Recall for each class\n",
        "        recall_vals = []\n",
        "        for i in range(2):\n",
        "            class_idx = np.argwhere(y_true==i)\n",
        "            total = len(class_idx)\n",
        "            correct = np.sum(test_preds[class_idx]==i)\n",
        "            recall = correct / total\n",
        "            recall_vals.append(recall)\n",
        "\n",
        "    \n",
        "    return test_acc, recall_vals\n",
        "  "
      ],
      "metadata": {
        "id": "CidDImELC1q5"
      },
      "execution_count": null,
      "outputs": []
    },
    {
      "cell_type": "code",
      "source": [
        "# Calculate the test set accuracy and recall for each class\n",
        "acc,recall_vals = test_model(model,test_loader,device)\n",
        "print('Test set accuracy is {:.3f}'.format(acc))\n",
        "for i in range(2):\n",
        "    print('For class {}, recall is {}'.format(classes[i],recall_vals[i]))"
      ],
      "metadata": {
        "id": "6IwvDf26CP50",
        "outputId": "d71d18d6-a8ce-4686-a05c-0bd981878a9c",
        "colab": {
          "base_uri": "https://localhost:8080/"
        }
      },
      "execution_count": null,
      "outputs": [
        {
          "output_type": "stream",
          "name": "stdout",
          "text": [
            "Test set accuracy is 0.662\n",
            "For class 1, recall is 1.0\n",
            "For class 0, recall is 0.0\n"
          ]
        },
        {
          "output_type": "stream",
          "name": "stderr",
          "text": [
            "/usr/local/lib/python3.7/dist-packages/ipykernel_launcher.py:23: UserWarning: Implicit dimension choice for softmax has been deprecated. Change the call to include dim=X as an argument.\n"
          ]
        }
      ]
    },
    {
      "cell_type": "code",
      "source": [
        "from sklearn.metrics import confusion_matrix\n",
        "\n",
        "def plot_confusion_matrix(cm,\n",
        "                          target_names,\n",
        "                          title='Confusion matrix',\n",
        "                          cmap=None,\n",
        "                          normalize=True):\n",
        "    \"\"\"\n",
        "    given a sklearn confusion matrix (cm), make a nice plot\n",
        "\n",
        "    Arguments\n",
        "    ---------\n",
        "    cm:           confusion matrix from sklearn.metrics.confusion_matrix\n",
        "\n",
        "    target_names: given classification classes such as [0, 1, 2]\n",
        "                  the class names, for example: ['high', 'medium', 'low']\n",
        "\n",
        "    title:        the text to display at the top of the matrix\n",
        "\n",
        "    cmap:         the gradient of the values displayed from matplotlib.pyplot.cm\n",
        "                  see http://matplotlib.org/examples/color/colormaps_reference.html\n",
        "                  plt.get_cmap('jet') or plt.cm.Blues\n",
        "\n",
        "    normalize:    If False, plot the raw numbers\n",
        "                  If True, plot the proportions\n",
        "\n",
        "    Usage\n",
        "    -----\n",
        "    plot_confusion_matrix(cm           = cm,                  # confusion matrix created by\n",
        "                                                              # sklearn.metrics.confusion_matrix\n",
        "                          normalize    = True,                # show proportions\n",
        "                          target_names = y_labels_vals,       # list of names of the classes\n",
        "                          title        = best_estimator_name) # title of graph\n",
        "\n",
        "    Citiation\n",
        "    ---------\n",
        "    http://scikit-learn.org/stable/auto_examples/model_selection/plot_confusion_matrix.html\n",
        "\n",
        "    \"\"\"\n",
        "    import matplotlib.pyplot as plt\n",
        "    import numpy as np\n",
        "    import itertools\n",
        "\n",
        "    accuracy = np.trace(cm) / np.sum(cm).astype('float')\n",
        "    misclass = 1 - accuracy\n",
        "\n",
        "    if cmap is None:\n",
        "        cmap = plt.get_cmap('Blues')\n",
        "\n",
        "    plt.figure(figsize=(8, 6))\n",
        "    plt.imshow(cm, interpolation='nearest', cmap=cmap)\n",
        "    plt.title(title)\n",
        "    plt.colorbar()\n",
        "\n",
        "    if target_names is not None:\n",
        "        tick_marks = np.arange(len(target_names))\n",
        "        plt.xticks(tick_marks, target_names, rotation=45)\n",
        "        plt.yticks(tick_marks, target_names)\n",
        "\n",
        "    if normalize:\n",
        "        cm = cm.astype('float') / cm.sum(axis=1)[:, np.newaxis]\n",
        "\n",
        "\n",
        "    thresh = cm.max() / 1.5 if normalize else cm.max() / 2\n",
        "    for i, j in itertools.product(range(cm.shape[0]), range(cm.shape[1])):\n",
        "        if normalize:\n",
        "            plt.text(j, i, \"{:0.4f}\".format(cm[i, j]),\n",
        "                     horizontalalignment=\"center\",\n",
        "                     color=\"white\" if cm[i, j] > thresh else \"black\")\n",
        "        else:\n",
        "            plt.text(j, i, \"{:,}\".format(cm[i, j]),\n",
        "                     horizontalalignment=\"center\",\n",
        "                     color=\"white\" if cm[i, j] > thresh else \"black\")\n",
        "\n",
        "\n",
        "    plt.tight_layout()\n",
        "    plt.ylabel('True label')\n",
        "    plt.xlabel('Predicted label\\naccuracy={:0.4f}; misclass={:0.4f}'.format(accuracy, misclass))\n",
        "    plt.show()\n",
        "\n",
        "nb_classes = 2\n",
        "\n",
        "# Initialize the prediction and label lists(tensors)\n",
        "predlist=torch.zeros(0,dtype=torch.long, device='cpu')\n",
        "lbllist=torch.zeros(0,dtype=torch.long, device='cpu')\n",
        "\n",
        "with torch.no_grad():\n",
        "    for i, (inputs, classes) in enumerate(dataloaders['val']):\n",
        "        # print(inputs)\n",
        "        inputs = inputs.to(device)\n",
        "        classes = classes.to(device)\n",
        "        outputs = model.forward(inputs)\n",
        "        #print(outputs)\n",
        "        _, preds = torch.max(outputs, 1)\n",
        "\n",
        "        # Append batch prediction results\n",
        "        predlist=torch.cat([predlist,preds.view(-1).cpu()])\n",
        "        lbllist=torch.cat([lbllist,classes.view(-1).cpu()])\n",
        "\n",
        "# Confusion matrix\n",
        "conf_mat=confusion_matrix(lbllist.numpy(), predlist.numpy())\n",
        "plot_confusion_matrix(conf_mat, [0,1])\n",
        "\n",
        "from sklearn.metrics import precision_score\n",
        "\n",
        "precision_score(lbllist.numpy(), predlist.numpy(), average='weighted')\n",
        "\n",
        "from sklearn.metrics import classification_report\n",
        "\n",
        "print(classification_report(lbllist.numpy(), predlist.numpy(), target_names=[\"down\",\"up\"], digits=4))"
      ],
      "metadata": {
        "id": "-gq47-2rC1um",
        "outputId": "ad91da67-946a-49b8-e8ad-242d3fcaa2a3",
        "colab": {
          "base_uri": "https://localhost:8080/",
          "height": 782
        }
      },
      "execution_count": null,
      "outputs": [
        {
          "output_type": "display_data",
          "data": {
            "image/png": "[encoded data removed]",
            "text/plain": [
              "<Figure size 576x432 with 2 Axes>"
            ]
          },
          "metadata": {
            "needs_background": "light"
          }
        },
        {
          "output_type": "stream",
          "name": "stdout",
          "text": [
            "              precision    recall  f1-score   support\n",
            "\n",
            "        down     0.7042    1.0000    0.8264      1838\n",
            "          up     0.0000    0.0000    0.0000       772\n",
            "\n",
            "    accuracy                         0.7042      2610\n",
            "   macro avg     0.3521    0.5000    0.4132      2610\n",
            "weighted avg     0.4959    0.7042    0.5820      2610\n",
            "\n"
          ]
        },
        {
          "output_type": "stream",
          "name": "stderr",
          "text": [
            "/usr/local/lib/python3.7/dist-packages/sklearn/metrics/_classification.py:1318: UndefinedMetricWarning: Precision is ill-defined and being set to 0.0 in labels with no predicted samples. Use `zero_division` parameter to control this behavior.\n",
            "  _warn_prf(average, modifier, msg_start, len(result))\n",
            "/usr/local/lib/python3.7/dist-packages/sklearn/metrics/_classification.py:1318: UndefinedMetricWarning: Precision and F-score are ill-defined and being set to 0.0 in labels with no predicted samples. Use `zero_division` parameter to control this behavior.\n",
            "  _warn_prf(average, modifier, msg_start, len(result))\n",
            "/usr/local/lib/python3.7/dist-packages/sklearn/metrics/_classification.py:1318: UndefinedMetricWarning: Precision and F-score are ill-defined and being set to 0.0 in labels with no predicted samples. Use `zero_division` parameter to control this behavior.\n",
            "  _warn_prf(average, modifier, msg_start, len(result))\n",
            "/usr/local/lib/python3.7/dist-packages/sklearn/metrics/_classification.py:1318: UndefinedMetricWarning: Precision and F-score are ill-defined and being set to 0.0 in labels with no predicted samples. Use `zero_division` parameter to control this behavior.\n",
            "  _warn_prf(average, modifier, msg_start, len(result))\n"
          ]
        }
      ]
    },
    {
      "cell_type": "code",
      "source": [
        ""
      ],
      "metadata": {
        "id": "Qii8iha3QCuD"
      },
      "execution_count": null,
      "outputs": []
    },
    {
      "cell_type": "code",
      "source": [
        ""
      ],
      "metadata": {
        "id": "Yr3OmJwIQCxo"
      },
      "execution_count": null,
      "outputs": []
    },
    {
      "cell_type": "code",
      "source": [
        ""
      ],
      "metadata": {
        "id": "_4PW1DAfQC1M"
      },
      "execution_count": null,
      "outputs": []
    },
    {
      "cell_type": "code",
      "source": [
        ""
      ],
      "metadata": {
        "id": "4scWYtShQC4O"
      },
      "execution_count": null,
      "outputs": []
    },
    {
      "cell_type": "code",
      "source": [
        ""
      ],
      "metadata": {
        "id": "qC_czvrtQC7l"
      },
      "execution_count": null,
      "outputs": []
    },
    {
      "cell_type": "code",
      "source": [
        ""
      ],
      "metadata": {
        "id": "sD-NBQzbQC-u"
      },
      "execution_count": null,
      "outputs": []
    },
    {
      "cell_type": "code",
      "source": [
        ""
      ],
      "metadata": {
        "id": "fVjXxkcJQDB0"
      },
      "execution_count": null,
      "outputs": []
    }
  ]
}