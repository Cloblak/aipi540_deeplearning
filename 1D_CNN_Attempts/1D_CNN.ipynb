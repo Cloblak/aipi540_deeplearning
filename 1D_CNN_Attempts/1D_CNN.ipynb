{
  "nbformat": 4,
  "nbformat_minor": 0,
  "metadata": {
    "colab": {
      "name": "1D_CNN.ipynb",
      "provenance": [],
      "collapsed_sections": [],
      "include_colab_link": true
    },
    "kernelspec": {
      "name": "python3",
      "display_name": "Python 3"
    },
    "language_info": {
      "name": "python"
    },
    "widgets": {
      "application/vnd.jupyter.widget-state+json": {
        "35b0c6a641f74b7a8a5a17696c771999": {
          "model_module": "@jupyter-widgets/controls",
          "model_name": "HBoxModel",
          "model_module_version": "1.5.0",
          "state": {
            "_view_name": "HBoxView",
            "_dom_classes": [],
            "_model_name": "HBoxModel",
            "_view_module": "@jupyter-widgets/controls",
            "_model_module_version": "1.5.0",
            "_view_count": null,
            "_view_module_version": "1.5.0",
            "box_style": "",
            "layout": "IPY_MODEL_5435c22875e1449bba6f514dc362fb86",
            "_model_module": "@jupyter-widgets/controls",
            "children": [
              "IPY_MODEL_2174b8eaf379476aa207a7d3553a23cb",
              "IPY_MODEL_d2eea602e1f44679b9dca81d02cef6a9",
              "IPY_MODEL_4c4ee8d44be44753b86d2334ed5201d9"
            ]
          }
        },
        "5435c22875e1449bba6f514dc362fb86": {
          "model_module": "@jupyter-widgets/base",
          "model_name": "LayoutModel",
          "model_module_version": "1.2.0",
          "state": {
            "_view_name": "LayoutView",
            "grid_template_rows": null,
            "right": null,
            "justify_content": null,
            "_view_module": "@jupyter-widgets/base",
            "overflow": null,
            "_model_module_version": "1.2.0",
            "_view_count": null,
            "flex_flow": null,
            "width": null,
            "min_width": null,
            "border": null,
            "align_items": null,
            "bottom": null,
            "_model_module": "@jupyter-widgets/base",
            "top": null,
            "grid_column": null,
            "overflow_y": null,
            "overflow_x": null,
            "grid_auto_flow": null,
            "grid_area": null,
            "grid_template_columns": null,
            "flex": null,
            "_model_name": "LayoutModel",
            "justify_items": null,
            "grid_row": null,
            "max_height": null,
            "align_content": null,
            "visibility": null,
            "align_self": null,
            "height": null,
            "min_height": null,
            "padding": null,
            "grid_auto_rows": null,
            "grid_gap": null,
            "max_width": null,
            "order": null,
            "_view_module_version": "1.2.0",
            "grid_template_areas": null,
            "object_position": null,
            "object_fit": null,
            "grid_auto_columns": null,
            "margin": null,
            "display": null,
            "left": null
          }
        },
        "2174b8eaf379476aa207a7d3553a23cb": {
          "model_module": "@jupyter-widgets/controls",
          "model_name": "HTMLModel",
          "model_module_version": "1.5.0",
          "state": {
            "_view_name": "HTMLView",
            "style": "IPY_MODEL_2d07aa40726741bba6d08a741f239b2a",
            "_dom_classes": [],
            "description": "",
            "_model_name": "HTMLModel",
            "placeholder": "​",
            "_view_module": "@jupyter-widgets/controls",
            "_model_module_version": "1.5.0",
            "value": " 63%",
            "_view_count": null,
            "_view_module_version": "1.5.0",
            "description_tooltip": null,
            "_model_module": "@jupyter-widgets/controls",
            "layout": "IPY_MODEL_ae9e58658d6e45a0ae4f071d65facbd8"
          }
        },
        "d2eea602e1f44679b9dca81d02cef6a9": {
          "model_module": "@jupyter-widgets/controls",
          "model_name": "FloatProgressModel",
          "model_module_version": "1.5.0",
          "state": {
            "_view_name": "ProgressView",
            "style": "IPY_MODEL_39c656c52a3b41f4912ae2f141bf1291",
            "_dom_classes": [],
            "description": "",
            "_model_name": "FloatProgressModel",
            "bar_style": "danger",
            "max": 300,
            "_view_module": "@jupyter-widgets/controls",
            "_model_module_version": "1.5.0",
            "value": 188,
            "_view_count": null,
            "_view_module_version": "1.5.0",
            "orientation": "horizontal",
            "min": 0,
            "description_tooltip": null,
            "_model_module": "@jupyter-widgets/controls",
            "layout": "IPY_MODEL_101532c20c604f9cbddaae38f83cb611"
          }
        },
        "4c4ee8d44be44753b86d2334ed5201d9": {
          "model_module": "@jupyter-widgets/controls",
          "model_name": "HTMLModel",
          "model_module_version": "1.5.0",
          "state": {
            "_view_name": "HTMLView",
            "style": "IPY_MODEL_a809155bf81340c88a359f8e8b52b1a7",
            "_dom_classes": [],
            "description": "",
            "_model_name": "HTMLModel",
            "placeholder": "​",
            "_view_module": "@jupyter-widgets/controls",
            "_model_module_version": "1.5.0",
            "value": " 188/300 [1:25:16&lt;50:49, 27.23s/it]",
            "_view_count": null,
            "_view_module_version": "1.5.0",
            "description_tooltip": null,
            "_model_module": "@jupyter-widgets/controls",
            "layout": "IPY_MODEL_8a927038a7cb49a6a64673ce556a0c8e"
          }
        },
        "2d07aa40726741bba6d08a741f239b2a": {
          "model_module": "@jupyter-widgets/controls",
          "model_name": "DescriptionStyleModel",
          "model_module_version": "1.5.0",
          "state": {
            "_view_name": "StyleView",
            "_model_name": "DescriptionStyleModel",
            "description_width": "",
            "_view_module": "@jupyter-widgets/base",
            "_model_module_version": "1.5.0",
            "_view_count": null,
            "_view_module_version": "1.2.0",
            "_model_module": "@jupyter-widgets/controls"
          }
        },
        "ae9e58658d6e45a0ae4f071d65facbd8": {
          "model_module": "@jupyter-widgets/base",
          "model_name": "LayoutModel",
          "model_module_version": "1.2.0",
          "state": {
            "_view_name": "LayoutView",
            "grid_template_rows": null,
            "right": null,
            "justify_content": null,
            "_view_module": "@jupyter-widgets/base",
            "overflow": null,
            "_model_module_version": "1.2.0",
            "_view_count": null,
            "flex_flow": null,
            "width": null,
            "min_width": null,
            "border": null,
            "align_items": null,
            "bottom": null,
            "_model_module": "@jupyter-widgets/base",
            "top": null,
            "grid_column": null,
            "overflow_y": null,
            "overflow_x": null,
            "grid_auto_flow": null,
            "grid_area": null,
            "grid_template_columns": null,
            "flex": null,
            "_model_name": "LayoutModel",
            "justify_items": null,
            "grid_row": null,
            "max_height": null,
            "align_content": null,
            "visibility": null,
            "align_self": null,
            "height": null,
            "min_height": null,
            "padding": null,
            "grid_auto_rows": null,
            "grid_gap": null,
            "max_width": null,
            "order": null,
            "_view_module_version": "1.2.0",
            "grid_template_areas": null,
            "object_position": null,
            "object_fit": null,
            "grid_auto_columns": null,
            "margin": null,
            "display": null,
            "left": null
          }
        },
        "39c656c52a3b41f4912ae2f141bf1291": {
          "model_module": "@jupyter-widgets/controls",
          "model_name": "ProgressStyleModel",
          "model_module_version": "1.5.0",
          "state": {
            "_view_name": "StyleView",
            "_model_name": "ProgressStyleModel",
            "description_width": "",
            "_view_module": "@jupyter-widgets/base",
            "_model_module_version": "1.5.0",
            "_view_count": null,
            "_view_module_version": "1.2.0",
            "bar_color": null,
            "_model_module": "@jupyter-widgets/controls"
          }
        },
        "101532c20c604f9cbddaae38f83cb611": {
          "model_module": "@jupyter-widgets/base",
          "model_name": "LayoutModel",
          "model_module_version": "1.2.0",
          "state": {
            "_view_name": "LayoutView",
            "grid_template_rows": null,
            "right": null,
            "justify_content": null,
            "_view_module": "@jupyter-widgets/base",
            "overflow": null,
            "_model_module_version": "1.2.0",
            "_view_count": null,
            "flex_flow": null,
            "width": null,
            "min_width": null,
            "border": null,
            "align_items": null,
            "bottom": null,
            "_model_module": "@jupyter-widgets/base",
            "top": null,
            "grid_column": null,
            "overflow_y": null,
            "overflow_x": null,
            "grid_auto_flow": null,
            "grid_area": null,
            "grid_template_columns": null,
            "flex": null,
            "_model_name": "LayoutModel",
            "justify_items": null,
            "grid_row": null,
            "max_height": null,
            "align_content": null,
            "visibility": null,
            "align_self": null,
            "height": null,
            "min_height": null,
            "padding": null,
            "grid_auto_rows": null,
            "grid_gap": null,
            "max_width": null,
            "order": null,
            "_view_module_version": "1.2.0",
            "grid_template_areas": null,
            "object_position": null,
            "object_fit": null,
            "grid_auto_columns": null,
            "margin": null,
            "display": null,
            "left": null
          }
        },
        "a809155bf81340c88a359f8e8b52b1a7": {
          "model_module": "@jupyter-widgets/controls",
          "model_name": "DescriptionStyleModel",
          "model_module_version": "1.5.0",
          "state": {
            "_view_name": "StyleView",
            "_model_name": "DescriptionStyleModel",
            "description_width": "",
            "_view_module": "@jupyter-widgets/base",
            "_model_module_version": "1.5.0",
            "_view_count": null,
            "_view_module_version": "1.2.0",
            "_model_module": "@jupyter-widgets/controls"
          }
        },
        "8a927038a7cb49a6a64673ce556a0c8e": {
          "model_module": "@jupyter-widgets/base",
          "model_name": "LayoutModel",
          "model_module_version": "1.2.0",
          "state": {
            "_view_name": "LayoutView",
            "grid_template_rows": null,
            "right": null,
            "justify_content": null,
            "_view_module": "@jupyter-widgets/base",
            "overflow": null,
            "_model_module_version": "1.2.0",
            "_view_count": null,
            "flex_flow": null,
            "width": null,
            "min_width": null,
            "border": null,
            "align_items": null,
            "bottom": null,
            "_model_module": "@jupyter-widgets/base",
            "top": null,
            "grid_column": null,
            "overflow_y": null,
            "overflow_x": null,
            "grid_auto_flow": null,
            "grid_area": null,
            "grid_template_columns": null,
            "flex": null,
            "_model_name": "LayoutModel",
            "justify_items": null,
            "grid_row": null,
            "max_height": null,
            "align_content": null,
            "visibility": null,
            "align_self": null,
            "height": null,
            "min_height": null,
            "padding": null,
            "grid_auto_rows": null,
            "grid_gap": null,
            "max_width": null,
            "order": null,
            "_view_module_version": "1.2.0",
            "grid_template_areas": null,
            "object_position": null,
            "object_fit": null,
            "grid_auto_columns": null,
            "margin": null,
            "display": null,
            "left": null
          }
        }
      }
    }
  },
  "cells": [
    {
      "cell_type": "markdown",
      "metadata": {
        "id": "view-in-github",
        "colab_type": "text"
      },
      "source": [
        "<a href=\"https://colab.research.google.com/github/Cloblak/aipi540_deeplearning/blob/main/1D_CNN_Attempts/1D_CNN.ipynb\" target=\"_parent\"><img src=\"https://colab.research.google.com/assets/colab-badge.svg\" alt=\"Open In Colab\"/></a>"
      ]
    },
    {
      "cell_type": "code",
      "source": [
        "!pip install alpaca_trade_api"
      ],
      "metadata": {
        "id": "Xj0pR3efRVrc",
        "colab": {
          "base_uri": "https://localhost:8080/"
        },
        "outputId": "1cec479b-dd8c-4673-8334-f4188f6c6480"
      },
      "execution_count": 1,
      "outputs": [
        {
          "output_type": "stream",
          "name": "stdout",
          "text": [
            "Requirement already satisfied: alpaca_trade_api in /usr/local/lib/python3.7/dist-packages (1.5.0)\n",
            "Requirement already satisfied: websocket-client<2,>=0.56.0 in /usr/local/lib/python3.7/dist-packages (from alpaca_trade_api) (1.2.3)\n",
            "Requirement already satisfied: pandas>=0.18.1 in /usr/local/lib/python3.7/dist-packages (from alpaca_trade_api) (1.1.5)\n",
            "Requirement already satisfied: aiohttp==3.7.4 in /usr/local/lib/python3.7/dist-packages (from alpaca_trade_api) (3.7.4)\n",
            "Requirement already satisfied: urllib3<2,>1.24 in /usr/local/lib/python3.7/dist-packages (from alpaca_trade_api) (1.24.3)\n",
            "Requirement already satisfied: requests<3,>2 in /usr/local/lib/python3.7/dist-packages (from alpaca_trade_api) (2.23.0)\n",
            "Requirement already satisfied: websockets<10,>=8.0 in /usr/local/lib/python3.7/dist-packages (from alpaca_trade_api) (9.1)\n",
            "Requirement already satisfied: numpy>=1.11.1 in /usr/local/lib/python3.7/dist-packages (from alpaca_trade_api) (1.19.5)\n",
            "Requirement already satisfied: deprecation==2.1.0 in /usr/local/lib/python3.7/dist-packages (from alpaca_trade_api) (2.1.0)\n",
            "Requirement already satisfied: PyYAML==5.4.1 in /usr/local/lib/python3.7/dist-packages (from alpaca_trade_api) (5.4.1)\n",
            "Requirement already satisfied: msgpack==1.0.2 in /usr/local/lib/python3.7/dist-packages (from alpaca_trade_api) (1.0.2)\n",
            "Requirement already satisfied: typing-extensions>=3.6.5 in /usr/local/lib/python3.7/dist-packages (from aiohttp==3.7.4->alpaca_trade_api) (3.10.0.2)\n",
            "Requirement already satisfied: attrs>=17.3.0 in /usr/local/lib/python3.7/dist-packages (from aiohttp==3.7.4->alpaca_trade_api) (21.4.0)\n",
            "Requirement already satisfied: chardet<4.0,>=2.0 in /usr/local/lib/python3.7/dist-packages (from aiohttp==3.7.4->alpaca_trade_api) (3.0.4)\n",
            "Requirement already satisfied: multidict<7.0,>=4.5 in /usr/local/lib/python3.7/dist-packages (from aiohttp==3.7.4->alpaca_trade_api) (6.0.2)\n",
            "Requirement already satisfied: yarl<2.0,>=1.0 in /usr/local/lib/python3.7/dist-packages (from aiohttp==3.7.4->alpaca_trade_api) (1.7.2)\n",
            "Requirement already satisfied: async-timeout<4.0,>=3.0 in /usr/local/lib/python3.7/dist-packages (from aiohttp==3.7.4->alpaca_trade_api) (3.0.1)\n",
            "Requirement already satisfied: packaging in /usr/local/lib/python3.7/dist-packages (from deprecation==2.1.0->alpaca_trade_api) (21.3)\n",
            "Requirement already satisfied: pytz>=2017.2 in /usr/local/lib/python3.7/dist-packages (from pandas>=0.18.1->alpaca_trade_api) (2018.9)\n",
            "Requirement already satisfied: python-dateutil>=2.7.3 in /usr/local/lib/python3.7/dist-packages (from pandas>=0.18.1->alpaca_trade_api) (2.8.2)\n",
            "Requirement already satisfied: six>=1.5 in /usr/local/lib/python3.7/dist-packages (from python-dateutil>=2.7.3->pandas>=0.18.1->alpaca_trade_api) (1.15.0)\n",
            "Requirement already satisfied: idna<3,>=2.5 in /usr/local/lib/python3.7/dist-packages (from requests<3,>2->alpaca_trade_api) (2.10)\n",
            "Requirement already satisfied: certifi>=2017.4.17 in /usr/local/lib/python3.7/dist-packages (from requests<3,>2->alpaca_trade_api) (2021.10.8)\n",
            "Requirement already satisfied: pyparsing!=3.0.5,>=2.0.2 in /usr/local/lib/python3.7/dist-packages (from packaging->deprecation==2.1.0->alpaca_trade_api) (3.0.7)\n"
          ]
        }
      ]
    },
    {
      "cell_type": "markdown",
      "source": [
        "Features To Consider\n",
        " - Targets are only predicting sell within market hours, i.e. at 1530, target is prediciting price for 1100 the next day.  Data from pre and post market is taken into consideration, and a sell or buy will be indicated if the price will flucuate after close."
      ],
      "metadata": {
        "id": "hdKRKIogGAu6"
      }
    },
    {
      "cell_type": "code",
      "source": [
        "# Import Dependencies\n",
        "import numpy as np\n",
        "import pandas as pd\n",
        "import torch\n",
        "from torch.utils.data import DataLoader, TensorDataset\n",
        "from torch.autograd import Variable\n",
        "from torch.nn import Linear, ReLU, CrossEntropyLoss, Sequential, Conv2d, MaxPool2d, Module, Softmax, BatchNorm2d, Dropout\n",
        "from torch.optim import Adam, SGD\n",
        "from torchsummary import summary\n",
        "import torch.nn as nn\n",
        "import torch.nn.functional as F\n",
        "import torch.optim as optim\n",
        "from tqdm.notebook import tqdm\n",
        "import alpaca_trade_api as tradeapi\n",
        "from datetime import datetime, timedelta, tzinfo, timezone, time\n",
        "import os.path\n",
        "import ast\n",
        "import threading\n",
        "import math\n",
        "import seaborn as sns\n",
        "import matplotlib.pyplot as plt\n",
        "from sklearn.model_selection import train_test_split\n",
        "from sklearn.preprocessing import StandardScaler, MinMaxScaler"
      ],
      "metadata": {
        "id": "J1fWNRnTQZX-"
      },
      "execution_count": 2,
      "outputs": []
    },
    {
      "cell_type": "code",
      "source": [
        "random_seed = 101\n",
        "torch.manual_seed(random_seed)"
      ],
      "metadata": {
        "colab": {
          "base_uri": "https://localhost:8080/"
        },
        "id": "DrI_WR501Iis",
        "outputId": "51b33337-5486-4ac8-9d2e-f470ce9bce69"
      },
      "execution_count": 3,
      "outputs": [
        {
          "output_type": "execute_result",
          "data": {
            "text/plain": [
              "<torch._C.Generator at 0x7f9935697710>"
            ]
          },
          "metadata": {},
          "execution_count": 3
        }
      ]
    },
    {
      "cell_type": "code",
      "source": [
        "PAPER_API_KEY = \"PKE39LILN9SL1FMJMFV7\"\n",
        "PAPER_SECRET_KEY = \"TkU7fXH6WhP15MewgWlSnQG5RUoHGOPQ7yqlD6xq\"\n",
        "PAPER_BASE_URL = 'https://paper-api.alpaca.markets'"
      ],
      "metadata": {
        "id": "IXnO8ykgRIuv"
      },
      "execution_count": 4,
      "outputs": []
    },
    {
      "cell_type": "code",
      "source": [
        "api = tradeapi.REST(PAPER_API_KEY, PAPER_SECRET_KEY, PAPER_BASE_URL, api_version='v2')"
      ],
      "metadata": {
        "id": "_3XShkLcRQMs"
      },
      "execution_count": 5,
      "outputs": []
    },
    {
      "cell_type": "code",
      "source": [
        "def prepost_train_test_validate_offset_data(api, ticker, interval, train_days=180, test_days=60, validate_days=30, offset_days = 0):\n",
        "    ticker_data_dict = None\n",
        "    ticker_data_dict = {}\n",
        "    monthly_data_dict = None\n",
        "    monthly_data_dict = {}\n",
        "    interval_loop_data = None\n",
        "    interval_loop_data = pd.DataFrame()\n",
        "    stock_data = None\n",
        "    \n",
        "    days_to_collect = train_days + test_days + validate_days + offset_days\n",
        "\n",
        "    TZ = 'US/Eastern'\n",
        "\n",
        "    start = pd.to_datetime((datetime.now() - timedelta(days=days_to_collect)).strftime(\"%Y-%m-%d %H:%M\"), utc=True)\n",
        "    end = pd.to_datetime(datetime.now().strftime(\"%Y-%m-%d %H:%M\"), utc=True)\n",
        "\n",
        "    stock_data = api.get_bars(ticker, interval, start = start.isoformat(), end=end.isoformat(), adjustment=\"raw\").df\n",
        "    \n",
        "    interval_loop_data = interval_loop_data.append(stock_data)\n",
        "    df_start_ref = interval_loop_data.index[0]\n",
        "    start_str_ref = pd.to_datetime(start, utc=True)\n",
        "\n",
        "    while start_str_ref.value < ( pd.to_datetime(df_start_ref, utc=True) - pd.Timedelta(days=2.5)).value:\n",
        "        end_new = pd.to_datetime(interval_loop_data.index[0].strftime(\"%Y-%m-%d %H:%M\"), utc=True).isoformat()\n",
        "        stock_data_new = None\n",
        "        stock_data_new = api.get_bars(ticker, interval, start=start, end=end_new, adjustment=\"raw\").df\n",
        "        #stock_data_new = stock_data_new.reset_index()\n",
        "        interval_loop_data = interval_loop_data.append(stock_data_new).sort_values(by=['index'], ascending=True)\n",
        "        df_start_ref = interval_loop_data.index[0]\n",
        "        \n",
        "    stock_yr_min_df = interval_loop_data.copy()\n",
        "    stock_yr_min_df[\"Open\"] = stock_yr_min_df['open']\n",
        "    stock_yr_min_df[\"High\"]= stock_yr_min_df[\"high\"]\n",
        "    stock_yr_min_df[\"Low\"] = stock_yr_min_df[\"low\"]\n",
        "    stock_yr_min_df[\"Close\"] = stock_yr_min_df[\"close\"]\n",
        "    stock_yr_min_df[\"Volume\"] = stock_yr_min_df[\"volume\"]\n",
        "    stock_yr_min_df[\"VolumeWeightedAvgPrice\"] = stock_yr_min_df[\"vwap\"]\n",
        "    stock_yr_min_df[\"Time\"] = stock_yr_min_df.index.tz_convert(TZ)\n",
        "    stock_yr_min_df.index = stock_yr_min_df.index.tz_convert(TZ)\n",
        "    final_df = stock_yr_min_df.filter([\"Time\", \"Open\", \"High\", \"Low\", \"Close\", \"Volume\", \"VolumeWeightedAvgPrice\"], axis = 1)\n",
        "    \n",
        "    first_day = final_df.index[0]\n",
        "    traintest_day = final_df.index[-1] - pd.Timedelta(days= test_days+validate_days+offset_days)\n",
        "    valtest_day = final_df.index[-1] - pd.Timedelta(days= test_days+offset_days)\n",
        "    last_day = final_df.index[-1] - pd.Timedelta(days= offset_days)\n",
        "    training_df =  final_df.loc[first_day:traintest_day] #(data_split - pd.Timedelta(days=1))]\n",
        "    validate_df = final_df.loc[traintest_day:valtest_day]\n",
        "    testing_df =  final_df.loc[valtest_day:last_day]\n",
        "    full_train = final_df.loc[first_day:last_day]\n",
        "    offset_df =  final_df.loc[last_day:]\n",
        "\n",
        "    return training_df, validate_df, testing_df, full_train, offset_df, final_df, traintest_day, valtest_day\n"
      ],
      "metadata": {
        "id": "tINNlljbRaDs"
      },
      "execution_count": 6,
      "outputs": []
    },
    {
      "cell_type": "code",
      "source": [
        "from datetime import date\n",
        "\n",
        "train_start = date(2017, 1, 1)\n",
        "train_end = date(2019, 10, 31)\n",
        "train_delta = train_end - train_start\n",
        "print(f'Number of days of Training Data {train_delta.days}')\n",
        "\n",
        "val_day_num = 400\n",
        "print(f'Number of days of Validation Data {val_day_num}')\n",
        "\n",
        "test_start = train_end + timedelta(val_day_num)\n",
        "test_end = date.today()\n",
        "test_delta = (test_end - test_start)\n",
        "print(f'Number of days of Holdout Test Data {test_delta.days}')\n",
        "\n",
        "ticker = \"USO\" # Ticker Symbol to Test\n",
        "interval = \"5Min\" # Interval of bars\n",
        "train_day_int = train_delta.days # Size of training set (Jan 2010 - Oct 2017)\n",
        "val_day_int = val_day_num # Size of validation set\n",
        "test_day_int = test_delta.days # Size of test set\n",
        "offset_day_int = 0 # Number of days to off set the training data\n",
        "train, val, test, full, offset, complete, traintest_day, testval_day = prepost_train_test_validate_offset_data(api, ticker, \n",
        "                                                                                     interval, \n",
        "                                                                                     train_days=train_day_int, \n",
        "                                                                                     test_days=test_day_int, \n",
        "                                                                                     validate_days=val_day_int,\n",
        "                                                                                     offset_days = offset_day_int)"
      ],
      "metadata": {
        "id": "rRFxnqAiRcnE",
        "outputId": "73cdb779-6c72-4940-b5a4-f130bf7aed9f",
        "colab": {
          "base_uri": "https://localhost:8080/"
        }
      },
      "execution_count": 7,
      "outputs": [
        {
          "output_type": "stream",
          "name": "stdout",
          "text": [
            "Number of days of Training Data 1033\n",
            "Number of days of Validation Data 400\n",
            "Number of days of Holdout Test Data 422\n"
          ]
        }
      ]
    },
    {
      "cell_type": "code",
      "source": [
        "def timeFilterAndBackfill(df):\n",
        "  \"\"\" \n",
        "  Prep df to be filled out for each trading day:\n",
        "  Time Frame: 0730-1730\n",
        "  Backfilling NaNs\n",
        "  Adjusting Volume to Zero if no Trading data is present\n",
        "     - Assumption is that there were no trades duing that time  \n",
        "  \"\"\"\n",
        "  \n",
        "  df = df.between_time('07:29','17:26')\n",
        "\n",
        "  TZ = 'US/Eastern'\n",
        "\n",
        "  start_dateTime = pd.Timestamp(year = df.index[0].year, \n",
        "                                month = df.index[0].month, \n",
        "                                day = df.index[0].day, \n",
        "                                hour = 7, minute = 25, tz = TZ)\n",
        "\n",
        "  end_dateTime = pd.Timestamp(year = df.index[-1].year, \n",
        "                              month = df.index[-1].month, \n",
        "                              day = df.index[-1].day, \n",
        "                              hour = 17, minute = 35, tz = TZ)\n",
        "\n",
        "  dateTime_index = pd.date_range(start_dateTime,\n",
        "                                end_dateTime, \n",
        "                                freq='5min').tolist()\n",
        "\n",
        "  dateTime_index_df = pd.DataFrame()\n",
        "  dateTime_index_df[\"Time\"] = dateTime_index \n",
        "  filtered_df = pd.merge_asof(dateTime_index_df, df,  \n",
        "                              on='Time', \n",
        "                              direction='backward').set_index(\"Time\").between_time('08:29','16:29')\n",
        "\n",
        "  volumeset_list = []\n",
        "  prev_v = None\n",
        "\n",
        "  for v in filtered_df[\"Volume\"]:\n",
        "    \n",
        "    if prev_v == None:\n",
        "      if math.isnan(v):\n",
        "        prev_v = 0\n",
        "        volumeset_list.append(0)\n",
        "      else:\n",
        "        prev_v = v\n",
        "        volumeset_list.append(v)\n",
        "\n",
        "    elif prev_v != None:\n",
        "      if v == prev_v:\n",
        "        volumeset_list.append(0)\n",
        "        prev_v = v\n",
        "      elif math.isnan(v):\n",
        "        volumeset_list.append(0)\n",
        "        prev_v = 0\n",
        "      else:\n",
        "        volumeset_list.append(v)\n",
        "        prev_v = v\n",
        "\n",
        "\n",
        "  filtered_df[\"Volume\"] = volumeset_list\n",
        "  adjvolumeset_list = []\n",
        "\n",
        "  prev_v = None\n",
        "\n",
        "  for v in filtered_df[\"VolumeWeightedAvgPrice\"]:\n",
        "    if prev_v == None:\n",
        "      if math.isnan(v):\n",
        "        prev_v = 0\n",
        "        adjvolumeset_list.append(0)\n",
        "      else:\n",
        "        prev_v = v\n",
        "        adjvolumeset_list.append(v)\n",
        "    elif prev_v != None:\n",
        "      if v == prev_v:\n",
        "        adjvolumeset_list.append(0)\n",
        "        prev_v = v\n",
        "      elif math.isnan(v):\n",
        "        adjvolumeset_list.append(0)\n",
        "        prev_v = 0\n",
        "      else:\n",
        "        adjvolumeset_list.append(v)\n",
        "        prev_v = v\n",
        "\n",
        "  filtered_df[\"VolumeWeightedAvgPrice\"] = adjvolumeset_list\n",
        "\n",
        "  preped_df = filtered_df.backfill()\n",
        "\n",
        "  return preped_df\n",
        "\n",
        "def blockshaped(arr, nrows, ncols):\n",
        "    \"\"\"\n",
        "    Return an array of shape (n, nrows, ncols) where\n",
        "    n * nrows * ncols = arr.size\n",
        "\n",
        "    If arr is a 2D array, the returned array should look like n subblocks with\n",
        "    each subblock preserving the \"physical\" layout of arr.\n",
        "    \"\"\"\n",
        "    h, w = arr.shape\n",
        "    assert h % nrows == 0, f\"{h} rows is not evenly divisible by {nrows}\"\n",
        "    assert w % ncols == 0, f\"{w} cols is not evenly divisible by {ncols}\"\n",
        "    return np.flip(np.rot90((arr.reshape(h//nrows, nrows, -1, ncols)\n",
        "               .swapaxes(1,2)\n",
        "               .reshape(-1, nrows, ncols)), axes = (1, 2)), axis = 1)\n",
        "  \n",
        "\n",
        "def buildOutData_TorchPrep(train_df = train, val_df = val, test_df = test):\n",
        "  pass"
      ],
      "metadata": {
        "id": "bbrVHNazd27v"
      },
      "execution_count": 8,
      "outputs": []
    },
    {
      "cell_type": "code",
      "source": [
        "train = timeFilterAndBackfill(train)\n",
        "val = timeFilterAndBackfill(val)\n",
        "test = timeFilterAndBackfill(test)"
      ],
      "metadata": {
        "id": "wW4vHhnfgne4"
      },
      "execution_count": 9,
      "outputs": []
    },
    {
      "cell_type": "code",
      "source": [
        "train_tonp = train[[\"Open\", \"High\", \"Low\", \"Close\", \"Volume\"]]\n",
        "val_tonp = val[[\"Open\", \"High\", \"Low\", \"Close\", \"Volume\"]]\n",
        "test_tonp = test[[\"Open\", \"High\", \"Low\", \"Close\", \"Volume\"]]\n",
        "train_array = train_tonp.to_numpy()\n",
        "val_array = val_tonp.to_numpy()\n",
        "test_array = test_tonp.to_numpy()\n",
        "X_train = blockshaped(train_array, 24, 5)\n",
        "X_val = blockshaped(val_array, 24, 5)\n",
        "X_test = blockshaped(test_array, 24, 5)"
      ],
      "metadata": {
        "id": "eYe9V9P9iFyn"
      },
      "execution_count": 10,
      "outputs": []
    },
    {
      "cell_type": "code",
      "source": [
        "# create target from OHLC and Volume Data\n",
        "def buildTargets(obs_array,  \n",
        "                 alph = .55, \n",
        "                 volity_int = 8):\n",
        "\n",
        "  \"\"\" \n",
        "  This function will take a complete set of train, val, and test \n",
        "  data and return the targets. Volitility will be calculated over \n",
        "  the 24 5min incriments. The Target shift is looking at 2 hours \n",
        "  shift from current time\n",
        "\n",
        "  shift_2hour = The amount of time the data interval take to equal 2 hours \n",
        "                (i.e. 5 min data interval is equal to 24)\n",
        "  alph = The alpha value for calculating the shift in price\n",
        "  volity_int = the number of incriments used to calculate volitility \n",
        "  \"\"\"\n",
        "\n",
        "  target_close_list =[]\n",
        "\n",
        "  for arr in obs_array:\n",
        "    target_close_list.append(arr[3][-1])\n",
        "  \n",
        "  target_close_df = pd.DataFrame()\n",
        "  target_close_df[\"Close\"] = target_close_list\n",
        "\n",
        "  returns = np.log(target_close_df['Close']/(target_close_df['Close'].shift(1)))\n",
        "  returns.fillna(0, inplace=True)\n",
        "  volatility = returns.rolling(window=volity_int).std()*np.sqrt(volity_int)\n",
        "  \n",
        "  targets = [2] * len(target_close_df.Close)\n",
        "\n",
        "  targets = np.where(target_close_df.Close.shift(-1) >= (target_close_df.Close * (1 + alph * volatility)), \n",
        "           1, targets)\n",
        "  \n",
        "  targets = np.where(target_close_df.Close.shift(-1) <= (target_close_df.Close * (1 - alph * volatility)), \n",
        "           0, targets)\n",
        "\n",
        "  return targets"
      ],
      "metadata": {
        "id": "Pe89LdnsLltO"
      },
      "execution_count": 11,
      "outputs": []
    },
    {
      "cell_type": "code",
      "source": [
        "volity_val = 2\n",
        "y_train = buildTargets(X_train, volity_int = volity_val)\n",
        "y_val = buildTargets(X_val, volity_int = volity_val)\n",
        "y_test = buildTargets(X_test, volity_int = volity_val)"
      ],
      "metadata": {
        "id": "4aYPOa7INyAl"
      },
      "execution_count": 12,
      "outputs": []
    },
    {
      "cell_type": "code",
      "source": [
        "######\n",
        "# Code fro scaling at a later date\n",
        "######\n",
        "\n",
        "# from sklearn.preprocessing import MinMaxScaler\n",
        "\n",
        "# scalers = {}\n",
        "# for i in range(X_train.shape[1]):\n",
        "#     scalers[i] = MinMaxScaler()\n",
        "#     X_train[:, i, :] = scalers[i].fit_transform(X_train[:, i, :]) \n",
        "\n",
        "# for i in range(X_val.shape[1]):\n",
        "#     X_test[:, i, :] = scalers[i].transform(X_test[:, i, :]) \n",
        "\n",
        "# for i in range(X_test.shape[1]):\n",
        "#     X_test[:, i, :] = scalers[i].transform(X_test[:, i, :]) "
      ],
      "metadata": {
        "id": "iSXapYOwjsnF"
      },
      "execution_count": 13,
      "outputs": []
    },
    {
      "cell_type": "code",
      "source": [
        "X_train = X_train.reshape(X_train.shape[0], 1,\n",
        "                          X_train.shape[1], \n",
        "                          X_train.shape[2])\n",
        "X_val = X_val.reshape(X_val.shape[0], 1,\n",
        "                          X_val.shape[1], \n",
        "                          X_val.shape[2])\n",
        "X_test = X_test.reshape(X_test.shape[0], 1,\n",
        "                          X_test.shape[1], \n",
        "                          X_test.shape[2])"
      ],
      "metadata": {
        "id": "SxB_AzoBf4Xe"
      },
      "execution_count": 14,
      "outputs": []
    },
    {
      "cell_type": "code",
      "source": [
        "print(f'X Train Length {X_train.shape}, y Train Label Length {y_train.shape}')\n",
        "print(f'X Val Length {X_val.shape}, y Val Label Length {y_val.shape}')\n",
        "print(f'X Test Length {X_test.shape}, y Test Label Length {y_test.shape}')"
      ],
      "metadata": {
        "colab": {
          "base_uri": "https://localhost:8080/"
        },
        "id": "XIYp1XKJPCNL",
        "outputId": "5cfc1d66-2283-41bb-fa0c-025559483105"
      },
      "execution_count": 15,
      "outputs": [
        {
          "output_type": "stream",
          "name": "stdout",
          "text": [
            "X Train Length (4120, 1, 5, 24), y Train Label Length (4120,)\n",
            "X Val Length (1600, 1, 5, 24), y Val Label Length (1600,)\n",
            "X Test Length (1688, 1, 5, 24), y Test Label Length (1688,)\n"
          ]
        }
      ]
    },
    {
      "cell_type": "code",
      "source": [
        "X_train[0]"
      ],
      "metadata": {
        "colab": {
          "base_uri": "https://localhost:8080/"
        },
        "id": "aYHL1ekIYzDV",
        "outputId": "00dea5e4-0d74-46bd-fe35-ccd0838650fb"
      },
      "execution_count": 16,
      "outputs": [
        {
          "output_type": "execute_result",
          "data": {
            "text/plain": [
              "array([[[1.197000e+01, 1.197000e+01, 1.172000e+01, 1.196000e+01,\n",
              "         1.196000e+01, 1.194000e+01, 1.195000e+01, 1.200000e+01,\n",
              "         1.201000e+01, 1.200000e+01, 1.199000e+01, 1.200000e+01,\n",
              "         1.198000e+01, 1.200000e+01, 1.195000e+01, 1.196000e+01,\n",
              "         1.198900e+01, 1.197010e+01, 1.197000e+01, 1.199000e+01,\n",
              "         1.198680e+01, 1.199000e+01, 1.198000e+01, 1.195000e+01],\n",
              "        [1.197000e+01, 1.197000e+01, 1.197000e+01, 1.196000e+01,\n",
              "         1.196000e+01, 1.194000e+01, 1.200000e+01, 1.201000e+01,\n",
              "         1.201000e+01, 1.200000e+01, 1.200000e+01, 1.200000e+01,\n",
              "         1.200000e+01, 1.200000e+01, 1.197000e+01, 1.199000e+01,\n",
              "         1.200000e+01, 1.198000e+01, 1.199000e+01, 1.200000e+01,\n",
              "         1.199450e+01, 1.199000e+01, 1.198000e+01, 1.196960e+01],\n",
              "        [1.197000e+01, 1.196000e+01, 1.172000e+01, 1.195000e+01,\n",
              "         1.192000e+01, 1.194000e+01, 1.195000e+01, 1.200000e+01,\n",
              "         1.200000e+01, 1.199000e+01, 1.199000e+01, 1.198000e+01,\n",
              "         1.198000e+01, 1.195000e+01, 1.194500e+01, 1.196000e+01,\n",
              "         1.197000e+01, 1.196000e+01, 1.197000e+01, 1.198000e+01,\n",
              "         1.198000e+01, 1.196000e+01, 1.195000e+01, 1.193100e+01],\n",
              "        [1.197000e+01, 1.196000e+01, 1.197000e+01, 1.196000e+01,\n",
              "         1.192000e+01, 1.194000e+01, 1.199000e+01, 1.201000e+01,\n",
              "         1.200000e+01, 1.199000e+01, 1.199000e+01, 1.198000e+01,\n",
              "         1.199000e+01, 1.195000e+01, 1.196500e+01, 1.199000e+01,\n",
              "         1.198000e+01, 1.196500e+01, 1.199000e+01, 1.198500e+01,\n",
              "         1.198000e+01, 1.198390e+01, 1.195000e+01, 1.195500e+01],\n",
              "        [1.130000e+04, 2.000000e+03, 1.235600e+04, 3.231000e+03,\n",
              "         6.618000e+04, 3.376000e+04, 1.687220e+05, 6.622000e+04,\n",
              "         1.611900e+05, 3.290860e+05, 4.640300e+04, 1.714950e+05,\n",
              "         1.203858e+06, 4.401680e+05, 6.107720e+05, 2.353950e+05,\n",
              "         9.780340e+05, 1.727600e+05, 5.163040e+05, 2.908250e+05,\n",
              "         4.092600e+05, 5.702530e+05, 3.936330e+05, 2.958540e+05]]])"
            ]
          },
          "metadata": {},
          "execution_count": 16
        }
      ]
    },
    {
      "cell_type": "code",
      "source": [
        "def get_class_distribution(obj):\n",
        "    count_dict = {\n",
        "        \"up\": 0,\n",
        "        \"flat\": 0,\n",
        "        \"down\": 0,\n",
        "    }\n",
        "    \n",
        "    for i in obj:\n",
        "        if i == 1: \n",
        "            count_dict['up'] += 1\n",
        "        elif i == 0: \n",
        "            count_dict['down'] += 1\n",
        "        elif i == 2: \n",
        "            count_dict['flat'] += 1             \n",
        "        else:\n",
        "            print(\"Check classes.\")\n",
        "            \n",
        "    return count_dict"
      ],
      "metadata": {
        "id": "vWIY2rwEYCfM"
      },
      "execution_count": 17,
      "outputs": []
    },
    {
      "cell_type": "code",
      "source": [
        "fig, axes = plt.subplots(nrows=1, ncols=3, figsize=(25,7))\n",
        "# Train\n",
        "sns.barplot(data = pd.DataFrame.from_dict([get_class_distribution(y_train)]).melt(), x = \"variable\", y=\"value\", hue=\"variable\",  ax=axes[0]).set_title('Class Distribution in Train Set')\n",
        "# Validation\n",
        "sns.barplot(data = pd.DataFrame.from_dict([get_class_distribution(y_val)]).melt(), x = \"variable\", y=\"value\", hue=\"variable\",  ax=axes[1]).set_title('Class Distribution in Val Set')\n",
        "# Test\n",
        "sns.barplot(data = pd.DataFrame.from_dict([get_class_distribution(y_test)]).melt(), x = \"variable\", y=\"value\", hue=\"variable\",  ax=axes[2]).set_title('Class Distribution in Test Set')"
      ],
      "metadata": {
        "id": "-BsVCfr8YCiX",
        "outputId": "717eaacb-b09d-4cdb-d675-94fddc676b99",
        "colab": {
          "base_uri": "https://localhost:8080/",
          "height": 476
        }
      },
      "execution_count": 18,
      "outputs": [
        {
          "output_type": "execute_result",
          "data": {
            "text/plain": [
              "Text(0.5, 1.0, 'Class Distribution in Test Set')"
            ]
          },
          "metadata": {},
          "execution_count": 18
        },
        {
          "output_type": "display_data",
          "data": {
            "image/png": "[encoded data removed]",
            "text/plain": [
              "<Figure size 1800x504 with 3 Axes>"
            ]
          },
          "metadata": {
            "needs_background": "light"
          }
        }
      ]
    },
    {
      "cell_type": "code",
      "source": [
        "X_train.shape"
      ],
      "metadata": {
        "colab": {
          "base_uri": "https://localhost:8080/"
        },
        "id": "_8ragjY1i-0F",
        "outputId": "62b2842c-87d1-4e04-87c2-b71792eab3aa"
      },
      "execution_count": 19,
      "outputs": [
        {
          "output_type": "execute_result",
          "data": {
            "text/plain": [
              "(4120, 1, 5, 24)"
            ]
          },
          "metadata": {},
          "execution_count": 19
        }
      ]
    },
    {
      "cell_type": "code",
      "source": [
        "print(f'X Train Length {X_train.shape}, y Train Label Length {y_train.shape}')\n",
        "print(f'X Val Length {X_val.shape}, y Val Label Length {y_val.shape}')\n",
        "print(f'X Test Length {X_test.shape}, y Test Label Length {y_test.shape}')\n",
        "print(\"\")\n",
        "print('Training data window: ', len(X_train))\n",
        "print('Val data windows: ', len(X_val))"
      ],
      "metadata": {
        "colab": {
          "base_uri": "https://localhost:8080/"
        },
        "id": "84ThCmAdYCX9",
        "outputId": "251d6e21-4bbe-4962-dfd8-9a8125cc0036"
      },
      "execution_count": 20,
      "outputs": [
        {
          "output_type": "stream",
          "name": "stdout",
          "text": [
            "X Train Length (4120, 1, 5, 24), y Train Label Length (4120,)\n",
            "X Val Length (1600, 1, 5, 24), y Val Label Length (1600,)\n",
            "X Test Length (1688, 1, 5, 24), y Test Label Length (1688,)\n",
            "\n",
            "Training data window:  4120\n",
            "Val data windows:  1600\n"
          ]
        }
      ]
    },
    {
      "cell_type": "code",
      "source": [
        "y_train[0].dtype"
      ],
      "metadata": {
        "colab": {
          "base_uri": "https://localhost:8080/"
        },
        "id": "EAdhr0KLy-72",
        "outputId": "628bc997-744a-4169-ea89-49440b81fe1a"
      },
      "execution_count": 21,
      "outputs": [
        {
          "output_type": "execute_result",
          "data": {
            "text/plain": [
              "dtype('int64')"
            ]
          },
          "metadata": {},
          "execution_count": 21
        }
      ]
    },
    {
      "cell_type": "code",
      "source": [
        "batch_size = 5\n",
        "\n",
        "train_data = []\n",
        "for i in range(len(X_train)):\n",
        "   train_data.append([X_train[i].astype('float'), y_train[i]])\n",
        "\n",
        "train_loader = torch.utils.data.DataLoader(train_data, shuffle=False, batch_size=batch_size)\n",
        "i1, l1 = next(iter(train_loader))\n",
        "print(i1.shape)\n",
        "\n",
        "val_data = []\n",
        "for i in range(len(X_val)):\n",
        "   val_data.append([X_val[i].astype('float'), y_val[i]])\n",
        "\n",
        "val_loader = torch.utils.data.DataLoader(val_data, shuffle=False, batch_size=batch_size)\n",
        "i1, l1 = next(iter(val_loader))\n",
        "print(i1.shape)"
      ],
      "metadata": {
        "colab": {
          "base_uri": "https://localhost:8080/"
        },
        "id": "5Zun8GwOiBlW",
        "outputId": "28c561a3-8c75-4bac-eb98-a9914b80b4c2"
      },
      "execution_count": 22,
      "outputs": [
        {
          "output_type": "stream",
          "name": "stdout",
          "text": [
            "torch.Size([5, 1, 5, 24])\n",
            "torch.Size([5, 1, 5, 24])\n"
          ]
        }
      ]
    },
    {
      "cell_type": "code",
      "source": [
        "# Get next batch of training images\n",
        "windows, labels = iter(train_loader).next()\n",
        "print(windows.shape)\n",
        "windows = windows.numpy()\n",
        "\n",
        "# plot the windows in the batch, along with the corresponding labels\n",
        "fig = plt.figure(figsize=(15, 5))\n",
        "for idx in range(batch_size):\n",
        "    print(labels[idx])"
      ],
      "metadata": {
        "colab": {
          "base_uri": "https://localhost:8080/",
          "height": 146
        },
        "id": "BaDGe3DSpg6f",
        "outputId": "d18f15f9-f37c-4f33-d207-94f328a5a37d"
      },
      "execution_count": 23,
      "outputs": [
        {
          "output_type": "stream",
          "name": "stdout",
          "text": [
            "torch.Size([5, 1, 5, 24])\n",
            "tensor(2)\n",
            "tensor(2)\n",
            "tensor(2)\n",
            "tensor(0)\n",
            "tensor(1)\n"
          ]
        },
        {
          "output_type": "display_data",
          "data": {
            "text/plain": [
              "<Figure size 1080x360 with 0 Axes>"
            ]
          },
          "metadata": {}
        }
      ]
    },
    {
      "cell_type": "code",
      "source": [
        "class StockShiftClassification(nn.Module):\n",
        "  def __init__(self):\n",
        "    super(StockShiftClassification, self).__init__()\n",
        "\n",
        "    self.conv1 = nn.Conv2d(1, 32, kernel_size = (1,3), stride=1, padding = 1)\n",
        "    self.pool1 = nn.MaxPool2d(4,4)\n",
        "\n",
        "    self.conv2 = nn.Conv2d(32, 64, kernel_size = (1,3), stride=1, padding = 1)\n",
        "    self.pool2 = nn.MaxPool2d(3,3)  \n",
        "\n",
        "    self.conv3 = nn.Conv2d(64, 128, kernel_size = (1,3), stride=1, padding = 1)\n",
        "    self.pool3 = nn.MaxPool2d(2,2)\n",
        "\n",
        "    self.fc1 = nn.Linear(128,1000)\n",
        "    self.fc2 = nn.Linear(1000,500)\n",
        "\n",
        "\n",
        "  def forward(self, x):\n",
        "\n",
        "    x = F.relu(self.conv1(x))\n",
        "    x = self.pool1(x)\n",
        "    x = F.relu(self.conv2(x))\n",
        "    x = self.pool2(x)\n",
        "    x = F.relu(self.conv3(x))\n",
        "    x = self.pool3(x)\n",
        "\n",
        "    x = x.view(x.size(0), -1)\n",
        "\n",
        "    # Linear layer\n",
        "    x = self.fc1(x)\n",
        "    x = self.fc2(x)\n",
        "\n",
        "    output = F.log_softmax(x, dim=1)\n",
        "\n",
        "    return output\n"
      ],
      "metadata": {
        "id": "YSLUlwla8BSU"
      },
      "execution_count": 24,
      "outputs": []
    },
    {
      "cell_type": "code",
      "source": [
        "# Instantiate the model\n",
        "net = StockShiftClassification().float()\n",
        "\n",
        "# Display a summary of the layers of the model and output shape after each layer\n",
        "summary(net,(windows.shape[1:]),batch_size=batch_size,device=\"cpu\")"
      ],
      "metadata": {
        "colab": {
          "base_uri": "https://localhost:8080/"
        },
        "id": "IAw7OiPS8BNu",
        "outputId": "c95c287f-1039-400d-8728-be4f1d6a432e"
      },
      "execution_count": 25,
      "outputs": [
        {
          "output_type": "stream",
          "name": "stdout",
          "text": [
            "----------------------------------------------------------------\n",
            "        Layer (type)               Output Shape         Param #\n",
            "================================================================\n",
            "            Conv2d-1             [5, 32, 7, 24]             128\n",
            "         MaxPool2d-2              [5, 32, 1, 6]               0\n",
            "            Conv2d-3              [5, 64, 3, 6]           6,208\n",
            "         MaxPool2d-4              [5, 64, 1, 2]               0\n",
            "            Conv2d-5             [5, 128, 3, 2]          24,704\n",
            "         MaxPool2d-6             [5, 128, 1, 1]               0\n",
            "            Linear-7                  [5, 1000]         129,000\n",
            "            Linear-8                   [5, 500]         500,500\n",
            "================================================================\n",
            "Total params: 660,540\n",
            "Trainable params: 660,540\n",
            "Non-trainable params: 0\n",
            "----------------------------------------------------------------\n",
            "Input size (MB): 0.00\n",
            "Forward/backward pass size (MB): 0.35\n",
            "Params size (MB): 2.52\n",
            "Estimated Total Size (MB): 2.87\n",
            "----------------------------------------------------------------\n"
          ]
        }
      ]
    },
    {
      "cell_type": "code",
      "source": [
        "# Cross entropy loss combines softmax and nn.NLLLoss() in one single class.\n",
        "criterion = nn.CrossEntropyLoss()\n",
        "\n",
        "# Define optimizer\n",
        "optimizer = optim.SGD(net.parameters(), lr=0.01)"
      ],
      "metadata": {
        "id": "rZGSLKkq8BIu"
      },
      "execution_count": 26,
      "outputs": []
    },
    {
      "cell_type": "code",
      "source": [
        "def train_model(model,criterion,optimizer,train_loader,n_epochs,device):\n",
        "    \n",
        "    loss_over_time = [] # to track the loss as the network trains\n",
        "    \n",
        "    model = model.to(device).double() # Send model to GPU if available\n",
        "    model.train() # Set the model to training mode\n",
        "    \n",
        "    for epoch in range(n_epochs):  # loop over the dataset multiple times\n",
        "        \n",
        "        running_loss = 0.0\n",
        "        \n",
        "        for i, data in enumerate(train_loader):\n",
        "            \n",
        "            # Get the input images and labels, and send to GPU if available\n",
        "            inputs, labels = data[0].to(device), data[1].to(device)\n",
        "\n",
        "            # Zero the weight gradients\n",
        "            optimizer.zero_grad()\n",
        "\n",
        "            # Forward pass to get outputs\n",
        "            outputs = model(inputs)\n",
        "\n",
        "            # Calculate the loss\n",
        "            loss = criterion(outputs, labels)\n",
        "\n",
        "            # Backpropagation to get the gradients with respect to each weight\n",
        "            loss.backward()\n",
        "\n",
        "            # Update the weights\n",
        "            optimizer.step()\n",
        "\n",
        "            # Convert loss into a scalar and add it to running_loss\n",
        "            running_loss += loss.item()\n",
        "            \n",
        "            if i % 1000 == 999:    # print every 1000 batches\n",
        "                avg_loss = running_loss/1000\n",
        "                # record and print the avg loss over the 1000 batches\n",
        "                loss_over_time.append(avg_loss)\n",
        "                print('Epoch: {}, Batch: {}, Avg. Loss: {:.4f}'.format(epoch + 1, i+1, avg_loss))\n",
        "                running_loss = 0.0\n",
        "\n",
        "    return loss_over_time"
      ],
      "metadata": {
        "id": "lAgQIWqA8BEW"
      },
      "execution_count": 27,
      "outputs": []
    },
    {
      "cell_type": "code",
      "source": [
        "# Train the model\n",
        "device = torch.device(\"cuda\" if torch.cuda.is_available() else \"cpu\")\n",
        "n_epochs = 100\n",
        "cost_path = train_model(net.float(),criterion,optimizer,train_loader,n_epochs,device)\n",
        "\n",
        "# visualize the loss as the network trained\n",
        "plt.plot(cost_path)\n",
        "plt.xlabel('Batch (1000s)')\n",
        "plt.ylabel('loss')\n",
        "plt.show()"
      ],
      "metadata": {
        "id": "Mx3XtDf_8A_O"
      },
      "execution_count": null,
      "outputs": []
    },
    {
      "cell_type": "code",
      "source": [
        "def test_model(model,test_loader,device):\n",
        "    # Turn autograd off\n",
        "    with torch.no_grad():\n",
        "\n",
        "        # Set the model to evaluation mode\n",
        "        model = model.to(device)\n",
        "        model.eval()\n",
        "\n",
        "        # Set up lists to store true and predicted values\n",
        "        y_true = []\n",
        "        test_preds = []\n",
        "\n",
        "        # Calculate the predictions on the test set and add to list\n",
        "        for data in test_loader:\n",
        "            inputs, labels = data[0].to(device), data[1].to(device)\n",
        "            # Feed inputs through model to get raw scores\n",
        "            logits = model.forward(inputs)\n",
        "            # Convert raw scores to probabilities (not necessary since we just care about discrete probs in this case)\n",
        "            probs = F.softmax(logits,dim=1)\n",
        "            print(probs)\n",
        "            # Get discrete predictions using argmax\n",
        "            preds = np.argmax(probs.cpu().numpy(),axis=1)\n",
        "            # Add predictions and actuals to lists\n",
        "            test_preds.extend(preds)\n",
        "            y_true.extend(labels)\n",
        "\n",
        "        # Calculate the accuracy\n",
        "        test_preds = np.array(test_preds)\n",
        "        y_true = np.array(y_true)\n",
        "        test_acc = np.sum(test_preds == y_true)/y_true.shape[0]\n",
        "        \n",
        "        # Recall for each class\n",
        "        recall_vals = []\n",
        "        for i in range(3):\n",
        "            class_idx = np.argwhere(y_true==i)\n",
        "            total = len(class_idx)\n",
        "            correct = np.sum(test_preds[class_idx]==i)\n",
        "            recall = correct / total\n",
        "            recall_vals.append(recall)\n",
        "    \n",
        "    return test_acc,recall_vals"
      ],
      "metadata": {
        "id": "Sg6m09eT8A4W"
      },
      "execution_count": null,
      "outputs": []
    },
    {
      "cell_type": "code",
      "source": [
        "classes = [0,1,2]"
      ],
      "metadata": {
        "id": "pGIu_p7XCACy"
      },
      "execution_count": null,
      "outputs": []
    },
    {
      "cell_type": "code",
      "source": [
        "# Calculate the test set accuracy and recall for each class\n",
        "acc,recall_vals = test_model(net,val_loader,device)\n",
        "print('Test set accuracy is {:.3f}'.format(acc))\n",
        "for i in range(3):\n",
        "    print('For class {}, recall is {}'.format(classes[i],recall_vals[i]))"
      ],
      "metadata": {
        "colab": {
          "base_uri": "https://localhost:8080/"
        },
        "id": "uvnTKH0fBzo2",
        "outputId": "c31fecb3-ab6a-4d8e-8416-005efb596c76"
      },
      "execution_count": null,
      "outputs": [
        {
          "output_type": "stream",
          "name": "stdout",
          "text": [
            "Test set accuracy is 0.174\n",
            "For class 0, recall is 0.0\n",
            "For class 1, recall is 1.0\n",
            "For class 2, recall is 0.0\n"
          ]
        }
      ]
    },
    {
      "cell_type": "markdown",
      "source": [
        "# Working Code"
      ],
      "metadata": {
        "id": "6BCMz6zXgtxA"
      }
    },
    {
      "cell_type": "markdown",
      "source": [
        "# Loading and Preparing The Data"
      ],
      "metadata": {
        "id": "IMY3MYh4D7sR"
      }
    },
    {
      "cell_type": "markdown",
      "source": [
        "# Mulitclass Classification (None CDT 1D CNN)"
      ],
      "metadata": {
        "id": "W-hurH5w70Ir"
      }
    },
    {
      "cell_type": "code",
      "source": [
        "full.columns"
      ],
      "metadata": {
        "colab": {
          "base_uri": "https://localhost:8080/"
        },
        "id": "1TfD1r6R9IbN",
        "outputId": "fde42bac-23b9-4821-e276-e62a1e05ccff"
      },
      "execution_count": null,
      "outputs": [
        {
          "output_type": "execute_result",
          "data": {
            "text/plain": [
              "Index(['Time', 'Open', 'High', 'Low', 'Close', 'Volume',\n",
              "       'VolumeWeightedAvgPrice'],\n",
              "      dtype='object')"
            ]
          },
          "metadata": {},
          "execution_count": 13
        }
      ]
    },
    {
      "cell_type": "code",
      "source": [
        "full[\"Open\"]"
      ],
      "metadata": {
        "colab": {
          "base_uri": "https://localhost:8080/"
        },
        "id": "KybVva6t9Xwx",
        "outputId": "04188c38-aa11-4833-85de-6ad39f479301"
      },
      "execution_count": null,
      "outputs": [
        {
          "output_type": "execute_result",
          "data": {
            "text/plain": [
              "timestamp\n",
              "2016-04-25 10:30:00-04:00     68.81\n",
              "2016-04-25 10:35:00-04:00     68.88\n",
              "2016-04-25 10:40:00-04:00     68.91\n",
              "2016-04-25 10:45:00-04:00     68.90\n",
              "2016-04-25 10:50:00-04:00     68.94\n",
              "                              ...  \n",
              "2021-01-19 08:50:00-05:00    145.00\n",
              "2021-01-19 09:00:00-05:00    144.98\n",
              "2021-01-19 09:10:00-05:00    144.98\n",
              "2021-01-19 09:15:00-05:00    144.93\n",
              "2021-01-19 09:20:00-05:00    144.81\n",
              "Name: Open, Length: 124174, dtype: float64"
            ]
          },
          "metadata": {},
          "execution_count": 14
        }
      ]
    },
    {
      "cell_type": "code",
      "source": [
        "from sklearn.preprocessing import MinMaxScaler\n",
        "\n",
        "scaled_df = pd.DataFrame()\n",
        "\n",
        "scaler = MinMaxScaler()\n",
        "\n",
        "scaled_train = scaler.fit_transform(train[['Open', 'High', 'Low', 'Close', 'Volume']])\n",
        "scaled_val = scaler.fit_transform(val[['Open', 'High', 'Low', 'Close', 'Volume']])\n",
        "scaled_test = scaler.fit_transform(test[['Open', 'High', 'Low', 'Close', 'Volume']])"
      ],
      "metadata": {
        "id": "YYCBKN4uu-FE"
      },
      "execution_count": null,
      "outputs": []
    },
    {
      "cell_type": "code",
      "source": [
        "train_targets_df = pd.DataFrame(train_targets)\n",
        "val_targets_df = pd.DataFrame(val_targets)\n",
        "test_targets_df = pd.DataFrame(test_targets)\n",
        "\n",
        "class2idx = {\n",
        "    \"up\":0,\n",
        "    \"flat\":1,\n",
        "    \"down\":2,\n",
        "}\n",
        "\n",
        "idx2class = {v: k for k, v in class2idx.items()}\n",
        "\n",
        "train_targets_df.replace(class2idx, inplace=True)\n",
        "val_targets_df.replace(class2idx, inplace=True)\n",
        "test_targets_df.replace(class2idx, inplace=True)"
      ],
      "metadata": {
        "id": "TCETOevJpk81"
      },
      "execution_count": null,
      "outputs": []
    },
    {
      "cell_type": "code",
      "source": [
        "train_targets_df[0].value_counts().plot(kind = 'bar')"
      ],
      "metadata": {
        "colab": {
          "base_uri": "https://localhost:8080/",
          "height": 279
        },
        "id": "V9bV2_jpp6Qx",
        "outputId": "bde9e731-1d9c-448f-d877-e65c51fe7cba"
      },
      "execution_count": null,
      "outputs": [
        {
          "output_type": "execute_result",
          "data": {
            "text/plain": [
              "<matplotlib.axes._subplots.AxesSubplot at 0x7f40c529f910>"
            ]
          },
          "metadata": {},
          "execution_count": 17
        },
        {
          "output_type": "display_data",
          "data": {
            "image/png": "[encoded data removed]",
            "text/plain": [
              "<Figure size 432x288 with 1 Axes>"
            ]
          },
          "metadata": {
            "needs_background": "light"
          }
        }
      ]
    },
    {
      "cell_type": "code",
      "source": [
        "def multi_acc(y_pred, y_test):\n",
        "    y_pred_softmax = torch.log_softmax(y_pred, dim = 1)\n",
        "    _, y_pred_tags = torch.max(y_pred_softmax, dim = 1)    \n",
        "    \n",
        "    correct_pred = (y_pred_tags == y_test).float()\n",
        "    acc = correct_pred.sum() / len(correct_pred)\n",
        "    \n",
        "    acc = torch.round(acc * 100)\n",
        "    \n",
        "    return acc"
      ],
      "metadata": {
        "id": "Jx5CwK8Qvxos"
      },
      "execution_count": null,
      "outputs": []
    },
    {
      "cell_type": "code",
      "source": [
        "accuracy_stats = {\n",
        "    'train': [],\n",
        "    \"val\": []\n",
        "}\n",
        "loss_stats = {\n",
        "    'train': [],\n",
        "    \"val\": []\n",
        "}"
      ],
      "metadata": {
        "id": "wYRwPyN5vzAX"
      },
      "execution_count": null,
      "outputs": []
    },
    {
      "cell_type": "code",
      "source": [
        "print(\"Begin training.\")\n",
        "\n",
        "for e in tqdm(range(1, EPOCHS+1)):\n",
        "  \n",
        "  # TRAINING\n",
        "  train_epoch_loss = 0\n",
        "  train_epoch_acc = 0\n",
        "\n",
        "\n",
        "  model.train()\n",
        "  for X_train_batch, y_train_batch in train_loader:\n",
        "      X_train_batch, y_train_batch = X_train_batch.to(device), y_train_batch.to(device)\n",
        "      optimizer.zero_grad()\n",
        "      \n",
        "      y_train_pred = model(X_train_batch)\n",
        "      \n",
        "      train_loss = criterion(y_train_pred, y_train_batch)\n",
        "      train_acc = multi_acc(y_train_pred, y_train_batch)\n",
        "      \n",
        "      train_loss.backward()\n",
        "      optimizer.step()\n",
        "      \n",
        "      train_epoch_loss += train_loss.item()\n",
        "      train_epoch_acc += train_acc.item()\n",
        "      \n",
        "      \n",
        "  # VALIDATION    \n",
        "  with torch.no_grad():\n",
        "      \n",
        "      val_epoch_loss = 0\n",
        "      val_epoch_acc = 0\n",
        "      \n",
        "      model.eval()\n",
        "      for X_val_batch, y_val_batch in val_loader:\n",
        "          X_val_batch, y_val_batch = X_val_batch.to(device), y_val_batch.to(device)\n",
        "          \n",
        "          y_val_pred = model(X_val_batch)\n",
        "                      \n",
        "          val_loss = criterion(y_val_pred, y_val_batch)\n",
        "          val_acc = multi_acc(y_val_pred, y_val_batch)\n",
        "          \n",
        "          val_epoch_loss += val_loss.item()\n",
        "          val_epoch_acc += val_acc.item()\n",
        "\n",
        "  loss_stats['train'].append(train_epoch_loss/len(train_loader))\n",
        "  loss_stats['val'].append(val_epoch_loss/len(val_loader))\n",
        "  accuracy_stats['train'].append(train_epoch_acc/len(train_loader))\n",
        "  accuracy_stats['val'].append(val_epoch_acc/len(val_loader))\n",
        "                            \n",
        "\n",
        "  print(f'Epoch {e+0:03}: | Train Loss: {train_epoch_loss/len(train_loader):.5f} | Val Loss: {val_epoch_loss/len(val_loader):.5f} | Train Acc: {train_epoch_acc/len(train_loader):.3f}| Val Acc: {val_epoch_acc/len(val_loader):.3f}')"
      ],
      "metadata": {
        "colab": {
          "base_uri": "https://localhost:8080/",
          "height": 1000,
          "referenced_widgets": [
            "35b0c6a641f74b7a8a5a17696c771999",
            "5435c22875e1449bba6f514dc362fb86",
            "2174b8eaf379476aa207a7d3553a23cb",
            "d2eea602e1f44679b9dca81d02cef6a9",
            "4c4ee8d44be44753b86d2334ed5201d9",
            "2d07aa40726741bba6d08a741f239b2a",
            "ae9e58658d6e45a0ae4f071d65facbd8",
            "39c656c52a3b41f4912ae2f141bf1291",
            "101532c20c604f9cbddaae38f83cb611",
            "a809155bf81340c88a359f8e8b52b1a7",
            "8a927038a7cb49a6a64673ce556a0c8e"
          ]
        },
        "id": "8f5oKsuRvz21",
        "outputId": "b29c559b-8c71-422a-eb0f-83e583c0dd34"
      },
      "execution_count": null,
      "outputs": [
        {
          "output_type": "stream",
          "name": "stdout",
          "text": [
            "Begin training.\n"
          ]
        },
        {
          "output_type": "display_data",
          "data": {
            "application/vnd.jupyter.widget-view+json": {
              "model_id": "35b0c6a641f74b7a8a5a17696c771999",
              "version_minor": 0,
              "version_major": 2
            },
            "text/plain": [
              "  0%|          | 0/300 [00:00<?, ?it/s]"
            ]
          },
          "metadata": {}
        },
        {
          "output_type": "stream",
          "name": "stdout",
          "text": [
            "Epoch 001: | Train Loss: 1.03773 | Val Loss: 18.28548 | Train Acc: 46.339| Val Acc: 35.978\n",
            "Epoch 002: | Train Loss: 1.03568 | Val Loss: 14.71919 | Train Acc: 46.572| Val Acc: 35.846\n",
            "Epoch 003: | Train Loss: 1.03342 | Val Loss: 16.51808 | Train Acc: 46.793| Val Acc: 36.061\n",
            "Epoch 004: | Train Loss: 1.03213 | Val Loss: 21.83980 | Train Acc: 46.823| Val Acc: 36.041\n",
            "Epoch 005: | Train Loss: 1.03002 | Val Loss: 22.58325 | Train Acc: 47.167| Val Acc: 35.862\n",
            "Epoch 006: | Train Loss: 1.02964 | Val Loss: 22.80922 | Train Acc: 47.228| Val Acc: 35.958\n",
            "Epoch 007: | Train Loss: 1.02630 | Val Loss: 22.72420 | Train Acc: 47.528| Val Acc: 35.934\n",
            "Epoch 008: | Train Loss: 1.02479 | Val Loss: 22.38807 | Train Acc: 47.576| Val Acc: 35.902\n",
            "Epoch 009: | Train Loss: 1.02515 | Val Loss: 22.53223 | Train Acc: 47.479| Val Acc: 36.077\n",
            "Epoch 010: | Train Loss: 1.02227 | Val Loss: 23.79687 | Train Acc: 47.802| Val Acc: 35.974\n",
            "Epoch 011: | Train Loss: 1.02061 | Val Loss: 24.85404 | Train Acc: 47.934| Val Acc: 35.866\n",
            "Epoch 012: | Train Loss: 1.01874 | Val Loss: 25.26233 | Train Acc: 48.206| Val Acc: 35.902\n",
            "Epoch 013: | Train Loss: 1.01619 | Val Loss: 21.64190 | Train Acc: 48.439| Val Acc: 36.133\n",
            "Epoch 014: | Train Loss: 1.01631 | Val Loss: 27.45609 | Train Acc: 48.294| Val Acc: 35.802\n",
            "Epoch 015: | Train Loss: 1.01460 | Val Loss: 22.39434 | Train Acc: 48.581| Val Acc: 36.010\n",
            "Epoch 016: | Train Loss: 1.01442 | Val Loss: 27.13374 | Train Acc: 48.710| Val Acc: 35.890\n",
            "Epoch 017: | Train Loss: 1.01151 | Val Loss: 32.04726 | Train Acc: 48.914| Val Acc: 35.802\n",
            "Epoch 018: | Train Loss: 1.01259 | Val Loss: 34.88230 | Train Acc: 48.686| Val Acc: 35.886\n",
            "Epoch 019: | Train Loss: 1.00837 | Val Loss: 42.48577 | Train Acc: 49.032| Val Acc: 35.758\n",
            "Epoch 020: | Train Loss: 1.00575 | Val Loss: 36.52548 | Train Acc: 49.444| Val Acc: 35.850\n",
            "Epoch 021: | Train Loss: 1.00665 | Val Loss: 35.56726 | Train Acc: 49.083| Val Acc: 35.814\n",
            "Epoch 022: | Train Loss: 1.00381 | Val Loss: 35.14205 | Train Acc: 49.472| Val Acc: 35.846\n",
            "Epoch 023: | Train Loss: 1.00146 | Val Loss: 38.23703 | Train Acc: 49.552| Val Acc: 35.886\n",
            "Epoch 024: | Train Loss: 1.00012 | Val Loss: 39.01895 | Train Acc: 49.718| Val Acc: 35.906\n",
            "Epoch 025: | Train Loss: 1.00085 | Val Loss: 42.14128 | Train Acc: 49.702| Val Acc: 35.846\n",
            "Epoch 026: | Train Loss: 0.99834 | Val Loss: 48.55490 | Train Acc: 49.822| Val Acc: 35.890\n",
            "Epoch 027: | Train Loss: 0.99707 | Val Loss: 39.29040 | Train Acc: 49.774| Val Acc: 35.878\n",
            "Epoch 028: | Train Loss: 0.99660 | Val Loss: 41.46110 | Train Acc: 50.079| Val Acc: 35.954\n",
            "Epoch 029: | Train Loss: 0.99407 | Val Loss: 46.91596 | Train Acc: 50.052| Val Acc: 36.029\n",
            "Epoch 030: | Train Loss: 0.99352 | Val Loss: 42.53436 | Train Acc: 50.019| Val Acc: 35.938\n",
            "Epoch 031: | Train Loss: 0.99270 | Val Loss: 41.23104 | Train Acc: 50.393| Val Acc: 35.268\n",
            "Epoch 032: | Train Loss: 0.99107 | Val Loss: 46.56323 | Train Acc: 50.326| Val Acc: 35.846\n",
            "Epoch 033: | Train Loss: 0.99041 | Val Loss: 46.38457 | Train Acc: 50.346| Val Acc: 35.870\n",
            "Epoch 034: | Train Loss: 0.98960 | Val Loss: 38.29024 | Train Acc: 50.368| Val Acc: 35.862\n",
            "Epoch 035: | Train Loss: 0.98835 | Val Loss: 48.10986 | Train Acc: 50.696| Val Acc: 35.946\n",
            "Epoch 036: | Train Loss: 0.98682 | Val Loss: 50.63705 | Train Acc: 50.424| Val Acc: 35.918\n",
            "Epoch 037: | Train Loss: 0.98614 | Val Loss: 54.64801 | Train Acc: 50.604| Val Acc: 35.830\n",
            "Epoch 038: | Train Loss: 0.98347 | Val Loss: 56.06499 | Train Acc: 50.920| Val Acc: 35.659\n",
            "Epoch 039: | Train Loss: 0.98360 | Val Loss: 55.96591 | Train Acc: 50.815| Val Acc: 35.954\n",
            "Epoch 040: | Train Loss: 0.98382 | Val Loss: 49.68804 | Train Acc: 51.094| Val Acc: 35.986\n",
            "Epoch 041: | Train Loss: 0.98386 | Val Loss: 50.84728 | Train Acc: 50.751| Val Acc: 35.970\n",
            "Epoch 042: | Train Loss: 0.97935 | Val Loss: 56.94556 | Train Acc: 51.201| Val Acc: 35.906\n",
            "Epoch 043: | Train Loss: 0.97944 | Val Loss: 61.34190 | Train Acc: 51.260| Val Acc: 35.902\n",
            "Epoch 044: | Train Loss: 0.97816 | Val Loss: 48.00104 | Train Acc: 51.431| Val Acc: 35.790\n",
            "Epoch 045: | Train Loss: 0.97301 | Val Loss: 52.67190 | Train Acc: 51.501| Val Acc: 36.117\n",
            "Epoch 046: | Train Loss: 0.97485 | Val Loss: 59.17818 | Train Acc: 51.496| Val Acc: 35.906\n",
            "Epoch 047: | Train Loss: 0.97499 | Val Loss: 65.28648 | Train Acc: 51.647| Val Acc: 35.882\n",
            "Epoch 048: | Train Loss: 0.97311 | Val Loss: 54.39216 | Train Acc: 51.569| Val Acc: 36.026\n",
            "Epoch 049: | Train Loss: 0.97351 | Val Loss: 44.34307 | Train Acc: 51.847| Val Acc: 35.727\n",
            "Epoch 050: | Train Loss: 0.96935 | Val Loss: 57.58184 | Train Acc: 52.052| Val Acc: 35.958\n",
            "Epoch 051: | Train Loss: 0.96926 | Val Loss: 65.54543 | Train Acc: 51.996| Val Acc: 35.898\n",
            "Epoch 052: | Train Loss: 0.96741 | Val Loss: 42.53718 | Train Acc: 52.229| Val Acc: 35.886\n",
            "Epoch 053: | Train Loss: 0.96689 | Val Loss: 56.03723 | Train Acc: 52.268| Val Acc: 36.093\n",
            "Epoch 054: | Train Loss: 0.96595 | Val Loss: 54.89665 | Train Acc: 52.240| Val Acc: 36.010\n",
            "Epoch 055: | Train Loss: 0.96384 | Val Loss: 55.37905 | Train Acc: 52.521| Val Acc: 35.830\n",
            "Epoch 056: | Train Loss: 0.96428 | Val Loss: 58.25829 | Train Acc: 52.276| Val Acc: 36.026\n",
            "Epoch 057: | Train Loss: 0.96330 | Val Loss: 57.48329 | Train Acc: 52.342| Val Acc: 36.029\n",
            "Epoch 058: | Train Loss: 0.96121 | Val Loss: 47.57709 | Train Acc: 52.694| Val Acc: 35.998\n",
            "Epoch 059: | Train Loss: 0.96057 | Val Loss: 50.21600 | Train Acc: 52.605| Val Acc: 35.838\n",
            "Epoch 060: | Train Loss: 0.95756 | Val Loss: 55.00718 | Train Acc: 53.107| Val Acc: 36.006\n",
            "Epoch 061: | Train Loss: 0.95794 | Val Loss: 61.02519 | Train Acc: 52.805| Val Acc: 35.822\n",
            "Epoch 062: | Train Loss: 0.95516 | Val Loss: 51.33713 | Train Acc: 53.103| Val Acc: 35.938\n",
            "Epoch 063: | Train Loss: 0.95546 | Val Loss: 55.24835 | Train Acc: 53.142| Val Acc: 35.970\n",
            "Epoch 064: | Train Loss: 0.95535 | Val Loss: 60.38786 | Train Acc: 53.043| Val Acc: 35.882\n",
            "Epoch 065: | Train Loss: 0.95326 | Val Loss: 61.13352 | Train Acc: 53.405| Val Acc: 36.014\n",
            "Epoch 066: | Train Loss: 0.95002 | Val Loss: 67.09717 | Train Acc: 53.337| Val Acc: 36.006\n",
            "Epoch 067: | Train Loss: 0.94862 | Val Loss: 48.98560 | Train Acc: 53.654| Val Acc: 35.918\n",
            "Epoch 068: | Train Loss: 0.94942 | Val Loss: 50.85423 | Train Acc: 53.552| Val Acc: 35.982\n",
            "Epoch 069: | Train Loss: 0.95021 | Val Loss: 55.76363 | Train Acc: 53.528| Val Acc: 35.922\n",
            "Epoch 070: | Train Loss: 0.94842 | Val Loss: 64.29850 | Train Acc: 53.530| Val Acc: 35.938\n",
            "Epoch 071: | Train Loss: 0.94498 | Val Loss: 65.09526 | Train Acc: 53.623| Val Acc: 35.727\n",
            "Epoch 072: | Train Loss: 0.94611 | Val Loss: 53.36845 | Train Acc: 53.795| Val Acc: 35.073\n",
            "Epoch 073: | Train Loss: 0.94559 | Val Loss: 53.11786 | Train Acc: 53.801| Val Acc: 36.053\n",
            "Epoch 074: | Train Loss: 0.94210 | Val Loss: 59.21576 | Train Acc: 54.012| Val Acc: 36.049\n",
            "Epoch 075: | Train Loss: 0.94273 | Val Loss: 66.27225 | Train Acc: 53.881| Val Acc: 36.057\n",
            "Epoch 076: | Train Loss: 0.94513 | Val Loss: 53.46854 | Train Acc: 53.835| Val Acc: 36.281\n",
            "Epoch 077: | Train Loss: 0.93879 | Val Loss: 46.96310 | Train Acc: 54.409| Val Acc: 36.137\n",
            "Epoch 078: | Train Loss: 0.93832 | Val Loss: 52.83578 | Train Acc: 54.327| Val Acc: 35.639\n",
            "Epoch 079: | Train Loss: 0.93885 | Val Loss: 42.54730 | Train Acc: 54.417| Val Acc: 36.177\n",
            "Epoch 080: | Train Loss: 0.93529 | Val Loss: 50.41648 | Train Acc: 54.734| Val Acc: 36.137\n",
            "Epoch 081: | Train Loss: 0.93607 | Val Loss: 46.55207 | Train Acc: 54.076| Val Acc: 36.073\n",
            "Epoch 082: | Train Loss: 0.93454 | Val Loss: 76.95360 | Train Acc: 54.491| Val Acc: 35.934\n",
            "Epoch 083: | Train Loss: 0.93377 | Val Loss: 68.89742 | Train Acc: 54.645| Val Acc: 35.994\n",
            "Epoch 084: | Train Loss: 0.93435 | Val Loss: 57.23074 | Train Acc: 54.493| Val Acc: 36.261\n",
            "Epoch 085: | Train Loss: 0.92999 | Val Loss: 73.35243 | Train Acc: 54.959| Val Acc: 36.137\n",
            "Epoch 086: | Train Loss: 0.92828 | Val Loss: 74.65684 | Train Acc: 54.931| Val Acc: 36.217\n",
            "Epoch 087: | Train Loss: 0.92981 | Val Loss: 58.95812 | Train Acc: 54.781| Val Acc: 36.141\n",
            "Epoch 088: | Train Loss: 0.92561 | Val Loss: 71.39651 | Train Acc: 54.954| Val Acc: 36.336\n",
            "Epoch 089: | Train Loss: 0.92389 | Val Loss: 59.62870 | Train Acc: 55.071| Val Acc: 36.352\n",
            "Epoch 090: | Train Loss: 0.92331 | Val Loss: 38.46428 | Train Acc: 55.271| Val Acc: 36.201\n",
            "Epoch 091: | Train Loss: 0.92517 | Val Loss: 42.62886 | Train Acc: 55.228| Val Acc: 36.213\n",
            "Epoch 092: | Train Loss: 0.91907 | Val Loss: 51.41695 | Train Acc: 55.352| Val Acc: 36.117\n",
            "Epoch 093: | Train Loss: 0.92204 | Val Loss: 48.36184 | Train Acc: 55.327| Val Acc: 36.464\n",
            "Epoch 094: | Train Loss: 0.92134 | Val Loss: 45.72194 | Train Acc: 55.610| Val Acc: 36.205\n",
            "Epoch 095: | Train Loss: 0.91856 | Val Loss: 50.06196 | Train Acc: 55.715| Val Acc: 36.229\n",
            "Epoch 096: | Train Loss: 0.91479 | Val Loss: 53.72951 | Train Acc: 55.969| Val Acc: 36.372\n",
            "Epoch 097: | Train Loss: 0.91685 | Val Loss: 31.64838 | Train Acc: 55.743| Val Acc: 36.121\n",
            "Epoch 098: | Train Loss: 0.91438 | Val Loss: 63.94009 | Train Acc: 55.661| Val Acc: 36.241\n",
            "Epoch 099: | Train Loss: 0.91564 | Val Loss: 31.72633 | Train Acc: 55.733| Val Acc: 36.037\n",
            "Epoch 100: | Train Loss: 0.91364 | Val Loss: 48.22221 | Train Acc: 55.620| Val Acc: 36.225\n",
            "Epoch 101: | Train Loss: 0.91095 | Val Loss: 54.42397 | Train Acc: 56.062| Val Acc: 36.269\n",
            "Epoch 102: | Train Loss: 0.91041 | Val Loss: 50.81663 | Train Acc: 56.208| Val Acc: 36.189\n",
            "Epoch 103: | Train Loss: 0.90579 | Val Loss: 49.51678 | Train Acc: 56.250| Val Acc: 36.181\n",
            "Epoch 104: | Train Loss: 0.91100 | Val Loss: 57.90573 | Train Acc: 56.148| Val Acc: 36.097\n",
            "Epoch 105: | Train Loss: 0.91013 | Val Loss: 48.70327 | Train Acc: 56.116| Val Acc: 36.249\n",
            "Epoch 106: | Train Loss: 0.90439 | Val Loss: 53.61910 | Train Acc: 56.474| Val Acc: 36.400\n",
            "Epoch 107: | Train Loss: 0.90536 | Val Loss: 53.45957 | Train Acc: 56.655| Val Acc: 36.085\n",
            "Epoch 108: | Train Loss: 0.90200 | Val Loss: 43.10108 | Train Acc: 56.489| Val Acc: 36.364\n",
            "Epoch 109: | Train Loss: 0.90089 | Val Loss: 40.50897 | Train Acc: 56.572| Val Acc: 36.332\n",
            "Epoch 110: | Train Loss: 0.90226 | Val Loss: 57.36740 | Train Acc: 56.627| Val Acc: 36.133\n",
            "Epoch 111: | Train Loss: 0.89964 | Val Loss: 41.31016 | Train Acc: 56.814| Val Acc: 36.125\n",
            "Epoch 112: | Train Loss: 0.90043 | Val Loss: 44.83579 | Train Acc: 56.405| Val Acc: 36.173\n",
            "Epoch 113: | Train Loss: 0.89853 | Val Loss: 43.95112 | Train Acc: 56.914| Val Acc: 36.328\n",
            "Epoch 114: | Train Loss: 0.89548 | Val Loss: 48.75519 | Train Acc: 57.081| Val Acc: 36.412\n",
            "Epoch 115: | Train Loss: 0.89465 | Val Loss: 41.63435 | Train Acc: 56.929| Val Acc: 36.500\n",
            "Epoch 116: | Train Loss: 0.89509 | Val Loss: 67.38322 | Train Acc: 56.954| Val Acc: 36.384\n",
            "Epoch 117: | Train Loss: 0.89713 | Val Loss: 52.03984 | Train Acc: 57.014| Val Acc: 36.205\n",
            "Epoch 118: | Train Loss: 0.89351 | Val Loss: 45.97796 | Train Acc: 56.879| Val Acc: 36.448\n",
            "Epoch 119: | Train Loss: 0.89223 | Val Loss: 65.18914 | Train Acc: 57.305| Val Acc: 36.293\n",
            "Epoch 120: | Train Loss: 0.88792 | Val Loss: 39.41584 | Train Acc: 57.549| Val Acc: 36.053\n",
            "Epoch 121: | Train Loss: 0.88764 | Val Loss: 37.83593 | Train Acc: 57.646| Val Acc: 36.360\n",
            "Epoch 122: | Train Loss: 0.88669 | Val Loss: 36.00223 | Train Acc: 57.638| Val Acc: 36.317\n",
            "Epoch 123: | Train Loss: 0.88559 | Val Loss: 31.98377 | Train Acc: 57.677| Val Acc: 36.396\n",
            "Epoch 124: | Train Loss: 0.88573 | Val Loss: 40.24111 | Train Acc: 57.835| Val Acc: 36.237\n",
            "Epoch 125: | Train Loss: 0.88257 | Val Loss: 59.22653 | Train Acc: 57.817| Val Acc: 36.324\n",
            "Epoch 126: | Train Loss: 0.88364 | Val Loss: 42.74998 | Train Acc: 57.798| Val Acc: 36.372\n",
            "Epoch 127: | Train Loss: 0.88062 | Val Loss: 42.72222 | Train Acc: 58.098| Val Acc: 36.472\n",
            "Epoch 128: | Train Loss: 0.88004 | Val Loss: 41.00631 | Train Acc: 57.767| Val Acc: 36.201\n",
            "Epoch 129: | Train Loss: 0.88109 | Val Loss: 34.59373 | Train Acc: 58.119| Val Acc: 36.336\n",
            "Epoch 130: | Train Loss: 0.87749 | Val Loss: 38.29935 | Train Acc: 58.275| Val Acc: 36.253\n",
            "Epoch 131: | Train Loss: 0.87694 | Val Loss: 29.02172 | Train Acc: 57.956| Val Acc: 36.404\n",
            "Epoch 132: | Train Loss: 0.87692 | Val Loss: 32.72198 | Train Acc: 58.161| Val Acc: 36.392\n",
            "Epoch 133: | Train Loss: 0.87265 | Val Loss: 40.77891 | Train Acc: 58.397| Val Acc: 36.512\n",
            "Epoch 134: | Train Loss: 0.87513 | Val Loss: 37.43953 | Train Acc: 58.242| Val Acc: 36.261\n",
            "Epoch 135: | Train Loss: 0.87333 | Val Loss: 34.67797 | Train Acc: 58.597| Val Acc: 36.416\n",
            "Epoch 136: | Train Loss: 0.87301 | Val Loss: 40.11558 | Train Acc: 58.622| Val Acc: 36.069\n",
            "Epoch 137: | Train Loss: 0.87193 | Val Loss: 36.48601 | Train Acc: 58.376| Val Acc: 36.340\n",
            "Epoch 138: | Train Loss: 0.86881 | Val Loss: 44.89180 | Train Acc: 58.507| Val Acc: 36.249\n",
            "Epoch 139: | Train Loss: 0.86902 | Val Loss: 36.81583 | Train Acc: 58.889| Val Acc: 36.257\n",
            "Epoch 140: | Train Loss: 0.87121 | Val Loss: 32.80822 | Train Acc: 58.475| Val Acc: 36.400\n",
            "Epoch 141: | Train Loss: 0.87340 | Val Loss: 36.92319 | Train Acc: 58.488| Val Acc: 36.452\n",
            "Epoch 142: | Train Loss: 0.86699 | Val Loss: 28.78332 | Train Acc: 58.645| Val Acc: 36.285\n",
            "Epoch 143: | Train Loss: 0.87130 | Val Loss: 41.32294 | Train Acc: 58.467| Val Acc: 36.197\n",
            "Epoch 144: | Train Loss: 0.86106 | Val Loss: 41.97705 | Train Acc: 59.151| Val Acc: 36.157\n",
            "Epoch 145: | Train Loss: 0.87009 | Val Loss: 49.16172 | Train Acc: 58.592| Val Acc: 36.301\n",
            "Epoch 146: | Train Loss: 0.86423 | Val Loss: 52.38777 | Train Acc: 59.114| Val Acc: 36.121\n",
            "Epoch 147: | Train Loss: 0.86333 | Val Loss: 51.05564 | Train Acc: 59.116| Val Acc: 36.169\n",
            "Epoch 148: | Train Loss: 0.86276 | Val Loss: 30.99604 | Train Acc: 59.183| Val Acc: 36.081\n",
            "Epoch 149: | Train Loss: 0.85988 | Val Loss: 51.52852 | Train Acc: 59.279| Val Acc: 36.265\n",
            "Epoch 150: | Train Loss: 0.86540 | Val Loss: 53.16078 | Train Acc: 58.780| Val Acc: 36.313\n",
            "Epoch 151: | Train Loss: 0.85481 | Val Loss: 60.12736 | Train Acc: 59.525| Val Acc: 36.081\n",
            "Epoch 152: | Train Loss: 0.86499 | Val Loss: 37.30025 | Train Acc: 58.743| Val Acc: 36.041\n",
            "Epoch 153: | Train Loss: 0.85688 | Val Loss: 41.30300 | Train Acc: 59.365| Val Acc: 36.201\n",
            "Epoch 154: | Train Loss: 0.85733 | Val Loss: 40.48661 | Train Acc: 59.557| Val Acc: 36.153\n",
            "Epoch 155: | Train Loss: 0.85468 | Val Loss: 33.74834 | Train Acc: 59.677| Val Acc: 36.225\n",
            "Epoch 156: | Train Loss: 0.85272 | Val Loss: 34.98886 | Train Acc: 59.542| Val Acc: 36.153\n",
            "Epoch 157: | Train Loss: 0.85270 | Val Loss: 48.54581 | Train Acc: 59.723| Val Acc: 36.065\n",
            "Epoch 158: | Train Loss: 0.85048 | Val Loss: 42.49513 | Train Acc: 59.692| Val Acc: 36.153\n",
            "Epoch 159: | Train Loss: 0.84920 | Val Loss: 35.11881 | Train Acc: 59.665| Val Acc: 36.261\n",
            "Epoch 160: | Train Loss: 0.85216 | Val Loss: 29.53816 | Train Acc: 59.648| Val Acc: 36.412\n",
            "Epoch 161: | Train Loss: 0.85149 | Val Loss: 40.91609 | Train Acc: 59.619| Val Acc: 36.057\n",
            "Epoch 162: | Train Loss: 0.85031 | Val Loss: 46.43221 | Train Acc: 59.607| Val Acc: 36.201\n",
            "Epoch 163: | Train Loss: 0.84934 | Val Loss: 49.58376 | Train Acc: 59.905| Val Acc: 36.037\n",
            "Epoch 164: | Train Loss: 0.84644 | Val Loss: 35.32785 | Train Acc: 60.108| Val Acc: 36.097\n",
            "Epoch 165: | Train Loss: 0.84282 | Val Loss: 45.99948 | Train Acc: 60.381| Val Acc: 35.982\n",
            "Epoch 166: | Train Loss: 0.84430 | Val Loss: 60.52897 | Train Acc: 60.116| Val Acc: 36.041\n",
            "Epoch 167: | Train Loss: 0.84157 | Val Loss: 50.27751 | Train Acc: 60.304| Val Acc: 35.966\n",
            "Epoch 168: | Train Loss: 0.84110 | Val Loss: 44.85651 | Train Acc: 60.211| Val Acc: 36.177\n",
            "Epoch 169: | Train Loss: 0.84410 | Val Loss: 37.01279 | Train Acc: 60.181| Val Acc: 36.029\n",
            "Epoch 170: | Train Loss: 0.84234 | Val Loss: 46.77090 | Train Acc: 60.224| Val Acc: 36.313\n",
            "Epoch 171: | Train Loss: 0.84089 | Val Loss: 48.12755 | Train Acc: 60.470| Val Acc: 36.117\n",
            "Epoch 172: | Train Loss: 0.84329 | Val Loss: 52.33008 | Train Acc: 60.501| Val Acc: 36.233\n",
            "Epoch 173: | Train Loss: 0.83895 | Val Loss: 50.74819 | Train Acc: 60.462| Val Acc: 36.277\n",
            "Epoch 174: | Train Loss: 0.83892 | Val Loss: 40.94375 | Train Acc: 60.491| Val Acc: 36.364\n",
            "Epoch 175: | Train Loss: 0.84176 | Val Loss: 53.58597 | Train Acc: 60.583| Val Acc: 36.281\n",
            "Epoch 176: | Train Loss: 0.83454 | Val Loss: 53.97118 | Train Acc: 60.559| Val Acc: 36.301\n",
            "Epoch 177: | Train Loss: 0.83481 | Val Loss: 44.03920 | Train Acc: 60.746| Val Acc: 36.376\n",
            "Epoch 178: | Train Loss: 0.83578 | Val Loss: 48.62105 | Train Acc: 60.689| Val Acc: 36.265\n",
            "Epoch 179: | Train Loss: 0.83304 | Val Loss: 62.92916 | Train Acc: 60.652| Val Acc: 36.396\n",
            "Epoch 180: | Train Loss: 0.83344 | Val Loss: 53.76933 | Train Acc: 60.517| Val Acc: 36.460\n",
            "Epoch 181: | Train Loss: 0.83127 | Val Loss: 77.82663 | Train Acc: 60.987| Val Acc: 36.344\n",
            "Epoch 182: | Train Loss: 0.83671 | Val Loss: 37.98298 | Train Acc: 60.579| Val Acc: 36.221\n",
            "Epoch 183: | Train Loss: 0.82852 | Val Loss: 51.25410 | Train Acc: 61.028| Val Acc: 36.424\n",
            "Epoch 184: | Train Loss: 0.82652 | Val Loss: 48.26266 | Train Acc: 61.196| Val Acc: 36.372\n",
            "Epoch 185: | Train Loss: 0.83206 | Val Loss: 56.82527 | Train Acc: 60.879| Val Acc: 36.169\n",
            "Epoch 186: | Train Loss: 0.82996 | Val Loss: 48.34464 | Train Acc: 60.903| Val Acc: 36.213\n",
            "Epoch 187: | Train Loss: 0.82605 | Val Loss: 41.21401 | Train Acc: 61.087| Val Acc: 36.344\n",
            "Epoch 188: | Train Loss: 0.82225 | Val Loss: 60.16166 | Train Acc: 61.396| Val Acc: 36.113\n"
          ]
        },
        {
          "output_type": "error",
          "ename": "KeyboardInterrupt",
          "evalue": "ignored",
          "traceback": [
            "\u001b[0;31m---------------------------------------------------------------------------\u001b[0m",
            "\u001b[0;31mKeyboardInterrupt\u001b[0m                         Traceback (most recent call last)",
            "\u001b[0;32m<ipython-input-41-5748e27f82c6>\u001b[0m in \u001b[0;36m<module>\u001b[0;34m()\u001b[0m\n\u001b[1;32m     35\u001b[0m           \u001b[0mX_val_batch\u001b[0m\u001b[0;34m,\u001b[0m \u001b[0my_val_batch\u001b[0m \u001b[0;34m=\u001b[0m \u001b[0mX_val_batch\u001b[0m\u001b[0;34m.\u001b[0m\u001b[0mto\u001b[0m\u001b[0;34m(\u001b[0m\u001b[0mdevice\u001b[0m\u001b[0;34m)\u001b[0m\u001b[0;34m,\u001b[0m \u001b[0my_val_batch\u001b[0m\u001b[0;34m.\u001b[0m\u001b[0mto\u001b[0m\u001b[0;34m(\u001b[0m\u001b[0mdevice\u001b[0m\u001b[0;34m)\u001b[0m\u001b[0;34m\u001b[0m\u001b[0;34m\u001b[0m\u001b[0m\n\u001b[1;32m     36\u001b[0m \u001b[0;34m\u001b[0m\u001b[0m\n\u001b[0;32m---> 37\u001b[0;31m           \u001b[0my_val_pred\u001b[0m \u001b[0;34m=\u001b[0m \u001b[0mmodel\u001b[0m\u001b[0;34m(\u001b[0m\u001b[0mX_val_batch\u001b[0m\u001b[0;34m)\u001b[0m\u001b[0;34m\u001b[0m\u001b[0;34m\u001b[0m\u001b[0m\n\u001b[0m\u001b[1;32m     38\u001b[0m \u001b[0;34m\u001b[0m\u001b[0m\n\u001b[1;32m     39\u001b[0m           \u001b[0mval_loss\u001b[0m \u001b[0;34m=\u001b[0m \u001b[0mcriterion\u001b[0m\u001b[0;34m(\u001b[0m\u001b[0my_val_pred\u001b[0m\u001b[0;34m,\u001b[0m \u001b[0my_val_batch\u001b[0m\u001b[0;34m)\u001b[0m\u001b[0;34m\u001b[0m\u001b[0;34m\u001b[0m\u001b[0m\n",
            "\u001b[0;32m/usr/local/lib/python3.7/dist-packages/torch/nn/modules/module.py\u001b[0m in \u001b[0;36m_call_impl\u001b[0;34m(self, *input, **kwargs)\u001b[0m\n\u001b[1;32m   1100\u001b[0m         if not (self._backward_hooks or self._forward_hooks or self._forward_pre_hooks or _global_backward_hooks\n\u001b[1;32m   1101\u001b[0m                 or _global_forward_hooks or _global_forward_pre_hooks):\n\u001b[0;32m-> 1102\u001b[0;31m             \u001b[0;32mreturn\u001b[0m \u001b[0mforward_call\u001b[0m\u001b[0;34m(\u001b[0m\u001b[0;34m*\u001b[0m\u001b[0minput\u001b[0m\u001b[0;34m,\u001b[0m \u001b[0;34m**\u001b[0m\u001b[0mkwargs\u001b[0m\u001b[0;34m)\u001b[0m\u001b[0;34m\u001b[0m\u001b[0;34m\u001b[0m\u001b[0m\n\u001b[0m\u001b[1;32m   1103\u001b[0m         \u001b[0;31m# Do not call functions when jit is used\u001b[0m\u001b[0;34m\u001b[0m\u001b[0;34m\u001b[0m\u001b[0;34m\u001b[0m\u001b[0m\n\u001b[1;32m   1104\u001b[0m         \u001b[0mfull_backward_hooks\u001b[0m\u001b[0;34m,\u001b[0m \u001b[0mnon_full_backward_hooks\u001b[0m \u001b[0;34m=\u001b[0m \u001b[0;34m[\u001b[0m\u001b[0;34m]\u001b[0m\u001b[0;34m,\u001b[0m \u001b[0;34m[\u001b[0m\u001b[0;34m]\u001b[0m\u001b[0;34m\u001b[0m\u001b[0;34m\u001b[0m\u001b[0m\n",
            "\u001b[0;32m<ipython-input-29-5d63d3fdec13>\u001b[0m in \u001b[0;36mforward\u001b[0;34m(self, x)\u001b[0m\n\u001b[1;32m     25\u001b[0m \u001b[0;34m\u001b[0m\u001b[0m\n\u001b[1;32m     26\u001b[0m         \u001b[0mx\u001b[0m \u001b[0;34m=\u001b[0m \u001b[0mself\u001b[0m\u001b[0;34m.\u001b[0m\u001b[0mlayer_3\u001b[0m\u001b[0;34m(\u001b[0m\u001b[0mx\u001b[0m\u001b[0;34m)\u001b[0m\u001b[0;34m\u001b[0m\u001b[0;34m\u001b[0m\u001b[0m\n\u001b[0;32m---> 27\u001b[0;31m         \u001b[0mx\u001b[0m \u001b[0;34m=\u001b[0m \u001b[0mself\u001b[0m\u001b[0;34m.\u001b[0m\u001b[0mbatchnorm3\u001b[0m\u001b[0;34m(\u001b[0m\u001b[0mx\u001b[0m\u001b[0;34m)\u001b[0m\u001b[0;34m\u001b[0m\u001b[0;34m\u001b[0m\u001b[0m\n\u001b[0m\u001b[1;32m     28\u001b[0m         \u001b[0mx\u001b[0m \u001b[0;34m=\u001b[0m \u001b[0mself\u001b[0m\u001b[0;34m.\u001b[0m\u001b[0mrelu\u001b[0m\u001b[0;34m(\u001b[0m\u001b[0mx\u001b[0m\u001b[0;34m)\u001b[0m\u001b[0;34m\u001b[0m\u001b[0;34m\u001b[0m\u001b[0m\n\u001b[1;32m     29\u001b[0m         \u001b[0mx\u001b[0m \u001b[0;34m=\u001b[0m \u001b[0mself\u001b[0m\u001b[0;34m.\u001b[0m\u001b[0mdropout\u001b[0m\u001b[0;34m(\u001b[0m\u001b[0mx\u001b[0m\u001b[0;34m)\u001b[0m\u001b[0;34m\u001b[0m\u001b[0;34m\u001b[0m\u001b[0m\n",
            "\u001b[0;32m/usr/local/lib/python3.7/dist-packages/torch/nn/modules/module.py\u001b[0m in \u001b[0;36m_call_impl\u001b[0;34m(self, *input, **kwargs)\u001b[0m\n\u001b[1;32m   1100\u001b[0m         if not (self._backward_hooks or self._forward_hooks or self._forward_pre_hooks or _global_backward_hooks\n\u001b[1;32m   1101\u001b[0m                 or _global_forward_hooks or _global_forward_pre_hooks):\n\u001b[0;32m-> 1102\u001b[0;31m             \u001b[0;32mreturn\u001b[0m \u001b[0mforward_call\u001b[0m\u001b[0;34m(\u001b[0m\u001b[0;34m*\u001b[0m\u001b[0minput\u001b[0m\u001b[0;34m,\u001b[0m \u001b[0;34m**\u001b[0m\u001b[0mkwargs\u001b[0m\u001b[0;34m)\u001b[0m\u001b[0;34m\u001b[0m\u001b[0;34m\u001b[0m\u001b[0m\n\u001b[0m\u001b[1;32m   1103\u001b[0m         \u001b[0;31m# Do not call functions when jit is used\u001b[0m\u001b[0;34m\u001b[0m\u001b[0;34m\u001b[0m\u001b[0;34m\u001b[0m\u001b[0m\n\u001b[1;32m   1104\u001b[0m         \u001b[0mfull_backward_hooks\u001b[0m\u001b[0;34m,\u001b[0m \u001b[0mnon_full_backward_hooks\u001b[0m \u001b[0;34m=\u001b[0m \u001b[0;34m[\u001b[0m\u001b[0;34m]\u001b[0m\u001b[0;34m,\u001b[0m \u001b[0;34m[\u001b[0m\u001b[0;34m]\u001b[0m\u001b[0;34m\u001b[0m\u001b[0;34m\u001b[0m\u001b[0m\n",
            "\u001b[0;32m/usr/local/lib/python3.7/dist-packages/torch/nn/modules/batchnorm.py\u001b[0m in \u001b[0;36mforward\u001b[0;34m(self, input)\u001b[0m\n\u001b[1;32m    177\u001b[0m             \u001b[0mbn_training\u001b[0m\u001b[0;34m,\u001b[0m\u001b[0;34m\u001b[0m\u001b[0;34m\u001b[0m\u001b[0m\n\u001b[1;32m    178\u001b[0m             \u001b[0mexponential_average_factor\u001b[0m\u001b[0;34m,\u001b[0m\u001b[0;34m\u001b[0m\u001b[0;34m\u001b[0m\u001b[0m\n\u001b[0;32m--> 179\u001b[0;31m             \u001b[0mself\u001b[0m\u001b[0;34m.\u001b[0m\u001b[0meps\u001b[0m\u001b[0;34m,\u001b[0m\u001b[0;34m\u001b[0m\u001b[0;34m\u001b[0m\u001b[0m\n\u001b[0m\u001b[1;32m    180\u001b[0m         )\n\u001b[1;32m    181\u001b[0m \u001b[0;34m\u001b[0m\u001b[0m\n",
            "\u001b[0;32m/usr/local/lib/python3.7/dist-packages/torch/nn/functional.py\u001b[0m in \u001b[0;36mbatch_norm\u001b[0;34m(input, running_mean, running_var, weight, bias, training, momentum, eps)\u001b[0m\n\u001b[1;32m   2281\u001b[0m \u001b[0;34m\u001b[0m\u001b[0m\n\u001b[1;32m   2282\u001b[0m     return torch.batch_norm(\n\u001b[0;32m-> 2283\u001b[0;31m         \u001b[0minput\u001b[0m\u001b[0;34m,\u001b[0m \u001b[0mweight\u001b[0m\u001b[0;34m,\u001b[0m \u001b[0mbias\u001b[0m\u001b[0;34m,\u001b[0m \u001b[0mrunning_mean\u001b[0m\u001b[0;34m,\u001b[0m \u001b[0mrunning_var\u001b[0m\u001b[0;34m,\u001b[0m \u001b[0mtraining\u001b[0m\u001b[0;34m,\u001b[0m \u001b[0mmomentum\u001b[0m\u001b[0;34m,\u001b[0m \u001b[0meps\u001b[0m\u001b[0;34m,\u001b[0m \u001b[0mtorch\u001b[0m\u001b[0;34m.\u001b[0m\u001b[0mbackends\u001b[0m\u001b[0;34m.\u001b[0m\u001b[0mcudnn\u001b[0m\u001b[0;34m.\u001b[0m\u001b[0menabled\u001b[0m\u001b[0;34m\u001b[0m\u001b[0;34m\u001b[0m\u001b[0m\n\u001b[0m\u001b[1;32m   2284\u001b[0m     )\n\u001b[1;32m   2285\u001b[0m \u001b[0;34m\u001b[0m\u001b[0m\n",
            "\u001b[0;31mKeyboardInterrupt\u001b[0m: "
          ]
        }
      ]
    },
    {
      "cell_type": "markdown",
      "source": [
        "# APPENDIX"
      ],
      "metadata": {
        "id": "CdPrjLX4u2u7"
      }
    },
    {
      "cell_type": "code",
      "source": [
        "plot_df = pd.DataFrame(full_targets, columns=[\"FuturePrice\"])"
      ],
      "metadata": {
        "id": "kO0RlwtEvavG"
      },
      "execution_count": null,
      "outputs": []
    },
    {
      "cell_type": "code",
      "source": [
        "plot_df[\"FuturePrice\"].value_counts().plot(kind = 'bar')"
      ],
      "metadata": {
        "colab": {
          "base_uri": "https://localhost:8080/",
          "height": 299
        },
        "id": "o4DstDh7v61B",
        "outputId": "9fb82a04-9a72-4e9f-acc0-e71b745dfc7e"
      },
      "execution_count": null,
      "outputs": [
        {
          "output_type": "execute_result",
          "data": {
            "text/plain": [
              "<matplotlib.axes._subplots.AxesSubplot at 0x7f74d1325d10>"
            ]
          },
          "metadata": {},
          "execution_count": 338
        },
        {
          "output_type": "display_data",
          "data": {
            "image/png": "[encoded data removed]",
            "text/plain": [
              "<Figure size 432x288 with 1 Axes>"
            ]
          },
          "metadata": {
            "needs_background": "light"
          }
        }
      ]
    },
    {
      "cell_type": "code",
      "source": [
        "def buildTargets_VolOnly(full_df = full, train_observations = train.shape[0], \n",
        "                         val_observations = val.shape[0], \n",
        "                         test_observations = test.shape[0], \n",
        "                         alph = 0.55, volity_int = 10):\n",
        "\n",
        "  \"\"\" \n",
        "  This function will take a complete set of train, val, and test data and return the targets.\n",
        "  Volitility will be calculated over the 252 5min incriments \n",
        "  The Target shift is looking at 2 hours shift from current time\n",
        "  \"\"\"\n",
        "\n",
        "  returns = np.log(full_df['Close']/(full_df['Close'].shift(1)))\n",
        "  returns.fillna(0, inplace=True)\n",
        "  #volatility = returns.std()*np.sqrt(volity_int)\n",
        "  volatility = returns.rolling(window=volity_int).std()*np.sqrt(volity_int)\n",
        "\n",
        "\n",
        "\n",
        "  return volatility\n",
        "  #return train_targets, val_targets, test_targets, full_targets\n",
        "\n",
        "volatility = buildTargets_VolOnly()\n",
        "\n",
        "fig = plt.figure(figsize=(15, 7))\n",
        "ax1 = fig.add_subplot(1, 1, 1)\n",
        "volatility.plot(ax=ax1, color = \"red\")\n",
        "ax1.set_xlabel('Date')\n",
        "ax1.set_ylabel('Volatility', color = \"red\")\n",
        "ax1.set_title(f'Annualized volatility for {ticker}')\n",
        "ax2 = ax1.twinx()\n",
        "full.Close.plot(ax=ax2, color = \"blue\")\n",
        "ax2.set_ylabel('Close', color = \"blue\")\n",
        "plt.show()"
      ],
      "metadata": {
        "colab": {
          "base_uri": "https://localhost:8080/",
          "height": 440
        },
        "id": "qUSks6bebTnk",
        "outputId": "95096d69-9fee-4d57-cdf8-870bbf0b9abf"
      },
      "execution_count": null,
      "outputs": [
        {
          "output_type": "display_data",
          "data": {
            "image/png": "[encoded data removed]",
            "text/plain": [
              "<Figure size 1080x504 with 2 Axes>"
            ]
          },
          "metadata": {
            "needs_background": "light"
          }
        }
      ]
    },
    {
      "cell_type": "code",
      "source": [
        "X,y=data.data,data.target\n",
        "# Since the default in the file is 0=malignant 1=benign we want to reverse these\n",
        "y=(y==0).astype(int)\n",
        "X,y= np.array(X),np.array(y)\n",
        "\n",
        "# Let's set aside a test set and use the remainder for training and cross-validation\n",
        "X_train,X_test,y_train,y_test = train_test_split(X, y, random_state=0,test_size=0.2)\n",
        "\n",
        "# Let's scale our data to help the algorithm converge faster\n",
        "scaler = StandardScaler()\n",
        "X_train_scaled = scaler.fit_transform(X_train)\n",
        "X_test_scaled = scaler.transform(X_test)"
      ],
      "metadata": {
        "id": "UViHHQXtEB7r"
      },
      "execution_count": null,
      "outputs": []
    },
    {
      "cell_type": "code",
      "source": [
        "full.drop(columns=['Time', ])"
      ],
      "metadata": {
        "id": "DxdD_w9pRfO8"
      },
      "execution_count": null,
      "outputs": []
    },
    {
      "cell_type": "code",
      "source": [
        "from sklearn.datasets import load_breast_cancer"
      ],
      "metadata": {
        "id": "TKu0iaKZSnyM"
      },
      "execution_count": null,
      "outputs": []
    },
    {
      "cell_type": "code",
      "source": [
        "data=load_breast_cancer(as_frame=True)"
      ],
      "metadata": {
        "id": "K23hvV9cWb96"
      },
      "execution_count": null,
      "outputs": []
    },
    {
      "cell_type": "code",
      "source": [
        "data.target"
      ],
      "metadata": {
        "colab": {
          "base_uri": "https://localhost:8080/"
        },
        "id": "RuBc_eiVWedQ",
        "outputId": "fda35b37-d263-4822-e472-46c94d9d2a31"
      },
      "execution_count": null,
      "outputs": [
        {
          "output_type": "execute_result",
          "data": {
            "text/plain": [
              "0      0\n",
              "1      0\n",
              "2      0\n",
              "3      0\n",
              "4      0\n",
              "      ..\n",
              "564    0\n",
              "565    0\n",
              "566    0\n",
              "567    0\n",
              "568    1\n",
              "Name: target, Length: 569, dtype: int64"
            ]
          },
          "metadata": {},
          "execution_count": 21
        }
      ]
    },
    {
      "cell_type": "code",
      "source": [
        ""
      ],
      "metadata": {
        "id": "rCar6GOuWe6f"
      },
      "execution_count": null,
      "outputs": []
    }
  ]
}