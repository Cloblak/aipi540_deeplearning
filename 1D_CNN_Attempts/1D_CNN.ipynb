{
  "nbformat": 4,
  "nbformat_minor": 0,
  "metadata": {
    "colab": {
      "name": "1D_CNN.ipynb",
      "provenance": [],
      "collapsed_sections": [],
      "authorship_tag": "ABX9TyMjv2/Xq9+ZmnRB8KrVcsjQ",
      "include_colab_link": true
    },
    "kernelspec": {
      "name": "python3",
      "display_name": "Python 3"
    },
    "language_info": {
      "name": "python"
    },
    "widgets": {
      "application/vnd.jupyter.widget-state+json": {
        "35b0c6a641f74b7a8a5a17696c771999": {
          "model_module": "@jupyter-widgets/controls",
          "model_name": "HBoxModel",
          "model_module_version": "1.5.0",
          "state": {
            "_view_name": "HBoxView",
            "_dom_classes": [],
            "_model_name": "HBoxModel",
            "_view_module": "@jupyter-widgets/controls",
            "_model_module_version": "1.5.0",
            "_view_count": null,
            "_view_module_version": "1.5.0",
            "box_style": "",
            "layout": "IPY_MODEL_5435c22875e1449bba6f514dc362fb86",
            "_model_module": "@jupyter-widgets/controls",
            "children": [
              "IPY_MODEL_2174b8eaf379476aa207a7d3553a23cb",
              "IPY_MODEL_d2eea602e1f44679b9dca81d02cef6a9",
              "IPY_MODEL_4c4ee8d44be44753b86d2334ed5201d9"
            ]
          }
        },
        "5435c22875e1449bba6f514dc362fb86": {
          "model_module": "@jupyter-widgets/base",
          "model_name": "LayoutModel",
          "model_module_version": "1.2.0",
          "state": {
            "_view_name": "LayoutView",
            "grid_template_rows": null,
            "right": null,
            "justify_content": null,
            "_view_module": "@jupyter-widgets/base",
            "overflow": null,
            "_model_module_version": "1.2.0",
            "_view_count": null,
            "flex_flow": null,
            "width": null,
            "min_width": null,
            "border": null,
            "align_items": null,
            "bottom": null,
            "_model_module": "@jupyter-widgets/base",
            "top": null,
            "grid_column": null,
            "overflow_y": null,
            "overflow_x": null,
            "grid_auto_flow": null,
            "grid_area": null,
            "grid_template_columns": null,
            "flex": null,
            "_model_name": "LayoutModel",
            "justify_items": null,
            "grid_row": null,
            "max_height": null,
            "align_content": null,
            "visibility": null,
            "align_self": null,
            "height": null,
            "min_height": null,
            "padding": null,
            "grid_auto_rows": null,
            "grid_gap": null,
            "max_width": null,
            "order": null,
            "_view_module_version": "1.2.0",
            "grid_template_areas": null,
            "object_position": null,
            "object_fit": null,
            "grid_auto_columns": null,
            "margin": null,
            "display": null,
            "left": null
          }
        },
        "2174b8eaf379476aa207a7d3553a23cb": {
          "model_module": "@jupyter-widgets/controls",
          "model_name": "HTMLModel",
          "model_module_version": "1.5.0",
          "state": {
            "_view_name": "HTMLView",
            "style": "IPY_MODEL_2d07aa40726741bba6d08a741f239b2a",
            "_dom_classes": [],
            "description": "",
            "_model_name": "HTMLModel",
            "placeholder": "​",
            "_view_module": "@jupyter-widgets/controls",
            "_model_module_version": "1.5.0",
            "value": " 63%",
            "_view_count": null,
            "_view_module_version": "1.5.0",
            "description_tooltip": null,
            "_model_module": "@jupyter-widgets/controls",
            "layout": "IPY_MODEL_ae9e58658d6e45a0ae4f071d65facbd8"
          }
        },
        "d2eea602e1f44679b9dca81d02cef6a9": {
          "model_module": "@jupyter-widgets/controls",
          "model_name": "FloatProgressModel",
          "model_module_version": "1.5.0",
          "state": {
            "_view_name": "ProgressView",
            "style": "IPY_MODEL_39c656c52a3b41f4912ae2f141bf1291",
            "_dom_classes": [],
            "description": "",
            "_model_name": "FloatProgressModel",
            "bar_style": "danger",
            "max": 300,
            "_view_module": "@jupyter-widgets/controls",
            "_model_module_version": "1.5.0",
            "value": 188,
            "_view_count": null,
            "_view_module_version": "1.5.0",
            "orientation": "horizontal",
            "min": 0,
            "description_tooltip": null,
            "_model_module": "@jupyter-widgets/controls",
            "layout": "IPY_MODEL_101532c20c604f9cbddaae38f83cb611"
          }
        },
        "4c4ee8d44be44753b86d2334ed5201d9": {
          "model_module": "@jupyter-widgets/controls",
          "model_name": "HTMLModel",
          "model_module_version": "1.5.0",
          "state": {
            "_view_name": "HTMLView",
            "style": "IPY_MODEL_a809155bf81340c88a359f8e8b52b1a7",
            "_dom_classes": [],
            "description": "",
            "_model_name": "HTMLModel",
            "placeholder": "​",
            "_view_module": "@jupyter-widgets/controls",
            "_model_module_version": "1.5.0",
            "value": " 188/300 [1:25:16&lt;50:49, 27.23s/it]",
            "_view_count": null,
            "_view_module_version": "1.5.0",
            "description_tooltip": null,
            "_model_module": "@jupyter-widgets/controls",
            "layout": "IPY_MODEL_8a927038a7cb49a6a64673ce556a0c8e"
          }
        },
        "2d07aa40726741bba6d08a741f239b2a": {
          "model_module": "@jupyter-widgets/controls",
          "model_name": "DescriptionStyleModel",
          "model_module_version": "1.5.0",
          "state": {
            "_view_name": "StyleView",
            "_model_name": "DescriptionStyleModel",
            "description_width": "",
            "_view_module": "@jupyter-widgets/base",
            "_model_module_version": "1.5.0",
            "_view_count": null,
            "_view_module_version": "1.2.0",
            "_model_module": "@jupyter-widgets/controls"
          }
        },
        "ae9e58658d6e45a0ae4f071d65facbd8": {
          "model_module": "@jupyter-widgets/base",
          "model_name": "LayoutModel",
          "model_module_version": "1.2.0",
          "state": {
            "_view_name": "LayoutView",
            "grid_template_rows": null,
            "right": null,
            "justify_content": null,
            "_view_module": "@jupyter-widgets/base",
            "overflow": null,
            "_model_module_version": "1.2.0",
            "_view_count": null,
            "flex_flow": null,
            "width": null,
            "min_width": null,
            "border": null,
            "align_items": null,
            "bottom": null,
            "_model_module": "@jupyter-widgets/base",
            "top": null,
            "grid_column": null,
            "overflow_y": null,
            "overflow_x": null,
            "grid_auto_flow": null,
            "grid_area": null,
            "grid_template_columns": null,
            "flex": null,
            "_model_name": "LayoutModel",
            "justify_items": null,
            "grid_row": null,
            "max_height": null,
            "align_content": null,
            "visibility": null,
            "align_self": null,
            "height": null,
            "min_height": null,
            "padding": null,
            "grid_auto_rows": null,
            "grid_gap": null,
            "max_width": null,
            "order": null,
            "_view_module_version": "1.2.0",
            "grid_template_areas": null,
            "object_position": null,
            "object_fit": null,
            "grid_auto_columns": null,
            "margin": null,
            "display": null,
            "left": null
          }
        },
        "39c656c52a3b41f4912ae2f141bf1291": {
          "model_module": "@jupyter-widgets/controls",
          "model_name": "ProgressStyleModel",
          "model_module_version": "1.5.0",
          "state": {
            "_view_name": "StyleView",
            "_model_name": "ProgressStyleModel",
            "description_width": "",
            "_view_module": "@jupyter-widgets/base",
            "_model_module_version": "1.5.0",
            "_view_count": null,
            "_view_module_version": "1.2.0",
            "bar_color": null,
            "_model_module": "@jupyter-widgets/controls"
          }
        },
        "101532c20c604f9cbddaae38f83cb611": {
          "model_module": "@jupyter-widgets/base",
          "model_name": "LayoutModel",
          "model_module_version": "1.2.0",
          "state": {
            "_view_name": "LayoutView",
            "grid_template_rows": null,
            "right": null,
            "justify_content": null,
            "_view_module": "@jupyter-widgets/base",
            "overflow": null,
            "_model_module_version": "1.2.0",
            "_view_count": null,
            "flex_flow": null,
            "width": null,
            "min_width": null,
            "border": null,
            "align_items": null,
            "bottom": null,
            "_model_module": "@jupyter-widgets/base",
            "top": null,
            "grid_column": null,
            "overflow_y": null,
            "overflow_x": null,
            "grid_auto_flow": null,
            "grid_area": null,
            "grid_template_columns": null,
            "flex": null,
            "_model_name": "LayoutModel",
            "justify_items": null,
            "grid_row": null,
            "max_height": null,
            "align_content": null,
            "visibility": null,
            "align_self": null,
            "height": null,
            "min_height": null,
            "padding": null,
            "grid_auto_rows": null,
            "grid_gap": null,
            "max_width": null,
            "order": null,
            "_view_module_version": "1.2.0",
            "grid_template_areas": null,
            "object_position": null,
            "object_fit": null,
            "grid_auto_columns": null,
            "margin": null,
            "display": null,
            "left": null
          }
        },
        "a809155bf81340c88a359f8e8b52b1a7": {
          "model_module": "@jupyter-widgets/controls",
          "model_name": "DescriptionStyleModel",
          "model_module_version": "1.5.0",
          "state": {
            "_view_name": "StyleView",
            "_model_name": "DescriptionStyleModel",
            "description_width": "",
            "_view_module": "@jupyter-widgets/base",
            "_model_module_version": "1.5.0",
            "_view_count": null,
            "_view_module_version": "1.2.0",
            "_model_module": "@jupyter-widgets/controls"
          }
        },
        "8a927038a7cb49a6a64673ce556a0c8e": {
          "model_module": "@jupyter-widgets/base",
          "model_name": "LayoutModel",
          "model_module_version": "1.2.0",
          "state": {
            "_view_name": "LayoutView",
            "grid_template_rows": null,
            "right": null,
            "justify_content": null,
            "_view_module": "@jupyter-widgets/base",
            "overflow": null,
            "_model_module_version": "1.2.0",
            "_view_count": null,
            "flex_flow": null,
            "width": null,
            "min_width": null,
            "border": null,
            "align_items": null,
            "bottom": null,
            "_model_module": "@jupyter-widgets/base",
            "top": null,
            "grid_column": null,
            "overflow_y": null,
            "overflow_x": null,
            "grid_auto_flow": null,
            "grid_area": null,
            "grid_template_columns": null,
            "flex": null,
            "_model_name": "LayoutModel",
            "justify_items": null,
            "grid_row": null,
            "max_height": null,
            "align_content": null,
            "visibility": null,
            "align_self": null,
            "height": null,
            "min_height": null,
            "padding": null,
            "grid_auto_rows": null,
            "grid_gap": null,
            "max_width": null,
            "order": null,
            "_view_module_version": "1.2.0",
            "grid_template_areas": null,
            "object_position": null,
            "object_fit": null,
            "grid_auto_columns": null,
            "margin": null,
            "display": null,
            "left": null
          }
        }
      }
    }
  },
  "cells": [
    {
      "cell_type": "markdown",
      "metadata": {
        "id": "view-in-github",
        "colab_type": "text"
      },
      "source": [
        "<a href=\"https://colab.research.google.com/github/Cloblak/aipi540_deeplearning/blob/main/1D_CNN_Attempts/1D_CNN.ipynb\" target=\"_parent\"><img src=\"https://colab.research.google.com/assets/colab-badge.svg\" alt=\"Open In Colab\"/></a>"
      ]
    },
    {
      "cell_type": "code",
      "source": [
        "!pip install alpaca_trade_api"
      ],
      "metadata": {
        "id": "Xj0pR3efRVrc",
        "colab": {
          "base_uri": "https://localhost:8080/"
        },
        "outputId": "c99263fc-140b-4a7b-8029-c4c7000717c5"
      },
      "execution_count": 2,
      "outputs": [
        {
          "output_type": "stream",
          "name": "stdout",
          "text": [
            "Collecting alpaca_trade_api\n",
            "  Downloading alpaca_trade_api-1.4.3-py3-none-any.whl (36 kB)\n",
            "Requirement already satisfied: pandas>=0.18.1 in /usr/local/lib/python3.7/dist-packages (from alpaca_trade_api) (1.1.5)\n",
            "Collecting websockets<10,>=8.0\n",
            "  Downloading websockets-9.1-cp37-cp37m-manylinux2010_x86_64.whl (103 kB)\n",
            "\u001b[K     |████████████████████████████████| 103 kB 8.6 MB/s \n",
            "\u001b[?25hCollecting msgpack==1.0.2\n",
            "  Downloading msgpack-1.0.2-cp37-cp37m-manylinux1_x86_64.whl (273 kB)\n",
            "\u001b[K     |████████████████████████████████| 273 kB 46.9 MB/s \n",
            "\u001b[?25hRequirement already satisfied: requests<3,>2 in /usr/local/lib/python3.7/dist-packages (from alpaca_trade_api) (2.23.0)\n",
            "Requirement already satisfied: urllib3<2,>1.24 in /usr/local/lib/python3.7/dist-packages (from alpaca_trade_api) (1.24.3)\n",
            "Collecting PyYAML==5.4.1\n",
            "  Downloading PyYAML-5.4.1-cp37-cp37m-manylinux1_x86_64.whl (636 kB)\n",
            "\u001b[K     |████████████████████████████████| 636 kB 54.6 MB/s \n",
            "\u001b[?25hCollecting websocket-client<2,>=0.56.0\n",
            "  Downloading websocket_client-1.2.3-py3-none-any.whl (53 kB)\n",
            "\u001b[K     |████████████████████████████████| 53 kB 1.8 MB/s \n",
            "\u001b[?25hRequirement already satisfied: numpy>=1.11.1 in /usr/local/lib/python3.7/dist-packages (from alpaca_trade_api) (1.19.5)\n",
            "Collecting aiohttp==3.7.4\n",
            "  Downloading aiohttp-3.7.4-cp37-cp37m-manylinux2014_x86_64.whl (1.3 MB)\n",
            "\u001b[K     |████████████████████████████████| 1.3 MB 48.9 MB/s \n",
            "\u001b[?25hRequirement already satisfied: attrs>=17.3.0 in /usr/local/lib/python3.7/dist-packages (from aiohttp==3.7.4->alpaca_trade_api) (21.4.0)\n",
            "Requirement already satisfied: chardet<4.0,>=2.0 in /usr/local/lib/python3.7/dist-packages (from aiohttp==3.7.4->alpaca_trade_api) (3.0.4)\n",
            "Collecting async-timeout<4.0,>=3.0\n",
            "  Downloading async_timeout-3.0.1-py3-none-any.whl (8.2 kB)\n",
            "Collecting multidict<7.0,>=4.5\n",
            "  Downloading multidict-5.2.0-cp37-cp37m-manylinux_2_5_x86_64.manylinux1_x86_64.manylinux_2_12_x86_64.manylinux2010_x86_64.whl (160 kB)\n",
            "\u001b[K     |████████████████████████████████| 160 kB 57.5 MB/s \n",
            "\u001b[?25hRequirement already satisfied: typing-extensions>=3.6.5 in /usr/local/lib/python3.7/dist-packages (from aiohttp==3.7.4->alpaca_trade_api) (3.10.0.2)\n",
            "Collecting yarl<2.0,>=1.0\n",
            "  Downloading yarl-1.7.2-cp37-cp37m-manylinux_2_5_x86_64.manylinux1_x86_64.manylinux_2_12_x86_64.manylinux2010_x86_64.whl (271 kB)\n",
            "\u001b[K     |████████████████████████████████| 271 kB 59.7 MB/s \n",
            "\u001b[?25hRequirement already satisfied: python-dateutil>=2.7.3 in /usr/local/lib/python3.7/dist-packages (from pandas>=0.18.1->alpaca_trade_api) (2.8.2)\n",
            "Requirement already satisfied: pytz>=2017.2 in /usr/local/lib/python3.7/dist-packages (from pandas>=0.18.1->alpaca_trade_api) (2018.9)\n",
            "Requirement already satisfied: six>=1.5 in /usr/local/lib/python3.7/dist-packages (from python-dateutil>=2.7.3->pandas>=0.18.1->alpaca_trade_api) (1.15.0)\n",
            "Requirement already satisfied: certifi>=2017.4.17 in /usr/local/lib/python3.7/dist-packages (from requests<3,>2->alpaca_trade_api) (2021.10.8)\n",
            "Requirement already satisfied: idna<3,>=2.5 in /usr/local/lib/python3.7/dist-packages (from requests<3,>2->alpaca_trade_api) (2.10)\n",
            "Installing collected packages: multidict, yarl, async-timeout, websockets, websocket-client, PyYAML, msgpack, aiohttp, alpaca-trade-api\n",
            "  Attempting uninstall: PyYAML\n",
            "    Found existing installation: PyYAML 3.13\n",
            "    Uninstalling PyYAML-3.13:\n",
            "      Successfully uninstalled PyYAML-3.13\n",
            "  Attempting uninstall: msgpack\n",
            "    Found existing installation: msgpack 1.0.3\n",
            "    Uninstalling msgpack-1.0.3:\n",
            "      Successfully uninstalled msgpack-1.0.3\n",
            "Successfully installed PyYAML-5.4.1 aiohttp-3.7.4 alpaca-trade-api-1.4.3 async-timeout-3.0.1 msgpack-1.0.2 multidict-5.2.0 websocket-client-1.2.3 websockets-9.1 yarl-1.7.2\n"
          ]
        }
      ]
    },
    {
      "cell_type": "markdown",
      "source": [
        "Features To Consider\n",
        " - Targets are only predicting sell within market hours, i.e. at 1530, target is prediciting price for 1100 the next day.  Data from pre and post market is taken into consideration, and a sell or buy will be indicated if the price will flucuate after close."
      ],
      "metadata": {
        "id": "hdKRKIogGAu6"
      }
    },
    {
      "cell_type": "code",
      "source": [
        "# Import Dependencies\n",
        "import numpy as np\n",
        "import pandas as pd\n",
        "import torch\n",
        "from torchvision import datasets, transforms\n",
        "import torchvision\n",
        "from torch.utils.data import DataLoader, TensorDataset\n",
        "import torch.nn as nn\n",
        "import torch.nn.functional as F\n",
        "import torch.optim as optim\n",
        "from tqdm.notebook import tqdm\n",
        "import alpaca_trade_api as tradeapi\n",
        "from datetime import datetime, timedelta, tzinfo, timezone, time\n",
        "import os.path\n",
        "import ast\n",
        "import threading\n",
        "import math\n",
        "import seaborn as sns\n",
        "import matplotlib.pyplot as plt\n",
        "from sklearn.model_selection import train_test_split\n",
        "from sklearn.preprocessing import StandardScaler"
      ],
      "metadata": {
        "id": "J1fWNRnTQZX-"
      },
      "execution_count": 3,
      "outputs": []
    },
    {
      "cell_type": "code",
      "source": [
        "PAPER_API_KEY = \"PKE39LILN9SL1FMJMFV7\"\n",
        "PAPER_SECRET_KEY = \"TkU7fXH6WhP15MewgWlSnQG5RUoHGOPQ7yqlD6xq\"\n",
        "PAPER_BASE_URL = 'https://paper-api.alpaca.markets'"
      ],
      "metadata": {
        "id": "IXnO8ykgRIuv"
      },
      "execution_count": 4,
      "outputs": []
    },
    {
      "cell_type": "code",
      "source": [
        "api = tradeapi.REST(PAPER_API_KEY, PAPER_SECRET_KEY, PAPER_BASE_URL, api_version='v2')"
      ],
      "metadata": {
        "id": "_3XShkLcRQMs"
      },
      "execution_count": 5,
      "outputs": []
    },
    {
      "cell_type": "code",
      "source": [
        "def prepost_train_test_validate_offset_data(api, ticker, interval, train_days=180, test_days=60, validate_days=30, offset_days = 0):\n",
        "    ticker_data_dict = None\n",
        "    ticker_data_dict = {}\n",
        "    monthly_data_dict = None\n",
        "    monthly_data_dict = {}\n",
        "    interval_loop_data = None\n",
        "    interval_loop_data = pd.DataFrame()\n",
        "    stock_data = None\n",
        "    \n",
        "    days_to_collect = train_days + test_days + validate_days + offset_days\n",
        "\n",
        "    TZ = 'US/Eastern'\n",
        "\n",
        "    start = pd.to_datetime((datetime.now() - timedelta(days=days_to_collect)).strftime(\"%Y-%m-%d %H:%M\"), utc=True)\n",
        "    end = pd.to_datetime(datetime.now().strftime(\"%Y-%m-%d %H:%M\"), utc=True)\n",
        "\n",
        "    stock_data = api.get_bars(ticker, interval, start = start.isoformat(), end=end.isoformat(), adjustment=\"raw\").df\n",
        "    \n",
        "    interval_loop_data = interval_loop_data.append(stock_data)\n",
        "    df_start_ref = interval_loop_data.index[0]\n",
        "    start_str_ref = pd.to_datetime(start, utc=True)\n",
        "\n",
        "    while start_str_ref.value < ( pd.to_datetime(df_start_ref, utc=True) - pd.Timedelta(days=2.5)).value:\n",
        "        end_new = pd.to_datetime(interval_loop_data.index[0].strftime(\"%Y-%m-%d %H:%M\"), utc=True).isoformat()\n",
        "        stock_data_new = None\n",
        "        stock_data_new = api.get_bars(ticker, interval, start=start, end=end_new, adjustment=\"raw\").df\n",
        "        #stock_data_new = stock_data_new.reset_index()\n",
        "        interval_loop_data = interval_loop_data.append(stock_data_new).sort_values(by=['index'], ascending=True)\n",
        "        df_start_ref = interval_loop_data.index[0]\n",
        "        \n",
        "    stock_yr_min_df = interval_loop_data.copy()\n",
        "    stock_yr_min_df[\"Open\"] = stock_yr_min_df['open']\n",
        "    stock_yr_min_df[\"High\"]= stock_yr_min_df[\"high\"]\n",
        "    stock_yr_min_df[\"Low\"] = stock_yr_min_df[\"low\"]\n",
        "    stock_yr_min_df[\"Close\"] = stock_yr_min_df[\"close\"]\n",
        "    stock_yr_min_df[\"Volume\"] = stock_yr_min_df[\"volume\"]\n",
        "    stock_yr_min_df[\"VolumeWeightedAvgPrice\"] = stock_yr_min_df[\"vwap\"]\n",
        "    stock_yr_min_df[\"Time\"] = stock_yr_min_df.index.tz_convert(TZ)\n",
        "    stock_yr_min_df.index = stock_yr_min_df.index.tz_convert(TZ)\n",
        "    final_df = stock_yr_min_df.filter([\"Time\", \"Open\", \"High\", \"Low\", \"Close\", \"Volume\", \"VolumeWeightedAvgPrice\"], axis = 1)\n",
        "    \n",
        "    first_day = final_df.index[0]\n",
        "    traintest_day = final_df.index[-1] - pd.Timedelta(days= test_days+validate_days+offset_days)\n",
        "    valtest_day = final_df.index[-1] - pd.Timedelta(days= test_days+offset_days)\n",
        "    last_day = final_df.index[-1] - pd.Timedelta(days= offset_days)\n",
        "    training_df =  final_df.loc[first_day:traintest_day] #(data_split - pd.Timedelta(days=1))]\n",
        "    validate_df = final_df.loc[traintest_day:valtest_day]\n",
        "    testing_df =  final_df.loc[valtest_day:last_day]\n",
        "    full_train = final_df.loc[first_day:last_day]\n",
        "    offset_df =  final_df.loc[last_day:]\n",
        "\n",
        "    return training_df, validate_df, testing_df, full_train, offset_df, final_df, traintest_day, valtest_day\n",
        "\n",
        "def markethours_train_test_validate_offset_data(api, ticker, interval, train_days=180, test_days=60, validate_days=30, offset_days = 0):\n",
        "    ticker_data_dict = None\n",
        "    ticker_data_dict = {}\n",
        "    monthly_data_dict = None\n",
        "    monthly_data_dict = {}\n",
        "    interval_loop_data = None\n",
        "    interval_loop_data = pd.DataFrame()\n",
        "    stock_data = None\n",
        "    \n",
        "    days_to_collect = train_days + test_days + validate_days + offset_days\n",
        "\n",
        "    TZ = 'US/Eastern'\n",
        "\n",
        "    start = pd.to_datetime((datetime.now() - timedelta(days=days_to_collect)).strftime(\"%Y-%m-%d %H:%M\"), utc=True)\n",
        "    end = pd.to_datetime(datetime.now().strftime(\"%Y-%m-%d %H:%M\"), utc=True)\n",
        "\n",
        "    stock_data = api.get_barset(ticker, interval, start = start.isoformat(), end=end.isoformat()).df\n",
        "    \n",
        "    interval_loop_data = interval_loop_data.append(stock_data)\n",
        "    df_start_ref = interval_loop_data.index[0]\n",
        "    start_str_ref = pd.to_datetime(start, utc=True)\n",
        "\n",
        "    while start_str_ref.value < ( pd.to_datetime(df_start_ref, utc=True) - pd.Timedelta(days=2.5)).value:\n",
        "        end_new = pd.to_datetime(interval_loop_data.index[0].strftime(\"%Y-%m-%d %H:%M\"), utc=True).isoformat()\n",
        "        stock_data_new = None\n",
        "        stock_data_new = api.get_barset(ticker, interval, start=start, end=end_new).df\n",
        "        interval_loop_data = interval_loop_data.append(stock_data_new).sort_values(by=['time'], ascending=True)\n",
        "        df_start_ref = interval_loop_data.index[0]\n",
        "        \n",
        "    stock_yr_min_df = interval_loop_data.copy()\n",
        "    pre_final = pd.DataFrame()\n",
        "    pre_final[\"Open\"] = stock_yr_min_df[ticker]['open']\n",
        "    pre_final[\"High\"]= stock_yr_min_df[ticker][\"high\"]\n",
        "    pre_final[\"Low\"] = stock_yr_min_df[ticker][\"low\"]\n",
        "    pre_final[\"Close\"] = stock_yr_min_df[ticker][\"close\"]\n",
        "    pre_final[\"Volume\"] = stock_yr_min_df[ticker][\"volume\"]\n",
        "    pre_final[\"Time\"] = stock_yr_min_df.index.tz_convert(TZ)\n",
        "    pre_final.index = stock_yr_min_df.index.tz_convert(TZ)\n",
        "    \n",
        "    final_df = pre_final.filter([\"Time\", \"Open\", \"High\", \"Low\", \"Close\", \"Volume\"], axis = 1).between_time('9:29', '16:05')\n",
        "    \n",
        "    first_day = final_df.index[0]\n",
        "    traintest_day = final_df.index[-1] - pd.Timedelta(days= test_days+validate_days+offset_days)\n",
        "    valtest_day = final_df.index[-1] - pd.Timedelta(days= test_days+offset_days)\n",
        "    last_day = final_df.index[-1] - pd.Timedelta(days= offset_days)\n",
        "    training_df =  final_df.loc[first_day:traintest_day] #(data_split - pd.Timedelta(days=1))]\n",
        "    validate_df = final_df.loc[traintest_day:valtest_day]\n",
        "    testing_df =  final_df.loc[valtest_day:last_day]\n",
        "    full_train = final_df.loc[first_day:last_day]\n",
        "    offset_df =  final_df.loc[last_day:]\n",
        "\n",
        "    return training_df, validate_df, testing_df, full_train, offset_df, final_df, traintest_day, valtest_day"
      ],
      "metadata": {
        "id": "tINNlljbRaDs"
      },
      "execution_count": 6,
      "outputs": []
    },
    {
      "cell_type": "code",
      "source": [
        "ticker = \"WMT\" # Ticker Symbol to Test\n",
        "interval = \"5Min\" # Interval of bars\n",
        "train_day_int = 365 # Size of training set\n",
        "val_day_int = 0 # Size of validation set\n",
        "test_day_int = 60 # Size of test set\n",
        "offset_day_int = 365 # Number of days to off set the training data\n",
        "train, val, test, full, offset, complete, traintest_day, testval_day = markethours_train_test_validate_offset_data(api, ticker, \n",
        "                                                                                     interval, \n",
        "                                                                                     train_days=train_day_int, \n",
        "                                                                                     test_days=test_day_int, \n",
        "                                                                                     validate_days=val_day_int,\n",
        "                                                                                     offset_days = offset_day_int)"
      ],
      "metadata": {
        "id": "rRFxnqAiRcnE",
        "colab": {
          "base_uri": "https://localhost:8080/"
        },
        "outputId": "2e37fee0-0e32-43c0-be70-bcba7dd6f08e"
      },
      "execution_count": 7,
      "outputs": [
        {
          "output_type": "stream",
          "name": "stderr",
          "text": [
            "sleep 3 seconds and retrying https://data.alpaca.markets/v1/bars/5Min 3 more time(s)...\n",
            "sleep 3 seconds and retrying https://data.alpaca.markets/v1/bars/5Min 3 more time(s)...\n",
            "sleep 3 seconds and retrying https://data.alpaca.markets/v1/bars/5Min 3 more time(s)...\n",
            "sleep 3 seconds and retrying https://data.alpaca.markets/v1/bars/5Min 3 more time(s)...\n",
            "sleep 3 seconds and retrying https://data.alpaca.markets/v1/bars/5Min 3 more time(s)...\n",
            "sleep 3 seconds and retrying https://data.alpaca.markets/v1/bars/5Min 3 more time(s)...\n",
            "sleep 3 seconds and retrying https://data.alpaca.markets/v1/bars/5Min 3 more time(s)...\n"
          ]
        }
      ]
    },
    {
      "cell_type": "code",
      "source": [
        "train.head(25)"
      ],
      "metadata": {
        "colab": {
          "base_uri": "https://localhost:8080/",
          "height": 865
        },
        "id": "VuAVCxY2gMww",
        "outputId": "e486ade9-264f-438e-eb02-def7ac592e26"
      },
      "execution_count": 8,
      "outputs": [
        {
          "output_type": "execute_result",
          "data": {
            "text/html": [
              "\n",
              "  <div id=\"df-a663db4b-4414-4e77-900f-82a321339ff4\">\n",
              "    <div class=\"colab-df-container\">\n",
              "      <div>\n",
              "<style scoped>\n",
              "    .dataframe tbody tr th:only-of-type {\n",
              "        vertical-align: middle;\n",
              "    }\n",
              "\n",
              "    .dataframe tbody tr th {\n",
              "        vertical-align: top;\n",
              "    }\n",
              "\n",
              "    .dataframe thead th {\n",
              "        text-align: right;\n",
              "    }\n",
              "</style>\n",
              "<table border=\"1\" class=\"dataframe\">\n",
              "  <thead>\n",
              "    <tr style=\"text-align: right;\">\n",
              "      <th></th>\n",
              "      <th>Time</th>\n",
              "      <th>Open</th>\n",
              "      <th>High</th>\n",
              "      <th>Low</th>\n",
              "      <th>Close</th>\n",
              "      <th>Volume</th>\n",
              "    </tr>\n",
              "    <tr>\n",
              "      <th>time</th>\n",
              "      <th></th>\n",
              "      <th></th>\n",
              "      <th></th>\n",
              "      <th></th>\n",
              "      <th></th>\n",
              "      <th></th>\n",
              "    </tr>\n",
              "  </thead>\n",
              "  <tbody>\n",
              "    <tr>\n",
              "      <th>2019-11-21 14:10:00-05:00</th>\n",
              "      <td>2019-11-21 14:10:00-05:00</td>\n",
              "      <td>119.400</td>\n",
              "      <td>119.440</td>\n",
              "      <td>119.380</td>\n",
              "      <td>119.410</td>\n",
              "      <td>1383</td>\n",
              "    </tr>\n",
              "    <tr>\n",
              "      <th>2019-11-21 14:15:00-05:00</th>\n",
              "      <td>2019-11-21 14:15:00-05:00</td>\n",
              "      <td>119.425</td>\n",
              "      <td>119.470</td>\n",
              "      <td>119.425</td>\n",
              "      <td>119.470</td>\n",
              "      <td>727</td>\n",
              "    </tr>\n",
              "    <tr>\n",
              "      <th>2019-11-21 14:20:00-05:00</th>\n",
              "      <td>2019-11-21 14:20:00-05:00</td>\n",
              "      <td>119.455</td>\n",
              "      <td>119.455</td>\n",
              "      <td>119.380</td>\n",
              "      <td>119.420</td>\n",
              "      <td>1465</td>\n",
              "    </tr>\n",
              "    <tr>\n",
              "      <th>2019-11-21 14:25:00-05:00</th>\n",
              "      <td>2019-11-21 14:25:00-05:00</td>\n",
              "      <td>119.430</td>\n",
              "      <td>119.430</td>\n",
              "      <td>119.370</td>\n",
              "      <td>119.420</td>\n",
              "      <td>1870</td>\n",
              "    </tr>\n",
              "    <tr>\n",
              "      <th>2019-11-21 14:30:00-05:00</th>\n",
              "      <td>2019-11-21 14:30:00-05:00</td>\n",
              "      <td>119.420</td>\n",
              "      <td>119.490</td>\n",
              "      <td>119.420</td>\n",
              "      <td>119.440</td>\n",
              "      <td>34357</td>\n",
              "    </tr>\n",
              "    <tr>\n",
              "      <th>2019-11-21 14:35:00-05:00</th>\n",
              "      <td>2019-11-21 14:35:00-05:00</td>\n",
              "      <td>119.440</td>\n",
              "      <td>119.455</td>\n",
              "      <td>119.420</td>\n",
              "      <td>119.445</td>\n",
              "      <td>1800</td>\n",
              "    </tr>\n",
              "    <tr>\n",
              "      <th>2019-11-21 14:40:00-05:00</th>\n",
              "      <td>2019-11-21 14:40:00-05:00</td>\n",
              "      <td>119.470</td>\n",
              "      <td>119.590</td>\n",
              "      <td>119.465</td>\n",
              "      <td>119.590</td>\n",
              "      <td>3409</td>\n",
              "    </tr>\n",
              "    <tr>\n",
              "      <th>2019-11-21 14:45:00-05:00</th>\n",
              "      <td>2019-11-21 14:45:00-05:00</td>\n",
              "      <td>119.600</td>\n",
              "      <td>119.660</td>\n",
              "      <td>119.570</td>\n",
              "      <td>119.640</td>\n",
              "      <td>7013</td>\n",
              "    </tr>\n",
              "    <tr>\n",
              "      <th>2019-11-21 14:50:00-05:00</th>\n",
              "      <td>2019-11-21 14:50:00-05:00</td>\n",
              "      <td>119.630</td>\n",
              "      <td>119.760</td>\n",
              "      <td>119.630</td>\n",
              "      <td>119.720</td>\n",
              "      <td>1571</td>\n",
              "    </tr>\n",
              "    <tr>\n",
              "      <th>2019-11-21 14:55:00-05:00</th>\n",
              "      <td>2019-11-21 14:55:00-05:00</td>\n",
              "      <td>119.740</td>\n",
              "      <td>119.770</td>\n",
              "      <td>119.640</td>\n",
              "      <td>119.680</td>\n",
              "      <td>2602</td>\n",
              "    </tr>\n",
              "    <tr>\n",
              "      <th>2019-11-21 15:00:00-05:00</th>\n",
              "      <td>2019-11-21 15:00:00-05:00</td>\n",
              "      <td>119.650</td>\n",
              "      <td>119.680</td>\n",
              "      <td>119.605</td>\n",
              "      <td>119.605</td>\n",
              "      <td>3017</td>\n",
              "    </tr>\n",
              "    <tr>\n",
              "      <th>2019-11-21 15:05:00-05:00</th>\n",
              "      <td>2019-11-21 15:05:00-05:00</td>\n",
              "      <td>119.605</td>\n",
              "      <td>119.685</td>\n",
              "      <td>119.585</td>\n",
              "      <td>119.685</td>\n",
              "      <td>6080</td>\n",
              "    </tr>\n",
              "    <tr>\n",
              "      <th>2019-11-21 15:10:00-05:00</th>\n",
              "      <td>2019-11-21 15:10:00-05:00</td>\n",
              "      <td>119.700</td>\n",
              "      <td>119.725</td>\n",
              "      <td>119.665</td>\n",
              "      <td>119.690</td>\n",
              "      <td>2233</td>\n",
              "    </tr>\n",
              "    <tr>\n",
              "      <th>2019-11-21 15:15:00-05:00</th>\n",
              "      <td>2019-11-21 15:15:00-05:00</td>\n",
              "      <td>119.685</td>\n",
              "      <td>119.685</td>\n",
              "      <td>119.540</td>\n",
              "      <td>119.610</td>\n",
              "      <td>4475</td>\n",
              "    </tr>\n",
              "    <tr>\n",
              "      <th>2019-11-21 15:20:00-05:00</th>\n",
              "      <td>2019-11-21 15:20:00-05:00</td>\n",
              "      <td>119.595</td>\n",
              "      <td>119.650</td>\n",
              "      <td>119.590</td>\n",
              "      <td>119.650</td>\n",
              "      <td>2617</td>\n",
              "    </tr>\n",
              "    <tr>\n",
              "      <th>2019-11-21 15:25:00-05:00</th>\n",
              "      <td>2019-11-21 15:25:00-05:00</td>\n",
              "      <td>119.670</td>\n",
              "      <td>119.670</td>\n",
              "      <td>119.595</td>\n",
              "      <td>119.645</td>\n",
              "      <td>3293</td>\n",
              "    </tr>\n",
              "    <tr>\n",
              "      <th>2019-11-21 15:30:00-05:00</th>\n",
              "      <td>2019-11-21 15:30:00-05:00</td>\n",
              "      <td>119.645</td>\n",
              "      <td>119.670</td>\n",
              "      <td>119.540</td>\n",
              "      <td>119.540</td>\n",
              "      <td>8142</td>\n",
              "    </tr>\n",
              "    <tr>\n",
              "      <th>2019-11-21 15:35:00-05:00</th>\n",
              "      <td>2019-11-21 15:35:00-05:00</td>\n",
              "      <td>119.585</td>\n",
              "      <td>119.585</td>\n",
              "      <td>119.470</td>\n",
              "      <td>119.535</td>\n",
              "      <td>5142</td>\n",
              "    </tr>\n",
              "    <tr>\n",
              "      <th>2019-11-21 15:40:00-05:00</th>\n",
              "      <td>2019-11-21 15:40:00-05:00</td>\n",
              "      <td>119.540</td>\n",
              "      <td>119.660</td>\n",
              "      <td>119.480</td>\n",
              "      <td>119.660</td>\n",
              "      <td>6363</td>\n",
              "    </tr>\n",
              "    <tr>\n",
              "      <th>2019-11-21 15:45:00-05:00</th>\n",
              "      <td>2019-11-21 15:45:00-05:00</td>\n",
              "      <td>119.615</td>\n",
              "      <td>119.690</td>\n",
              "      <td>119.600</td>\n",
              "      <td>119.650</td>\n",
              "      <td>4962</td>\n",
              "    </tr>\n",
              "    <tr>\n",
              "      <th>2019-11-21 15:50:00-05:00</th>\n",
              "      <td>2019-11-21 15:50:00-05:00</td>\n",
              "      <td>119.620</td>\n",
              "      <td>119.640</td>\n",
              "      <td>119.540</td>\n",
              "      <td>119.635</td>\n",
              "      <td>6896</td>\n",
              "    </tr>\n",
              "    <tr>\n",
              "      <th>2019-11-21 15:55:00-05:00</th>\n",
              "      <td>2019-11-21 15:55:00-05:00</td>\n",
              "      <td>119.620</td>\n",
              "      <td>120.000</td>\n",
              "      <td>119.620</td>\n",
              "      <td>119.880</td>\n",
              "      <td>26460</td>\n",
              "    </tr>\n",
              "    <tr>\n",
              "      <th>2019-11-22 09:30:00-05:00</th>\n",
              "      <td>2019-11-22 09:30:00-05:00</td>\n",
              "      <td>120.260</td>\n",
              "      <td>120.260</td>\n",
              "      <td>119.780</td>\n",
              "      <td>119.780</td>\n",
              "      <td>1062</td>\n",
              "    </tr>\n",
              "    <tr>\n",
              "      <th>2019-11-22 09:35:00-05:00</th>\n",
              "      <td>2019-11-22 09:35:00-05:00</td>\n",
              "      <td>119.780</td>\n",
              "      <td>120.010</td>\n",
              "      <td>119.780</td>\n",
              "      <td>119.950</td>\n",
              "      <td>2662</td>\n",
              "    </tr>\n",
              "    <tr>\n",
              "      <th>2019-11-22 09:40:00-05:00</th>\n",
              "      <td>2019-11-22 09:40:00-05:00</td>\n",
              "      <td>119.720</td>\n",
              "      <td>119.740</td>\n",
              "      <td>119.630</td>\n",
              "      <td>119.740</td>\n",
              "      <td>860</td>\n",
              "    </tr>\n",
              "  </tbody>\n",
              "</table>\n",
              "</div>\n",
              "      <button class=\"colab-df-convert\" onclick=\"convertToInteractive('df-a663db4b-4414-4e77-900f-82a321339ff4')\"\n",
              "              title=\"Convert this dataframe to an interactive table.\"\n",
              "              style=\"display:none;\">\n",
              "        \n",
              "  <svg xmlns=\"http://www.w3.org/2000/svg\" height=\"24px\"viewBox=\"0 0 24 24\"\n",
              "       width=\"24px\">\n",
              "    <path d=\"M0 0h24v24H0V0z\" fill=\"none\"/>\n",
              "    <path d=\"M18.56 5.44l.94 2.06.94-2.06 2.06-.94-2.06-.94-.94-2.06-.94 2.06-2.06.94zm-11 1L8.5 8.5l.94-2.06 2.06-.94-2.06-.94L8.5 2.5l-.94 2.06-2.06.94zm10 10l.94 2.06.94-2.06 2.06-.94-2.06-.94-.94-2.06-.94 2.06-2.06.94z\"/><path d=\"M17.41 7.96l-1.37-1.37c-.4-.4-.92-.59-1.43-.59-.52 0-1.04.2-1.43.59L10.3 9.45l-7.72 7.72c-.78.78-.78 2.05 0 2.83L4 21.41c.39.39.9.59 1.41.59.51 0 1.02-.2 1.41-.59l7.78-7.78 2.81-2.81c.8-.78.8-2.07 0-2.86zM5.41 20L4 18.59l7.72-7.72 1.47 1.35L5.41 20z\"/>\n",
              "  </svg>\n",
              "      </button>\n",
              "      \n",
              "  <style>\n",
              "    .colab-df-container {\n",
              "      display:flex;\n",
              "      flex-wrap:wrap;\n",
              "      gap: 12px;\n",
              "    }\n",
              "\n",
              "    .colab-df-convert {\n",
              "      background-color: #E8F0FE;\n",
              "      border: none;\n",
              "      border-radius: 50%;\n",
              "      cursor: pointer;\n",
              "      display: none;\n",
              "      fill: #1967D2;\n",
              "      height: 32px;\n",
              "      padding: 0 0 0 0;\n",
              "      width: 32px;\n",
              "    }\n",
              "\n",
              "    .colab-df-convert:hover {\n",
              "      background-color: #E2EBFA;\n",
              "      box-shadow: 0px 1px 2px rgba(60, 64, 67, 0.3), 0px 1px 3px 1px rgba(60, 64, 67, 0.15);\n",
              "      fill: #174EA6;\n",
              "    }\n",
              "\n",
              "    [theme=dark] .colab-df-convert {\n",
              "      background-color: #3B4455;\n",
              "      fill: #D2E3FC;\n",
              "    }\n",
              "\n",
              "    [theme=dark] .colab-df-convert:hover {\n",
              "      background-color: #434B5C;\n",
              "      box-shadow: 0px 1px 3px 1px rgba(0, 0, 0, 0.15);\n",
              "      filter: drop-shadow(0px 1px 2px rgba(0, 0, 0, 0.3));\n",
              "      fill: #FFFFFF;\n",
              "    }\n",
              "  </style>\n",
              "\n",
              "      <script>\n",
              "        const buttonEl =\n",
              "          document.querySelector('#df-a663db4b-4414-4e77-900f-82a321339ff4 button.colab-df-convert');\n",
              "        buttonEl.style.display =\n",
              "          google.colab.kernel.accessAllowed ? 'block' : 'none';\n",
              "\n",
              "        async function convertToInteractive(key) {\n",
              "          const element = document.querySelector('#df-a663db4b-4414-4e77-900f-82a321339ff4');\n",
              "          const dataTable =\n",
              "            await google.colab.kernel.invokeFunction('convertToInteractive',\n",
              "                                                     [key], {});\n",
              "          if (!dataTable) return;\n",
              "\n",
              "          const docLinkHtml = 'Like what you see? Visit the ' +\n",
              "            '<a target=\"_blank\" href=https://colab.research.google.com/notebooks/data_table.ipynb>data table notebook</a>'\n",
              "            + ' to learn more about interactive tables.';\n",
              "          element.innerHTML = '';\n",
              "          dataTable['output_type'] = 'display_data';\n",
              "          await google.colab.output.renderOutput(dataTable, element);\n",
              "          const docLink = document.createElement('div');\n",
              "          docLink.innerHTML = docLinkHtml;\n",
              "          element.appendChild(docLink);\n",
              "        }\n",
              "      </script>\n",
              "    </div>\n",
              "  </div>\n",
              "  "
            ],
            "text/plain": [
              "                                               Time     Open  ...    Close  Volume\n",
              "time                                                          ...                 \n",
              "2019-11-21 14:10:00-05:00 2019-11-21 14:10:00-05:00  119.400  ...  119.410    1383\n",
              "2019-11-21 14:15:00-05:00 2019-11-21 14:15:00-05:00  119.425  ...  119.470     727\n",
              "2019-11-21 14:20:00-05:00 2019-11-21 14:20:00-05:00  119.455  ...  119.420    1465\n",
              "2019-11-21 14:25:00-05:00 2019-11-21 14:25:00-05:00  119.430  ...  119.420    1870\n",
              "2019-11-21 14:30:00-05:00 2019-11-21 14:30:00-05:00  119.420  ...  119.440   34357\n",
              "2019-11-21 14:35:00-05:00 2019-11-21 14:35:00-05:00  119.440  ...  119.445    1800\n",
              "2019-11-21 14:40:00-05:00 2019-11-21 14:40:00-05:00  119.470  ...  119.590    3409\n",
              "2019-11-21 14:45:00-05:00 2019-11-21 14:45:00-05:00  119.600  ...  119.640    7013\n",
              "2019-11-21 14:50:00-05:00 2019-11-21 14:50:00-05:00  119.630  ...  119.720    1571\n",
              "2019-11-21 14:55:00-05:00 2019-11-21 14:55:00-05:00  119.740  ...  119.680    2602\n",
              "2019-11-21 15:00:00-05:00 2019-11-21 15:00:00-05:00  119.650  ...  119.605    3017\n",
              "2019-11-21 15:05:00-05:00 2019-11-21 15:05:00-05:00  119.605  ...  119.685    6080\n",
              "2019-11-21 15:10:00-05:00 2019-11-21 15:10:00-05:00  119.700  ...  119.690    2233\n",
              "2019-11-21 15:15:00-05:00 2019-11-21 15:15:00-05:00  119.685  ...  119.610    4475\n",
              "2019-11-21 15:20:00-05:00 2019-11-21 15:20:00-05:00  119.595  ...  119.650    2617\n",
              "2019-11-21 15:25:00-05:00 2019-11-21 15:25:00-05:00  119.670  ...  119.645    3293\n",
              "2019-11-21 15:30:00-05:00 2019-11-21 15:30:00-05:00  119.645  ...  119.540    8142\n",
              "2019-11-21 15:35:00-05:00 2019-11-21 15:35:00-05:00  119.585  ...  119.535    5142\n",
              "2019-11-21 15:40:00-05:00 2019-11-21 15:40:00-05:00  119.540  ...  119.660    6363\n",
              "2019-11-21 15:45:00-05:00 2019-11-21 15:45:00-05:00  119.615  ...  119.650    4962\n",
              "2019-11-21 15:50:00-05:00 2019-11-21 15:50:00-05:00  119.620  ...  119.635    6896\n",
              "2019-11-21 15:55:00-05:00 2019-11-21 15:55:00-05:00  119.620  ...  119.880   26460\n",
              "2019-11-22 09:30:00-05:00 2019-11-22 09:30:00-05:00  120.260  ...  119.780    1062\n",
              "2019-11-22 09:35:00-05:00 2019-11-22 09:35:00-05:00  119.780  ...  119.950    2662\n",
              "2019-11-22 09:40:00-05:00 2019-11-22 09:40:00-05:00  119.720  ...  119.740     860\n",
              "\n",
              "[25 rows x 6 columns]"
            ]
          },
          "metadata": {},
          "execution_count": 8
        }
      ]
    },
    {
      "cell_type": "code",
      "source": [
        "# test split pd DataFrame into arrays for running CNN on\n",
        "test_train_tonp = train[[\"Time\", \"Open\", \"High\", \"Low\", \"Close\", \"Volume\"]]\n",
        "test_train_array = test_train_tonp.to_numpy()"
      ],
      "metadata": {
        "id": "CadOMouVfmrE"
      },
      "execution_count": 12,
      "outputs": []
    },
    {
      "cell_type": "code",
      "source": [
        "cutoff = len(test_train_array) % 24\n",
        "test_train_array = test_train_array[:-cutoff]\n",
        "len(test_train_array) % 24"
      ],
      "metadata": {
        "colab": {
          "base_uri": "https://localhost:8080/"
        },
        "id": "3H4r7Yczjnpt",
        "outputId": "2ccfba61-2069-4e8d-adee-d111fc7dae75"
      },
      "execution_count": 13,
      "outputs": [
        {
          "output_type": "execute_result",
          "data": {
            "text/plain": [
              "0"
            ]
          },
          "metadata": {},
          "execution_count": 13
        }
      ]
    },
    {
      "cell_type": "code",
      "source": [
        "def blockshaped(arr, nrows, ncols):\n",
        "    \"\"\"\n",
        "    Return an array of shape (n, nrows, ncols) where\n",
        "    n * nrows * ncols = arr.size\n",
        "\n",
        "    If arr is a 2D array, the returned array should look like n subblocks with\n",
        "    each subblock preserving the \"physical\" layout of arr.\n",
        "    \"\"\"\n",
        "    h, w = arr.shape\n",
        "    assert h % nrows == 0, f\"{h} rows is not evenly divisible by {nrows}\"\n",
        "    assert w % ncols == 0, f\"{w} cols is not evenly divisible by {ncols}\"\n",
        "    return (arr.reshape(h//nrows, nrows, -1, ncols)\n",
        "               .swapaxes(1,2)\n",
        "               .reshape(-1, nrows, ncols))\n",
        "  \n",
        "\n",
        "np.set_printoptions(linewidth=100)\n",
        "print(blockshaped(test_train_array, 24, 6)[1])"
      ],
      "metadata": {
        "colab": {
          "base_uri": "https://localhost:8080/"
        },
        "id": "eU_9osOThQ0k",
        "outputId": "4a15e446-41d1-4dea-ad1f-4b2b4f8abcbc"
      },
      "execution_count": 20,
      "outputs": [
        {
          "output_type": "stream",
          "name": "stdout",
          "text": [
            "[[Timestamp('2019-11-22 09:40:00-0500', tz='US/Eastern') 119.72 119.74 119.63 119.74 860]\n",
            " [Timestamp('2019-11-22 09:45:00-0500', tz='US/Eastern') 119.54 119.595 119.46 119.595 1865]\n",
            " [Timestamp('2019-11-22 09:50:00-0500', tz='US/Eastern') 119.7 119.735 119.59 119.71 1200]\n",
            " [Timestamp('2019-11-22 09:55:00-0500', tz='US/Eastern') 119.75 119.76 119.67 119.67 491]\n",
            " [Timestamp('2019-11-22 10:00:00-0500', tz='US/Eastern') 119.7 119.83 119.65 119.65 983]\n",
            " [Timestamp('2019-11-22 10:05:00-0500', tz='US/Eastern') 119.7 119.77 119.7 119.735 405]\n",
            " [Timestamp('2019-11-22 10:10:00-0500', tz='US/Eastern') 119.68 119.85 119.68 119.83 1200]\n",
            " [Timestamp('2019-11-22 10:15:00-0500', tz='US/Eastern') 119.75 119.85 119.66 119.74 1904]\n",
            " [Timestamp('2019-11-22 10:20:00-0500', tz='US/Eastern') 119.69 119.78 119.64 119.75 2179]\n",
            " [Timestamp('2019-11-22 10:25:00-0500', tz='US/Eastern') 119.83 119.83 119.735 119.735 800]\n",
            " [Timestamp('2019-11-22 10:30:00-0500', tz='US/Eastern') 119.72 119.72 119.58 119.58 2041]\n",
            " [Timestamp('2019-11-22 10:35:00-0500', tz='US/Eastern') 119.615 119.65 119.53 119.565 1199]\n",
            " [Timestamp('2019-11-22 10:40:00-0500', tz='US/Eastern') 119.59 119.6 119.485 119.55 1501]\n",
            " [Timestamp('2019-11-22 10:45:00-0500', tz='US/Eastern') 119.565 119.565 119.41 119.42 949]\n",
            " [Timestamp('2019-11-22 10:50:00-0500', tz='US/Eastern') 119.42 119.42 119.38 119.38 660]\n",
            " [Timestamp('2019-11-22 10:55:00-0500', tz='US/Eastern') 119.41 119.49 119.41 119.49 829]\n",
            " [Timestamp('2019-11-22 11:00:00-0500', tz='US/Eastern') 119.49 119.49 119.3 119.3 984]\n",
            " [Timestamp('2019-11-22 11:05:00-0500', tz='US/Eastern') 119.35 119.38 119.33 119.34 505]\n",
            " [Timestamp('2019-11-22 11:10:00-0500', tz='US/Eastern') 119.36 119.45 119.36 119.45 1537]\n",
            " [Timestamp('2019-11-22 11:15:00-0500', tz='US/Eastern') 119.425 119.43 119.38 119.38 803]\n",
            " [Timestamp('2019-11-22 11:20:00-0500', tz='US/Eastern') 119.35 119.4 119.29 119.38 1779]\n",
            " [Timestamp('2019-11-22 11:25:00-0500', tz='US/Eastern') 119.37 119.435 119.36 119.43 406]\n",
            " [Timestamp('2019-11-22 11:30:00-0500', tz='US/Eastern') 119.45 119.47 119.36 119.36 2083]\n",
            " [Timestamp('2019-11-22 11:35:00-0500', tz='US/Eastern') 119.39 119.44 119.39 119.44 1313]]\n"
          ]
        }
      ]
    },
    {
      "cell_type": "code",
      "source": [
        "def tf_dataset(series_x, series_y, batch_size, shuffle_buffer, shuffle=True):\n",
        "    ds = tf.data.Dataset.from_tensor_slices((series_x, series_y))\n",
        "    if shuffle:\n",
        "        ds = ds.cache().shuffle(shuffle_buffer).batch(batch_size).repeat()\n",
        "    else:\n",
        "        ds = ds.cache().batch(batch_size).repeat()\n",
        "\n",
        "    return ds\n",
        "\n",
        "def create_window_dataset(ds, window_size):\n",
        "    windowed_dataset = []\n",
        "\n",
        "    for i in range(window_size, ds.shape[0] + 1):\n",
        "        windowed_dataset.append(ds[i - window_size:])\n",
        "\n",
        "        \n",
        "    return np.array(windowed_dataset)"
      ],
      "metadata": {
        "id": "pBWHqagHcNpo"
      },
      "execution_count": 11,
      "outputs": []
    },
    {
      "cell_type": "code",
      "source": [
        "from sklearn.preprocessing import MinMaxScaler\n",
        "\n",
        "scaled_df = pd.DataFrame()\n",
        "\n",
        "scaler = MinMaxScaler()\n",
        "\n",
        "scaled_train = scaler.fit_transform(train[['Open', 'High', 'Low', 'Close', 'Volume']])\n",
        "scaled_val = scaler.fit_transform(val[['Open', 'High', 'Low', 'Close', 'Volume']])\n",
        "scaled_test = scaler.fit_transform(test[['Open', 'High', 'Low', 'Close', 'Volume']])"
      ],
      "metadata": {
        "id": "ZlbOS2pJcNw2"
      },
      "execution_count": 34,
      "outputs": []
    },
    {
      "cell_type": "code",
      "source": [
        "WINDOW_SIZE = 25\n",
        "BATCH_SIZE = 1\n",
        "\n",
        "windowed_dataset_train = create_window_dataset(scaled_train[:, 0:-1], WINDOW_SIZE)\n",
        "\n"
      ],
      "metadata": {
        "colab": {
          "base_uri": "https://localhost:8080/"
        },
        "id": "gILmupjYcNzF",
        "outputId": "d5bc6edc-33f1-476f-f26f-20cffcaac7ce"
      },
      "execution_count": 43,
      "outputs": [
        {
          "output_type": "stream",
          "name": "stderr",
          "text": [
            "/usr/local/lib/python3.7/dist-packages/ipykernel_launcher.py:17: VisibleDeprecationWarning: Creating an ndarray from ragged nested sequences (which is a list-or-tuple of lists-or-tuples-or ndarrays with different lengths or shapes) is deprecated. If you meant to do this, you must specify 'dtype=object' when creating the ndarray\n"
          ]
        }
      ]
    },
    {
      "cell_type": "code",
      "source": [
        "windowed_dataset_train[1].shape"
      ],
      "metadata": {
        "colab": {
          "base_uri": "https://localhost:8080/"
        },
        "id": "k0MiuNJbc2Hl",
        "outputId": "d89eab47-7bbb-4258-f588-7c1e61339922"
      },
      "execution_count": 46,
      "outputs": [
        {
          "output_type": "execute_result",
          "data": {
            "text/plain": [
              "(67652, 4)"
            ]
          },
          "metadata": {},
          "execution_count": 46
        }
      ]
    },
    {
      "cell_type": "code",
      "source": [
        "windowed_dataset_train, labels_train = create_window_dataset(train_dataset_normalized, train_dataset[:, -1], WINDOW_SIZE)\n",
        "train_set = tf_dataset(windowed_dataset_train, labels_train, BATCH_SIZE, 1000)\n",
        "unshuffled_train_set = tf_dataset(windowed_dataset_train, labels_train, BATCH_SIZE, 1000, False)\n",
        "\n",
        "windowed_dataset_validation, labels_validation = create_window_dataset(cross_validation_dataset_normalized, cross_validation_dataset[:, -1], WINDOW_SIZE)\n",
        "cross_validation_set = tf_dataset(windowed_dataset_validation, labels_validation, BATCH_SIZE, 1000, False)\n",
        "\n",
        "windowed_dataset_dev, labels_dev = create_window_dataset(dev_dataset_normalized, dev_dataset[:, -1], WINDOW_SIZE)\n",
        "dev_set = tf_dataset(windowed_dataset_dev, labels_dev, 1, 1000, False)"
      ],
      "metadata": {
        "id": "4yGUbYPQcN1d"
      },
      "execution_count": null,
      "outputs": []
    },
    {
      "cell_type": "code",
      "source": [
        ""
      ],
      "metadata": {
        "id": "DE9sAqIlcN33"
      },
      "execution_count": null,
      "outputs": []
    },
    {
      "cell_type": "code",
      "source": [
        ""
      ],
      "metadata": {
        "id": "rJuN0MqwcN6G"
      },
      "execution_count": null,
      "outputs": []
    },
    {
      "cell_type": "code",
      "source": [
        ""
      ],
      "metadata": {
        "id": "2Pr1KvdHcN8K"
      },
      "execution_count": null,
      "outputs": []
    },
    {
      "cell_type": "code",
      "source": [
        "train.values"
      ],
      "metadata": {
        "colab": {
          "base_uri": "https://localhost:8080/"
        },
        "id": "6h7NHSyxa78z",
        "outputId": "af486437-51e4-4eda-a98b-25f84110bb96"
      },
      "execution_count": 30,
      "outputs": [
        {
          "output_type": "execute_result",
          "data": {
            "text/plain": [
              "array([[Timestamp('2016-04-25 10:30:00-0400', tz='US/Eastern'), 68.81,\n",
              "        68.88, ..., 68.88, 52095, 68.824087],\n",
              "       [Timestamp('2016-04-25 10:35:00-0400', tz='US/Eastern'), 68.88,\n",
              "        68.92, ..., 68.905, 55508, 68.901144],\n",
              "       [Timestamp('2016-04-25 10:40:00-0400', tz='US/Eastern'), 68.91,\n",
              "        68.9301, ..., 68.9, 37356, 68.911471],\n",
              "       ...,\n",
              "       [Timestamp('2019-01-18 17:00:00-0500', tz='US/Eastern'), 97.73,\n",
              "        97.73, ..., 97.73, 100, 97.73],\n",
              "       [Timestamp('2019-01-18 17:25:00-0500', tz='US/Eastern'), 97.7299,\n",
              "        97.73, ..., 97.73, 627, 97.729968],\n",
              "       [Timestamp('2019-01-18 19:55:00-0500', tz='US/Eastern'), 97.73,\n",
              "        97.73, ..., 97.73, 100, 97.73]], dtype=object)"
            ]
          },
          "metadata": {},
          "execution_count": 30
        }
      ]
    },
    {
      "cell_type": "code",
      "source": [
        "from numpy import array\n",
        "from numpy import hstack\n",
        "\n",
        "# split a multivariate sequence into samples\n",
        "def split_sequences(sequences, n_steps_in, n_steps_out):\n",
        "\tX, y = list(), list()\n",
        "\tfor i in range(len(sequences)):\n",
        "\t\t# find the end of this pattern\n",
        "\t\tend_ix = i + n_steps_in\n",
        "\t\tout_end_ix = end_ix + n_steps_out\n",
        "\t\t# check if we are beyond the dataset\n",
        "\t\tif out_end_ix > len(sequences):\n",
        "\t\t\tbreak\n",
        "\t\t# gather input and output parts of the pattern\n",
        "\t\tseq_x, seq_y = sequences[i:end_ix, :], sequences[end_ix:out_end_ix, :]\n",
        "\t\tX.append(seq_x)\n",
        "\t\ty.append(seq_y)\n",
        "\treturn array(X), array(y)\n",
        " \n",
        "# define input sequence\n",
        "in_seq1 = array([10, 20, 30, 40, 50, 60, 70, 80, 90])\n",
        "in_seq2 = array([15, 25, 35, 45, 55, 65, 75, 85, 95])\n",
        "out_seq = array([in_seq1[i]+in_seq2[i] for i in range(len(in_seq1))])\n",
        "# convert to [rows, columns] structure\n",
        "in_seq1 = in_seq1.reshape((len(in_seq1), 1))\n",
        "in_seq2 = in_seq2.reshape((len(in_seq2), 1))\n",
        "out_seq = out_seq.reshape((len(out_seq), 1))\n",
        "# horizontally stack columns\n",
        "dataset = hstack((in_seq1, in_seq2, out_seq))\n",
        "# choose a number of time steps\n",
        "n_steps_in, n_steps_out = 3, 2\n",
        "# covert into input/output\n",
        "X, y = split_sequences(dataset, n_steps_in, n_steps_out)\n",
        "print(X.shape, y.shape)\n",
        "# summarize the data\n",
        "for i in range(len(X)):\n",
        "\tprint(X[i], y[i])"
      ],
      "metadata": {
        "colab": {
          "base_uri": "https://localhost:8080/"
        },
        "id": "Gmuw4hzsXWeI",
        "outputId": "62d53422-e7cb-4e9b-94db-c7dc2c2bfde3"
      },
      "execution_count": 26,
      "outputs": [
        {
          "output_type": "stream",
          "name": "stdout",
          "text": [
            "(5, 3, 3) (5, 2, 3)\n",
            "[[10 15 25]\n",
            " [20 25 45]\n",
            " [30 35 65]] [[ 40  45  85]\n",
            " [ 50  55 105]]\n",
            "[[20 25 45]\n",
            " [30 35 65]\n",
            " [40 45 85]] [[ 50  55 105]\n",
            " [ 60  65 125]]\n",
            "[[ 30  35  65]\n",
            " [ 40  45  85]\n",
            " [ 50  55 105]] [[ 60  65 125]\n",
            " [ 70  75 145]]\n",
            "[[ 40  45  85]\n",
            " [ 50  55 105]\n",
            " [ 60  65 125]] [[ 70  75 145]\n",
            " [ 80  85 165]]\n",
            "[[ 50  55 105]\n",
            " [ 60  65 125]\n",
            " [ 70  75 145]] [[ 80  85 165]\n",
            " [ 90  95 185]]\n"
          ]
        }
      ]
    },
    {
      "cell_type": "code",
      "source": [
        "dataset"
      ],
      "metadata": {
        "colab": {
          "base_uri": "https://localhost:8080/"
        },
        "id": "u7on_GbUXuT8",
        "outputId": "0a8e4f28-7852-408f-99da-cb35987503bc"
      },
      "execution_count": 29,
      "outputs": [
        {
          "output_type": "execute_result",
          "data": {
            "text/plain": [
              "array([[ 10,  15,  25],\n",
              "       [ 20,  25,  45],\n",
              "       [ 30,  35,  65],\n",
              "       [ 40,  45,  85],\n",
              "       [ 50,  55, 105],\n",
              "       [ 60,  65, 125],\n",
              "       [ 70,  75, 145],\n",
              "       [ 80,  85, 165],\n",
              "       [ 90,  95, 185]])"
            ]
          },
          "metadata": {},
          "execution_count": 29
        }
      ]
    },
    {
      "cell_type": "code",
      "source": [
        "def create_dataset(df):\n",
        "    x = []\n",
        "    y = []\n",
        "    for i in range(50, df.shape[0]):\n",
        "        x.append(df[i-50:i, 0])\n",
        "        y.append(df[i, 0])\n",
        "    x = np.array(x)\n",
        "    y = np.array(y)\n",
        "    return x,y"
      ],
      "metadata": {
        "id": "-OJ9XpuoNqhy"
      },
      "execution_count": 23,
      "outputs": []
    },
    {
      "cell_type": "code",
      "source": [
        "x_train, y_train = create_dataset(train)"
      ],
      "metadata": {
        "colab": {
          "base_uri": "https://localhost:8080/",
          "height": 380
        },
        "id": "RW7ef3O_abDf",
        "outputId": "9ddd2bcd-2e0e-4e66-c39d-bd09ca4cd378"
      },
      "execution_count": 24,
      "outputs": [
        {
          "output_type": "error",
          "ename": "TypeError",
          "evalue": "ignored",
          "traceback": [
            "\u001b[0;31m---------------------------------------------------------------------------\u001b[0m",
            "\u001b[0;31mTypeError\u001b[0m                                 Traceback (most recent call last)",
            "\u001b[0;32m<ipython-input-24-edfd3ccc8cfa>\u001b[0m in \u001b[0;36m<module>\u001b[0;34m()\u001b[0m\n\u001b[0;32m----> 1\u001b[0;31m \u001b[0mx_train\u001b[0m\u001b[0;34m,\u001b[0m \u001b[0my_train\u001b[0m \u001b[0;34m=\u001b[0m \u001b[0mcreate_dataset\u001b[0m\u001b[0;34m(\u001b[0m\u001b[0mtrain\u001b[0m\u001b[0;34m)\u001b[0m\u001b[0;34m\u001b[0m\u001b[0;34m\u001b[0m\u001b[0m\n\u001b[0m",
            "\u001b[0;32m<ipython-input-23-e856df345e51>\u001b[0m in \u001b[0;36mcreate_dataset\u001b[0;34m(df)\u001b[0m\n\u001b[1;32m      3\u001b[0m     \u001b[0my\u001b[0m \u001b[0;34m=\u001b[0m \u001b[0;34m[\u001b[0m\u001b[0;34m]\u001b[0m\u001b[0;34m\u001b[0m\u001b[0;34m\u001b[0m\u001b[0m\n\u001b[1;32m      4\u001b[0m     \u001b[0;32mfor\u001b[0m \u001b[0mi\u001b[0m \u001b[0;32min\u001b[0m \u001b[0mrange\u001b[0m\u001b[0;34m(\u001b[0m\u001b[0;36m50\u001b[0m\u001b[0;34m,\u001b[0m \u001b[0mdf\u001b[0m\u001b[0;34m.\u001b[0m\u001b[0mshape\u001b[0m\u001b[0;34m[\u001b[0m\u001b[0;36m0\u001b[0m\u001b[0;34m]\u001b[0m\u001b[0;34m)\u001b[0m\u001b[0;34m:\u001b[0m\u001b[0;34m\u001b[0m\u001b[0;34m\u001b[0m\u001b[0m\n\u001b[0;32m----> 5\u001b[0;31m         \u001b[0mx\u001b[0m\u001b[0;34m.\u001b[0m\u001b[0mappend\u001b[0m\u001b[0;34m(\u001b[0m\u001b[0mdf\u001b[0m\u001b[0;34m[\u001b[0m\u001b[0mi\u001b[0m\u001b[0;34m-\u001b[0m\u001b[0;36m50\u001b[0m\u001b[0;34m:\u001b[0m\u001b[0mi\u001b[0m\u001b[0;34m,\u001b[0m \u001b[0;36m0\u001b[0m\u001b[0;34m]\u001b[0m\u001b[0;34m)\u001b[0m\u001b[0;34m\u001b[0m\u001b[0;34m\u001b[0m\u001b[0m\n\u001b[0m\u001b[1;32m      6\u001b[0m         \u001b[0my\u001b[0m\u001b[0;34m.\u001b[0m\u001b[0mappend\u001b[0m\u001b[0;34m(\u001b[0m\u001b[0mdf\u001b[0m\u001b[0;34m[\u001b[0m\u001b[0mi\u001b[0m\u001b[0;34m,\u001b[0m \u001b[0;36m0\u001b[0m\u001b[0;34m]\u001b[0m\u001b[0;34m)\u001b[0m\u001b[0;34m\u001b[0m\u001b[0;34m\u001b[0m\u001b[0m\n\u001b[1;32m      7\u001b[0m     \u001b[0mx\u001b[0m \u001b[0;34m=\u001b[0m \u001b[0mnp\u001b[0m\u001b[0;34m.\u001b[0m\u001b[0marray\u001b[0m\u001b[0;34m(\u001b[0m\u001b[0mx\u001b[0m\u001b[0;34m)\u001b[0m\u001b[0;34m\u001b[0m\u001b[0;34m\u001b[0m\u001b[0m\n",
            "\u001b[0;32m/usr/local/lib/python3.7/dist-packages/pandas/core/frame.py\u001b[0m in \u001b[0;36m__getitem__\u001b[0;34m(self, key)\u001b[0m\n\u001b[1;32m   2904\u001b[0m             \u001b[0;32mif\u001b[0m \u001b[0mself\u001b[0m\u001b[0;34m.\u001b[0m\u001b[0mcolumns\u001b[0m\u001b[0;34m.\u001b[0m\u001b[0mnlevels\u001b[0m \u001b[0;34m>\u001b[0m \u001b[0;36m1\u001b[0m\u001b[0;34m:\u001b[0m\u001b[0;34m\u001b[0m\u001b[0;34m\u001b[0m\u001b[0m\n\u001b[1;32m   2905\u001b[0m                 \u001b[0;32mreturn\u001b[0m \u001b[0mself\u001b[0m\u001b[0;34m.\u001b[0m\u001b[0m_getitem_multilevel\u001b[0m\u001b[0;34m(\u001b[0m\u001b[0mkey\u001b[0m\u001b[0;34m)\u001b[0m\u001b[0;34m\u001b[0m\u001b[0;34m\u001b[0m\u001b[0m\n\u001b[0;32m-> 2906\u001b[0;31m             \u001b[0mindexer\u001b[0m \u001b[0;34m=\u001b[0m \u001b[0mself\u001b[0m\u001b[0;34m.\u001b[0m\u001b[0mcolumns\u001b[0m\u001b[0;34m.\u001b[0m\u001b[0mget_loc\u001b[0m\u001b[0;34m(\u001b[0m\u001b[0mkey\u001b[0m\u001b[0;34m)\u001b[0m\u001b[0;34m\u001b[0m\u001b[0;34m\u001b[0m\u001b[0m\n\u001b[0m\u001b[1;32m   2907\u001b[0m             \u001b[0;32mif\u001b[0m \u001b[0mis_integer\u001b[0m\u001b[0;34m(\u001b[0m\u001b[0mindexer\u001b[0m\u001b[0;34m)\u001b[0m\u001b[0;34m:\u001b[0m\u001b[0;34m\u001b[0m\u001b[0;34m\u001b[0m\u001b[0m\n\u001b[1;32m   2908\u001b[0m                 \u001b[0mindexer\u001b[0m \u001b[0;34m=\u001b[0m \u001b[0;34m[\u001b[0m\u001b[0mindexer\u001b[0m\u001b[0;34m]\u001b[0m\u001b[0;34m\u001b[0m\u001b[0;34m\u001b[0m\u001b[0m\n",
            "\u001b[0;32m/usr/local/lib/python3.7/dist-packages/pandas/core/indexes/base.py\u001b[0m in \u001b[0;36mget_loc\u001b[0;34m(self, key, method, tolerance)\u001b[0m\n\u001b[1;32m   2896\u001b[0m             \u001b[0mcasted_key\u001b[0m \u001b[0;34m=\u001b[0m \u001b[0mself\u001b[0m\u001b[0;34m.\u001b[0m\u001b[0m_maybe_cast_indexer\u001b[0m\u001b[0;34m(\u001b[0m\u001b[0mkey\u001b[0m\u001b[0;34m)\u001b[0m\u001b[0;34m\u001b[0m\u001b[0;34m\u001b[0m\u001b[0m\n\u001b[1;32m   2897\u001b[0m             \u001b[0;32mtry\u001b[0m\u001b[0;34m:\u001b[0m\u001b[0;34m\u001b[0m\u001b[0;34m\u001b[0m\u001b[0m\n\u001b[0;32m-> 2898\u001b[0;31m                 \u001b[0;32mreturn\u001b[0m \u001b[0mself\u001b[0m\u001b[0;34m.\u001b[0m\u001b[0m_engine\u001b[0m\u001b[0;34m.\u001b[0m\u001b[0mget_loc\u001b[0m\u001b[0;34m(\u001b[0m\u001b[0mcasted_key\u001b[0m\u001b[0;34m)\u001b[0m\u001b[0;34m\u001b[0m\u001b[0;34m\u001b[0m\u001b[0m\n\u001b[0m\u001b[1;32m   2899\u001b[0m             \u001b[0;32mexcept\u001b[0m \u001b[0mKeyError\u001b[0m \u001b[0;32mas\u001b[0m \u001b[0merr\u001b[0m\u001b[0;34m:\u001b[0m\u001b[0;34m\u001b[0m\u001b[0;34m\u001b[0m\u001b[0m\n\u001b[1;32m   2900\u001b[0m                 \u001b[0;32mraise\u001b[0m \u001b[0mKeyError\u001b[0m\u001b[0;34m(\u001b[0m\u001b[0mkey\u001b[0m\u001b[0;34m)\u001b[0m \u001b[0;32mfrom\u001b[0m \u001b[0merr\u001b[0m\u001b[0;34m\u001b[0m\u001b[0;34m\u001b[0m\u001b[0m\n",
            "\u001b[0;32mpandas/_libs/index.pyx\u001b[0m in \u001b[0;36mpandas._libs.index.IndexEngine.get_loc\u001b[0;34m()\u001b[0m\n",
            "\u001b[0;32mpandas/_libs/index.pyx\u001b[0m in \u001b[0;36mpandas._libs.index.IndexEngine.get_loc\u001b[0;34m()\u001b[0m\n",
            "\u001b[0;31mTypeError\u001b[0m: '(slice(0, 50, None), 0)' is an invalid key"
          ]
        }
      ]
    },
    {
      "cell_type": "code",
      "source": [
        ""
      ],
      "metadata": {
        "id": "HOBCUubqNqDO"
      },
      "execution_count": null,
      "outputs": []
    },
    {
      "cell_type": "code",
      "source": [
        "print(f'Training Days: {train_day_int}, Set Start: {train.index[0].strftime(\"%d-%b-%Y\")}, End: {train.index[-1].strftime(\"%d-%b-%Y\")}, Shape: {train.shape}')\n",
        "print(f'Validation Days: {val_day_int}, Set Start: {val.index[0].strftime(\"%d-%b-%Y\")}, End: {val.index[-1].strftime(\"%d-%b-%Y\")}, Shape: {val.shape}')\n",
        "print(f'Testing Days: {test_day_int}, Start: {test.index[0].strftime(\"%d-%b-%Y\")}, End: {test.index[-1].strftime(\"%d-%b-%Y\")}, Shape: {test.shape}')"
      ],
      "metadata": {
        "colab": {
          "base_uri": "https://localhost:8080/"
        },
        "id": "H9rM5V1BHyBl",
        "outputId": "1fceb257-8107-42bf-b289-7dbc66401600"
      },
      "execution_count": 8,
      "outputs": [
        {
          "output_type": "stream",
          "name": "stdout",
          "text": [
            "Training Days: 1000, Set Start: 25-Apr-2016, End: 18-Jan-2019, Shape: (67653, 7)\n",
            "Validation Days: 365, Set Start: 22-Jan-2019, End: 17-Jan-2020, Shape: (25027, 7)\n",
            "Testing Days: 365, Start: 21-Jan-2020, End: 19-Jan-2021, Shape: (31494, 7)\n"
          ]
        }
      ]
    },
    {
      "cell_type": "code",
      "source": [
        "print(f'Number of Rows Between all Sets: {(train.shape[0] + val.shape[0] + test.shape[0])}, Shape of Full Set: {full.shape[0]}')"
      ],
      "metadata": {
        "colab": {
          "base_uri": "https://localhost:8080/"
        },
        "id": "XqbVlKwLKN-l",
        "outputId": "73d801bb-1ff8-472c-c4dc-fcacde9a3339"
      },
      "execution_count": 9,
      "outputs": [
        {
          "output_type": "stream",
          "name": "stdout",
          "text": [
            "Number of Rows Between all Sets: 124174, Shape of Full Set: 124174\n"
          ]
        }
      ]
    },
    {
      "cell_type": "markdown",
      "source": [
        "# Loading and Preparing The Data"
      ],
      "metadata": {
        "id": "IMY3MYh4D7sR"
      }
    },
    {
      "cell_type": "code",
      "source": [
        "# create target from OHLC and Volume Data\n",
        "def buildTargets(full_df = full, train_observations = train.shape[0], \n",
        "                 val_observations = val.shape[0], \n",
        "                 test_observations = test.shape[0], \n",
        "                 shift_2hour = 24,\n",
        "                 alph = .55, \n",
        "                 volity_int = 10):\n",
        "\n",
        "  \"\"\" \n",
        "  This function will take a complete set of train, val, and test \n",
        "  data and return the targets. Volitility will be calculated over \n",
        "  the 252 5min incriments. The Target shift is looking at 2 hours \n",
        "  shift from current time\n",
        "\n",
        "  shift_2hour = The amount of time the data interval take to equal 2 hours \n",
        "                (i.e. 5 min data interval is equal to 25)\n",
        "  alph = The alpha value for calculating the shift in price\n",
        "  volity_int = the number of incriments used to calculate volitility \n",
        "  \"\"\"\n",
        "\n",
        "  returns = np.log(full_df['Close']/(full_df['Close'].shift(1)))\n",
        "  returns.fillna(0, inplace=True)\n",
        "  #volatility = returns.std()*np.sqrt(volity_int)\n",
        "  volatility = returns.rolling(window=volity_int).std()*np.sqrt(volity_int)\n",
        "\n",
        "  #print(len(full_df.Close), len(volatility))\n",
        "\n",
        "  targets = [\"flat\"] * len(full_df.Close)\n",
        "\n",
        "  targets = np.where(full_df.Close.shift(-shift_2hour) >= (full_df.Close * (1 + alph * volatility)), \n",
        "           \"up\", targets)\n",
        "  \n",
        "  targets = np.where(full_df.Close.shift(-shift_2hour) <= (full_df.Close * (1 - alph * volatility)), \n",
        "           \"down\", targets)\n",
        "\n",
        "  train_split = train_observations\n",
        "  val_split = train_observations + val_observations\n",
        "  test_split = train_observations + val_observations + test_observations\n",
        "\n",
        "  train_targets = targets[:train_split]\n",
        "  val_targets = targets[train_split:val_split]\n",
        "  test_targets = targets[val_split:test_split]\n",
        "  full_targets = targets\n",
        "\n",
        "  return train_targets, val_targets, test_targets, full_targets"
      ],
      "metadata": {
        "id": "NmTD5JViEFMp"
      },
      "execution_count": 10,
      "outputs": []
    },
    {
      "cell_type": "code",
      "source": [
        "# print(buildTargets.__doc__)\n",
        "train_targets, val_targets, test_targets, full_targets = buildTargets()"
      ],
      "metadata": {
        "id": "OJlf0UBTsEfS"
      },
      "execution_count": 11,
      "outputs": []
    },
    {
      "cell_type": "code",
      "source": [
        "plot_df = pd.DataFrame(full_targets, columns=[\"FuturePrice\"])\n",
        "plot_df[\"FuturePrice\"].value_counts().plot(kind = 'bar')"
      ],
      "metadata": {
        "colab": {
          "base_uri": "https://localhost:8080/",
          "height": 299
        },
        "id": "EUEpy7cSajI_",
        "outputId": "c29eda79-cd3a-4005-c18b-b02c8a04ab91"
      },
      "execution_count": 12,
      "outputs": [
        {
          "output_type": "execute_result",
          "data": {
            "text/plain": [
              "<matplotlib.axes._subplots.AxesSubplot at 0x7f40c201a910>"
            ]
          },
          "metadata": {},
          "execution_count": 12
        },
        {
          "output_type": "display_data",
          "data": {
            "image/png": "[encoded data removed]",
            "text/plain": [
              "<Figure size 432x288 with 1 Axes>"
            ]
          },
          "metadata": {
            "needs_background": "light"
          }
        }
      ]
    },
    {
      "cell_type": "markdown",
      "source": [
        "# Mulitclass Classification (None CDT 1D CNN)"
      ],
      "metadata": {
        "id": "W-hurH5w70Ir"
      }
    },
    {
      "cell_type": "code",
      "source": [
        "full.columns"
      ],
      "metadata": {
        "colab": {
          "base_uri": "https://localhost:8080/"
        },
        "id": "1TfD1r6R9IbN",
        "outputId": "fde42bac-23b9-4821-e276-e62a1e05ccff"
      },
      "execution_count": 13,
      "outputs": [
        {
          "output_type": "execute_result",
          "data": {
            "text/plain": [
              "Index(['Time', 'Open', 'High', 'Low', 'Close', 'Volume',\n",
              "       'VolumeWeightedAvgPrice'],\n",
              "      dtype='object')"
            ]
          },
          "metadata": {},
          "execution_count": 13
        }
      ]
    },
    {
      "cell_type": "code",
      "source": [
        "full[\"Open\"]"
      ],
      "metadata": {
        "colab": {
          "base_uri": "https://localhost:8080/"
        },
        "id": "KybVva6t9Xwx",
        "outputId": "04188c38-aa11-4833-85de-6ad39f479301"
      },
      "execution_count": 14,
      "outputs": [
        {
          "output_type": "execute_result",
          "data": {
            "text/plain": [
              "timestamp\n",
              "2016-04-25 10:30:00-04:00     68.81\n",
              "2016-04-25 10:35:00-04:00     68.88\n",
              "2016-04-25 10:40:00-04:00     68.91\n",
              "2016-04-25 10:45:00-04:00     68.90\n",
              "2016-04-25 10:50:00-04:00     68.94\n",
              "                              ...  \n",
              "2021-01-19 08:50:00-05:00    145.00\n",
              "2021-01-19 09:00:00-05:00    144.98\n",
              "2021-01-19 09:10:00-05:00    144.98\n",
              "2021-01-19 09:15:00-05:00    144.93\n",
              "2021-01-19 09:20:00-05:00    144.81\n",
              "Name: Open, Length: 124174, dtype: float64"
            ]
          },
          "metadata": {},
          "execution_count": 14
        }
      ]
    },
    {
      "cell_type": "code",
      "source": [
        "from sklearn.preprocessing import MinMaxScaler\n",
        "\n",
        "scaled_df = pd.DataFrame()\n",
        "\n",
        "scaler = MinMaxScaler()\n",
        "\n",
        "scaled_train = scaler.fit_transform(train[['Open', 'High', 'Low', 'Close', 'Volume']])\n",
        "scaled_val = scaler.fit_transform(val[['Open', 'High', 'Low', 'Close', 'Volume']])\n",
        "scaled_test = scaler.fit_transform(test[['Open', 'High', 'Low', 'Close', 'Volume']])"
      ],
      "metadata": {
        "id": "YYCBKN4uu-FE"
      },
      "execution_count": 15,
      "outputs": []
    },
    {
      "cell_type": "code",
      "source": [
        "train_targets_df = pd.DataFrame(train_targets)\n",
        "val_targets_df = pd.DataFrame(val_targets)\n",
        "test_targets_df = pd.DataFrame(test_targets)\n",
        "\n",
        "class2idx = {\n",
        "    \"up\":0,\n",
        "    \"flat\":1,\n",
        "    \"down\":2,\n",
        "}\n",
        "\n",
        "idx2class = {v: k for k, v in class2idx.items()}\n",
        "\n",
        "train_targets_df.replace(class2idx, inplace=True)\n",
        "val_targets_df.replace(class2idx, inplace=True)\n",
        "test_targets_df.replace(class2idx, inplace=True)"
      ],
      "metadata": {
        "id": "TCETOevJpk81"
      },
      "execution_count": 16,
      "outputs": []
    },
    {
      "cell_type": "code",
      "source": [
        "train_targets_df[0].value_counts().plot(kind = 'bar')"
      ],
      "metadata": {
        "colab": {
          "base_uri": "https://localhost:8080/",
          "height": 279
        },
        "id": "V9bV2_jpp6Qx",
        "outputId": "bde9e731-1d9c-448f-d877-e65c51fe7cba"
      },
      "execution_count": 17,
      "outputs": [
        {
          "output_type": "execute_result",
          "data": {
            "text/plain": [
              "<matplotlib.axes._subplots.AxesSubplot at 0x7f40c529f910>"
            ]
          },
          "metadata": {},
          "execution_count": 17
        },
        {
          "output_type": "display_data",
          "data": {
            "image/png": "[encoded data removed]",
            "text/plain": [
              "<Figure size 432x288 with 1 Axes>"
            ]
          },
          "metadata": {
            "needs_background": "light"
          }
        }
      ]
    },
    {
      "cell_type": "code",
      "source": [
        "X_train = np.array(scaled_train)\n",
        "X_val = np.array(scaled_val)\n",
        "X_test= np.array(scaled_test)\n",
        "\n",
        "y_train = np.array(train_targets_df[0])\n",
        "y_val = np.array(val_targets_df[0])\n",
        "y_test = np.array(test_targets_df[0])"
      ],
      "metadata": {
        "id": "cRJ-EbOPqEs-"
      },
      "execution_count": 18,
      "outputs": []
    },
    {
      "cell_type": "code",
      "source": [
        "print(f'Type of X Train: {type(X_train)}, Length of X: {X_train.shape}')\n",
        "print(f'Type of y Train: {type(y_train)}, Length of y: {y_train.shape}')\n",
        "print(f'Type of X Val: {type(X_val)}, Length of X: {X_val.shape}')\n",
        "print(f'Type of y Val: {type(y_val)}, Length of y: {y_val.shape}')\n",
        "print(f'Type of X Val: {type(X_test)}, Length of X: {X_test.shape}')\n",
        "print(f'Type of y Val: {type(y_test)}, Length of y: {y_test.shape}')"
      ],
      "metadata": {
        "colab": {
          "base_uri": "https://localhost:8080/"
        },
        "id": "XJFXeknpqP7y",
        "outputId": "96a5204c-e548-4d5d-ec6e-59591cca9a9b"
      },
      "execution_count": 19,
      "outputs": [
        {
          "output_type": "stream",
          "name": "stdout",
          "text": [
            "Type of X Train: <class 'numpy.ndarray'>, Length of X: (67653, 5)\n",
            "Type of y Train: <class 'numpy.ndarray'>, Length of y: (67653,)\n",
            "Type of X Val: <class 'numpy.ndarray'>, Length of X: (25027, 5)\n",
            "Type of y Val: <class 'numpy.ndarray'>, Length of y: (25027,)\n",
            "Type of X Val: <class 'numpy.ndarray'>, Length of X: (31494, 5)\n",
            "Type of y Val: <class 'numpy.ndarray'>, Length of y: (31494,)\n"
          ]
        }
      ]
    },
    {
      "cell_type": "code",
      "source": [
        "np.asarray(train)"
      ],
      "metadata": {
        "colab": {
          "base_uri": "https://localhost:8080/"
        },
        "id": "TH5tzBJ9Ew4a",
        "outputId": "b0d23569-3149-4780-aa72-4c9c434e9acd"
      },
      "execution_count": 20,
      "outputs": [
        {
          "output_type": "execute_result",
          "data": {
            "text/plain": [
              "array([[Timestamp('2016-04-25 10:30:00-0400', tz='US/Eastern'), 68.81,\n",
              "        68.88, ..., 68.88, 52095, 68.824087],\n",
              "       [Timestamp('2016-04-25 10:35:00-0400', tz='US/Eastern'), 68.88,\n",
              "        68.92, ..., 68.905, 55508, 68.901144],\n",
              "       [Timestamp('2016-04-25 10:40:00-0400', tz='US/Eastern'), 68.91,\n",
              "        68.9301, ..., 68.9, 37356, 68.911471],\n",
              "       ...,\n",
              "       [Timestamp('2019-01-18 17:00:00-0500', tz='US/Eastern'), 97.73,\n",
              "        97.73, ..., 97.73, 100, 97.73],\n",
              "       [Timestamp('2019-01-18 17:25:00-0500', tz='US/Eastern'), 97.7299,\n",
              "        97.73, ..., 97.73, 627, 97.729968],\n",
              "       [Timestamp('2019-01-18 19:55:00-0500', tz='US/Eastern'), 97.73,\n",
              "        97.73, ..., 97.73, 100, 97.73]], dtype=object)"
            ]
          },
          "metadata": {},
          "execution_count": 20
        }
      ]
    },
    {
      "cell_type": "code",
      "source": [
        "class ClassifierDataset():\n",
        "    \n",
        "    def __init__(self, X_data, y_data):\n",
        "        self.X_data = X_data\n",
        "        self.y_data = y_data\n",
        "        \n",
        "    def __getitem__(self, index):\n",
        "        return self.X_data[index], self.y_data[index]\n",
        "        \n",
        "    def __len__ (self):\n",
        "        return len(self.X_data)\n",
        "\n",
        "\n",
        "train_dataset = ClassifierDataset(torch.from_numpy(X_train).float(), torch.from_numpy(y_train).long())\n",
        "val_dataset = ClassifierDataset(torch.from_numpy(X_val).float(), torch.from_numpy(y_val).long())\n",
        "test_dataset = ClassifierDataset(torch.from_numpy(X_test).float(), torch.from_numpy(y_test).long())"
      ],
      "metadata": {
        "id": "41IFYHMvucBn"
      },
      "execution_count": null,
      "outputs": []
    },
    {
      "cell_type": "code",
      "source": [
        "scaled_train.shape[1]"
      ],
      "metadata": {
        "colab": {
          "base_uri": "https://localhost:8080/"
        },
        "id": "xtO8sN6lvVAu",
        "outputId": "e9cc706e-338b-4f7a-c7aa-47b7a79856ac"
      },
      "execution_count": null,
      "outputs": [
        {
          "output_type": "execute_result",
          "data": {
            "text/plain": [
              "5"
            ]
          },
          "metadata": {},
          "execution_count": 26
        }
      ]
    },
    {
      "cell_type": "code",
      "source": [
        "EPOCHS = 300\n",
        "BATCH_SIZE = 16\n",
        "LEARNING_RATE = 0.0007\n",
        "NUM_FEATURES = scaled_train.shape[1]\n",
        "NUM_CLASSES = 3"
      ],
      "metadata": {
        "id": "Z0qU88rZu5Q_"
      },
      "execution_count": null,
      "outputs": []
    },
    {
      "cell_type": "code",
      "source": [
        "train_loader = DataLoader(dataset=train_dataset,\n",
        "                          batch_size=BATCH_SIZE,\n",
        ")\n",
        "val_loader = DataLoader(dataset=val_dataset, batch_size=1)\n",
        "test_loader = DataLoader(dataset=test_dataset, batch_size=1)"
      ],
      "metadata": {
        "id": "n1UlEevhvcgy"
      },
      "execution_count": null,
      "outputs": []
    },
    {
      "cell_type": "code",
      "source": [
        "class MulticlassClassification(nn.Module):\n",
        "    def __init__(self, num_feature, num_class):\n",
        "        super(MulticlassClassification, self).__init__()\n",
        "        \n",
        "        self.layer_1 = nn.Linear(num_feature, 512)\n",
        "        self.layer_2 = nn.Linear(512, 128)\n",
        "        self.layer_3 = nn.Linear(128, 64)\n",
        "        self.layer_out = nn.Linear(64, num_class) \n",
        "        \n",
        "        self.relu = nn.ReLU()\n",
        "        self.dropout = nn.Dropout(p=0.2)\n",
        "        self.batchnorm1 = nn.BatchNorm1d(512)\n",
        "        self.batchnorm2 = nn.BatchNorm1d(128)\n",
        "        self.batchnorm3 = nn.BatchNorm1d(64)\n",
        "        \n",
        "    def forward(self, x):\n",
        "        x = self.layer_1(x)\n",
        "        x = self.batchnorm1(x)\n",
        "        x = self.relu(x)\n",
        "        \n",
        "        x = self.layer_2(x)\n",
        "        x = self.batchnorm2(x)\n",
        "        x = self.relu(x)\n",
        "        x = self.dropout(x)\n",
        "        \n",
        "        x = self.layer_3(x)\n",
        "        x = self.batchnorm3(x)\n",
        "        x = self.relu(x)\n",
        "        x = self.dropout(x)\n",
        "        \n",
        "        x = self.layer_out(x)\n",
        "        \n",
        "        return x"
      ],
      "metadata": {
        "id": "MwPC11JAvjnf"
      },
      "execution_count": null,
      "outputs": []
    },
    {
      "cell_type": "code",
      "source": [
        "device = torch.device(\"cuda:0\" if torch.cuda.is_available() else \"cpu\")\n",
        "print(device)"
      ],
      "metadata": {
        "colab": {
          "base_uri": "https://localhost:8080/"
        },
        "id": "vk3Y-M6lvnEx",
        "outputId": "be238fd9-2e5d-4a42-c4da-1ea8bb28562a"
      },
      "execution_count": null,
      "outputs": [
        {
          "output_type": "stream",
          "name": "stdout",
          "text": [
            "cuda:0\n"
          ]
        }
      ]
    },
    {
      "cell_type": "code",
      "source": [
        "model = MulticlassClassification(num_feature = NUM_FEATURES, num_class=NUM_CLASSES)\n",
        "model.to(device)\n",
        "\n",
        "criterion = nn.CrossEntropyLoss()\n",
        "optimizer = optim.Adam(model.parameters(), lr=LEARNING_RATE)\n",
        "print(model)"
      ],
      "metadata": {
        "colab": {
          "base_uri": "https://localhost:8080/"
        },
        "id": "3SVhPeVgvrbB",
        "outputId": "d94c12ee-5687-4a1e-dc6b-6cce46af6508"
      },
      "execution_count": null,
      "outputs": [
        {
          "output_type": "stream",
          "name": "stdout",
          "text": [
            "MulticlassClassification(\n",
            "  (layer_1): Linear(in_features=5, out_features=512, bias=True)\n",
            "  (layer_2): Linear(in_features=512, out_features=128, bias=True)\n",
            "  (layer_3): Linear(in_features=128, out_features=64, bias=True)\n",
            "  (layer_out): Linear(in_features=64, out_features=3, bias=True)\n",
            "  (relu): ReLU()\n",
            "  (dropout): Dropout(p=0.2, inplace=False)\n",
            "  (batchnorm1): BatchNorm1d(512, eps=1e-05, momentum=0.1, affine=True, track_running_stats=True)\n",
            "  (batchnorm2): BatchNorm1d(128, eps=1e-05, momentum=0.1, affine=True, track_running_stats=True)\n",
            "  (batchnorm3): BatchNorm1d(64, eps=1e-05, momentum=0.1, affine=True, track_running_stats=True)\n",
            ")\n"
          ]
        }
      ]
    },
    {
      "cell_type": "code",
      "source": [
        "def multi_acc(y_pred, y_test):\n",
        "    y_pred_softmax = torch.log_softmax(y_pred, dim = 1)\n",
        "    _, y_pred_tags = torch.max(y_pred_softmax, dim = 1)    \n",
        "    \n",
        "    correct_pred = (y_pred_tags == y_test).float()\n",
        "    acc = correct_pred.sum() / len(correct_pred)\n",
        "    \n",
        "    acc = torch.round(acc * 100)\n",
        "    \n",
        "    return acc"
      ],
      "metadata": {
        "id": "Jx5CwK8Qvxos"
      },
      "execution_count": null,
      "outputs": []
    },
    {
      "cell_type": "code",
      "source": [
        "accuracy_stats = {\n",
        "    'train': [],\n",
        "    \"val\": []\n",
        "}\n",
        "loss_stats = {\n",
        "    'train': [],\n",
        "    \"val\": []\n",
        "}"
      ],
      "metadata": {
        "id": "wYRwPyN5vzAX"
      },
      "execution_count": null,
      "outputs": []
    },
    {
      "cell_type": "code",
      "source": [
        "print(\"Begin training.\")\n",
        "\n",
        "for e in tqdm(range(1, EPOCHS+1)):\n",
        "  \n",
        "  # TRAINING\n",
        "  train_epoch_loss = 0\n",
        "  train_epoch_acc = 0\n",
        "\n",
        "\n",
        "  model.train()\n",
        "  for X_train_batch, y_train_batch in train_loader:\n",
        "      X_train_batch, y_train_batch = X_train_batch.to(device), y_train_batch.to(device)\n",
        "      optimizer.zero_grad()\n",
        "      \n",
        "      y_train_pred = model(X_train_batch)\n",
        "      \n",
        "      train_loss = criterion(y_train_pred, y_train_batch)\n",
        "      train_acc = multi_acc(y_train_pred, y_train_batch)\n",
        "      \n",
        "      train_loss.backward()\n",
        "      optimizer.step()\n",
        "      \n",
        "      train_epoch_loss += train_loss.item()\n",
        "      train_epoch_acc += train_acc.item()\n",
        "      \n",
        "      \n",
        "  # VALIDATION    \n",
        "  with torch.no_grad():\n",
        "      \n",
        "      val_epoch_loss = 0\n",
        "      val_epoch_acc = 0\n",
        "      \n",
        "      model.eval()\n",
        "      for X_val_batch, y_val_batch in val_loader:\n",
        "          X_val_batch, y_val_batch = X_val_batch.to(device), y_val_batch.to(device)\n",
        "          \n",
        "          y_val_pred = model(X_val_batch)\n",
        "                      \n",
        "          val_loss = criterion(y_val_pred, y_val_batch)\n",
        "          val_acc = multi_acc(y_val_pred, y_val_batch)\n",
        "          \n",
        "          val_epoch_loss += val_loss.item()\n",
        "          val_epoch_acc += val_acc.item()\n",
        "\n",
        "  loss_stats['train'].append(train_epoch_loss/len(train_loader))\n",
        "  loss_stats['val'].append(val_epoch_loss/len(val_loader))\n",
        "  accuracy_stats['train'].append(train_epoch_acc/len(train_loader))\n",
        "  accuracy_stats['val'].append(val_epoch_acc/len(val_loader))\n",
        "                            \n",
        "\n",
        "  print(f'Epoch {e+0:03}: | Train Loss: {train_epoch_loss/len(train_loader):.5f} | Val Loss: {val_epoch_loss/len(val_loader):.5f} | Train Acc: {train_epoch_acc/len(train_loader):.3f}| Val Acc: {val_epoch_acc/len(val_loader):.3f}')"
      ],
      "metadata": {
        "colab": {
          "base_uri": "https://localhost:8080/",
          "height": 1000,
          "referenced_widgets": [
            "35b0c6a641f74b7a8a5a17696c771999",
            "5435c22875e1449bba6f514dc362fb86",
            "2174b8eaf379476aa207a7d3553a23cb",
            "d2eea602e1f44679b9dca81d02cef6a9",
            "4c4ee8d44be44753b86d2334ed5201d9",
            "2d07aa40726741bba6d08a741f239b2a",
            "ae9e58658d6e45a0ae4f071d65facbd8",
            "39c656c52a3b41f4912ae2f141bf1291",
            "101532c20c604f9cbddaae38f83cb611",
            "a809155bf81340c88a359f8e8b52b1a7",
            "8a927038a7cb49a6a64673ce556a0c8e"
          ]
        },
        "id": "8f5oKsuRvz21",
        "outputId": "b29c559b-8c71-422a-eb0f-83e583c0dd34"
      },
      "execution_count": null,
      "outputs": [
        {
          "output_type": "stream",
          "name": "stdout",
          "text": [
            "Begin training.\n"
          ]
        },
        {
          "output_type": "display_data",
          "data": {
            "application/vnd.jupyter.widget-view+json": {
              "model_id": "35b0c6a641f74b7a8a5a17696c771999",
              "version_minor": 0,
              "version_major": 2
            },
            "text/plain": [
              "  0%|          | 0/300 [00:00<?, ?it/s]"
            ]
          },
          "metadata": {}
        },
        {
          "output_type": "stream",
          "name": "stdout",
          "text": [
            "Epoch 001: | Train Loss: 1.03773 | Val Loss: 18.28548 | Train Acc: 46.339| Val Acc: 35.978\n",
            "Epoch 002: | Train Loss: 1.03568 | Val Loss: 14.71919 | Train Acc: 46.572| Val Acc: 35.846\n",
            "Epoch 003: | Train Loss: 1.03342 | Val Loss: 16.51808 | Train Acc: 46.793| Val Acc: 36.061\n",
            "Epoch 004: | Train Loss: 1.03213 | Val Loss: 21.83980 | Train Acc: 46.823| Val Acc: 36.041\n",
            "Epoch 005: | Train Loss: 1.03002 | Val Loss: 22.58325 | Train Acc: 47.167| Val Acc: 35.862\n",
            "Epoch 006: | Train Loss: 1.02964 | Val Loss: 22.80922 | Train Acc: 47.228| Val Acc: 35.958\n",
            "Epoch 007: | Train Loss: 1.02630 | Val Loss: 22.72420 | Train Acc: 47.528| Val Acc: 35.934\n",
            "Epoch 008: | Train Loss: 1.02479 | Val Loss: 22.38807 | Train Acc: 47.576| Val Acc: 35.902\n",
            "Epoch 009: | Train Loss: 1.02515 | Val Loss: 22.53223 | Train Acc: 47.479| Val Acc: 36.077\n",
            "Epoch 010: | Train Loss: 1.02227 | Val Loss: 23.79687 | Train Acc: 47.802| Val Acc: 35.974\n",
            "Epoch 011: | Train Loss: 1.02061 | Val Loss: 24.85404 | Train Acc: 47.934| Val Acc: 35.866\n",
            "Epoch 012: | Train Loss: 1.01874 | Val Loss: 25.26233 | Train Acc: 48.206| Val Acc: 35.902\n",
            "Epoch 013: | Train Loss: 1.01619 | Val Loss: 21.64190 | Train Acc: 48.439| Val Acc: 36.133\n",
            "Epoch 014: | Train Loss: 1.01631 | Val Loss: 27.45609 | Train Acc: 48.294| Val Acc: 35.802\n",
            "Epoch 015: | Train Loss: 1.01460 | Val Loss: 22.39434 | Train Acc: 48.581| Val Acc: 36.010\n",
            "Epoch 016: | Train Loss: 1.01442 | Val Loss: 27.13374 | Train Acc: 48.710| Val Acc: 35.890\n",
            "Epoch 017: | Train Loss: 1.01151 | Val Loss: 32.04726 | Train Acc: 48.914| Val Acc: 35.802\n",
            "Epoch 018: | Train Loss: 1.01259 | Val Loss: 34.88230 | Train Acc: 48.686| Val Acc: 35.886\n",
            "Epoch 019: | Train Loss: 1.00837 | Val Loss: 42.48577 | Train Acc: 49.032| Val Acc: 35.758\n",
            "Epoch 020: | Train Loss: 1.00575 | Val Loss: 36.52548 | Train Acc: 49.444| Val Acc: 35.850\n",
            "Epoch 021: | Train Loss: 1.00665 | Val Loss: 35.56726 | Train Acc: 49.083| Val Acc: 35.814\n",
            "Epoch 022: | Train Loss: 1.00381 | Val Loss: 35.14205 | Train Acc: 49.472| Val Acc: 35.846\n",
            "Epoch 023: | Train Loss: 1.00146 | Val Loss: 38.23703 | Train Acc: 49.552| Val Acc: 35.886\n",
            "Epoch 024: | Train Loss: 1.00012 | Val Loss: 39.01895 | Train Acc: 49.718| Val Acc: 35.906\n",
            "Epoch 025: | Train Loss: 1.00085 | Val Loss: 42.14128 | Train Acc: 49.702| Val Acc: 35.846\n",
            "Epoch 026: | Train Loss: 0.99834 | Val Loss: 48.55490 | Train Acc: 49.822| Val Acc: 35.890\n",
            "Epoch 027: | Train Loss: 0.99707 | Val Loss: 39.29040 | Train Acc: 49.774| Val Acc: 35.878\n",
            "Epoch 028: | Train Loss: 0.99660 | Val Loss: 41.46110 | Train Acc: 50.079| Val Acc: 35.954\n",
            "Epoch 029: | Train Loss: 0.99407 | Val Loss: 46.91596 | Train Acc: 50.052| Val Acc: 36.029\n",
            "Epoch 030: | Train Loss: 0.99352 | Val Loss: 42.53436 | Train Acc: 50.019| Val Acc: 35.938\n",
            "Epoch 031: | Train Loss: 0.99270 | Val Loss: 41.23104 | Train Acc: 50.393| Val Acc: 35.268\n",
            "Epoch 032: | Train Loss: 0.99107 | Val Loss: 46.56323 | Train Acc: 50.326| Val Acc: 35.846\n",
            "Epoch 033: | Train Loss: 0.99041 | Val Loss: 46.38457 | Train Acc: 50.346| Val Acc: 35.870\n",
            "Epoch 034: | Train Loss: 0.98960 | Val Loss: 38.29024 | Train Acc: 50.368| Val Acc: 35.862\n",
            "Epoch 035: | Train Loss: 0.98835 | Val Loss: 48.10986 | Train Acc: 50.696| Val Acc: 35.946\n",
            "Epoch 036: | Train Loss: 0.98682 | Val Loss: 50.63705 | Train Acc: 50.424| Val Acc: 35.918\n",
            "Epoch 037: | Train Loss: 0.98614 | Val Loss: 54.64801 | Train Acc: 50.604| Val Acc: 35.830\n",
            "Epoch 038: | Train Loss: 0.98347 | Val Loss: 56.06499 | Train Acc: 50.920| Val Acc: 35.659\n",
            "Epoch 039: | Train Loss: 0.98360 | Val Loss: 55.96591 | Train Acc: 50.815| Val Acc: 35.954\n",
            "Epoch 040: | Train Loss: 0.98382 | Val Loss: 49.68804 | Train Acc: 51.094| Val Acc: 35.986\n",
            "Epoch 041: | Train Loss: 0.98386 | Val Loss: 50.84728 | Train Acc: 50.751| Val Acc: 35.970\n",
            "Epoch 042: | Train Loss: 0.97935 | Val Loss: 56.94556 | Train Acc: 51.201| Val Acc: 35.906\n",
            "Epoch 043: | Train Loss: 0.97944 | Val Loss: 61.34190 | Train Acc: 51.260| Val Acc: 35.902\n",
            "Epoch 044: | Train Loss: 0.97816 | Val Loss: 48.00104 | Train Acc: 51.431| Val Acc: 35.790\n",
            "Epoch 045: | Train Loss: 0.97301 | Val Loss: 52.67190 | Train Acc: 51.501| Val Acc: 36.117\n",
            "Epoch 046: | Train Loss: 0.97485 | Val Loss: 59.17818 | Train Acc: 51.496| Val Acc: 35.906\n",
            "Epoch 047: | Train Loss: 0.97499 | Val Loss: 65.28648 | Train Acc: 51.647| Val Acc: 35.882\n",
            "Epoch 048: | Train Loss: 0.97311 | Val Loss: 54.39216 | Train Acc: 51.569| Val Acc: 36.026\n",
            "Epoch 049: | Train Loss: 0.97351 | Val Loss: 44.34307 | Train Acc: 51.847| Val Acc: 35.727\n",
            "Epoch 050: | Train Loss: 0.96935 | Val Loss: 57.58184 | Train Acc: 52.052| Val Acc: 35.958\n",
            "Epoch 051: | Train Loss: 0.96926 | Val Loss: 65.54543 | Train Acc: 51.996| Val Acc: 35.898\n",
            "Epoch 052: | Train Loss: 0.96741 | Val Loss: 42.53718 | Train Acc: 52.229| Val Acc: 35.886\n",
            "Epoch 053: | Train Loss: 0.96689 | Val Loss: 56.03723 | Train Acc: 52.268| Val Acc: 36.093\n",
            "Epoch 054: | Train Loss: 0.96595 | Val Loss: 54.89665 | Train Acc: 52.240| Val Acc: 36.010\n",
            "Epoch 055: | Train Loss: 0.96384 | Val Loss: 55.37905 | Train Acc: 52.521| Val Acc: 35.830\n",
            "Epoch 056: | Train Loss: 0.96428 | Val Loss: 58.25829 | Train Acc: 52.276| Val Acc: 36.026\n",
            "Epoch 057: | Train Loss: 0.96330 | Val Loss: 57.48329 | Train Acc: 52.342| Val Acc: 36.029\n",
            "Epoch 058: | Train Loss: 0.96121 | Val Loss: 47.57709 | Train Acc: 52.694| Val Acc: 35.998\n",
            "Epoch 059: | Train Loss: 0.96057 | Val Loss: 50.21600 | Train Acc: 52.605| Val Acc: 35.838\n",
            "Epoch 060: | Train Loss: 0.95756 | Val Loss: 55.00718 | Train Acc: 53.107| Val Acc: 36.006\n",
            "Epoch 061: | Train Loss: 0.95794 | Val Loss: 61.02519 | Train Acc: 52.805| Val Acc: 35.822\n",
            "Epoch 062: | Train Loss: 0.95516 | Val Loss: 51.33713 | Train Acc: 53.103| Val Acc: 35.938\n",
            "Epoch 063: | Train Loss: 0.95546 | Val Loss: 55.24835 | Train Acc: 53.142| Val Acc: 35.970\n",
            "Epoch 064: | Train Loss: 0.95535 | Val Loss: 60.38786 | Train Acc: 53.043| Val Acc: 35.882\n",
            "Epoch 065: | Train Loss: 0.95326 | Val Loss: 61.13352 | Train Acc: 53.405| Val Acc: 36.014\n",
            "Epoch 066: | Train Loss: 0.95002 | Val Loss: 67.09717 | Train Acc: 53.337| Val Acc: 36.006\n",
            "Epoch 067: | Train Loss: 0.94862 | Val Loss: 48.98560 | Train Acc: 53.654| Val Acc: 35.918\n",
            "Epoch 068: | Train Loss: 0.94942 | Val Loss: 50.85423 | Train Acc: 53.552| Val Acc: 35.982\n",
            "Epoch 069: | Train Loss: 0.95021 | Val Loss: 55.76363 | Train Acc: 53.528| Val Acc: 35.922\n",
            "Epoch 070: | Train Loss: 0.94842 | Val Loss: 64.29850 | Train Acc: 53.530| Val Acc: 35.938\n",
            "Epoch 071: | Train Loss: 0.94498 | Val Loss: 65.09526 | Train Acc: 53.623| Val Acc: 35.727\n",
            "Epoch 072: | Train Loss: 0.94611 | Val Loss: 53.36845 | Train Acc: 53.795| Val Acc: 35.073\n",
            "Epoch 073: | Train Loss: 0.94559 | Val Loss: 53.11786 | Train Acc: 53.801| Val Acc: 36.053\n",
            "Epoch 074: | Train Loss: 0.94210 | Val Loss: 59.21576 | Train Acc: 54.012| Val Acc: 36.049\n",
            "Epoch 075: | Train Loss: 0.94273 | Val Loss: 66.27225 | Train Acc: 53.881| Val Acc: 36.057\n",
            "Epoch 076: | Train Loss: 0.94513 | Val Loss: 53.46854 | Train Acc: 53.835| Val Acc: 36.281\n",
            "Epoch 077: | Train Loss: 0.93879 | Val Loss: 46.96310 | Train Acc: 54.409| Val Acc: 36.137\n",
            "Epoch 078: | Train Loss: 0.93832 | Val Loss: 52.83578 | Train Acc: 54.327| Val Acc: 35.639\n",
            "Epoch 079: | Train Loss: 0.93885 | Val Loss: 42.54730 | Train Acc: 54.417| Val Acc: 36.177\n",
            "Epoch 080: | Train Loss: 0.93529 | Val Loss: 50.41648 | Train Acc: 54.734| Val Acc: 36.137\n",
            "Epoch 081: | Train Loss: 0.93607 | Val Loss: 46.55207 | Train Acc: 54.076| Val Acc: 36.073\n",
            "Epoch 082: | Train Loss: 0.93454 | Val Loss: 76.95360 | Train Acc: 54.491| Val Acc: 35.934\n",
            "Epoch 083: | Train Loss: 0.93377 | Val Loss: 68.89742 | Train Acc: 54.645| Val Acc: 35.994\n",
            "Epoch 084: | Train Loss: 0.93435 | Val Loss: 57.23074 | Train Acc: 54.493| Val Acc: 36.261\n",
            "Epoch 085: | Train Loss: 0.92999 | Val Loss: 73.35243 | Train Acc: 54.959| Val Acc: 36.137\n",
            "Epoch 086: | Train Loss: 0.92828 | Val Loss: 74.65684 | Train Acc: 54.931| Val Acc: 36.217\n",
            "Epoch 087: | Train Loss: 0.92981 | Val Loss: 58.95812 | Train Acc: 54.781| Val Acc: 36.141\n",
            "Epoch 088: | Train Loss: 0.92561 | Val Loss: 71.39651 | Train Acc: 54.954| Val Acc: 36.336\n",
            "Epoch 089: | Train Loss: 0.92389 | Val Loss: 59.62870 | Train Acc: 55.071| Val Acc: 36.352\n",
            "Epoch 090: | Train Loss: 0.92331 | Val Loss: 38.46428 | Train Acc: 55.271| Val Acc: 36.201\n",
            "Epoch 091: | Train Loss: 0.92517 | Val Loss: 42.62886 | Train Acc: 55.228| Val Acc: 36.213\n",
            "Epoch 092: | Train Loss: 0.91907 | Val Loss: 51.41695 | Train Acc: 55.352| Val Acc: 36.117\n",
            "Epoch 093: | Train Loss: 0.92204 | Val Loss: 48.36184 | Train Acc: 55.327| Val Acc: 36.464\n",
            "Epoch 094: | Train Loss: 0.92134 | Val Loss: 45.72194 | Train Acc: 55.610| Val Acc: 36.205\n",
            "Epoch 095: | Train Loss: 0.91856 | Val Loss: 50.06196 | Train Acc: 55.715| Val Acc: 36.229\n",
            "Epoch 096: | Train Loss: 0.91479 | Val Loss: 53.72951 | Train Acc: 55.969| Val Acc: 36.372\n",
            "Epoch 097: | Train Loss: 0.91685 | Val Loss: 31.64838 | Train Acc: 55.743| Val Acc: 36.121\n",
            "Epoch 098: | Train Loss: 0.91438 | Val Loss: 63.94009 | Train Acc: 55.661| Val Acc: 36.241\n",
            "Epoch 099: | Train Loss: 0.91564 | Val Loss: 31.72633 | Train Acc: 55.733| Val Acc: 36.037\n",
            "Epoch 100: | Train Loss: 0.91364 | Val Loss: 48.22221 | Train Acc: 55.620| Val Acc: 36.225\n",
            "Epoch 101: | Train Loss: 0.91095 | Val Loss: 54.42397 | Train Acc: 56.062| Val Acc: 36.269\n",
            "Epoch 102: | Train Loss: 0.91041 | Val Loss: 50.81663 | Train Acc: 56.208| Val Acc: 36.189\n",
            "Epoch 103: | Train Loss: 0.90579 | Val Loss: 49.51678 | Train Acc: 56.250| Val Acc: 36.181\n",
            "Epoch 104: | Train Loss: 0.91100 | Val Loss: 57.90573 | Train Acc: 56.148| Val Acc: 36.097\n",
            "Epoch 105: | Train Loss: 0.91013 | Val Loss: 48.70327 | Train Acc: 56.116| Val Acc: 36.249\n",
            "Epoch 106: | Train Loss: 0.90439 | Val Loss: 53.61910 | Train Acc: 56.474| Val Acc: 36.400\n",
            "Epoch 107: | Train Loss: 0.90536 | Val Loss: 53.45957 | Train Acc: 56.655| Val Acc: 36.085\n",
            "Epoch 108: | Train Loss: 0.90200 | Val Loss: 43.10108 | Train Acc: 56.489| Val Acc: 36.364\n",
            "Epoch 109: | Train Loss: 0.90089 | Val Loss: 40.50897 | Train Acc: 56.572| Val Acc: 36.332\n",
            "Epoch 110: | Train Loss: 0.90226 | Val Loss: 57.36740 | Train Acc: 56.627| Val Acc: 36.133\n",
            "Epoch 111: | Train Loss: 0.89964 | Val Loss: 41.31016 | Train Acc: 56.814| Val Acc: 36.125\n",
            "Epoch 112: | Train Loss: 0.90043 | Val Loss: 44.83579 | Train Acc: 56.405| Val Acc: 36.173\n",
            "Epoch 113: | Train Loss: 0.89853 | Val Loss: 43.95112 | Train Acc: 56.914| Val Acc: 36.328\n",
            "Epoch 114: | Train Loss: 0.89548 | Val Loss: 48.75519 | Train Acc: 57.081| Val Acc: 36.412\n",
            "Epoch 115: | Train Loss: 0.89465 | Val Loss: 41.63435 | Train Acc: 56.929| Val Acc: 36.500\n",
            "Epoch 116: | Train Loss: 0.89509 | Val Loss: 67.38322 | Train Acc: 56.954| Val Acc: 36.384\n",
            "Epoch 117: | Train Loss: 0.89713 | Val Loss: 52.03984 | Train Acc: 57.014| Val Acc: 36.205\n",
            "Epoch 118: | Train Loss: 0.89351 | Val Loss: 45.97796 | Train Acc: 56.879| Val Acc: 36.448\n",
            "Epoch 119: | Train Loss: 0.89223 | Val Loss: 65.18914 | Train Acc: 57.305| Val Acc: 36.293\n",
            "Epoch 120: | Train Loss: 0.88792 | Val Loss: 39.41584 | Train Acc: 57.549| Val Acc: 36.053\n",
            "Epoch 121: | Train Loss: 0.88764 | Val Loss: 37.83593 | Train Acc: 57.646| Val Acc: 36.360\n",
            "Epoch 122: | Train Loss: 0.88669 | Val Loss: 36.00223 | Train Acc: 57.638| Val Acc: 36.317\n",
            "Epoch 123: | Train Loss: 0.88559 | Val Loss: 31.98377 | Train Acc: 57.677| Val Acc: 36.396\n",
            "Epoch 124: | Train Loss: 0.88573 | Val Loss: 40.24111 | Train Acc: 57.835| Val Acc: 36.237\n",
            "Epoch 125: | Train Loss: 0.88257 | Val Loss: 59.22653 | Train Acc: 57.817| Val Acc: 36.324\n",
            "Epoch 126: | Train Loss: 0.88364 | Val Loss: 42.74998 | Train Acc: 57.798| Val Acc: 36.372\n",
            "Epoch 127: | Train Loss: 0.88062 | Val Loss: 42.72222 | Train Acc: 58.098| Val Acc: 36.472\n",
            "Epoch 128: | Train Loss: 0.88004 | Val Loss: 41.00631 | Train Acc: 57.767| Val Acc: 36.201\n",
            "Epoch 129: | Train Loss: 0.88109 | Val Loss: 34.59373 | Train Acc: 58.119| Val Acc: 36.336\n",
            "Epoch 130: | Train Loss: 0.87749 | Val Loss: 38.29935 | Train Acc: 58.275| Val Acc: 36.253\n",
            "Epoch 131: | Train Loss: 0.87694 | Val Loss: 29.02172 | Train Acc: 57.956| Val Acc: 36.404\n",
            "Epoch 132: | Train Loss: 0.87692 | Val Loss: 32.72198 | Train Acc: 58.161| Val Acc: 36.392\n",
            "Epoch 133: | Train Loss: 0.87265 | Val Loss: 40.77891 | Train Acc: 58.397| Val Acc: 36.512\n",
            "Epoch 134: | Train Loss: 0.87513 | Val Loss: 37.43953 | Train Acc: 58.242| Val Acc: 36.261\n",
            "Epoch 135: | Train Loss: 0.87333 | Val Loss: 34.67797 | Train Acc: 58.597| Val Acc: 36.416\n",
            "Epoch 136: | Train Loss: 0.87301 | Val Loss: 40.11558 | Train Acc: 58.622| Val Acc: 36.069\n",
            "Epoch 137: | Train Loss: 0.87193 | Val Loss: 36.48601 | Train Acc: 58.376| Val Acc: 36.340\n",
            "Epoch 138: | Train Loss: 0.86881 | Val Loss: 44.89180 | Train Acc: 58.507| Val Acc: 36.249\n",
            "Epoch 139: | Train Loss: 0.86902 | Val Loss: 36.81583 | Train Acc: 58.889| Val Acc: 36.257\n",
            "Epoch 140: | Train Loss: 0.87121 | Val Loss: 32.80822 | Train Acc: 58.475| Val Acc: 36.400\n",
            "Epoch 141: | Train Loss: 0.87340 | Val Loss: 36.92319 | Train Acc: 58.488| Val Acc: 36.452\n",
            "Epoch 142: | Train Loss: 0.86699 | Val Loss: 28.78332 | Train Acc: 58.645| Val Acc: 36.285\n",
            "Epoch 143: | Train Loss: 0.87130 | Val Loss: 41.32294 | Train Acc: 58.467| Val Acc: 36.197\n",
            "Epoch 144: | Train Loss: 0.86106 | Val Loss: 41.97705 | Train Acc: 59.151| Val Acc: 36.157\n",
            "Epoch 145: | Train Loss: 0.87009 | Val Loss: 49.16172 | Train Acc: 58.592| Val Acc: 36.301\n",
            "Epoch 146: | Train Loss: 0.86423 | Val Loss: 52.38777 | Train Acc: 59.114| Val Acc: 36.121\n",
            "Epoch 147: | Train Loss: 0.86333 | Val Loss: 51.05564 | Train Acc: 59.116| Val Acc: 36.169\n",
            "Epoch 148: | Train Loss: 0.86276 | Val Loss: 30.99604 | Train Acc: 59.183| Val Acc: 36.081\n",
            "Epoch 149: | Train Loss: 0.85988 | Val Loss: 51.52852 | Train Acc: 59.279| Val Acc: 36.265\n",
            "Epoch 150: | Train Loss: 0.86540 | Val Loss: 53.16078 | Train Acc: 58.780| Val Acc: 36.313\n",
            "Epoch 151: | Train Loss: 0.85481 | Val Loss: 60.12736 | Train Acc: 59.525| Val Acc: 36.081\n",
            "Epoch 152: | Train Loss: 0.86499 | Val Loss: 37.30025 | Train Acc: 58.743| Val Acc: 36.041\n",
            "Epoch 153: | Train Loss: 0.85688 | Val Loss: 41.30300 | Train Acc: 59.365| Val Acc: 36.201\n",
            "Epoch 154: | Train Loss: 0.85733 | Val Loss: 40.48661 | Train Acc: 59.557| Val Acc: 36.153\n",
            "Epoch 155: | Train Loss: 0.85468 | Val Loss: 33.74834 | Train Acc: 59.677| Val Acc: 36.225\n",
            "Epoch 156: | Train Loss: 0.85272 | Val Loss: 34.98886 | Train Acc: 59.542| Val Acc: 36.153\n",
            "Epoch 157: | Train Loss: 0.85270 | Val Loss: 48.54581 | Train Acc: 59.723| Val Acc: 36.065\n",
            "Epoch 158: | Train Loss: 0.85048 | Val Loss: 42.49513 | Train Acc: 59.692| Val Acc: 36.153\n",
            "Epoch 159: | Train Loss: 0.84920 | Val Loss: 35.11881 | Train Acc: 59.665| Val Acc: 36.261\n",
            "Epoch 160: | Train Loss: 0.85216 | Val Loss: 29.53816 | Train Acc: 59.648| Val Acc: 36.412\n",
            "Epoch 161: | Train Loss: 0.85149 | Val Loss: 40.91609 | Train Acc: 59.619| Val Acc: 36.057\n",
            "Epoch 162: | Train Loss: 0.85031 | Val Loss: 46.43221 | Train Acc: 59.607| Val Acc: 36.201\n",
            "Epoch 163: | Train Loss: 0.84934 | Val Loss: 49.58376 | Train Acc: 59.905| Val Acc: 36.037\n",
            "Epoch 164: | Train Loss: 0.84644 | Val Loss: 35.32785 | Train Acc: 60.108| Val Acc: 36.097\n",
            "Epoch 165: | Train Loss: 0.84282 | Val Loss: 45.99948 | Train Acc: 60.381| Val Acc: 35.982\n",
            "Epoch 166: | Train Loss: 0.84430 | Val Loss: 60.52897 | Train Acc: 60.116| Val Acc: 36.041\n",
            "Epoch 167: | Train Loss: 0.84157 | Val Loss: 50.27751 | Train Acc: 60.304| Val Acc: 35.966\n",
            "Epoch 168: | Train Loss: 0.84110 | Val Loss: 44.85651 | Train Acc: 60.211| Val Acc: 36.177\n",
            "Epoch 169: | Train Loss: 0.84410 | Val Loss: 37.01279 | Train Acc: 60.181| Val Acc: 36.029\n",
            "Epoch 170: | Train Loss: 0.84234 | Val Loss: 46.77090 | Train Acc: 60.224| Val Acc: 36.313\n",
            "Epoch 171: | Train Loss: 0.84089 | Val Loss: 48.12755 | Train Acc: 60.470| Val Acc: 36.117\n",
            "Epoch 172: | Train Loss: 0.84329 | Val Loss: 52.33008 | Train Acc: 60.501| Val Acc: 36.233\n",
            "Epoch 173: | Train Loss: 0.83895 | Val Loss: 50.74819 | Train Acc: 60.462| Val Acc: 36.277\n",
            "Epoch 174: | Train Loss: 0.83892 | Val Loss: 40.94375 | Train Acc: 60.491| Val Acc: 36.364\n",
            "Epoch 175: | Train Loss: 0.84176 | Val Loss: 53.58597 | Train Acc: 60.583| Val Acc: 36.281\n",
            "Epoch 176: | Train Loss: 0.83454 | Val Loss: 53.97118 | Train Acc: 60.559| Val Acc: 36.301\n",
            "Epoch 177: | Train Loss: 0.83481 | Val Loss: 44.03920 | Train Acc: 60.746| Val Acc: 36.376\n",
            "Epoch 178: | Train Loss: 0.83578 | Val Loss: 48.62105 | Train Acc: 60.689| Val Acc: 36.265\n",
            "Epoch 179: | Train Loss: 0.83304 | Val Loss: 62.92916 | Train Acc: 60.652| Val Acc: 36.396\n",
            "Epoch 180: | Train Loss: 0.83344 | Val Loss: 53.76933 | Train Acc: 60.517| Val Acc: 36.460\n",
            "Epoch 181: | Train Loss: 0.83127 | Val Loss: 77.82663 | Train Acc: 60.987| Val Acc: 36.344\n",
            "Epoch 182: | Train Loss: 0.83671 | Val Loss: 37.98298 | Train Acc: 60.579| Val Acc: 36.221\n",
            "Epoch 183: | Train Loss: 0.82852 | Val Loss: 51.25410 | Train Acc: 61.028| Val Acc: 36.424\n",
            "Epoch 184: | Train Loss: 0.82652 | Val Loss: 48.26266 | Train Acc: 61.196| Val Acc: 36.372\n",
            "Epoch 185: | Train Loss: 0.83206 | Val Loss: 56.82527 | Train Acc: 60.879| Val Acc: 36.169\n",
            "Epoch 186: | Train Loss: 0.82996 | Val Loss: 48.34464 | Train Acc: 60.903| Val Acc: 36.213\n",
            "Epoch 187: | Train Loss: 0.82605 | Val Loss: 41.21401 | Train Acc: 61.087| Val Acc: 36.344\n",
            "Epoch 188: | Train Loss: 0.82225 | Val Loss: 60.16166 | Train Acc: 61.396| Val Acc: 36.113\n"
          ]
        },
        {
          "output_type": "error",
          "ename": "KeyboardInterrupt",
          "evalue": "ignored",
          "traceback": [
            "\u001b[0;31m---------------------------------------------------------------------------\u001b[0m",
            "\u001b[0;31mKeyboardInterrupt\u001b[0m                         Traceback (most recent call last)",
            "\u001b[0;32m<ipython-input-41-5748e27f82c6>\u001b[0m in \u001b[0;36m<module>\u001b[0;34m()\u001b[0m\n\u001b[1;32m     35\u001b[0m           \u001b[0mX_val_batch\u001b[0m\u001b[0;34m,\u001b[0m \u001b[0my_val_batch\u001b[0m \u001b[0;34m=\u001b[0m \u001b[0mX_val_batch\u001b[0m\u001b[0;34m.\u001b[0m\u001b[0mto\u001b[0m\u001b[0;34m(\u001b[0m\u001b[0mdevice\u001b[0m\u001b[0;34m)\u001b[0m\u001b[0;34m,\u001b[0m \u001b[0my_val_batch\u001b[0m\u001b[0;34m.\u001b[0m\u001b[0mto\u001b[0m\u001b[0;34m(\u001b[0m\u001b[0mdevice\u001b[0m\u001b[0;34m)\u001b[0m\u001b[0;34m\u001b[0m\u001b[0;34m\u001b[0m\u001b[0m\n\u001b[1;32m     36\u001b[0m \u001b[0;34m\u001b[0m\u001b[0m\n\u001b[0;32m---> 37\u001b[0;31m           \u001b[0my_val_pred\u001b[0m \u001b[0;34m=\u001b[0m \u001b[0mmodel\u001b[0m\u001b[0;34m(\u001b[0m\u001b[0mX_val_batch\u001b[0m\u001b[0;34m)\u001b[0m\u001b[0;34m\u001b[0m\u001b[0;34m\u001b[0m\u001b[0m\n\u001b[0m\u001b[1;32m     38\u001b[0m \u001b[0;34m\u001b[0m\u001b[0m\n\u001b[1;32m     39\u001b[0m           \u001b[0mval_loss\u001b[0m \u001b[0;34m=\u001b[0m \u001b[0mcriterion\u001b[0m\u001b[0;34m(\u001b[0m\u001b[0my_val_pred\u001b[0m\u001b[0;34m,\u001b[0m \u001b[0my_val_batch\u001b[0m\u001b[0;34m)\u001b[0m\u001b[0;34m\u001b[0m\u001b[0;34m\u001b[0m\u001b[0m\n",
            "\u001b[0;32m/usr/local/lib/python3.7/dist-packages/torch/nn/modules/module.py\u001b[0m in \u001b[0;36m_call_impl\u001b[0;34m(self, *input, **kwargs)\u001b[0m\n\u001b[1;32m   1100\u001b[0m         if not (self._backward_hooks or self._forward_hooks or self._forward_pre_hooks or _global_backward_hooks\n\u001b[1;32m   1101\u001b[0m                 or _global_forward_hooks or _global_forward_pre_hooks):\n\u001b[0;32m-> 1102\u001b[0;31m             \u001b[0;32mreturn\u001b[0m \u001b[0mforward_call\u001b[0m\u001b[0;34m(\u001b[0m\u001b[0;34m*\u001b[0m\u001b[0minput\u001b[0m\u001b[0;34m,\u001b[0m \u001b[0;34m**\u001b[0m\u001b[0mkwargs\u001b[0m\u001b[0;34m)\u001b[0m\u001b[0;34m\u001b[0m\u001b[0;34m\u001b[0m\u001b[0m\n\u001b[0m\u001b[1;32m   1103\u001b[0m         \u001b[0;31m# Do not call functions when jit is used\u001b[0m\u001b[0;34m\u001b[0m\u001b[0;34m\u001b[0m\u001b[0;34m\u001b[0m\u001b[0m\n\u001b[1;32m   1104\u001b[0m         \u001b[0mfull_backward_hooks\u001b[0m\u001b[0;34m,\u001b[0m \u001b[0mnon_full_backward_hooks\u001b[0m \u001b[0;34m=\u001b[0m \u001b[0;34m[\u001b[0m\u001b[0;34m]\u001b[0m\u001b[0;34m,\u001b[0m \u001b[0;34m[\u001b[0m\u001b[0;34m]\u001b[0m\u001b[0;34m\u001b[0m\u001b[0;34m\u001b[0m\u001b[0m\n",
            "\u001b[0;32m<ipython-input-29-5d63d3fdec13>\u001b[0m in \u001b[0;36mforward\u001b[0;34m(self, x)\u001b[0m\n\u001b[1;32m     25\u001b[0m \u001b[0;34m\u001b[0m\u001b[0m\n\u001b[1;32m     26\u001b[0m         \u001b[0mx\u001b[0m \u001b[0;34m=\u001b[0m \u001b[0mself\u001b[0m\u001b[0;34m.\u001b[0m\u001b[0mlayer_3\u001b[0m\u001b[0;34m(\u001b[0m\u001b[0mx\u001b[0m\u001b[0;34m)\u001b[0m\u001b[0;34m\u001b[0m\u001b[0;34m\u001b[0m\u001b[0m\n\u001b[0;32m---> 27\u001b[0;31m         \u001b[0mx\u001b[0m \u001b[0;34m=\u001b[0m \u001b[0mself\u001b[0m\u001b[0;34m.\u001b[0m\u001b[0mbatchnorm3\u001b[0m\u001b[0;34m(\u001b[0m\u001b[0mx\u001b[0m\u001b[0;34m)\u001b[0m\u001b[0;34m\u001b[0m\u001b[0;34m\u001b[0m\u001b[0m\n\u001b[0m\u001b[1;32m     28\u001b[0m         \u001b[0mx\u001b[0m \u001b[0;34m=\u001b[0m \u001b[0mself\u001b[0m\u001b[0;34m.\u001b[0m\u001b[0mrelu\u001b[0m\u001b[0;34m(\u001b[0m\u001b[0mx\u001b[0m\u001b[0;34m)\u001b[0m\u001b[0;34m\u001b[0m\u001b[0;34m\u001b[0m\u001b[0m\n\u001b[1;32m     29\u001b[0m         \u001b[0mx\u001b[0m \u001b[0;34m=\u001b[0m \u001b[0mself\u001b[0m\u001b[0;34m.\u001b[0m\u001b[0mdropout\u001b[0m\u001b[0;34m(\u001b[0m\u001b[0mx\u001b[0m\u001b[0;34m)\u001b[0m\u001b[0;34m\u001b[0m\u001b[0;34m\u001b[0m\u001b[0m\n",
            "\u001b[0;32m/usr/local/lib/python3.7/dist-packages/torch/nn/modules/module.py\u001b[0m in \u001b[0;36m_call_impl\u001b[0;34m(self, *input, **kwargs)\u001b[0m\n\u001b[1;32m   1100\u001b[0m         if not (self._backward_hooks or self._forward_hooks or self._forward_pre_hooks or _global_backward_hooks\n\u001b[1;32m   1101\u001b[0m                 or _global_forward_hooks or _global_forward_pre_hooks):\n\u001b[0;32m-> 1102\u001b[0;31m             \u001b[0;32mreturn\u001b[0m \u001b[0mforward_call\u001b[0m\u001b[0;34m(\u001b[0m\u001b[0;34m*\u001b[0m\u001b[0minput\u001b[0m\u001b[0;34m,\u001b[0m \u001b[0;34m**\u001b[0m\u001b[0mkwargs\u001b[0m\u001b[0;34m)\u001b[0m\u001b[0;34m\u001b[0m\u001b[0;34m\u001b[0m\u001b[0m\n\u001b[0m\u001b[1;32m   1103\u001b[0m         \u001b[0;31m# Do not call functions when jit is used\u001b[0m\u001b[0;34m\u001b[0m\u001b[0;34m\u001b[0m\u001b[0;34m\u001b[0m\u001b[0m\n\u001b[1;32m   1104\u001b[0m         \u001b[0mfull_backward_hooks\u001b[0m\u001b[0;34m,\u001b[0m \u001b[0mnon_full_backward_hooks\u001b[0m \u001b[0;34m=\u001b[0m \u001b[0;34m[\u001b[0m\u001b[0;34m]\u001b[0m\u001b[0;34m,\u001b[0m \u001b[0;34m[\u001b[0m\u001b[0;34m]\u001b[0m\u001b[0;34m\u001b[0m\u001b[0;34m\u001b[0m\u001b[0m\n",
            "\u001b[0;32m/usr/local/lib/python3.7/dist-packages/torch/nn/modules/batchnorm.py\u001b[0m in \u001b[0;36mforward\u001b[0;34m(self, input)\u001b[0m\n\u001b[1;32m    177\u001b[0m             \u001b[0mbn_training\u001b[0m\u001b[0;34m,\u001b[0m\u001b[0;34m\u001b[0m\u001b[0;34m\u001b[0m\u001b[0m\n\u001b[1;32m    178\u001b[0m             \u001b[0mexponential_average_factor\u001b[0m\u001b[0;34m,\u001b[0m\u001b[0;34m\u001b[0m\u001b[0;34m\u001b[0m\u001b[0m\n\u001b[0;32m--> 179\u001b[0;31m             \u001b[0mself\u001b[0m\u001b[0;34m.\u001b[0m\u001b[0meps\u001b[0m\u001b[0;34m,\u001b[0m\u001b[0;34m\u001b[0m\u001b[0;34m\u001b[0m\u001b[0m\n\u001b[0m\u001b[1;32m    180\u001b[0m         )\n\u001b[1;32m    181\u001b[0m \u001b[0;34m\u001b[0m\u001b[0m\n",
            "\u001b[0;32m/usr/local/lib/python3.7/dist-packages/torch/nn/functional.py\u001b[0m in \u001b[0;36mbatch_norm\u001b[0;34m(input, running_mean, running_var, weight, bias, training, momentum, eps)\u001b[0m\n\u001b[1;32m   2281\u001b[0m \u001b[0;34m\u001b[0m\u001b[0m\n\u001b[1;32m   2282\u001b[0m     return torch.batch_norm(\n\u001b[0;32m-> 2283\u001b[0;31m         \u001b[0minput\u001b[0m\u001b[0;34m,\u001b[0m \u001b[0mweight\u001b[0m\u001b[0;34m,\u001b[0m \u001b[0mbias\u001b[0m\u001b[0;34m,\u001b[0m \u001b[0mrunning_mean\u001b[0m\u001b[0;34m,\u001b[0m \u001b[0mrunning_var\u001b[0m\u001b[0;34m,\u001b[0m \u001b[0mtraining\u001b[0m\u001b[0;34m,\u001b[0m \u001b[0mmomentum\u001b[0m\u001b[0;34m,\u001b[0m \u001b[0meps\u001b[0m\u001b[0;34m,\u001b[0m \u001b[0mtorch\u001b[0m\u001b[0;34m.\u001b[0m\u001b[0mbackends\u001b[0m\u001b[0;34m.\u001b[0m\u001b[0mcudnn\u001b[0m\u001b[0;34m.\u001b[0m\u001b[0menabled\u001b[0m\u001b[0;34m\u001b[0m\u001b[0;34m\u001b[0m\u001b[0m\n\u001b[0m\u001b[1;32m   2284\u001b[0m     )\n\u001b[1;32m   2285\u001b[0m \u001b[0;34m\u001b[0m\u001b[0m\n",
            "\u001b[0;31mKeyboardInterrupt\u001b[0m: "
          ]
        }
      ]
    },
    {
      "cell_type": "markdown",
      "source": [
        "# APPENDIX"
      ],
      "metadata": {
        "id": "CdPrjLX4u2u7"
      }
    },
    {
      "cell_type": "code",
      "source": [
        "plot_df = pd.DataFrame(full_targets, columns=[\"FuturePrice\"])"
      ],
      "metadata": {
        "id": "kO0RlwtEvavG"
      },
      "execution_count": null,
      "outputs": []
    },
    {
      "cell_type": "code",
      "source": [
        "plot_df[\"FuturePrice\"].value_counts().plot(kind = 'bar')"
      ],
      "metadata": {
        "colab": {
          "base_uri": "https://localhost:8080/",
          "height": 299
        },
        "id": "o4DstDh7v61B",
        "outputId": "9fb82a04-9a72-4e9f-acc0-e71b745dfc7e"
      },
      "execution_count": null,
      "outputs": [
        {
          "output_type": "execute_result",
          "data": {
            "text/plain": [
              "<matplotlib.axes._subplots.AxesSubplot at 0x7f74d1325d10>"
            ]
          },
          "metadata": {},
          "execution_count": 338
        },
        {
          "output_type": "display_data",
          "data": {
            "image/png": "[encoded data removed]",
            "text/plain": [
              "<Figure size 432x288 with 1 Axes>"
            ]
          },
          "metadata": {
            "needs_background": "light"
          }
        }
      ]
    },
    {
      "cell_type": "code",
      "source": [
        "def buildTargets_VolOnly(full_df = full, train_observations = train.shape[0], \n",
        "                         val_observations = val.shape[0], \n",
        "                         test_observations = test.shape[0], \n",
        "                         alph = 0.55, volity_int = 10):\n",
        "\n",
        "  \"\"\" \n",
        "  This function will take a complete set of train, val, and test data and return the targets.\n",
        "  Volitility will be calculated over the 252 5min incriments \n",
        "  The Target shift is looking at 2 hours shift from current time\n",
        "  \"\"\"\n",
        "\n",
        "  returns = np.log(full_df['Close']/(full_df['Close'].shift(1)))\n",
        "  returns.fillna(0, inplace=True)\n",
        "  #volatility = returns.std()*np.sqrt(volity_int)\n",
        "  volatility = returns.rolling(window=volity_int).std()*np.sqrt(volity_int)\n",
        "\n",
        "\n",
        "\n",
        "  return volatility\n",
        "  #return train_targets, val_targets, test_targets, full_targets\n",
        "\n",
        "volatility = buildTargets_VolOnly()\n",
        "\n",
        "fig = plt.figure(figsize=(15, 7))\n",
        "ax1 = fig.add_subplot(1, 1, 1)\n",
        "volatility.plot(ax=ax1, color = \"red\")\n",
        "ax1.set_xlabel('Date')\n",
        "ax1.set_ylabel('Volatility', color = \"red\")\n",
        "ax1.set_title(f'Annualized volatility for {ticker}')\n",
        "ax2 = ax1.twinx()\n",
        "full.Close.plot(ax=ax2, color = \"blue\")\n",
        "ax2.set_ylabel('Close', color = \"blue\")\n",
        "plt.show()"
      ],
      "metadata": {
        "colab": {
          "base_uri": "https://localhost:8080/",
          "height": 440
        },
        "id": "qUSks6bebTnk",
        "outputId": "95096d69-9fee-4d57-cdf8-870bbf0b9abf"
      },
      "execution_count": null,
      "outputs": [
        {
          "output_type": "display_data",
          "data": {
            "image/png": "[encoded data removed]",
            "text/plain": [
              "<Figure size 1080x504 with 2 Axes>"
            ]
          },
          "metadata": {
            "needs_background": "light"
          }
        }
      ]
    },
    {
      "cell_type": "code",
      "source": [
        "X,y=data.data,data.target\n",
        "# Since the default in the file is 0=malignant 1=benign we want to reverse these\n",
        "y=(y==0).astype(int)\n",
        "X,y= np.array(X),np.array(y)\n",
        "\n",
        "# Let's set aside a test set and use the remainder for training and cross-validation\n",
        "X_train,X_test,y_train,y_test = train_test_split(X, y, random_state=0,test_size=0.2)\n",
        "\n",
        "# Let's scale our data to help the algorithm converge faster\n",
        "scaler = StandardScaler()\n",
        "X_train_scaled = scaler.fit_transform(X_train)\n",
        "X_test_scaled = scaler.transform(X_test)"
      ],
      "metadata": {
        "id": "UViHHQXtEB7r"
      },
      "execution_count": null,
      "outputs": []
    },
    {
      "cell_type": "code",
      "source": [
        "full.drop(columns=['Time', ])"
      ],
      "metadata": {
        "id": "DxdD_w9pRfO8"
      },
      "execution_count": null,
      "outputs": []
    },
    {
      "cell_type": "code",
      "source": [
        "from sklearn.datasets import load_breast_cancer"
      ],
      "metadata": {
        "id": "TKu0iaKZSnyM"
      },
      "execution_count": null,
      "outputs": []
    },
    {
      "cell_type": "code",
      "source": [
        "data=load_breast_cancer(as_frame=True)"
      ],
      "metadata": {
        "id": "K23hvV9cWb96"
      },
      "execution_count": null,
      "outputs": []
    },
    {
      "cell_type": "code",
      "source": [
        "data.target"
      ],
      "metadata": {
        "colab": {
          "base_uri": "https://localhost:8080/"
        },
        "id": "RuBc_eiVWedQ",
        "outputId": "fda35b37-d263-4822-e472-46c94d9d2a31"
      },
      "execution_count": null,
      "outputs": [
        {
          "output_type": "execute_result",
          "data": {
            "text/plain": [
              "0      0\n",
              "1      0\n",
              "2      0\n",
              "3      0\n",
              "4      0\n",
              "      ..\n",
              "564    0\n",
              "565    0\n",
              "566    0\n",
              "567    0\n",
              "568    1\n",
              "Name: target, Length: 569, dtype: int64"
            ]
          },
          "metadata": {},
          "execution_count": 21
        }
      ]
    },
    {
      "cell_type": "code",
      "source": [
        ""
      ],
      "metadata": {
        "id": "rCar6GOuWe6f"
      },
      "execution_count": null,
      "outputs": []
    }
  ]
}