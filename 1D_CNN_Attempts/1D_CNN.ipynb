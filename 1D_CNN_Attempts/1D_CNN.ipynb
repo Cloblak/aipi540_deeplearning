{
  "nbformat": 4,
  "nbformat_minor": 0,
  "metadata": {
    "colab": {
      "name": "1D_CNN.ipynb",
      "provenance": [],
      "collapsed_sections": [],
      "authorship_tag": "ABX9TyONTb02kuhlcDpsY65/lKhy",
      "include_colab_link": true
    },
    "kernelspec": {
      "name": "python3",
      "display_name": "Python 3"
    },
    "language_info": {
      "name": "python"
    }
  },
  "cells": [
    {
      "cell_type": "markdown",
      "metadata": {
        "id": "view-in-github",
        "colab_type": "text"
      },
      "source": [
        "<a href=\"https://colab.research.google.com/github/Cloblak/aipi540_deeplearning/blob/main/1D_CNN_Attempts/1D_CNN.ipynb\" target=\"_parent\"><img src=\"https://colab.research.google.com/assets/colab-badge.svg\" alt=\"Open In Colab\"/></a>"
      ]
    },
    {
      "cell_type": "code",
      "source": [
        "#!pip install alpaca_trade_api"
      ],
      "metadata": {
        "id": "Xj0pR3efRVrc"
      },
      "execution_count": 2,
      "outputs": []
    },
    {
      "cell_type": "markdown",
      "source": [
        "Features To Consider\n",
        " - Targets are only predicting sell within market hours, i.e. at 1530, target is prediciting price for 1100 the next day.  Data from pre and post market is taken into consideration, and a sell or buy will be indicated if the price will flucuate after close."
      ],
      "metadata": {
        "id": "hdKRKIogGAu6"
      }
    },
    {
      "cell_type": "code",
      "source": [
        "# Import Dependencies\n",
        "import numpy as np\n",
        "import pandas as pd\n",
        "import torch\n",
        "from torchvision import datasets, transforms\n",
        "import torchvision\n",
        "from torch.utils.data import DataLoader, TensorDataset\n",
        "import torch.nn as nn\n",
        "import torch.nn.functional as F\n",
        "import torch.optim as optim\n",
        "import alpaca_trade_api as tradeapi\n",
        "from datetime import datetime, timedelta, tzinfo, timezone, time\n",
        "import os.path\n",
        "import ast\n",
        "import threading\n",
        "import math\n",
        "import seaborn as sns\n",
        "import matplotlib.pyplot as plt\n",
        "from sklearn.model_selection import train_test_split\n",
        "from sklearn.preprocessing import StandardScaler"
      ],
      "metadata": {
        "id": "J1fWNRnTQZX-"
      },
      "execution_count": 106,
      "outputs": []
    },
    {
      "cell_type": "code",
      "source": [
        "PAPER_API_KEY = \"PKE39LILN9SL1FMJMFV7\"\n",
        "PAPER_SECRET_KEY = \"TkU7fXH6WhP15MewgWlSnQG5RUoHGOPQ7yqlD6xq\"\n",
        "PAPER_BASE_URL = 'https://paper-api.alpaca.markets'"
      ],
      "metadata": {
        "id": "IXnO8ykgRIuv"
      },
      "execution_count": 4,
      "outputs": []
    },
    {
      "cell_type": "code",
      "source": [
        "api = tradeapi.REST(PAPER_API_KEY, PAPER_SECRET_KEY, PAPER_BASE_URL, api_version='v2')"
      ],
      "metadata": {
        "id": "_3XShkLcRQMs"
      },
      "execution_count": 5,
      "outputs": []
    },
    {
      "cell_type": "code",
      "source": [
        "def train_test_validate_offset_data(api, ticker, interval, train_days=180, test_days=60, validate_days=30, offset_days = 0):\n",
        "    ticker_data_dict = None\n",
        "    ticker_data_dict = {}\n",
        "    monthly_data_dict = None\n",
        "    monthly_data_dict = {}\n",
        "    interval_loop_data = None\n",
        "    interval_loop_data = pd.DataFrame()\n",
        "    stock_data = None\n",
        "    \n",
        "    days_to_collect = train_days + test_days + validate_days + offset_days\n",
        "\n",
        "    TZ = 'US/Eastern'\n",
        "\n",
        "    start = pd.to_datetime((datetime.now() - timedelta(days=days_to_collect)).strftime(\"%Y-%m-%d %H:%M\"), utc=True)\n",
        "    end = pd.to_datetime(datetime.now().strftime(\"%Y-%m-%d %H:%M\"), utc=True)\n",
        "\n",
        "    stock_data = api.get_bars(ticker, interval, start = start.isoformat(), end=end.isoformat(), adjustment=\"raw\").df\n",
        "    \n",
        "    interval_loop_data = interval_loop_data.append(stock_data)\n",
        "    df_start_ref = interval_loop_data.index[0]\n",
        "    start_str_ref = pd.to_datetime(start, utc=True)\n",
        "\n",
        "    while start_str_ref.value < ( pd.to_datetime(df_start_ref, utc=True) - pd.Timedelta(days=2.5)).value:\n",
        "        end_new = pd.to_datetime(interval_loop_data.index.iloc[0].strftime(\"%Y-%m-%d %H:%M\"), utc=True).isoformat()\n",
        "        stock_data_new = None\n",
        "        stock_data_new = api.get_bars(ticker, interval, start=start, end=end_new, adjustment=\"raw\").df\n",
        "        #stock_data_new = stock_data_new.reset_index()\n",
        "        interval_loop_data = interval_loop_data.append(stock_data_new).sort_values(by=['index'], ascending=True)\n",
        "        df_start_ref = interval_loop_data.index[0]\n",
        "        \n",
        "    stock_yr_min_df = interval_loop_data.copy()\n",
        "    stock_yr_min_df[\"Open\"] = stock_yr_min_df['open']\n",
        "    stock_yr_min_df[\"High\"]= stock_yr_min_df[\"high\"]\n",
        "    stock_yr_min_df[\"Low\"] = stock_yr_min_df[\"low\"]\n",
        "    stock_yr_min_df[\"Close\"] = stock_yr_min_df[\"close\"]\n",
        "    stock_yr_min_df[\"Volume\"] = stock_yr_min_df[\"volume\"]\n",
        "    stock_yr_min_df[\"VolumeWeightedAvgPrice\"] = stock_yr_min_df[\"vwap\"]\n",
        "    stock_yr_min_df[\"Time\"] = stock_yr_min_df.index.tz_convert(TZ)\n",
        "    stock_yr_min_df.index = stock_yr_min_df.index.tz_convert(TZ)\n",
        "    final_df = stock_yr_min_df.filter([\"Time\", \"Open\", \"High\", \"Low\", \"Close\", \"Volume\", \"VolumeWeightedAvgPrice\"], axis = 1)\n",
        "    \n",
        "    first_day = final_df.index[0]\n",
        "    traintest_day = final_df.index[-1] - pd.Timedelta(days= test_days+validate_days+offset_days)\n",
        "    valtest_day = final_df.index[-1] - pd.Timedelta(days= test_days+offset_days)\n",
        "    last_day = final_df.index[-1] - pd.Timedelta(days= offset_days)\n",
        "    training_df =  final_df.loc[first_day:traintest_day] #(data_split - pd.Timedelta(days=1))]\n",
        "    validate_df = final_df.loc[traintest_day:valtest_day]\n",
        "    testing_df =  final_df.loc[valtest_day:last_day]\n",
        "    full_train = final_df.loc[first_day:last_day]\n",
        "    offset_df =  final_df.loc[last_day:]\n",
        "\n",
        "    return training_df, validate_df, testing_df, full_train, offset_df, final_df, traintest_day, testval_day"
      ],
      "metadata": {
        "id": "tINNlljbRaDs"
      },
      "execution_count": 11,
      "outputs": []
    },
    {
      "cell_type": "code",
      "source": [
        "ticker = \"TQQQ\" # Ticker Symbol to Test\n",
        "interval = \"5Min\" # Interval of bars\n",
        "train_day_int = 365 # Size of training set\n",
        "val_day_int = 180 # Size of validation set\n",
        "test_day_int = 180 # Size of test set\n",
        "offset_day_int = 365 # Number of days to off set the training data\n",
        "train, val, test, full, offset, complete, traintest_day, testval_day = train_test_validate_offset_data(api, ticker, \n",
        "                                                                                     interval, \n",
        "                                                                                     train_days=train_day_int, \n",
        "                                                                                     test_days=test_day_int, \n",
        "                                                                                     validate_days=val_day_int,\n",
        "                                                                                     offset_days = offset_day_int)"
      ],
      "metadata": {
        "id": "rRFxnqAiRcnE"
      },
      "execution_count": 245,
      "outputs": []
    },
    {
      "cell_type": "code",
      "source": [
        "full"
      ],
      "metadata": {
        "colab": {
          "base_uri": "https://localhost:8080/",
          "height": 455
        },
        "id": "RW7ef3O_abDf",
        "outputId": "705a344b-bd79-4b78-f874-8e355502ab55"
      },
      "execution_count": 246,
      "outputs": [
        {
          "output_type": "execute_result",
          "data": {
            "text/html": [
              "\n",
              "  <div id=\"df-a1a0ed57-21f3-4644-b691-6792eec678a7\">\n",
              "    <div class=\"colab-df-container\">\n",
              "      <div>\n",
              "<style scoped>\n",
              "    .dataframe tbody tr th:only-of-type {\n",
              "        vertical-align: middle;\n",
              "    }\n",
              "\n",
              "    .dataframe tbody tr th {\n",
              "        vertical-align: top;\n",
              "    }\n",
              "\n",
              "    .dataframe thead th {\n",
              "        text-align: right;\n",
              "    }\n",
              "</style>\n",
              "<table border=\"1\" class=\"dataframe\">\n",
              "  <thead>\n",
              "    <tr style=\"text-align: right;\">\n",
              "      <th></th>\n",
              "      <th>Time</th>\n",
              "      <th>Open</th>\n",
              "      <th>High</th>\n",
              "      <th>Low</th>\n",
              "      <th>Close</th>\n",
              "      <th>Volume</th>\n",
              "      <th>VolumeWeightedAvgPrice</th>\n",
              "    </tr>\n",
              "    <tr>\n",
              "      <th>timestamp</th>\n",
              "      <th></th>\n",
              "      <th></th>\n",
              "      <th></th>\n",
              "      <th></th>\n",
              "      <th></th>\n",
              "      <th></th>\n",
              "      <th></th>\n",
              "    </tr>\n",
              "  </thead>\n",
              "  <tbody>\n",
              "    <tr>\n",
              "      <th>2019-01-23 11:15:00-05:00</th>\n",
              "      <td>2019-01-23 11:15:00-05:00</td>\n",
              "      <td>42.4000</td>\n",
              "      <td>42.4800</td>\n",
              "      <td>41.99</td>\n",
              "      <td>42.0500</td>\n",
              "      <td>416231</td>\n",
              "      <td>42.174168</td>\n",
              "    </tr>\n",
              "    <tr>\n",
              "      <th>2019-01-23 11:20:00-05:00</th>\n",
              "      <td>2019-01-23 11:20:00-05:00</td>\n",
              "      <td>42.0686</td>\n",
              "      <td>42.0715</td>\n",
              "      <td>41.89</td>\n",
              "      <td>41.9099</td>\n",
              "      <td>476190</td>\n",
              "      <td>41.986925</td>\n",
              "    </tr>\n",
              "    <tr>\n",
              "      <th>2019-01-23 11:25:00-05:00</th>\n",
              "      <td>2019-01-23 11:25:00-05:00</td>\n",
              "      <td>41.9200</td>\n",
              "      <td>41.9900</td>\n",
              "      <td>41.79</td>\n",
              "      <td>41.9899</td>\n",
              "      <td>361840</td>\n",
              "      <td>41.893181</td>\n",
              "    </tr>\n",
              "    <tr>\n",
              "      <th>2019-01-23 11:30:00-05:00</th>\n",
              "      <td>2019-01-23 11:30:00-05:00</td>\n",
              "      <td>41.9900</td>\n",
              "      <td>42.1200</td>\n",
              "      <td>41.93</td>\n",
              "      <td>42.1082</td>\n",
              "      <td>159377</td>\n",
              "      <td>42.018446</td>\n",
              "    </tr>\n",
              "    <tr>\n",
              "      <th>2019-01-23 11:35:00-05:00</th>\n",
              "      <td>2019-01-23 11:35:00-05:00</td>\n",
              "      <td>42.0966</td>\n",
              "      <td>42.1500</td>\n",
              "      <td>41.91</td>\n",
              "      <td>41.9900</td>\n",
              "      <td>108961</td>\n",
              "      <td>42.014600</td>\n",
              "    </tr>\n",
              "    <tr>\n",
              "      <th>...</th>\n",
              "      <td>...</td>\n",
              "      <td>...</td>\n",
              "      <td>...</td>\n",
              "      <td>...</td>\n",
              "      <td>...</td>\n",
              "      <td>...</td>\n",
              "      <td>...</td>\n",
              "    </tr>\n",
              "    <tr>\n",
              "      <th>2021-01-14 19:35:00-05:00</th>\n",
              "      <td>2021-01-14 19:35:00-05:00</td>\n",
              "      <td>182.5000</td>\n",
              "      <td>182.5800</td>\n",
              "      <td>181.30</td>\n",
              "      <td>181.3000</td>\n",
              "      <td>8534</td>\n",
              "      <td>181.869915</td>\n",
              "    </tr>\n",
              "    <tr>\n",
              "      <th>2021-01-14 19:40:00-05:00</th>\n",
              "      <td>2021-01-14 19:40:00-05:00</td>\n",
              "      <td>181.5000</td>\n",
              "      <td>181.8100</td>\n",
              "      <td>181.33</td>\n",
              "      <td>181.8100</td>\n",
              "      <td>6692</td>\n",
              "      <td>181.519643</td>\n",
              "    </tr>\n",
              "    <tr>\n",
              "      <th>2021-01-14 19:45:00-05:00</th>\n",
              "      <td>2021-01-14 19:45:00-05:00</td>\n",
              "      <td>181.9000</td>\n",
              "      <td>182.0900</td>\n",
              "      <td>181.90</td>\n",
              "      <td>182.0000</td>\n",
              "      <td>3610</td>\n",
              "      <td>182.006660</td>\n",
              "    </tr>\n",
              "    <tr>\n",
              "      <th>2021-01-14 19:50:00-05:00</th>\n",
              "      <td>2021-01-14 19:50:00-05:00</td>\n",
              "      <td>182.0400</td>\n",
              "      <td>182.0800</td>\n",
              "      <td>181.96</td>\n",
              "      <td>181.9600</td>\n",
              "      <td>3350</td>\n",
              "      <td>182.033185</td>\n",
              "    </tr>\n",
              "    <tr>\n",
              "      <th>2021-01-14 19:55:00-05:00</th>\n",
              "      <td>2021-01-14 19:55:00-05:00</td>\n",
              "      <td>181.9700</td>\n",
              "      <td>181.9700</td>\n",
              "      <td>181.56</td>\n",
              "      <td>181.7400</td>\n",
              "      <td>8383</td>\n",
              "      <td>181.733906</td>\n",
              "    </tr>\n",
              "  </tbody>\n",
              "</table>\n",
              "<p>88860 rows × 7 columns</p>\n",
              "</div>\n",
              "      <button class=\"colab-df-convert\" onclick=\"convertToInteractive('df-a1a0ed57-21f3-4644-b691-6792eec678a7')\"\n",
              "              title=\"Convert this dataframe to an interactive table.\"\n",
              "              style=\"display:none;\">\n",
              "        \n",
              "  <svg xmlns=\"http://www.w3.org/2000/svg\" height=\"24px\"viewBox=\"0 0 24 24\"\n",
              "       width=\"24px\">\n",
              "    <path d=\"M0 0h24v24H0V0z\" fill=\"none\"/>\n",
              "    <path d=\"M18.56 5.44l.94 2.06.94-2.06 2.06-.94-2.06-.94-.94-2.06-.94 2.06-2.06.94zm-11 1L8.5 8.5l.94-2.06 2.06-.94-2.06-.94L8.5 2.5l-.94 2.06-2.06.94zm10 10l.94 2.06.94-2.06 2.06-.94-2.06-.94-.94-2.06-.94 2.06-2.06.94z\"/><path d=\"M17.41 7.96l-1.37-1.37c-.4-.4-.92-.59-1.43-.59-.52 0-1.04.2-1.43.59L10.3 9.45l-7.72 7.72c-.78.78-.78 2.05 0 2.83L4 21.41c.39.39.9.59 1.41.59.51 0 1.02-.2 1.41-.59l7.78-7.78 2.81-2.81c.8-.78.8-2.07 0-2.86zM5.41 20L4 18.59l7.72-7.72 1.47 1.35L5.41 20z\"/>\n",
              "  </svg>\n",
              "      </button>\n",
              "      \n",
              "  <style>\n",
              "    .colab-df-container {\n",
              "      display:flex;\n",
              "      flex-wrap:wrap;\n",
              "      gap: 12px;\n",
              "    }\n",
              "\n",
              "    .colab-df-convert {\n",
              "      background-color: #E8F0FE;\n",
              "      border: none;\n",
              "      border-radius: 50%;\n",
              "      cursor: pointer;\n",
              "      display: none;\n",
              "      fill: #1967D2;\n",
              "      height: 32px;\n",
              "      padding: 0 0 0 0;\n",
              "      width: 32px;\n",
              "    }\n",
              "\n",
              "    .colab-df-convert:hover {\n",
              "      background-color: #E2EBFA;\n",
              "      box-shadow: 0px 1px 2px rgba(60, 64, 67, 0.3), 0px 1px 3px 1px rgba(60, 64, 67, 0.15);\n",
              "      fill: #174EA6;\n",
              "    }\n",
              "\n",
              "    [theme=dark] .colab-df-convert {\n",
              "      background-color: #3B4455;\n",
              "      fill: #D2E3FC;\n",
              "    }\n",
              "\n",
              "    [theme=dark] .colab-df-convert:hover {\n",
              "      background-color: #434B5C;\n",
              "      box-shadow: 0px 1px 3px 1px rgba(0, 0, 0, 0.15);\n",
              "      filter: drop-shadow(0px 1px 2px rgba(0, 0, 0, 0.3));\n",
              "      fill: #FFFFFF;\n",
              "    }\n",
              "  </style>\n",
              "\n",
              "      <script>\n",
              "        const buttonEl =\n",
              "          document.querySelector('#df-a1a0ed57-21f3-4644-b691-6792eec678a7 button.colab-df-convert');\n",
              "        buttonEl.style.display =\n",
              "          google.colab.kernel.accessAllowed ? 'block' : 'none';\n",
              "\n",
              "        async function convertToInteractive(key) {\n",
              "          const element = document.querySelector('#df-a1a0ed57-21f3-4644-b691-6792eec678a7');\n",
              "          const dataTable =\n",
              "            await google.colab.kernel.invokeFunction('convertToInteractive',\n",
              "                                                     [key], {});\n",
              "          if (!dataTable) return;\n",
              "\n",
              "          const docLinkHtml = 'Like what you see? Visit the ' +\n",
              "            '<a target=\"_blank\" href=https://colab.research.google.com/notebooks/data_table.ipynb>data table notebook</a>'\n",
              "            + ' to learn more about interactive tables.';\n",
              "          element.innerHTML = '';\n",
              "          dataTable['output_type'] = 'display_data';\n",
              "          await google.colab.output.renderOutput(dataTable, element);\n",
              "          const docLink = document.createElement('div');\n",
              "          docLink.innerHTML = docLinkHtml;\n",
              "          element.appendChild(docLink);\n",
              "        }\n",
              "      </script>\n",
              "    </div>\n",
              "  </div>\n",
              "  "
            ],
            "text/plain": [
              "                                               Time  ...  VolumeWeightedAvgPrice\n",
              "timestamp                                            ...                        \n",
              "2019-01-23 11:15:00-05:00 2019-01-23 11:15:00-05:00  ...               42.174168\n",
              "2019-01-23 11:20:00-05:00 2019-01-23 11:20:00-05:00  ...               41.986925\n",
              "2019-01-23 11:25:00-05:00 2019-01-23 11:25:00-05:00  ...               41.893181\n",
              "2019-01-23 11:30:00-05:00 2019-01-23 11:30:00-05:00  ...               42.018446\n",
              "2019-01-23 11:35:00-05:00 2019-01-23 11:35:00-05:00  ...               42.014600\n",
              "...                                             ...  ...                     ...\n",
              "2021-01-14 19:35:00-05:00 2021-01-14 19:35:00-05:00  ...              181.869915\n",
              "2021-01-14 19:40:00-05:00 2021-01-14 19:40:00-05:00  ...              181.519643\n",
              "2021-01-14 19:45:00-05:00 2021-01-14 19:45:00-05:00  ...              182.006660\n",
              "2021-01-14 19:50:00-05:00 2021-01-14 19:50:00-05:00  ...              182.033185\n",
              "2021-01-14 19:55:00-05:00 2021-01-14 19:55:00-05:00  ...              181.733906\n",
              "\n",
              "[88860 rows x 7 columns]"
            ]
          },
          "metadata": {},
          "execution_count": 246
        }
      ]
    },
    {
      "cell_type": "code",
      "source": [
        "print(f'Training Days: {train_day_int}, Set Start: {train.index[0].strftime(\"%d-%b-%Y\")}, End: {train.index[-1].strftime(\"%d-%b-%Y\")}, Shape: {train.shape}')\n",
        "print(f'Validation Days: {val_day_int}, Set Start: {val.index[0].strftime(\"%d-%b-%Y\")}, End: {val.index[-1].strftime(\"%d-%b-%Y\")}, Shape: {val.shape}')\n",
        "print(f'Testing Days: {test_day_int}, Start: {test.index[0].strftime(\"%d-%b-%Y\")}, End: {test.index[-1].strftime(\"%d-%b-%Y\")}, Shape: {test.shape}')"
      ],
      "metadata": {
        "colab": {
          "base_uri": "https://localhost:8080/"
        },
        "id": "H9rM5V1BHyBl",
        "outputId": "c35df961-6e65-4fd5-8414-a810f79650cd"
      },
      "execution_count": 247,
      "outputs": [
        {
          "output_type": "stream",
          "name": "stdout",
          "text": [
            "Training Days: 365, Set Start: 23-Jan-2019, End: 17-Jan-2020, Shape: (42245, 7)\n",
            "Validation Days: 180, Set Start: 21-Jan-2020, End: 17-Jul-2020, Shape: (23528, 7)\n",
            "Testing Days: 180, Start: 20-Jul-2020, End: 14-Jan-2021, Shape: (23087, 7)\n"
          ]
        }
      ]
    },
    {
      "cell_type": "code",
      "source": [
        "print(f'Number of Rows Between all Sets: {(train.shape[0] + val.shape[0] + test.shape[0])}, Shape of Full Set: {full.shape[0]}')"
      ],
      "metadata": {
        "colab": {
          "base_uri": "https://localhost:8080/"
        },
        "id": "XqbVlKwLKN-l",
        "outputId": "5dacf4dc-b84f-48d9-fabb-f41e3d8def70"
      },
      "execution_count": 248,
      "outputs": [
        {
          "output_type": "stream",
          "name": "stdout",
          "text": [
            "Number of Rows Between all Sets: 88860, Shape of Full Set: 88860\n"
          ]
        }
      ]
    },
    {
      "cell_type": "markdown",
      "source": [
        "# Loading and Preparing The Data"
      ],
      "metadata": {
        "id": "IMY3MYh4D7sR"
      }
    },
    {
      "cell_type": "code",
      "source": [
        "# create target from OHLC and Volume Data\n",
        "def buildTargets(full_df = full, train_observations = train.shape[0], \n",
        "                 val_observations = val.shape[0], \n",
        "                 test_observations = test.shape[0], shift_2hour = 24,\n",
        "                 alph = 0.55, volity_int = 10):\n",
        "\n",
        "  \"\"\" \n",
        "  This function will take a complete set of train, val, and test \n",
        "  data and return the targets. Volitility will be calculated over \n",
        "  the 252 5min incriments. The Target shift is looking at 2 hours \n",
        "  shift from current time\n",
        "\n",
        "  shift_2hour = The amount of time the data interval take to equal 2 hours \n",
        "                (i.e. 5 min data interval is equal to 25)\n",
        "  alph = The alpha value for calculating the shift in price\n",
        "  volity_int = the number of incriments used to calculate volitility \n",
        "  \"\"\"\n",
        "\n",
        "  returns = np.log(full_df['Close']/full_df['Close'].shift(shift_2hour))\n",
        "  returns.fillna(0, inplace=True)\n",
        "  volatility = returns.rolling(window=volity_int).std()*np.sqrt(volity_int)\n",
        "\n",
        "  #print(len(full_df.Close), len(volatility))\n",
        "\n",
        "  targets = [\"flat\"] * len(full_df.Close)\n",
        "\n",
        "  targets = np.where(full_df.Close.shift(-shift_2hour) >= (full_df.Close * (1 + alph * volatility)), \n",
        "           \"up\", targets)\n",
        "  \n",
        "  targets = np.where(full_df.Close.shift(-shift_2hour) <= (full_df.Close * (1 + alph * volatility)), \n",
        "           \"down\", targets)\n",
        "\n",
        "  train_split = train_observations\n",
        "  val_split = train_observations + val_observations\n",
        "  test_split = train_observations + val_observations + test_observations\n",
        "\n",
        "  train_targets = targets[:train_split]\n",
        "  val_targets = targets[train_split:val_split]\n",
        "  test_targets = targets[val_split:test_split]\n",
        "  full_targets = targets\n",
        "\n",
        "  return train_targets, val_targets, test_targets, full_targets"
      ],
      "metadata": {
        "id": "NmTD5JViEFMp"
      },
      "execution_count": 249,
      "outputs": []
    },
    {
      "cell_type": "code",
      "source": [
        "# print(buildTargets.__doc__)\n",
        "train_targets, val_targets, test_targets, full_targets = buildTargets()"
      ],
      "metadata": {
        "id": "OJlf0UBTsEfS"
      },
      "execution_count": 250,
      "outputs": []
    },
    {
      "cell_type": "code",
      "source": [
        "plot_df = pd.DataFrame(full_targets, columns=[\"FuturePrice\"])\n",
        "plot_df[\"FuturePrice\"].value_counts().plot(kind = 'bar')"
      ],
      "metadata": {
        "colab": {
          "base_uri": "https://localhost:8080/",
          "height": 299
        },
        "id": "EUEpy7cSajI_",
        "outputId": "f9e4a01c-af8e-4e7a-e8ea-dd1a40104ecd"
      },
      "execution_count": 251,
      "outputs": [
        {
          "output_type": "execute_result",
          "data": {
            "text/plain": [
              "<matplotlib.axes._subplots.AxesSubplot at 0x7f74d9c2d610>"
            ]
          },
          "metadata": {},
          "execution_count": 251
        },
        {
          "output_type": "display_data",
          "data": {
            "image/png": "[encoded data removed]",
            "text/plain": [
              "<Figure size 432x288 with 1 Axes>"
            ]
          },
          "metadata": {
            "needs_background": "light"
          }
        }
      ]
    },
    {
      "cell_type": "code",
      "source": [
        ""
      ],
      "metadata": {
        "id": "YYCBKN4uu-FE"
      },
      "execution_count": 168,
      "outputs": []
    },
    {
      "cell_type": "code",
      "source": [
        ""
      ],
      "metadata": {
        "id": "Mvf63X1bu-Hp"
      },
      "execution_count": 168,
      "outputs": []
    },
    {
      "cell_type": "markdown",
      "source": [
        "# APPENDIX"
      ],
      "metadata": {
        "id": "CdPrjLX4u2u7"
      }
    },
    {
      "cell_type": "code",
      "source": [
        "plot_df = pd.DataFrame(full_targets, columns=[\"FuturePrice\"])"
      ],
      "metadata": {
        "id": "kO0RlwtEvavG"
      },
      "execution_count": 191,
      "outputs": []
    },
    {
      "cell_type": "code",
      "source": [
        "plot_df[\"FuturePrice\"].value_counts().plot(kind = 'bar')"
      ],
      "metadata": {
        "id": "o4DstDh7v61B",
        "outputId": "7ff93ac3-dbfc-4c2b-f679-e722889e1146",
        "colab": {
          "base_uri": "https://localhost:8080/",
          "height": 299
        }
      },
      "execution_count": 192,
      "outputs": [
        {
          "output_type": "execute_result",
          "data": {
            "text/plain": [
              "<matplotlib.axes._subplots.AxesSubplot at 0x7f74dc62af90>"
            ]
          },
          "metadata": {},
          "execution_count": 192
        },
        {
          "output_type": "display_data",
          "data": {
            "image/png": "[encoded data removed]",
            "text/plain": [
              "<Figure size 432x288 with 1 Axes>"
            ]
          },
          "metadata": {
            "needs_background": "light"
          }
        }
      ]
    },
    {
      "cell_type": "code",
      "source": [
        "def buildTargets_VolOnly(full_df = full, train_observations = train.shape[0], \n",
        "                         val_observations = val.shape[0], \n",
        "                         test_observations = test.shape[0], \n",
        "                         alph = 0.55, volity_days = 10):\n",
        "\n",
        "  \"\"\" \n",
        "  This function will take a complete set of train, val, and test data and return the targets.\n",
        "  Volitility will be calculated over the 252 5min incriments \n",
        "  The Target shift is looking at 2 hours shift from current time\n",
        "  \"\"\"\n",
        "\n",
        "  returns = np.log(full_df['Close']/full_df['Close'].shift(25))\n",
        "  returns.fillna(0, inplace=True)\n",
        "  volatility = returns.rolling(window=volity_days).std()*np.sqrt(volity_days)\n",
        "\n",
        "\n",
        "\n",
        "  return volatility\n",
        "  #return train_targets, val_targets, test_targets, full_targets\n",
        "\n",
        "volatility = buildTargets_VolOnly()\n",
        "\n",
        "fig = plt.figure(figsize=(15, 7))\n",
        "ax1 = fig.add_subplot(1, 1, 1)\n",
        "volatility.plot(ax=ax1, color = \"red\")\n",
        "ax1.set_xlabel('Date')\n",
        "ax1.set_ylabel('Volatility', color = \"red\")\n",
        "ax1.set_title(f'Annualized volatility for {ticker}')\n",
        "ax2 = ax1.twinx()\n",
        "full.Close.plot(ax=ax2, color = \"blue\")\n",
        "ax2.set_ylabel('Close', color = \"blue\")\n",
        "plt.show()"
      ],
      "metadata": {
        "colab": {
          "base_uri": "https://localhost:8080/",
          "height": 440
        },
        "id": "qUSks6bebTnk",
        "outputId": "0bad4435-df59-4480-e372-4216ce94ef12"
      },
      "execution_count": 252,
      "outputs": [
        {
          "output_type": "display_data",
          "data": {
            "image/png": "[encoded data removed]",
            "text/plain": [
              "<Figure size 1080x504 with 2 Axes>"
            ]
          },
          "metadata": {
            "needs_background": "light"
          }
        }
      ]
    },
    {
      "cell_type": "code",
      "source": [
        "X,y=data.data,data.target\n",
        "# Since the default in the file is 0=malignant 1=benign we want to reverse these\n",
        "y=(y==0).astype(int)\n",
        "X,y= np.array(X),np.array(y)\n",
        "\n",
        "# Let's set aside a test set and use the remainder for training and cross-validation\n",
        "X_train,X_test,y_train,y_test = train_test_split(X, y, random_state=0,test_size=0.2)\n",
        "\n",
        "# Let's scale our data to help the algorithm converge faster\n",
        "scaler = StandardScaler()\n",
        "X_train_scaled = scaler.fit_transform(X_train)\n",
        "X_test_scaled = scaler.transform(X_test)"
      ],
      "metadata": {
        "id": "UViHHQXtEB7r"
      },
      "execution_count": null,
      "outputs": []
    },
    {
      "cell_type": "code",
      "source": [
        "full.drop(columns=['Time', ])"
      ],
      "metadata": {
        "id": "DxdD_w9pRfO8"
      },
      "execution_count": null,
      "outputs": []
    },
    {
      "cell_type": "code",
      "source": [
        "from sklearn.datasets import load_breast_cancer"
      ],
      "metadata": {
        "id": "TKu0iaKZSnyM"
      },
      "execution_count": null,
      "outputs": []
    },
    {
      "cell_type": "code",
      "source": [
        "data=load_breast_cancer(as_frame=True)"
      ],
      "metadata": {
        "id": "K23hvV9cWb96"
      },
      "execution_count": null,
      "outputs": []
    },
    {
      "cell_type": "code",
      "source": [
        "data.target"
      ],
      "metadata": {
        "colab": {
          "base_uri": "https://localhost:8080/"
        },
        "id": "RuBc_eiVWedQ",
        "outputId": "fda35b37-d263-4822-e472-46c94d9d2a31"
      },
      "execution_count": null,
      "outputs": [
        {
          "output_type": "execute_result",
          "data": {
            "text/plain": [
              "0      0\n",
              "1      0\n",
              "2      0\n",
              "3      0\n",
              "4      0\n",
              "      ..\n",
              "564    0\n",
              "565    0\n",
              "566    0\n",
              "567    0\n",
              "568    1\n",
              "Name: target, Length: 569, dtype: int64"
            ]
          },
          "metadata": {},
          "execution_count": 21
        }
      ]
    },
    {
      "cell_type": "code",
      "source": [
        ""
      ],
      "metadata": {
        "id": "rCar6GOuWe6f"
      },
      "execution_count": null,
      "outputs": []
    }
  ]
}