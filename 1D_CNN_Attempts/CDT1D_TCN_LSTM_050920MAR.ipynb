{
  "nbformat": 4,
  "nbformat_minor": 0,
  "metadata": {
    "colab": {
      "name": "1D_CNN.ipynb",
      "provenance": [],
      "collapsed_sections": [],
      "background_execution": "on",
      "machine_shape": "hm",
      "include_colab_link": true
    },
    "kernelspec": {
      "name": "python3",
      "display_name": "Python 3"
    },
    "language_info": {
      "name": "python"
    },
    "accelerator": "GPU"
  },
  "cells": [
    {
      "cell_type": "markdown",
      "metadata": {
        "id": "view-in-github",
        "colab_type": "text"
      },
      "source": [
        "<a href=\"https://colab.research.google.com/github/Cloblak/aipi540_deeplearning/blob/main/1D_CNN_Attempts/CDT1D_TCN_LSTM_050920MAR.ipynb\" target=\"_parent\"><img src=\"https://colab.research.google.com/assets/colab-badge.svg\" alt=\"Open In Colab\"/></a>"
      ]
    },
    {
      "cell_type": "code",
      "source": [
        "!pip install alpaca_trade_api"
      ],
      "metadata": {
        "id": "Xj0pR3efRVrc",
        "colab": {
          "base_uri": "https://localhost:8080/"
        },
        "outputId": "d1c117e8-0270-45ab-c64e-6b6875da9f2c"
      },
      "execution_count": 41,
      "outputs": [
        {
          "output_type": "stream",
          "name": "stdout",
          "text": [
            "Requirement already satisfied: alpaca_trade_api in /usr/local/lib/python3.7/dist-packages (1.5.1)\n",
            "Requirement already satisfied: pandas>=0.18.1 in /usr/local/lib/python3.7/dist-packages (from alpaca_trade_api) (1.3.5)\n",
            "Requirement already satisfied: aiohttp==3.7.4 in /usr/local/lib/python3.7/dist-packages (from alpaca_trade_api) (3.7.4)\n",
            "Requirement already satisfied: websocket-client<2,>=0.56.0 in /usr/local/lib/python3.7/dist-packages (from alpaca_trade_api) (1.3.1)\n",
            "Requirement already satisfied: requests<3,>2 in /usr/local/lib/python3.7/dist-packages (from alpaca_trade_api) (2.23.0)\n",
            "Requirement already satisfied: msgpack==1.0.2 in /usr/local/lib/python3.7/dist-packages (from alpaca_trade_api) (1.0.2)\n",
            "Requirement already satisfied: numpy>=1.11.1 in /usr/local/lib/python3.7/dist-packages (from alpaca_trade_api) (1.21.5)\n",
            "Requirement already satisfied: deprecation==2.1.0 in /usr/local/lib/python3.7/dist-packages (from alpaca_trade_api) (2.1.0)\n",
            "Requirement already satisfied: urllib3<2,>1.24 in /usr/local/lib/python3.7/dist-packages (from alpaca_trade_api) (1.24.3)\n",
            "Requirement already satisfied: websockets<11,>=8.0 in /usr/local/lib/python3.7/dist-packages (from alpaca_trade_api) (10.2)\n",
            "Requirement already satisfied: PyYAML==6.0 in /usr/local/lib/python3.7/dist-packages (from alpaca_trade_api) (6.0)\n",
            "Requirement already satisfied: chardet<4.0,>=2.0 in /usr/local/lib/python3.7/dist-packages (from aiohttp==3.7.4->alpaca_trade_api) (3.0.4)\n",
            "Requirement already satisfied: async-timeout<4.0,>=3.0 in /usr/local/lib/python3.7/dist-packages (from aiohttp==3.7.4->alpaca_trade_api) (3.0.1)\n",
            "Requirement already satisfied: attrs>=17.3.0 in /usr/local/lib/python3.7/dist-packages (from aiohttp==3.7.4->alpaca_trade_api) (21.4.0)\n",
            "Requirement already satisfied: typing-extensions>=3.6.5 in /usr/local/lib/python3.7/dist-packages (from aiohttp==3.7.4->alpaca_trade_api) (3.10.0.2)\n",
            "Requirement already satisfied: yarl<2.0,>=1.0 in /usr/local/lib/python3.7/dist-packages (from aiohttp==3.7.4->alpaca_trade_api) (1.7.2)\n",
            "Requirement already satisfied: multidict<7.0,>=4.5 in /usr/local/lib/python3.7/dist-packages (from aiohttp==3.7.4->alpaca_trade_api) (6.0.2)\n",
            "Requirement already satisfied: packaging in /usr/local/lib/python3.7/dist-packages (from deprecation==2.1.0->alpaca_trade_api) (21.3)\n",
            "Requirement already satisfied: python-dateutil>=2.7.3 in /usr/local/lib/python3.7/dist-packages (from pandas>=0.18.1->alpaca_trade_api) (2.8.2)\n",
            "Requirement already satisfied: pytz>=2017.3 in /usr/local/lib/python3.7/dist-packages (from pandas>=0.18.1->alpaca_trade_api) (2018.9)\n",
            "Requirement already satisfied: six>=1.5 in /usr/local/lib/python3.7/dist-packages (from python-dateutil>=2.7.3->pandas>=0.18.1->alpaca_trade_api) (1.15.0)\n",
            "Requirement already satisfied: certifi>=2017.4.17 in /usr/local/lib/python3.7/dist-packages (from requests<3,>2->alpaca_trade_api) (2021.10.8)\n",
            "Requirement already satisfied: idna<3,>=2.5 in /usr/local/lib/python3.7/dist-packages (from requests<3,>2->alpaca_trade_api) (2.10)\n",
            "Requirement already satisfied: pyparsing!=3.0.5,>=2.0.2 in /usr/local/lib/python3.7/dist-packages (from packaging->deprecation==2.1.0->alpaca_trade_api) (3.0.7)\n"
          ]
        }
      ]
    },
    {
      "cell_type": "markdown",
      "source": [
        "Features To Consider\n",
        " - Targets are only predicting sell within market hours, i.e. at 1530, target is prediciting price for 1100 the next day.  Data from pre and post market is taken into consideration, and a sell or buy will be indicated if the price will flucuate after close."
      ],
      "metadata": {
        "id": "hdKRKIogGAu6"
      }
    },
    {
      "cell_type": "code",
      "source": [
        "# Import Dependencies\n",
        "import numpy as np\n",
        "import pandas as pd\n",
        "import torch\n",
        "from torch.utils.data import DataLoader, TensorDataset\n",
        "from torch.autograd import Variable\n",
        "from torch.nn import Linear, ReLU, CrossEntropyLoss, Sequential, Conv2d, MaxPool2d, Module, Softmax, BatchNorm2d, Dropout\n",
        "from torch.optim import Adam, SGD\n",
        "from torch.utils.data import DataLoader, TensorDataset\n",
        "from torch.utils.tensorboard import SummaryWriter\n",
        "from torchsummary import summary\n",
        "import torch.nn as nn\n",
        "import torch.nn.functional as F\n",
        "import torch.optim as optim\n",
        "from tqdm.notebook import tqdm\n",
        "import alpaca_trade_api as tradeapi\n",
        "from datetime import datetime, timedelta, tzinfo, timezone, time\n",
        "import os.path\n",
        "import ast\n",
        "import threading\n",
        "import math\n",
        "import seaborn as sns\n",
        "import matplotlib.pyplot as plt\n",
        "from sklearn.model_selection import train_test_split\n",
        "from sklearn.preprocessing import StandardScaler, MinMaxScaler\n",
        "import warnings"
      ],
      "metadata": {
        "id": "J1fWNRnTQZX-"
      },
      "execution_count": 42,
      "outputs": []
    },
    {
      "cell_type": "code",
      "source": [
        "random_seed = 182\n",
        "torch.manual_seed(random_seed)"
      ],
      "metadata": {
        "colab": {
          "base_uri": "https://localhost:8080/"
        },
        "id": "DrI_WR501Iis",
        "outputId": "be1cc26a-efc9-4aac-a2f8-a63143c49456"
      },
      "execution_count": 43,
      "outputs": [
        {
          "output_type": "execute_result",
          "data": {
            "text/plain": [
              "<torch._C.Generator at 0x7f87491b55b0>"
            ]
          },
          "metadata": {},
          "execution_count": 43
        }
      ]
    },
    {
      "cell_type": "code",
      "source": [
        "PAPER_API_KEY = \"PKE39LILN9SL1FMJMFV7\"\n",
        "PAPER_SECRET_KEY = \"TkU7fXH6WhP15MewgWlSnQG5RUoHGOPQ7yqlD6xq\"\n",
        "PAPER_BASE_URL = 'https://paper-api.alpaca.markets'"
      ],
      "metadata": {
        "id": "IXnO8ykgRIuv"
      },
      "execution_count": 44,
      "outputs": []
    },
    {
      "cell_type": "code",
      "source": [
        "api = tradeapi.REST(PAPER_API_KEY, PAPER_SECRET_KEY, PAPER_BASE_URL, api_version='v2')"
      ],
      "metadata": {
        "id": "_3XShkLcRQMs"
      },
      "execution_count": 45,
      "outputs": []
    },
    {
      "cell_type": "code",
      "source": [
        "def prepost_train_test_validate_offset_data(api, ticker, interval, train_days=180, test_days=60, validate_days=30, offset_days = 0):\n",
        "    ticker_data_dict = None\n",
        "    ticker_data_dict = {}\n",
        "    monthly_data_dict = None\n",
        "    monthly_data_dict = {}\n",
        "    interval_loop_data = None\n",
        "    interval_loop_data = pd.DataFrame()\n",
        "    stock_data = None\n",
        "    \n",
        "    days_to_collect = train_days + test_days + validate_days + offset_days\n",
        "\n",
        "    TZ = 'US/Eastern'\n",
        "\n",
        "    start = pd.to_datetime((datetime.now() - timedelta(days=days_to_collect)).strftime(\"%Y-%m-%d %H:%M\"), utc=True)\n",
        "    end = pd.to_datetime(datetime.now().strftime(\"%Y-%m-%d %H:%M\"), utc=True)\n",
        "\n",
        "    stock_data = api.get_bars(ticker, interval, start = start.isoformat(), end=end.isoformat(), adjustment=\"raw\").df\n",
        "    \n",
        "    interval_loop_data = interval_loop_data.append(stock_data)\n",
        "    df_start_ref = interval_loop_data.index[0]\n",
        "    start_str_ref = pd.to_datetime(start, utc=True)\n",
        "\n",
        "    while start_str_ref.value < ( pd.to_datetime(df_start_ref, utc=True) - pd.Timedelta(days=2.5)).value:\n",
        "        end_new = pd.to_datetime(interval_loop_data.index[0].strftime(\"%Y-%m-%d %H:%M\"), utc=True).isoformat()\n",
        "        stock_data_new = None\n",
        "        stock_data_new = api.get_bars(ticker, interval, start=start, end=end_new, adjustment=\"raw\").df\n",
        "        #stock_data_new = stock_data_new.reset_index()\n",
        "        interval_loop_data = interval_loop_data.append(stock_data_new).sort_values(by=['index'], ascending=True)\n",
        "        df_start_ref = interval_loop_data.index[0]\n",
        "        \n",
        "    stock_yr_min_df = interval_loop_data.copy()\n",
        "    stock_yr_min_df[\"Open\"] = stock_yr_min_df['open']\n",
        "    stock_yr_min_df[\"High\"]= stock_yr_min_df[\"high\"]\n",
        "    stock_yr_min_df[\"Low\"] = stock_yr_min_df[\"low\"]\n",
        "    stock_yr_min_df[\"Close\"] = stock_yr_min_df[\"close\"]\n",
        "    stock_yr_min_df[\"Volume\"] = stock_yr_min_df[\"volume\"]\n",
        "    stock_yr_min_df[\"VolumeWeightedAvgPrice\"] = stock_yr_min_df[\"vwap\"]\n",
        "    stock_yr_min_df[\"Time\"] = stock_yr_min_df.index.tz_convert(TZ)\n",
        "    stock_yr_min_df.index = stock_yr_min_df.index.tz_convert(TZ)\n",
        "    final_df = stock_yr_min_df.filter([\"Time\", \"Open\", \"High\", \"Low\", \"Close\", \"Volume\", \"VolumeWeightedAvgPrice\"], axis = 1)\n",
        "    \n",
        "    first_day = final_df.index[0]\n",
        "    traintest_day = final_df.index[-1] - pd.Timedelta(days= test_days+validate_days+offset_days)\n",
        "    valtest_day = final_df.index[-1] - pd.Timedelta(days= test_days+offset_days)\n",
        "    last_day = final_df.index[-1] - pd.Timedelta(days= offset_days)\n",
        "    training_df =  final_df.loc[first_day:traintest_day] #(data_split - pd.Timedelta(days=1))]\n",
        "    validate_df = final_df.loc[traintest_day:valtest_day]\n",
        "    testing_df =  final_df.loc[valtest_day:last_day]\n",
        "    full_train = final_df.loc[first_day:last_day]\n",
        "    offset_df =  final_df.loc[last_day:]\n",
        "\n",
        "    return training_df, validate_df, testing_df, full_train, offset_df, final_df, traintest_day, valtest_day\n",
        "\n",
        "from datetime import date\n",
        "\n",
        "train_start = date(2017, 2, 18)\n",
        "train_end = date(2020, 3, 29)\n",
        "train_delta = train_end - train_start\n",
        "print(f'Number of days of Training Data {train_delta.days}')\n",
        "\n",
        "val_day_num = 400\n",
        "print(f'Number of days of Validation Data {val_day_num}')\n",
        "\n",
        "test_start = train_end + timedelta(val_day_num)\n",
        "test_end = date.today()\n",
        "test_delta = (test_end - test_start)\n",
        "print(f'Number of days of Holdout Test Data {test_delta.days}')\n",
        "\n",
        "ticker = \"TSN\" # Ticker Symbol to Test\n",
        "interval = \"5Min\" # Interval of bars\n",
        "train_day_int = train_delta.days # Size of training set (Jan 2010 - Oct 2017)\n",
        "val_day_int = val_day_num # Size of validation set\n",
        "test_day_int = test_delta.days # Size of test set\n",
        "offset_day_int = 60 # Number of days to off set the training data\n",
        "train_raw, val_raw, test_raw, full_raw, offset_raw, complete_raw, traintest_day, testval_day = prepost_train_test_validate_offset_data(api, ticker, \n",
        "                                                                                     interval, \n",
        "                                                                                     train_days=train_day_int, \n",
        "                                                                                     test_days=test_day_int, \n",
        "                                                                                     validate_days=val_day_int,\n",
        "                                                                                     offset_days = offset_day_int)\n",
        "\n",
        "def timeFilterAndBackfill(df):\n",
        "  \"\"\" \n",
        "  Prep df to be filled out for each trading day:\n",
        "    Time Frame: 0930-1930\n",
        "    Backfilling NaNs\n",
        "    Adjusting Volume to Zero if no Trading data is present\n",
        "      - Assumption is that there were no trades duing that time \n",
        "\n",
        "  We will build over lapping arrays by 30 min to give ourselfs more\n",
        "  oppurtunities to predict during a given trading day \n",
        "  \"\"\"\n",
        "  \n",
        "  df = df.between_time('07:29','17:29') # intial sorting of data\n",
        "\n",
        "  TZ = 'US/Eastern' # define the correct timezone\n",
        "\n",
        "  start_dateTime = pd.Timestamp(year = df.index[0].year, \n",
        "                                month = df.index[0].month, \n",
        "                                day = df.index[0].day, \n",
        "                                hour = 7, minute = 25, tz = TZ)\n",
        "\n",
        "  end_dateTime = pd.Timestamp(year = df.index[-1].year, \n",
        "                              month = df.index[-1].month, \n",
        "                              day = df.index[-1].day, \n",
        "                              hour = 17, minute = 35, tz = TZ)\n",
        "\n",
        "  # build blank index that has ever 5 min interval represented\n",
        "  dateTime_index = pd.date_range(start_dateTime,\n",
        "                                end_dateTime, \n",
        "                                freq='5min').tolist()\n",
        "\n",
        "  dateTime_index_df = pd.DataFrame()\n",
        "  dateTime_index_df[\"Time\"] = dateTime_index \n",
        "  filtered_df = pd.merge_asof(dateTime_index_df, df,  \n",
        "                              on='Time').set_index(\"Time\").between_time('09:29','17:29')\n",
        "\n",
        "  # create the close array by back filling NA, to represent no change in close\n",
        "  closeset_list = []\n",
        "  prev_c = None\n",
        "\n",
        "  for c in filtered_df[\"Close\"]:\n",
        "\n",
        "    if prev_c == None:\n",
        "      if math.isnan(c):\n",
        "        prev_c = 0\n",
        "        closeset_list.append(0)\n",
        "      else:\n",
        "        prev_c = c\n",
        "        closeset_list.append(c)\n",
        "    \n",
        "    elif prev_c != None:\n",
        "      if c == prev_c:\n",
        "        closeset_list.append(c)\n",
        "      elif math.isnan(c):\n",
        "        closeset_list.append(prev_c)\n",
        "      else:\n",
        "        closeset_list.append(c)\n",
        "        prev_c = c\n",
        "    \n",
        "  filtered_df[\"Close\"] = closeset_list\n",
        "\n",
        "  # create the volume\n",
        "  volumeset_list = []\n",
        "  prev_v = None\n",
        "\n",
        "  for v in filtered_df[\"Volume\"]:\n",
        "    \n",
        "    if prev_v == None:\n",
        "      if math.isnan(v):\n",
        "        prev_v = 0\n",
        "        volumeset_list.append(0)\n",
        "      else:\n",
        "        prev_v = v\n",
        "        volumeset_list.append(v)\n",
        "\n",
        "    elif prev_v != None:\n",
        "      if v == prev_v:\n",
        "        volumeset_list.append(0)\n",
        "        prev_v = v\n",
        "      elif math.isnan(v):\n",
        "        volumeset_list.append(0)\n",
        "        prev_v = 0\n",
        "      else:\n",
        "        volumeset_list.append(v)\n",
        "        prev_v = v\n",
        "\n",
        "  filtered_df[\"Volume\"] = volumeset_list\n",
        "  \n",
        "  adjvolumeset_list = []\n",
        "  prev_v = None\n",
        "\n",
        "  for v in filtered_df[\"VolumeWeightedAvgPrice\"]:\n",
        "    if prev_v == None:\n",
        "      if math.isnan(v):\n",
        "        prev_v = 0\n",
        "        adjvolumeset_list.append(0)\n",
        "      else:\n",
        "        prev_v = v\n",
        "        adjvolumeset_list.append(v)\n",
        "    elif prev_v != None:\n",
        "      if v == prev_v:\n",
        "        adjvolumeset_list.append(0)\n",
        "        prev_v = v\n",
        "      elif math.isnan(v):\n",
        "        adjvolumeset_list.append(0)\n",
        "        prev_v = 0\n",
        "      else:\n",
        "        adjvolumeset_list.append(v)\n",
        "        prev_v = v\n",
        "\n",
        "  filtered_df[\"VolumeWeightedAvgPrice\"] = adjvolumeset_list\n",
        "\n",
        "  preped_df = filtered_df.backfill()\n",
        "\n",
        "  return preped_df  "
      ],
      "metadata": {
        "id": "tINNlljbRaDs",
        "colab": {
          "base_uri": "https://localhost:8080/"
        },
        "outputId": "1bb049c9-ba19-4766-eb60-f00426f3224f"
      },
      "execution_count": 46,
      "outputs": [
        {
          "output_type": "stream",
          "name": "stdout",
          "text": [
            "Number of days of Training Data 1135\n",
            "Number of days of Validation Data 400\n",
            "Number of days of Holdout Test Data 306\n"
          ]
        }
      ]
    },
    {
      "cell_type": "code",
      "source": [
        "train_raw[0:300]"
      ],
      "metadata": {
        "colab": {
          "base_uri": "https://localhost:8080/",
          "height": 455
        },
        "id": "J6Cw_PVrh2lJ",
        "outputId": "30b43e47-ead6-4de3-d4c8-13a36b032769"
      },
      "execution_count": 47,
      "outputs": [
        {
          "output_type": "execute_result",
          "data": {
            "text/html": [
              "\n",
              "  <div id=\"df-7c88fa5d-a956-49ec-97b9-f0129dafc669\">\n",
              "    <div class=\"colab-df-container\">\n",
              "      <div>\n",
              "<style scoped>\n",
              "    .dataframe tbody tr th:only-of-type {\n",
              "        vertical-align: middle;\n",
              "    }\n",
              "\n",
              "    .dataframe tbody tr th {\n",
              "        vertical-align: top;\n",
              "    }\n",
              "\n",
              "    .dataframe thead th {\n",
              "        text-align: right;\n",
              "    }\n",
              "</style>\n",
              "<table border=\"1\" class=\"dataframe\">\n",
              "  <thead>\n",
              "    <tr style=\"text-align: right;\">\n",
              "      <th></th>\n",
              "      <th>Time</th>\n",
              "      <th>Open</th>\n",
              "      <th>High</th>\n",
              "      <th>Low</th>\n",
              "      <th>Close</th>\n",
              "      <th>Volume</th>\n",
              "      <th>VolumeWeightedAvgPrice</th>\n",
              "    </tr>\n",
              "    <tr>\n",
              "      <th>timestamp</th>\n",
              "      <th></th>\n",
              "      <th></th>\n",
              "      <th></th>\n",
              "      <th></th>\n",
              "      <th></th>\n",
              "      <th></th>\n",
              "      <th></th>\n",
              "    </tr>\n",
              "  </thead>\n",
              "  <tbody>\n",
              "    <tr>\n",
              "      <th>2016-12-20 09:30:00-05:00</th>\n",
              "      <td>2016-12-20 09:30:00-05:00</td>\n",
              "      <td>62.060</td>\n",
              "      <td>62.2800</td>\n",
              "      <td>61.790</td>\n",
              "      <td>61.84</td>\n",
              "      <td>101901</td>\n",
              "      <td>61.979608</td>\n",
              "    </tr>\n",
              "    <tr>\n",
              "      <th>2016-12-20 09:35:00-05:00</th>\n",
              "      <td>2016-12-20 09:35:00-05:00</td>\n",
              "      <td>61.830</td>\n",
              "      <td>61.8800</td>\n",
              "      <td>61.350</td>\n",
              "      <td>61.53</td>\n",
              "      <td>63431</td>\n",
              "      <td>61.575740</td>\n",
              "    </tr>\n",
              "    <tr>\n",
              "      <th>2016-12-20 09:40:00-05:00</th>\n",
              "      <td>2016-12-20 09:40:00-05:00</td>\n",
              "      <td>61.520</td>\n",
              "      <td>61.5900</td>\n",
              "      <td>61.340</td>\n",
              "      <td>61.41</td>\n",
              "      <td>45928</td>\n",
              "      <td>61.461932</td>\n",
              "    </tr>\n",
              "    <tr>\n",
              "      <th>2016-12-20 09:45:00-05:00</th>\n",
              "      <td>2016-12-20 09:45:00-05:00</td>\n",
              "      <td>61.410</td>\n",
              "      <td>61.6900</td>\n",
              "      <td>61.380</td>\n",
              "      <td>61.64</td>\n",
              "      <td>28258</td>\n",
              "      <td>61.558295</td>\n",
              "    </tr>\n",
              "    <tr>\n",
              "      <th>2016-12-20 09:50:00-05:00</th>\n",
              "      <td>2016-12-20 09:50:00-05:00</td>\n",
              "      <td>61.645</td>\n",
              "      <td>61.8962</td>\n",
              "      <td>61.640</td>\n",
              "      <td>61.84</td>\n",
              "      <td>31154</td>\n",
              "      <td>61.753409</td>\n",
              "    </tr>\n",
              "    <tr>\n",
              "      <th>...</th>\n",
              "      <td>...</td>\n",
              "      <td>...</td>\n",
              "      <td>...</td>\n",
              "      <td>...</td>\n",
              "      <td>...</td>\n",
              "      <td>...</td>\n",
              "      <td>...</td>\n",
              "    </tr>\n",
              "    <tr>\n",
              "      <th>2016-12-23 13:55:00-05:00</th>\n",
              "      <td>2016-12-23 13:55:00-05:00</td>\n",
              "      <td>62.240</td>\n",
              "      <td>62.2500</td>\n",
              "      <td>62.230</td>\n",
              "      <td>62.25</td>\n",
              "      <td>6729</td>\n",
              "      <td>62.236709</td>\n",
              "    </tr>\n",
              "    <tr>\n",
              "      <th>2016-12-23 14:00:00-05:00</th>\n",
              "      <td>2016-12-23 14:00:00-05:00</td>\n",
              "      <td>62.240</td>\n",
              "      <td>62.2400</td>\n",
              "      <td>62.200</td>\n",
              "      <td>62.21</td>\n",
              "      <td>12521</td>\n",
              "      <td>62.216313</td>\n",
              "    </tr>\n",
              "    <tr>\n",
              "      <th>2016-12-23 14:05:00-05:00</th>\n",
              "      <td>2016-12-23 14:05:00-05:00</td>\n",
              "      <td>62.210</td>\n",
              "      <td>62.3200</td>\n",
              "      <td>62.210</td>\n",
              "      <td>62.30</td>\n",
              "      <td>9844</td>\n",
              "      <td>62.261296</td>\n",
              "    </tr>\n",
              "    <tr>\n",
              "      <th>2016-12-23 14:10:00-05:00</th>\n",
              "      <td>2016-12-23 14:10:00-05:00</td>\n",
              "      <td>62.271</td>\n",
              "      <td>62.3600</td>\n",
              "      <td>62.260</td>\n",
              "      <td>62.35</td>\n",
              "      <td>11358</td>\n",
              "      <td>62.300400</td>\n",
              "    </tr>\n",
              "    <tr>\n",
              "      <th>2016-12-23 14:15:00-05:00</th>\n",
              "      <td>2016-12-23 14:15:00-05:00</td>\n",
              "      <td>62.360</td>\n",
              "      <td>62.3900</td>\n",
              "      <td>62.305</td>\n",
              "      <td>62.31</td>\n",
              "      <td>9874</td>\n",
              "      <td>62.343092</td>\n",
              "    </tr>\n",
              "  </tbody>\n",
              "</table>\n",
              "<p>300 rows × 7 columns</p>\n",
              "</div>\n",
              "      <button class=\"colab-df-convert\" onclick=\"convertToInteractive('df-7c88fa5d-a956-49ec-97b9-f0129dafc669')\"\n",
              "              title=\"Convert this dataframe to an interactive table.\"\n",
              "              style=\"display:none;\">\n",
              "        \n",
              "  <svg xmlns=\"http://www.w3.org/2000/svg\" height=\"24px\"viewBox=\"0 0 24 24\"\n",
              "       width=\"24px\">\n",
              "    <path d=\"M0 0h24v24H0V0z\" fill=\"none\"/>\n",
              "    <path d=\"M18.56 5.44l.94 2.06.94-2.06 2.06-.94-2.06-.94-.94-2.06-.94 2.06-2.06.94zm-11 1L8.5 8.5l.94-2.06 2.06-.94-2.06-.94L8.5 2.5l-.94 2.06-2.06.94zm10 10l.94 2.06.94-2.06 2.06-.94-2.06-.94-.94-2.06-.94 2.06-2.06.94z\"/><path d=\"M17.41 7.96l-1.37-1.37c-.4-.4-.92-.59-1.43-.59-.52 0-1.04.2-1.43.59L10.3 9.45l-7.72 7.72c-.78.78-.78 2.05 0 2.83L4 21.41c.39.39.9.59 1.41.59.51 0 1.02-.2 1.41-.59l7.78-7.78 2.81-2.81c.8-.78.8-2.07 0-2.86zM5.41 20L4 18.59l7.72-7.72 1.47 1.35L5.41 20z\"/>\n",
              "  </svg>\n",
              "      </button>\n",
              "      \n",
              "  <style>\n",
              "    .colab-df-container {\n",
              "      display:flex;\n",
              "      flex-wrap:wrap;\n",
              "      gap: 12px;\n",
              "    }\n",
              "\n",
              "    .colab-df-convert {\n",
              "      background-color: #E8F0FE;\n",
              "      border: none;\n",
              "      border-radius: 50%;\n",
              "      cursor: pointer;\n",
              "      display: none;\n",
              "      fill: #1967D2;\n",
              "      height: 32px;\n",
              "      padding: 0 0 0 0;\n",
              "      width: 32px;\n",
              "    }\n",
              "\n",
              "    .colab-df-convert:hover {\n",
              "      background-color: #E2EBFA;\n",
              "      box-shadow: 0px 1px 2px rgba(60, 64, 67, 0.3), 0px 1px 3px 1px rgba(60, 64, 67, 0.15);\n",
              "      fill: #174EA6;\n",
              "    }\n",
              "\n",
              "    [theme=dark] .colab-df-convert {\n",
              "      background-color: #3B4455;\n",
              "      fill: #D2E3FC;\n",
              "    }\n",
              "\n",
              "    [theme=dark] .colab-df-convert:hover {\n",
              "      background-color: #434B5C;\n",
              "      box-shadow: 0px 1px 3px 1px rgba(0, 0, 0, 0.15);\n",
              "      filter: drop-shadow(0px 1px 2px rgba(0, 0, 0, 0.3));\n",
              "      fill: #FFFFFF;\n",
              "    }\n",
              "  </style>\n",
              "\n",
              "      <script>\n",
              "        const buttonEl =\n",
              "          document.querySelector('#df-7c88fa5d-a956-49ec-97b9-f0129dafc669 button.colab-df-convert');\n",
              "        buttonEl.style.display =\n",
              "          google.colab.kernel.accessAllowed ? 'block' : 'none';\n",
              "\n",
              "        async function convertToInteractive(key) {\n",
              "          const element = document.querySelector('#df-7c88fa5d-a956-49ec-97b9-f0129dafc669');\n",
              "          const dataTable =\n",
              "            await google.colab.kernel.invokeFunction('convertToInteractive',\n",
              "                                                     [key], {});\n",
              "          if (!dataTable) return;\n",
              "\n",
              "          const docLinkHtml = 'Like what you see? Visit the ' +\n",
              "            '<a target=\"_blank\" href=https://colab.research.google.com/notebooks/data_table.ipynb>data table notebook</a>'\n",
              "            + ' to learn more about interactive tables.';\n",
              "          element.innerHTML = '';\n",
              "          dataTable['output_type'] = 'display_data';\n",
              "          await google.colab.output.renderOutput(dataTable, element);\n",
              "          const docLink = document.createElement('div');\n",
              "          docLink.innerHTML = docLinkHtml;\n",
              "          element.appendChild(docLink);\n",
              "        }\n",
              "      </script>\n",
              "    </div>\n",
              "  </div>\n",
              "  "
            ],
            "text/plain": [
              "                                               Time    Open     High     Low  \\\n",
              "timestamp                                                                      \n",
              "2016-12-20 09:30:00-05:00 2016-12-20 09:30:00-05:00  62.060  62.2800  61.790   \n",
              "2016-12-20 09:35:00-05:00 2016-12-20 09:35:00-05:00  61.830  61.8800  61.350   \n",
              "2016-12-20 09:40:00-05:00 2016-12-20 09:40:00-05:00  61.520  61.5900  61.340   \n",
              "2016-12-20 09:45:00-05:00 2016-12-20 09:45:00-05:00  61.410  61.6900  61.380   \n",
              "2016-12-20 09:50:00-05:00 2016-12-20 09:50:00-05:00  61.645  61.8962  61.640   \n",
              "...                                             ...     ...      ...     ...   \n",
              "2016-12-23 13:55:00-05:00 2016-12-23 13:55:00-05:00  62.240  62.2500  62.230   \n",
              "2016-12-23 14:00:00-05:00 2016-12-23 14:00:00-05:00  62.240  62.2400  62.200   \n",
              "2016-12-23 14:05:00-05:00 2016-12-23 14:05:00-05:00  62.210  62.3200  62.210   \n",
              "2016-12-23 14:10:00-05:00 2016-12-23 14:10:00-05:00  62.271  62.3600  62.260   \n",
              "2016-12-23 14:15:00-05:00 2016-12-23 14:15:00-05:00  62.360  62.3900  62.305   \n",
              "\n",
              "                           Close  Volume  VolumeWeightedAvgPrice  \n",
              "timestamp                                                         \n",
              "2016-12-20 09:30:00-05:00  61.84  101901               61.979608  \n",
              "2016-12-20 09:35:00-05:00  61.53   63431               61.575740  \n",
              "2016-12-20 09:40:00-05:00  61.41   45928               61.461932  \n",
              "2016-12-20 09:45:00-05:00  61.64   28258               61.558295  \n",
              "2016-12-20 09:50:00-05:00  61.84   31154               61.753409  \n",
              "...                          ...     ...                     ...  \n",
              "2016-12-23 13:55:00-05:00  62.25    6729               62.236709  \n",
              "2016-12-23 14:00:00-05:00  62.21   12521               62.216313  \n",
              "2016-12-23 14:05:00-05:00  62.30    9844               62.261296  \n",
              "2016-12-23 14:10:00-05:00  62.35   11358               62.300400  \n",
              "2016-12-23 14:15:00-05:00  62.31    9874               62.343092  \n",
              "\n",
              "[300 rows x 7 columns]"
            ]
          },
          "metadata": {},
          "execution_count": 47
        }
      ]
    },
    {
      "cell_type": "code",
      "source": [
        "def buildTargets_VolOnly(full_df = full_raw, train_observations = train_raw.shape[0], \n",
        "                         val_observations = val_raw.shape[0], \n",
        "                         test_observations = test_raw.shape[0], \n",
        "                         alph = .55, volity_int = 10):\n",
        "\n",
        "  \"\"\" \n",
        "  This function will take a complete set of train, val, and test data and return the targets.\n",
        "  Volitility will be calculated over the 252 5min incriments \n",
        "  The Target shift is looking at 2 hours shift from current time\n",
        "  \"\"\"\n",
        "\n",
        "  returns = np.log(full_df['Close']/(full_df['Close'].shift()))\n",
        "  returns.fillna(0, inplace=True)\n",
        "  volatility = returns.rolling(window=(volity_int)).std()*np.sqrt(volity_int)\n",
        "\n",
        "\n",
        "\n",
        "  return volatility\n",
        "  #return train_targets, val_targets, test_targets, full_targets\n",
        "\n",
        "volatility = buildTargets_VolOnly()\n",
        "\n",
        "fig = plt.figure(figsize=(15, 7))\n",
        "ax1 = fig.add_subplot(1, 1, 1)\n",
        "volatility.plot(ax=ax1, color = \"red\")\n",
        "ax1.set_xlabel('Date')\n",
        "ax1.set_ylabel('Volatility', color = \"red\")\n",
        "ax1.set_title(f'Annualized volatility for {ticker}')\n",
        "ax2 = ax1.twinx()\n",
        "full_raw.Close.plot(ax=ax2, color = \"blue\")\n",
        "ax2.set_ylabel('Close', color = \"blue\")\n",
        "ax2.axvline(x=full_raw.index[train_raw.shape[0]])\n",
        "ax2.axvline(x=full_raw.index[val_raw.shape[0]+train_raw.shape[0]])\n",
        "plt.show()"
      ],
      "metadata": {
        "id": "fWqLBPQPbjYZ",
        "outputId": "800230ce-a5a4-4dd6-f5ce-acabf4736457",
        "colab": {
          "base_uri": "https://localhost:8080/",
          "height": 432
        }
      },
      "execution_count": 48,
      "outputs": [
        {
          "output_type": "display_data",
          "data": {
            "image/png": "[encoded data removed]",
            "text/plain": [
              "<Figure size 1080x504 with 2 Axes>"
            ]
          },
          "metadata": {
            "needs_background": "light"
          }
        }
      ]
    },
    {
      "cell_type": "code",
      "source": [
        "train = timeFilterAndBackfill(train_raw)\n",
        "val = timeFilterAndBackfill(val_raw)\n",
        "test = timeFilterAndBackfill(test_raw)\n",
        "\n",
        "train = train[train.index.dayofweek <= 4].copy()\n",
        "val = val[val.index.dayofweek <= 4].copy()\n",
        "test = test[test.index.dayofweek <= 4].copy()\n",
        "\n",
        "train[\"Open\"] = np.where((train[\"Volume\"] == 0), train[\"Close\"], train[\"Open\"])\n",
        "train[\"High\"] = np.where((train[\"Volume\"] == 0), train[\"Close\"], train[\"High\"])\n",
        "train[\"Low\"] = np.where((train[\"Volume\"] == 0), train[\"Close\"], train[\"Low\"])\n",
        "\n",
        "val[\"Open\"] = np.where((val[\"Volume\"] == 0), val[\"Close\"], val[\"Open\"])\n",
        "val[\"High\"] = np.where((val[\"Volume\"] == 0), val[\"Close\"], val[\"High\"])\n",
        "val[\"Low\"] = np.where((val[\"Volume\"] == 0), val[\"Close\"], val[\"Low\"])\n",
        "\n",
        "test[\"Open\"] = np.where((test[\"Volume\"] == 0), test[\"Close\"], test[\"Open\"])\n",
        "test[\"High\"] = np.where((test[\"Volume\"] == 0), test[\"Close\"], test[\"High\"])\n",
        "test[\"Low\"] = np.where((test[\"Volume\"] == 0), test[\"Close\"], test[\"Low\"])\n",
        "\n",
        "def strided_axis0(a, L, overlap=1):\n",
        "    if L==overlap:\n",
        "        raise Exception(\"Overlap arg must be smaller than length of windows\")\n",
        "    S = L - overlap\n",
        "    nd0 = ((len(a)-L)//S)+1\n",
        "    if nd0*S-S!=len(a)-L:\n",
        "        warnings.warn(\"Not all elements were covered\")\n",
        "    m,n = a.shape\n",
        "    s0,s1 = a.strides\n",
        "    return np.lib.stride_tricks.as_strided(a, shape=(nd0,L,n), strides=(S*s0,s0,s1))\n",
        "\n",
        "# OLDER CODE WITHOUT OVERLAP OF LABELING\n",
        "# def blockshaped(arr, nrows, ncols):\n",
        "#     \"\"\"\n",
        "#     Return an array of shape (n, nrows, ncols) where\n",
        "#     n * nrows * ncols = arr.size\n",
        "\n",
        "#     If arr is a 2D array, the returned array should look like n subblocks with\n",
        "#     each subblock preserving the \"physical\" layout of arr.\n",
        "#     \"\"\"\n",
        "#     h, w = arr.shape\n",
        "#     assert h % nrows == 0, f\"{h} rows is not evenly divisible by {nrows}\"\n",
        "#     assert w % ncols == 0, f\"{w} cols is not evenly divisible by {ncols}\"\n",
        "#     return np.flip(np.rot90((arr.reshape(h//nrows, nrows, -1, ncols)\n",
        "#                .swapaxes(1,2)\n",
        "#                .reshape(-1, nrows, ncols)), axes = (1, 2)), axis = 1)\n",
        "\n",
        "\n",
        "def blockshaped(arr, nrows, ncols, overlapping_5min_intervals = 12):\n",
        "    \"\"\"\n",
        "    Return an array of shape (n, nrows, ncols) where\n",
        "    n * nrows * ncols = arr.size\n",
        "\n",
        "    If arr is a 2D array, the returned array should look like n subblocks with\n",
        "    each subblock preserving the \"physical\" layout of arr.\n",
        "    \"\"\"\n",
        "\n",
        "    h, w = arr.shape\n",
        "    assert h % nrows == 0, f\"{h} rows is not evenly divisible by {nrows}\"\n",
        "    assert w % ncols == 0, f\"{w} cols is not evenly divisible by {ncols}\"\n",
        "\n",
        "    return np.flip(np.rot90((strided_axis0(arr, 24, overlap=overlapping_5min_intervals).reshape(-1, nrows, ncols)), axes = (1, 2)), axis = 1)\n",
        "\n",
        "train_tonp = train[[\"Open\", \"High\", \"Low\", \"Close\", \"Volume\"]]\n",
        "val_tonp = val[[\"Open\", \"High\", \"Low\", \"Close\", \"Volume\"]]\n",
        "test_tonp = test[[\"Open\", \"High\", \"Low\", \"Close\", \"Volume\"]]\n",
        "train_array = train_tonp.to_numpy()\n",
        "val_array = val_tonp.to_numpy()\n",
        "test_array = test_tonp.to_numpy()\n",
        "\n",
        "X_train_pre_final = blockshaped(train_array, 24, 5, overlapping_5min_intervals = 12)\n",
        "X_val_pre_final = blockshaped(val_array, 24, 5, overlapping_5min_intervals = 12)\n",
        "X_test_pre_final = blockshaped(test_array, 24, 5, overlapping_5min_intervals = 12)\n",
        "\n",
        "# X_train_pre_final = blockshaped(train_array, 24, 5)\n",
        "# X_val_pre_final = blockshaped(val_array, 24, 5)\n",
        "# X_test_pre_final = blockshaped(test_array, 24, 5)"
      ],
      "metadata": {
        "id": "0_yU14VEM37m"
      },
      "execution_count": 49,
      "outputs": []
    },
    {
      "cell_type": "code",
      "source": [
        "np.set_printoptions(edgeitems=10,linewidth=580)\n",
        "X_train_pre_final[0]"
      ],
      "metadata": {
        "colab": {
          "base_uri": "https://localhost:8080/"
        },
        "id": "V8KcE_XCidzo",
        "outputId": "7c3a3b80-db9f-4730-d123-aa7f367848df"
      },
      "execution_count": 50,
      "outputs": [
        {
          "output_type": "execute_result",
          "data": {
            "text/plain": [
              "array([[6.20600e+01, 6.18300e+01, 6.15200e+01, 6.14100e+01, 6.16450e+01, 6.18300e+01, 6.18200e+01, 6.18900e+01, 6.19700e+01, 6.16900e+01, 6.14400e+01, 6.14074e+01, 6.15000e+01, 6.17900e+01, 6.17300e+01, 6.17400e+01, 6.17500e+01, 6.17223e+01, 6.16100e+01, 6.17300e+01, 6.17800e+01, 6.16900e+01, 6.16423e+01, 6.15800e+01],\n",
              "       [6.22800e+01, 6.18800e+01, 6.15900e+01, 6.16900e+01, 6.18962e+01, 6.19600e+01, 6.19900e+01, 6.19750e+01, 6.19900e+01, 6.16900e+01, 6.14900e+01, 6.16100e+01, 6.17900e+01, 6.17900e+01, 6.17600e+01, 6.17500e+01, 6.17800e+01, 6.17250e+01, 6.17400e+01, 6.18000e+01, 6.17827e+01, 6.17000e+01, 6.16600e+01, 6.16000e+01],\n",
              "       [6.17900e+01, 6.13500e+01, 6.13400e+01, 6.13800e+01, 6.16400e+01, 6.18100e+01, 6.18101e+01, 6.18900e+01, 6.16500e+01, 6.14200e+01, 6.13400e+01, 6.14050e+01, 6.14900e+01, 6.16950e+01, 6.17100e+01, 6.16400e+01, 6.16200e+01, 6.15900e+01, 6.16050e+01, 6.16800e+01, 6.16750e+01, 6.16000e+01, 6.15400e+01, 6.14800e+01],\n",
              "       [6.18400e+01, 6.15300e+01, 6.14100e+01, 6.16400e+01, 6.18400e+01, 6.18250e+01, 6.19000e+01, 6.19600e+01, 6.16700e+01, 6.14250e+01, 6.14000e+01, 6.14950e+01, 6.17800e+01, 6.17400e+01, 6.17600e+01, 6.17400e+01, 6.17250e+01, 6.16000e+01, 6.17350e+01, 6.17800e+01, 6.16900e+01, 6.16600e+01, 6.15751e+01, 6.14990e+01],\n",
              "       [1.01901e+05, 6.34310e+04, 4.59280e+04, 2.82580e+04, 3.11540e+04, 2.23820e+04, 3.23700e+04, 1.97930e+04, 3.02140e+04, 3.79960e+04, 4.21060e+04, 2.79650e+04, 2.18750e+04, 3.74930e+04, 1.93820e+04, 2.66870e+04, 2.66440e+04, 1.98770e+04, 3.79870e+04, 2.63510e+04, 2.45550e+04, 1.92770e+04, 2.55730e+04, 2.21870e+04]])"
            ]
          },
          "metadata": {},
          "execution_count": 50
        }
      ]
    },
    {
      "cell_type": "code",
      "source": [
        "train_tonp[0:24]"
      ],
      "metadata": {
        "colab": {
          "base_uri": "https://localhost:8080/",
          "height": 833
        },
        "id": "29LbU_ukUK8j",
        "outputId": "65a6dc68-f0cf-4a1c-da0e-4506b885ef5a"
      },
      "execution_count": 51,
      "outputs": [
        {
          "output_type": "execute_result",
          "data": {
            "text/html": [
              "\n",
              "  <div id=\"df-e6a4b82e-ebcf-4a50-b987-06b9b6bb862b\">\n",
              "    <div class=\"colab-df-container\">\n",
              "      <div>\n",
              "<style scoped>\n",
              "    .dataframe tbody tr th:only-of-type {\n",
              "        vertical-align: middle;\n",
              "    }\n",
              "\n",
              "    .dataframe tbody tr th {\n",
              "        vertical-align: top;\n",
              "    }\n",
              "\n",
              "    .dataframe thead th {\n",
              "        text-align: right;\n",
              "    }\n",
              "</style>\n",
              "<table border=\"1\" class=\"dataframe\">\n",
              "  <thead>\n",
              "    <tr style=\"text-align: right;\">\n",
              "      <th></th>\n",
              "      <th>Open</th>\n",
              "      <th>High</th>\n",
              "      <th>Low</th>\n",
              "      <th>Close</th>\n",
              "      <th>Volume</th>\n",
              "    </tr>\n",
              "    <tr>\n",
              "      <th>Time</th>\n",
              "      <th></th>\n",
              "      <th></th>\n",
              "      <th></th>\n",
              "      <th></th>\n",
              "      <th></th>\n",
              "    </tr>\n",
              "  </thead>\n",
              "  <tbody>\n",
              "    <tr>\n",
              "      <th>2016-12-20 09:30:00-05:00</th>\n",
              "      <td>62.0600</td>\n",
              "      <td>62.2800</td>\n",
              "      <td>61.7900</td>\n",
              "      <td>61.8400</td>\n",
              "      <td>101901.0</td>\n",
              "    </tr>\n",
              "    <tr>\n",
              "      <th>2016-12-20 09:35:00-05:00</th>\n",
              "      <td>61.8300</td>\n",
              "      <td>61.8800</td>\n",
              "      <td>61.3500</td>\n",
              "      <td>61.5300</td>\n",
              "      <td>63431.0</td>\n",
              "    </tr>\n",
              "    <tr>\n",
              "      <th>2016-12-20 09:40:00-05:00</th>\n",
              "      <td>61.5200</td>\n",
              "      <td>61.5900</td>\n",
              "      <td>61.3400</td>\n",
              "      <td>61.4100</td>\n",
              "      <td>45928.0</td>\n",
              "    </tr>\n",
              "    <tr>\n",
              "      <th>2016-12-20 09:45:00-05:00</th>\n",
              "      <td>61.4100</td>\n",
              "      <td>61.6900</td>\n",
              "      <td>61.3800</td>\n",
              "      <td>61.6400</td>\n",
              "      <td>28258.0</td>\n",
              "    </tr>\n",
              "    <tr>\n",
              "      <th>2016-12-20 09:50:00-05:00</th>\n",
              "      <td>61.6450</td>\n",
              "      <td>61.8962</td>\n",
              "      <td>61.6400</td>\n",
              "      <td>61.8400</td>\n",
              "      <td>31154.0</td>\n",
              "    </tr>\n",
              "    <tr>\n",
              "      <th>2016-12-20 09:55:00-05:00</th>\n",
              "      <td>61.8300</td>\n",
              "      <td>61.9600</td>\n",
              "      <td>61.8100</td>\n",
              "      <td>61.8250</td>\n",
              "      <td>22382.0</td>\n",
              "    </tr>\n",
              "    <tr>\n",
              "      <th>2016-12-20 10:00:00-05:00</th>\n",
              "      <td>61.8200</td>\n",
              "      <td>61.9900</td>\n",
              "      <td>61.8101</td>\n",
              "      <td>61.9000</td>\n",
              "      <td>32370.0</td>\n",
              "    </tr>\n",
              "    <tr>\n",
              "      <th>2016-12-20 10:05:00-05:00</th>\n",
              "      <td>61.8900</td>\n",
              "      <td>61.9750</td>\n",
              "      <td>61.8900</td>\n",
              "      <td>61.9600</td>\n",
              "      <td>19793.0</td>\n",
              "    </tr>\n",
              "    <tr>\n",
              "      <th>2016-12-20 10:10:00-05:00</th>\n",
              "      <td>61.9700</td>\n",
              "      <td>61.9900</td>\n",
              "      <td>61.6500</td>\n",
              "      <td>61.6700</td>\n",
              "      <td>30214.0</td>\n",
              "    </tr>\n",
              "    <tr>\n",
              "      <th>2016-12-20 10:15:00-05:00</th>\n",
              "      <td>61.6900</td>\n",
              "      <td>61.6900</td>\n",
              "      <td>61.4200</td>\n",
              "      <td>61.4250</td>\n",
              "      <td>37996.0</td>\n",
              "    </tr>\n",
              "    <tr>\n",
              "      <th>2016-12-20 10:20:00-05:00</th>\n",
              "      <td>61.4400</td>\n",
              "      <td>61.4900</td>\n",
              "      <td>61.3400</td>\n",
              "      <td>61.4000</td>\n",
              "      <td>42106.0</td>\n",
              "    </tr>\n",
              "    <tr>\n",
              "      <th>2016-12-20 10:25:00-05:00</th>\n",
              "      <td>61.4074</td>\n",
              "      <td>61.6100</td>\n",
              "      <td>61.4050</td>\n",
              "      <td>61.4950</td>\n",
              "      <td>27965.0</td>\n",
              "    </tr>\n",
              "    <tr>\n",
              "      <th>2016-12-20 10:30:00-05:00</th>\n",
              "      <td>61.5000</td>\n",
              "      <td>61.7900</td>\n",
              "      <td>61.4900</td>\n",
              "      <td>61.7800</td>\n",
              "      <td>21875.0</td>\n",
              "    </tr>\n",
              "    <tr>\n",
              "      <th>2016-12-20 10:35:00-05:00</th>\n",
              "      <td>61.7900</td>\n",
              "      <td>61.7900</td>\n",
              "      <td>61.6950</td>\n",
              "      <td>61.7400</td>\n",
              "      <td>37493.0</td>\n",
              "    </tr>\n",
              "    <tr>\n",
              "      <th>2016-12-20 10:40:00-05:00</th>\n",
              "      <td>61.7300</td>\n",
              "      <td>61.7600</td>\n",
              "      <td>61.7100</td>\n",
              "      <td>61.7600</td>\n",
              "      <td>19382.0</td>\n",
              "    </tr>\n",
              "    <tr>\n",
              "      <th>2016-12-20 10:45:00-05:00</th>\n",
              "      <td>61.7400</td>\n",
              "      <td>61.7500</td>\n",
              "      <td>61.6400</td>\n",
              "      <td>61.7400</td>\n",
              "      <td>26687.0</td>\n",
              "    </tr>\n",
              "    <tr>\n",
              "      <th>2016-12-20 10:50:00-05:00</th>\n",
              "      <td>61.7500</td>\n",
              "      <td>61.7800</td>\n",
              "      <td>61.6200</td>\n",
              "      <td>61.7250</td>\n",
              "      <td>26644.0</td>\n",
              "    </tr>\n",
              "    <tr>\n",
              "      <th>2016-12-20 10:55:00-05:00</th>\n",
              "      <td>61.7223</td>\n",
              "      <td>61.7250</td>\n",
              "      <td>61.5900</td>\n",
              "      <td>61.6000</td>\n",
              "      <td>19877.0</td>\n",
              "    </tr>\n",
              "    <tr>\n",
              "      <th>2016-12-20 11:00:00-05:00</th>\n",
              "      <td>61.6100</td>\n",
              "      <td>61.7400</td>\n",
              "      <td>61.6050</td>\n",
              "      <td>61.7350</td>\n",
              "      <td>37987.0</td>\n",
              "    </tr>\n",
              "    <tr>\n",
              "      <th>2016-12-20 11:05:00-05:00</th>\n",
              "      <td>61.7300</td>\n",
              "      <td>61.8000</td>\n",
              "      <td>61.6800</td>\n",
              "      <td>61.7800</td>\n",
              "      <td>26351.0</td>\n",
              "    </tr>\n",
              "    <tr>\n",
              "      <th>2016-12-20 11:10:00-05:00</th>\n",
              "      <td>61.7800</td>\n",
              "      <td>61.7827</td>\n",
              "      <td>61.6750</td>\n",
              "      <td>61.6900</td>\n",
              "      <td>24555.0</td>\n",
              "    </tr>\n",
              "    <tr>\n",
              "      <th>2016-12-20 11:15:00-05:00</th>\n",
              "      <td>61.6900</td>\n",
              "      <td>61.7000</td>\n",
              "      <td>61.6000</td>\n",
              "      <td>61.6600</td>\n",
              "      <td>19277.0</td>\n",
              "    </tr>\n",
              "    <tr>\n",
              "      <th>2016-12-20 11:20:00-05:00</th>\n",
              "      <td>61.6423</td>\n",
              "      <td>61.6600</td>\n",
              "      <td>61.5400</td>\n",
              "      <td>61.5751</td>\n",
              "      <td>25573.0</td>\n",
              "    </tr>\n",
              "    <tr>\n",
              "      <th>2016-12-20 11:25:00-05:00</th>\n",
              "      <td>61.5800</td>\n",
              "      <td>61.6000</td>\n",
              "      <td>61.4800</td>\n",
              "      <td>61.4990</td>\n",
              "      <td>22187.0</td>\n",
              "    </tr>\n",
              "  </tbody>\n",
              "</table>\n",
              "</div>\n",
              "      <button class=\"colab-df-convert\" onclick=\"convertToInteractive('df-e6a4b82e-ebcf-4a50-b987-06b9b6bb862b')\"\n",
              "              title=\"Convert this dataframe to an interactive table.\"\n",
              "              style=\"display:none;\">\n",
              "        \n",
              "  <svg xmlns=\"http://www.w3.org/2000/svg\" height=\"24px\"viewBox=\"0 0 24 24\"\n",
              "       width=\"24px\">\n",
              "    <path d=\"M0 0h24v24H0V0z\" fill=\"none\"/>\n",
              "    <path d=\"M18.56 5.44l.94 2.06.94-2.06 2.06-.94-2.06-.94-.94-2.06-.94 2.06-2.06.94zm-11 1L8.5 8.5l.94-2.06 2.06-.94-2.06-.94L8.5 2.5l-.94 2.06-2.06.94zm10 10l.94 2.06.94-2.06 2.06-.94-2.06-.94-.94-2.06-.94 2.06-2.06.94z\"/><path d=\"M17.41 7.96l-1.37-1.37c-.4-.4-.92-.59-1.43-.59-.52 0-1.04.2-1.43.59L10.3 9.45l-7.72 7.72c-.78.78-.78 2.05 0 2.83L4 21.41c.39.39.9.59 1.41.59.51 0 1.02-.2 1.41-.59l7.78-7.78 2.81-2.81c.8-.78.8-2.07 0-2.86zM5.41 20L4 18.59l7.72-7.72 1.47 1.35L5.41 20z\"/>\n",
              "  </svg>\n",
              "      </button>\n",
              "      \n",
              "  <style>\n",
              "    .colab-df-container {\n",
              "      display:flex;\n",
              "      flex-wrap:wrap;\n",
              "      gap: 12px;\n",
              "    }\n",
              "\n",
              "    .colab-df-convert {\n",
              "      background-color: #E8F0FE;\n",
              "      border: none;\n",
              "      border-radius: 50%;\n",
              "      cursor: pointer;\n",
              "      display: none;\n",
              "      fill: #1967D2;\n",
              "      height: 32px;\n",
              "      padding: 0 0 0 0;\n",
              "      width: 32px;\n",
              "    }\n",
              "\n",
              "    .colab-df-convert:hover {\n",
              "      background-color: #E2EBFA;\n",
              "      box-shadow: 0px 1px 2px rgba(60, 64, 67, 0.3), 0px 1px 3px 1px rgba(60, 64, 67, 0.15);\n",
              "      fill: #174EA6;\n",
              "    }\n",
              "\n",
              "    [theme=dark] .colab-df-convert {\n",
              "      background-color: #3B4455;\n",
              "      fill: #D2E3FC;\n",
              "    }\n",
              "\n",
              "    [theme=dark] .colab-df-convert:hover {\n",
              "      background-color: #434B5C;\n",
              "      box-shadow: 0px 1px 3px 1px rgba(0, 0, 0, 0.15);\n",
              "      filter: drop-shadow(0px 1px 2px rgba(0, 0, 0, 0.3));\n",
              "      fill: #FFFFFF;\n",
              "    }\n",
              "  </style>\n",
              "\n",
              "      <script>\n",
              "        const buttonEl =\n",
              "          document.querySelector('#df-e6a4b82e-ebcf-4a50-b987-06b9b6bb862b button.colab-df-convert');\n",
              "        buttonEl.style.display =\n",
              "          google.colab.kernel.accessAllowed ? 'block' : 'none';\n",
              "\n",
              "        async function convertToInteractive(key) {\n",
              "          const element = document.querySelector('#df-e6a4b82e-ebcf-4a50-b987-06b9b6bb862b');\n",
              "          const dataTable =\n",
              "            await google.colab.kernel.invokeFunction('convertToInteractive',\n",
              "                                                     [key], {});\n",
              "          if (!dataTable) return;\n",
              "\n",
              "          const docLinkHtml = 'Like what you see? Visit the ' +\n",
              "            '<a target=\"_blank\" href=https://colab.research.google.com/notebooks/data_table.ipynb>data table notebook</a>'\n",
              "            + ' to learn more about interactive tables.';\n",
              "          element.innerHTML = '';\n",
              "          dataTable['output_type'] = 'display_data';\n",
              "          await google.colab.output.renderOutput(dataTable, element);\n",
              "          const docLink = document.createElement('div');\n",
              "          docLink.innerHTML = docLinkHtml;\n",
              "          element.appendChild(docLink);\n",
              "        }\n",
              "      </script>\n",
              "    </div>\n",
              "  </div>\n",
              "  "
            ],
            "text/plain": [
              "                              Open     High      Low    Close    Volume\n",
              "Time                                                                   \n",
              "2016-12-20 09:30:00-05:00  62.0600  62.2800  61.7900  61.8400  101901.0\n",
              "2016-12-20 09:35:00-05:00  61.8300  61.8800  61.3500  61.5300   63431.0\n",
              "2016-12-20 09:40:00-05:00  61.5200  61.5900  61.3400  61.4100   45928.0\n",
              "2016-12-20 09:45:00-05:00  61.4100  61.6900  61.3800  61.6400   28258.0\n",
              "2016-12-20 09:50:00-05:00  61.6450  61.8962  61.6400  61.8400   31154.0\n",
              "2016-12-20 09:55:00-05:00  61.8300  61.9600  61.8100  61.8250   22382.0\n",
              "2016-12-20 10:00:00-05:00  61.8200  61.9900  61.8101  61.9000   32370.0\n",
              "2016-12-20 10:05:00-05:00  61.8900  61.9750  61.8900  61.9600   19793.0\n",
              "2016-12-20 10:10:00-05:00  61.9700  61.9900  61.6500  61.6700   30214.0\n",
              "2016-12-20 10:15:00-05:00  61.6900  61.6900  61.4200  61.4250   37996.0\n",
              "2016-12-20 10:20:00-05:00  61.4400  61.4900  61.3400  61.4000   42106.0\n",
              "2016-12-20 10:25:00-05:00  61.4074  61.6100  61.4050  61.4950   27965.0\n",
              "2016-12-20 10:30:00-05:00  61.5000  61.7900  61.4900  61.7800   21875.0\n",
              "2016-12-20 10:35:00-05:00  61.7900  61.7900  61.6950  61.7400   37493.0\n",
              "2016-12-20 10:40:00-05:00  61.7300  61.7600  61.7100  61.7600   19382.0\n",
              "2016-12-20 10:45:00-05:00  61.7400  61.7500  61.6400  61.7400   26687.0\n",
              "2016-12-20 10:50:00-05:00  61.7500  61.7800  61.6200  61.7250   26644.0\n",
              "2016-12-20 10:55:00-05:00  61.7223  61.7250  61.5900  61.6000   19877.0\n",
              "2016-12-20 11:00:00-05:00  61.6100  61.7400  61.6050  61.7350   37987.0\n",
              "2016-12-20 11:05:00-05:00  61.7300  61.8000  61.6800  61.7800   26351.0\n",
              "2016-12-20 11:10:00-05:00  61.7800  61.7827  61.6750  61.6900   24555.0\n",
              "2016-12-20 11:15:00-05:00  61.6900  61.7000  61.6000  61.6600   19277.0\n",
              "2016-12-20 11:20:00-05:00  61.6423  61.6600  61.5400  61.5751   25573.0\n",
              "2016-12-20 11:25:00-05:00  61.5800  61.6000  61.4800  61.4990   22187.0"
            ]
          },
          "metadata": {},
          "execution_count": 51
        }
      ]
    },
    {
      "cell_type": "code",
      "source": [
        "X_train_pre_final[1]"
      ],
      "metadata": {
        "colab": {
          "base_uri": "https://localhost:8080/"
        },
        "id": "Y6w8fb_TU-Tx",
        "outputId": "16cb679f-d59e-4797-eabe-e6e43593efc1"
      },
      "execution_count": 52,
      "outputs": [
        {
          "output_type": "execute_result",
          "data": {
            "text/plain": [
              "array([[   61.5   ,    61.79  ,    61.73  ,    61.74  ,    61.75  ,    61.7223,    61.61  ,    61.73  ,    61.78  ,    61.69  ,    61.6423,    61.58  ,    61.5   ,    61.54  ,    61.59  ,    61.63  ,    61.565 ,    61.55  ,    61.54  ,    61.49  ,    61.585 ,    61.5999,    61.73  ,    61.61  ],\n",
              "       [   61.79  ,    61.79  ,    61.76  ,    61.75  ,    61.78  ,    61.725 ,    61.74  ,    61.8   ,    61.7827,    61.7   ,    61.66  ,    61.6   ,    61.58  ,    61.6   ,    61.6499,    61.63  ,    61.64  ,    61.61  ,    61.55  ,    61.61  ,    61.6   ,    61.73  ,    61.735 ,    61.62  ],\n",
              "       [   61.49  ,    61.695 ,    61.71  ,    61.64  ,    61.62  ,    61.59  ,    61.605 ,    61.68  ,    61.675 ,    61.6   ,    61.54  ,    61.48  ,    61.49  ,    61.51  ,    61.585 ,    61.551 ,    61.54  ,    61.535 ,    61.46  ,    61.47  ,    61.57  ,    61.58  ,    61.6   ,    61.55  ],\n",
              "       [   61.78  ,    61.74  ,    61.76  ,    61.74  ,    61.725 ,    61.6   ,    61.735 ,    61.78  ,    61.69  ,    61.66  ,    61.5751,    61.499 ,    61.55  ,    61.5709,    61.615 ,    61.551 ,    61.55  ,    61.54  ,    61.48  ,    61.59  ,    61.5999,    61.72  ,    61.6   ,    61.55  ],\n",
              "       [21875.    , 37493.    , 19382.    , 26687.    , 26644.    , 19877.    , 37987.    , 26351.    , 24555.    , 19277.    , 25573.    , 22187.    , 27318.    , 16816.    , 20763.    , 15349.    , 23757.    , 15746.    , 17873.    , 17515.    , 13815.    , 47864.    , 10293.    , 20343.    ]])"
            ]
          },
          "metadata": {},
          "execution_count": 52
        }
      ]
    },
    {
      "cell_type": "code",
      "source": [
        "# create target from OHLC and Volume Data\n",
        "###### THIS IS FOR 3 CLASS FROM PAPER ########\n",
        "def buildTargets(obs_array,  \n",
        "                 alph = .55, \n",
        "                 volity_int = 10):\n",
        "\n",
        "  \"\"\" \n",
        "  This function will take a complete set of train, val, and test \n",
        "  data and return the targets. Volitility will be calculated over \n",
        "  the 24 5min incriments. The Target shift is looking at 2 hours \n",
        "  shift from current time\n",
        "\n",
        "  shift_2hour = The amount of time the data interval take to equal 2 hours \n",
        "                (i.e. 5 min data interval is equal to 24)\n",
        "  alph = The alpha value for calculating the shift in price\n",
        "  volity_int = the number of incriments used to calculate volitility \n",
        "  \"\"\"\n",
        "\n",
        "  target_close_list =[]\n",
        "\n",
        "  for arr in obs_array:\n",
        "    target_close_list.append(arr[3][-1])\n",
        "  \n",
        "  target_close_df = pd.DataFrame()\n",
        "  target_close_df[\"Close\"] = target_close_list\n",
        "\n",
        "  target_close_df[\"Volitility\"] = target_close_df[\"Close\"].rolling(volity_int).std()\n",
        "\n",
        "  # print(len(volatility), len(target_close_df[\"Close\"]))\n",
        "\n",
        "  \n",
        "  targets = [0] * len(target_close_df.Close)\n",
        "\n",
        "  targets = np.where(target_close_df.Close.shift(-1) >= (target_close_df.Close * (1 + alph * target_close_df[\"Volitility\"])), \n",
        "           2, targets)\n",
        "  \n",
        "  targets = np.where(target_close_df.Close.shift(-1) <= (target_close_df.Close * (1 - alph * target_close_df[\"Volitility\"])), \n",
        "           1, targets)\n",
        "\n",
        "  return targets\n",
        "\n",
        "\n",
        "#####DISREGUARD THE VOLITLITY######\n",
        "# def buildTargets(obs_array,  \n",
        "  #                alph = .55, \n",
        "  #                volity_int = 10):\n",
        "\n",
        "  # \"\"\" \n",
        "  # This function will take a complete set of train, val, and test \n",
        "  # data and return the targets. Volitility will be calculated over \n",
        "  # the 24 5min incriments. The Target shift is looking at 2 hours \n",
        "  # shift from current time\n",
        "\n",
        "  # shift_2hour = The amount of time the data interval take to equal 2 hours \n",
        "  #               (i.e. 5 min data interval is equal to 24)\n",
        "  # alph = The alpha value for calculating the shift in price\n",
        "  # volity_int = the number of incriments used to calculate volitility \n",
        "  # \"\"\"\n",
        "\n",
        "  # target_close_list =[]\n",
        "\n",
        "  # for arr in obs_array:\n",
        "  #   target_close_list.append(arr[3][-1])\n",
        "  \n",
        "  # target_close_df = pd.DataFrame()\n",
        "  # target_close_df[\"Close\"] = target_close_list\n",
        "\n",
        "  # target_close_df[\"Volitility\"] = target_close_df[\"Close\"].rolling(volity_int).std()\n",
        "  \n",
        "  # targets = [0] * len(target_close_df.Close)\n",
        "\n",
        "  # targets = np.where(target_close_df.Close.shift(-1) >= (target_close_df.Close * (1 + alph)), \n",
        "  #          2, targets)\n",
        "  \n",
        "  # targets = np.where(target_close_df.Close.shift(-1) <= (target_close_df.Close * (1 - alph)), \n",
        "  #          1, targets)\n",
        "\n",
        "  # return targets\n",
        "\n",
        "  #####Binary Class######\n",
        "# def buildTargets(obs_array,  \n",
        "#                  alph = .55, \n",
        "#                  volity_int = 10):\n",
        "\n",
        "#   \"\"\" \n",
        "#   This function will take a complete set of train, val, and test \n",
        "#   data and return the targets. Volitility will be calculated over \n",
        "#   the 24 5min incriments. The Target shift is looking at 2 hours \n",
        "#   shift from current time\n",
        "\n",
        "#   shift_2hour = The amount of time the data interval take to equal 2 hours \n",
        "#                 (i.e. 5 min data interval is equal to 24)\n",
        "#   alph = The alpha value for calculating the shift in price\n",
        "#   volity_int = the number of incriments used to calculate volitility \n",
        "#   \"\"\"\n",
        "\n",
        "#   target_close_list =[]\n",
        "\n",
        "#   for arr in obs_array:\n",
        "#     target_close_list.append(arr[3][-1])\n",
        "  \n",
        "#   target_close_df = pd.DataFrame()\n",
        "#   target_close_df[\"Close\"] = target_close_list\n",
        "\n",
        "#   target_close_df[\"Volitility\"] = target_close_df[\"Close\"].rolling(volity_int).std()\n",
        "\n",
        "#   # print(len(volatility), len(target_close_df[\"Close\"]))\n",
        "\n",
        "  \n",
        "#   targets = [0] * len(target_close_df.Close)\n",
        "\n",
        "#   targets = np.where(target_close_df.Close.shift(-1) >= (target_close_df.Close * (1 + alph)), \n",
        "#            1, targets)\n",
        "\n",
        "#   return targets"
      ],
      "metadata": {
        "id": "Pe89LdnsLltO"
      },
      "execution_count": 53,
      "outputs": []
    },
    {
      "cell_type": "code",
      "source": [
        "volity_val = 10\n",
        "alph = .0055\n",
        "y_train_pre_final = buildTargets(X_train_pre_final, alph=alph,  volity_int = volity_val)\n",
        "y_val_pre_final = buildTargets(X_val_pre_final, alph=alph, volity_int = volity_val)\n",
        "y_test_pre_final = buildTargets(X_test_pre_final, alph=alph, volity_int = volity_val)"
      ],
      "metadata": {
        "id": "4aYPOa7INyAl"
      },
      "execution_count": 54,
      "outputs": []
    },
    {
      "cell_type": "code",
      "source": [
        "def get_class_distribution(obj):\n",
        "    count_dict = {\n",
        "        \"up\": 0,\n",
        "        \"down\": 0,\n",
        "        \"flat\": 0,\n",
        "    }\n",
        "    \n",
        "    for i in obj:\n",
        "        if i == 2: \n",
        "            count_dict['up'] += 1\n",
        "        elif i == 1: \n",
        "            count_dict['down'] += 1\n",
        "        elif i == 0: \n",
        "            count_dict['flat'] += 1             \n",
        "        else:\n",
        "            print(\"Check classes.\")\n",
        "            \n",
        "    return count_dict"
      ],
      "metadata": {
        "id": "vWIY2rwEYCfM"
      },
      "execution_count": 55,
      "outputs": []
    },
    {
      "cell_type": "code",
      "source": [
        "bfig, axes = plt.subplots(nrows=1, ncols=3, figsize=(25,7))\n",
        "# Train\n",
        "sns.barplot(data = pd.DataFrame.from_dict([get_class_distribution(y_train_pre_final)]).melt(), x = \"variable\", y=\"value\", hue=\"variable\",  ax=axes[0]).set_title('Class Distribution in Train Set')\n",
        "# Validation\n",
        "sns.barplot(data = pd.DataFrame.from_dict([get_class_distribution(y_val_pre_final)]).melt(), x = \"variable\", y=\"value\", hue=\"variable\",  ax=axes[1]).set_title('Class Distribution in Val Set')\n",
        "# Test\n",
        "sns.barplot(data = pd.DataFrame.from_dict([get_class_distribution(y_test_pre_final)]).melt(), x = \"variable\", y=\"value\", hue=\"variable\",  ax=axes[2]).set_title('Class Distribution in Test Set')"
      ],
      "metadata": {
        "id": "-BsVCfr8YCiX",
        "outputId": "3e722492-22fe-4072-ed22-f84835c25739",
        "colab": {
          "base_uri": "https://localhost:8080/",
          "height": 361
        }
      },
      "execution_count": 56,
      "outputs": [
        {
          "output_type": "execute_result",
          "data": {
            "text/plain": [
              "Text(0.5, 1.0, 'Class Distribution in Test Set')"
            ]
          },
          "metadata": {},
          "execution_count": 56
        },
        {
          "output_type": "display_data",
          "data": {
            "image/png": "[encoded data removed]",
            "text/plain": [
              "<Figure size 1800x504 with 3 Axes>"
            ]
          },
          "metadata": {
            "needs_background": "light"
          }
        }
      ]
    },
    {
      "cell_type": "code",
      "source": [
        "def createFinalData_RemoveLateAfternoonData(arr, labels):\n",
        "\n",
        "  assert arr.shape[0] == len(labels), \"X data do not match length of y labels\"\n",
        "\n",
        "  step_count = 0\n",
        "  filtered_y_labels = []\n",
        "\n",
        "  for i in range(arr.shape[0]):\n",
        "\n",
        "    if i == 0:\n",
        "      final_arr = arr[i]\n",
        "      filtered_y_labels.append(labels[i])\n",
        "      #print(f'Appending index {i}, step_count: {step_count}')\n",
        "      step_count += 1\n",
        "\n",
        "    elif i == 1:\n",
        "\n",
        "      final_arr = np.stack((final_arr, arr[i]))\n",
        "      filtered_y_labels.append(labels[i])\n",
        "      step_count += 1\n",
        "\n",
        "    elif step_count == 0: \n",
        "      final_arr = np.vstack((final_arr, arr[i][None]))\n",
        "      filtered_y_labels.append(labels[i])\n",
        "      #print(f'Appending index {i}, step_count: {step_count}')\n",
        "      step_count += 1\n",
        "    \n",
        "    elif (step_count) % 5 == 0:\n",
        "      #print(f'skipping {i} array, step_count: {step_count}')\n",
        "      step_count += 1\n",
        "\n",
        "    elif (step_count) % 6 == 0:\n",
        "      #print(f'skipping {i} array, step_count: {step_count}')\n",
        "      step_count += 1\n",
        "\n",
        "    elif (step_count) % 7 == 0:\n",
        "      #print(f'skipping {i} array, step_count: {step_count}')\n",
        "      step_count = 0\n",
        "    \n",
        "    else:\n",
        "      final_arr = np.vstack((final_arr, arr[i][None]))\n",
        "      filtered_y_labels.append(labels[i])\n",
        "      #print(f'Appending index {i}, step_count: {step_count}')\n",
        "      step_count += 1\n",
        "  \n",
        "  return final_arr, filtered_y_labels\n",
        "\n",
        "X_train, y_train = createFinalData_RemoveLateAfternoonData(X_train_pre_final, y_train_pre_final)\n",
        "X_val, y_val = createFinalData_RemoveLateAfternoonData(X_val_pre_final, y_val_pre_final)\n",
        "X_test, y_test = createFinalData_RemoveLateAfternoonData(X_test_pre_final, y_test_pre_final)\n",
        "\n",
        "y_train = np.array(y_train)\n",
        "y_val = np.array(y_val)\n",
        "y_test = np.array(y_test)"
      ],
      "metadata": {
        "id": "1XdpMcVCo2_b"
      },
      "execution_count": 57,
      "outputs": []
    },
    {
      "cell_type": "code",
      "source": [
        "# Check it arrays are made correctly\n",
        "train[12:48]"
      ],
      "metadata": {
        "id": "ZyvritE4qPNR",
        "outputId": "beddc2f0-4047-4cc6-de55-a12b8ad6cba4",
        "colab": {
          "base_uri": "https://localhost:8080/",
          "height": 1000
        }
      },
      "execution_count": 58,
      "outputs": [
        {
          "output_type": "execute_result",
          "data": {
            "text/html": [
              "\n",
              "  <div id=\"df-53dbf523-d279-4f16-8f97-9a413a10677b\">\n",
              "    <div class=\"colab-df-container\">\n",
              "      <div>\n",
              "<style scoped>\n",
              "    .dataframe tbody tr th:only-of-type {\n",
              "        vertical-align: middle;\n",
              "    }\n",
              "\n",
              "    .dataframe tbody tr th {\n",
              "        vertical-align: top;\n",
              "    }\n",
              "\n",
              "    .dataframe thead th {\n",
              "        text-align: right;\n",
              "    }\n",
              "</style>\n",
              "<table border=\"1\" class=\"dataframe\">\n",
              "  <thead>\n",
              "    <tr style=\"text-align: right;\">\n",
              "      <th></th>\n",
              "      <th>Open</th>\n",
              "      <th>High</th>\n",
              "      <th>Low</th>\n",
              "      <th>Close</th>\n",
              "      <th>Volume</th>\n",
              "      <th>VolumeWeightedAvgPrice</th>\n",
              "    </tr>\n",
              "    <tr>\n",
              "      <th>Time</th>\n",
              "      <th></th>\n",
              "      <th></th>\n",
              "      <th></th>\n",
              "      <th></th>\n",
              "      <th></th>\n",
              "      <th></th>\n",
              "    </tr>\n",
              "  </thead>\n",
              "  <tbody>\n",
              "    <tr>\n",
              "      <th>2016-12-20 10:30:00-05:00</th>\n",
              "      <td>61.5000</td>\n",
              "      <td>61.7900</td>\n",
              "      <td>61.490</td>\n",
              "      <td>61.7800</td>\n",
              "      <td>21875.0</td>\n",
              "      <td>61.644031</td>\n",
              "    </tr>\n",
              "    <tr>\n",
              "      <th>2016-12-20 10:35:00-05:00</th>\n",
              "      <td>61.7900</td>\n",
              "      <td>61.7900</td>\n",
              "      <td>61.695</td>\n",
              "      <td>61.7400</td>\n",
              "      <td>37493.0</td>\n",
              "      <td>61.751602</td>\n",
              "    </tr>\n",
              "    <tr>\n",
              "      <th>2016-12-20 10:40:00-05:00</th>\n",
              "      <td>61.7300</td>\n",
              "      <td>61.7600</td>\n",
              "      <td>61.710</td>\n",
              "      <td>61.7600</td>\n",
              "      <td>19382.0</td>\n",
              "      <td>61.738131</td>\n",
              "    </tr>\n",
              "    <tr>\n",
              "      <th>2016-12-20 10:45:00-05:00</th>\n",
              "      <td>61.7400</td>\n",
              "      <td>61.7500</td>\n",
              "      <td>61.640</td>\n",
              "      <td>61.7400</td>\n",
              "      <td>26687.0</td>\n",
              "      <td>61.690345</td>\n",
              "    </tr>\n",
              "    <tr>\n",
              "      <th>2016-12-20 10:50:00-05:00</th>\n",
              "      <td>61.7500</td>\n",
              "      <td>61.7800</td>\n",
              "      <td>61.620</td>\n",
              "      <td>61.7250</td>\n",
              "      <td>26644.0</td>\n",
              "      <td>61.715064</td>\n",
              "    </tr>\n",
              "    <tr>\n",
              "      <th>2016-12-20 10:55:00-05:00</th>\n",
              "      <td>61.7223</td>\n",
              "      <td>61.7250</td>\n",
              "      <td>61.590</td>\n",
              "      <td>61.6000</td>\n",
              "      <td>19877.0</td>\n",
              "      <td>61.651561</td>\n",
              "    </tr>\n",
              "    <tr>\n",
              "      <th>2016-12-20 11:00:00-05:00</th>\n",
              "      <td>61.6100</td>\n",
              "      <td>61.7400</td>\n",
              "      <td>61.605</td>\n",
              "      <td>61.7350</td>\n",
              "      <td>37987.0</td>\n",
              "      <td>61.671862</td>\n",
              "    </tr>\n",
              "    <tr>\n",
              "      <th>2016-12-20 11:05:00-05:00</th>\n",
              "      <td>61.7300</td>\n",
              "      <td>61.8000</td>\n",
              "      <td>61.680</td>\n",
              "      <td>61.7800</td>\n",
              "      <td>26351.0</td>\n",
              "      <td>61.734328</td>\n",
              "    </tr>\n",
              "    <tr>\n",
              "      <th>2016-12-20 11:10:00-05:00</th>\n",
              "      <td>61.7800</td>\n",
              "      <td>61.7827</td>\n",
              "      <td>61.675</td>\n",
              "      <td>61.6900</td>\n",
              "      <td>24555.0</td>\n",
              "      <td>61.725269</td>\n",
              "    </tr>\n",
              "    <tr>\n",
              "      <th>2016-12-20 11:15:00-05:00</th>\n",
              "      <td>61.6900</td>\n",
              "      <td>61.7000</td>\n",
              "      <td>61.600</td>\n",
              "      <td>61.6600</td>\n",
              "      <td>19277.0</td>\n",
              "      <td>61.648800</td>\n",
              "    </tr>\n",
              "    <tr>\n",
              "      <th>2016-12-20 11:20:00-05:00</th>\n",
              "      <td>61.6423</td>\n",
              "      <td>61.6600</td>\n",
              "      <td>61.540</td>\n",
              "      <td>61.5751</td>\n",
              "      <td>25573.0</td>\n",
              "      <td>61.604691</td>\n",
              "    </tr>\n",
              "    <tr>\n",
              "      <th>2016-12-20 11:25:00-05:00</th>\n",
              "      <td>61.5800</td>\n",
              "      <td>61.6000</td>\n",
              "      <td>61.480</td>\n",
              "      <td>61.4990</td>\n",
              "      <td>22187.0</td>\n",
              "      <td>61.526690</td>\n",
              "    </tr>\n",
              "    <tr>\n",
              "      <th>2016-12-20 11:30:00-05:00</th>\n",
              "      <td>61.5000</td>\n",
              "      <td>61.5800</td>\n",
              "      <td>61.490</td>\n",
              "      <td>61.5500</td>\n",
              "      <td>27318.0</td>\n",
              "      <td>61.545290</td>\n",
              "    </tr>\n",
              "    <tr>\n",
              "      <th>2016-12-20 11:35:00-05:00</th>\n",
              "      <td>61.5400</td>\n",
              "      <td>61.6000</td>\n",
              "      <td>61.510</td>\n",
              "      <td>61.5709</td>\n",
              "      <td>16816.0</td>\n",
              "      <td>61.557565</td>\n",
              "    </tr>\n",
              "    <tr>\n",
              "      <th>2016-12-20 11:40:00-05:00</th>\n",
              "      <td>61.5900</td>\n",
              "      <td>61.6499</td>\n",
              "      <td>61.585</td>\n",
              "      <td>61.6150</td>\n",
              "      <td>20763.0</td>\n",
              "      <td>61.619387</td>\n",
              "    </tr>\n",
              "    <tr>\n",
              "      <th>2016-12-20 11:45:00-05:00</th>\n",
              "      <td>61.6300</td>\n",
              "      <td>61.6300</td>\n",
              "      <td>61.551</td>\n",
              "      <td>61.5510</td>\n",
              "      <td>15349.0</td>\n",
              "      <td>61.581552</td>\n",
              "    </tr>\n",
              "    <tr>\n",
              "      <th>2016-12-20 11:50:00-05:00</th>\n",
              "      <td>61.5650</td>\n",
              "      <td>61.6400</td>\n",
              "      <td>61.540</td>\n",
              "      <td>61.5500</td>\n",
              "      <td>23757.0</td>\n",
              "      <td>61.590605</td>\n",
              "    </tr>\n",
              "    <tr>\n",
              "      <th>2016-12-20 11:55:00-05:00</th>\n",
              "      <td>61.5500</td>\n",
              "      <td>61.6100</td>\n",
              "      <td>61.535</td>\n",
              "      <td>61.5400</td>\n",
              "      <td>15746.0</td>\n",
              "      <td>61.577823</td>\n",
              "    </tr>\n",
              "    <tr>\n",
              "      <th>2016-12-20 12:00:00-05:00</th>\n",
              "      <td>61.5400</td>\n",
              "      <td>61.5500</td>\n",
              "      <td>61.460</td>\n",
              "      <td>61.4800</td>\n",
              "      <td>17873.0</td>\n",
              "      <td>61.502147</td>\n",
              "    </tr>\n",
              "    <tr>\n",
              "      <th>2016-12-20 12:05:00-05:00</th>\n",
              "      <td>61.4900</td>\n",
              "      <td>61.6100</td>\n",
              "      <td>61.470</td>\n",
              "      <td>61.5900</td>\n",
              "      <td>17515.0</td>\n",
              "      <td>61.540136</td>\n",
              "    </tr>\n",
              "    <tr>\n",
              "      <th>2016-12-20 12:10:00-05:00</th>\n",
              "      <td>61.5850</td>\n",
              "      <td>61.6000</td>\n",
              "      <td>61.570</td>\n",
              "      <td>61.5999</td>\n",
              "      <td>13815.0</td>\n",
              "      <td>61.588814</td>\n",
              "    </tr>\n",
              "    <tr>\n",
              "      <th>2016-12-20 12:15:00-05:00</th>\n",
              "      <td>61.5999</td>\n",
              "      <td>61.7300</td>\n",
              "      <td>61.580</td>\n",
              "      <td>61.7200</td>\n",
              "      <td>47864.0</td>\n",
              "      <td>61.625531</td>\n",
              "    </tr>\n",
              "    <tr>\n",
              "      <th>2016-12-20 12:20:00-05:00</th>\n",
              "      <td>61.7300</td>\n",
              "      <td>61.7350</td>\n",
              "      <td>61.600</td>\n",
              "      <td>61.6000</td>\n",
              "      <td>10293.0</td>\n",
              "      <td>61.664121</td>\n",
              "    </tr>\n",
              "    <tr>\n",
              "      <th>2016-12-20 12:25:00-05:00</th>\n",
              "      <td>61.6100</td>\n",
              "      <td>61.6200</td>\n",
              "      <td>61.550</td>\n",
              "      <td>61.5500</td>\n",
              "      <td>20343.0</td>\n",
              "      <td>61.593420</td>\n",
              "    </tr>\n",
              "    <tr>\n",
              "      <th>2016-12-20 12:30:00-05:00</th>\n",
              "      <td>61.5500</td>\n",
              "      <td>61.5900</td>\n",
              "      <td>61.545</td>\n",
              "      <td>61.5600</td>\n",
              "      <td>19501.0</td>\n",
              "      <td>61.570638</td>\n",
              "    </tr>\n",
              "    <tr>\n",
              "      <th>2016-12-20 12:35:00-05:00</th>\n",
              "      <td>61.5650</td>\n",
              "      <td>61.6200</td>\n",
              "      <td>61.550</td>\n",
              "      <td>61.6200</td>\n",
              "      <td>22708.0</td>\n",
              "      <td>61.571169</td>\n",
              "    </tr>\n",
              "    <tr>\n",
              "      <th>2016-12-20 12:40:00-05:00</th>\n",
              "      <td>61.6200</td>\n",
              "      <td>61.6300</td>\n",
              "      <td>61.600</td>\n",
              "      <td>61.6300</td>\n",
              "      <td>11056.0</td>\n",
              "      <td>61.615253</td>\n",
              "    </tr>\n",
              "    <tr>\n",
              "      <th>2016-12-20 12:45:00-05:00</th>\n",
              "      <td>61.6100</td>\n",
              "      <td>61.7000</td>\n",
              "      <td>61.610</td>\n",
              "      <td>61.7000</td>\n",
              "      <td>10454.0</td>\n",
              "      <td>61.651660</td>\n",
              "    </tr>\n",
              "    <tr>\n",
              "      <th>2016-12-20 12:50:00-05:00</th>\n",
              "      <td>61.7000</td>\n",
              "      <td>61.7050</td>\n",
              "      <td>61.620</td>\n",
              "      <td>61.6400</td>\n",
              "      <td>10861.0</td>\n",
              "      <td>61.660516</td>\n",
              "    </tr>\n",
              "    <tr>\n",
              "      <th>2016-12-20 12:55:00-05:00</th>\n",
              "      <td>61.6400</td>\n",
              "      <td>61.6800</td>\n",
              "      <td>61.640</td>\n",
              "      <td>61.6500</td>\n",
              "      <td>8791.0</td>\n",
              "      <td>61.658186</td>\n",
              "    </tr>\n",
              "    <tr>\n",
              "      <th>2016-12-20 13:00:00-05:00</th>\n",
              "      <td>61.6400</td>\n",
              "      <td>61.6800</td>\n",
              "      <td>61.625</td>\n",
              "      <td>61.6300</td>\n",
              "      <td>16542.0</td>\n",
              "      <td>61.646452</td>\n",
              "    </tr>\n",
              "    <tr>\n",
              "      <th>2016-12-20 13:05:00-05:00</th>\n",
              "      <td>61.6400</td>\n",
              "      <td>61.6600</td>\n",
              "      <td>61.605</td>\n",
              "      <td>61.6100</td>\n",
              "      <td>14951.0</td>\n",
              "      <td>61.635545</td>\n",
              "    </tr>\n",
              "    <tr>\n",
              "      <th>2016-12-20 13:10:00-05:00</th>\n",
              "      <td>61.6100</td>\n",
              "      <td>61.6700</td>\n",
              "      <td>61.605</td>\n",
              "      <td>61.6275</td>\n",
              "      <td>18374.0</td>\n",
              "      <td>61.639356</td>\n",
              "    </tr>\n",
              "    <tr>\n",
              "      <th>2016-12-20 13:15:00-05:00</th>\n",
              "      <td>61.6350</td>\n",
              "      <td>61.6900</td>\n",
              "      <td>61.620</td>\n",
              "      <td>61.6900</td>\n",
              "      <td>18333.0</td>\n",
              "      <td>61.650604</td>\n",
              "    </tr>\n",
              "    <tr>\n",
              "      <th>2016-12-20 13:20:00-05:00</th>\n",
              "      <td>61.6800</td>\n",
              "      <td>61.8000</td>\n",
              "      <td>61.680</td>\n",
              "      <td>61.7800</td>\n",
              "      <td>33168.0</td>\n",
              "      <td>61.754747</td>\n",
              "    </tr>\n",
              "    <tr>\n",
              "      <th>2016-12-20 13:25:00-05:00</th>\n",
              "      <td>61.7800</td>\n",
              "      <td>61.7850</td>\n",
              "      <td>61.725</td>\n",
              "      <td>61.7400</td>\n",
              "      <td>14809.0</td>\n",
              "      <td>61.747180</td>\n",
              "    </tr>\n",
              "  </tbody>\n",
              "</table>\n",
              "</div>\n",
              "      <button class=\"colab-df-convert\" onclick=\"convertToInteractive('df-53dbf523-d279-4f16-8f97-9a413a10677b')\"\n",
              "              title=\"Convert this dataframe to an interactive table.\"\n",
              "              style=\"display:none;\">\n",
              "        \n",
              "  <svg xmlns=\"http://www.w3.org/2000/svg\" height=\"24px\"viewBox=\"0 0 24 24\"\n",
              "       width=\"24px\">\n",
              "    <path d=\"M0 0h24v24H0V0z\" fill=\"none\"/>\n",
              "    <path d=\"M18.56 5.44l.94 2.06.94-2.06 2.06-.94-2.06-.94-.94-2.06-.94 2.06-2.06.94zm-11 1L8.5 8.5l.94-2.06 2.06-.94-2.06-.94L8.5 2.5l-.94 2.06-2.06.94zm10 10l.94 2.06.94-2.06 2.06-.94-2.06-.94-.94-2.06-.94 2.06-2.06.94z\"/><path d=\"M17.41 7.96l-1.37-1.37c-.4-.4-.92-.59-1.43-.59-.52 0-1.04.2-1.43.59L10.3 9.45l-7.72 7.72c-.78.78-.78 2.05 0 2.83L4 21.41c.39.39.9.59 1.41.59.51 0 1.02-.2 1.41-.59l7.78-7.78 2.81-2.81c.8-.78.8-2.07 0-2.86zM5.41 20L4 18.59l7.72-7.72 1.47 1.35L5.41 20z\"/>\n",
              "  </svg>\n",
              "      </button>\n",
              "      \n",
              "  <style>\n",
              "    .colab-df-container {\n",
              "      display:flex;\n",
              "      flex-wrap:wrap;\n",
              "      gap: 12px;\n",
              "    }\n",
              "\n",
              "    .colab-df-convert {\n",
              "      background-color: #E8F0FE;\n",
              "      border: none;\n",
              "      border-radius: 50%;\n",
              "      cursor: pointer;\n",
              "      display: none;\n",
              "      fill: #1967D2;\n",
              "      height: 32px;\n",
              "      padding: 0 0 0 0;\n",
              "      width: 32px;\n",
              "    }\n",
              "\n",
              "    .colab-df-convert:hover {\n",
              "      background-color: #E2EBFA;\n",
              "      box-shadow: 0px 1px 2px rgba(60, 64, 67, 0.3), 0px 1px 3px 1px rgba(60, 64, 67, 0.15);\n",
              "      fill: #174EA6;\n",
              "    }\n",
              "\n",
              "    [theme=dark] .colab-df-convert {\n",
              "      background-color: #3B4455;\n",
              "      fill: #D2E3FC;\n",
              "    }\n",
              "\n",
              "    [theme=dark] .colab-df-convert:hover {\n",
              "      background-color: #434B5C;\n",
              "      box-shadow: 0px 1px 3px 1px rgba(0, 0, 0, 0.15);\n",
              "      filter: drop-shadow(0px 1px 2px rgba(0, 0, 0, 0.3));\n",
              "      fill: #FFFFFF;\n",
              "    }\n",
              "  </style>\n",
              "\n",
              "      <script>\n",
              "        const buttonEl =\n",
              "          document.querySelector('#df-53dbf523-d279-4f16-8f97-9a413a10677b button.colab-df-convert');\n",
              "        buttonEl.style.display =\n",
              "          google.colab.kernel.accessAllowed ? 'block' : 'none';\n",
              "\n",
              "        async function convertToInteractive(key) {\n",
              "          const element = document.querySelector('#df-53dbf523-d279-4f16-8f97-9a413a10677b');\n",
              "          const dataTable =\n",
              "            await google.colab.kernel.invokeFunction('convertToInteractive',\n",
              "                                                     [key], {});\n",
              "          if (!dataTable) return;\n",
              "\n",
              "          const docLinkHtml = 'Like what you see? Visit the ' +\n",
              "            '<a target=\"_blank\" href=https://colab.research.google.com/notebooks/data_table.ipynb>data table notebook</a>'\n",
              "            + ' to learn more about interactive tables.';\n",
              "          element.innerHTML = '';\n",
              "          dataTable['output_type'] = 'display_data';\n",
              "          await google.colab.output.renderOutput(dataTable, element);\n",
              "          const docLink = document.createElement('div');\n",
              "          docLink.innerHTML = docLinkHtml;\n",
              "          element.appendChild(docLink);\n",
              "        }\n",
              "      </script>\n",
              "    </div>\n",
              "  </div>\n",
              "  "
            ],
            "text/plain": [
              "                              Open     High     Low    Close   Volume  \\\n",
              "Time                                                                    \n",
              "2016-12-20 10:30:00-05:00  61.5000  61.7900  61.490  61.7800  21875.0   \n",
              "2016-12-20 10:35:00-05:00  61.7900  61.7900  61.695  61.7400  37493.0   \n",
              "2016-12-20 10:40:00-05:00  61.7300  61.7600  61.710  61.7600  19382.0   \n",
              "2016-12-20 10:45:00-05:00  61.7400  61.7500  61.640  61.7400  26687.0   \n",
              "2016-12-20 10:50:00-05:00  61.7500  61.7800  61.620  61.7250  26644.0   \n",
              "2016-12-20 10:55:00-05:00  61.7223  61.7250  61.590  61.6000  19877.0   \n",
              "2016-12-20 11:00:00-05:00  61.6100  61.7400  61.605  61.7350  37987.0   \n",
              "2016-12-20 11:05:00-05:00  61.7300  61.8000  61.680  61.7800  26351.0   \n",
              "2016-12-20 11:10:00-05:00  61.7800  61.7827  61.675  61.6900  24555.0   \n",
              "2016-12-20 11:15:00-05:00  61.6900  61.7000  61.600  61.6600  19277.0   \n",
              "2016-12-20 11:20:00-05:00  61.6423  61.6600  61.540  61.5751  25573.0   \n",
              "2016-12-20 11:25:00-05:00  61.5800  61.6000  61.480  61.4990  22187.0   \n",
              "2016-12-20 11:30:00-05:00  61.5000  61.5800  61.490  61.5500  27318.0   \n",
              "2016-12-20 11:35:00-05:00  61.5400  61.6000  61.510  61.5709  16816.0   \n",
              "2016-12-20 11:40:00-05:00  61.5900  61.6499  61.585  61.6150  20763.0   \n",
              "2016-12-20 11:45:00-05:00  61.6300  61.6300  61.551  61.5510  15349.0   \n",
              "2016-12-20 11:50:00-05:00  61.5650  61.6400  61.540  61.5500  23757.0   \n",
              "2016-12-20 11:55:00-05:00  61.5500  61.6100  61.535  61.5400  15746.0   \n",
              "2016-12-20 12:00:00-05:00  61.5400  61.5500  61.460  61.4800  17873.0   \n",
              "2016-12-20 12:05:00-05:00  61.4900  61.6100  61.470  61.5900  17515.0   \n",
              "2016-12-20 12:10:00-05:00  61.5850  61.6000  61.570  61.5999  13815.0   \n",
              "2016-12-20 12:15:00-05:00  61.5999  61.7300  61.580  61.7200  47864.0   \n",
              "2016-12-20 12:20:00-05:00  61.7300  61.7350  61.600  61.6000  10293.0   \n",
              "2016-12-20 12:25:00-05:00  61.6100  61.6200  61.550  61.5500  20343.0   \n",
              "2016-12-20 12:30:00-05:00  61.5500  61.5900  61.545  61.5600  19501.0   \n",
              "2016-12-20 12:35:00-05:00  61.5650  61.6200  61.550  61.6200  22708.0   \n",
              "2016-12-20 12:40:00-05:00  61.6200  61.6300  61.600  61.6300  11056.0   \n",
              "2016-12-20 12:45:00-05:00  61.6100  61.7000  61.610  61.7000  10454.0   \n",
              "2016-12-20 12:50:00-05:00  61.7000  61.7050  61.620  61.6400  10861.0   \n",
              "2016-12-20 12:55:00-05:00  61.6400  61.6800  61.640  61.6500   8791.0   \n",
              "2016-12-20 13:00:00-05:00  61.6400  61.6800  61.625  61.6300  16542.0   \n",
              "2016-12-20 13:05:00-05:00  61.6400  61.6600  61.605  61.6100  14951.0   \n",
              "2016-12-20 13:10:00-05:00  61.6100  61.6700  61.605  61.6275  18374.0   \n",
              "2016-12-20 13:15:00-05:00  61.6350  61.6900  61.620  61.6900  18333.0   \n",
              "2016-12-20 13:20:00-05:00  61.6800  61.8000  61.680  61.7800  33168.0   \n",
              "2016-12-20 13:25:00-05:00  61.7800  61.7850  61.725  61.7400  14809.0   \n",
              "\n",
              "                           VolumeWeightedAvgPrice  \n",
              "Time                                               \n",
              "2016-12-20 10:30:00-05:00               61.644031  \n",
              "2016-12-20 10:35:00-05:00               61.751602  \n",
              "2016-12-20 10:40:00-05:00               61.738131  \n",
              "2016-12-20 10:45:00-05:00               61.690345  \n",
              "2016-12-20 10:50:00-05:00               61.715064  \n",
              "2016-12-20 10:55:00-05:00               61.651561  \n",
              "2016-12-20 11:00:00-05:00               61.671862  \n",
              "2016-12-20 11:05:00-05:00               61.734328  \n",
              "2016-12-20 11:10:00-05:00               61.725269  \n",
              "2016-12-20 11:15:00-05:00               61.648800  \n",
              "2016-12-20 11:20:00-05:00               61.604691  \n",
              "2016-12-20 11:25:00-05:00               61.526690  \n",
              "2016-12-20 11:30:00-05:00               61.545290  \n",
              "2016-12-20 11:35:00-05:00               61.557565  \n",
              "2016-12-20 11:40:00-05:00               61.619387  \n",
              "2016-12-20 11:45:00-05:00               61.581552  \n",
              "2016-12-20 11:50:00-05:00               61.590605  \n",
              "2016-12-20 11:55:00-05:00               61.577823  \n",
              "2016-12-20 12:00:00-05:00               61.502147  \n",
              "2016-12-20 12:05:00-05:00               61.540136  \n",
              "2016-12-20 12:10:00-05:00               61.588814  \n",
              "2016-12-20 12:15:00-05:00               61.625531  \n",
              "2016-12-20 12:20:00-05:00               61.664121  \n",
              "2016-12-20 12:25:00-05:00               61.593420  \n",
              "2016-12-20 12:30:00-05:00               61.570638  \n",
              "2016-12-20 12:35:00-05:00               61.571169  \n",
              "2016-12-20 12:40:00-05:00               61.615253  \n",
              "2016-12-20 12:45:00-05:00               61.651660  \n",
              "2016-12-20 12:50:00-05:00               61.660516  \n",
              "2016-12-20 12:55:00-05:00               61.658186  \n",
              "2016-12-20 13:00:00-05:00               61.646452  \n",
              "2016-12-20 13:05:00-05:00               61.635545  \n",
              "2016-12-20 13:10:00-05:00               61.639356  \n",
              "2016-12-20 13:15:00-05:00               61.650604  \n",
              "2016-12-20 13:20:00-05:00               61.754747  \n",
              "2016-12-20 13:25:00-05:00               61.747180  "
            ]
          },
          "metadata": {},
          "execution_count": 58
        }
      ]
    },
    {
      "cell_type": "code",
      "source": [
        "np.set_printoptions(threshold=200)\n",
        "y_train_pre_final[50:75]"
      ],
      "metadata": {
        "id": "Bi-1VYrmn0Eb",
        "outputId": "493bd23d-74dc-4ee1-cc33-550ea87fff10",
        "colab": {
          "base_uri": "https://localhost:8080/"
        }
      },
      "execution_count": 59,
      "outputs": [
        {
          "output_type": "execute_result",
          "data": {
            "text/plain": [
              "array([0, 0, 0, 0, 2, 0, 2, 1, 0, 0, 0, 0, 1, 1, 2, 0, 1, 0, 0, 0, 0, 0, 0, 0, 0])"
            ]
          },
          "metadata": {},
          "execution_count": 59
        }
      ]
    },
    {
      "cell_type": "code",
      "source": [
        "######\n",
        "# Code fro scaling at a later date\n",
        "######\n",
        "\n",
        "# from sklearn.preprocessing import MinMaxScaler\n",
        "\n",
        "from sklearn.preprocessing import MinMaxScaler\n",
        "\n",
        "scalers = {}\n",
        "for i in range(X_train.shape[1]):\n",
        "    scalers[i] = MinMaxScaler()\n",
        "    X_train[:, i, :] = scalers[i].fit_transform(X_train[:, i, :]) \n",
        "\n",
        "for i in range(X_val.shape[1]):\n",
        "    X_val[:, i, :] = scalers[i].transform(X_val[:, i, :]) \n",
        "\n",
        "for i in range(X_test.shape[1]):\n",
        "    X_test[:, i, :] = scalers[i].transform(X_test[:, i, :]) \n",
        "    "
      ],
      "metadata": {
        "id": "xPkrkhqV4Ef-"
      },
      "execution_count": 60,
      "outputs": []
    },
    {
      "cell_type": "code",
      "source": [
        "vbfig, axes = plt.subplots(nrows=1, ncols=3, figsize=(25,7))\n",
        "# Train\n",
        "sns.barplot(data = pd.DataFrame.from_dict([get_class_distribution(y_train)]).melt(), x = \"variable\", y=\"value\", hue=\"variable\",  ax=axes[0]).set_title('Class Distribution in Train Set')\n",
        "# Validation\n",
        "sns.barplot(data = pd.DataFrame.from_dict([get_class_distribution(y_val)]).melt(), x = \"variable\", y=\"value\", hue=\"variable\",  ax=axes[1]).set_title('Class Distribution in Val Set')\n",
        "# Test\n",
        "sns.barplot(data = pd.DataFrame.from_dict([get_class_distribution(y_test)]).melt(), x = \"variable\", y=\"value\", hue=\"variable\",  ax=axes[2]).set_title('Class Distribution in Test Set')"
      ],
      "metadata": {
        "outputId": "f685fd59-0110-49c0-9061-36558ac290d0",
        "colab": {
          "base_uri": "https://localhost:8080/",
          "height": 495
        },
        "id": "qqTz9-J7LGft"
      },
      "execution_count": 61,
      "outputs": [
        {
          "output_type": "execute_result",
          "data": {
            "text/plain": [
              "Text(0.5, 1.0, 'Class Distribution in Test Set')"
            ]
          },
          "metadata": {},
          "execution_count": 61
        },
        {
          "output_type": "display_data",
          "data": {
            "image/png": "[encoded data removed]",
            "text/plain": [
              "<Figure size 1800x504 with 3 Axes>"
            ]
          },
          "metadata": {
            "needs_background": "light"
          }
        }
      ]
    },
    {
      "cell_type": "markdown",
      "source": [
        "# LSTM Prediction"
      ],
      "metadata": {
        "id": "5tXPYV5lcRBx"
      }
    },
    {
      "cell_type": "code",
      "source": [
        "import torch #pytorch\n",
        "import torch.nn as nn\n",
        "from torch.autograd import Variable "
      ],
      "metadata": {
        "id": "BaUT5J7bcQHe"
      },
      "execution_count": 102,
      "outputs": []
    },
    {
      "cell_type": "code",
      "source": [
        "###### ONLY EXECUTE FOR KERAS 2D CNN #####\n",
        "\n",
        "X_train_1d = X_train.reshape(X_train.shape[0], \n",
        "                          X_train.shape[1], \n",
        "                          X_train.shape[2],\n",
        "                          )\n",
        "X_val_1d = X_val.reshape(X_val.shape[0],\n",
        "                          X_val.shape[1], \n",
        "                          X_val.shape[2],\n",
        "                          )\n",
        "X_test_1d = X_test.reshape(X_test.shape[0],\n",
        "                          X_test.shape[1], \n",
        "                          X_test.shape[2],\n",
        "                          )\n",
        "\n",
        "from tensorflow.keras.utils import to_categorical\n",
        "\n",
        "y_train_final = to_categorical(y_train, 3)\n",
        "y_val_final = to_categorical(y_val, 3)\n",
        "y_test_final = to_categorical(y_test, 3)"
      ],
      "metadata": {
        "id": "aaX4It05cei9"
      },
      "execution_count": 103,
      "outputs": []
    },
    {
      "cell_type": "code",
      "source": [
        "X_train_tensors = Variable(torch.Tensor(X_train_1d))\n",
        "X_val_tensors = Variable(torch.Tensor(X_val_1d))\n",
        "\n",
        "y_train_tensors = Variable(torch.Tensor(y_train_final))\n",
        "y_val_tensors = Variable(torch.Tensor(y_val_final)) "
      ],
      "metadata": {
        "id": "uOQkkyxYcnlG"
      },
      "execution_count": 105,
      "outputs": []
    },
    {
      "cell_type": "code",
      "source": [
        "X_train_tensors_final = torch.reshape(X_train_tensors,   (X_train_tensors.shape[0], X_train_tensors.shape[1], X_train_tensors.shape[2]))\n",
        "X_val_tensors_final = torch.reshape(X_val_tensors,  (X_test_tensors.shape[0], X_train_tensors.shape[1], X_test_tensors.shape[2])) "
      ],
      "metadata": {
        "id": "c0l3ieVmcxFm"
      },
      "execution_count": 106,
      "outputs": []
    },
    {
      "cell_type": "code",
      "source": [
        ""
      ],
      "metadata": {
        "id": "3j-HX3ZBdCgm"
      },
      "execution_count": null,
      "outputs": []
    },
    {
      "cell_type": "markdown",
      "source": [
        "# KERAS 1D Model"
      ],
      "metadata": {
        "id": "qtbdKWSK7l7o"
      }
    },
    {
      "cell_type": "code",
      "source": [
        "from typing import List, Tuple\n",
        "\n",
        "import keras.backend as K\n",
        "import keras.layers\n",
        "from keras import optimizers\n",
        "from tensorflow.keras.layers import Layer, Input\n",
        "from keras.layers import Activation, Lambda\n",
        "from keras.layers import Conv1D, SpatialDropout1D\n",
        "from keras.layers import Convolution1D, Dense\n",
        "from keras.models import Input, Model\n",
        "\n",
        "\n",
        "def residual_block(x, dilation_rate, nb_filters, kernel_size, padding, activation='relu', dropout_rate=0):\n",
        "    # type: (Layer, int, int, int, str, str, float) -> Tuple[Layer, Layer]\n",
        "    \"\"\"Defines the residual block for the WaveNet TCN\n",
        "    Args:\n",
        "        x: The previous layer in the model\n",
        "        dilation_rate: The dilation power of 2 we are using for this residual block\n",
        "        nb_filters: The number of convolutional filters to use in this block\n",
        "        kernel_size: The size of the convolutional kernel\n",
        "        padding: The padding used in the convolutional layers, 'same' or 'causal'.\n",
        "        activation: The final activation used in o = Activation(x + F(x))\n",
        "        dropout_rate: Float between 0 and 1. Fraction of the input units to drop.\n",
        "    Returns:\n",
        "        A tuple where the first element is the residual model layer, and the second\n",
        "        is the skip connection.\n",
        "    \"\"\"\n",
        "    prev_x = x\n",
        "    for k in range(2):\n",
        "        x = Conv1D(filters=nb_filters,\n",
        "                   kernel_size=kernel_size,\n",
        "                   dilation_rate=dilation_rate,\n",
        "                   padding=padding)(x)\n",
        "        # x = BatchNormalization()(x)  # TODO should be WeightNorm here.\n",
        "        x = Activation('relu')(x)\n",
        "        x = SpatialDropout1D(rate=dropout_rate)(x)\n",
        "\n",
        "    # 1x1 conv to match the shapes (channel dimension).\n",
        "    prev_x = Conv1D(nb_filters, 1, padding='same')(prev_x)\n",
        "    res_x = keras.layers.add([prev_x, x])\n",
        "    res_x = Activation(activation)(res_x)\n",
        "    return res_x, x\n",
        "\n",
        "\n",
        "def process_dilations(dilations):\n",
        "    def is_power_of_two(num):\n",
        "        return num != 0 and ((num & (num - 1)) == 0)\n",
        "\n",
        "    if all([is_power_of_two(i) for i in dilations]):\n",
        "        return dilations\n",
        "\n",
        "    else:\n",
        "        new_dilations = [2 ** i for i in dilations]\n",
        "        return new_dilations\n",
        "\n",
        "\n",
        "class TCN_2D(Layer):\n",
        "    \"\"\"Creates a TCN layer.\n",
        "        Input shape:\n",
        "            A tensor of shape (batch_size, timesteps, input_dim).\n",
        "        Args:\n",
        "            nb_filters: The number of filters to use in the convolutional layers.\n",
        "            kernel_size: The size of the kernel to use in each convolutional layer.\n",
        "            dilations: The list of the dilations. Example is: [1, 2, 4, 8, 16, 32, 64].\n",
        "            nb_stacks : The number of stacks of residual blocks to use.\n",
        "            padding: The padding to use in the convolutional layers, 'causal' or 'same'.\n",
        "            use_skip_connections: Boolean. If we want to add skip connections from input to each residual block.\n",
        "            return_sequences: Boolean. Whether to return the last output in the output sequence, or the full sequence.\n",
        "            activation: The activation used in the residual blocks o = Activation(x + F(x)).\n",
        "            dropout_rate: Float between 0 and 1. Fraction of the input units to drop.\n",
        "            name: Name of the model. Useful when having multiple TCN.\n",
        "        Returns:\n",
        "            A TCN layer.\n",
        "        \"\"\"\n",
        "\n",
        "    def __init__(self,\n",
        "                 nb_filters=64,\n",
        "                 kernel_size=2,\n",
        "                 nb_stacks=1,\n",
        "                 dilations=[1, 2, 4, 8, 16, 32],\n",
        "                 padding='causal',\n",
        "                 use_skip_connections=True,\n",
        "                 dropout_rate=0.0,\n",
        "                 return_sequences=False,\n",
        "                 activation='linear',\n",
        "                 name = \"\"\n",
        "                 ):\n",
        "        self.name = name\n",
        "        self.return_sequences = return_sequences\n",
        "        self.dropout_rate = dropout_rate\n",
        "        self.use_skip_connections = use_skip_connections\n",
        "        self.dilations = dilations\n",
        "        self.nb_stacks = nb_stacks\n",
        "        self.kernel_size = kernel_size\n",
        "        self.nb_filters = nb_filters\n",
        "        self.activation = activation\n",
        "        self.padding = padding\n",
        "\n",
        "        if padding != 'causal' and padding != 'same':\n",
        "            raise ValueError(\"Only 'causal' or 'same' padding are compatible for this layer.\")\n",
        "\n",
        "        if not isinstance(nb_filters, int):\n",
        "            print('An interface change occurred after the version 2.1.2.')\n",
        "            print('Before: tcn.TCN(x, return_sequences=False, ...)')\n",
        "            print('Now should be: tcn.TCN(return_sequences=False, ...)(x)')\n",
        "            print('The alternative is to downgrade to 2.1.2 (pip install keras-tcn==2.1.2).')\n",
        "            raise Exception()\n",
        "\n",
        "    def __call__(self, inputs):\n",
        "        x = inputs\n",
        "        # 1D FCN.\n",
        "        x = Convolution1D(self.nb_filters, 1, padding=self.padding)(x)\n",
        "        skip_connections = []\n",
        "        for s in range(self.nb_stacks):\n",
        "            for d in self.dilations:\n",
        "                x, skip_out = residual_block(x,\n",
        "                                             dilation_rate=d,\n",
        "                                             nb_filters=self.nb_filters,\n",
        "                                             kernel_size=self.kernel_size,\n",
        "                                             padding=self.padding,\n",
        "                                             activation=self.activation,\n",
        "                                             dropout_rate=self.dropout_rate)\n",
        "                skip_connections.append(skip_out)\n",
        "        if self.use_skip_connections:\n",
        "            x = keras.layers.add(skip_connections)\n",
        "        if not self.return_sequences:\n",
        "            x = Lambda(lambda tt: tt[:, -1, :])(x)\n",
        "        return x"
      ],
      "metadata": {
        "id": "Ds8jn0H4BxNU"
      },
      "execution_count": 62,
      "outputs": []
    },
    {
      "cell_type": "code",
      "source": [
        "###### ONLY EXECUTE FOR KERAS 2D CNN #####\n",
        "\n",
        "X_train_1d = X_train.reshape(X_train.shape[0], \n",
        "                          X_train.shape[1], \n",
        "                          X_train.shape[2],\n",
        "                          )\n",
        "X_val_1d = X_val.reshape(X_val.shape[0],\n",
        "                          X_val.shape[1], \n",
        "                          X_val.shape[2],\n",
        "                          )\n",
        "X_test_1d = X_test.reshape(X_test.shape[0],\n",
        "                          X_test.shape[1], \n",
        "                          X_test.shape[2],\n",
        "                          )\n",
        "\n",
        "from tensorflow.keras.utils import to_categorical\n",
        "\n",
        "y_train_final = to_categorical(y_train, 3)\n",
        "y_val_final = to_categorical(y_val, 3)\n",
        "y_test_final = to_categorical(y_test, 3)\n"
      ],
      "metadata": {
        "id": "lNIh0H7JVnF5"
      },
      "execution_count": 74,
      "outputs": []
    },
    {
      "cell_type": "code",
      "source": [
        "print(f'X Train Length {X_train_1d.shape}, y Train Label Length {y_train_final.shape}')\n",
        "print(f'X Val Length {X_val_1d.shape}, y Val Label Length {y_val_final.shape}')\n",
        "print(f'X Test Length {X_test_1d.shape}, y Test Label Length {y_test_final.shape}')"
      ],
      "metadata": {
        "colab": {
          "base_uri": "https://localhost:8080/"
        },
        "outputId": "4b29d5e1-14f0-4fa2-a87c-274038286844",
        "id": "xUtWCihJoI1e"
      },
      "execution_count": 75,
      "outputs": [
        {
          "output_type": "stream",
          "name": "stdout",
          "text": [
            "X Train Length (4055, 5, 24), y Train Label Length (4055, 3)\n",
            "X Val Length (1435, 5, 24), y Val Label Length (1435, 3)\n",
            "X Test Length (1095, 5, 24), y Test Label Length (1095, 3)\n"
          ]
        }
      ]
    },
    {
      "cell_type": "code",
      "source": [
        "!pip install keras-tcn"
      ],
      "metadata": {
        "id": "ppjXiMlXTpzi",
        "outputId": "38fad479-b6a7-4bf5-fd4a-8c0e66f018b8",
        "colab": {
          "base_uri": "https://localhost:8080/"
        }
      },
      "execution_count": 76,
      "outputs": [
        {
          "output_type": "stream",
          "name": "stdout",
          "text": [
            "Requirement already satisfied: keras-tcn in /usr/local/lib/python3.7/dist-packages (3.4.2)\n",
            "Requirement already satisfied: numpy in /usr/local/lib/python3.7/dist-packages (from keras-tcn) (1.21.5)\n",
            "Requirement already satisfied: tensorflow in /usr/local/lib/python3.7/dist-packages (from keras-tcn) (2.8.0)\n",
            "Requirement already satisfied: tensorflow-addons in /usr/local/lib/python3.7/dist-packages (from keras-tcn) (0.16.1)\n",
            "Requirement already satisfied: keras<2.9,>=2.8.0rc0 in /usr/local/lib/python3.7/dist-packages (from tensorflow->keras-tcn) (2.8.0)\n",
            "Requirement already satisfied: tf-estimator-nightly==2.8.0.dev2021122109 in /usr/local/lib/python3.7/dist-packages (from tensorflow->keras-tcn) (2.8.0.dev2021122109)\n",
            "Requirement already satisfied: google-pasta>=0.1.1 in /usr/local/lib/python3.7/dist-packages (from tensorflow->keras-tcn) (0.2.0)\n",
            "Requirement already satisfied: typing-extensions>=3.6.6 in /usr/local/lib/python3.7/dist-packages (from tensorflow->keras-tcn) (3.10.0.2)\n",
            "Requirement already satisfied: opt-einsum>=2.3.2 in /usr/local/lib/python3.7/dist-packages (from tensorflow->keras-tcn) (3.3.0)\n",
            "Requirement already satisfied: flatbuffers>=1.12 in /usr/local/lib/python3.7/dist-packages (from tensorflow->keras-tcn) (2.0)\n",
            "Requirement already satisfied: h5py>=2.9.0 in /usr/local/lib/python3.7/dist-packages (from tensorflow->keras-tcn) (3.1.0)\n",
            "Requirement already satisfied: grpcio<2.0,>=1.24.3 in /usr/local/lib/python3.7/dist-packages (from tensorflow->keras-tcn) (1.44.0)\n",
            "Requirement already satisfied: six>=1.12.0 in /usr/local/lib/python3.7/dist-packages (from tensorflow->keras-tcn) (1.15.0)\n",
            "Requirement already satisfied: keras-preprocessing>=1.1.1 in /usr/local/lib/python3.7/dist-packages (from tensorflow->keras-tcn) (1.1.2)\n",
            "Requirement already satisfied: tensorflow-io-gcs-filesystem>=0.23.1 in /usr/local/lib/python3.7/dist-packages (from tensorflow->keras-tcn) (0.24.0)\n",
            "Requirement already satisfied: libclang>=9.0.1 in /usr/local/lib/python3.7/dist-packages (from tensorflow->keras-tcn) (13.0.0)\n",
            "Requirement already satisfied: absl-py>=0.4.0 in /usr/local/lib/python3.7/dist-packages (from tensorflow->keras-tcn) (1.0.0)\n",
            "Requirement already satisfied: setuptools in /usr/local/lib/python3.7/dist-packages (from tensorflow->keras-tcn) (57.4.0)\n",
            "Requirement already satisfied: astunparse>=1.6.0 in /usr/local/lib/python3.7/dist-packages (from tensorflow->keras-tcn) (1.6.3)\n",
            "Requirement already satisfied: wrapt>=1.11.0 in /usr/local/lib/python3.7/dist-packages (from tensorflow->keras-tcn) (1.13.3)\n",
            "Requirement already satisfied: gast>=0.2.1 in /usr/local/lib/python3.7/dist-packages (from tensorflow->keras-tcn) (0.5.3)\n",
            "Requirement already satisfied: tensorboard<2.9,>=2.8 in /usr/local/lib/python3.7/dist-packages (from tensorflow->keras-tcn) (2.8.0)\n",
            "Requirement already satisfied: termcolor>=1.1.0 in /usr/local/lib/python3.7/dist-packages (from tensorflow->keras-tcn) (1.1.0)\n",
            "Requirement already satisfied: protobuf>=3.9.2 in /usr/local/lib/python3.7/dist-packages (from tensorflow->keras-tcn) (3.17.3)\n",
            "Requirement already satisfied: wheel<1.0,>=0.23.0 in /usr/local/lib/python3.7/dist-packages (from astunparse>=1.6.0->tensorflow->keras-tcn) (0.37.1)\n",
            "Requirement already satisfied: cached-property in /usr/local/lib/python3.7/dist-packages (from h5py>=2.9.0->tensorflow->keras-tcn) (1.5.2)\n",
            "Requirement already satisfied: requests<3,>=2.21.0 in /usr/local/lib/python3.7/dist-packages (from tensorboard<2.9,>=2.8->tensorflow->keras-tcn) (2.23.0)\n",
            "Requirement already satisfied: google-auth-oauthlib<0.5,>=0.4.1 in /usr/local/lib/python3.7/dist-packages (from tensorboard<2.9,>=2.8->tensorflow->keras-tcn) (0.4.6)\n",
            "Requirement already satisfied: google-auth<3,>=1.6.3 in /usr/local/lib/python3.7/dist-packages (from tensorboard<2.9,>=2.8->tensorflow->keras-tcn) (1.35.0)\n",
            "Requirement already satisfied: werkzeug>=0.11.15 in /usr/local/lib/python3.7/dist-packages (from tensorboard<2.9,>=2.8->tensorflow->keras-tcn) (1.0.1)\n",
            "Requirement already satisfied: markdown>=2.6.8 in /usr/local/lib/python3.7/dist-packages (from tensorboard<2.9,>=2.8->tensorflow->keras-tcn) (3.3.6)\n",
            "Requirement already satisfied: tensorboard-plugin-wit>=1.6.0 in /usr/local/lib/python3.7/dist-packages (from tensorboard<2.9,>=2.8->tensorflow->keras-tcn) (1.8.1)\n",
            "Requirement already satisfied: tensorboard-data-server<0.7.0,>=0.6.0 in /usr/local/lib/python3.7/dist-packages (from tensorboard<2.9,>=2.8->tensorflow->keras-tcn) (0.6.1)\n",
            "Requirement already satisfied: pyasn1-modules>=0.2.1 in /usr/local/lib/python3.7/dist-packages (from google-auth<3,>=1.6.3->tensorboard<2.9,>=2.8->tensorflow->keras-tcn) (0.2.8)\n",
            "Requirement already satisfied: cachetools<5.0,>=2.0.0 in /usr/local/lib/python3.7/dist-packages (from google-auth<3,>=1.6.3->tensorboard<2.9,>=2.8->tensorflow->keras-tcn) (4.2.4)\n",
            "Requirement already satisfied: rsa<5,>=3.1.4 in /usr/local/lib/python3.7/dist-packages (from google-auth<3,>=1.6.3->tensorboard<2.9,>=2.8->tensorflow->keras-tcn) (4.8)\n",
            "Requirement already satisfied: requests-oauthlib>=0.7.0 in /usr/local/lib/python3.7/dist-packages (from google-auth-oauthlib<0.5,>=0.4.1->tensorboard<2.9,>=2.8->tensorflow->keras-tcn) (1.3.1)\n",
            "Requirement already satisfied: importlib-metadata>=4.4 in /usr/local/lib/python3.7/dist-packages (from markdown>=2.6.8->tensorboard<2.9,>=2.8->tensorflow->keras-tcn) (4.11.2)\n",
            "Requirement already satisfied: zipp>=0.5 in /usr/local/lib/python3.7/dist-packages (from importlib-metadata>=4.4->markdown>=2.6.8->tensorboard<2.9,>=2.8->tensorflow->keras-tcn) (3.7.0)\n",
            "Requirement already satisfied: pyasn1<0.5.0,>=0.4.6 in /usr/local/lib/python3.7/dist-packages (from pyasn1-modules>=0.2.1->google-auth<3,>=1.6.3->tensorboard<2.9,>=2.8->tensorflow->keras-tcn) (0.4.8)\n",
            "Requirement already satisfied: chardet<4,>=3.0.2 in /usr/local/lib/python3.7/dist-packages (from requests<3,>=2.21.0->tensorboard<2.9,>=2.8->tensorflow->keras-tcn) (3.0.4)\n",
            "Requirement already satisfied: idna<3,>=2.5 in /usr/local/lib/python3.7/dist-packages (from requests<3,>=2.21.0->tensorboard<2.9,>=2.8->tensorflow->keras-tcn) (2.10)\n",
            "Requirement already satisfied: certifi>=2017.4.17 in /usr/local/lib/python3.7/dist-packages (from requests<3,>=2.21.0->tensorboard<2.9,>=2.8->tensorflow->keras-tcn) (2021.10.8)\n",
            "Requirement already satisfied: urllib3!=1.25.0,!=1.25.1,<1.26,>=1.21.1 in /usr/local/lib/python3.7/dist-packages (from requests<3,>=2.21.0->tensorboard<2.9,>=2.8->tensorflow->keras-tcn) (1.24.3)\n",
            "Requirement already satisfied: oauthlib>=3.0.0 in /usr/local/lib/python3.7/dist-packages (from requests-oauthlib>=0.7.0->google-auth-oauthlib<0.5,>=0.4.1->tensorboard<2.9,>=2.8->tensorflow->keras-tcn) (3.2.0)\n",
            "Requirement already satisfied: typeguard>=2.7 in /usr/local/lib/python3.7/dist-packages (from tensorflow-addons->keras-tcn) (2.7.1)\n"
          ]
        }
      ]
    },
    {
      "cell_type": "code",
      "source": [
        "import tensorflow as tf\n",
        "import keras.backend as K\n",
        "from keras.callbacks import EarlyStopping, Callback\n",
        "from keras.models import Sequential\n",
        "from keras.layers import Dense, BatchNormalization\n",
        "from keras.layers import Flatten\n",
        "from keras.layers import Dropout\n",
        "from keras.models import Input, Model\n",
        "from keras.layers.convolutional import Conv1D\n",
        "from keras.layers.convolutional import MaxPooling1D\n",
        "from tensorflow.keras.optimizers import Adam, Nadam\n",
        "\n",
        "from tcn import TCN, tcn_full_summary"
      ],
      "metadata": {
        "id": "MUE5rS-l7z9B"
      },
      "execution_count": 77,
      "outputs": []
    },
    {
      "cell_type": "code",
      "source": [
        "tcn_layer = TCN(input_shape=(X_train.shape[1],X_train.shape[2]),  kernel_size = 3, return_sequences=True)\n",
        "# The receptive field tells you how far the model can see in terms of timesteps.\n",
        "print('Receptive field size =', tcn_layer.receptive_field)\n",
        "\n",
        "m = Sequential([\n",
        "    tcn_layer,\n",
        "    Dense(3)\n",
        "])\n",
        "\n",
        "m.compile(optimizer='adam', loss='mse', metrics=['accuracy'])\n",
        "\n",
        "\n",
        "hist = m.fit(X_train_1d, y_train_final, epochs=100, validation_split=0.2)"
      ],
      "metadata": {
        "id": "NTLWsPmBVl4J",
        "outputId": "cd2cee93-0fb7-41ab-9d8c-31a6cf419c21",
        "colab": {
          "base_uri": "https://localhost:8080/",
          "height": 797
        }
      },
      "execution_count": 101,
      "outputs": [
        {
          "output_type": "stream",
          "name": "stdout",
          "text": [
            "Receptive field size = 253\n",
            "Epoch 1/100\n"
          ]
        },
        {
          "output_type": "error",
          "ename": "ValueError",
          "evalue": "ignored",
          "traceback": [
            "\u001b[0;31m---------------------------------------------------------------------------\u001b[0m",
            "\u001b[0;31mValueError\u001b[0m                                Traceback (most recent call last)",
            "\u001b[0;32m<ipython-input-101-69628173bf58>\u001b[0m in \u001b[0;36m<module>\u001b[0;34m()\u001b[0m\n\u001b[1;32m     11\u001b[0m \u001b[0;34m\u001b[0m\u001b[0m\n\u001b[1;32m     12\u001b[0m \u001b[0;34m\u001b[0m\u001b[0m\n\u001b[0;32m---> 13\u001b[0;31m \u001b[0mhist\u001b[0m \u001b[0;34m=\u001b[0m \u001b[0mm\u001b[0m\u001b[0;34m.\u001b[0m\u001b[0mfit\u001b[0m\u001b[0;34m(\u001b[0m\u001b[0mX_train_1d\u001b[0m\u001b[0;34m,\u001b[0m \u001b[0my_train_final\u001b[0m\u001b[0;34m,\u001b[0m \u001b[0mepochs\u001b[0m\u001b[0;34m=\u001b[0m\u001b[0;36m100\u001b[0m\u001b[0;34m,\u001b[0m \u001b[0mvalidation_split\u001b[0m\u001b[0;34m=\u001b[0m\u001b[0;36m0.2\u001b[0m\u001b[0;34m)\u001b[0m\u001b[0;34m\u001b[0m\u001b[0;34m\u001b[0m\u001b[0m\n\u001b[0m",
            "\u001b[0;32m/usr/local/lib/python3.7/dist-packages/keras/utils/traceback_utils.py\u001b[0m in \u001b[0;36merror_handler\u001b[0;34m(*args, **kwargs)\u001b[0m\n\u001b[1;32m     65\u001b[0m     \u001b[0;32mexcept\u001b[0m \u001b[0mException\u001b[0m \u001b[0;32mas\u001b[0m \u001b[0me\u001b[0m\u001b[0;34m:\u001b[0m  \u001b[0;31m# pylint: disable=broad-except\u001b[0m\u001b[0;34m\u001b[0m\u001b[0;34m\u001b[0m\u001b[0m\n\u001b[1;32m     66\u001b[0m       \u001b[0mfiltered_tb\u001b[0m \u001b[0;34m=\u001b[0m \u001b[0m_process_traceback_frames\u001b[0m\u001b[0;34m(\u001b[0m\u001b[0me\u001b[0m\u001b[0;34m.\u001b[0m\u001b[0m__traceback__\u001b[0m\u001b[0;34m)\u001b[0m\u001b[0;34m\u001b[0m\u001b[0;34m\u001b[0m\u001b[0m\n\u001b[0;32m---> 67\u001b[0;31m       \u001b[0;32mraise\u001b[0m \u001b[0me\u001b[0m\u001b[0;34m.\u001b[0m\u001b[0mwith_traceback\u001b[0m\u001b[0;34m(\u001b[0m\u001b[0mfiltered_tb\u001b[0m\u001b[0;34m)\u001b[0m \u001b[0;32mfrom\u001b[0m \u001b[0;32mNone\u001b[0m\u001b[0;34m\u001b[0m\u001b[0;34m\u001b[0m\u001b[0m\n\u001b[0m\u001b[1;32m     68\u001b[0m     \u001b[0;32mfinally\u001b[0m\u001b[0;34m:\u001b[0m\u001b[0;34m\u001b[0m\u001b[0;34m\u001b[0m\u001b[0m\n\u001b[1;32m     69\u001b[0m       \u001b[0;32mdel\u001b[0m \u001b[0mfiltered_tb\u001b[0m\u001b[0;34m\u001b[0m\u001b[0;34m\u001b[0m\u001b[0m\n",
            "\u001b[0;32m/usr/local/lib/python3.7/dist-packages/tensorflow/python/framework/func_graph.py\u001b[0m in \u001b[0;36mautograph_handler\u001b[0;34m(*args, **kwargs)\u001b[0m\n\u001b[1;32m   1145\u001b[0m           \u001b[0;32mexcept\u001b[0m \u001b[0mException\u001b[0m \u001b[0;32mas\u001b[0m \u001b[0me\u001b[0m\u001b[0;34m:\u001b[0m  \u001b[0;31m# pylint:disable=broad-except\u001b[0m\u001b[0;34m\u001b[0m\u001b[0;34m\u001b[0m\u001b[0m\n\u001b[1;32m   1146\u001b[0m             \u001b[0;32mif\u001b[0m \u001b[0mhasattr\u001b[0m\u001b[0;34m(\u001b[0m\u001b[0me\u001b[0m\u001b[0;34m,\u001b[0m \u001b[0;34m\"ag_error_metadata\"\u001b[0m\u001b[0;34m)\u001b[0m\u001b[0;34m:\u001b[0m\u001b[0;34m\u001b[0m\u001b[0;34m\u001b[0m\u001b[0m\n\u001b[0;32m-> 1147\u001b[0;31m               \u001b[0;32mraise\u001b[0m \u001b[0me\u001b[0m\u001b[0;34m.\u001b[0m\u001b[0mag_error_metadata\u001b[0m\u001b[0;34m.\u001b[0m\u001b[0mto_exception\u001b[0m\u001b[0;34m(\u001b[0m\u001b[0me\u001b[0m\u001b[0;34m)\u001b[0m\u001b[0;34m\u001b[0m\u001b[0;34m\u001b[0m\u001b[0m\n\u001b[0m\u001b[1;32m   1148\u001b[0m             \u001b[0;32melse\u001b[0m\u001b[0;34m:\u001b[0m\u001b[0;34m\u001b[0m\u001b[0;34m\u001b[0m\u001b[0m\n\u001b[1;32m   1149\u001b[0m               \u001b[0;32mraise\u001b[0m\u001b[0;34m\u001b[0m\u001b[0;34m\u001b[0m\u001b[0m\n",
            "\u001b[0;31mValueError\u001b[0m: in user code:\n\n    File \"/usr/local/lib/python3.7/dist-packages/keras/engine/training.py\", line 1021, in train_function  *\n        return step_function(self, iterator)\n    File \"/usr/local/lib/python3.7/dist-packages/keras/engine/training.py\", line 1010, in step_function  **\n        outputs = model.distribute_strategy.run(run_step, args=(data,))\n    File \"/usr/local/lib/python3.7/dist-packages/keras/engine/training.py\", line 1000, in run_step  **\n        outputs = model.train_step(data)\n    File \"/usr/local/lib/python3.7/dist-packages/keras/engine/training.py\", line 864, in train_step\n        return self.compute_metrics(x, y, y_pred, sample_weight)\n    File \"/usr/local/lib/python3.7/dist-packages/keras/engine/training.py\", line 957, in compute_metrics\n        self.compiled_metrics.update_state(y, y_pred, sample_weight)\n    File \"/usr/local/lib/python3.7/dist-packages/keras/engine/compile_utils.py\", line 459, in update_state\n        metric_obj.update_state(y_t, y_p, sample_weight=mask)\n    File \"/usr/local/lib/python3.7/dist-packages/keras/utils/metrics_utils.py\", line 70, in decorated\n        update_op = update_state_fn(*args, **kwargs)\n    File \"/usr/local/lib/python3.7/dist-packages/keras/metrics.py\", line 178, in update_state_fn\n        return ag_update_state(*args, **kwargs)\n    File \"/usr/local/lib/python3.7/dist-packages/keras/metrics.py\", line 729, in update_state  **\n        matches = ag_fn(y_true, y_pred, **self._fn_kwargs)\n    File \"/usr/local/lib/python3.7/dist-packages/keras/metrics.py\", line 4086, in sparse_categorical_accuracy\n        return tf.cast(tf.equal(y_true, y_pred), backend.floatx())\n\n    ValueError: Dimensions must be equal, but are 3 and 5 for '{{node Equal}} = Equal[T=DT_FLOAT, incompatible_shape_error=true](IteratorGetNext:1, Cast_1)' with input shapes: [?,3], [?,5].\n"
          ]
        }
      ]
    },
    {
      "cell_type": "code",
      "source": [
        "plt.plot(hist.history['loss'], label='train loss')\n",
        "plt.plot(hist.history['val_loss'], label='val loss')\n",
        "plt.legend()\n",
        "plt.show()\n",
        "plt.savefig('LossVal_loss')"
      ],
      "metadata": {
        "id": "Z8oNnSOkWil-",
        "outputId": "016a3b46-e7a1-40f7-e909-21f6c29cf5c6",
        "colab": {
          "base_uri": "https://localhost:8080/",
          "height": 285
        }
      },
      "execution_count": 83,
      "outputs": [
        {
          "output_type": "display_data",
          "data": {
            "image/png": "[encoded data removed]",
            "text/plain": [
              "<Figure size 432x288 with 1 Axes>"
            ]
          },
          "metadata": {
            "needs_background": "light"
          }
        },
        {
          "output_type": "display_data",
          "data": {
            "text/plain": [
              "<Figure size 432x288 with 0 Axes>"
            ]
          },
          "metadata": {}
        }
      ]
    },
    {
      "cell_type": "code",
      "source": [
        "plt.plot(hist.history['accuracy'], label='train acc')\n",
        "plt.plot(hist.history['val_accuracy'], label='val acc')\n",
        "plt.legend()\n",
        "plt.show()\n",
        "plt.savefig('AccVal_acc')"
      ],
      "metadata": {
        "id": "HFKPV65gW-z7",
        "outputId": "ef609e32-3270-4aad-fb6e-9afef9399a34",
        "colab": {
          "base_uri": "https://localhost:8080/",
          "height": 282
        }
      },
      "execution_count": 84,
      "outputs": [
        {
          "output_type": "display_data",
          "data": {
            "image/png": "[encoded data removed]",
            "text/plain": [
              "<Figure size 432x288 with 1 Axes>"
            ]
          },
          "metadata": {
            "needs_background": "light"
          }
        },
        {
          "output_type": "display_data",
          "data": {
            "text/plain": [
              "<Figure size 432x288 with 0 Axes>"
            ]
          },
          "metadata": {}
        }
      ]
    },
    {
      "cell_type": "code",
      "source": [
        "y_val_pred = m.predict(X_test_1d)"
      ],
      "metadata": {
        "id": "YDZPZcyMXBNA"
      },
      "execution_count": 94,
      "outputs": []
    },
    {
      "cell_type": "code",
      "source": [
        "# Calculate the accuracy\n",
        "test_preds = np.argmax(y_val_pred, axis=1)\n",
        "y_true = np.argmax(y_test_final, axis=1)\n",
        "test_acc = np.sum(test_preds == y_true)/y_true.shape[0]\n",
        "\n",
        "# Recall for each class\n",
        "recall_vals = []\n",
        "for i in range(3):\n",
        "    class_idx = np.argwhere(y_true==i)\n",
        "    total = len(class_idx)\n",
        "    correct = np.sum(test_preds[class_idx]==i)\n",
        "    recall = correct / total\n",
        "    recall_vals.append(recall)\n",
        "\n",
        "classes = [0, 1, 2]\n",
        "# Calculate the test set accuracy and recall for each class\n",
        "print('Test set accuracy is {:.3f}'.format(test_acc))\n",
        "for i in range(3):\n",
        "    print('For class {}, recall is {:.3f}'.format(classes[i],recall_vals[i]))\n",
        "\n",
        "print(\"Accuracy is {:.3f}\".format(test_acc))\n",
        "# print(\"Weighted F score is {:.3f}\".format(calculate_weighted_f_score(y_true, y_pred)))"
      ],
      "metadata": {
        "id": "EO2oGmbHXBKU",
        "outputId": "70e0c4cc-7b18-4970-f50c-eadb0aa6e160",
        "colab": {
          "base_uri": "https://localhost:8080/"
        }
      },
      "execution_count": 95,
      "outputs": [
        {
          "output_type": "stream",
          "name": "stdout",
          "text": [
            "Test set accuracy is 0.517\n",
            "For class 0, recall is 0.904\n",
            "For class 1, recall is 0.108\n",
            "For class 2, recall is 0.016\n",
            "Accuracy is 0.517\n"
          ]
        }
      ]
    },
    {
      "cell_type": "code",
      "source": [
        "from sklearn.metrics import confusion_matrix\n",
        "\n",
        "def plot_confusion_matrix(cm,\n",
        "                          target_names,\n",
        "                          title='Confusion matrix',\n",
        "                          cmap=None,\n",
        "                          normalize=True):\n",
        "    \"\"\"\n",
        "    given a sklearn confusion matrix (cm), make a nice plot\n",
        "\n",
        "    Arguments\n",
        "    ---------\n",
        "    cm:           confusion matrix from sklearn.metrics.confusion_matrix\n",
        "\n",
        "    target_names: given classification classes such as [0, 1, 2]\n",
        "                  the class names, for example: ['high', 'medium', 'low']\n",
        "\n",
        "    title:        the text to display at the top of the matrix\n",
        "\n",
        "    cmap:         the gradient of the values displayed from matplotlib.pyplot.cm\n",
        "                  see http://matplotlib.org/examples/color/colormaps_reference.html\n",
        "                  plt.get_cmap('jet') or plt.cm.Blues\n",
        "\n",
        "    normalize:    If False, plot the raw numbers\n",
        "                  If True, plot the proportions\n",
        "\n",
        "    Usage\n",
        "    -----\n",
        "    plot_confusion_matrix(cm           = cm,                  # confusion matrix created by\n",
        "                                                              # sklearn.metrics.confusion_matrix\n",
        "                          normalize    = True,                # show proportions\n",
        "                          target_names = y_labels_vals,       # list of names of the classes\n",
        "                          title        = best_estimator_name) # title of graph\n",
        "\n",
        "    Citiation\n",
        "    ---------\n",
        "    http://scikit-learn.org/stable/auto_examples/model_selection/plot_confusion_matrix.html\n",
        "\n",
        "    \"\"\"\n",
        "    import matplotlib.pyplot as plt\n",
        "    import numpy as np\n",
        "    import itertools\n",
        "\n",
        "    accuracy = np.trace(cm) / np.sum(cm).astype('float')\n",
        "    misclass = 1 - accuracy\n",
        "\n",
        "    if cmap is None:\n",
        "        cmap = plt.get_cmap('Blues')\n",
        "\n",
        "    plt.figure(figsize=(8, 6))\n",
        "    plt.imshow(cm, interpolation='nearest', cmap=cmap)\n",
        "    plt.title(title)\n",
        "    plt.colorbar()\n",
        "\n",
        "    if target_names is not None:\n",
        "        tick_marks = np.arange(len(target_names))\n",
        "        plt.xticks(tick_marks, target_names, rotation=45)\n",
        "        plt.yticks(tick_marks, target_names)\n",
        "\n",
        "    if normalize:\n",
        "        cm = cm.astype('float') / cm.sum(axis=1)[:, np.newaxis]\n",
        "\n",
        "\n",
        "    thresh = cm.max() / 1.5 if normalize else cm.max() / 2\n",
        "    for i, j in itertools.product(range(cm.shape[0]), range(cm.shape[1])):\n",
        "        if normalize:\n",
        "            plt.text(j, i, \"{:0.4f}\".format(cm[i, j]),\n",
        "                     horizontalalignment=\"center\",\n",
        "                     color=\"white\" if cm[i, j] > thresh else \"black\")\n",
        "        else:\n",
        "            plt.text(j, i, \"{:,}\".format(cm[i, j]),\n",
        "                     horizontalalignment=\"center\",\n",
        "                     color=\"white\" if cm[i, j] > thresh else \"black\")\n",
        "\n",
        "\n",
        "    plt.tight_layout()\n",
        "    plt.ylabel('True label')\n",
        "    plt.xlabel('Predicted label\\naccuracy={:0.4f}; misclass={:0.4f}'.format(accuracy, misclass))\n",
        "    plt.show()\n",
        "\n",
        "nb_classes = 3\n",
        "\n",
        "# Confusion matrix\n",
        "conf_mat=confusion_matrix(y_true, np.argmax(y_val_pred, axis=-1))\n",
        "plot_confusion_matrix(conf_mat, [0,1,2])\n",
        "\n",
        "from sklearn.metrics import precision_score\n",
        "\n",
        "precision_score(y_true, np.argmax(y_val_pred, axis=-1), average='weighted')\n",
        "\n",
        "from sklearn.metrics import classification_report\n",
        "\n",
        "print(classification_report(y_true, np.argmax(y_val_pred, axis=-1), target_names=[\"flat\", \"down\", \"up\"], digits=4))"
      ],
      "metadata": {
        "id": "TYW7cFkTXBHL",
        "outputId": "d3579e4f-6013-41a7-e2f2-1c906eca9e40",
        "colab": {
          "base_uri": "https://localhost:8080/",
          "height": 641
        }
      },
      "execution_count": 96,
      "outputs": [
        {
          "output_type": "display_data",
          "data": {
            "image/png": "[encoded data removed]",
            "text/plain": [
              "<Figure size 576x432 with 2 Axes>"
            ]
          },
          "metadata": {
            "needs_background": "light"
          }
        },
        {
          "output_type": "stream",
          "name": "stdout",
          "text": [
            "              precision    recall  f1-score   support\n",
            "\n",
            "        flat     0.5511    0.9036    0.6846       591\n",
            "        down     0.2917    0.1081    0.1577       259\n",
            "          up     0.1333    0.0163    0.0291       245\n",
            "\n",
            "    accuracy                         0.5169      1095\n",
            "   macro avg     0.3254    0.3427    0.2905      1095\n",
            "weighted avg     0.3963    0.5169    0.4133      1095\n",
            "\n"
          ]
        }
      ]
    },
    {
      "cell_type": "code",
      "source": [
        "def calculate_weighted_f_score(y_true, y_pred):\n",
        "  test_preds = np.argmax(y_pred, axis=-1)\n",
        "  Ntu = sum((test_preds == 2) & (y_true == 2))\n",
        "  Ntd = sum((test_preds == 1) & (y_true == 1))\n",
        "  Ntf = sum((test_preds == 0) & (y_true == 0))\n",
        "  Ewutd = sum((test_preds == 2) & (y_true == 1))\n",
        "  Ewdtu = sum((test_preds == 1) & (y_true == 2))\n",
        "  Ewutf = sum((test_preds == 2) & (y_true == 0))\n",
        "  Ewdtf = sum((test_preds == 1) & (y_true == 0))\n",
        "  Ewftu = sum((test_preds == 0) & (y_true == 2))\n",
        "  Ewftd = sum((test_preds == 0) & (y_true == 1))\n",
        "\n",
        "  beta_1 = 0.5\n",
        "  beta_2 = 0.125\n",
        "  beta_3 = 0.125\n",
        "\n",
        "  Ntp = Ntu + Ntd + beta_3**2 * Ntf\n",
        "  E1 = Ewutd + Ewdtu\n",
        "  E2 = Ewutf + Ewdtf\n",
        "  E3 = Ewftu + Ewftd\n",
        "\n",
        "  F = (1 + beta_1**2 + beta_2**2) * Ntp / ((1+beta_1**2+beta_2**2) * Ntp + E1 + beta_1**2 * E2 + beta_2**2 * E3)\n",
        "  return  F\n",
        "\n",
        "print(f'Weight CDT F Score: {calculate_weighted_f_score(y_true, y_val_pred)}')"
      ],
      "metadata": {
        "id": "mTflymqSXBEb",
        "outputId": "fc68c033-c735-46d9-c189-82cdc62911b5",
        "colab": {
          "base_uri": "https://localhost:8080/"
        }
      },
      "execution_count": 89,
      "outputs": [
        {
          "output_type": "stream",
          "name": "stdout",
          "text": [
            "Weight CDT F Score: 0.4877044288636597\n"
          ]
        }
      ]
    },
    {
      "cell_type": "code",
      "source": [
        ""
      ],
      "metadata": {
        "id": "Ov5vdiMYXA9Z"
      },
      "execution_count": null,
      "outputs": []
    },
    {
      "cell_type": "code",
      "source": [
        "# Simple Model\n",
        "model = Sequential()\n",
        "model.name = \"My_Model\"\n",
        "model.add(Input(shape=(X_train.shape[1],X_train.shape[2])))\n",
        "model.add(TCN(return_sequences=False))\n",
        "# model.add(TCN(return_sequences=True, nb_filters=34, kernel_size=3))\n",
        "# model.add(TCN_2D(return_sequences=False, nb_filters=64, kernel_size=3,name=\"tcn2d_2\"))\n",
        "# model.add(Conv1D(filters=32, kernel_size=3, padding='same', activation='relu', input_shape=(X_train.shape[1],X_train.shape[2])))\n",
        "# model.add(MaxPooling1D(pool_size=3, strides=4, padding='same'))\n",
        "# model.add(Dropout(0.7))\n",
        "# model.add(Conv1D(filters=64, kernel_size=3, padding='same', activation='relu'))\n",
        "# model.add(MaxPooling1D(pool_size=3, strides=3, padding='same'))\n",
        "# model.add(Dropout(0.7))\n",
        "# model.add(Conv1D(filters=128, kernel_size=3, padding='same', activation='relu'))\n",
        "# model.add(MaxPooling1D(pool_size=3, strides=2, padding='same'))\n",
        "# model.add(Dropout(0.7))\n",
        "model.add(Flatten())\n",
        "model.add(Dense(1000,activation=\"relu\"))\n",
        "model.add(Dense(500,activation=\"relu\"))\n",
        "model.add(Dense(3,activation=\"softmax\"))\n",
        "model.summary()"
      ],
      "metadata": {
        "colab": {
          "base_uri": "https://localhost:8080/",
          "height": 450
        },
        "id": "zYwZW6eJ2HBu",
        "outputId": "c12e94f8-4a08-461a-d8f0-87ec3afa6bbf"
      },
      "execution_count": 70,
      "outputs": [
        {
          "output_type": "error",
          "ename": "AttributeError",
          "evalue": "ignored",
          "traceback": [
            "\u001b[0;31m---------------------------------------------------------------------------\u001b[0m",
            "\u001b[0;31mAttributeError\u001b[0m                            Traceback (most recent call last)",
            "\u001b[0;32m/usr/local/lib/python3.7/dist-packages/keras/engine/base_layer.py\u001b[0m in \u001b[0;36m__setattr__\u001b[0;34m(self, name, value)\u001b[0m\n\u001b[1;32m   2859\u001b[0m       \u001b[0;32mtry\u001b[0m\u001b[0;34m:\u001b[0m\u001b[0;34m\u001b[0m\u001b[0;34m\u001b[0m\u001b[0m\n\u001b[0;32m-> 2860\u001b[0;31m         \u001b[0msuper\u001b[0m\u001b[0;34m(\u001b[0m\u001b[0mtf\u001b[0m\u001b[0;34m.\u001b[0m\u001b[0m__internal__\u001b[0m\u001b[0;34m.\u001b[0m\u001b[0mtracking\u001b[0m\u001b[0;34m.\u001b[0m\u001b[0mAutoTrackable\u001b[0m\u001b[0;34m,\u001b[0m \u001b[0mself\u001b[0m\u001b[0;34m)\u001b[0m\u001b[0;34m.\u001b[0m\u001b[0m__setattr__\u001b[0m\u001b[0;34m(\u001b[0m\u001b[0mname\u001b[0m\u001b[0;34m,\u001b[0m \u001b[0mvalue\u001b[0m\u001b[0;34m)\u001b[0m  \u001b[0;31m# pylint: disable=bad-super-call\u001b[0m\u001b[0;34m\u001b[0m\u001b[0;34m\u001b[0m\u001b[0m\n\u001b[0m\u001b[1;32m   2861\u001b[0m       \u001b[0;32mexcept\u001b[0m \u001b[0mAttributeError\u001b[0m\u001b[0;34m:\u001b[0m\u001b[0;34m\u001b[0m\u001b[0;34m\u001b[0m\u001b[0m\n",
            "\u001b[0;31mAttributeError\u001b[0m: can't set attribute",
            "\nDuring handling of the above exception, another exception occurred:\n",
            "\u001b[0;31mAttributeError\u001b[0m                            Traceback (most recent call last)",
            "\u001b[0;32m<ipython-input-70-fe753e2626f0>\u001b[0m in \u001b[0;36m<module>\u001b[0;34m()\u001b[0m\n\u001b[1;32m      1\u001b[0m \u001b[0;31m# Simple Model\u001b[0m\u001b[0;34m\u001b[0m\u001b[0;34m\u001b[0m\u001b[0;34m\u001b[0m\u001b[0m\n\u001b[1;32m      2\u001b[0m \u001b[0mmodel\u001b[0m \u001b[0;34m=\u001b[0m \u001b[0mSequential\u001b[0m\u001b[0;34m(\u001b[0m\u001b[0;34m)\u001b[0m\u001b[0;34m\u001b[0m\u001b[0;34m\u001b[0m\u001b[0m\n\u001b[0;32m----> 3\u001b[0;31m \u001b[0mmodel\u001b[0m\u001b[0;34m.\u001b[0m\u001b[0mname\u001b[0m \u001b[0;34m=\u001b[0m \u001b[0;34m\"My_Model\"\u001b[0m\u001b[0;34m\u001b[0m\u001b[0;34m\u001b[0m\u001b[0m\n\u001b[0m\u001b[1;32m      4\u001b[0m \u001b[0mmodel\u001b[0m\u001b[0;34m.\u001b[0m\u001b[0madd\u001b[0m\u001b[0;34m(\u001b[0m\u001b[0mInput\u001b[0m\u001b[0;34m(\u001b[0m\u001b[0mshape\u001b[0m\u001b[0;34m=\u001b[0m\u001b[0;34m(\u001b[0m\u001b[0mX_train\u001b[0m\u001b[0;34m.\u001b[0m\u001b[0mshape\u001b[0m\u001b[0;34m[\u001b[0m\u001b[0;36m1\u001b[0m\u001b[0;34m]\u001b[0m\u001b[0;34m,\u001b[0m\u001b[0mX_train\u001b[0m\u001b[0;34m.\u001b[0m\u001b[0mshape\u001b[0m\u001b[0;34m[\u001b[0m\u001b[0;36m2\u001b[0m\u001b[0;34m]\u001b[0m\u001b[0;34m)\u001b[0m\u001b[0;34m)\u001b[0m\u001b[0;34m)\u001b[0m\u001b[0;34m\u001b[0m\u001b[0;34m\u001b[0m\u001b[0m\n\u001b[1;32m      5\u001b[0m \u001b[0mmodel\u001b[0m\u001b[0;34m.\u001b[0m\u001b[0madd\u001b[0m\u001b[0;34m(\u001b[0m\u001b[0mTCN\u001b[0m\u001b[0;34m(\u001b[0m\u001b[0mreturn_sequences\u001b[0m\u001b[0;34m=\u001b[0m\u001b[0;32mFalse\u001b[0m\u001b[0;34m)\u001b[0m\u001b[0;34m)\u001b[0m\u001b[0;34m\u001b[0m\u001b[0;34m\u001b[0m\u001b[0m\n",
            "\u001b[0;32m/usr/local/lib/python3.7/dist-packages/keras/engine/training.py\u001b[0m in \u001b[0;36m__setattr__\u001b[0;34m(self, name, value)\u001b[0m\n\u001b[1;32m    308\u001b[0m             ' Always start with this line.')\n\u001b[1;32m    309\u001b[0m \u001b[0;34m\u001b[0m\u001b[0m\n\u001b[0;32m--> 310\u001b[0;31m     \u001b[0msuper\u001b[0m\u001b[0;34m(\u001b[0m\u001b[0mModel\u001b[0m\u001b[0;34m,\u001b[0m \u001b[0mself\u001b[0m\u001b[0;34m)\u001b[0m\u001b[0;34m.\u001b[0m\u001b[0m__setattr__\u001b[0m\u001b[0;34m(\u001b[0m\u001b[0mname\u001b[0m\u001b[0;34m,\u001b[0m \u001b[0mvalue\u001b[0m\u001b[0;34m)\u001b[0m\u001b[0;34m\u001b[0m\u001b[0;34m\u001b[0m\u001b[0m\n\u001b[0m\u001b[1;32m    311\u001b[0m \u001b[0;34m\u001b[0m\u001b[0m\n\u001b[1;32m    312\u001b[0m   \u001b[0;32mdef\u001b[0m \u001b[0m__reduce__\u001b[0m\u001b[0;34m(\u001b[0m\u001b[0mself\u001b[0m\u001b[0;34m)\u001b[0m\u001b[0;34m:\u001b[0m\u001b[0;34m\u001b[0m\u001b[0;34m\u001b[0m\u001b[0m\n",
            "\u001b[0;32m/usr/local/lib/python3.7/dist-packages/keras/engine/base_layer.py\u001b[0m in \u001b[0;36m__setattr__\u001b[0;34m(self, name, value)\u001b[0m\n\u001b[1;32m   2863\u001b[0m             ('Can\\'t set the attribute \"{}\", likely because it conflicts with '\n\u001b[1;32m   2864\u001b[0m              \u001b[0;34m'an existing read-only @property of the object. Please choose a '\u001b[0m\u001b[0;34m\u001b[0m\u001b[0;34m\u001b[0m\u001b[0m\n\u001b[0;32m-> 2865\u001b[0;31m              'different name.').format(name))\n\u001b[0m\u001b[1;32m   2866\u001b[0m       \u001b[0;32mreturn\u001b[0m\u001b[0;34m\u001b[0m\u001b[0;34m\u001b[0m\u001b[0m\n\u001b[1;32m   2867\u001b[0m \u001b[0;34m\u001b[0m\u001b[0m\n",
            "\u001b[0;31mAttributeError\u001b[0m: Can't set the attribute \"name\", likely because it conflicts with an existing read-only @property of the object. Please choose a different name."
          ]
        }
      ]
    },
    {
      "cell_type": "code",
      "source": [
        "adam = Adam(learning_rate=0.001, decay=0.0001)\n",
        "nadam = Nadam(learning_rate=0.002, beta_1=0.9, beta_2=0.999, epsilon=1e-08, schedule_decay=0.004)\n",
        "\n",
        "model.compile(loss='binary_crossentropy', optimizer=adam, metrics=[\"accuracy\"]) "
      ],
      "metadata": {
        "id": "SOmAeEzs2HGb"
      },
      "execution_count": null,
      "outputs": []
    },
    {
      "cell_type": "code",
      "source": [
        "from keras.callbacks import EarlyStopping, Callback\n",
        "\n",
        "callback = EarlyStopping(monitor='loss', patience=5, min_delta=0.0001)\n",
        "\n",
        "batch_size = 12\n",
        "hist = model.fit(X_train_1d, y_train_final, batch_size=batch_size, epochs=15, callbacks=[callback], validation_data=(X_val_1d, y_val_final)) #, class_weight={0:1, 1:1.5})"
      ],
      "metadata": {
        "colab": {
          "base_uri": "https://localhost:8080/"
        },
        "id": "ux9JsTrE2HJz",
        "outputId": "ad468c76-dd09-4a80-a823-035fe7d5ecfa"
      },
      "execution_count": null,
      "outputs": [
        {
          "output_type": "stream",
          "name": "stdout",
          "text": [
            "Epoch 1/15\n",
            "339/339 [==============================] - 3s 9ms/step - loss: 0.0584 - accuracy: 0.9685 - val_loss: 2.9691 - val_accuracy: 0.4021\n",
            "Epoch 2/15\n",
            "339/339 [==============================] - 3s 9ms/step - loss: 0.0335 - accuracy: 0.9830 - val_loss: 3.4359 - val_accuracy: 0.4084\n",
            "Epoch 3/15\n",
            "339/339 [==============================] - 3s 9ms/step - loss: 0.0333 - accuracy: 0.9833 - val_loss: 3.3933 - val_accuracy: 0.4077\n",
            "Epoch 4/15\n",
            "339/339 [==============================] - 3s 9ms/step - loss: 0.0336 - accuracy: 0.9850 - val_loss: 3.5158 - val_accuracy: 0.4049\n",
            "Epoch 5/15\n",
            "339/339 [==============================] - 3s 9ms/step - loss: 0.0362 - accuracy: 0.9820 - val_loss: 3.5571 - val_accuracy: 0.4021\n",
            "Epoch 6/15\n",
            "339/339 [==============================] - 3s 10ms/step - loss: 0.0427 - accuracy: 0.9800 - val_loss: 3.5612 - val_accuracy: 0.3986\n",
            "Epoch 7/15\n",
            "339/339 [==============================] - 3s 9ms/step - loss: 0.0255 - accuracy: 0.9884 - val_loss: 3.6794 - val_accuracy: 0.4070\n",
            "Epoch 8/15\n",
            "339/339 [==============================] - 3s 9ms/step - loss: 0.0181 - accuracy: 0.9906 - val_loss: 3.9314 - val_accuracy: 0.3965\n",
            "Epoch 9/15\n",
            "339/339 [==============================] - 3s 9ms/step - loss: 0.0142 - accuracy: 0.9943 - val_loss: 4.0636 - val_accuracy: 0.3951\n",
            "Epoch 10/15\n",
            "339/339 [==============================] - 3s 10ms/step - loss: 0.0136 - accuracy: 0.9929 - val_loss: 4.0893 - val_accuracy: 0.3889\n",
            "Epoch 11/15\n",
            "339/339 [==============================] - 3s 10ms/step - loss: 0.0275 - accuracy: 0.9867 - val_loss: 4.0240 - val_accuracy: 0.3770\n",
            "Epoch 12/15\n",
            "339/339 [==============================] - 3s 10ms/step - loss: 0.0427 - accuracy: 0.9810 - val_loss: 3.5709 - val_accuracy: 0.4132\n",
            "Epoch 13/15\n",
            "339/339 [==============================] - 3s 10ms/step - loss: 0.0140 - accuracy: 0.9956 - val_loss: 4.0278 - val_accuracy: 0.3930\n",
            "Epoch 14/15\n",
            "339/339 [==============================] - 3s 10ms/step - loss: 0.0199 - accuracy: 0.9924 - val_loss: 3.7425 - val_accuracy: 0.4070\n",
            "Epoch 15/15\n",
            "339/339 [==============================] - 3s 9ms/step - loss: 0.0223 - accuracy: 0.9879 - val_loss: 4.1506 - val_accuracy: 0.3958\n"
          ]
        }
      ]
    },
    {
      "cell_type": "code",
      "source": [
        "plt.plot(hist.history['loss'], label='train loss')\n",
        "plt.plot(hist.history['val_loss'], label='val loss')\n",
        "plt.legend()\n",
        "plt.show()\n",
        "plt.savefig('LossVal_loss')"
      ],
      "metadata": {
        "id": "CMsqd9n02HMv",
        "colab": {
          "base_uri": "https://localhost:8080/",
          "height": 282
        },
        "outputId": "af442d0d-1962-460c-f70d-d8ff16220035"
      },
      "execution_count": null,
      "outputs": [
        {
          "output_type": "display_data",
          "data": {
            "image/png": "[encoded data removed]",
            "text/plain": [
              "<Figure size 432x288 with 1 Axes>"
            ]
          },
          "metadata": {
            "needs_background": "light"
          }
        },
        {
          "output_type": "display_data",
          "data": {
            "text/plain": [
              "<Figure size 432x288 with 0 Axes>"
            ]
          },
          "metadata": {}
        }
      ]
    },
    {
      "cell_type": "code",
      "source": [
        "plt.plot(hist.history['accuracy'], label='train acc')\n",
        "plt.plot(hist.history['val_accuracy'], label='val acc')\n",
        "plt.legend()\n",
        "plt.show()\n",
        "plt.savefig('AccVal_acc')"
      ],
      "metadata": {
        "id": "M_S_jaA_2ubl",
        "colab": {
          "base_uri": "https://localhost:8080/",
          "height": 282
        },
        "outputId": "1541382e-e47e-46fd-d29b-6830bfbb348b"
      },
      "execution_count": null,
      "outputs": [
        {
          "output_type": "display_data",
          "data": {
            "image/png": "[encoded data removed]",
            "text/plain": [
              "<Figure size 432x288 with 1 Axes>"
            ]
          },
          "metadata": {
            "needs_background": "light"
          }
        },
        {
          "output_type": "display_data",
          "data": {
            "text/plain": [
              "<Figure size 432x288 with 0 Axes>"
            ]
          },
          "metadata": {}
        }
      ]
    },
    {
      "cell_type": "code",
      "source": [
        "y_pred = model.predict(X_test_1d)"
      ],
      "metadata": {
        "id": "Gct8IuVa25GW"
      },
      "execution_count": null,
      "outputs": []
    },
    {
      "cell_type": "code",
      "source": [
        "# Calculate the accuracy\n",
        "test_preds = np.argmax(y_pred, axis=1)\n",
        "y_true = np.argmax(y_test_final, axis=1)\n",
        "test_acc = np.sum(test_preds == y_true)/y_true.shape[0]\n",
        "\n",
        "# Recall for each class\n",
        "recall_vals = []\n",
        "for i in range(3):\n",
        "    class_idx = np.argwhere(y_true==i)\n",
        "    total = len(class_idx)\n",
        "    correct = np.sum(test_preds[class_idx]==i)\n",
        "    recall = correct / total\n",
        "    recall_vals.append(recall)\n",
        "\n",
        "classes = [0,1, 2]\n",
        "# Calculate the test set accuracy and recall for each class\n",
        "print('Test set accuracy is {:.3f}'.format(test_acc))\n",
        "for i in range(3):\n",
        "    print('For class {}, recall is {:.3f}'.format(classes[i],recall_vals[i]))\n",
        "\n",
        "print(\"Accuracy is {:.3f}\".format(test_acc))\n",
        "# print(\"Weighted F score is {:.3f}\".format(calculate_weighted_f_score(y_true, y_pred)))"
      ],
      "metadata": {
        "id": "rk2qkycw25Gc",
        "colab": {
          "base_uri": "https://localhost:8080/"
        },
        "outputId": "68c84c53-c28b-4fa9-995e-795b66ff0981"
      },
      "execution_count": null,
      "outputs": [
        {
          "output_type": "stream",
          "name": "stdout",
          "text": [
            "Test set accuracy is 0.424\n",
            "For class 0, recall is 0.603\n",
            "For class 1, recall is 0.198\n",
            "For class 2, recall is 0.227\n",
            "Accuracy is 0.424\n"
          ]
        }
      ]
    },
    {
      "cell_type": "code",
      "source": [
        "from sklearn.metrics import confusion_matrix\n",
        "\n",
        "def plot_confusion_matrix(cm,\n",
        "                          target_names,\n",
        "                          title='Confusion matrix',\n",
        "                          cmap=None,\n",
        "                          normalize=True):\n",
        "    \"\"\"\n",
        "    given a sklearn confusion matrix (cm), make a nice plot\n",
        "\n",
        "    Arguments\n",
        "    ---------\n",
        "    cm:           confusion matrix from sklearn.metrics.confusion_matrix\n",
        "\n",
        "    target_names: given classification classes such as [0, 1, 2]\n",
        "                  the class names, for example: ['high', 'medium', 'low']\n",
        "\n",
        "    title:        the text to display at the top of the matrix\n",
        "\n",
        "    cmap:         the gradient of the values displayed from matplotlib.pyplot.cm\n",
        "                  see http://matplotlib.org/examples/color/colormaps_reference.html\n",
        "                  plt.get_cmap('jet') or plt.cm.Blues\n",
        "\n",
        "    normalize:    If False, plot the raw numbers\n",
        "                  If True, plot the proportions\n",
        "\n",
        "    Usage\n",
        "    -----\n",
        "    plot_confusion_matrix(cm           = cm,                  # confusion matrix created by\n",
        "                                                              # sklearn.metrics.confusion_matrix\n",
        "                          normalize    = True,                # show proportions\n",
        "                          target_names = y_labels_vals,       # list of names of the classes\n",
        "                          title        = best_estimator_name) # title of graph\n",
        "\n",
        "    Citiation\n",
        "    ---------\n",
        "    http://scikit-learn.org/stable/auto_examples/model_selection/plot_confusion_matrix.html\n",
        "\n",
        "    \"\"\"\n",
        "    import matplotlib.pyplot as plt\n",
        "    import numpy as np\n",
        "    import itertools\n",
        "\n",
        "    accuracy = np.trace(cm) / np.sum(cm).astype('float')\n",
        "    misclass = 1 - accuracy\n",
        "\n",
        "    if cmap is None:\n",
        "        cmap = plt.get_cmap('Blues')\n",
        "\n",
        "    plt.figure(figsize=(8, 6))\n",
        "    plt.imshow(cm, interpolation='nearest', cmap=cmap)\n",
        "    plt.title(title)\n",
        "    plt.colorbar()\n",
        "\n",
        "    if target_names is not None:\n",
        "        tick_marks = np.arange(len(target_names))\n",
        "        plt.xticks(tick_marks, target_names, rotation=45)\n",
        "        plt.yticks(tick_marks, target_names)\n",
        "\n",
        "    if normalize:\n",
        "        cm = cm.astype('float') / cm.sum(axis=1)[:, np.newaxis]\n",
        "\n",
        "\n",
        "    thresh = cm.max() / 1.5 if normalize else cm.max() / 2\n",
        "    for i, j in itertools.product(range(cm.shape[0]), range(cm.shape[1])):\n",
        "        if normalize:\n",
        "            plt.text(j, i, \"{:0.4f}\".format(cm[i, j]),\n",
        "                     horizontalalignment=\"center\",\n",
        "                     color=\"white\" if cm[i, j] > thresh else \"black\")\n",
        "        else:\n",
        "            plt.text(j, i, \"{:,}\".format(cm[i, j]),\n",
        "                     horizontalalignment=\"center\",\n",
        "                     color=\"white\" if cm[i, j] > thresh else \"black\")\n",
        "\n",
        "\n",
        "    plt.tight_layout()\n",
        "    plt.ylabel('True label')\n",
        "    plt.xlabel('Predicted label\\naccuracy={:0.4f}; misclass={:0.4f}'.format(accuracy, misclass))\n",
        "    plt.show()\n",
        "\n",
        "nb_classes = 3\n",
        "\n",
        "# Confusion matrix\n",
        "conf_mat=confusion_matrix(y_true, np.argmax(y_pred, axis=-1))\n",
        "plot_confusion_matrix(conf_mat, [0,1,2])\n",
        "\n",
        "from sklearn.metrics import precision_score\n",
        "\n",
        "precision_score(y_true, np.argmax(y_pred, axis=-1), average='weighted')\n",
        "\n",
        "from sklearn.metrics import classification_report\n",
        "\n",
        "print(classification_report(y_true, np.argmax(y_pred, axis=-1), target_names=[\"flat\", \"down\", \"up\"], digits=4))"
      ],
      "metadata": {
        "id": "coQSJfRo2uoe",
        "colab": {
          "base_uri": "https://localhost:8080/",
          "height": 641
        },
        "outputId": "7e3e6154-e6db-4cb6-aee6-bc7c006fe54f"
      },
      "execution_count": null,
      "outputs": [
        {
          "output_type": "display_data",
          "data": {
            "image/png": "[encoded data removed]",
            "text/plain": [
              "<Figure size 576x432 with 2 Axes>"
            ]
          },
          "metadata": {
            "needs_background": "light"
          }
        },
        {
          "output_type": "stream",
          "name": "stdout",
          "text": [
            "              precision    recall  f1-score   support\n",
            "\n",
            "        flat     0.5477    0.6034    0.5742       590\n",
            "        down     0.2525    0.1977    0.2217       258\n",
            "          up     0.2311    0.2273    0.2292       242\n",
            "\n",
            "    accuracy                         0.4239      1090\n",
            "   macro avg     0.3438    0.3428    0.3417      1090\n",
            "weighted avg     0.4075    0.4239    0.4142      1090\n",
            "\n"
          ]
        }
      ]
    },
    {
      "cell_type": "code",
      "source": [
        "def calculate_weighted_f_score(y_true, y_pred):\n",
        "  test_preds = np.argmax(y_pred, axis=-1)\n",
        "  Ntu = sum((test_preds == 2) & (y_true == 2))\n",
        "  Ntd = sum((test_preds == 1) & (y_true == 1))\n",
        "  Ntf = sum((test_preds == 0) & (y_true == 0))\n",
        "  Ewutd = sum((test_preds == 2) & (y_true == 1))\n",
        "  Ewdtu = sum((test_preds == 1) & (y_true == 2))\n",
        "  Ewutf = sum((test_preds == 2) & (y_true == 0))\n",
        "  Ewdtf = sum((test_preds == 1) & (y_true == 0))\n",
        "  Ewftu = sum((test_preds == 0) & (y_true == 2))\n",
        "  Ewftd = sum((test_preds == 0) & (y_true == 1))\n",
        "\n",
        "  beta_1 = 0.5\n",
        "  beta_2 = 0.125\n",
        "  beta_3 = 0.125\n",
        "\n",
        "  Ntp = Ntu + Ntd + beta_3**2 * Ntf\n",
        "  E1 = Ewutd + Ewdtu\n",
        "  E2 = Ewutf + Ewdtf\n",
        "  E3 = Ewftu + Ewftd\n",
        "\n",
        "  F = (1 + beta_1**2 + beta_2**2) * Ntp / ((1+beta_1**2+beta_2**2) * Ntp + E1 + beta_1**2 * E2 + beta_2**2 * E3)\n",
        "  return  F\n",
        "\n",
        "print(f'Weight CDT F Score: {calculate_weighted_f_score(y_true, y_pred)}')"
      ],
      "metadata": {
        "id": "F7n6lPZp2uvK",
        "colab": {
          "base_uri": "https://localhost:8080/"
        },
        "outputId": "cf31d9f7-6f72-48dc-d5df-b42e9cec5cb4"
      },
      "execution_count": null,
      "outputs": [
        {
          "output_type": "stream",
          "name": "stdout",
          "text": [
            "Weight CDT F Score: 0.4640187680724535\n"
          ]
        }
      ]
    },
    {
      "cell_type": "code",
      "source": [
        ""
      ],
      "metadata": {
        "id": "7v0QHbxx2uyQ"
      },
      "execution_count": null,
      "outputs": []
    },
    {
      "cell_type": "code",
      "source": [
        "print(X_train.shape[1],X_train.shape[2])"
      ],
      "metadata": {
        "colab": {
          "base_uri": "https://localhost:8080/"
        },
        "id": "9ytUuvub8xcJ",
        "outputId": "d7408444-1252-4153-95d4-1d7e14e813f6"
      },
      "execution_count": null,
      "outputs": [
        {
          "output_type": "stream",
          "name": "stdout",
          "text": [
            "5 24\n"
          ]
        }
      ]
    },
    {
      "cell_type": "code",
      "source": [
        "model = Sequential()\n",
        "model.add(Conv1D(filters=32, kernel_size=3, padding='same', activation='relu', input_shape=(X_train.shape[1],X_train.shape[2])))\n",
        "model.add(MaxPooling1D(pool_size=3, strides=4, padding='same'))\n",
        "model.add(Dropout(0.7))\n",
        "model.add(Conv1D(filters=64, kernel_size=3, padding='same', activation='relu'))\n",
        "model.add(MaxPooling1D(pool_size=3, strides=3, padding='same'))\n",
        "model.add(Dropout(0.7))\n",
        "model.add(Conv1D(filters=128, kernel_size=3, padding='same', activation='relu'))\n",
        "model.add(MaxPooling1D(pool_size=3, strides=2, padding='same'))\n",
        "model.add(Dropout(0.7))\n",
        "model.add(Flatten())\n",
        "model.add(Dense(1000,activation=\"relu\"))\n",
        "model.add(Dense(500,activation=\"relu\"))\n",
        "model.add(Dense(2,activation=\"softmax\"))\n",
        "model.summary()"
      ],
      "metadata": {
        "colab": {
          "base_uri": "https://localhost:8080/"
        },
        "id": "q50kVGG076-F",
        "outputId": "99b837fa-103d-4eee-dc58-98a42a0fdee3"
      },
      "execution_count": null,
      "outputs": [
        {
          "output_type": "stream",
          "name": "stdout",
          "text": [
            "Model: \"sequential_6\"\n",
            "_________________________________________________________________\n",
            " Layer (type)                Output Shape              Param #   \n",
            "=================================================================\n",
            " conv1d_18 (Conv1D)          (None, 5, 32)             2336      \n",
            "                                                                 \n",
            " max_pooling1d_18 (MaxPoolin  (None, 2, 32)            0         \n",
            " g1D)                                                            \n",
            "                                                                 \n",
            " dropout_18 (Dropout)        (None, 2, 32)             0         \n",
            "                                                                 \n",
            " conv1d_19 (Conv1D)          (None, 2, 64)             6208      \n",
            "                                                                 \n",
            " max_pooling1d_19 (MaxPoolin  (None, 1, 64)            0         \n",
            " g1D)                                                            \n",
            "                                                                 \n",
            " dropout_19 (Dropout)        (None, 1, 64)             0         \n",
            "                                                                 \n",
            " conv1d_20 (Conv1D)          (None, 1, 128)            24704     \n",
            "                                                                 \n",
            " max_pooling1d_20 (MaxPoolin  (None, 1, 128)           0         \n",
            " g1D)                                                            \n",
            "                                                                 \n",
            " dropout_20 (Dropout)        (None, 1, 128)            0         \n",
            "                                                                 \n",
            " flatten_6 (Flatten)         (None, 128)               0         \n",
            "                                                                 \n",
            " dense_16 (Dense)            (None, 1000)              129000    \n",
            "                                                                 \n",
            " dense_17 (Dense)            (None, 500)               500500    \n",
            "                                                                 \n",
            " dense_18 (Dense)            (None, 2)                 1002      \n",
            "                                                                 \n",
            "=================================================================\n",
            "Total params: 663,750\n",
            "Trainable params: 663,750\n",
            "Non-trainable params: 0\n",
            "_________________________________________________________________\n"
          ]
        }
      ]
    },
    {
      "cell_type": "code",
      "source": [
        "adam = Adam(learning_rate=0.001, decay=0.0001)\n",
        "nadam = Nadam(learning_rate=0.002, beta_1=0.9, beta_2=0.999, epsilon=1e-08, schedule_decay=0.004)\n",
        "\n",
        "def custom_loss_function(y_true, y_pred):\n",
        "   squared_difference = tf.square(y_true - y_pred)\n",
        "   return tf.reduce_mean(squared_difference, axis=-1)\n",
        "\n",
        "def calculate_weighted_f_score(y_true, y_pred):\n",
        "  test_preds = np.argmax(y_pred, axis=-1)\n",
        "  print(test_preds)\n",
        "  Ntu = sum((test_preds == 1) & (y_true == 1))\n",
        "  Ntd = sum((test_preds == 0) & (y_true == 0))\n",
        "  Ntf = sum((test_preds == 2) & (y_true == 2))\n",
        "  Ewutd = sum((test_preds == 1) & (y_true == 0))\n",
        "  Ewdtu = sum((test_preds == 0) & (y_true == 1))\n",
        "  Ewutf = sum((test_preds == 1) & (y_true == 2))\n",
        "  Ewdtf = sum((test_preds == 0) & (y_true == 2))\n",
        "  Ewftu = sum((test_preds == 2) & (y_true == 1))\n",
        "  Ewftd = sum((test_preds == 2) & (y_true == 0))\n",
        "\n",
        "  beta_1 = 0.5\n",
        "  beta_2 = 0.125\n",
        "  beta_3 = 0.125\n",
        "\n",
        "  Ntp = Ntu + Ntd + beta_3**2 * Ntf\n",
        "  E1 = Ewutd + Ewdtu\n",
        "  E2 = Ewutf + Ewdtf\n",
        "  E3 = Ewftu + Ewftd\n",
        "\n",
        "  F = (1 + beta_1**2 + beta_2**2) * Ntp / ((1+beta_1**2+beta_2**2) * Ntp + E1 + beta_1**2 * E2 + beta_2**2 * E3)\n",
        "  return  F\n",
        "\n",
        "prec = tf.keras.metrics.Precision()\n",
        "\n",
        "model.compile(loss='binary_crossentropy', optimizer=adam, metrics=[prec]) "
      ],
      "metadata": {
        "id": "vKDmE-h59Lv9"
      },
      "execution_count": null,
      "outputs": []
    },
    {
      "cell_type": "code",
      "source": [
        "batch_size = 12\n",
        "hist = model.fit(X_train, y_train, batch_size=batch_size, epochs=50, validation_data=(X_val, y_val)) #, class_weight={0:2, 1:3, 2:1})"
      ],
      "metadata": {
        "colab": {
          "base_uri": "https://localhost:8080/"
        },
        "id": "qK4V5UIa9ORe",
        "outputId": "8b6e9317-44ba-438e-aab9-e9ed3113f482"
      },
      "execution_count": null,
      "outputs": [
        {
          "output_type": "stream",
          "name": "stdout",
          "text": [
            "Epoch 1/50\n",
            "352/352 [==============================] - 3s 6ms/step - loss: 0.6739 - precision_7: 0.6014 - val_loss: 0.6729 - val_precision_7: 0.6007\n",
            "Epoch 2/50\n",
            "352/352 [==============================] - 2s 5ms/step - loss: 0.6746 - precision_7: 0.6019 - val_loss: 0.6747 - val_precision_7: 0.6007\n",
            "Epoch 3/50\n",
            "352/352 [==============================] - 2s 5ms/step - loss: 0.6734 - precision_7: 0.6019 - val_loss: 0.6727 - val_precision_7: 0.6007\n",
            "Epoch 4/50\n",
            "352/352 [==============================] - 2s 5ms/step - loss: 0.6727 - precision_7: 0.6019 - val_loss: 0.6751 - val_precision_7: 0.6007\n",
            "Epoch 5/50\n",
            "352/352 [==============================] - 2s 5ms/step - loss: 0.6733 - precision_7: 0.6019 - val_loss: 0.6727 - val_precision_7: 0.6007\n",
            "Epoch 6/50\n",
            "352/352 [==============================] - 2s 5ms/step - loss: 0.6730 - precision_7: 0.6019 - val_loss: 0.6728 - val_precision_7: 0.6007\n",
            "Epoch 7/50\n",
            "352/352 [==============================] - 2s 5ms/step - loss: 0.6728 - precision_7: 0.6019 - val_loss: 0.6728 - val_precision_7: 0.6007\n",
            "Epoch 8/50\n",
            "352/352 [==============================] - 2s 5ms/step - loss: 0.6726 - precision_7: 0.6019 - val_loss: 0.6737 - val_precision_7: 0.6007\n",
            "Epoch 9/50\n",
            "352/352 [==============================] - 2s 5ms/step - loss: 0.6728 - precision_7: 0.6019 - val_loss: 0.6728 - val_precision_7: 0.6007\n",
            "Epoch 10/50\n",
            "352/352 [==============================] - 2s 5ms/step - loss: 0.6729 - precision_7: 0.6019 - val_loss: 0.6728 - val_precision_7: 0.6007\n",
            "Epoch 11/50\n",
            "352/352 [==============================] - 2s 5ms/step - loss: 0.6732 - precision_7: 0.6019 - val_loss: 0.6734 - val_precision_7: 0.6007\n",
            "Epoch 12/50\n",
            "352/352 [==============================] - 2s 5ms/step - loss: 0.6726 - precision_7: 0.6019 - val_loss: 0.6728 - val_precision_7: 0.6007\n",
            "Epoch 13/50\n",
            "352/352 [==============================] - 2s 5ms/step - loss: 0.6725 - precision_7: 0.6019 - val_loss: 0.6729 - val_precision_7: 0.6007\n",
            "Epoch 14/50\n",
            "352/352 [==============================] - 2s 5ms/step - loss: 0.6726 - precision_7: 0.6019 - val_loss: 0.6730 - val_precision_7: 0.6007\n",
            "Epoch 15/50\n",
            "352/352 [==============================] - 2s 5ms/step - loss: 0.6725 - precision_7: 0.6019 - val_loss: 0.6730 - val_precision_7: 0.6007\n",
            "Epoch 16/50\n",
            "352/352 [==============================] - 2s 5ms/step - loss: 0.6726 - precision_7: 0.6019 - val_loss: 0.6727 - val_precision_7: 0.6007\n",
            "Epoch 17/50\n",
            "352/352 [==============================] - 2s 5ms/step - loss: 0.6728 - precision_7: 0.6019 - val_loss: 0.6727 - val_precision_7: 0.6007\n",
            "Epoch 18/50\n",
            "352/352 [==============================] - 2s 5ms/step - loss: 0.6726 - precision_7: 0.6019 - val_loss: 0.6727 - val_precision_7: 0.6007\n",
            "Epoch 19/50\n",
            "352/352 [==============================] - 2s 5ms/step - loss: 0.6725 - precision_7: 0.6017 - val_loss: 0.6731 - val_precision_7: 0.6007\n",
            "Epoch 20/50\n",
            "352/352 [==============================] - 2s 5ms/step - loss: 0.6726 - precision_7: 0.6019 - val_loss: 0.6730 - val_precision_7: 0.6007\n",
            "Epoch 21/50\n",
            "352/352 [==============================] - 2s 5ms/step - loss: 0.6727 - precision_7: 0.6019 - val_loss: 0.6730 - val_precision_7: 0.6007\n",
            "Epoch 22/50\n",
            "352/352 [==============================] - 2s 5ms/step - loss: 0.6727 - precision_7: 0.6019 - val_loss: 0.6728 - val_precision_7: 0.6007\n",
            "Epoch 23/50\n",
            "352/352 [==============================] - 2s 5ms/step - loss: 0.6726 - precision_7: 0.6019 - val_loss: 0.6728 - val_precision_7: 0.6007\n",
            "Epoch 24/50\n",
            "352/352 [==============================] - 2s 6ms/step - loss: 0.6726 - precision_7: 0.6019 - val_loss: 0.6729 - val_precision_7: 0.6007\n",
            "Epoch 25/50\n",
            "352/352 [==============================] - 2s 5ms/step - loss: 0.6725 - precision_7: 0.6019 - val_loss: 0.6730 - val_precision_7: 0.6007\n",
            "Epoch 26/50\n",
            "352/352 [==============================] - 2s 5ms/step - loss: 0.6726 - precision_7: 0.6019 - val_loss: 0.6728 - val_precision_7: 0.6007\n",
            "Epoch 27/50\n",
            "352/352 [==============================] - 2s 5ms/step - loss: 0.6726 - precision_7: 0.6019 - val_loss: 0.6729 - val_precision_7: 0.6007\n",
            "Epoch 28/50\n",
            "352/352 [==============================] - 2s 5ms/step - loss: 0.6725 - precision_7: 0.6019 - val_loss: 0.6727 - val_precision_7: 0.6007\n",
            "Epoch 29/50\n",
            "352/352 [==============================] - 2s 5ms/step - loss: 0.6725 - precision_7: 0.6019 - val_loss: 0.6727 - val_precision_7: 0.6007\n",
            "Epoch 30/50\n",
            "352/352 [==============================] - 2s 5ms/step - loss: 0.6725 - precision_7: 0.6019 - val_loss: 0.6728 - val_precision_7: 0.6007\n",
            "Epoch 31/50\n",
            "352/352 [==============================] - 2s 5ms/step - loss: 0.6725 - precision_7: 0.6019 - val_loss: 0.6728 - val_precision_7: 0.6007\n",
            "Epoch 32/50\n",
            "352/352 [==============================] - 2s 5ms/step - loss: 0.6723 - precision_7: 0.6019 - val_loss: 0.6729 - val_precision_7: 0.6007\n",
            "Epoch 33/50\n",
            "352/352 [==============================] - 2s 5ms/step - loss: 0.6724 - precision_7: 0.6026 - val_loss: 0.6727 - val_precision_7: 0.6007\n",
            "Epoch 34/50\n",
            "352/352 [==============================] - 2s 5ms/step - loss: 0.6725 - precision_7: 0.6017 - val_loss: 0.6728 - val_precision_7: 0.6007\n",
            "Epoch 35/50\n",
            "352/352 [==============================] - 2s 5ms/step - loss: 0.6724 - precision_7: 0.6019 - val_loss: 0.6729 - val_precision_7: 0.6007\n",
            "Epoch 36/50\n",
            "352/352 [==============================] - 2s 5ms/step - loss: 0.6724 - precision_7: 0.6019 - val_loss: 0.6728 - val_precision_7: 0.6007\n",
            "Epoch 37/50\n",
            "352/352 [==============================] - 2s 5ms/step - loss: 0.6727 - precision_7: 0.6019 - val_loss: 0.6727 - val_precision_7: 0.6007\n",
            "Epoch 38/50\n",
            "352/352 [==============================] - 2s 5ms/step - loss: 0.6725 - precision_7: 0.6019 - val_loss: 0.6727 - val_precision_7: 0.6007\n",
            "Epoch 39/50\n",
            "352/352 [==============================] - 2s 5ms/step - loss: 0.6725 - precision_7: 0.6019 - val_loss: 0.6727 - val_precision_7: 0.6007\n",
            "Epoch 40/50\n",
            "352/352 [==============================] - 2s 5ms/step - loss: 0.6724 - precision_7: 0.6019 - val_loss: 0.6728 - val_precision_7: 0.6007\n",
            "Epoch 41/50\n",
            "352/352 [==============================] - 2s 5ms/step - loss: 0.6725 - precision_7: 0.6019 - val_loss: 0.6728 - val_precision_7: 0.6007\n",
            "Epoch 42/50\n",
            "352/352 [==============================] - 2s 5ms/step - loss: 0.6725 - precision_7: 0.6019 - val_loss: 0.6727 - val_precision_7: 0.6007\n",
            "Epoch 43/50\n",
            "352/352 [==============================] - 2s 5ms/step - loss: 0.6724 - precision_7: 0.6019 - val_loss: 0.6728 - val_precision_7: 0.6007\n",
            "Epoch 44/50\n",
            "352/352 [==============================] - 2s 5ms/step - loss: 0.6724 - precision_7: 0.6019 - val_loss: 0.6727 - val_precision_7: 0.6007\n",
            "Epoch 45/50\n",
            "352/352 [==============================] - 2s 5ms/step - loss: 0.6727 - precision_7: 0.6014 - val_loss: 0.6728 - val_precision_7: 0.6007\n",
            "Epoch 46/50\n",
            "352/352 [==============================] - 2s 5ms/step - loss: 0.6722 - precision_7: 0.6019 - val_loss: 0.6728 - val_precision_7: 0.6007\n",
            "Epoch 47/50\n",
            "352/352 [==============================] - 2s 5ms/step - loss: 0.6724 - precision_7: 0.6017 - val_loss: 0.6727 - val_precision_7: 0.6007\n",
            "Epoch 48/50\n",
            "352/352 [==============================] - 2s 5ms/step - loss: 0.6725 - precision_7: 0.6019 - val_loss: 0.6728 - val_precision_7: 0.6007\n",
            "Epoch 49/50\n",
            "352/352 [==============================] - 2s 5ms/step - loss: 0.6724 - precision_7: 0.6017 - val_loss: 0.6727 - val_precision_7: 0.6007\n",
            "Epoch 50/50\n",
            "352/352 [==============================] - 2s 5ms/step - loss: 0.6724 - precision_7: 0.6009 - val_loss: 0.6738 - val_precision_7: 0.6007\n"
          ]
        }
      ]
    },
    {
      "cell_type": "code",
      "source": [
        "hist.history"
      ],
      "metadata": {
        "colab": {
          "base_uri": "https://localhost:8080/"
        },
        "id": "Nj9-LfyGhwZz",
        "outputId": "b3e8eb0b-0d48-4d9b-91af-3f1dc7360708"
      },
      "execution_count": null,
      "outputs": [
        {
          "output_type": "execute_result",
          "data": {
            "text/plain": [
              "{'loss': [0.6739199161529541,\n",
              "  0.6745873689651489,\n",
              "  0.673353374004364,\n",
              "  0.6727477312088013,\n",
              "  0.6732865571975708,\n",
              "  0.6729598045349121,\n",
              "  0.6728412508964539,\n",
              "  0.6726021766662598,\n",
              "  0.6728477478027344,\n",
              "  0.6728655695915222,\n",
              "  0.6732037663459778,\n",
              "  0.6726383566856384,\n",
              "  0.6725048422813416,\n",
              "  0.6726340055465698,\n",
              "  0.6724653244018555,\n",
              "  0.6726179718971252,\n",
              "  0.6727598905563354,\n",
              "  0.6725648641586304,\n",
              "  0.6725471615791321,\n",
              "  0.6725770235061646,\n",
              "  0.6726747155189514,\n",
              "  0.6726670861244202,\n",
              "  0.6725931167602539,\n",
              "  0.6725555658340454,\n",
              "  0.6725409030914307,\n",
              "  0.6725565195083618,\n",
              "  0.6725572943687439,\n",
              "  0.6725035905838013,\n",
              "  0.6724714040756226,\n",
              "  0.6725125908851624,\n",
              "  0.672520101070404,\n",
              "  0.6723334193229675,\n",
              "  0.6723588705062866,\n",
              "  0.6725103259086609,\n",
              "  0.6724315285682678,\n",
              "  0.6723941564559937,\n",
              "  0.672657310962677,\n",
              "  0.6724977493286133,\n",
              "  0.6724774241447449,\n",
              "  0.6724062561988831,\n",
              "  0.6724578142166138,\n",
              "  0.6725069880485535,\n",
              "  0.6724458336830139,\n",
              "  0.672408938407898,\n",
              "  0.672699511051178,\n",
              "  0.6722479462623596,\n",
              "  0.6723613739013672,\n",
              "  0.6724828481674194,\n",
              "  0.6723563075065613,\n",
              "  0.672439694404602],\n",
              " 'precision_7': [0.6014217734336853,\n",
              "  0.6018957495689392,\n",
              "  0.6018957495689392,\n",
              "  0.6018957495689392,\n",
              "  0.6018957495689392,\n",
              "  0.6018957495689392,\n",
              "  0.6018957495689392,\n",
              "  0.6018957495689392,\n",
              "  0.6018957495689392,\n",
              "  0.6018957495689392,\n",
              "  0.6018957495689392,\n",
              "  0.6018957495689392,\n",
              "  0.6018957495689392,\n",
              "  0.6018957495689392,\n",
              "  0.6018957495689392,\n",
              "  0.6018957495689392,\n",
              "  0.6018957495689392,\n",
              "  0.6018957495689392,\n",
              "  0.6016587615013123,\n",
              "  0.6018957495689392,\n",
              "  0.6018957495689392,\n",
              "  0.6018957495689392,\n",
              "  0.6018957495689392,\n",
              "  0.6018957495689392,\n",
              "  0.6018957495689392,\n",
              "  0.6018957495689392,\n",
              "  0.6018957495689392,\n",
              "  0.6018957495689392,\n",
              "  0.6018957495689392,\n",
              "  0.6018957495689392,\n",
              "  0.6018957495689392,\n",
              "  0.6018957495689392,\n",
              "  0.6026066541671753,\n",
              "  0.6016587615013123,\n",
              "  0.6018957495689392,\n",
              "  0.6018957495689392,\n",
              "  0.6018957495689392,\n",
              "  0.6018957495689392,\n",
              "  0.6018957495689392,\n",
              "  0.6018957495689392,\n",
              "  0.6018957495689392,\n",
              "  0.6018957495689392,\n",
              "  0.6018957495689392,\n",
              "  0.6018957495689392,\n",
              "  0.6014217734336853,\n",
              "  0.6018957495689392,\n",
              "  0.6016587615013123,\n",
              "  0.6018957495689392,\n",
              "  0.6016587615013123,\n",
              "  0.6009478569030762],\n",
              " 'val_loss': [0.6729004979133606,\n",
              "  0.6747092604637146,\n",
              "  0.6727417707443237,\n",
              "  0.6751312613487244,\n",
              "  0.6727463006973267,\n",
              "  0.672755241394043,\n",
              "  0.6727584600448608,\n",
              "  0.6737393736839294,\n",
              "  0.6728079319000244,\n",
              "  0.6728230714797974,\n",
              "  0.6733888387680054,\n",
              "  0.6727582812309265,\n",
              "  0.6729012131690979,\n",
              "  0.672968327999115,\n",
              "  0.6730093359947205,\n",
              "  0.6727268695831299,\n",
              "  0.6727235913276672,\n",
              "  0.672727644443512,\n",
              "  0.6730960011482239,\n",
              "  0.6729731559753418,\n",
              "  0.6729639172554016,\n",
              "  0.6727637052536011,\n",
              "  0.6727550029754639,\n",
              "  0.6728544235229492,\n",
              "  0.6729679107666016,\n",
              "  0.6727513670921326,\n",
              "  0.6728929877281189,\n",
              "  0.6727278828620911,\n",
              "  0.672716498374939,\n",
              "  0.672760546207428,\n",
              "  0.6728389263153076,\n",
              "  0.6729355454444885,\n",
              "  0.6727286577224731,\n",
              "  0.6727634072303772,\n",
              "  0.6728515028953552,\n",
              "  0.67275470495224,\n",
              "  0.6727381944656372,\n",
              "  0.6727297306060791,\n",
              "  0.6727380156517029,\n",
              "  0.672787606716156,\n",
              "  0.6727962493896484,\n",
              "  0.6727461218833923,\n",
              "  0.6727689504623413,\n",
              "  0.6727339029312134,\n",
              "  0.6727678775787354,\n",
              "  0.6728211045265198,\n",
              "  0.6727349162101746,\n",
              "  0.6727569699287415,\n",
              "  0.6727298498153687,\n",
              "  0.6737827062606812],\n",
              " 'val_precision_7': [0.6006993055343628,\n",
              "  0.6006993055343628,\n",
              "  0.6006993055343628,\n",
              "  0.6006993055343628,\n",
              "  0.6006993055343628,\n",
              "  0.6006993055343628,\n",
              "  0.6006993055343628,\n",
              "  0.6006993055343628,\n",
              "  0.6006993055343628,\n",
              "  0.6006993055343628,\n",
              "  0.6006993055343628,\n",
              "  0.6006993055343628,\n",
              "  0.6006993055343628,\n",
              "  0.6006993055343628,\n",
              "  0.6006993055343628,\n",
              "  0.6006993055343628,\n",
              "  0.6006993055343628,\n",
              "  0.6006993055343628,\n",
              "  0.6006993055343628,\n",
              "  0.6006993055343628,\n",
              "  0.6006993055343628,\n",
              "  0.6006993055343628,\n",
              "  0.6006993055343628,\n",
              "  0.6006993055343628,\n",
              "  0.6006993055343628,\n",
              "  0.6006993055343628,\n",
              "  0.6006993055343628,\n",
              "  0.6006993055343628,\n",
              "  0.6006993055343628,\n",
              "  0.6006993055343628,\n",
              "  0.6006993055343628,\n",
              "  0.6006993055343628,\n",
              "  0.6006993055343628,\n",
              "  0.6006993055343628,\n",
              "  0.6006993055343628,\n",
              "  0.6006993055343628,\n",
              "  0.6006993055343628,\n",
              "  0.6006993055343628,\n",
              "  0.6006993055343628,\n",
              "  0.6006993055343628,\n",
              "  0.6006993055343628,\n",
              "  0.6006993055343628,\n",
              "  0.6006993055343628,\n",
              "  0.6006993055343628,\n",
              "  0.6006993055343628,\n",
              "  0.6006993055343628,\n",
              "  0.6006993055343628,\n",
              "  0.6006993055343628,\n",
              "  0.6006993055343628,\n",
              "  0.6006993055343628]}"
            ]
          },
          "metadata": {},
          "execution_count": 207
        }
      ]
    },
    {
      "cell_type": "code",
      "source": [
        "plt.plot(hist.history['loss'], label='train loss')\n",
        "plt.plot(hist.history['val_loss'], label='val loss')\n",
        "plt.legend()\n",
        "plt.show()\n",
        "plt.savefig('LossVal_loss')"
      ],
      "metadata": {
        "colab": {
          "base_uri": "https://localhost:8080/",
          "height": 282
        },
        "id": "PP75W71D9ij8",
        "outputId": "93ecd498-1356-42bf-bd10-6db42c5d3c63"
      },
      "execution_count": null,
      "outputs": [
        {
          "output_type": "display_data",
          "data": {
            "image/png": "[encoded data removed]",
            "text/plain": [
              "<Figure size 432x288 with 1 Axes>"
            ]
          },
          "metadata": {
            "needs_background": "light"
          }
        },
        {
          "output_type": "display_data",
          "data": {
            "text/plain": [
              "<Figure size 432x288 with 0 Axes>"
            ]
          },
          "metadata": {}
        }
      ]
    },
    {
      "cell_type": "code",
      "source": [
        "plt.plot(hist.history['precision_7'], label='train acc')\n",
        "plt.plot(hist.history['val_precision_7'], label='val acc')\n",
        "plt.legend()\n",
        "plt.show()\n",
        "plt.savefig('AccVal_acc')"
      ],
      "metadata": {
        "colab": {
          "base_uri": "https://localhost:8080/",
          "height": 282
        },
        "id": "esQzOZTb9p48",
        "outputId": "8ac28837-c403-4d2a-ed6b-58803bd453b0"
      },
      "execution_count": null,
      "outputs": [
        {
          "output_type": "display_data",
          "data": {
            "image/png": "[encoded data removed]",
            "text/plain": [
              "<Figure size 432x288 with 1 Axes>"
            ]
          },
          "metadata": {
            "needs_background": "light"
          }
        },
        {
          "output_type": "display_data",
          "data": {
            "text/plain": [
              "<Figure size 432x288 with 0 Axes>"
            ]
          },
          "metadata": {}
        }
      ]
    },
    {
      "cell_type": "code",
      "source": [
        "y_pred = model.predict(X_test)"
      ],
      "metadata": {
        "id": "MNh51nKK9u15"
      },
      "execution_count": null,
      "outputs": []
    },
    {
      "cell_type": "code",
      "source": [
        "# Calculate the accuracy\n",
        "test_preds = np.argmax(y_pred, axis=1)\n",
        "y_true = np.argmax(y_test, axis=1)\n",
        "test_acc = np.sum(test_preds == y_true)/y_true.shape[0]\n",
        "\n",
        "# Recall for each class\n",
        "recall_vals = []\n",
        "for i in range(3):\n",
        "    class_idx = np.argwhere(y_true==i)\n",
        "    total = len(class_idx)\n",
        "    correct = np.sum(test_preds[class_idx]==i)\n",
        "    recall = correct / total\n",
        "    recall_vals.append(recall)\n",
        "\n",
        "classes = [0,1]\n",
        "# Calculate the test set accuracy and recall for each class\n",
        "print('Test set accuracy is {:.3f}'.format(test_acc))\n",
        "for i in range(2):\n",
        "    print('For class {}, recall is {:.3f}'.format(classes[i],recall_vals[i]))\n",
        "\n",
        "print(\"Weighted F score is {:.3f}\".format(test_acc))\n",
        "# print(\"Weighted F score is {:.3f}\".format(calculate_weighted_f_score(y_true, y_pred)))"
      ],
      "metadata": {
        "colab": {
          "base_uri": "https://localhost:8080/"
        },
        "id": "IuLzuden9xuZ",
        "outputId": "440cf5f8-14b0-4d88-ecc1-12a09fae9cb1"
      },
      "execution_count": null,
      "outputs": [
        {
          "output_type": "stream",
          "name": "stdout",
          "text": [
            "Test set accuracy is 0.608\n",
            "For class 0, recall is 1.000\n",
            "For class 1, recall is 0.000\n",
            "Weighted F score is 0.608\n"
          ]
        },
        {
          "output_type": "stream",
          "name": "stderr",
          "text": [
            "/usr/local/lib/python3.7/dist-packages/ipykernel_launcher.py:12: RuntimeWarning: invalid value encountered in long_scalars\n",
            "  if sys.path[0] == '':\n"
          ]
        }
      ]
    },
    {
      "cell_type": "markdown",
      "source": [
        "#Keras Model TCN Conv2D"
      ],
      "metadata": {
        "id": "L5x9jWH_L6nz"
      }
    },
    {
      "cell_type": "code",
      "source": [
        "from keras.models import Sequential\n",
        "from keras.layers.convolutional import Convolution2D\n",
        "from keras.layers.convolutional import MaxPooling2D\n",
        "from keras.layers.core import Flatten, Dense, Activation\n",
        "from keras.utils import np_utils\n",
        "from tensorflow.keras.layers import Conv2D, Flatten, MaxPooling2D, Dropout\n",
        "from tensorflow.keras.optimizers import Adam, Nadam\n"
      ],
      "metadata": {
        "id": "26CyV_XvOgVA"
      },
      "execution_count": null,
      "outputs": []
    },
    {
      "cell_type": "code",
      "source": [
        "#pip install keras-tcn\n",
        "from tcn import TCN"
      ],
      "metadata": {
        "id": "IVHy7Rav4JTl"
      },
      "execution_count": null,
      "outputs": []
    },
    {
      "cell_type": "code",
      "source": [
        "###### ONLY EXECUTE FOR KERAS 2D CNN #####\n",
        "\n",
        "X_train_2d = X_train.reshape(X_train.shape[0], \n",
        "                          X_train.shape[1], \n",
        "                          X_train.shape[2],\n",
        "                          1\n",
        "                          )\n",
        "X_val_2d = X_val.reshape(X_val.shape[0],\n",
        "                          X_val.shape[1], \n",
        "                          X_val.shape[2],\n",
        "                          1\n",
        "                          )\n",
        "X_test_2d = X_test.reshape(X_test.shape[0],\n",
        "                          X_test.shape[1], \n",
        "                          X_test.shape[2],\n",
        "                          1\n",
        "                          )"
      ],
      "metadata": {
        "id": "Hc2wmJbsL-lw"
      },
      "execution_count": null,
      "outputs": []
    },
    {
      "cell_type": "code",
      "source": [
        "from tensorflow.keras.utils import to_categorical\n",
        "\n",
        "y_train = to_categorical(y_train, 2)\n",
        "y_val = to_categorical(y_val, 2)\n",
        "y_test = to_categorical(y_test, 2)"
      ],
      "metadata": {
        "id": "DCG85tZ1L-xN"
      },
      "execution_count": null,
      "outputs": []
    },
    {
      "cell_type": "code",
      "source": [
        "print(f'X Train Length {X_train_2d.shape}, y Train Label Length {y_train.shape}')\n",
        "print(f'X Val Length {X_val_2d.shape}, y Val Label Length {y_val.shape}')\n",
        "print(f'X Test Length {X_test_2d.shape}, y Test Label Length {y_test.shape}')"
      ],
      "metadata": {
        "colab": {
          "base_uri": "https://localhost:8080/"
        },
        "id": "UeoTjcx5L-s5",
        "outputId": "91c0853e-e2ba-4ef9-86d6-96423f6e6ce0"
      },
      "execution_count": null,
      "outputs": [
        {
          "output_type": "stream",
          "name": "stdout",
          "text": [
            "X Train Length (4060, 5, 24, 1), y Train Label Length (4060, 2)\n",
            "X Val Length (1435, 5, 24, 1), y Val Label Length (1435, 2)\n",
            "X Test Length (1090, 5, 24, 1), y Test Label Length (1090, 2)\n"
          ]
        }
      ]
    },
    {
      "cell_type": "code",
      "source": [
        "# data_format='channels_first'\n",
        "#Create model\n",
        "model = Sequential()\n",
        "model.add(Convolution2D(filters=32, kernel_size=(1, 4), padding='same', activation='relu', input_shape=(X_train_2d.shape[1],X_train_2d.shape[2],X_train_2d.shape[3])))\n",
        "model.add(MaxPooling2D(pool_size=(1,4), strides=(1, 4), padding='same'))\n",
        "model.add(Dropout(0.7))\n",
        "model.add(TCN(return_sequences=False))\n",
        "# model.add(Convolution2D(filters=64, kernel_size=(1,3), padding='same', activation='relu'))\n",
        "# model.add(MaxPooling2D(pool_size=(1,3), strides=(1, 3), padding='same'))\n",
        "# model.add(Dropout(0.7))\n",
        "# model.add(Convolution2D(filters=128, kernel_size=(1,2), padding='same', activation='relu'))\n",
        "# model.add(MaxPooling2D(pool_size=(1,2), strides=(1,2), padding='same'))\n",
        "# model.add(Dropout(0.7))\n",
        "# model.add(Flatten())\n",
        "model.add(Dense(1000,activation=\"relu\"))\n",
        "model.add(Dense(500,activation=\"relu\"))\n",
        "model.add(Dense(3,activation=\"softmax\"))\n",
        "model.summary()"
      ],
      "metadata": {
        "colab": {
          "base_uri": "https://localhost:8080/",
          "height": 953
        },
        "id": "3-fjU2wxL-1j",
        "outputId": "89a28257-4ceb-4c6d-db4b-8ff4f2189eea"
      },
      "execution_count": null,
      "outputs": [
        {
          "output_type": "error",
          "ename": "ValueError",
          "evalue": "ignored",
          "traceback": [
            "\u001b[0;31m---------------------------------------------------------------------------\u001b[0m",
            "\u001b[0;31mValueError\u001b[0m                                Traceback (most recent call last)",
            "\u001b[0;32m<ipython-input-33-4363170dd088>\u001b[0m in \u001b[0;36m<module>\u001b[0;34m()\u001b[0m\n\u001b[1;32m      5\u001b[0m \u001b[0mmodel\u001b[0m\u001b[0;34m.\u001b[0m\u001b[0madd\u001b[0m\u001b[0;34m(\u001b[0m\u001b[0mMaxPooling2D\u001b[0m\u001b[0;34m(\u001b[0m\u001b[0mpool_size\u001b[0m\u001b[0;34m=\u001b[0m\u001b[0;34m(\u001b[0m\u001b[0;36m1\u001b[0m\u001b[0;34m,\u001b[0m\u001b[0;36m4\u001b[0m\u001b[0;34m)\u001b[0m\u001b[0;34m,\u001b[0m \u001b[0mstrides\u001b[0m\u001b[0;34m=\u001b[0m\u001b[0;34m(\u001b[0m\u001b[0;36m1\u001b[0m\u001b[0;34m,\u001b[0m \u001b[0;36m4\u001b[0m\u001b[0;34m)\u001b[0m\u001b[0;34m,\u001b[0m \u001b[0mpadding\u001b[0m\u001b[0;34m=\u001b[0m\u001b[0;34m'same'\u001b[0m\u001b[0;34m)\u001b[0m\u001b[0;34m)\u001b[0m\u001b[0;34m\u001b[0m\u001b[0;34m\u001b[0m\u001b[0m\n\u001b[1;32m      6\u001b[0m \u001b[0mmodel\u001b[0m\u001b[0;34m.\u001b[0m\u001b[0madd\u001b[0m\u001b[0;34m(\u001b[0m\u001b[0mDropout\u001b[0m\u001b[0;34m(\u001b[0m\u001b[0;36m0.7\u001b[0m\u001b[0;34m)\u001b[0m\u001b[0;34m)\u001b[0m\u001b[0;34m\u001b[0m\u001b[0;34m\u001b[0m\u001b[0m\n\u001b[0;32m----> 7\u001b[0;31m \u001b[0mmodel\u001b[0m\u001b[0;34m.\u001b[0m\u001b[0madd\u001b[0m\u001b[0;34m(\u001b[0m\u001b[0mTCN\u001b[0m\u001b[0;34m(\u001b[0m\u001b[0mreturn_sequences\u001b[0m\u001b[0;34m=\u001b[0m\u001b[0;32mFalse\u001b[0m\u001b[0;34m)\u001b[0m\u001b[0;34m)\u001b[0m\u001b[0;34m\u001b[0m\u001b[0;34m\u001b[0m\u001b[0m\n\u001b[0m\u001b[1;32m      8\u001b[0m \u001b[0;31m# model.add(Convolution2D(filters=64, kernel_size=(1,3), padding='same', activation='relu'))\u001b[0m\u001b[0;34m\u001b[0m\u001b[0;34m\u001b[0m\u001b[0;34m\u001b[0m\u001b[0m\n\u001b[1;32m      9\u001b[0m \u001b[0;31m# model.add(MaxPooling2D(pool_size=(1,3), strides=(1, 3), padding='same'))\u001b[0m\u001b[0;34m\u001b[0m\u001b[0;34m\u001b[0m\u001b[0;34m\u001b[0m\u001b[0m\n",
            "\u001b[0;32m/usr/local/lib/python3.7/dist-packages/tensorflow/python/training/tracking/base.py\u001b[0m in \u001b[0;36m_method_wrapper\u001b[0;34m(self, *args, **kwargs)\u001b[0m\n\u001b[1;32m    627\u001b[0m     \u001b[0mself\u001b[0m\u001b[0;34m.\u001b[0m\u001b[0m_self_setattr_tracking\u001b[0m \u001b[0;34m=\u001b[0m \u001b[0;32mFalse\u001b[0m  \u001b[0;31m# pylint: disable=protected-access\u001b[0m\u001b[0;34m\u001b[0m\u001b[0;34m\u001b[0m\u001b[0m\n\u001b[1;32m    628\u001b[0m     \u001b[0;32mtry\u001b[0m\u001b[0;34m:\u001b[0m\u001b[0;34m\u001b[0m\u001b[0;34m\u001b[0m\u001b[0m\n\u001b[0;32m--> 629\u001b[0;31m       \u001b[0mresult\u001b[0m \u001b[0;34m=\u001b[0m \u001b[0mmethod\u001b[0m\u001b[0;34m(\u001b[0m\u001b[0mself\u001b[0m\u001b[0;34m,\u001b[0m \u001b[0;34m*\u001b[0m\u001b[0margs\u001b[0m\u001b[0;34m,\u001b[0m \u001b[0;34m**\u001b[0m\u001b[0mkwargs\u001b[0m\u001b[0;34m)\u001b[0m\u001b[0;34m\u001b[0m\u001b[0;34m\u001b[0m\u001b[0m\n\u001b[0m\u001b[1;32m    630\u001b[0m     \u001b[0;32mfinally\u001b[0m\u001b[0;34m:\u001b[0m\u001b[0;34m\u001b[0m\u001b[0;34m\u001b[0m\u001b[0m\n\u001b[1;32m    631\u001b[0m       \u001b[0mself\u001b[0m\u001b[0;34m.\u001b[0m\u001b[0m_self_setattr_tracking\u001b[0m \u001b[0;34m=\u001b[0m \u001b[0mprevious_value\u001b[0m  \u001b[0;31m# pylint: disable=protected-access\u001b[0m\u001b[0;34m\u001b[0m\u001b[0;34m\u001b[0m\u001b[0m\n",
            "\u001b[0;32m/usr/local/lib/python3.7/dist-packages/keras/utils/traceback_utils.py\u001b[0m in \u001b[0;36merror_handler\u001b[0;34m(*args, **kwargs)\u001b[0m\n\u001b[1;32m     65\u001b[0m     \u001b[0;32mexcept\u001b[0m \u001b[0mException\u001b[0m \u001b[0;32mas\u001b[0m \u001b[0me\u001b[0m\u001b[0;34m:\u001b[0m  \u001b[0;31m# pylint: disable=broad-except\u001b[0m\u001b[0;34m\u001b[0m\u001b[0;34m\u001b[0m\u001b[0m\n\u001b[1;32m     66\u001b[0m       \u001b[0mfiltered_tb\u001b[0m \u001b[0;34m=\u001b[0m \u001b[0m_process_traceback_frames\u001b[0m\u001b[0;34m(\u001b[0m\u001b[0me\u001b[0m\u001b[0;34m.\u001b[0m\u001b[0m__traceback__\u001b[0m\u001b[0;34m)\u001b[0m\u001b[0;34m\u001b[0m\u001b[0;34m\u001b[0m\u001b[0m\n\u001b[0;32m---> 67\u001b[0;31m       \u001b[0;32mraise\u001b[0m \u001b[0me\u001b[0m\u001b[0;34m.\u001b[0m\u001b[0mwith_traceback\u001b[0m\u001b[0;34m(\u001b[0m\u001b[0mfiltered_tb\u001b[0m\u001b[0;34m)\u001b[0m \u001b[0;32mfrom\u001b[0m \u001b[0;32mNone\u001b[0m\u001b[0;34m\u001b[0m\u001b[0;34m\u001b[0m\u001b[0m\n\u001b[0m\u001b[1;32m     68\u001b[0m     \u001b[0;32mfinally\u001b[0m\u001b[0;34m:\u001b[0m\u001b[0;34m\u001b[0m\u001b[0;34m\u001b[0m\u001b[0m\n\u001b[1;32m     69\u001b[0m       \u001b[0;32mdel\u001b[0m \u001b[0mfiltered_tb\u001b[0m\u001b[0;34m\u001b[0m\u001b[0;34m\u001b[0m\u001b[0m\n",
            "\u001b[0;32m/usr/local/lib/python3.7/dist-packages/tensorflow/python/autograph/impl/api.py\u001b[0m in \u001b[0;36mwrapper\u001b[0;34m(*args, **kwargs)\u001b[0m\n\u001b[1;32m    690\u001b[0m       \u001b[0;32mexcept\u001b[0m \u001b[0mException\u001b[0m \u001b[0;32mas\u001b[0m \u001b[0me\u001b[0m\u001b[0;34m:\u001b[0m  \u001b[0;31m# pylint:disable=broad-except\u001b[0m\u001b[0;34m\u001b[0m\u001b[0;34m\u001b[0m\u001b[0m\n\u001b[1;32m    691\u001b[0m         \u001b[0;32mif\u001b[0m \u001b[0mhasattr\u001b[0m\u001b[0;34m(\u001b[0m\u001b[0me\u001b[0m\u001b[0;34m,\u001b[0m \u001b[0;34m'ag_error_metadata'\u001b[0m\u001b[0;34m)\u001b[0m\u001b[0;34m:\u001b[0m\u001b[0;34m\u001b[0m\u001b[0;34m\u001b[0m\u001b[0m\n\u001b[0;32m--> 692\u001b[0;31m           \u001b[0;32mraise\u001b[0m \u001b[0me\u001b[0m\u001b[0;34m.\u001b[0m\u001b[0mag_error_metadata\u001b[0m\u001b[0;34m.\u001b[0m\u001b[0mto_exception\u001b[0m\u001b[0;34m(\u001b[0m\u001b[0me\u001b[0m\u001b[0;34m)\u001b[0m\u001b[0;34m\u001b[0m\u001b[0;34m\u001b[0m\u001b[0m\n\u001b[0m\u001b[1;32m    693\u001b[0m         \u001b[0;32melse\u001b[0m\u001b[0;34m:\u001b[0m\u001b[0;34m\u001b[0m\u001b[0;34m\u001b[0m\u001b[0m\n\u001b[1;32m    694\u001b[0m           \u001b[0;32mraise\u001b[0m\u001b[0;34m\u001b[0m\u001b[0;34m\u001b[0m\u001b[0m\n",
            "\u001b[0;31mValueError\u001b[0m: Exception encountered when calling layer \"tcn\" (type TCN).\n\nin user code:\n\n    File \"/usr/local/lib/python3.7/dist-packages/tcn/tcn.py\", line 333, in call  *\n        x, skip_out = res_block(x, training=training)\n    File \"/usr/local/lib/python3.7/dist-packages/keras/utils/traceback_utils.py\", line 67, in error_handler  **\n        raise e.with_traceback(filtered_tb) from None\n\n    ValueError: Exception encountered when calling layer \"residual_block_0\" (type ResidualBlock).\n    \n    in user code:\n    \n        File \"/usr/local/lib/python3.7/dist-packages/tcn/tcn.py\", line 173, in call  *\n            x1 = layer(x1, training=training) if training_flag else layer(x1)\n        File \"/usr/local/lib/python3.7/dist-packages/keras/utils/traceback_utils.py\", line 67, in error_handler  **\n            raise e.with_traceback(filtered_tb) from None\n        File \"/usr/local/lib/python3.7/dist-packages/keras/engine/input_spec.py\", line 214, in assert_input_compatibility\n            raise ValueError(f'Input {input_index} of layer \"{layer_name}\" '\n    \n        ValueError: Input 0 of layer \"SDropout_0\" is incompatible with the layer: expected ndim=3, found ndim=4. Full shape received: (None, 5, 6, 64)\n    \n    \n    Call arguments received:\n      • inputs=tf.Tensor(shape=(None, 5, 6, 32), dtype=float32)\n      • training=False\n      • kwargs=<class 'inspect._empty'>\n\n\nCall arguments received:\n  • inputs=tf.Tensor(shape=(None, 5, 6, 32), dtype=float32)\n  • training=False\n  • kwargs=<class 'inspect._empty'>"
          ]
        }
      ]
    },
    {
      "cell_type": "code",
      "source": [
        "adam = Adam(learning_rate=0.001, decay=0.0001)\n",
        "nadam = Nadam(learning_rate=0.002, schedule_decay=0.004)\n",
        "\n",
        "model.compile(loss='categorical_crossentropy', optimizer=adam, metrics=[\"accuracy\"]) "
      ],
      "metadata": {
        "id": "I7rjbRGgQqKV"
      },
      "execution_count": null,
      "outputs": []
    },
    {
      "cell_type": "code",
      "source": [
        "batch_size = 12\n",
        "hist = model.fit(X_train_2d, y_train, batch_size=batch_size, epochs=350, validation_data=(X_val_2d, y_val)) #, class_weight={0:1, 1:1.5})"
      ],
      "metadata": {
        "colab": {
          "base_uri": "https://localhost:8080/"
        },
        "outputId": "1e3d2512-b612-4080-bb81-107e458dfa5e",
        "id": "nKnSxLyGQqKm"
      },
      "execution_count": null,
      "outputs": [
        {
          "output_type": "stream",
          "name": "stdout",
          "text": [
            "Epoch 1/350\n",
            "338/338 [==============================] - 9s 21ms/step - loss: 1.1181 - accuracy: 0.3988 - val_loss: 1.0789 - val_accuracy: 0.4210\n",
            "Epoch 2/350\n",
            "338/338 [==============================] - 7s 20ms/step - loss: 1.0796 - accuracy: 0.4197 - val_loss: 1.0738 - val_accuracy: 0.4189\n",
            "Epoch 3/350\n",
            "338/338 [==============================] - 7s 20ms/step - loss: 1.0775 - accuracy: 0.4229 - val_loss: 1.0732 - val_accuracy: 0.4182\n",
            "Epoch 4/350\n",
            "338/338 [==============================] - 7s 21ms/step - loss: 1.0739 - accuracy: 0.4266 - val_loss: 1.0721 - val_accuracy: 0.4189\n",
            "Epoch 5/350\n",
            "338/338 [==============================] - 8s 25ms/step - loss: 1.0715 - accuracy: 0.4252 - val_loss: 1.0666 - val_accuracy: 0.4175\n",
            "Epoch 6/350\n",
            "338/338 [==============================] - 7s 21ms/step - loss: 1.0744 - accuracy: 0.4192 - val_loss: 1.0659 - val_accuracy: 0.4203\n",
            "Epoch 7/350\n",
            " 39/338 [==>...........................] - ETA: 5s - loss: 1.0857 - accuracy: 0.4060"
          ]
        }
      ]
    },
    {
      "cell_type": "code",
      "source": [
        "plt.plot(hist.history['loss'], label='train loss')\n",
        "plt.plot(hist.history['val_loss'], label='val loss')\n",
        "plt.legend()\n",
        "plt.show()\n",
        "plt.savefig('LossVal_loss')"
      ],
      "metadata": {
        "id": "HaiFRJBaRXAV"
      },
      "execution_count": null,
      "outputs": []
    },
    {
      "cell_type": "code",
      "source": [
        "plt.plot(hist.history['accuracy'], label='train acc')\n",
        "plt.plot(hist.history['val_accuracy'], label='val acc')\n",
        "plt.legend()\n",
        "plt.show()\n",
        "plt.savefig('AccVal_acc')"
      ],
      "metadata": {
        "id": "2S1lgtOARXAW"
      },
      "execution_count": null,
      "outputs": []
    },
    {
      "cell_type": "code",
      "source": [
        "y_pred = model.predict(X_test_2d)"
      ],
      "metadata": {
        "id": "ylr2HaMKRXAX"
      },
      "execution_count": null,
      "outputs": []
    },
    {
      "cell_type": "code",
      "source": [
        "y_pred"
      ],
      "metadata": {
        "id": "FkTepZ32Ui5_"
      },
      "execution_count": null,
      "outputs": []
    },
    {
      "cell_type": "code",
      "source": [
        "# Calculate the accuracy\n",
        "test_preds = np.argmax(y_pred, axis=1)\n",
        "y_true = np.argmax(y_test, axis=1)\n",
        "test_acc = np.sum(test_preds == y_true)/y_true.shape[0]\n",
        "\n",
        "# Recall for each class\n",
        "recall_vals = []\n",
        "for i in range(3):\n",
        "    class_idx = np.argwhere(y_true==i)\n",
        "    total = len(class_idx)\n",
        "    correct = np.sum(test_preds[class_idx]==i)\n",
        "    recall = correct / total\n",
        "    recall_vals.append(recall)\n",
        "\n",
        "classes = [0,1,2]\n",
        "# Calculate the test set accuracy and recall for each class\n",
        "print('Test set accuracy is {:.3f}'.format(test_acc))\n",
        "for i in range(3):\n",
        "    print('For class {}, recall is {:.3f}'.format(classes[i],recall_vals[i]))\n",
        "\n",
        "print(\"Accuracy is {:.3f}\".format(test_acc))\n",
        "# print(\"Weighted F score is {:.3f}\".format(calculate_weighted_f_score(y_true, y_pred)))"
      ],
      "metadata": {
        "id": "84_JU0KURXAX"
      },
      "execution_count": null,
      "outputs": []
    },
    {
      "cell_type": "code",
      "source": [
        "from sklearn.metrics import confusion_matrix\n",
        "\n",
        "def plot_confusion_matrix(cm,\n",
        "                          target_names,\n",
        "                          title='Confusion matrix',\n",
        "                          cmap=None,\n",
        "                          normalize=True):\n",
        "    \"\"\"\n",
        "    given a sklearn confusion matrix (cm), make a nice plot\n",
        "\n",
        "    Arguments\n",
        "    ---------\n",
        "    cm:           confusion matrix from sklearn.metrics.confusion_matrix\n",
        "\n",
        "    target_names: given classification classes such as [0, 1, 2]\n",
        "                  the class names, for example: ['high', 'medium', 'low']\n",
        "\n",
        "    title:        the text to display at the top of the matrix\n",
        "\n",
        "    cmap:         the gradient of the values displayed from matplotlib.pyplot.cm\n",
        "                  see http://matplotlib.org/examples/color/colormaps_reference.html\n",
        "                  plt.get_cmap('jet') or plt.cm.Blues\n",
        "\n",
        "    normalize:    If False, plot the raw numbers\n",
        "                  If True, plot the proportions\n",
        "\n",
        "    Usage\n",
        "    -----\n",
        "    plot_confusion_matrix(cm           = cm,                  # confusion matrix created by\n",
        "                                                              # sklearn.metrics.confusion_matrix\n",
        "                          normalize    = True,                # show proportions\n",
        "                          target_names = y_labels_vals,       # list of names of the classes\n",
        "                          title        = best_estimator_name) # title of graph\n",
        "\n",
        "    Citiation\n",
        "    ---------\n",
        "    http://scikit-learn.org/stable/auto_examples/model_selection/plot_confusion_matrix.html\n",
        "\n",
        "    \"\"\"\n",
        "    import matplotlib.pyplot as plt\n",
        "    import numpy as np\n",
        "    import itertools\n",
        "\n",
        "    accuracy = np.trace(cm) / np.sum(cm).astype('float')\n",
        "    misclass = 1 - accuracy\n",
        "\n",
        "    if cmap is None:\n",
        "        cmap = plt.get_cmap('Blues')\n",
        "\n",
        "    plt.figure(figsize=(8, 6))\n",
        "    plt.imshow(cm, interpolation='nearest', cmap=cmap)\n",
        "    plt.title(title)\n",
        "    plt.colorbar()\n",
        "\n",
        "    if target_names is not None:\n",
        "        tick_marks = np.arange(len(target_names))\n",
        "        plt.xticks(tick_marks, target_names, rotation=45)\n",
        "        plt.yticks(tick_marks, target_names)\n",
        "\n",
        "    if normalize:\n",
        "        cm = cm.astype('float') / cm.sum(axis=1)[:, np.newaxis]\n",
        "\n",
        "\n",
        "    thresh = cm.max() / 1.5 if normalize else cm.max() / 2\n",
        "    for i, j in itertools.product(range(cm.shape[0]), range(cm.shape[1])):\n",
        "        if normalize:\n",
        "            plt.text(j, i, \"{:0.4f}\".format(cm[i, j]),\n",
        "                     horizontalalignment=\"center\",\n",
        "                     color=\"white\" if cm[i, j] > thresh else \"black\")\n",
        "        else:\n",
        "            plt.text(j, i, \"{:,}\".format(cm[i, j]),\n",
        "                     horizontalalignment=\"center\",\n",
        "                     color=\"white\" if cm[i, j] > thresh else \"black\")\n",
        "\n",
        "\n",
        "    plt.tight_layout()\n",
        "    plt.ylabel('True label')\n",
        "    plt.xlabel('Predicted label\\naccuracy={:0.4f}; misclass={:0.4f}'.format(accuracy, misclass))\n",
        "    plt.show()\n",
        "\n",
        "nb_classes = 3\n",
        "\n",
        "# Confusion matrix\n",
        "conf_mat=confusion_matrix(y_true, np.argmax(y_pred, axis=-1))\n",
        "plot_confusion_matrix(conf_mat, [\"flat\",\"down\",\"up\"])\n",
        "\n",
        "from sklearn.metrics import precision_score\n",
        "\n",
        "precision_score(y_true, np.argmax(y_pred, axis=-1), average='weighted')\n",
        "\n",
        "from sklearn.metrics import classification_report\n",
        "\n",
        "print(classification_report(y_true, np.argmax(y_pred, axis=-1), target_names=[\"flat\",\"down\", \"up\"], digits=4))"
      ],
      "metadata": {
        "id": "3SjFsSeFRXAX"
      },
      "execution_count": null,
      "outputs": []
    },
    {
      "cell_type": "code",
      "source": [
        "def calculate_weighted_f_score(y_true, y_pred):\n",
        "  test_preds = np.argmax(y_pred, axis=-1)\n",
        "  Ntu = sum((test_preds == 2) & (y_true == 2))\n",
        "  Ntd = sum((test_preds == 1) & (y_true == 1))\n",
        "  Ntf = sum((test_preds == 0) & (y_true == 0))\n",
        "  Ewutd = sum((test_preds == 2) & (y_true == 1))\n",
        "  Ewdtu = sum((test_preds == 1) & (y_true == 2))\n",
        "  Ewutf = sum((test_preds == 2) & (y_true == 0))\n",
        "  Ewdtf = sum((test_preds == 1) & (y_true == 0))\n",
        "  Ewftu = sum((test_preds == 0) & (y_true == 2))\n",
        "  Ewftd = sum((test_preds == 0) & (y_true == 1))\n",
        "\n",
        "  beta_1 = 0.5\n",
        "  beta_2 = 0.125\n",
        "  beta_3 = 0.125\n",
        "\n",
        "  Ntp = Ntu + Ntd + beta_3**2 * Ntf\n",
        "  E1 = Ewutd + Ewdtu\n",
        "  E2 = Ewutf + Ewdtf\n",
        "  E3 = Ewftu + Ewftd\n",
        "\n",
        "  F = (1 + beta_1**2 + beta_2**2) * Ntp / ((1+beta_1**2+beta_2**2) * Ntp + E1 + beta_1**2 * E2 + beta_2**2 * E3)\n",
        "  return  F\n",
        "\n",
        "print(f'Weight CDT F Score: {calculate_weighted_f_score(y_true, y_pred)}')"
      ],
      "metadata": {
        "id": "AIqC-zeNRXAY"
      },
      "execution_count": null,
      "outputs": []
    },
    {
      "cell_type": "markdown",
      "source": [
        "# Completely New Model Build"
      ],
      "metadata": {
        "id": "KHDKw2Fj3Q9Z"
      }
    },
    {
      "cell_type": "code",
      "source": [
        "from keras.models import Sequential\n",
        "from keras.layers import Dense\n",
        "from keras.layers import Flatten\n",
        "from keras.layers import Dropout\n",
        "from keras.layers.convolutional import Conv2D\n",
        "from keras.layers.convolutional import MaxPooling2D"
      ],
      "metadata": {
        "id": "uBUl4s7dF9ni"
      },
      "execution_count": null,
      "outputs": []
    },
    {
      "cell_type": "code",
      "source": [
        "model = Sequential()\n",
        "model.add(Conv2D(32, (1, 3), activation='relu', padding='same', input_shape=(X_train.shape[1], X_train.shape[2], X_train.shape[3])))\n",
        "model.add(MaxPooling2D((1, 4), strides=4))\n",
        "model.add(Dropout(0.7))\n",
        "model.add(Conv2D(64, (1, 3), activation='relu', padding='same',))\n",
        "model.add(MaxPooling2D((1, 3), strides=3))\n",
        "model.add(Dropout(0.7))\n",
        "model.add(Conv2D(128, (1, 3), activation='relu', padding='same',))\n",
        "model.add(MaxPooling2D((1, 2), strides=2))\n",
        "model.add(Dropout(0.7))\n",
        "\n",
        "model.add(Flatten())\n",
        "model.add(Dense(1000,activation=\"relu\"))\n",
        "model.add(Dense(500,activation=\"relu\"))\n",
        "model.add(Dense(3,activation=\"softmax\"))"
      ],
      "metadata": {
        "id": "hFN0cl_cSjwq"
      },
      "execution_count": null,
      "outputs": []
    },
    {
      "cell_type": "code",
      "source": [
        "model.summary()"
      ],
      "metadata": {
        "colab": {
          "base_uri": "https://localhost:8080/"
        },
        "id": "-KKO5LSUTB1v",
        "outputId": "f16f4296-8e3b-4f7b-b141-9a6623e31a22"
      },
      "execution_count": null,
      "outputs": [
        {
          "output_type": "stream",
          "name": "stdout",
          "text": [
            "Model: \"sequential_9\"\n",
            "_________________________________________________________________\n",
            " Layer (type)                Output Shape              Param #   \n",
            "=================================================================\n",
            " conv2d_22 (Conv2D)          (None, 5, 24, 32)         128       \n",
            "                                                                 \n",
            " max_pooling2d_22 (MaxPoolin  (None, 2, 6, 32)         0         \n",
            " g2D)                                                            \n",
            "                                                                 \n",
            " dropout_14 (Dropout)        (None, 2, 6, 32)          0         \n",
            "                                                                 \n",
            " conv2d_23 (Conv2D)          (None, 2, 6, 64)          6208      \n",
            "                                                                 \n",
            " max_pooling2d_23 (MaxPoolin  (None, 1, 2, 64)         0         \n",
            " g2D)                                                            \n",
            "                                                                 \n",
            " dropout_15 (Dropout)        (None, 1, 2, 64)          0         \n",
            "                                                                 \n",
            " conv2d_24 (Conv2D)          (None, 1, 2, 128)         24704     \n",
            "                                                                 \n",
            " max_pooling2d_24 (MaxPoolin  (None, 1, 1, 128)        0         \n",
            " g2D)                                                            \n",
            "                                                                 \n",
            " dropout_16 (Dropout)        (None, 1, 1, 128)         0         \n",
            "                                                                 \n",
            " flatten_3 (Flatten)         (None, 128)               0         \n",
            "                                                                 \n",
            " dense_8 (Dense)             (None, 1000)              129000    \n",
            "                                                                 \n",
            " dense_9 (Dense)             (None, 500)               500500    \n",
            "                                                                 \n",
            " dense_10 (Dense)            (None, 3)                 1503      \n",
            "                                                                 \n",
            "=================================================================\n",
            "Total params: 662,043\n",
            "Trainable params: 662,043\n",
            "Non-trainable params: 0\n",
            "_________________________________________________________________\n"
          ]
        }
      ]
    },
    {
      "cell_type": "code",
      "source": [
        "model.compile(loss='categorical_crossentropy',optimizer='adam',metrics=['accuracy']) "
      ],
      "metadata": {
        "id": "NRIZjV2-THkm"
      },
      "execution_count": null,
      "outputs": []
    },
    {
      "cell_type": "code",
      "source": [
        "batch_size = 12\n",
        "hist = model.fit(X_train, y_train, batch_size=batch_size, epochs=50, validation_data=(X_val, y_val))\n",
        "\n",
        "##### LABLES NEED TO BY 1x3 ARRAY"
      ],
      "metadata": {
        "colab": {
          "base_uri": "https://localhost:8080/"
        },
        "id": "2EDJJqlJUMHb",
        "outputId": "a214b6fc-c9d2-435d-9a02-b8a3db3829cf"
      },
      "execution_count": null,
      "outputs": [
        {
          "output_type": "stream",
          "name": "stdout",
          "text": [
            "Epoch 1/50\n",
            "352/352 [==============================] - 10s 5ms/step - loss: 1.1026 - accuracy: 0.3635 - val_loss: 1.0981 - val_accuracy: 0.3671\n",
            "Epoch 2/50\n",
            "352/352 [==============================] - 2s 5ms/step - loss: 1.0940 - accuracy: 0.3780 - val_loss: 1.0986 - val_accuracy: 0.3671\n",
            "Epoch 3/50\n",
            "352/352 [==============================] - 2s 5ms/step - loss: 1.0958 - accuracy: 0.3765 - val_loss: 1.0988 - val_accuracy: 0.3671\n",
            "Epoch 4/50\n",
            "352/352 [==============================] - 2s 5ms/step - loss: 1.0938 - accuracy: 0.3770 - val_loss: 1.0990 - val_accuracy: 0.3671\n"
          ]
        }
      ]
    },
    {
      "cell_type": "code",
      "source": [
        ""
      ],
      "metadata": {
        "id": "5S0IDmg7URVU"
      },
      "execution_count": null,
      "outputs": []
    }
  ]
}